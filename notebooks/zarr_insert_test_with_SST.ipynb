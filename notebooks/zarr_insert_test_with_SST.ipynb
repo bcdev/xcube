{
 "cells": [
  {
   "cell_type": "markdown",
   "metadata": {},
   "source": [
    "## Test Notebook for inserting time stamps not chronologically into a zarr file"
   ]
  },
  {
   "cell_type": "code",
   "execution_count": 1,
   "metadata": {},
   "outputs": [],
   "source": [
    "import xarray as xr\n",
    "import pandas as pd\n",
    "import numpy as np\n",
    "import zarr\n",
    "import os\n",
    "import shutil\n",
    "from shutil import copyfile\n",
    "import sys\n",
    "import json"
   ]
  },
  {
   "cell_type": "code",
   "execution_count": 2,
   "metadata": {},
   "outputs": [],
   "source": [
    "DATASET_PATH = \"/home/alicja/Desktop/DCS4COP/CMEMS_TEST/dcs4cop-bc-sst-sns-l2c-v1-2017.zarr\""
   ]
  },
  {
   "cell_type": "code",
   "execution_count": 3,
   "metadata": {},
   "outputs": [],
   "source": [
    "DATASET_SINGLE_PATH = \"/home/alicja/Desktop/DCS4COP/CMEMS_TEST/test_force_time_chron/dcs4cop-bc-sst-sns-l2c-v1-2017.zarr\""
   ]
  },
  {
   "cell_type": "code",
   "execution_count": 4,
   "metadata": {},
   "outputs": [],
   "source": [
    "def check_merge_or_append(src_path, dst_path):\n",
    "    print('Check merge or append')\n",
    "    \"\"\"Check whether the time stamp of the current input file is before or past the last time stamp of the created data cube\"\"\"\n",
    "    ds_single = xr.open_zarr(src_path)\n",
    "    ds = xr.open_zarr(dst_path)\n",
    "    if np.greater(ds_single.time, ds.time[-1]).all():\n",
    "        #append modus\n",
    "        print(\"Append modus is chosen.\")\n",
    "    else:\n",
    "        check_if_unique(src_path, dst_path)\n",
    "#         print(\"Merge modus is chosen.\")"
   ]
  },
  {
   "cell_type": "code",
   "execution_count": 5,
   "metadata": {},
   "outputs": [],
   "source": [
    "def check_if_unique(src_path, dst_path):\n",
    "    print('check unique')\n",
    "    \"\"\"Check if to be added time stamp is unique \"\"\"\n",
    "    ds_single = xr.open_zarr(src_path)\n",
    "    ds = xr.open_zarr(dst_path)\n",
    "    for src_idx in range(ds_single.time.shape[0]):\n",
    "        mask = np.equal(ds.time, ds_single.time[src_idx])\n",
    "        if not mask.all():\n",
    "            merge_single_zarr_into_destination_zarr(src_path, dst_path, src_idx)\n",
    "        else:\n",
    "            print(\"All timestamps to be merged are aleady in destination data set, and are skipped.\")\n",
    "        "
   ]
  },
  {
   "cell_type": "code",
   "execution_count": 6,
   "metadata": {},
   "outputs": [],
   "source": [
    "def rename_file(path_to_ds, old_index, new_time_i):\n",
    "    print('renaming file')\n",
    "    \"\"\"Renaming files within the directories according to new time index.\"\"\"\n",
    "    ds = xr.open_zarr(path_to_ds)\n",
    "    for v in ds.variables:\n",
    "        if (v != 'lat') and (v != 'lon'):\n",
    "            path = os.path.join(path_to_ds, v)\n",
    "            for root, dirs, files in os.walk(path):  \n",
    "                for filename in files:\n",
    "                    if (str(old_index)) in filename[0] and (v != \"time\"):\n",
    "                        parts = filename.split('.',1)\n",
    "                        new_name = (str(new_time_i) + '.{}').format(parts[1]) \n",
    "                        if new_name != path:\n",
    "                             os.rename(os.path.join(path, filename), os.path.join(path, new_name))\n",
    "                    elif (str(old_index)) in filename[0] and (v == \"time\"):\n",
    "                        if str(new_time_i) != path:\n",
    "                            os.rename(os.path.join(path, filename), os.path.join(path, str(new_time_i)))\n",
    "                "
   ]
  },
  {
   "cell_type": "code",
   "execution_count": 7,
   "metadata": {},
   "outputs": [],
   "source": [
    "def adjust_zarray(dst_path, variable):\n",
    "    print('adjusting zarray')\n",
    "    \"\"\"Changing the shape for time in the .zarray file.\"\"\"\n",
    "    with open((os.path.join(dst_path, variable, '.zarray')), 'r') as jsonFile:\n",
    "        data = json.load(jsonFile)\n",
    "    t_shape = data[\"shape\"]\n",
    "    data[\"shape\"][0] = t_shape[0] +1\n",
    "\n",
    "    with open((os.path.join(dst_path, variable, '.zarray')), 'w') as jsonFile:\n",
    "        json.dump(data, jsonFile, indent=4)     "
   ]
  },
  {
   "cell_type": "code",
   "execution_count": 8,
   "metadata": {},
   "outputs": [],
   "source": [
    "def copy_into_target(src_path, dst_path, src_index):\n",
    "    print('copy into target')\n",
    "    \"\"\"Copy the files with the new time stamp into the existing zarr directory.\"\"\"\n",
    "    ds = xr.open_zarr(src_path)\n",
    "    for v in ds.variables:\n",
    "        if (v != 'lat') and (v != 'lon') and (v != 'lat_bnds') and (v != 'lon_bnds'):\n",
    "            path = os.path.join(src_path, v)\n",
    "            for root, dirs, files in os.walk(path):  \n",
    "                for filename in files:\n",
    "                    if str(src_index) in filename[0]:\n",
    "                        copyfile((os.path.join(src_path, v, filename)), (os.path.join(dst_path, v,  filename)))\n",
    "            adjust_zarray(dst_path, v)             "
   ]
  },
  {
   "cell_type": "code",
   "execution_count": 9,
   "metadata": {},
   "outputs": [],
   "source": [
    "def merge_single_zarr_into_destination_zarr(src_path, dst_path, src_idx):\n",
    "    \"\"\"Merging the data for the new time stamp into the existing and remaining zarr directory.\"\"\"\n",
    "    ds_single = xr.open_zarr(src_path)\n",
    "    ds = xr.open_zarr(dst_path)\n",
    "    new_idx = np.amin(np.where((ds.time) >(ds_single.time[src_idx])))\n",
    "    ds.close()\n",
    "    ds_single.close()\n",
    "# Preparing the source directory with the single time stamp to be ready for merging \n",
    "# --> files of variables, excluding \"lat\" and \"lon\" need to be renamed\n",
    "    rename_file(src_path, src_idx, new_idx)\n",
    "# Preparing the destinanation directory to be ready for single time stam to be merged \n",
    "# --> files of variables, excluding \"lat\" and \"lon\" need to be renamed\n",
    "# The renaming needs to happen in reversed order and starting at the index of nearest above value:\n",
    "    for i in reversed(range(new_idx,ds.time.shape[0])):\n",
    "        rename_file(dst_path, i, (i +1))\n",
    "# Final step: copy the single time stamp files into the destination zarr and adjusting .zarray to the change. \n",
    "    copy_into_target(src_path, dst_path, new_idx)"
   ]
  },
  {
   "cell_type": "code",
   "execution_count": 10,
   "metadata": {},
   "outputs": [],
   "source": [
    "# ds = xr.open_zarr(DATASET_PATH)\n",
    "# ds_single = xr.open_zarr(DATASET_SINGLE_PATH)"
   ]
  },
  {
   "cell_type": "code",
   "execution_count": 11,
   "metadata": {},
   "outputs": [
    {
     "name": "stdout",
     "output_type": "stream",
     "text": [
      "CPU times: user 5 µs, sys: 0 ns, total: 5 µs\n",
      "Wall time: 12.6 µs\n",
      "Check merge or append\n",
      "check unique\n",
      "renaming file\n",
      "renaming file\n",
      "copy into target\n",
      "adjusting zarray\n",
      "adjusting zarray\n",
      "adjusting zarray\n"
     ]
    }
   ],
   "source": [
    "%time\n",
    "check_merge_or_append(DATASET_SINGLE_PATH,DATASET_PATH)"
   ]
  },
  {
   "cell_type": "markdown",
   "metadata": {},
   "source": [
    "-------------------------------------"
   ]
  }
 ],
 "metadata": {
  "kernelspec": {
   "display_name": "Python 3",
   "language": "python",
   "name": "python3"
  },
  "language_info": {
   "codemirror_mode": {
    "name": "ipython",
    "version": 3
   },
   "file_extension": ".py",
   "mimetype": "text/x-python",
   "name": "python",
   "nbconvert_exporter": "python",
   "pygments_lexer": "ipython3",
   "version": "3.7.3"
  }
 },
 "nbformat": 4,
 "nbformat_minor": 2
}

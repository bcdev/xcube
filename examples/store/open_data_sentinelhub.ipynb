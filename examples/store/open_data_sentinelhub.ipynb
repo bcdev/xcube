{
 "cells": [
  {
   "cell_type": "code",
   "execution_count": 2,
   "metadata": {},
   "outputs": [],
   "source": [
    "from xcube.core.store.store import find_data_store_extensions\n",
    "from xcube.core.store.store import get_data_store_params_schema\n",
    "from xcube.core.store.store import new_data_store\n",
    "from IPython.display import JSON"
   ]
  },
  {
   "cell_type": "markdown",
   "metadata": {},
   "source": [
    "Which data accessors are available?"
   ]
  },
  {
   "cell_type": "code",
   "execution_count": 3,
   "metadata": {},
   "outputs": [
    {
     "data": {
      "application/json": {
       "directory": {
        "description": "Directory data store"
       },
       "memory": {
        "description": "Memory data store"
       },
       "sentinelhub": {
        "description": "SENTINEL Hub Cloud API"
       }
      },
      "text/plain": [
       "<IPython.core.display.JSON object>"
      ]
     },
     "execution_count": 3,
     "metadata": {
      "application/json": {
       "expanded": false,
       "root": "root"
      }
     },
     "output_type": "execute_result"
    }
   ],
   "source": [
    "JSON({e.name: e.metadata for e in find_data_store_extensions()})"
   ]
  },
  {
   "cell_type": "markdown",
   "metadata": {},
   "source": [
    "Usually we need more information to get the actual data store object. Which data store parameters are available?"
   ]
  },
  {
   "cell_type": "code",
   "execution_count": 4,
   "metadata": {},
   "outputs": [
    {
     "data": {
      "application/json": {
       "additionalProperties": false,
       "properties": {
        "api_url": {
         "default": "https://services.sentinel-hub.com/api/v1",
         "type": "string"
        },
        "client_id": {
         "default": "a20363fd-6733-4924-b77c-910862ef246a",
         "type": "string"
        },
        "client_secret": {
         "default": "sjndIW0BPRhqQ3hcU8bE",
         "type": "string"
        },
        "enable_warnings": {
         "default": false,
         "type": "boolean"
        },
        "error_policy": {
         "default": "fail",
         "enum": [
          "fail",
          "warn",
          "ignore"
         ],
         "type": "string"
        },
        "instance_id": {
         "default": "42590b08-eeb4-4c54-af0c-c87f83d15b78",
         "type": [
          "string",
          "null"
         ]
        },
        "num_retries": {
         "default": 200,
         "minimum": 0,
         "type": "integer"
        },
        "oauth2_url": {
         "default": "https://services.sentinel-hub.com/oauth",
         "type": "string"
        },
        "retry_backoff_base": {
         "default": 1.001,
         "exclusiveMinimum": 1,
         "type": "number"
        },
        "retry_backoff_max": {
         "default": 40,
         "minimum": 0,
         "type": "integer"
        }
       },
       "type": "object"
      },
      "text/plain": [
       "<xcube.util.jsonschema.JsonObjectSchema at 0x23ab8100848>"
      ]
     },
     "execution_count": 4,
     "metadata": {},
     "output_type": "execute_result"
    }
   ],
   "source": [
    "get_data_store_params_schema('sentinelhub')"
   ]
  },
  {
   "cell_type": "markdown",
   "metadata": {},
   "source": [
    "Just provide mandatory parameters to instantiate the store class:"
   ]
  },
  {
   "cell_type": "code",
   "execution_count": 5,
   "metadata": {},
   "outputs": [
    {
     "data": {
      "text/plain": [
       "<xcube_sh.store.SentinelHubDataStore at 0x23ab810a308>"
      ]
     },
     "execution_count": 5,
     "metadata": {},
     "output_type": "execute_result"
    }
   ],
   "source": [
    "store = new_data_store('sentinelhub')\n",
    "store"
   ]
  },
  {
   "cell_type": "markdown",
   "metadata": {},
   "source": [
    "Which datasets are provided? (the list may contain both gridded and vector datasets):"
   ]
  },
  {
   "cell_type": "code",
   "execution_count": 6,
   "metadata": {},
   "outputs": [
    {
     "data": {
      "application/json": [
       "S1GRD",
       "S2L1C",
       "S2L2A",
       "S3OCLI",
       "S3SLSTR",
       "L8L1C"
      ],
      "text/plain": [
       "<IPython.core.display.JSON object>"
      ]
     },
     "execution_count": 6,
     "metadata": {
      "application/json": {
       "expanded": false,
       "root": "root"
      }
     },
     "output_type": "execute_result"
    }
   ],
   "source": [
    "JSON(list(store.get_data_ids()))"
   ]
  },
  {
   "cell_type": "markdown",
   "metadata": {},
   "source": [
    "Which in-memory data types are provided?\n",
    "\n",
    "- `dataset` --> `xarray.Dataset` (Gridded data, multi-resolution pyramid)\n",
    "- `mldataset` -->  `xcube.core.mlds.MultiLevelDataset`  (Gridded data, multi-resolution pyramid)\n",
    "- `geodataframe` --> `geopandas.GeoDataFrame` (Vector data) \n"
   ]
  },
  {
   "cell_type": "code",
   "execution_count": 7,
   "metadata": {},
   "outputs": [
    {
     "data": {
      "text/plain": [
       "('dataset',)"
      ]
     },
     "execution_count": 7,
     "metadata": {},
     "output_type": "execute_result"
    }
   ],
   "source": [
    "store.get_type_ids()"
   ]
  },
  {
   "cell_type": "markdown",
   "metadata": {},
   "source": [
    "Get more info about a dedicated dataset. This include a description of the possible open formats:"
   ]
  },
  {
   "cell_type": "code",
   "execution_count": 7,
   "metadata": {},
   "outputs": [
    {
     "data": {
      "application/json": {
       "data_id": "S2L2A",
       "data_vars": [
        {
         "dims": [
          "time",
          "lat",
          "lon"
         ],
         "dtype": "FLOAT32",
         "name": "B01",
         "ndim": 3
        },
        {
         "dims": [
          "time",
          "lat",
          "lon"
         ],
         "dtype": "FLOAT32",
         "name": "B02",
         "ndim": 3
        },
        {
         "dims": [
          "time",
          "lat",
          "lon"
         ],
         "dtype": "FLOAT32",
         "name": "B03",
         "ndim": 3
        },
        {
         "dims": [
          "time",
          "lat",
          "lon"
         ],
         "dtype": "FLOAT32",
         "name": "B04",
         "ndim": 3
        },
        {
         "dims": [
          "time",
          "lat",
          "lon"
         ],
         "dtype": "FLOAT32",
         "name": "B05",
         "ndim": 3
        },
        {
         "dims": [
          "time",
          "lat",
          "lon"
         ],
         "dtype": "FLOAT32",
         "name": "B06",
         "ndim": 3
        },
        {
         "dims": [
          "time",
          "lat",
          "lon"
         ],
         "dtype": "FLOAT32",
         "name": "B07",
         "ndim": 3
        },
        {
         "dims": [
          "time",
          "lat",
          "lon"
         ],
         "dtype": "FLOAT32",
         "name": "B08",
         "ndim": 3
        },
        {
         "dims": [
          "time",
          "lat",
          "lon"
         ],
         "dtype": "FLOAT32",
         "name": "B8A",
         "ndim": 3
        },
        {
         "dims": [
          "time",
          "lat",
          "lon"
         ],
         "dtype": "FLOAT32",
         "name": "B09",
         "ndim": 3
        },
        {
         "dims": [
          "time",
          "lat",
          "lon"
         ],
         "dtype": "FLOAT32",
         "name": "B10",
         "ndim": 3
        },
        {
         "dims": [
          "time",
          "lat",
          "lon"
         ],
         "dtype": "FLOAT32",
         "name": "B11",
         "ndim": 3
        },
        {
         "dims": [
          "time",
          "lat",
          "lon"
         ],
         "dtype": "FLOAT32",
         "name": "B12",
         "ndim": 3
        },
        {
         "dims": [
          "time",
          "lat",
          "lon"
         ],
         "dtype": "FLOAT32",
         "name": "viewZenithMean",
         "ndim": 3
        },
        {
         "dims": [
          "time",
          "lat",
          "lon"
         ],
         "dtype": "FLOAT32",
         "name": "viewAzimuthMean",
         "ndim": 3
        },
        {
         "dims": [
          "time",
          "lat",
          "lon"
         ],
         "dtype": "FLOAT32",
         "name": "sunZenithAngles",
         "ndim": 3
        },
        {
         "dims": [
          "time",
          "lat",
          "lon"
         ],
         "dtype": "FLOAT32",
         "name": "sunAzimuthAngles",
         "ndim": 3
        },
        {
         "dims": [
          "time",
          "lat",
          "lon"
         ],
         "dtype": "FLOAT32",
         "name": "AOT",
         "ndim": 3
        },
        {
         "dims": [
          "time",
          "lat",
          "lon"
         ],
         "dtype": "FLOAT32",
         "name": "SCL",
         "ndim": 3
        },
        {
         "dims": [
          "time",
          "lat",
          "lon"
         ],
         "dtype": "FLOAT32",
         "name": "SNW",
         "ndim": 3
        },
        {
         "dims": [
          "time",
          "lat",
          "lon"
         ],
         "dtype": "FLOAT32",
         "name": "CLD",
         "ndim": 3
        }
       ],
       "type_id": "dataset"
      },
      "text/plain": [
       "<xcube.core.store.descriptor.DatasetDescriptor at 0x1e4ef31bc48>"
      ]
     },
     "execution_count": 7,
     "metadata": {},
     "output_type": "execute_result"
    }
   ],
   "source": [
    "store.describe_data('S2L2A')"
   ]
  },
  {
   "cell_type": "markdown",
   "metadata": {},
   "source": [
    "Which parameters must I pass or are available to open the dataset?"
   ]
  },
  {
   "cell_type": "code",
   "execution_count": 8,
   "metadata": {},
   "outputs": [
    {
     "data": {
      "application/json": {
       "additionalProperties": false,
       "properties": {
        "band_names": {
         "items": {
          "enum": [
           "B01",
           "B02",
           "B03",
           "B04",
           "B05",
           "B06",
           "B07",
           "B08",
           "B8A",
           "B09",
           "B10",
           "B11",
           "B12",
           "viewZenithMean",
           "viewAzimuthMean",
           "sunZenithAngles",
           "sunAzimuthAngles",
           "AOT",
           "SCL",
           "SNW",
           "CLD"
          ],
          "type": "string"
         },
         "type": "array"
        },
        "band_sample_types": {
         "type": "array"
        },
        "band_units": {
         "type": "array"
        },
        "collection_id": {
         "type": "string"
        },
        "crs": {
         "default": "http://www.opengis.net/def/crs/EPSG/0/4326",
         "type": "string"
        },
        "dataset_name": {
         "minLength": 1,
         "type": "string"
        },
        "four_d": {
         "default": false,
         "type": "boolean"
        },
        "geometry": {
         "items": [
          {
           "type": "number"
          },
          {
           "type": "number"
          },
          {
           "type": "number"
          },
          {
           "type": "number"
          }
         ],
         "type": "array"
        },
        "max_cache_size": {
         "minimum": 0,
         "type": "integer"
        },
        "spatial_res": {
         "exclusiveMinimum": 0,
         "type": "number"
        },
        "tile_size": {
         "default": [
          1000,
          1000
         ],
         "items": [
          {
           "default": 1000,
           "maximum": 2500,
           "minimum": 1,
           "type": "number"
          },
          {
           "default": 1000,
           "maximum": 2500,
           "minimum": 1,
           "type": "number"
          }
         ],
         "type": "array"
        },
        "time_period": {
         "default": "1D",
         "type": "string"
        },
        "time_range": {
         "items": [
          {
           "format": "date-time",
           "type": "string"
          },
          {
           "format": "date-time",
           "type": "string"
          }
         ],
         "type": "array"
        },
        "time_tolerance": {
         "default": "10M",
         "type": "string"
        }
       },
       "required": [
        "spatial_res",
        "time_range",
        "geometry",
        "band_names"
       ],
       "type": "object"
      },
      "text/plain": [
       "<xcube.util.jsonschema.JsonObjectSchema at 0x1e4ef32e508>"
      ]
     },
     "execution_count": 8,
     "metadata": {},
     "output_type": "execute_result"
    }
   ],
   "source": [
    "store.get_open_data_params_schema('S2L2A')"
   ]
  },
  {
   "cell_type": "markdown",
   "metadata": {},
   "source": [
    "There are 4 required parameters, so we need to provide them to open a dataset:"
   ]
  },
  {
   "cell_type": "code",
   "execution_count": 9,
   "metadata": {},
   "outputs": [
    {
     "data": {
      "text/html": [
       "<div><svg style=\"position: absolute; width: 0; height: 0; overflow: hidden\">\n",
       "<defs>\n",
       "<symbol id=\"icon-database\" viewBox=\"0 0 32 32\">\n",
       "<title>Show/Hide data repr</title>\n",
       "<path d=\"M16 0c-8.837 0-16 2.239-16 5v4c0 2.761 7.163 5 16 5s16-2.239 16-5v-4c0-2.761-7.163-5-16-5z\"></path>\n",
       "<path d=\"M16 17c-8.837 0-16-2.239-16-5v6c0 2.761 7.163 5 16 5s16-2.239 16-5v-6c0 2.761-7.163 5-16 5z\"></path>\n",
       "<path d=\"M16 26c-8.837 0-16-2.239-16-5v6c0 2.761 7.163 5 16 5s16-2.239 16-5v-6c0 2.761-7.163 5-16 5z\"></path>\n",
       "</symbol>\n",
       "<symbol id=\"icon-file-text2\" viewBox=\"0 0 32 32\">\n",
       "<title>Show/Hide attributes</title>\n",
       "<path d=\"M28.681 7.159c-0.694-0.947-1.662-2.053-2.724-3.116s-2.169-2.030-3.116-2.724c-1.612-1.182-2.393-1.319-2.841-1.319h-15.5c-1.378 0-2.5 1.121-2.5 2.5v27c0 1.378 1.122 2.5 2.5 2.5h23c1.378 0 2.5-1.122 2.5-2.5v-19.5c0-0.448-0.137-1.23-1.319-2.841zM24.543 5.457c0.959 0.959 1.712 1.825 2.268 2.543h-4.811v-4.811c0.718 0.556 1.584 1.309 2.543 2.268zM28 29.5c0 0.271-0.229 0.5-0.5 0.5h-23c-0.271 0-0.5-0.229-0.5-0.5v-27c0-0.271 0.229-0.5 0.5-0.5 0 0 15.499-0 15.5 0v7c0 0.552 0.448 1 1 1h7v19.5z\"></path>\n",
       "<path d=\"M23 26h-14c-0.552 0-1-0.448-1-1s0.448-1 1-1h14c0.552 0 1 0.448 1 1s-0.448 1-1 1z\"></path>\n",
       "<path d=\"M23 22h-14c-0.552 0-1-0.448-1-1s0.448-1 1-1h14c0.552 0 1 0.448 1 1s-0.448 1-1 1z\"></path>\n",
       "<path d=\"M23 18h-14c-0.552 0-1-0.448-1-1s0.448-1 1-1h14c0.552 0 1 0.448 1 1s-0.448 1-1 1z\"></path>\n",
       "</symbol>\n",
       "</defs>\n",
       "</svg>\n",
       "<style>/* CSS stylesheet for displaying xarray objects in jupyterlab.\n",
       " *\n",
       " */\n",
       "\n",
       ":root {\n",
       "  --xr-font-color0: var(--jp-content-font-color0, rgba(0, 0, 0, 1));\n",
       "  --xr-font-color2: var(--jp-content-font-color2, rgba(0, 0, 0, 0.54));\n",
       "  --xr-font-color3: var(--jp-content-font-color3, rgba(0, 0, 0, 0.38));\n",
       "  --xr-border-color: var(--jp-border-color2, #e0e0e0);\n",
       "  --xr-disabled-color: var(--jp-layout-color3, #bdbdbd);\n",
       "  --xr-background-color: var(--jp-layout-color0, white);\n",
       "  --xr-background-color-row-even: var(--jp-layout-color1, white);\n",
       "  --xr-background-color-row-odd: var(--jp-layout-color2, #eeeeee);\n",
       "}\n",
       "\n",
       ".xr-wrap {\n",
       "  min-width: 300px;\n",
       "  max-width: 700px;\n",
       "}\n",
       "\n",
       ".xr-header {\n",
       "  padding-top: 6px;\n",
       "  padding-bottom: 6px;\n",
       "  margin-bottom: 4px;\n",
       "  border-bottom: solid 1px var(--xr-border-color);\n",
       "}\n",
       "\n",
       ".xr-header > div,\n",
       ".xr-header > ul {\n",
       "  display: inline;\n",
       "  margin-top: 0;\n",
       "  margin-bottom: 0;\n",
       "}\n",
       "\n",
       ".xr-obj-type,\n",
       ".xr-array-name {\n",
       "  margin-left: 2px;\n",
       "  margin-right: 10px;\n",
       "}\n",
       "\n",
       ".xr-obj-type {\n",
       "  color: var(--xr-font-color2);\n",
       "}\n",
       "\n",
       ".xr-sections {\n",
       "  padding-left: 0 !important;\n",
       "  display: grid;\n",
       "  grid-template-columns: 150px auto auto 1fr 20px 20px;\n",
       "}\n",
       "\n",
       ".xr-section-item {\n",
       "  display: contents;\n",
       "}\n",
       "\n",
       ".xr-section-item input {\n",
       "  display: none;\n",
       "}\n",
       "\n",
       ".xr-section-item input + label {\n",
       "  color: var(--xr-disabled-color);\n",
       "}\n",
       "\n",
       ".xr-section-item input:enabled + label {\n",
       "  cursor: pointer;\n",
       "  color: var(--xr-font-color2);\n",
       "}\n",
       "\n",
       ".xr-section-item input:enabled + label:hover {\n",
       "  color: var(--xr-font-color0);\n",
       "}\n",
       "\n",
       ".xr-section-summary {\n",
       "  grid-column: 1;\n",
       "  color: var(--xr-font-color2);\n",
       "  font-weight: 500;\n",
       "}\n",
       "\n",
       ".xr-section-summary > span {\n",
       "  display: inline-block;\n",
       "  padding-left: 0.5em;\n",
       "}\n",
       "\n",
       ".xr-section-summary-in:disabled + label {\n",
       "  color: var(--xr-font-color2);\n",
       "}\n",
       "\n",
       ".xr-section-summary-in + label:before {\n",
       "  display: inline-block;\n",
       "  content: '►';\n",
       "  font-size: 11px;\n",
       "  width: 15px;\n",
       "  text-align: center;\n",
       "}\n",
       "\n",
       ".xr-section-summary-in:disabled + label:before {\n",
       "  color: var(--xr-disabled-color);\n",
       "}\n",
       "\n",
       ".xr-section-summary-in:checked + label:before {\n",
       "  content: '▼';\n",
       "}\n",
       "\n",
       ".xr-section-summary-in:checked + label > span {\n",
       "  display: none;\n",
       "}\n",
       "\n",
       ".xr-section-summary,\n",
       ".xr-section-inline-details {\n",
       "  padding-top: 4px;\n",
       "  padding-bottom: 4px;\n",
       "}\n",
       "\n",
       ".xr-section-inline-details {\n",
       "  grid-column: 2 / -1;\n",
       "}\n",
       "\n",
       ".xr-section-details {\n",
       "  display: none;\n",
       "  grid-column: 1 / -1;\n",
       "  margin-bottom: 5px;\n",
       "}\n",
       "\n",
       ".xr-section-summary-in:checked ~ .xr-section-details {\n",
       "  display: contents;\n",
       "}\n",
       "\n",
       ".xr-array-wrap {\n",
       "  grid-column: 1 / -1;\n",
       "  display: grid;\n",
       "  grid-template-columns: 20px auto;\n",
       "}\n",
       "\n",
       ".xr-array-wrap > label {\n",
       "  grid-column: 1;\n",
       "  vertical-align: top;\n",
       "}\n",
       "\n",
       ".xr-preview {\n",
       "  color: var(--xr-font-color3);\n",
       "}\n",
       "\n",
       ".xr-array-preview,\n",
       ".xr-array-data {\n",
       "  padding: 0 5px !important;\n",
       "  grid-column: 2;\n",
       "}\n",
       "\n",
       ".xr-array-data,\n",
       ".xr-array-in:checked ~ .xr-array-preview {\n",
       "  display: none;\n",
       "}\n",
       "\n",
       ".xr-array-in:checked ~ .xr-array-data,\n",
       ".xr-array-preview {\n",
       "  display: inline-block;\n",
       "}\n",
       "\n",
       ".xr-dim-list {\n",
       "  display: inline-block !important;\n",
       "  list-style: none;\n",
       "  padding: 0 !important;\n",
       "  margin: 0;\n",
       "}\n",
       "\n",
       ".xr-dim-list li {\n",
       "  display: inline-block;\n",
       "  padding: 0;\n",
       "  margin: 0;\n",
       "}\n",
       "\n",
       ".xr-dim-list:before {\n",
       "  content: '(';\n",
       "}\n",
       "\n",
       ".xr-dim-list:after {\n",
       "  content: ')';\n",
       "}\n",
       "\n",
       ".xr-dim-list li:not(:last-child):after {\n",
       "  content: ',';\n",
       "  padding-right: 5px;\n",
       "}\n",
       "\n",
       ".xr-has-index {\n",
       "  font-weight: bold;\n",
       "}\n",
       "\n",
       ".xr-var-list,\n",
       ".xr-var-item {\n",
       "  display: contents;\n",
       "}\n",
       "\n",
       ".xr-var-item > div,\n",
       ".xr-var-item label,\n",
       ".xr-var-item > .xr-var-name span {\n",
       "  background-color: var(--xr-background-color-row-even);\n",
       "  margin-bottom: 0;\n",
       "}\n",
       "\n",
       ".xr-var-item > .xr-var-name:hover span {\n",
       "  padding-right: 5px;\n",
       "}\n",
       "\n",
       ".xr-var-list > li:nth-child(odd) > div,\n",
       ".xr-var-list > li:nth-child(odd) > label,\n",
       ".xr-var-list > li:nth-child(odd) > .xr-var-name span {\n",
       "  background-color: var(--xr-background-color-row-odd);\n",
       "}\n",
       "\n",
       ".xr-var-name {\n",
       "  grid-column: 1;\n",
       "}\n",
       "\n",
       ".xr-var-dims {\n",
       "  grid-column: 2;\n",
       "}\n",
       "\n",
       ".xr-var-dtype {\n",
       "  grid-column: 3;\n",
       "  text-align: right;\n",
       "  color: var(--xr-font-color2);\n",
       "}\n",
       "\n",
       ".xr-var-preview {\n",
       "  grid-column: 4;\n",
       "}\n",
       "\n",
       ".xr-var-name,\n",
       ".xr-var-dims,\n",
       ".xr-var-dtype,\n",
       ".xr-preview,\n",
       ".xr-attrs dt {\n",
       "  white-space: nowrap;\n",
       "  overflow: hidden;\n",
       "  text-overflow: ellipsis;\n",
       "  padding-right: 10px;\n",
       "}\n",
       "\n",
       ".xr-var-name:hover,\n",
       ".xr-var-dims:hover,\n",
       ".xr-var-dtype:hover,\n",
       ".xr-attrs dt:hover {\n",
       "  overflow: visible;\n",
       "  width: auto;\n",
       "  z-index: 1;\n",
       "}\n",
       "\n",
       ".xr-var-attrs,\n",
       ".xr-var-data {\n",
       "  display: none;\n",
       "  background-color: var(--xr-background-color) !important;\n",
       "  padding-bottom: 5px !important;\n",
       "}\n",
       "\n",
       ".xr-var-attrs-in:checked ~ .xr-var-attrs,\n",
       ".xr-var-data-in:checked ~ .xr-var-data {\n",
       "  display: block;\n",
       "}\n",
       "\n",
       ".xr-var-data > table {\n",
       "  float: right;\n",
       "}\n",
       "\n",
       ".xr-var-name span,\n",
       ".xr-var-data,\n",
       ".xr-attrs {\n",
       "  padding-left: 25px !important;\n",
       "}\n",
       "\n",
       ".xr-attrs,\n",
       ".xr-var-attrs,\n",
       ".xr-var-data {\n",
       "  grid-column: 1 / -1;\n",
       "}\n",
       "\n",
       "dl.xr-attrs {\n",
       "  padding: 0;\n",
       "  margin: 0;\n",
       "  display: grid;\n",
       "  grid-template-columns: 125px auto;\n",
       "}\n",
       "\n",
       ".xr-attrs dt, dd {\n",
       "  padding: 0;\n",
       "  margin: 0;\n",
       "  float: left;\n",
       "  padding-right: 10px;\n",
       "  width: auto;\n",
       "}\n",
       "\n",
       ".xr-attrs dt {\n",
       "  font-weight: normal;\n",
       "  grid-column: 1;\n",
       "}\n",
       "\n",
       ".xr-attrs dt:hover span {\n",
       "  display: inline-block;\n",
       "  background: var(--xr-background-color);\n",
       "  padding-right: 10px;\n",
       "}\n",
       "\n",
       ".xr-attrs dd {\n",
       "  grid-column: 2;\n",
       "  white-space: pre-wrap;\n",
       "  word-break: break-all;\n",
       "}\n",
       "\n",
       ".xr-icon-database,\n",
       ".xr-icon-file-text2 {\n",
       "  display: inline-block;\n",
       "  vertical-align: middle;\n",
       "  width: 1em;\n",
       "  height: 1.5em !important;\n",
       "  stroke-width: 0;\n",
       "  stroke: currentColor;\n",
       "  fill: currentColor;\n",
       "}\n",
       "</style><div class='xr-wrap'><div class='xr-header'><div class='xr-obj-type'>xarray.Dataset</div></div><ul class='xr-sections'><li class='xr-section-item'><input id='section-33cd3c6e-c522-43a0-b384-06b055d55859' class='xr-section-summary-in' type='checkbox' disabled ><label for='section-33cd3c6e-c522-43a0-b384-06b055d55859' class='xr-section-summary'  title='Expand/collapse section'>Dimensions:</label><div class='xr-section-inline-details'><ul class='xr-dim-list'><li><span>bnds</span>: 2</li><li><span class='xr-has-index'>lat</span>: 600</li><li><span class='xr-has-index'>lon</span>: 600</li><li><span class='xr-has-index'>time</span>: 10</li></ul></div><div class='xr-section-details'></div></li><li class='xr-section-item'><input id='section-61b3eb43-4e69-44a5-aa9e-6020f32c373a' class='xr-section-summary-in' type='checkbox'  checked><label for='section-61b3eb43-4e69-44a5-aa9e-6020f32c373a' class='xr-section-summary' >Coordinates: <span>(4)</span></label><div class='xr-section-inline-details'></div><div class='xr-section-details'><ul class='xr-var-list'><li class='xr-var-item'><div class='xr-var-name'><span class='xr-has-index'>lat</span></div><div class='xr-var-dims'>(lat)</div><div class='xr-var-dtype'>float64</div><div class='xr-var-preview xr-preview'>55.0 54.99 54.99 ... 52.01 52.0</div><input id='attrs-9ef86b74-f47f-4023-8150-6334311a7501' class='xr-var-attrs-in' type='checkbox' ><label for='attrs-9ef86b74-f47f-4023-8150-6334311a7501' title='Show/Hide attributes'><svg class='icon xr-icon-file-text2'><use xlink:href='#icon-file-text2'></use></svg></label><input id='data-c2c37143-25fb-400c-aa3d-b1d2b6862f5b' class='xr-var-data-in' type='checkbox'><label for='data-c2c37143-25fb-400c-aa3d-b1d2b6862f5b' title='Show/Hide data repr'><svg class='icon xr-icon-database'><use xlink:href='#icon-database'></use></svg></label><div class='xr-var-attrs'><dl class='xr-attrs'><dt><span>units :</span></dt><dd>decimal_degrees</dd><dt><span>long_name :</span></dt><dd>longitude</dd><dt><span>standard_name :</span></dt><dd>latitude</dd></dl></div><pre class='xr-var-data'>array([54.9975, 54.9925, 54.9875, ..., 52.0125, 52.0075, 52.0025])</pre></li><li class='xr-var-item'><div class='xr-var-name'><span class='xr-has-index'>lon</span></div><div class='xr-var-dims'>(lon)</div><div class='xr-var-dtype'>float64</div><div class='xr-var-preview xr-preview'>11.0 11.01 11.01 ... 13.99 14.0</div><input id='attrs-46ca96b7-9b6c-493c-afab-79988b6b56e1' class='xr-var-attrs-in' type='checkbox' ><label for='attrs-46ca96b7-9b6c-493c-afab-79988b6b56e1' title='Show/Hide attributes'><svg class='icon xr-icon-file-text2'><use xlink:href='#icon-file-text2'></use></svg></label><input id='data-a39e133e-052f-4cb4-a817-33a0394dacad' class='xr-var-data-in' type='checkbox'><label for='data-a39e133e-052f-4cb4-a817-33a0394dacad' title='Show/Hide data repr'><svg class='icon xr-icon-database'><use xlink:href='#icon-database'></use></svg></label><div class='xr-var-attrs'><dl class='xr-attrs'><dt><span>units :</span></dt><dd>decimal_degrees</dd><dt><span>long_name :</span></dt><dd>longitude</dd><dt><span>standard_name :</span></dt><dd>longitude</dd></dl></div><pre class='xr-var-data'>array([11.0025, 11.0075, 11.0125, ..., 13.9875, 13.9925, 13.9975])</pre></li><li class='xr-var-item'><div class='xr-var-name'><span class='xr-has-index'>time</span></div><div class='xr-var-dims'>(time)</div><div class='xr-var-dtype'>datetime64[ns]</div><div class='xr-var-preview xr-preview'>2019-05-01T12:00:00 ... 2019-05-10T12:00:00</div><input id='attrs-f1079772-1015-489d-bbbb-f6cc20d0a5ac' class='xr-var-attrs-in' type='checkbox' ><label for='attrs-f1079772-1015-489d-bbbb-f6cc20d0a5ac' title='Show/Hide attributes'><svg class='icon xr-icon-file-text2'><use xlink:href='#icon-file-text2'></use></svg></label><input id='data-5cafe97b-99a1-40c8-a9ee-07fc4c83739c' class='xr-var-data-in' type='checkbox'><label for='data-5cafe97b-99a1-40c8-a9ee-07fc4c83739c' title='Show/Hide data repr'><svg class='icon xr-icon-database'><use xlink:href='#icon-database'></use></svg></label><div class='xr-var-attrs'><dl class='xr-attrs'><dt><span>standard_name :</span></dt><dd>time</dd><dt><span>bounds :</span></dt><dd>time_bnds</dd></dl></div><pre class='xr-var-data'>array([&#x27;2019-05-01T12:00:00.000000000&#x27;, &#x27;2019-05-02T12:00:00.000000000&#x27;,\n",
       "       &#x27;2019-05-03T12:00:00.000000000&#x27;, &#x27;2019-05-04T12:00:00.000000000&#x27;,\n",
       "       &#x27;2019-05-05T12:00:00.000000000&#x27;, &#x27;2019-05-06T12:00:00.000000000&#x27;,\n",
       "       &#x27;2019-05-07T12:00:00.000000000&#x27;, &#x27;2019-05-08T12:00:00.000000000&#x27;,\n",
       "       &#x27;2019-05-09T12:00:00.000000000&#x27;, &#x27;2019-05-10T12:00:00.000000000&#x27;],\n",
       "      dtype=&#x27;datetime64[ns]&#x27;)</pre></li><li class='xr-var-item'><div class='xr-var-name'><span>time_bnds</span></div><div class='xr-var-dims'>(time, bnds)</div><div class='xr-var-dtype'>datetime64[ns]</div><div class='xr-var-preview xr-preview'>dask.array&lt;chunksize=(10, 2), meta=np.ndarray&gt;</div><input id='attrs-935aa4a8-f866-4d6c-a9ed-05457421c861' class='xr-var-attrs-in' type='checkbox' ><label for='attrs-935aa4a8-f866-4d6c-a9ed-05457421c861' title='Show/Hide attributes'><svg class='icon xr-icon-file-text2'><use xlink:href='#icon-file-text2'></use></svg></label><input id='data-7c9c9d88-1c0a-462d-bd33-0f91191f6fdb' class='xr-var-data-in' type='checkbox'><label for='data-7c9c9d88-1c0a-462d-bd33-0f91191f6fdb' title='Show/Hide data repr'><svg class='icon xr-icon-database'><use xlink:href='#icon-database'></use></svg></label><div class='xr-var-attrs'><dl class='xr-attrs'><dt><span>standard_name :</span></dt><dd>time</dd></dl></div><pre class='xr-var-data'><table>\n",
       "<tr>\n",
       "<td>\n",
       "<table>\n",
       "  <thead>\n",
       "    <tr><td> </td><th> Array </th><th> Chunk </th></tr>\n",
       "  </thead>\n",
       "  <tbody>\n",
       "    <tr><th> Bytes </th><td> 160 B </td> <td> 160 B </td></tr>\n",
       "    <tr><th> Shape </th><td> (10, 2) </td> <td> (10, 2) </td></tr>\n",
       "    <tr><th> Count </th><td> 2 Tasks </td><td> 1 Chunks </td></tr>\n",
       "    <tr><th> Type </th><td> datetime64[ns] </td><td> numpy.ndarray </td></tr>\n",
       "  </tbody>\n",
       "</table>\n",
       "</td>\n",
       "<td>\n",
       "<svg width=\"92\" height=\"170\" style=\"stroke:rgb(0,0,0);stroke-width:1\" >\n",
       "\n",
       "  <!-- Horizontal lines -->\n",
       "  <line x1=\"0\" y1=\"0\" x2=\"42\" y2=\"0\" style=\"stroke-width:2\" />\n",
       "  <line x1=\"0\" y1=\"120\" x2=\"42\" y2=\"120\" style=\"stroke-width:2\" />\n",
       "\n",
       "  <!-- Vertical lines -->\n",
       "  <line x1=\"0\" y1=\"0\" x2=\"0\" y2=\"120\" style=\"stroke-width:2\" />\n",
       "  <line x1=\"42\" y1=\"0\" x2=\"42\" y2=\"120\" style=\"stroke-width:2\" />\n",
       "\n",
       "  <!-- Colored Rectangle -->\n",
       "  <polygon points=\"0.000000,0.000000 42.009890,0.000000 42.009890,120.000000 0.000000,120.000000\" style=\"fill:#ECB172A0;stroke-width:0\"/>\n",
       "\n",
       "  <!-- Text -->\n",
       "  <text x=\"21.004945\" y=\"140.000000\" font-size=\"1.0rem\" font-weight=\"100\" text-anchor=\"middle\" >2</text>\n",
       "  <text x=\"62.009890\" y=\"60.000000\" font-size=\"1.0rem\" font-weight=\"100\" text-anchor=\"middle\" transform=\"rotate(0,62.009890,60.000000)\">10</text>\n",
       "</svg>\n",
       "</td>\n",
       "</tr>\n",
       "</table></pre></li></ul></div></li><li class='xr-section-item'><input id='section-374b03cc-55e0-4670-a355-1ab704ab901c' class='xr-section-summary-in' type='checkbox'  checked><label for='section-374b03cc-55e0-4670-a355-1ab704ab901c' class='xr-section-summary' >Data variables: <span>(3)</span></label><div class='xr-section-inline-details'></div><div class='xr-section-details'><ul class='xr-var-list'><li class='xr-var-item'><div class='xr-var-name'><span>B01</span></div><div class='xr-var-dims'>(time, lat, lon)</div><div class='xr-var-dtype'>float32</div><div class='xr-var-preview xr-preview'>dask.array&lt;chunksize=(1, 600, 600), meta=np.ndarray&gt;</div><input id='attrs-dd986ca5-8322-4e27-a54d-fb16abf13e32' class='xr-var-attrs-in' type='checkbox' ><label for='attrs-dd986ca5-8322-4e27-a54d-fb16abf13e32' title='Show/Hide attributes'><svg class='icon xr-icon-file-text2'><use xlink:href='#icon-file-text2'></use></svg></label><input id='data-edd674d9-530f-4851-875d-d3ac8f104cbe' class='xr-var-data-in' type='checkbox'><label for='data-edd674d9-530f-4851-875d-d3ac8f104cbe' title='Show/Hide data repr'><svg class='icon xr-icon-database'><use xlink:href='#icon-database'></use></svg></label><div class='xr-var-attrs'><dl class='xr-attrs'><dt><span>sample_type :</span></dt><dd>FLOAT32</dd><dt><span>units :</span></dt><dd>reflectance</dd><dt><span>wavelength :</span></dt><dd>442.7</dd><dt><span>bandwith :</span></dt><dd>21</dd><dt><span>resolution :</span></dt><dd>60</dd></dl></div><pre class='xr-var-data'><table>\n",
       "<tr>\n",
       "<td>\n",
       "<table>\n",
       "  <thead>\n",
       "    <tr><td> </td><th> Array </th><th> Chunk </th></tr>\n",
       "  </thead>\n",
       "  <tbody>\n",
       "    <tr><th> Bytes </th><td> 14.40 MB </td> <td> 1.44 MB </td></tr>\n",
       "    <tr><th> Shape </th><td> (10, 600, 600) </td> <td> (1, 600, 600) </td></tr>\n",
       "    <tr><th> Count </th><td> 11 Tasks </td><td> 10 Chunks </td></tr>\n",
       "    <tr><th> Type </th><td> float32 </td><td> numpy.ndarray </td></tr>\n",
       "  </tbody>\n",
       "</table>\n",
       "</td>\n",
       "<td>\n",
       "<svg width=\"196\" height=\"186\" style=\"stroke:rgb(0,0,0);stroke-width:1\" >\n",
       "\n",
       "  <!-- Horizontal lines -->\n",
       "  <line x1=\"10\" y1=\"0\" x2=\"26\" y2=\"16\" style=\"stroke-width:2\" />\n",
       "  <line x1=\"10\" y1=\"120\" x2=\"26\" y2=\"136\" style=\"stroke-width:2\" />\n",
       "\n",
       "  <!-- Vertical lines -->\n",
       "  <line x1=\"10\" y1=\"0\" x2=\"10\" y2=\"120\" style=\"stroke-width:2\" />\n",
       "  <line x1=\"11\" y1=\"1\" x2=\"11\" y2=\"121\" />\n",
       "  <line x1=\"13\" y1=\"3\" x2=\"13\" y2=\"123\" />\n",
       "  <line x1=\"14\" y1=\"4\" x2=\"14\" y2=\"124\" />\n",
       "  <line x1=\"16\" y1=\"6\" x2=\"16\" y2=\"126\" />\n",
       "  <line x1=\"18\" y1=\"8\" x2=\"18\" y2=\"128\" />\n",
       "  <line x1=\"19\" y1=\"9\" x2=\"19\" y2=\"129\" />\n",
       "  <line x1=\"21\" y1=\"11\" x2=\"21\" y2=\"131\" />\n",
       "  <line x1=\"23\" y1=\"13\" x2=\"23\" y2=\"133\" />\n",
       "  <line x1=\"24\" y1=\"14\" x2=\"24\" y2=\"134\" />\n",
       "  <line x1=\"26\" y1=\"16\" x2=\"26\" y2=\"136\" style=\"stroke-width:2\" />\n",
       "\n",
       "  <!-- Colored Rectangle -->\n",
       "  <polygon points=\"10.000000,0.000000 26.484081,16.484081 26.484081,136.484081 10.000000,120.000000\" style=\"fill:#ECB172A0;stroke-width:0\"/>\n",
       "\n",
       "  <!-- Horizontal lines -->\n",
       "  <line x1=\"10\" y1=\"0\" x2=\"130\" y2=\"0\" style=\"stroke-width:2\" />\n",
       "  <line x1=\"11\" y1=\"1\" x2=\"131\" y2=\"1\" />\n",
       "  <line x1=\"13\" y1=\"3\" x2=\"133\" y2=\"3\" />\n",
       "  <line x1=\"14\" y1=\"4\" x2=\"134\" y2=\"4\" />\n",
       "  <line x1=\"16\" y1=\"6\" x2=\"136\" y2=\"6\" />\n",
       "  <line x1=\"18\" y1=\"8\" x2=\"138\" y2=\"8\" />\n",
       "  <line x1=\"19\" y1=\"9\" x2=\"139\" y2=\"9\" />\n",
       "  <line x1=\"21\" y1=\"11\" x2=\"141\" y2=\"11\" />\n",
       "  <line x1=\"23\" y1=\"13\" x2=\"143\" y2=\"13\" />\n",
       "  <line x1=\"24\" y1=\"14\" x2=\"144\" y2=\"14\" />\n",
       "  <line x1=\"26\" y1=\"16\" x2=\"146\" y2=\"16\" style=\"stroke-width:2\" />\n",
       "\n",
       "  <!-- Vertical lines -->\n",
       "  <line x1=\"10\" y1=\"0\" x2=\"26\" y2=\"16\" style=\"stroke-width:2\" />\n",
       "  <line x1=\"130\" y1=\"0\" x2=\"146\" y2=\"16\" style=\"stroke-width:2\" />\n",
       "\n",
       "  <!-- Colored Rectangle -->\n",
       "  <polygon points=\"10.000000,0.000000 130.000000,0.000000 146.484081,16.484081 26.484081,16.484081\" style=\"fill:#ECB172A0;stroke-width:0\"/>\n",
       "\n",
       "  <!-- Horizontal lines -->\n",
       "  <line x1=\"26\" y1=\"16\" x2=\"146\" y2=\"16\" style=\"stroke-width:2\" />\n",
       "  <line x1=\"26\" y1=\"136\" x2=\"146\" y2=\"136\" style=\"stroke-width:2\" />\n",
       "\n",
       "  <!-- Vertical lines -->\n",
       "  <line x1=\"26\" y1=\"16\" x2=\"26\" y2=\"136\" style=\"stroke-width:2\" />\n",
       "  <line x1=\"146\" y1=\"16\" x2=\"146\" y2=\"136\" style=\"stroke-width:2\" />\n",
       "\n",
       "  <!-- Colored Rectangle -->\n",
       "  <polygon points=\"26.484081,16.484081 146.484081,16.484081 146.484081,136.484081 26.484081,136.484081\" style=\"fill:#ECB172A0;stroke-width:0\"/>\n",
       "\n",
       "  <!-- Text -->\n",
       "  <text x=\"86.484081\" y=\"156.484081\" font-size=\"1.0rem\" font-weight=\"100\" text-anchor=\"middle\" >600</text>\n",
       "  <text x=\"166.484081\" y=\"76.484081\" font-size=\"1.0rem\" font-weight=\"100\" text-anchor=\"middle\" transform=\"rotate(-90,166.484081,76.484081)\">600</text>\n",
       "  <text x=\"8.242040\" y=\"148.242040\" font-size=\"1.0rem\" font-weight=\"100\" text-anchor=\"middle\" transform=\"rotate(45,8.242040,148.242040)\">10</text>\n",
       "</svg>\n",
       "</td>\n",
       "</tr>\n",
       "</table></pre></li><li class='xr-var-item'><div class='xr-var-name'><span>B05</span></div><div class='xr-var-dims'>(time, lat, lon)</div><div class='xr-var-dtype'>float32</div><div class='xr-var-preview xr-preview'>dask.array&lt;chunksize=(1, 600, 600), meta=np.ndarray&gt;</div><input id='attrs-feae9f5b-a845-4a93-86f9-85e093f12000' class='xr-var-attrs-in' type='checkbox' ><label for='attrs-feae9f5b-a845-4a93-86f9-85e093f12000' title='Show/Hide attributes'><svg class='icon xr-icon-file-text2'><use xlink:href='#icon-file-text2'></use></svg></label><input id='data-26e124e3-424c-4d2c-81af-852b46bf7a57' class='xr-var-data-in' type='checkbox'><label for='data-26e124e3-424c-4d2c-81af-852b46bf7a57' title='Show/Hide data repr'><svg class='icon xr-icon-database'><use xlink:href='#icon-database'></use></svg></label><div class='xr-var-attrs'><dl class='xr-attrs'><dt><span>sample_type :</span></dt><dd>FLOAT32</dd><dt><span>units :</span></dt><dd>reflectance</dd><dt><span>wavelength :</span></dt><dd>704.1</dd><dt><span>bandwith :</span></dt><dd>15</dd><dt><span>resolution :</span></dt><dd>20</dd></dl></div><pre class='xr-var-data'><table>\n",
       "<tr>\n",
       "<td>\n",
       "<table>\n",
       "  <thead>\n",
       "    <tr><td> </td><th> Array </th><th> Chunk </th></tr>\n",
       "  </thead>\n",
       "  <tbody>\n",
       "    <tr><th> Bytes </th><td> 14.40 MB </td> <td> 1.44 MB </td></tr>\n",
       "    <tr><th> Shape </th><td> (10, 600, 600) </td> <td> (1, 600, 600) </td></tr>\n",
       "    <tr><th> Count </th><td> 11 Tasks </td><td> 10 Chunks </td></tr>\n",
       "    <tr><th> Type </th><td> float32 </td><td> numpy.ndarray </td></tr>\n",
       "  </tbody>\n",
       "</table>\n",
       "</td>\n",
       "<td>\n",
       "<svg width=\"196\" height=\"186\" style=\"stroke:rgb(0,0,0);stroke-width:1\" >\n",
       "\n",
       "  <!-- Horizontal lines -->\n",
       "  <line x1=\"10\" y1=\"0\" x2=\"26\" y2=\"16\" style=\"stroke-width:2\" />\n",
       "  <line x1=\"10\" y1=\"120\" x2=\"26\" y2=\"136\" style=\"stroke-width:2\" />\n",
       "\n",
       "  <!-- Vertical lines -->\n",
       "  <line x1=\"10\" y1=\"0\" x2=\"10\" y2=\"120\" style=\"stroke-width:2\" />\n",
       "  <line x1=\"11\" y1=\"1\" x2=\"11\" y2=\"121\" />\n",
       "  <line x1=\"13\" y1=\"3\" x2=\"13\" y2=\"123\" />\n",
       "  <line x1=\"14\" y1=\"4\" x2=\"14\" y2=\"124\" />\n",
       "  <line x1=\"16\" y1=\"6\" x2=\"16\" y2=\"126\" />\n",
       "  <line x1=\"18\" y1=\"8\" x2=\"18\" y2=\"128\" />\n",
       "  <line x1=\"19\" y1=\"9\" x2=\"19\" y2=\"129\" />\n",
       "  <line x1=\"21\" y1=\"11\" x2=\"21\" y2=\"131\" />\n",
       "  <line x1=\"23\" y1=\"13\" x2=\"23\" y2=\"133\" />\n",
       "  <line x1=\"24\" y1=\"14\" x2=\"24\" y2=\"134\" />\n",
       "  <line x1=\"26\" y1=\"16\" x2=\"26\" y2=\"136\" style=\"stroke-width:2\" />\n",
       "\n",
       "  <!-- Colored Rectangle -->\n",
       "  <polygon points=\"10.000000,0.000000 26.484081,16.484081 26.484081,136.484081 10.000000,120.000000\" style=\"fill:#ECB172A0;stroke-width:0\"/>\n",
       "\n",
       "  <!-- Horizontal lines -->\n",
       "  <line x1=\"10\" y1=\"0\" x2=\"130\" y2=\"0\" style=\"stroke-width:2\" />\n",
       "  <line x1=\"11\" y1=\"1\" x2=\"131\" y2=\"1\" />\n",
       "  <line x1=\"13\" y1=\"3\" x2=\"133\" y2=\"3\" />\n",
       "  <line x1=\"14\" y1=\"4\" x2=\"134\" y2=\"4\" />\n",
       "  <line x1=\"16\" y1=\"6\" x2=\"136\" y2=\"6\" />\n",
       "  <line x1=\"18\" y1=\"8\" x2=\"138\" y2=\"8\" />\n",
       "  <line x1=\"19\" y1=\"9\" x2=\"139\" y2=\"9\" />\n",
       "  <line x1=\"21\" y1=\"11\" x2=\"141\" y2=\"11\" />\n",
       "  <line x1=\"23\" y1=\"13\" x2=\"143\" y2=\"13\" />\n",
       "  <line x1=\"24\" y1=\"14\" x2=\"144\" y2=\"14\" />\n",
       "  <line x1=\"26\" y1=\"16\" x2=\"146\" y2=\"16\" style=\"stroke-width:2\" />\n",
       "\n",
       "  <!-- Vertical lines -->\n",
       "  <line x1=\"10\" y1=\"0\" x2=\"26\" y2=\"16\" style=\"stroke-width:2\" />\n",
       "  <line x1=\"130\" y1=\"0\" x2=\"146\" y2=\"16\" style=\"stroke-width:2\" />\n",
       "\n",
       "  <!-- Colored Rectangle -->\n",
       "  <polygon points=\"10.000000,0.000000 130.000000,0.000000 146.484081,16.484081 26.484081,16.484081\" style=\"fill:#ECB172A0;stroke-width:0\"/>\n",
       "\n",
       "  <!-- Horizontal lines -->\n",
       "  <line x1=\"26\" y1=\"16\" x2=\"146\" y2=\"16\" style=\"stroke-width:2\" />\n",
       "  <line x1=\"26\" y1=\"136\" x2=\"146\" y2=\"136\" style=\"stroke-width:2\" />\n",
       "\n",
       "  <!-- Vertical lines -->\n",
       "  <line x1=\"26\" y1=\"16\" x2=\"26\" y2=\"136\" style=\"stroke-width:2\" />\n",
       "  <line x1=\"146\" y1=\"16\" x2=\"146\" y2=\"136\" style=\"stroke-width:2\" />\n",
       "\n",
       "  <!-- Colored Rectangle -->\n",
       "  <polygon points=\"26.484081,16.484081 146.484081,16.484081 146.484081,136.484081 26.484081,136.484081\" style=\"fill:#ECB172A0;stroke-width:0\"/>\n",
       "\n",
       "  <!-- Text -->\n",
       "  <text x=\"86.484081\" y=\"156.484081\" font-size=\"1.0rem\" font-weight=\"100\" text-anchor=\"middle\" >600</text>\n",
       "  <text x=\"166.484081\" y=\"76.484081\" font-size=\"1.0rem\" font-weight=\"100\" text-anchor=\"middle\" transform=\"rotate(-90,166.484081,76.484081)\">600</text>\n",
       "  <text x=\"8.242040\" y=\"148.242040\" font-size=\"1.0rem\" font-weight=\"100\" text-anchor=\"middle\" transform=\"rotate(45,8.242040,148.242040)\">10</text>\n",
       "</svg>\n",
       "</td>\n",
       "</tr>\n",
       "</table></pre></li><li class='xr-var-item'><div class='xr-var-name'><span>B08</span></div><div class='xr-var-dims'>(time, lat, lon)</div><div class='xr-var-dtype'>float32</div><div class='xr-var-preview xr-preview'>dask.array&lt;chunksize=(1, 600, 600), meta=np.ndarray&gt;</div><input id='attrs-02b99a08-6622-421e-b635-c2baf45a715b' class='xr-var-attrs-in' type='checkbox' ><label for='attrs-02b99a08-6622-421e-b635-c2baf45a715b' title='Show/Hide attributes'><svg class='icon xr-icon-file-text2'><use xlink:href='#icon-file-text2'></use></svg></label><input id='data-dcf59384-229b-4e25-afc2-3ee06dffc19c' class='xr-var-data-in' type='checkbox'><label for='data-dcf59384-229b-4e25-afc2-3ee06dffc19c' title='Show/Hide data repr'><svg class='icon xr-icon-database'><use xlink:href='#icon-database'></use></svg></label><div class='xr-var-attrs'><dl class='xr-attrs'><dt><span>sample_type :</span></dt><dd>FLOAT32</dd><dt><span>units :</span></dt><dd>reflectance</dd><dt><span>wavelength :</span></dt><dd>832.8</dd><dt><span>bandwith :</span></dt><dd>106</dd><dt><span>resolution :</span></dt><dd>10</dd></dl></div><pre class='xr-var-data'><table>\n",
       "<tr>\n",
       "<td>\n",
       "<table>\n",
       "  <thead>\n",
       "    <tr><td> </td><th> Array </th><th> Chunk </th></tr>\n",
       "  </thead>\n",
       "  <tbody>\n",
       "    <tr><th> Bytes </th><td> 14.40 MB </td> <td> 1.44 MB </td></tr>\n",
       "    <tr><th> Shape </th><td> (10, 600, 600) </td> <td> (1, 600, 600) </td></tr>\n",
       "    <tr><th> Count </th><td> 11 Tasks </td><td> 10 Chunks </td></tr>\n",
       "    <tr><th> Type </th><td> float32 </td><td> numpy.ndarray </td></tr>\n",
       "  </tbody>\n",
       "</table>\n",
       "</td>\n",
       "<td>\n",
       "<svg width=\"196\" height=\"186\" style=\"stroke:rgb(0,0,0);stroke-width:1\" >\n",
       "\n",
       "  <!-- Horizontal lines -->\n",
       "  <line x1=\"10\" y1=\"0\" x2=\"26\" y2=\"16\" style=\"stroke-width:2\" />\n",
       "  <line x1=\"10\" y1=\"120\" x2=\"26\" y2=\"136\" style=\"stroke-width:2\" />\n",
       "\n",
       "  <!-- Vertical lines -->\n",
       "  <line x1=\"10\" y1=\"0\" x2=\"10\" y2=\"120\" style=\"stroke-width:2\" />\n",
       "  <line x1=\"11\" y1=\"1\" x2=\"11\" y2=\"121\" />\n",
       "  <line x1=\"13\" y1=\"3\" x2=\"13\" y2=\"123\" />\n",
       "  <line x1=\"14\" y1=\"4\" x2=\"14\" y2=\"124\" />\n",
       "  <line x1=\"16\" y1=\"6\" x2=\"16\" y2=\"126\" />\n",
       "  <line x1=\"18\" y1=\"8\" x2=\"18\" y2=\"128\" />\n",
       "  <line x1=\"19\" y1=\"9\" x2=\"19\" y2=\"129\" />\n",
       "  <line x1=\"21\" y1=\"11\" x2=\"21\" y2=\"131\" />\n",
       "  <line x1=\"23\" y1=\"13\" x2=\"23\" y2=\"133\" />\n",
       "  <line x1=\"24\" y1=\"14\" x2=\"24\" y2=\"134\" />\n",
       "  <line x1=\"26\" y1=\"16\" x2=\"26\" y2=\"136\" style=\"stroke-width:2\" />\n",
       "\n",
       "  <!-- Colored Rectangle -->\n",
       "  <polygon points=\"10.000000,0.000000 26.484081,16.484081 26.484081,136.484081 10.000000,120.000000\" style=\"fill:#ECB172A0;stroke-width:0\"/>\n",
       "\n",
       "  <!-- Horizontal lines -->\n",
       "  <line x1=\"10\" y1=\"0\" x2=\"130\" y2=\"0\" style=\"stroke-width:2\" />\n",
       "  <line x1=\"11\" y1=\"1\" x2=\"131\" y2=\"1\" />\n",
       "  <line x1=\"13\" y1=\"3\" x2=\"133\" y2=\"3\" />\n",
       "  <line x1=\"14\" y1=\"4\" x2=\"134\" y2=\"4\" />\n",
       "  <line x1=\"16\" y1=\"6\" x2=\"136\" y2=\"6\" />\n",
       "  <line x1=\"18\" y1=\"8\" x2=\"138\" y2=\"8\" />\n",
       "  <line x1=\"19\" y1=\"9\" x2=\"139\" y2=\"9\" />\n",
       "  <line x1=\"21\" y1=\"11\" x2=\"141\" y2=\"11\" />\n",
       "  <line x1=\"23\" y1=\"13\" x2=\"143\" y2=\"13\" />\n",
       "  <line x1=\"24\" y1=\"14\" x2=\"144\" y2=\"14\" />\n",
       "  <line x1=\"26\" y1=\"16\" x2=\"146\" y2=\"16\" style=\"stroke-width:2\" />\n",
       "\n",
       "  <!-- Vertical lines -->\n",
       "  <line x1=\"10\" y1=\"0\" x2=\"26\" y2=\"16\" style=\"stroke-width:2\" />\n",
       "  <line x1=\"130\" y1=\"0\" x2=\"146\" y2=\"16\" style=\"stroke-width:2\" />\n",
       "\n",
       "  <!-- Colored Rectangle -->\n",
       "  <polygon points=\"10.000000,0.000000 130.000000,0.000000 146.484081,16.484081 26.484081,16.484081\" style=\"fill:#ECB172A0;stroke-width:0\"/>\n",
       "\n",
       "  <!-- Horizontal lines -->\n",
       "  <line x1=\"26\" y1=\"16\" x2=\"146\" y2=\"16\" style=\"stroke-width:2\" />\n",
       "  <line x1=\"26\" y1=\"136\" x2=\"146\" y2=\"136\" style=\"stroke-width:2\" />\n",
       "\n",
       "  <!-- Vertical lines -->\n",
       "  <line x1=\"26\" y1=\"16\" x2=\"26\" y2=\"136\" style=\"stroke-width:2\" />\n",
       "  <line x1=\"146\" y1=\"16\" x2=\"146\" y2=\"136\" style=\"stroke-width:2\" />\n",
       "\n",
       "  <!-- Colored Rectangle -->\n",
       "  <polygon points=\"26.484081,16.484081 146.484081,16.484081 146.484081,136.484081 26.484081,136.484081\" style=\"fill:#ECB172A0;stroke-width:0\"/>\n",
       "\n",
       "  <!-- Text -->\n",
       "  <text x=\"86.484081\" y=\"156.484081\" font-size=\"1.0rem\" font-weight=\"100\" text-anchor=\"middle\" >600</text>\n",
       "  <text x=\"166.484081\" y=\"76.484081\" font-size=\"1.0rem\" font-weight=\"100\" text-anchor=\"middle\" transform=\"rotate(-90,166.484081,76.484081)\">600</text>\n",
       "  <text x=\"8.242040\" y=\"148.242040\" font-size=\"1.0rem\" font-weight=\"100\" text-anchor=\"middle\" transform=\"rotate(45,8.242040,148.242040)\">10</text>\n",
       "</svg>\n",
       "</td>\n",
       "</tr>\n",
       "</table></pre></li></ul></div></li><li class='xr-section-item'><input id='section-1066aca5-86f3-4c8d-bfb8-30c830582023' class='xr-section-summary-in' type='checkbox'  ><label for='section-1066aca5-86f3-4c8d-bfb8-30c830582023' class='xr-section-summary' >Attributes: <span>(13)</span></label><div class='xr-section-inline-details'></div><div class='xr-section-details'><dl class='xr-attrs'><dt><span>Conventions :</span></dt><dd>CF-1.7</dd><dt><span>title :</span></dt><dd>S2L2A Data Cube Subset</dd><dt><span>history :</span></dt><dd>[{&#x27;program&#x27;: &#x27;xcube_sh.chunkstore.SentinelHubChunkStore&#x27;, &#x27;cube_config&#x27;: {&#x27;dataset_name&#x27;: &#x27;S2L2A&#x27;, &#x27;band_names&#x27;: [&#x27;B01&#x27;, &#x27;B05&#x27;, &#x27;B08&#x27;], &#x27;band_units&#x27;: None, &#x27;band_sample_types&#x27;: None, &#x27;tile_size&#x27;: [600, 600], &#x27;geometry&#x27;: [11, 52, 14.0, 55.0], &#x27;spatial_res&#x27;: 0.005, &#x27;crs&#x27;: &#x27;http://www.opengis.net/def/crs/EPSG/0/4326&#x27;, &#x27;time_range&#x27;: [&#x27;2019-05-01T00:00:00+00:00&#x27;, &#x27;2019-05-10T00:00:00+00:00&#x27;], &#x27;time_period&#x27;: &#x27;1 days 00:00:00&#x27;, &#x27;time_tolerance&#x27;: None, &#x27;collection_id&#x27;: None, &#x27;four_d&#x27;: False}}]</dd><dt><span>date_created :</span></dt><dd>2020-06-12T17:08:44.140159</dd><dt><span>processing_level :</span></dt><dd>L2A</dd><dt><span>time_coverage_start :</span></dt><dd>2019-05-01T00:00:00+00:00</dd><dt><span>time_coverage_end :</span></dt><dd>2019-05-11T00:00:00+00:00</dd><dt><span>time_coverage_duration :</span></dt><dd>P10DT0H0M0S</dd><dt><span>time_coverage_resolution :</span></dt><dd>P1DT0H0M0S</dd><dt><span>geospatial_lon_min :</span></dt><dd>11</dd><dt><span>geospatial_lat_min :</span></dt><dd>52</dd><dt><span>geospatial_lon_max :</span></dt><dd>14.0</dd><dt><span>geospatial_lat_max :</span></dt><dd>55.0</dd></dl></div></li></ul></div></div>"
      ],
      "text/plain": [
       "<xarray.Dataset>\n",
       "Dimensions:    (bnds: 2, lat: 600, lon: 600, time: 10)\n",
       "Coordinates:\n",
       "  * lat        (lat) float64 55.0 54.99 54.99 54.98 ... 52.02 52.01 52.01 52.0\n",
       "  * lon        (lon) float64 11.0 11.01 11.01 11.02 ... 13.98 13.99 13.99 14.0\n",
       "  * time       (time) datetime64[ns] 2019-05-01T12:00:00 ... 2019-05-10T12:00:00\n",
       "    time_bnds  (time, bnds) datetime64[ns] dask.array<chunksize=(10, 2), meta=np.ndarray>\n",
       "Dimensions without coordinates: bnds\n",
       "Data variables:\n",
       "    B01        (time, lat, lon) float32 dask.array<chunksize=(1, 600, 600), meta=np.ndarray>\n",
       "    B05        (time, lat, lon) float32 dask.array<chunksize=(1, 600, 600), meta=np.ndarray>\n",
       "    B08        (time, lat, lon) float32 dask.array<chunksize=(1, 600, 600), meta=np.ndarray>\n",
       "Attributes:\n",
       "    Conventions:               CF-1.7\n",
       "    title:                     S2L2A Data Cube Subset\n",
       "    history:                   [{'program': 'xcube_sh.chunkstore.SentinelHubC...\n",
       "    date_created:              2020-06-12T17:08:44.140159\n",
       "    processing_level:          L2A\n",
       "    time_coverage_start:       2019-05-01T00:00:00+00:00\n",
       "    time_coverage_end:         2019-05-11T00:00:00+00:00\n",
       "    time_coverage_duration:    P10DT0H0M0S\n",
       "    time_coverage_resolution:  P1DT0H0M0S\n",
       "    geospatial_lon_min:        11\n",
       "    geospatial_lat_min:        52\n",
       "    geospatial_lon_max:        14.0\n",
       "    geospatial_lat_max:        55.0"
      ]
     },
     "execution_count": 9,
     "metadata": {},
     "output_type": "execute_result"
    }
   ],
   "source": [
    "dataset = store.open_data('S2L2A', band_names=['B01', 'B05', 'B08'], geometry=[11, 52, 14, 55], spatial_res=0.005, time_range=['2019-05-01', '2019-05-10'], time_period='1d')\n",
    "dataset"
   ]
  },
  {
   "cell_type": "code",
   "execution_count": 10,
   "metadata": {},
   "outputs": [
    {
     "data": {
      "text/plain": [
       "<matplotlib.image.AxesImage at 0x1e4effb0f88>"
      ]
     },
     "execution_count": 10,
     "metadata": {},
     "output_type": "execute_result"
    },
    {
     "data": {
      "image/png": "[encoded data removed]",
      "text/plain": [
       "<Figure size 432x288 with 2 Axes>"
      ]
     },
     "metadata": {
      "needs_background": "light"
     },
     "output_type": "display_data"
    }
   ],
   "source": [
    "dataset.B05.isel(time=1).plot.imshow()"
   ]
  },
  {
   "cell_type": "code",
   "execution_count": null,
   "metadata": {},
   "outputs": [],
   "source": []
  },
  {
   "cell_type": "code",
   "execution_count": null,
   "metadata": {},
   "outputs": [],
   "source": []
  },
  {
   "cell_type": "code",
   "execution_count": null,
   "metadata": {},
   "outputs": [],
   "source": []
  }
 ],
 "metadata": {
  "kernelspec": {
   "display_name": "Python 3",
   "language": "python",
   "name": "python3"
  },
  "language_info": {
   "codemirror_mode": {
    "name": "ipython",
    "version": 3
   },
   "file_extension": ".py",
   "mimetype": "text/x-python",
   "name": "python",
   "nbconvert_exporter": "python",
   "pygments_lexer": "ipython3",
   "version": "3.7.6"
  }
 },
 "nbformat": 4,
 "nbformat_minor": 4
}

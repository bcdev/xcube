{
 "cells": [
  {
   "cell_type": "markdown",
   "metadata": {},
   "source": [
    "## xcube Data Store FRamework"
   ]
  },
  {
   "cell_type": "code",
   "execution_count": null,
   "metadata": {},
   "outputs": [],
   "source": [
    "from xcube.core.store import find_data_store_extensions\n",
    "from xcube.core.store import get_data_store_params_schema\n",
    "from xcube.core.store import new_data_store\n",
    "from IPython.display import JSON"
   ]
  },
  {
   "cell_type": "markdown",
   "metadata": {},
   "source": [
    "Which data accessors are available?"
   ]
  },
  {
   "cell_type": "code",
   "execution_count": 2,
   "metadata": {},
   "outputs": [
    {
     "data": {
      "application/json": {
       "directory": {
        "description": "Directory data store"
       },
       "memory": {
        "description": "Memory data store"
       },
       "sentinelhub": {
        "description": "SENTINEL Hub Cloud API"
       }
      },
      "text/plain": [
       "<IPython.core.display.JSON object>"
      ]
     },
     "execution_count": 2,
     "metadata": {
      "application/json": {
       "expanded": false,
       "root": "root"
      }
     },
     "output_type": "execute_result"
    }
   ],
   "source": [
    "JSON({e.name: e.metadata for e in find_data_store_extensions()})"
   ]
  },
  {
   "cell_type": "markdown",
   "metadata": {},
   "source": [
    "Usually we need more information to get the actual data store object. Which data store parameters are available?"
   ]
  },
  {
   "cell_type": "code",
   "execution_count": 3,
   "metadata": {},
   "outputs": [
    {
     "data": {
      "application/json": {
       "additionalProperties": false,
       "properties": {
        "api_url": {
         "default": "https://services.sentinel-hub.com/api/v1",
         "type": "string"
        },
        "client_id": {
         "default": "a20363fd-6733-4924-b77c-910862ef246a",
         "type": "string"
        },
        "client_secret": {
         "default": "sjndIW0BPRhqQ3hcU8bE",
         "type": "string"
        },
        "enable_warnings": {
         "default": false,
         "type": "boolean"
        },
        "error_policy": {
         "default": "fail",
         "enum": [
          "fail",
          "warn",
          "ignore"
         ],
         "type": "string"
        },
        "instance_id": {
         "default": "42590b08-eeb4-4c54-af0c-c87f83d15b78",
         "type": [
          "string",
          "null"
         ]
        },
        "num_retries": {
         "default": 200,
         "minimum": 0,
         "type": "integer"
        },
        "oauth2_url": {
         "default": "https://services.sentinel-hub.com/oauth",
         "type": "string"
        },
        "retry_backoff_base": {
         "default": 1.001,
         "exclusiveMinimum": 1,
         "type": "number"
        },
        "retry_backoff_max": {
         "default": 40,
         "minimum": 0,
         "type": "integer"
        }
       },
       "type": "object"
      },
      "text/plain": [
       "<xcube.util.jsonschema.JsonObjectSchema at 0x14adc93af48>"
      ]
     },
     "execution_count": 3,
     "metadata": {},
     "output_type": "execute_result"
    }
   ],
   "source": [
    "get_data_store_params_schema('sentinelhub')"
   ]
  },
  {
   "cell_type": "markdown",
   "metadata": {},
   "source": [
    "Just provide mandatory parameters to instantiate the store class:"
   ]
  },
  {
   "cell_type": "code",
   "execution_count": 9,
   "metadata": {},
   "outputs": [
    {
     "data": {
      "text/plain": [
       "<xcube_sh.store.SentinelHubDataStore at 0x14adc99dc88>"
      ]
     },
     "execution_count": 9,
     "metadata": {},
     "output_type": "execute_result"
    }
   ],
   "source": [
    "store = new_data_store('sentinelhub')\n",
    "store"
   ]
  },
  {
   "cell_type": "markdown",
   "metadata": {},
   "source": [
    "Which datasets are provided? (the list may contain both gridded and vector datasets):"
   ]
  },
  {
   "cell_type": "code",
   "execution_count": 10,
   "metadata": {},
   "outputs": [
    {
     "data": {
      "application/json": [
       "S1GRD",
       "S2L1C",
       "S2L2A",
       "S3OCLI",
       "S3SLSTR",
       "L8L1C"
      ],
      "text/plain": [
       "<IPython.core.display.JSON object>"
      ]
     },
     "execution_count": 10,
     "metadata": {
      "application/json": {
       "expanded": false,
       "root": "root"
      }
     },
     "output_type": "execute_result"
    }
   ],
   "source": [
    "JSON(list(store.get_data_ids()))"
   ]
  },
  {
   "cell_type": "markdown",
   "metadata": {},
   "source": [
    "Which \"openers\" are available? Note, the first part of an opener's name identifies the returned in-memory data type:\n",
    "\n",
    "- `dataset` --> `xarray.Dataset` (Gridded data)\n",
    "- `mldataset` -->  `xcube.core.mlds.MultiLevelDataset`  (Gridded data, multi-resolution pyramid)\n",
    "- `geodataframe` --> `geopandas.GeoDataFrame` (Vector data) \n",
    "\n",
    "The first opener is the default opener. In this case there is only a single one:"
   ]
  },
  {
   "cell_type": "code",
   "execution_count": 11,
   "metadata": {},
   "outputs": [
    {
     "data": {
      "text/plain": [
       "('dataset:zarr:sentinelhub',)"
      ]
     },
     "execution_count": 11,
     "metadata": {},
     "output_type": "execute_result"
    }
   ],
   "source": [
    "store.get_data_opener_ids()"
   ]
  },
  {
   "cell_type": "markdown",
   "metadata": {},
   "source": [
    "Get more info about a dedicated dataset. This include a description of the possible open formats:"
   ]
  },
  {
   "cell_type": "code",
   "execution_count": 7,
   "metadata": {},
   "outputs": [
    {
     "data": {
      "application/json": {
       "attrs": {
        "feature_type_name": "DSS2",
        "processing_level": "L2A",
        "request_period": "1D"
       },
       "bbox": [
        -180,
        -90,
        180,
        90
       ],
       "data_id": "S2L2A",
       "data_vars": [
        {
         "attrs": {
          "bandwith": 21,
          "fill_value": 0,
          "resolution": 60,
          "units": "reflectance",
          "wavelength": 442.7
         },
         "dims": [
          "time",
          "lat",
          "lon"
         ],
         "dtype": "FLOAT32",
         "name": "B01",
         "ndim": 3
        },
        {
         "attrs": {
          "bandwith": 66,
          "fill_value": 0,
          "resolution": 10,
          "units": "reflectance",
          "wavelength": 492.4
         },
         "dims": [
          "time",
          "lat",
          "lon"
         ],
         "dtype": "FLOAT32",
         "name": "B02",
         "ndim": 3
        },
        {
         "attrs": {
          "bandwith": 36,
          "fill_value": 0,
          "resolution": 10,
          "units": "reflectance",
          "wavelength": 559.8
         },
         "dims": [
          "time",
          "lat",
          "lon"
         ],
         "dtype": "FLOAT32",
         "name": "B03",
         "ndim": 3
        },
        {
         "attrs": {
          "bandwith": 31,
          "fill_value": 0,
          "resolution": 10,
          "units": "reflectance",
          "wavelength": 664.6
         },
         "dims": [
          "time",
          "lat",
          "lon"
         ],
         "dtype": "FLOAT32",
         "name": "B04",
         "ndim": 3
        },
        {
         "attrs": {
          "bandwith": 15,
          "fill_value": 0,
          "resolution": 20,
          "units": "reflectance",
          "wavelength": 704.1
         },
         "dims": [
          "time",
          "lat",
          "lon"
         ],
         "dtype": "FLOAT32",
         "name": "B05",
         "ndim": 3
        },
        {
         "attrs": {
          "bandwith": 15,
          "fill_value": 0,
          "resolution": 20,
          "units": "reflectance",
          "wavelength": 740.5
         },
         "dims": [
          "time",
          "lat",
          "lon"
         ],
         "dtype": "FLOAT32",
         "name": "B06",
         "ndim": 3
        },
        {
         "attrs": {
          "bandwith": 20,
          "fill_value": 0,
          "resolution": 20,
          "units": "reflectance",
          "wavelength": 782.8
         },
         "dims": [
          "time",
          "lat",
          "lon"
         ],
         "dtype": "FLOAT32",
         "name": "B07",
         "ndim": 3
        },
        {
         "attrs": {
          "bandwith": 106,
          "fill_value": 0,
          "resolution": 10,
          "units": "reflectance",
          "wavelength": 832.8
         },
         "dims": [
          "time",
          "lat",
          "lon"
         ],
         "dtype": "FLOAT32",
         "name": "B08",
         "ndim": 3
        },
        {
         "attrs": {
          "bandwith": 21,
          "fill_value": 0,
          "resolution": 20,
          "units": "reflectance",
          "wavelength": 864.7
         },
         "dims": [
          "time",
          "lat",
          "lon"
         ],
         "dtype": "FLOAT32",
         "name": "B8A",
         "ndim": 3
        },
        {
         "attrs": {
          "bandwith": 20,
          "fill_value": 0,
          "resolution": 60,
          "units": "reflectance",
          "wavelength": 945.1
         },
         "dims": [
          "time",
          "lat",
          "lon"
         ],
         "dtype": "FLOAT32",
         "name": "B09",
         "ndim": 3
        },
        {
         "attrs": {
          "bandwith": 31,
          "fill_value": 0,
          "resolution": 60,
          "units": "reflectance",
          "wavelength": 1373.5
         },
         "dims": [
          "time",
          "lat",
          "lon"
         ],
         "dtype": "FLOAT32",
         "name": "B10",
         "ndim": 3
        },
        {
         "attrs": {
          "bandwith": 91,
          "fill_value": 0,
          "resolution": 20,
          "units": "reflectance",
          "wavelength": 1613.7
         },
         "dims": [
          "time",
          "lat",
          "lon"
         ],
         "dtype": "FLOAT32",
         "name": "B11",
         "ndim": 3
        },
        {
         "attrs": {
          "bandwith": 175,
          "fill_value": 0,
          "resolution": 20,
          "units": "reflectance",
          "wavelength": 2202.4
         },
         "dims": [
          "time",
          "lat",
          "lon"
         ],
         "dtype": "FLOAT32",
         "name": "B12",
         "ndim": 3
        },
        {
         "attrs": {},
         "dims": [
          "time",
          "lat",
          "lon"
         ],
         "dtype": "FLOAT32",
         "name": "viewZenithMean",
         "ndim": 3
        },
        {
         "attrs": {},
         "dims": [
          "time",
          "lat",
          "lon"
         ],
         "dtype": "FLOAT32",
         "name": "viewAzimuthMean",
         "ndim": 3
        },
        {
         "attrs": {},
         "dims": [
          "time",
          "lat",
          "lon"
         ],
         "dtype": "FLOAT32",
         "name": "sunZenithAngles",
         "ndim": 3
        },
        {
         "attrs": {},
         "dims": [
          "time",
          "lat",
          "lon"
         ],
         "dtype": "FLOAT32",
         "name": "sunAzimuthAngles",
         "ndim": 3
        },
        {
         "attrs": {},
         "dims": [
          "time",
          "lat",
          "lon"
         ],
         "dtype": "FLOAT32",
         "name": "AOT",
         "ndim": 3
        },
        {
         "attrs": {
          "flag_meanings": "no_data saturated_or_defective dark_area_pixels cloud_shadows vegetation bare_soils water clouds_low_probability_or_unclassified clouds_medium_probability clouds_high_probability cirrus snow_or_ice",
          "flag_values": "0,1,2,3,4,5,6,7,8,9,10,11"
         },
         "dims": [
          "time",
          "lat",
          "lon"
         ],
         "dtype": "UINT8",
         "name": "SCL",
         "ndim": 3
        },
        {
         "attrs": {},
         "dims": [
          "time",
          "lat",
          "lon"
         ],
         "dtype": "UINT8",
         "name": "SNW",
         "ndim": 3
        },
        {
         "attrs": {},
         "dims": [
          "time",
          "lat",
          "lon"
         ],
         "dtype": "UINT8",
         "name": "CLD",
         "ndim": 3
        }
       ],
       "time_range": [
        "2015-07-01",
        null
       ],
       "type_id": "dataset"
      },
      "text/plain": [
       "<xcube.core.store.descriptor.DatasetDescriptor at 0x14adc99d148>"
      ]
     },
     "execution_count": 7,
     "metadata": {},
     "output_type": "execute_result"
    }
   ],
   "source": [
    "store.describe_data('S2L2A')"
   ]
  },
  {
   "cell_type": "markdown",
   "metadata": {},
   "source": [
    "Which parameters must I pass or are available to open the dataset?"
   ]
  },
  {
   "cell_type": "code",
   "execution_count": 8,
   "metadata": {},
   "outputs": [
    {
     "data": {
      "application/json": {
       "properties": {
        "band_names": {
         "items": {
          "enum": [
           "B01",
           "B02",
           "B03",
           "B04",
           "B05",
           "B06",
           "B07",
           "B08",
           "B8A",
           "B09",
           "B10",
           "B11",
           "B12",
           "viewZenithMean",
           "viewAzimuthMean",
           "sunZenithAngles",
           "sunAzimuthAngles",
           "AOT",
           "SCL",
           "SNW",
           "CLD"
          ],
          "type": "string"
         },
         "type": "array"
        },
        "band_sample_types": {
         "type": "array"
        },
        "band_units": {
         "type": "array"
        },
        "collection_id": {
         "type": "string"
        },
        "crs": {
         "default": "http://www.opengis.net/def/crs/EPSG/0/4326",
         "type": "string"
        },
        "dataset_name": {
         "minLength": 1,
         "type": "string"
        },
        "four_d": {
         "default": false,
         "type": "boolean"
        },
        "geometry": {
         "items": [
          {
           "type": "number"
          },
          {
           "type": "number"
          },
          {
           "type": "number"
          },
          {
           "type": "number"
          }
         ],
         "type": "array"
        },
        "max_cache_size": {
         "minimum": 0,
         "type": "integer"
        },
        "spatial_res": {
         "exclusiveMinimum": 0,
         "type": "number"
        },
        "tile_size": {
         "default": [
          1000,
          1000
         ],
         "items": [
          {
           "default": 1000,
           "maximum": 2500,
           "minimum": 1,
           "type": "number"
          },
          {
           "default": 1000,
           "maximum": 2500,
           "minimum": 1,
           "type": "number"
          }
         ],
         "type": "array"
        },
        "time_period": {
         "default": "1D",
         "type": "string"
        },
        "time_range": {
         "items": [
          {
           "format": "date-time",
           "type": "string"
          },
          {
           "format": "date-time",
           "type": "string"
          }
         ],
         "type": "array"
        },
        "time_tolerance": {
         "default": "10M",
         "type": "string"
        }
       },
       "required": [
        "time_range",
        "band_names",
        "spatial_res",
        "geometry"
       ],
       "type": "object"
      },
      "text/plain": [
       "<xcube.util.jsonschema.JsonObjectSchema at 0x14adc9ab5c8>"
      ]
     },
     "execution_count": 8,
     "metadata": {},
     "output_type": "execute_result"
    }
   ],
   "source": [
    "store.get_open_data_params_schema('S2L2A')"
   ]
  },
  {
   "cell_type": "markdown",
   "metadata": {},
   "source": [
    "There are 4 required parameters, so we need to provide them to open a dataset:"
   ]
  },
  {
   "cell_type": "code",
   "execution_count": null,
   "metadata": {},
   "outputs": [],
   "source": [
    "dataset = store.open_data('S2L2A', band_names=['B01', 'B05', 'B08'], geometry=[11, 52, 14, 55], spatial_res=0.005, time_range=['2019-05-01', '2019-05-10'], time_period='1d')\n",
    "dataset"
   ]
  },
  {
   "cell_type": "code",
   "execution_count": null,
   "metadata": {},
   "outputs": [],
   "source": [
    "dataset.B05.isel(time=1).plot.imshow(cmap='Greys', figsize=(16, 16))"
   ]
  },
  {
   "cell_type": "code",
   "execution_count": null,
   "metadata": {},
   "outputs": [],
   "source": []
  },
  {
   "cell_type": "code",
   "execution_count": null,
   "metadata": {},
   "outputs": [],
   "source": []
  },
  {
   "cell_type": "code",
   "execution_count": null,
   "metadata": {},
   "outputs": [],
   "source": []
  }
 ],
 "metadata": {
  "kernelspec": {
   "display_name": "Python 3",
   "language": "python",
   "name": "python3"
  },
  "language_info": {
   "codemirror_mode": {
    "name": "ipython",
    "version": 3
   },
   "file_extension": ".py",
   "mimetype": "text/x-python",
   "name": "python",
   "nbconvert_exporter": "python",
   "pygments_lexer": "ipython3",
   "version": "3.7.6"
  }
 },
 "nbformat": 4,
 "nbformat_minor": 4
}

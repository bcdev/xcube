{
 "cells": [
  {
   "cell_type": "markdown",
   "metadata": {},
   "source": [
    "## xcube Data Store Framework - SENTINEL Hub"
   ]
  },
  {
   "cell_type": "markdown",
   "metadata": {},
   "source": [
    "This notebook walks provides a walk-through demonstrating how to use xcube and the xcube SENTINEL Hub (SH) plugin to read and explore data from the SENTINEL Hub.\n",
    "\n",
    "**Please note:**  \n",
    "In order to be able to access data from SENTINEL Hub, you need SENTINEL Hub Credentials as well as a SH_INSTANCE_ID, which are exported as envrionment variables.  \n",
    "In case you have not exported them already, you may also set them by uncommenting the cell below and adjusting the content to your access credentials. "
   ]
  },
  {
   "cell_type": "code",
   "execution_count": 1,
   "metadata": {},
   "outputs": [],
   "source": [
    "# os.environ[\"SH_CLIENT_ID\"] =  your_sh_client_id\n",
    "# os.environ[\"SH_CLIENT_SECRET\"] = your_sh_client_secret\n",
    "# os.environ[\"SH_INSTANCE_ID=\"] = your_sh_instance_id"
   ]
  },
  {
   "cell_type": "code",
   "execution_count": 2,
   "metadata": {},
   "outputs": [],
   "source": [
    "from xcube.core.store import find_data_store_extensions\n",
    "from xcube.core.store import get_data_store_params_schema\n",
    "from xcube.core.store import new_data_store\n",
    "\n",
    "# Various utilities\n",
    "import shapely.geometry\n",
    "import IPython.display\n",
    "from IPython.display import JSON\n",
    "import matplotlib.pyplot as plt\n"
   ]
  },
  {
   "cell_type": "markdown",
   "metadata": {},
   "source": [
    "Configure matplotlib to display graphs inline directly in the notebook and set a sensible default figure size."
   ]
  },
  {
   "cell_type": "code",
   "execution_count": 3,
   "metadata": {},
   "outputs": [],
   "source": [
    "%matplotlib inline\n",
    "plt.rcParams[\"figure.figsize\"] = 16,12\n"
   ]
  },
  {
   "cell_type": "markdown",
   "metadata": {},
   "source": [
    "First, let's have a look at the data accessors. Which data accessors are available?"
   ]
  },
  {
   "cell_type": "code",
   "execution_count": 4,
   "metadata": {},
   "outputs": [
    {
     "data": {
      "application/json": {
       "cciodp": {
        "description": "ESA CCI Open Data Portal"
       },
       "cds": {
        "description": "Climate Data Store API"
       },
       "directory": {
        "description": "Directory data store"
       },
       "memory": {
        "description": "Memory data store"
       },
       "s3": {
        "description": "AWS S3 data store"
       },
       "sentinelhub": {
        "description": "SENTINEL Hub Cloud API"
       }
      },
      "text/plain": [
       "<IPython.core.display.JSON object>"
      ]
     },
     "execution_count": 4,
     "metadata": {
      "application/json": {
       "expanded": false,
       "root": "root"
      }
     },
     "output_type": "execute_result"
    }
   ],
   "source": [
    "JSON({e.name: e.metadata for e in find_data_store_extensions()})"
   ]
  },
  {
   "cell_type": "markdown",
   "metadata": {},
   "source": [
    "The data stores may offer different initialization options. Some of the options are mandatory. Let's have a look at the parameters for this store."
   ]
  },
  {
   "cell_type": "code",
   "execution_count": 5,
   "metadata": {},
   "outputs": [
    {
     "data": {
      "application/json": {
       "additionalProperties": false,
       "properties": {
        "api_url": {
         "default": "https://services.sentinel-hub.com",
         "title": "SENTINEL Hub API URL",
         "type": "string"
        },
        "client_id": {
         "description": "Preferably set by environment variable SH_CLIENT_ID",
         "title": "SENTINEL Hub API client identifier",
         "type": "string"
        },
        "client_secret": {
         "description": "Preferably set by environment variable SH_CLIENT_SECRET",
         "title": "SENTINEL Hub API client secret",
         "type": "string"
        },
        "enable_warnings": {
         "default": false,
         "title": "Whether to output warnings",
         "type": "boolean"
        },
        "error_policy": {
         "default": "fail",
         "enum": [
          "fail",
          "warn",
          "ignore"
         ],
         "title": "Policy for errors while requesting data",
         "type": "string"
        },
        "instance_id": {
         "description": "Preferably set by environment variable SH_INSTANCE_ID",
         "title": "SENTINEL Hub API instance identifier",
         "type": [
          "string",
          "null"
         ]
        },
        "num_retries": {
         "default": 200,
         "minimum": 0,
         "title": "Number of retries when requesting data fails",
         "type": "integer"
        },
        "oauth2_url": {
         "default": "https://services.sentinel-hub.com/oauth",
         "title": "SENTINEL Hub API authorisation URL",
         "type": "string"
        },
        "retry_backoff_base": {
         "default": 1.001,
         "exclusiveMinimum": 1,
         "type": "number"
        },
        "retry_backoff_max": {
         "default": 40,
         "minimum": 0,
         "type": "integer"
        }
       },
       "type": "object"
      },
      "text/plain": [
       "<xcube.util.jsonschema.JsonObjectSchema at 0x7f206e767e50>"
      ]
     },
     "execution_count": 5,
     "metadata": {},
     "output_type": "execute_result"
    }
   ],
   "source": [
    "get_data_store_params_schema('sentinelhub')"
   ]
  },
  {
   "cell_type": "markdown",
   "metadata": {},
   "source": [
    "Provide mandatory parameters to instantiate the store class:"
   ]
  },
  {
   "cell_type": "code",
   "execution_count": 38,
   "metadata": {},
   "outputs": [
    {
     "data": {
      "text/plain": [
       "<xcube_sh.store.SentinelHubDataStore at 0x7f2033a5bd10>"
      ]
     },
     "execution_count": 38,
     "metadata": {},
     "output_type": "execute_result"
    }
   ],
   "source": [
    "store = new_data_store('sentinelhub', num_retries=400)\n",
    "store"
   ]
  },
  {
   "cell_type": "markdown",
   "metadata": {},
   "source": [
    "Which datasets are provided? (the list may contain both gridded and vector datasets):"
   ]
  },
  {
   "cell_type": "code",
   "execution_count": 39,
   "metadata": {},
   "outputs": [
    {
     "data": {
      "application/json": [
       [
        "S1GRD",
        "Sentinel-1 - GRD"
       ],
       [
        "S2L1C",
        "Sentinel-2 - L1C"
       ],
       [
        "S2L2A",
        "Sentinel-2 - L2A"
       ],
       [
        "S3OLCI",
        "Sentinel-3 - OCLI"
       ],
       [
        "S3SLSTR",
        "Sentinel-3 - SLSTR"
       ],
       [
        "S5PL2",
        "Sentinel-5P - L2"
       ],
       [
        "L8L1C",
        "Landsat 8 - L1C"
       ],
       [
        "DEM",
        "Mapzen DEM"
       ],
       [
        "MODIS",
        "MODIS MCD43A4"
       ],
       [
        "CUSTOM",
        "Bring Your Own COG"
       ]
      ],
      "text/plain": [
       "<IPython.core.display.JSON object>"
      ]
     },
     "execution_count": 39,
     "metadata": {
      "application/json": {
       "expanded": false,
       "root": "root"
      }
     },
     "output_type": "execute_result"
    }
   ],
   "source": [
    "JSON(list(store.get_data_ids()))"
   ]
  },
  {
   "cell_type": "markdown",
   "metadata": {},
   "source": [
    "Which \"openers\" are available? Note, the first part of an opener's name identifies the returned in-memory data type:\n",
    "\n",
    "- `dataset` --> `xarray.Dataset` (Gridded data)\n",
    "- `mldataset` -->  `xcube.core.mlds.MultiLevelDataset`  (Gridded data, multi-resolution pyramid)\n",
    "- `geodataframe` --> `geopandas.GeoDataFrame` (Vector data) \n",
    "\n",
    "The first opener is the default opener. In this case there is only a single one:"
   ]
  },
  {
   "cell_type": "code",
   "execution_count": 40,
   "metadata": {},
   "outputs": [
    {
     "data": {
      "text/plain": [
       "('dataset:zarr:sentinelhub',)"
      ]
     },
     "execution_count": 40,
     "metadata": {},
     "output_type": "execute_result"
    }
   ],
   "source": [
    "store.get_data_opener_ids()"
   ]
  },
  {
   "cell_type": "markdown",
   "metadata": {},
   "source": [
    "Get more info about a dedicated dataset. This include a description of the possible open formats:"
   ]
  },
  {
   "cell_type": "code",
   "execution_count": 41,
   "metadata": {},
   "outputs": [
    {
     "data": {
      "application/json": {
       "attrs": {
        "bands": {
         "AOT": {
          "sample_type": "FLOAT32"
         },
         "B01": {
          "bandwith": 21,
          "fill_value": 0,
          "resolution": 60,
          "sample_type": "FLOAT32",
          "units": "reflectance",
          "wavelength": 442.7
         },
         "B02": {
          "bandwith": 66,
          "fill_value": 0,
          "resolution": 10,
          "sample_type": "FLOAT32",
          "units": "reflectance",
          "wavelength": 492.4
         },
         "B03": {
          "bandwith": 36,
          "fill_value": 0,
          "resolution": 10,
          "sample_type": "FLOAT32",
          "units": "reflectance",
          "wavelength": 559.8
         },
         "B04": {
          "bandwith": 31,
          "fill_value": 0,
          "resolution": 10,
          "sample_type": "FLOAT32",
          "units": "reflectance",
          "wavelength": 664.6
         },
         "B05": {
          "bandwith": 15,
          "fill_value": 0,
          "resolution": 20,
          "sample_type": "FLOAT32",
          "units": "reflectance",
          "wavelength": 704.1
         },
         "B06": {
          "bandwith": 15,
          "fill_value": 0,
          "resolution": 20,
          "sample_type": "FLOAT32",
          "units": "reflectance",
          "wavelength": 740.5
         },
         "B07": {
          "bandwith": 20,
          "fill_value": 0,
          "resolution": 20,
          "sample_type": "FLOAT32",
          "units": "reflectance",
          "wavelength": 782.8
         },
         "B08": {
          "bandwith": 106,
          "fill_value": 0,
          "resolution": 10,
          "sample_type": "FLOAT32",
          "units": "reflectance",
          "wavelength": 832.8
         },
         "B09": {
          "bandwith": 20,
          "fill_value": 0,
          "resolution": 60,
          "sample_type": "FLOAT32",
          "units": "reflectance",
          "wavelength": 945.1
         },
         "B10": {
          "bandwith": 31,
          "fill_value": 0,
          "resolution": 60,
          "sample_type": "FLOAT32",
          "units": "reflectance",
          "wavelength": 1373.5
         },
         "B11": {
          "bandwith": 91,
          "fill_value": 0,
          "resolution": 20,
          "sample_type": "FLOAT32",
          "units": "reflectance",
          "wavelength": 1613.7
         },
         "B12": {
          "bandwith": 175,
          "fill_value": 0,
          "resolution": 20,
          "sample_type": "FLOAT32",
          "units": "reflectance",
          "wavelength": 2202.4
         },
         "B8A": {
          "bandwith": 21,
          "fill_value": 0,
          "resolution": 20,
          "sample_type": "FLOAT32",
          "units": "reflectance",
          "wavelength": 864.7
         },
         "CLD": {
          "sample_type": "UINT8"
         },
         "SCL": {
          "flag_meanings": "no_data saturated_or_defective dark_area_pixels cloud_shadows vegetation bare_soils water clouds_low_probability_or_unclassified clouds_medium_probability clouds_high_probability cirrus snow_or_ice",
          "flag_values": "0,1,2,3,4,5,6,7,8,9,10,11",
          "sample_type": "UINT8"
         },
         "SNW": {
          "sample_type": "UINT8"
         },
         "sunAzimuthAngles": {
          "sample_type": "FLOAT32"
         },
         "sunZenithAngles": {
          "sample_type": "FLOAT32"
         },
         "viewAzimuthMean": {
          "sample_type": "FLOAT32"
         },
         "viewZenithMean": {
          "sample_type": "FLOAT32"
         }
        },
        "feature_type_name": "DSS2",
        "processing_level": "L2A",
        "request_period": "1D",
        "title": "Sentinel-2 - L2A"
       },
       "data_id": "S2L2A",
       "data_vars": [
        {
         "attrs": {
          "bandwith": 21,
          "fill_value": 0,
          "resolution": 60,
          "sample_type": "FLOAT32",
          "units": "reflectance",
          "wavelength": 442.7
         },
         "dims": [
          "time",
          "lat",
          "lon"
         ],
         "dtype": "FLOAT32",
         "name": "B01",
         "ndim": 3
        },
        {
         "attrs": {
          "bandwith": 66,
          "fill_value": 0,
          "resolution": 10,
          "sample_type": "FLOAT32",
          "units": "reflectance",
          "wavelength": 492.4
         },
         "dims": [
          "time",
          "lat",
          "lon"
         ],
         "dtype": "FLOAT32",
         "name": "B02",
         "ndim": 3
        },
        {
         "attrs": {
          "bandwith": 36,
          "fill_value": 0,
          "resolution": 10,
          "sample_type": "FLOAT32",
          "units": "reflectance",
          "wavelength": 559.8
         },
         "dims": [
          "time",
          "lat",
          "lon"
         ],
         "dtype": "FLOAT32",
         "name": "B03",
         "ndim": 3
        },
        {
         "attrs": {
          "bandwith": 31,
          "fill_value": 0,
          "resolution": 10,
          "sample_type": "FLOAT32",
          "units": "reflectance",
          "wavelength": 664.6
         },
         "dims": [
          "time",
          "lat",
          "lon"
         ],
         "dtype": "FLOAT32",
         "name": "B04",
         "ndim": 3
        },
        {
         "attrs": {
          "bandwith": 15,
          "fill_value": 0,
          "resolution": 20,
          "sample_type": "FLOAT32",
          "units": "reflectance",
          "wavelength": 704.1
         },
         "dims": [
          "time",
          "lat",
          "lon"
         ],
         "dtype": "FLOAT32",
         "name": "B05",
         "ndim": 3
        },
        {
         "attrs": {
          "bandwith": 15,
          "fill_value": 0,
          "resolution": 20,
          "sample_type": "FLOAT32",
          "units": "reflectance",
          "wavelength": 740.5
         },
         "dims": [
          "time",
          "lat",
          "lon"
         ],
         "dtype": "FLOAT32",
         "name": "B06",
         "ndim": 3
        },
        {
         "attrs": {
          "bandwith": 20,
          "fill_value": 0,
          "resolution": 20,
          "sample_type": "FLOAT32",
          "units": "reflectance",
          "wavelength": 782.8
         },
         "dims": [
          "time",
          "lat",
          "lon"
         ],
         "dtype": "FLOAT32",
         "name": "B07",
         "ndim": 3
        },
        {
         "attrs": {
          "bandwith": 106,
          "fill_value": 0,
          "resolution": 10,
          "sample_type": "FLOAT32",
          "units": "reflectance",
          "wavelength": 832.8
         },
         "dims": [
          "time",
          "lat",
          "lon"
         ],
         "dtype": "FLOAT32",
         "name": "B08",
         "ndim": 3
        },
        {
         "attrs": {
          "bandwith": 21,
          "fill_value": 0,
          "resolution": 20,
          "sample_type": "FLOAT32",
          "units": "reflectance",
          "wavelength": 864.7
         },
         "dims": [
          "time",
          "lat",
          "lon"
         ],
         "dtype": "FLOAT32",
         "name": "B8A",
         "ndim": 3
        },
        {
         "attrs": {
          "bandwith": 20,
          "fill_value": 0,
          "resolution": 60,
          "sample_type": "FLOAT32",
          "units": "reflectance",
          "wavelength": 945.1
         },
         "dims": [
          "time",
          "lat",
          "lon"
         ],
         "dtype": "FLOAT32",
         "name": "B09",
         "ndim": 3
        },
        {
         "attrs": {
          "bandwith": 91,
          "fill_value": 0,
          "resolution": 20,
          "sample_type": "FLOAT32",
          "units": "reflectance",
          "wavelength": 1613.7
         },
         "dims": [
          "time",
          "lat",
          "lon"
         ],
         "dtype": "FLOAT32",
         "name": "B11",
         "ndim": 3
        },
        {
         "attrs": {
          "bandwith": 175,
          "fill_value": 0,
          "resolution": 20,
          "sample_type": "FLOAT32",
          "units": "reflectance",
          "wavelength": 2202.4
         },
         "dims": [
          "time",
          "lat",
          "lon"
         ],
         "dtype": "FLOAT32",
         "name": "B12",
         "ndim": 3
        },
        {
         "attrs": {
          "flag_meanings": "no_data saturated_or_defective dark_area_pixels cloud_shadows vegetation bare_soils water clouds_low_probability_or_unclassified clouds_medium_probability clouds_high_probability cirrus snow_or_ice",
          "flag_values": "0,1,2,3,4,5,6,7,8,9,10,11",
          "sample_type": "UINT8"
         },
         "dims": [
          "time",
          "lat",
          "lon"
         ],
         "dtype": "UINT8",
         "name": "SCL",
         "ndim": 3
        },
        {
         "attrs": {
          "sample_type": "UINT8"
         },
         "dims": [
          "time",
          "lat",
          "lon"
         ],
         "dtype": "UINT8",
         "name": "SNW",
         "ndim": 3
        },
        {
         "attrs": {
          "sample_type": "UINT8"
         },
         "dims": [
          "time",
          "lat",
          "lon"
         ],
         "dtype": "UINT8",
         "name": "CLD",
         "ndim": 3
        },
        {
         "attrs": {
          "sample_type": "FLOAT32"
         },
         "dims": [
          "time",
          "lat",
          "lon"
         ],
         "dtype": "FLOAT32",
         "name": "viewZenithMean",
         "ndim": 3
        },
        {
         "attrs": {
          "sample_type": "FLOAT32"
         },
         "dims": [
          "time",
          "lat",
          "lon"
         ],
         "dtype": "FLOAT32",
         "name": "viewAzimuthMean",
         "ndim": 3
        },
        {
         "attrs": {
          "sample_type": "FLOAT32"
         },
         "dims": [
          "time",
          "lat",
          "lon"
         ],
         "dtype": "FLOAT32",
         "name": "sunZenithAngles",
         "ndim": 3
        },
        {
         "attrs": {
          "sample_type": "FLOAT32"
         },
         "dims": [
          "time",
          "lat",
          "lon"
         ],
         "dtype": "FLOAT32",
         "name": "sunAzimuthAngles",
         "ndim": 3
        },
        {
         "attrs": {
          "sample_type": "FLOAT32"
         },
         "dims": [
          "time",
          "lat",
          "lon"
         ],
         "dtype": "FLOAT32",
         "name": "AOT",
         "ndim": 3
        },
        {
         "dims": [
          "time",
          "lat",
          "lon"
         ],
         "dtype": "FLOAT32",
         "name": "CLM",
         "ndim": 3
        },
        {
         "dims": [
          "time",
          "lat",
          "lon"
         ],
         "dtype": "FLOAT32",
         "name": "CLP",
         "ndim": 3
        }
       ],
       "open_params_schema": {
        "properties": {
         "bbox": {
          "items": [
           {
            "type": "number"
           },
           {
            "type": "number"
           },
           {
            "type": "number"
           },
           {
            "type": "number"
           }
          ],
          "type": "array"
         },
         "collection_id": {
          "type": "string"
         },
         "crs": {
          "default": "http://www.opengis.net/def/crs/EPSG/0/4326",
          "enum": [
           "http://www.opengis.net/def/crs/OGC/1.3/CRS84",
           "http://www.opengis.net/def/crs/EPSG/0/4326",
           "http://www.opengis.net/def/crs/EPSG/0/3857",
           "http://www.opengis.net/def/crs/EPSG/0/2154",
           "http://www.opengis.net/def/crs/EPSG/0/2180",
           "http://www.opengis.net/def/crs/EPSG/0/2193",
           "http://www.opengis.net/def/crs/EPSG/0/3003",
           "http://www.opengis.net/def/crs/EPSG/0/3004",
           "http://www.opengis.net/def/crs/EPSG/0/3031",
           "http://www.opengis.net/def/crs/EPSG/0/3035",
           "http://www.opengis.net/def/crs/EPSG/0/3346",
           "http://www.opengis.net/def/crs/EPSG/0/3416",
           "http://www.opengis.net/def/crs/EPSG/0/3765",
           "http://www.opengis.net/def/crs/EPSG/0/3794",
           "http://www.opengis.net/def/crs/EPSG/0/3844",
           "http://www.opengis.net/def/crs/EPSG/0/3912",
           "http://www.opengis.net/def/crs/EPSG/0/3995",
           "http://www.opengis.net/def/crs/EPSG/0/4026",
           "http://www.opengis.net/def/crs/EPSG/0/5514",
           "http://www.opengis.net/def/crs/EPSG/0/28992",
           "http://www.opengis.net/def/crs/SR-ORG/0/98739",
           "http://www.opengis.net/def/crs/EPSG/0/32601",
           "http://www.opengis.net/def/crs/EPSG/0/32602",
           "http://www.opengis.net/def/crs/EPSG/0/32603",
           "http://www.opengis.net/def/crs/EPSG/0/32604",
           "http://www.opengis.net/def/crs/EPSG/0/32605",
           "http://www.opengis.net/def/crs/EPSG/0/32606",
           "http://www.opengis.net/def/crs/EPSG/0/32607",
           "http://www.opengis.net/def/crs/EPSG/0/32608",
           "http://www.opengis.net/def/crs/EPSG/0/32609",
           "http://www.opengis.net/def/crs/EPSG/0/32610",
           "http://www.opengis.net/def/crs/EPSG/0/32611",
           "http://www.opengis.net/def/crs/EPSG/0/32612",
           "http://www.opengis.net/def/crs/EPSG/0/32613",
           "http://www.opengis.net/def/crs/EPSG/0/32614",
           "http://www.opengis.net/def/crs/EPSG/0/32615",
           "http://www.opengis.net/def/crs/EPSG/0/32616",
           "http://www.opengis.net/def/crs/EPSG/0/32617",
           "http://www.opengis.net/def/crs/EPSG/0/32618",
           "http://www.opengis.net/def/crs/EPSG/0/32619",
           "http://www.opengis.net/def/crs/EPSG/0/32620",
           "http://www.opengis.net/def/crs/EPSG/0/32621",
           "http://www.opengis.net/def/crs/EPSG/0/32622",
           "http://www.opengis.net/def/crs/EPSG/0/32623",
           "http://www.opengis.net/def/crs/EPSG/0/32624",
           "http://www.opengis.net/def/crs/EPSG/0/32625",
           "http://www.opengis.net/def/crs/EPSG/0/32626",
           "http://www.opengis.net/def/crs/EPSG/0/32627",
           "http://www.opengis.net/def/crs/EPSG/0/32628",
           "http://www.opengis.net/def/crs/EPSG/0/32629",
           "http://www.opengis.net/def/crs/EPSG/0/32630",
           "http://www.opengis.net/def/crs/EPSG/0/32631",
           "http://www.opengis.net/def/crs/EPSG/0/32632",
           "http://www.opengis.net/def/crs/EPSG/0/32633",
           "http://www.opengis.net/def/crs/EPSG/0/32634",
           "http://www.opengis.net/def/crs/EPSG/0/32635",
           "http://www.opengis.net/def/crs/EPSG/0/32636",
           "http://www.opengis.net/def/crs/EPSG/0/32637",
           "http://www.opengis.net/def/crs/EPSG/0/32638",
           "http://www.opengis.net/def/crs/EPSG/0/32639",
           "http://www.opengis.net/def/crs/EPSG/0/32640",
           "http://www.opengis.net/def/crs/EPSG/0/32641",
           "http://www.opengis.net/def/crs/EPSG/0/32642",
           "http://www.opengis.net/def/crs/EPSG/0/32643",
           "http://www.opengis.net/def/crs/EPSG/0/32644",
           "http://www.opengis.net/def/crs/EPSG/0/32645",
           "http://www.opengis.net/def/crs/EPSG/0/32646",
           "http://www.opengis.net/def/crs/EPSG/0/32647",
           "http://www.opengis.net/def/crs/EPSG/0/32648",
           "http://www.opengis.net/def/crs/EPSG/0/32649",
           "http://www.opengis.net/def/crs/EPSG/0/32650",
           "http://www.opengis.net/def/crs/EPSG/0/32651",
           "http://www.opengis.net/def/crs/EPSG/0/32652",
           "http://www.opengis.net/def/crs/EPSG/0/32653",
           "http://www.opengis.net/def/crs/EPSG/0/32654",
           "http://www.opengis.net/def/crs/EPSG/0/32655",
           "http://www.opengis.net/def/crs/EPSG/0/32656",
           "http://www.opengis.net/def/crs/EPSG/0/32657",
           "http://www.opengis.net/def/crs/EPSG/0/32658",
           "http://www.opengis.net/def/crs/EPSG/0/32659",
           "http://www.opengis.net/def/crs/EPSG/0/32660",
           "http://www.opengis.net/def/crs/EPSG/0/32701",
           "http://www.opengis.net/def/crs/EPSG/0/32702",
           "http://www.opengis.net/def/crs/EPSG/0/32703",
           "http://www.opengis.net/def/crs/EPSG/0/32704",
           "http://www.opengis.net/def/crs/EPSG/0/32705",
           "http://www.opengis.net/def/crs/EPSG/0/32706",
           "http://www.opengis.net/def/crs/EPSG/0/32707",
           "http://www.opengis.net/def/crs/EPSG/0/32708",
           "http://www.opengis.net/def/crs/EPSG/0/32709",
           "http://www.opengis.net/def/crs/EPSG/0/32710",
           "http://www.opengis.net/def/crs/EPSG/0/32711",
           "http://www.opengis.net/def/crs/EPSG/0/32712",
           "http://www.opengis.net/def/crs/EPSG/0/32713",
           "http://www.opengis.net/def/crs/EPSG/0/32714",
           "http://www.opengis.net/def/crs/EPSG/0/32715",
           "http://www.opengis.net/def/crs/EPSG/0/32716",
           "http://www.opengis.net/def/crs/EPSG/0/32717",
           "http://www.opengis.net/def/crs/EPSG/0/32718",
           "http://www.opengis.net/def/crs/EPSG/0/32719",
           "http://www.opengis.net/def/crs/EPSG/0/32720",
           "http://www.opengis.net/def/crs/EPSG/0/32721",
           "http://www.opengis.net/def/crs/EPSG/0/32722",
           "http://www.opengis.net/def/crs/EPSG/0/32723",
           "http://www.opengis.net/def/crs/EPSG/0/32724",
           "http://www.opengis.net/def/crs/EPSG/0/32725",
           "http://www.opengis.net/def/crs/EPSG/0/32726",
           "http://www.opengis.net/def/crs/EPSG/0/32727",
           "http://www.opengis.net/def/crs/EPSG/0/32728",
           "http://www.opengis.net/def/crs/EPSG/0/32729",
           "http://www.opengis.net/def/crs/EPSG/0/32730",
           "http://www.opengis.net/def/crs/EPSG/0/32731",
           "http://www.opengis.net/def/crs/EPSG/0/32732",
           "http://www.opengis.net/def/crs/EPSG/0/32733",
           "http://www.opengis.net/def/crs/EPSG/0/32734",
           "http://www.opengis.net/def/crs/EPSG/0/32735",
           "http://www.opengis.net/def/crs/EPSG/0/32736",
           "http://www.opengis.net/def/crs/EPSG/0/32737",
           "http://www.opengis.net/def/crs/EPSG/0/32738",
           "http://www.opengis.net/def/crs/EPSG/0/32739",
           "http://www.opengis.net/def/crs/EPSG/0/32740",
           "http://www.opengis.net/def/crs/EPSG/0/32741",
           "http://www.opengis.net/def/crs/EPSG/0/32742",
           "http://www.opengis.net/def/crs/EPSG/0/32743",
           "http://www.opengis.net/def/crs/EPSG/0/32744",
           "http://www.opengis.net/def/crs/EPSG/0/32745",
           "http://www.opengis.net/def/crs/EPSG/0/32746",
           "http://www.opengis.net/def/crs/EPSG/0/32747",
           "http://www.opengis.net/def/crs/EPSG/0/32748",
           "http://www.opengis.net/def/crs/EPSG/0/32749",
           "http://www.opengis.net/def/crs/EPSG/0/32750",
           "http://www.opengis.net/def/crs/EPSG/0/32751",
           "http://www.opengis.net/def/crs/EPSG/0/32752",
           "http://www.opengis.net/def/crs/EPSG/0/32753",
           "http://www.opengis.net/def/crs/EPSG/0/32754",
           "http://www.opengis.net/def/crs/EPSG/0/32755",
           "http://www.opengis.net/def/crs/EPSG/0/32756",
           "http://www.opengis.net/def/crs/EPSG/0/32757",
           "http://www.opengis.net/def/crs/EPSG/0/32758",
           "http://www.opengis.net/def/crs/EPSG/0/32759",
           "http://www.opengis.net/def/crs/EPSG/0/32760"
          ],
          "type": "string"
         },
         "dataset_name": {
          "minLength": 1,
          "type": "string"
         },
         "four_d": {
          "default": false,
          "type": "boolean"
         },
         "max_cache_size": {
          "minimum": 0,
          "type": "integer"
         },
         "spatial_res": {
          "exclusiveMinimum": 0,
          "type": "number"
         },
         "tile_size": {
          "default": [
           1000,
           1000
          ],
          "items": [
           {
            "default": 1000,
            "maximum": 2500,
            "minimum": 1,
            "type": "number"
           },
           {
            "default": 1000,
            "maximum": 2500,
            "minimum": 1,
            "type": "number"
           }
          ],
          "type": "array"
         },
         "time_period": {
          "default": "1D",
          "enum": [
           null,
           "1D",
           "2D",
           "3D",
           "4D",
           "5D",
           "6D",
           "1W",
           "2W"
          ],
          "type": [
           "string",
           "null"
          ]
         },
         "time_range": {
          "items": [
           {
            "anyOf": [
             {
              "type": [
               "string",
               "null"
              ]
             },
             {
              "type": [
               "string",
               "null"
              ]
             }
            ],
            "type": "string"
           },
           {
            "anyOf": [
             {
              "type": [
               "string",
               "null"
              ]
             },
             {
              "type": [
               "string",
               "null"
              ]
             }
            ],
            "type": [
             "string",
             "null"
            ]
           }
          ],
          "type": "array"
         },
         "time_tolerance": {
          "default": "10M",
          "format": "^([1-9]*[0-9]*)[NULSTH]$",
          "type": "string"
         },
         "variable_names": {
          "items": {
           "enum": [
            "B01",
            "B02",
            "B03",
            "B04",
            "B05",
            "B06",
            "B07",
            "B08",
            "B8A",
            "B09",
            "B11",
            "B12",
            "SCL",
            "SNW",
            "CLD",
            "viewZenithMean",
            "viewAzimuthMean",
            "sunZenithAngles",
            "sunAzimuthAngles",
            "AOT",
            "CLM",
            "CLP"
           ],
           "type": "string"
          },
          "type": "array"
         },
         "variable_sample_types": {
          "type": "array"
         },
         "variable_units": {
          "type": "array"
         }
        },
        "required": [
         "bbox",
         "time_range",
         "spatial_res"
        ],
        "type": "object"
       },
       "type_id": "dataset"
      },
      "text/plain": [
       "<xcube.core.store.descriptor.DatasetDescriptor at 0x7f20339e4a10>"
      ]
     },
     "execution_count": 41,
     "metadata": {},
     "output_type": "execute_result"
    }
   ],
   "source": [
    "store.describe_data('S2L2A')"
   ]
  },
  {
   "cell_type": "markdown",
   "metadata": {},
   "source": [
    "Which parameters must be passsed or are available to open the dataset? "
   ]
  },
  {
   "cell_type": "code",
   "execution_count": 42,
   "metadata": {},
   "outputs": [
    {
     "data": {
      "application/json": {
       "properties": {
        "bbox": {
         "items": [
          {
           "type": "number"
          },
          {
           "type": "number"
          },
          {
           "type": "number"
          },
          {
           "type": "number"
          }
         ],
         "type": "array"
        },
        "collection_id": {
         "type": "string"
        },
        "crs": {
         "default": "http://www.opengis.net/def/crs/EPSG/0/4326",
         "enum": [
          "http://www.opengis.net/def/crs/OGC/1.3/CRS84",
          "http://www.opengis.net/def/crs/EPSG/0/4326",
          "http://www.opengis.net/def/crs/EPSG/0/3857",
          "http://www.opengis.net/def/crs/EPSG/0/2154",
          "http://www.opengis.net/def/crs/EPSG/0/2180",
          "http://www.opengis.net/def/crs/EPSG/0/2193",
          "http://www.opengis.net/def/crs/EPSG/0/3003",
          "http://www.opengis.net/def/crs/EPSG/0/3004",
          "http://www.opengis.net/def/crs/EPSG/0/3031",
          "http://www.opengis.net/def/crs/EPSG/0/3035",
          "http://www.opengis.net/def/crs/EPSG/0/3346",
          "http://www.opengis.net/def/crs/EPSG/0/3416",
          "http://www.opengis.net/def/crs/EPSG/0/3765",
          "http://www.opengis.net/def/crs/EPSG/0/3794",
          "http://www.opengis.net/def/crs/EPSG/0/3844",
          "http://www.opengis.net/def/crs/EPSG/0/3912",
          "http://www.opengis.net/def/crs/EPSG/0/3995",
          "http://www.opengis.net/def/crs/EPSG/0/4026",
          "http://www.opengis.net/def/crs/EPSG/0/5514",
          "http://www.opengis.net/def/crs/EPSG/0/28992",
          "http://www.opengis.net/def/crs/SR-ORG/0/98739",
          "http://www.opengis.net/def/crs/EPSG/0/32601",
          "http://www.opengis.net/def/crs/EPSG/0/32602",
          "http://www.opengis.net/def/crs/EPSG/0/32603",
          "http://www.opengis.net/def/crs/EPSG/0/32604",
          "http://www.opengis.net/def/crs/EPSG/0/32605",
          "http://www.opengis.net/def/crs/EPSG/0/32606",
          "http://www.opengis.net/def/crs/EPSG/0/32607",
          "http://www.opengis.net/def/crs/EPSG/0/32608",
          "http://www.opengis.net/def/crs/EPSG/0/32609",
          "http://www.opengis.net/def/crs/EPSG/0/32610",
          "http://www.opengis.net/def/crs/EPSG/0/32611",
          "http://www.opengis.net/def/crs/EPSG/0/32612",
          "http://www.opengis.net/def/crs/EPSG/0/32613",
          "http://www.opengis.net/def/crs/EPSG/0/32614",
          "http://www.opengis.net/def/crs/EPSG/0/32615",
          "http://www.opengis.net/def/crs/EPSG/0/32616",
          "http://www.opengis.net/def/crs/EPSG/0/32617",
          "http://www.opengis.net/def/crs/EPSG/0/32618",
          "http://www.opengis.net/def/crs/EPSG/0/32619",
          "http://www.opengis.net/def/crs/EPSG/0/32620",
          "http://www.opengis.net/def/crs/EPSG/0/32621",
          "http://www.opengis.net/def/crs/EPSG/0/32622",
          "http://www.opengis.net/def/crs/EPSG/0/32623",
          "http://www.opengis.net/def/crs/EPSG/0/32624",
          "http://www.opengis.net/def/crs/EPSG/0/32625",
          "http://www.opengis.net/def/crs/EPSG/0/32626",
          "http://www.opengis.net/def/crs/EPSG/0/32627",
          "http://www.opengis.net/def/crs/EPSG/0/32628",
          "http://www.opengis.net/def/crs/EPSG/0/32629",
          "http://www.opengis.net/def/crs/EPSG/0/32630",
          "http://www.opengis.net/def/crs/EPSG/0/32631",
          "http://www.opengis.net/def/crs/EPSG/0/32632",
          "http://www.opengis.net/def/crs/EPSG/0/32633",
          "http://www.opengis.net/def/crs/EPSG/0/32634",
          "http://www.opengis.net/def/crs/EPSG/0/32635",
          "http://www.opengis.net/def/crs/EPSG/0/32636",
          "http://www.opengis.net/def/crs/EPSG/0/32637",
          "http://www.opengis.net/def/crs/EPSG/0/32638",
          "http://www.opengis.net/def/crs/EPSG/0/32639",
          "http://www.opengis.net/def/crs/EPSG/0/32640",
          "http://www.opengis.net/def/crs/EPSG/0/32641",
          "http://www.opengis.net/def/crs/EPSG/0/32642",
          "http://www.opengis.net/def/crs/EPSG/0/32643",
          "http://www.opengis.net/def/crs/EPSG/0/32644",
          "http://www.opengis.net/def/crs/EPSG/0/32645",
          "http://www.opengis.net/def/crs/EPSG/0/32646",
          "http://www.opengis.net/def/crs/EPSG/0/32647",
          "http://www.opengis.net/def/crs/EPSG/0/32648",
          "http://www.opengis.net/def/crs/EPSG/0/32649",
          "http://www.opengis.net/def/crs/EPSG/0/32650",
          "http://www.opengis.net/def/crs/EPSG/0/32651",
          "http://www.opengis.net/def/crs/EPSG/0/32652",
          "http://www.opengis.net/def/crs/EPSG/0/32653",
          "http://www.opengis.net/def/crs/EPSG/0/32654",
          "http://www.opengis.net/def/crs/EPSG/0/32655",
          "http://www.opengis.net/def/crs/EPSG/0/32656",
          "http://www.opengis.net/def/crs/EPSG/0/32657",
          "http://www.opengis.net/def/crs/EPSG/0/32658",
          "http://www.opengis.net/def/crs/EPSG/0/32659",
          "http://www.opengis.net/def/crs/EPSG/0/32660",
          "http://www.opengis.net/def/crs/EPSG/0/32701",
          "http://www.opengis.net/def/crs/EPSG/0/32702",
          "http://www.opengis.net/def/crs/EPSG/0/32703",
          "http://www.opengis.net/def/crs/EPSG/0/32704",
          "http://www.opengis.net/def/crs/EPSG/0/32705",
          "http://www.opengis.net/def/crs/EPSG/0/32706",
          "http://www.opengis.net/def/crs/EPSG/0/32707",
          "http://www.opengis.net/def/crs/EPSG/0/32708",
          "http://www.opengis.net/def/crs/EPSG/0/32709",
          "http://www.opengis.net/def/crs/EPSG/0/32710",
          "http://www.opengis.net/def/crs/EPSG/0/32711",
          "http://www.opengis.net/def/crs/EPSG/0/32712",
          "http://www.opengis.net/def/crs/EPSG/0/32713",
          "http://www.opengis.net/def/crs/EPSG/0/32714",
          "http://www.opengis.net/def/crs/EPSG/0/32715",
          "http://www.opengis.net/def/crs/EPSG/0/32716",
          "http://www.opengis.net/def/crs/EPSG/0/32717",
          "http://www.opengis.net/def/crs/EPSG/0/32718",
          "http://www.opengis.net/def/crs/EPSG/0/32719",
          "http://www.opengis.net/def/crs/EPSG/0/32720",
          "http://www.opengis.net/def/crs/EPSG/0/32721",
          "http://www.opengis.net/def/crs/EPSG/0/32722",
          "http://www.opengis.net/def/crs/EPSG/0/32723",
          "http://www.opengis.net/def/crs/EPSG/0/32724",
          "http://www.opengis.net/def/crs/EPSG/0/32725",
          "http://www.opengis.net/def/crs/EPSG/0/32726",
          "http://www.opengis.net/def/crs/EPSG/0/32727",
          "http://www.opengis.net/def/crs/EPSG/0/32728",
          "http://www.opengis.net/def/crs/EPSG/0/32729",
          "http://www.opengis.net/def/crs/EPSG/0/32730",
          "http://www.opengis.net/def/crs/EPSG/0/32731",
          "http://www.opengis.net/def/crs/EPSG/0/32732",
          "http://www.opengis.net/def/crs/EPSG/0/32733",
          "http://www.opengis.net/def/crs/EPSG/0/32734",
          "http://www.opengis.net/def/crs/EPSG/0/32735",
          "http://www.opengis.net/def/crs/EPSG/0/32736",
          "http://www.opengis.net/def/crs/EPSG/0/32737",
          "http://www.opengis.net/def/crs/EPSG/0/32738",
          "http://www.opengis.net/def/crs/EPSG/0/32739",
          "http://www.opengis.net/def/crs/EPSG/0/32740",
          "http://www.opengis.net/def/crs/EPSG/0/32741",
          "http://www.opengis.net/def/crs/EPSG/0/32742",
          "http://www.opengis.net/def/crs/EPSG/0/32743",
          "http://www.opengis.net/def/crs/EPSG/0/32744",
          "http://www.opengis.net/def/crs/EPSG/0/32745",
          "http://www.opengis.net/def/crs/EPSG/0/32746",
          "http://www.opengis.net/def/crs/EPSG/0/32747",
          "http://www.opengis.net/def/crs/EPSG/0/32748",
          "http://www.opengis.net/def/crs/EPSG/0/32749",
          "http://www.opengis.net/def/crs/EPSG/0/32750",
          "http://www.opengis.net/def/crs/EPSG/0/32751",
          "http://www.opengis.net/def/crs/EPSG/0/32752",
          "http://www.opengis.net/def/crs/EPSG/0/32753",
          "http://www.opengis.net/def/crs/EPSG/0/32754",
          "http://www.opengis.net/def/crs/EPSG/0/32755",
          "http://www.opengis.net/def/crs/EPSG/0/32756",
          "http://www.opengis.net/def/crs/EPSG/0/32757",
          "http://www.opengis.net/def/crs/EPSG/0/32758",
          "http://www.opengis.net/def/crs/EPSG/0/32759",
          "http://www.opengis.net/def/crs/EPSG/0/32760"
         ],
         "type": "string"
        },
        "dataset_name": {
         "minLength": 1,
         "type": "string"
        },
        "four_d": {
         "default": false,
         "type": "boolean"
        },
        "max_cache_size": {
         "minimum": 0,
         "type": "integer"
        },
        "spatial_res": {
         "exclusiveMinimum": 0,
         "type": "number"
        },
        "tile_size": {
         "default": [
          1000,
          1000
         ],
         "items": [
          {
           "default": 1000,
           "maximum": 2500,
           "minimum": 1,
           "type": "number"
          },
          {
           "default": 1000,
           "maximum": 2500,
           "minimum": 1,
           "type": "number"
          }
         ],
         "type": "array"
        },
        "time_period": {
         "default": "1D",
         "enum": [
          null,
          "1D",
          "2D",
          "3D",
          "4D",
          "5D",
          "6D",
          "1W",
          "2W"
         ],
         "type": [
          "string",
          "null"
         ]
        },
        "time_range": {
         "items": [
          {
           "anyOf": [
            {
             "type": [
              "string",
              "null"
             ]
            },
            {
             "type": [
              "string",
              "null"
             ]
            }
           ],
           "type": "string"
          },
          {
           "anyOf": [
            {
             "type": [
              "string",
              "null"
             ]
            },
            {
             "type": [
              "string",
              "null"
             ]
            }
           ],
           "type": [
            "string",
            "null"
           ]
          }
         ],
         "type": "array"
        },
        "time_tolerance": {
         "default": "10M",
         "format": "^([1-9]*[0-9]*)[NULSTH]$",
         "type": "string"
        },
        "variable_names": {
         "items": {
          "enum": [
           "B01",
           "B02",
           "B03",
           "B04",
           "B05",
           "B06",
           "B07",
           "B08",
           "B8A",
           "B09",
           "B11",
           "B12",
           "SCL",
           "SNW",
           "CLD",
           "viewZenithMean",
           "viewAzimuthMean",
           "sunZenithAngles",
           "sunAzimuthAngles",
           "AOT",
           "CLM",
           "CLP"
          ],
          "type": "string"
         },
         "type": "array"
        },
        "variable_sample_types": {
         "type": "array"
        },
        "variable_units": {
         "type": "array"
        }
       },
       "required": [
        "bbox",
        "time_range",
        "spatial_res"
       ],
       "type": "object"
      },
      "text/plain": [
       "<xcube.util.jsonschema.JsonObjectSchema at 0x7f2033c82290>"
      ]
     },
     "execution_count": 42,
     "metadata": {},
     "output_type": "execute_result"
    }
   ],
   "source": [
    "store.get_open_data_params_schema('S2L2A')"
   ]
  },
  {
   "cell_type": "markdown",
   "metadata": {},
   "source": [
    "There are 3 required parameters, so we need to provide them to open a dataset, one of them being bbox. Let's set a region covering Hamburg:"
   ]
  },
  {
   "cell_type": "code",
   "execution_count": 43,
   "metadata": {},
   "outputs": [],
   "source": [
    "bbox=[9.7, 53.4, 10.2, 53.7]"
   ]
  },
  {
   "cell_type": "markdown",
   "metadata": {},
   "source": [
    "Take a look at the bbox in order to make sure the area is correctly set: "
   ]
  },
  {
   "cell_type": "code",
   "execution_count": 44,
   "metadata": {},
   "outputs": [
    {
     "data": {
      "application/geo+json": {
       "coordinates": [
        [
         [
          10.2,
          53.4
         ],
         [
          10.2,
          53.7
         ],
         [
          9.7,
          53.7
         ],
         [
          9.7,
          53.4
         ],
         [
          10.2,
          53.4
         ]
        ]
       ],
       "type": "Polygon"
      },
      "text/plain": [
       "<IPython.display.GeoJSON object>"
      ]
     },
     "metadata": {
      "application/geo+json": {
       "expanded": false,
       "root": "root"
      }
     },
     "output_type": "display_data"
    }
   ],
   "source": [
    "IPython.display.GeoJSON(shapely.geometry.box(*bbox).__geo_interface__)"
   ]
  },
  {
   "cell_type": "markdown",
   "metadata": {},
   "source": [
    "Now set the other parameters for opening the dataset from the store: "
   ]
  },
  {
   "cell_type": "code",
   "execution_count": 49,
   "metadata": {},
   "outputs": [
    {
     "data": {
      "text/html": [
       "<div><svg style=\"position: absolute; width: 0; height: 0; overflow: hidden\">\n",
       "<defs>\n",
       "<symbol id=\"icon-database\" viewBox=\"0 0 32 32\">\n",
       "<path d=\"M16 0c-8.837 0-16 2.239-16 5v4c0 2.761 7.163 5 16 5s16-2.239 16-5v-4c0-2.761-7.163-5-16-5z\"></path>\n",
       "<path d=\"M16 17c-8.837 0-16-2.239-16-5v6c0 2.761 7.163 5 16 5s16-2.239 16-5v-6c0 2.761-7.163 5-16 5z\"></path>\n",
       "<path d=\"M16 26c-8.837 0-16-2.239-16-5v6c0 2.761 7.163 5 16 5s16-2.239 16-5v-6c0 2.761-7.163 5-16 5z\"></path>\n",
       "</symbol>\n",
       "<symbol id=\"icon-file-text2\" viewBox=\"0 0 32 32\">\n",
       "<path d=\"M28.681 7.159c-0.694-0.947-1.662-2.053-2.724-3.116s-2.169-2.030-3.116-2.724c-1.612-1.182-2.393-1.319-2.841-1.319h-15.5c-1.378 0-2.5 1.121-2.5 2.5v27c0 1.378 1.122 2.5 2.5 2.5h23c1.378 0 2.5-1.122 2.5-2.5v-19.5c0-0.448-0.137-1.23-1.319-2.841zM24.543 5.457c0.959 0.959 1.712 1.825 2.268 2.543h-4.811v-4.811c0.718 0.556 1.584 1.309 2.543 2.268zM28 29.5c0 0.271-0.229 0.5-0.5 0.5h-23c-0.271 0-0.5-0.229-0.5-0.5v-27c0-0.271 0.229-0.5 0.5-0.5 0 0 15.499-0 15.5 0v7c0 0.552 0.448 1 1 1h7v19.5z\"></path>\n",
       "<path d=\"M23 26h-14c-0.552 0-1-0.448-1-1s0.448-1 1-1h14c0.552 0 1 0.448 1 1s-0.448 1-1 1z\"></path>\n",
       "<path d=\"M23 22h-14c-0.552 0-1-0.448-1-1s0.448-1 1-1h14c0.552 0 1 0.448 1 1s-0.448 1-1 1z\"></path>\n",
       "<path d=\"M23 18h-14c-0.552 0-1-0.448-1-1s0.448-1 1-1h14c0.552 0 1 0.448 1 1s-0.448 1-1 1z\"></path>\n",
       "</symbol>\n",
       "</defs>\n",
       "</svg>\n",
       "<style>/* CSS stylesheet for displaying xarray objects in jupyterlab.\n",
       " *\n",
       " */\n",
       "\n",
       ":root {\n",
       "  --xr-font-color0: var(--jp-content-font-color0, rgba(0, 0, 0, 1));\n",
       "  --xr-font-color2: var(--jp-content-font-color2, rgba(0, 0, 0, 0.54));\n",
       "  --xr-font-color3: var(--jp-content-font-color3, rgba(0, 0, 0, 0.38));\n",
       "  --xr-border-color: var(--jp-border-color2, #e0e0e0);\n",
       "  --xr-disabled-color: var(--jp-layout-color3, #bdbdbd);\n",
       "  --xr-background-color: var(--jp-layout-color0, white);\n",
       "  --xr-background-color-row-even: var(--jp-layout-color1, white);\n",
       "  --xr-background-color-row-odd: var(--jp-layout-color2, #eeeeee);\n",
       "}\n",
       "\n",
       "html[theme=dark],\n",
       "body.vscode-dark {\n",
       "  --xr-font-color0: rgba(255, 255, 255, 1);\n",
       "  --xr-font-color2: rgba(255, 255, 255, 0.54);\n",
       "  --xr-font-color3: rgba(255, 255, 255, 0.38);\n",
       "  --xr-border-color: #1F1F1F;\n",
       "  --xr-disabled-color: #515151;\n",
       "  --xr-background-color: #111111;\n",
       "  --xr-background-color-row-even: #111111;\n",
       "  --xr-background-color-row-odd: #313131;\n",
       "}\n",
       "\n",
       ".xr-wrap {\n",
       "  display: block;\n",
       "  min-width: 300px;\n",
       "  max-width: 700px;\n",
       "}\n",
       "\n",
       ".xr-text-repr-fallback {\n",
       "  /* fallback to plain text repr when CSS is not injected (untrusted notebook) */\n",
       "  display: none;\n",
       "}\n",
       "\n",
       ".xr-header {\n",
       "  padding-top: 6px;\n",
       "  padding-bottom: 6px;\n",
       "  margin-bottom: 4px;\n",
       "  border-bottom: solid 1px var(--xr-border-color);\n",
       "}\n",
       "\n",
       ".xr-header > div,\n",
       ".xr-header > ul {\n",
       "  display: inline;\n",
       "  margin-top: 0;\n",
       "  margin-bottom: 0;\n",
       "}\n",
       "\n",
       ".xr-obj-type,\n",
       ".xr-array-name {\n",
       "  margin-left: 2px;\n",
       "  margin-right: 10px;\n",
       "}\n",
       "\n",
       ".xr-obj-type {\n",
       "  color: var(--xr-font-color2);\n",
       "}\n",
       "\n",
       ".xr-sections {\n",
       "  padding-left: 0 !important;\n",
       "  display: grid;\n",
       "  grid-template-columns: 150px auto auto 1fr 20px 20px;\n",
       "}\n",
       "\n",
       ".xr-section-item {\n",
       "  display: contents;\n",
       "}\n",
       "\n",
       ".xr-section-item input {\n",
       "  display: none;\n",
       "}\n",
       "\n",
       ".xr-section-item input + label {\n",
       "  color: var(--xr-disabled-color);\n",
       "}\n",
       "\n",
       ".xr-section-item input:enabled + label {\n",
       "  cursor: pointer;\n",
       "  color: var(--xr-font-color2);\n",
       "}\n",
       "\n",
       ".xr-section-item input:enabled + label:hover {\n",
       "  color: var(--xr-font-color0);\n",
       "}\n",
       "\n",
       ".xr-section-summary {\n",
       "  grid-column: 1;\n",
       "  color: var(--xr-font-color2);\n",
       "  font-weight: 500;\n",
       "}\n",
       "\n",
       ".xr-section-summary > span {\n",
       "  display: inline-block;\n",
       "  padding-left: 0.5em;\n",
       "}\n",
       "\n",
       ".xr-section-summary-in:disabled + label {\n",
       "  color: var(--xr-font-color2);\n",
       "}\n",
       "\n",
       ".xr-section-summary-in + label:before {\n",
       "  display: inline-block;\n",
       "  content: '►';\n",
       "  font-size: 11px;\n",
       "  width: 15px;\n",
       "  text-align: center;\n",
       "}\n",
       "\n",
       ".xr-section-summary-in:disabled + label:before {\n",
       "  color: var(--xr-disabled-color);\n",
       "}\n",
       "\n",
       ".xr-section-summary-in:checked + label:before {\n",
       "  content: '▼';\n",
       "}\n",
       "\n",
       ".xr-section-summary-in:checked + label > span {\n",
       "  display: none;\n",
       "}\n",
       "\n",
       ".xr-section-summary,\n",
       ".xr-section-inline-details {\n",
       "  padding-top: 4px;\n",
       "  padding-bottom: 4px;\n",
       "}\n",
       "\n",
       ".xr-section-inline-details {\n",
       "  grid-column: 2 / -1;\n",
       "}\n",
       "\n",
       ".xr-section-details {\n",
       "  display: none;\n",
       "  grid-column: 1 / -1;\n",
       "  margin-bottom: 5px;\n",
       "}\n",
       "\n",
       ".xr-section-summary-in:checked ~ .xr-section-details {\n",
       "  display: contents;\n",
       "}\n",
       "\n",
       ".xr-array-wrap {\n",
       "  grid-column: 1 / -1;\n",
       "  display: grid;\n",
       "  grid-template-columns: 20px auto;\n",
       "}\n",
       "\n",
       ".xr-array-wrap > label {\n",
       "  grid-column: 1;\n",
       "  vertical-align: top;\n",
       "}\n",
       "\n",
       ".xr-preview {\n",
       "  color: var(--xr-font-color3);\n",
       "}\n",
       "\n",
       ".xr-array-preview,\n",
       ".xr-array-data {\n",
       "  padding: 0 5px !important;\n",
       "  grid-column: 2;\n",
       "}\n",
       "\n",
       ".xr-array-data,\n",
       ".xr-array-in:checked ~ .xr-array-preview {\n",
       "  display: none;\n",
       "}\n",
       "\n",
       ".xr-array-in:checked ~ .xr-array-data,\n",
       ".xr-array-preview {\n",
       "  display: inline-block;\n",
       "}\n",
       "\n",
       ".xr-dim-list {\n",
       "  display: inline-block !important;\n",
       "  list-style: none;\n",
       "  padding: 0 !important;\n",
       "  margin: 0;\n",
       "}\n",
       "\n",
       ".xr-dim-list li {\n",
       "  display: inline-block;\n",
       "  padding: 0;\n",
       "  margin: 0;\n",
       "}\n",
       "\n",
       ".xr-dim-list:before {\n",
       "  content: '(';\n",
       "}\n",
       "\n",
       ".xr-dim-list:after {\n",
       "  content: ')';\n",
       "}\n",
       "\n",
       ".xr-dim-list li:not(:last-child):after {\n",
       "  content: ',';\n",
       "  padding-right: 5px;\n",
       "}\n",
       "\n",
       ".xr-has-index {\n",
       "  font-weight: bold;\n",
       "}\n",
       "\n",
       ".xr-var-list,\n",
       ".xr-var-item {\n",
       "  display: contents;\n",
       "}\n",
       "\n",
       ".xr-var-item > div,\n",
       ".xr-var-item label,\n",
       ".xr-var-item > .xr-var-name span {\n",
       "  background-color: var(--xr-background-color-row-even);\n",
       "  margin-bottom: 0;\n",
       "}\n",
       "\n",
       ".xr-var-item > .xr-var-name:hover span {\n",
       "  padding-right: 5px;\n",
       "}\n",
       "\n",
       ".xr-var-list > li:nth-child(odd) > div,\n",
       ".xr-var-list > li:nth-child(odd) > label,\n",
       ".xr-var-list > li:nth-child(odd) > .xr-var-name span {\n",
       "  background-color: var(--xr-background-color-row-odd);\n",
       "}\n",
       "\n",
       ".xr-var-name {\n",
       "  grid-column: 1;\n",
       "}\n",
       "\n",
       ".xr-var-dims {\n",
       "  grid-column: 2;\n",
       "}\n",
       "\n",
       ".xr-var-dtype {\n",
       "  grid-column: 3;\n",
       "  text-align: right;\n",
       "  color: var(--xr-font-color2);\n",
       "}\n",
       "\n",
       ".xr-var-preview {\n",
       "  grid-column: 4;\n",
       "}\n",
       "\n",
       ".xr-var-name,\n",
       ".xr-var-dims,\n",
       ".xr-var-dtype,\n",
       ".xr-preview,\n",
       ".xr-attrs dt {\n",
       "  white-space: nowrap;\n",
       "  overflow: hidden;\n",
       "  text-overflow: ellipsis;\n",
       "  padding-right: 10px;\n",
       "}\n",
       "\n",
       ".xr-var-name:hover,\n",
       ".xr-var-dims:hover,\n",
       ".xr-var-dtype:hover,\n",
       ".xr-attrs dt:hover {\n",
       "  overflow: visible;\n",
       "  width: auto;\n",
       "  z-index: 1;\n",
       "}\n",
       "\n",
       ".xr-var-attrs,\n",
       ".xr-var-data {\n",
       "  display: none;\n",
       "  background-color: var(--xr-background-color) !important;\n",
       "  padding-bottom: 5px !important;\n",
       "}\n",
       "\n",
       ".xr-var-attrs-in:checked ~ .xr-var-attrs,\n",
       ".xr-var-data-in:checked ~ .xr-var-data {\n",
       "  display: block;\n",
       "}\n",
       "\n",
       ".xr-var-data > table {\n",
       "  float: right;\n",
       "}\n",
       "\n",
       ".xr-var-name span,\n",
       ".xr-var-data,\n",
       ".xr-attrs {\n",
       "  padding-left: 25px !important;\n",
       "}\n",
       "\n",
       ".xr-attrs,\n",
       ".xr-var-attrs,\n",
       ".xr-var-data {\n",
       "  grid-column: 1 / -1;\n",
       "}\n",
       "\n",
       "dl.xr-attrs {\n",
       "  padding: 0;\n",
       "  margin: 0;\n",
       "  display: grid;\n",
       "  grid-template-columns: 125px auto;\n",
       "}\n",
       "\n",
       ".xr-attrs dt, dd {\n",
       "  padding: 0;\n",
       "  margin: 0;\n",
       "  float: left;\n",
       "  padding-right: 10px;\n",
       "  width: auto;\n",
       "}\n",
       "\n",
       ".xr-attrs dt {\n",
       "  font-weight: normal;\n",
       "  grid-column: 1;\n",
       "}\n",
       "\n",
       ".xr-attrs dt:hover span {\n",
       "  display: inline-block;\n",
       "  background: var(--xr-background-color);\n",
       "  padding-right: 10px;\n",
       "}\n",
       "\n",
       ".xr-attrs dd {\n",
       "  grid-column: 2;\n",
       "  white-space: pre-wrap;\n",
       "  word-break: break-all;\n",
       "}\n",
       "\n",
       ".xr-icon-database,\n",
       ".xr-icon-file-text2 {\n",
       "  display: inline-block;\n",
       "  vertical-align: middle;\n",
       "  width: 1em;\n",
       "  height: 1.5em !important;\n",
       "  stroke-width: 0;\n",
       "  stroke: currentColor;\n",
       "  fill: currentColor;\n",
       "}\n",
       "</style><pre class='xr-text-repr-fallback'>&lt;xarray.Dataset&gt;\n",
       "Dimensions:    (bnds: 2, lat: 2325, lon: 3873, time: 11)\n",
       "Coordinates:\n",
       "  * lat        (lat) float64 53.82 53.82 53.82 53.82 ... 53.4 53.4 53.4 53.4\n",
       "  * lon        (lon) float64 9.7 9.7 9.7 9.701 9.701 ... 10.4 10.4 10.4 10.4\n",
       "  * time       (time) datetime64[ns] 2020-08-10T12:00:00 ... 2020-08-20T12:00:00\n",
       "    time_bnds  (time, bnds) datetime64[ns] dask.array&lt;chunksize=(11, 2), meta=np.ndarray&gt;\n",
       "Dimensions without coordinates: bnds\n",
       "Data variables:\n",
       "    B04        (time, lat, lon) float32 dask.array&lt;chunksize=(1, 775, 1291), meta=np.ndarray&gt;\n",
       "Attributes:\n",
       "    Conventions:               CF-1.7\n",
       "    title:                     S2L2A Data Cube Subset\n",
       "    history:                   [{&#x27;program&#x27;: &#x27;xcube_sh.chunkstore.SentinelHubC...\n",
       "    date_created:              2020-10-27T09:59:14.469340\n",
       "    processing_level:          L2A\n",
       "    time_coverage_start:       2020-08-10T00:00:00+00:00\n",
       "    time_coverage_end:         2020-08-21T00:00:00+00:00\n",
       "    time_coverage_duration:    P11DT0H0M0S\n",
       "    time_coverage_resolution:  P1DT0H0M0S\n",
       "    geospatial_lon_min:        9.7\n",
       "    geospatial_lat_min:        53.4\n",
       "    geospatial_lon_max:        10.39714\n",
       "    geospatial_lat_max:        53.8185</pre><div class='xr-wrap' hidden><div class='xr-header'><div class='xr-obj-type'>xarray.Dataset</div></div><ul class='xr-sections'><li class='xr-section-item'><input id='section-ca7b6fc0-0b3a-452c-8fab-f27e2e42328d' class='xr-section-summary-in' type='checkbox' disabled ><label for='section-ca7b6fc0-0b3a-452c-8fab-f27e2e42328d' class='xr-section-summary'  title='Expand/collapse section'>Dimensions:</label><div class='xr-section-inline-details'><ul class='xr-dim-list'><li><span>bnds</span>: 2</li><li><span class='xr-has-index'>lat</span>: 2325</li><li><span class='xr-has-index'>lon</span>: 3873</li><li><span class='xr-has-index'>time</span>: 11</li></ul></div><div class='xr-section-details'></div></li><li class='xr-section-item'><input id='section-9dbce999-df94-4426-b6fb-b15ae25251c3' class='xr-section-summary-in' type='checkbox'  checked><label for='section-9dbce999-df94-4426-b6fb-b15ae25251c3' class='xr-section-summary' >Coordinates: <span>(4)</span></label><div class='xr-section-inline-details'></div><div class='xr-section-details'><ul class='xr-var-list'><li class='xr-var-item'><div class='xr-var-name'><span class='xr-has-index'>lat</span></div><div class='xr-var-dims'>(lat)</div><div class='xr-var-dtype'>float64</div><div class='xr-var-preview xr-preview'>53.82 53.82 53.82 ... 53.4 53.4</div><input id='attrs-f5fcdb39-ceaf-4a4e-8e29-8c08435d061d' class='xr-var-attrs-in' type='checkbox' ><label for='attrs-f5fcdb39-ceaf-4a4e-8e29-8c08435d061d' title='Show/Hide attributes'><svg class='icon xr-icon-file-text2'><use xlink:href='#icon-file-text2'></use></svg></label><input id='data-906b88d7-2bd0-4d58-b3d9-2d2e210a9b0a' class='xr-var-data-in' type='checkbox'><label for='data-906b88d7-2bd0-4d58-b3d9-2d2e210a9b0a' title='Show/Hide data repr'><svg class='icon xr-icon-database'><use xlink:href='#icon-database'></use></svg></label><div class='xr-var-attrs'><dl class='xr-attrs'><dt><span>units :</span></dt><dd>decimal_degrees</dd><dt><span>long_name :</span></dt><dd>longitude</dd><dt><span>standard_name :</span></dt><dd>latitude</dd></dl></div><div class='xr-var-data'><pre>array([53.81841, 53.81823, 53.81805, ..., 53.40045, 53.40027, 53.40009])</pre></div></li><li class='xr-var-item'><div class='xr-var-name'><span class='xr-has-index'>lon</span></div><div class='xr-var-dims'>(lon)</div><div class='xr-var-dtype'>float64</div><div class='xr-var-preview xr-preview'>9.7 9.7 9.7 ... 10.4 10.4 10.4</div><input id='attrs-1266d503-7d99-4640-97f3-9fbe27171cc5' class='xr-var-attrs-in' type='checkbox' ><label for='attrs-1266d503-7d99-4640-97f3-9fbe27171cc5' title='Show/Hide attributes'><svg class='icon xr-icon-file-text2'><use xlink:href='#icon-file-text2'></use></svg></label><input id='data-f971fb1d-1b3c-45c1-af69-2a639e8a5b64' class='xr-var-data-in' type='checkbox'><label for='data-f971fb1d-1b3c-45c1-af69-2a639e8a5b64' title='Show/Hide data repr'><svg class='icon xr-icon-database'><use xlink:href='#icon-database'></use></svg></label><div class='xr-var-attrs'><dl class='xr-attrs'><dt><span>units :</span></dt><dd>decimal_degrees</dd><dt><span>long_name :</span></dt><dd>longitude</dd><dt><span>standard_name :</span></dt><dd>longitude</dd></dl></div><div class='xr-var-data'><pre>array([ 9.70009,  9.70027,  9.70045, ..., 10.39669, 10.39687, 10.39705])</pre></div></li><li class='xr-var-item'><div class='xr-var-name'><span class='xr-has-index'>time</span></div><div class='xr-var-dims'>(time)</div><div class='xr-var-dtype'>datetime64[ns]</div><div class='xr-var-preview xr-preview'>2020-08-10T12:00:00 ... 2020-08-...</div><input id='attrs-6505d93e-9bad-46b4-a35c-1ca4ed5f068e' class='xr-var-attrs-in' type='checkbox' ><label for='attrs-6505d93e-9bad-46b4-a35c-1ca4ed5f068e' title='Show/Hide attributes'><svg class='icon xr-icon-file-text2'><use xlink:href='#icon-file-text2'></use></svg></label><input id='data-4c58c678-d3d2-45d3-8036-5966e71e4c08' class='xr-var-data-in' type='checkbox'><label for='data-4c58c678-d3d2-45d3-8036-5966e71e4c08' title='Show/Hide data repr'><svg class='icon xr-icon-database'><use xlink:href='#icon-database'></use></svg></label><div class='xr-var-attrs'><dl class='xr-attrs'><dt><span>standard_name :</span></dt><dd>time</dd><dt><span>bounds :</span></dt><dd>time_bnds</dd></dl></div><div class='xr-var-data'><pre>array([&#x27;2020-08-10T12:00:00.000000000&#x27;, &#x27;2020-08-11T12:00:00.000000000&#x27;,\n",
       "       &#x27;2020-08-12T12:00:00.000000000&#x27;, &#x27;2020-08-13T12:00:00.000000000&#x27;,\n",
       "       &#x27;2020-08-14T12:00:00.000000000&#x27;, &#x27;2020-08-15T12:00:00.000000000&#x27;,\n",
       "       &#x27;2020-08-16T12:00:00.000000000&#x27;, &#x27;2020-08-17T12:00:00.000000000&#x27;,\n",
       "       &#x27;2020-08-18T12:00:00.000000000&#x27;, &#x27;2020-08-19T12:00:00.000000000&#x27;,\n",
       "       &#x27;2020-08-20T12:00:00.000000000&#x27;], dtype=&#x27;datetime64[ns]&#x27;)</pre></div></li><li class='xr-var-item'><div class='xr-var-name'><span>time_bnds</span></div><div class='xr-var-dims'>(time, bnds)</div><div class='xr-var-dtype'>datetime64[ns]</div><div class='xr-var-preview xr-preview'>dask.array&lt;chunksize=(11, 2), meta=np.ndarray&gt;</div><input id='attrs-8f271bf1-03dc-44d1-9bcb-8008e33227f8' class='xr-var-attrs-in' type='checkbox' ><label for='attrs-8f271bf1-03dc-44d1-9bcb-8008e33227f8' title='Show/Hide attributes'><svg class='icon xr-icon-file-text2'><use xlink:href='#icon-file-text2'></use></svg></label><input id='data-a97bd573-dd46-4e46-84d8-8f4f8cc177e7' class='xr-var-data-in' type='checkbox'><label for='data-a97bd573-dd46-4e46-84d8-8f4f8cc177e7' title='Show/Hide data repr'><svg class='icon xr-icon-database'><use xlink:href='#icon-database'></use></svg></label><div class='xr-var-attrs'><dl class='xr-attrs'><dt><span>standard_name :</span></dt><dd>time</dd></dl></div><div class='xr-var-data'><table>\n",
       "<tr>\n",
       "<td>\n",
       "<table>\n",
       "  <thead>\n",
       "    <tr><td> </td><th> Array </th><th> Chunk </th></tr>\n",
       "  </thead>\n",
       "  <tbody>\n",
       "    <tr><th> Bytes </th><td> 176 B </td> <td> 176 B </td></tr>\n",
       "    <tr><th> Shape </th><td> (11, 2) </td> <td> (11, 2) </td></tr>\n",
       "    <tr><th> Count </th><td> 2 Tasks </td><td> 1 Chunks </td></tr>\n",
       "    <tr><th> Type </th><td> datetime64[ns] </td><td> numpy.ndarray </td></tr>\n",
       "  </tbody>\n",
       "</table>\n",
       "</td>\n",
       "<td>\n",
       "<svg width=\"91\" height=\"170\" style=\"stroke:rgb(0,0,0);stroke-width:1\" >\n",
       "\n",
       "  <!-- Horizontal lines -->\n",
       "  <line x1=\"0\" y1=\"0\" x2=\"41\" y2=\"0\" style=\"stroke-width:2\" />\n",
       "  <line x1=\"0\" y1=\"120\" x2=\"41\" y2=\"120\" style=\"stroke-width:2\" />\n",
       "\n",
       "  <!-- Vertical lines -->\n",
       "  <line x1=\"0\" y1=\"0\" x2=\"0\" y2=\"120\" style=\"stroke-width:2\" />\n",
       "  <line x1=\"41\" y1=\"0\" x2=\"41\" y2=\"120\" style=\"stroke-width:2\" />\n",
       "\n",
       "  <!-- Colored Rectangle -->\n",
       "  <polygon points=\"0.000000,0.000000 41.597327,0.000000 41.597327,120.000000 0.000000,120.000000\" style=\"fill:#ECB172A0;stroke-width:0\"/>\n",
       "\n",
       "  <!-- Text -->\n",
       "  <text x=\"20.798664\" y=\"140.000000\" font-size=\"1.0rem\" font-weight=\"100\" text-anchor=\"middle\" >2</text>\n",
       "  <text x=\"61.597327\" y=\"60.000000\" font-size=\"1.0rem\" font-weight=\"100\" text-anchor=\"middle\" transform=\"rotate(0,61.597327,60.000000)\">11</text>\n",
       "</svg>\n",
       "</td>\n",
       "</tr>\n",
       "</table></div></li></ul></div></li><li class='xr-section-item'><input id='section-1b979e9b-b31c-4357-8fd8-b98a9b07e499' class='xr-section-summary-in' type='checkbox'  checked><label for='section-1b979e9b-b31c-4357-8fd8-b98a9b07e499' class='xr-section-summary' >Data variables: <span>(1)</span></label><div class='xr-section-inline-details'></div><div class='xr-section-details'><ul class='xr-var-list'><li class='xr-var-item'><div class='xr-var-name'><span>B04</span></div><div class='xr-var-dims'>(time, lat, lon)</div><div class='xr-var-dtype'>float32</div><div class='xr-var-preview xr-preview'>dask.array&lt;chunksize=(1, 775, 1291), meta=np.ndarray&gt;</div><input id='attrs-51854f8c-0857-4a33-bcc9-d7a8bbe802a9' class='xr-var-attrs-in' type='checkbox' ><label for='attrs-51854f8c-0857-4a33-bcc9-d7a8bbe802a9' title='Show/Hide attributes'><svg class='icon xr-icon-file-text2'><use xlink:href='#icon-file-text2'></use></svg></label><input id='data-b0968799-1a66-4864-93cd-c495e20df9fe' class='xr-var-data-in' type='checkbox'><label for='data-b0968799-1a66-4864-93cd-c495e20df9fe' title='Show/Hide data repr'><svg class='icon xr-icon-database'><use xlink:href='#icon-database'></use></svg></label><div class='xr-var-attrs'><dl class='xr-attrs'><dt><span>sample_type :</span></dt><dd>FLOAT32</dd><dt><span>units :</span></dt><dd>reflectance</dd><dt><span>wavelength :</span></dt><dd>664.6</dd><dt><span>bandwith :</span></dt><dd>31</dd><dt><span>resolution :</span></dt><dd>10</dd></dl></div><div class='xr-var-data'><table>\n",
       "<tr>\n",
       "<td>\n",
       "<table>\n",
       "  <thead>\n",
       "    <tr><td> </td><th> Array </th><th> Chunk </th></tr>\n",
       "  </thead>\n",
       "  <tbody>\n",
       "    <tr><th> Bytes </th><td> 396.21 MB </td> <td> 4.00 MB </td></tr>\n",
       "    <tr><th> Shape </th><td> (11, 2325, 3873) </td> <td> (1, 775, 1291) </td></tr>\n",
       "    <tr><th> Count </th><td> 100 Tasks </td><td> 99 Chunks </td></tr>\n",
       "    <tr><th> Type </th><td> float32 </td><td> numpy.ndarray </td></tr>\n",
       "  </tbody>\n",
       "</table>\n",
       "</td>\n",
       "<td>\n",
       "<svg width=\"194\" height=\"136\" style=\"stroke:rgb(0,0,0);stroke-width:1\" >\n",
       "\n",
       "  <!-- Horizontal lines -->\n",
       "  <line x1=\"10\" y1=\"0\" x2=\"24\" y2=\"14\" style=\"stroke-width:2\" />\n",
       "  <line x1=\"10\" y1=\"24\" x2=\"24\" y2=\"38\" />\n",
       "  <line x1=\"10\" y1=\"48\" x2=\"24\" y2=\"62\" />\n",
       "  <line x1=\"10\" y1=\"72\" x2=\"24\" y2=\"86\" style=\"stroke-width:2\" />\n",
       "\n",
       "  <!-- Vertical lines -->\n",
       "  <line x1=\"10\" y1=\"0\" x2=\"10\" y2=\"72\" style=\"stroke-width:2\" />\n",
       "  <line x1=\"11\" y1=\"1\" x2=\"11\" y2=\"73\" />\n",
       "  <line x1=\"12\" y1=\"2\" x2=\"12\" y2=\"74\" />\n",
       "  <line x1=\"14\" y1=\"4\" x2=\"14\" y2=\"76\" />\n",
       "  <line x1=\"15\" y1=\"5\" x2=\"15\" y2=\"77\" />\n",
       "  <line x1=\"16\" y1=\"6\" x2=\"16\" y2=\"78\" />\n",
       "  <line x1=\"18\" y1=\"8\" x2=\"18\" y2=\"80\" />\n",
       "  <line x1=\"19\" y1=\"9\" x2=\"19\" y2=\"81\" />\n",
       "  <line x1=\"20\" y1=\"10\" x2=\"20\" y2=\"82\" />\n",
       "  <line x1=\"22\" y1=\"12\" x2=\"22\" y2=\"84\" />\n",
       "  <line x1=\"23\" y1=\"13\" x2=\"23\" y2=\"85\" />\n",
       "  <line x1=\"24\" y1=\"14\" x2=\"24\" y2=\"86\" style=\"stroke-width:2\" />\n",
       "\n",
       "  <!-- Colored Rectangle -->\n",
       "  <polygon points=\"10.000000,0.000000 24.948598,14.948598 24.948598,86.985778 10.000000,72.037180\" style=\"fill:#ECB172A0;stroke-width:0\"/>\n",
       "\n",
       "  <!-- Horizontal lines -->\n",
       "  <line x1=\"10\" y1=\"0\" x2=\"130\" y2=\"0\" style=\"stroke-width:2\" />\n",
       "  <line x1=\"11\" y1=\"1\" x2=\"131\" y2=\"1\" />\n",
       "  <line x1=\"12\" y1=\"2\" x2=\"132\" y2=\"2\" />\n",
       "  <line x1=\"14\" y1=\"4\" x2=\"134\" y2=\"4\" />\n",
       "  <line x1=\"15\" y1=\"5\" x2=\"135\" y2=\"5\" />\n",
       "  <line x1=\"16\" y1=\"6\" x2=\"136\" y2=\"6\" />\n",
       "  <line x1=\"18\" y1=\"8\" x2=\"138\" y2=\"8\" />\n",
       "  <line x1=\"19\" y1=\"9\" x2=\"139\" y2=\"9\" />\n",
       "  <line x1=\"20\" y1=\"10\" x2=\"140\" y2=\"10\" />\n",
       "  <line x1=\"22\" y1=\"12\" x2=\"142\" y2=\"12\" />\n",
       "  <line x1=\"23\" y1=\"13\" x2=\"143\" y2=\"13\" />\n",
       "  <line x1=\"24\" y1=\"14\" x2=\"144\" y2=\"14\" style=\"stroke-width:2\" />\n",
       "\n",
       "  <!-- Vertical lines -->\n",
       "  <line x1=\"10\" y1=\"0\" x2=\"24\" y2=\"14\" style=\"stroke-width:2\" />\n",
       "  <line x1=\"50\" y1=\"0\" x2=\"64\" y2=\"14\" />\n",
       "  <line x1=\"90\" y1=\"0\" x2=\"104\" y2=\"14\" />\n",
       "  <line x1=\"130\" y1=\"0\" x2=\"144\" y2=\"14\" style=\"stroke-width:2\" />\n",
       "\n",
       "  <!-- Colored Rectangle -->\n",
       "  <polygon points=\"10.000000,0.000000 130.000000,0.000000 144.948598,14.948598 24.948598,14.948598\" style=\"fill:#ECB172A0;stroke-width:0\"/>\n",
       "\n",
       "  <!-- Horizontal lines -->\n",
       "  <line x1=\"24\" y1=\"14\" x2=\"144\" y2=\"14\" style=\"stroke-width:2\" />\n",
       "  <line x1=\"24\" y1=\"38\" x2=\"144\" y2=\"38\" />\n",
       "  <line x1=\"24\" y1=\"62\" x2=\"144\" y2=\"62\" />\n",
       "  <line x1=\"24\" y1=\"86\" x2=\"144\" y2=\"86\" style=\"stroke-width:2\" />\n",
       "\n",
       "  <!-- Vertical lines -->\n",
       "  <line x1=\"24\" y1=\"14\" x2=\"24\" y2=\"86\" style=\"stroke-width:2\" />\n",
       "  <line x1=\"64\" y1=\"14\" x2=\"64\" y2=\"86\" />\n",
       "  <line x1=\"104\" y1=\"14\" x2=\"104\" y2=\"86\" />\n",
       "  <line x1=\"144\" y1=\"14\" x2=\"144\" y2=\"86\" style=\"stroke-width:2\" />\n",
       "\n",
       "  <!-- Colored Rectangle -->\n",
       "  <polygon points=\"24.948598,14.948598 144.948598,14.948598 144.948598,86.985778 24.948598,86.985778\" style=\"fill:#ECB172A0;stroke-width:0\"/>\n",
       "\n",
       "  <!-- Text -->\n",
       "  <text x=\"84.948598\" y=\"106.985778\" font-size=\"1.0rem\" font-weight=\"100\" text-anchor=\"middle\" >3873</text>\n",
       "  <text x=\"164.948598\" y=\"50.967188\" font-size=\"1.0rem\" font-weight=\"100\" text-anchor=\"middle\" transform=\"rotate(-90,164.948598,50.967188)\">2325</text>\n",
       "  <text x=\"7.474299\" y=\"99.511479\" font-size=\"1.0rem\" font-weight=\"100\" text-anchor=\"middle\" transform=\"rotate(45,7.474299,99.511479)\">11</text>\n",
       "</svg>\n",
       "</td>\n",
       "</tr>\n",
       "</table></div></li></ul></div></li><li class='xr-section-item'><input id='section-3fcc3899-4d9e-464e-abf2-0af5d8ed28f9' class='xr-section-summary-in' type='checkbox'  ><label for='section-3fcc3899-4d9e-464e-abf2-0af5d8ed28f9' class='xr-section-summary' >Attributes: <span>(13)</span></label><div class='xr-section-inline-details'></div><div class='xr-section-details'><dl class='xr-attrs'><dt><span>Conventions :</span></dt><dd>CF-1.7</dd><dt><span>title :</span></dt><dd>S2L2A Data Cube Subset</dd><dt><span>history :</span></dt><dd>[{&#x27;program&#x27;: &#x27;xcube_sh.chunkstore.SentinelHubChunkStore&#x27;, &#x27;cube_config&#x27;: {&#x27;dataset_name&#x27;: &#x27;S2L2A&#x27;, &#x27;band_names&#x27;: [&#x27;B04&#x27;], &#x27;band_units&#x27;: None, &#x27;band_sample_types&#x27;: None, &#x27;tile_size&#x27;: [1291, 775], &#x27;bbox&#x27;: [9.7, 53.4, 10.39714, 53.8185], &#x27;spatial_res&#x27;: 0.00018, &#x27;crs&#x27;: &#x27;http://www.opengis.net/def/crs/EPSG/0/4326&#x27;, &#x27;time_range&#x27;: [&#x27;2020-08-10T00:00:00+00:00&#x27;, &#x27;2020-08-20T00:00:00+00:00&#x27;], &#x27;time_period&#x27;: &#x27;1 days 00:00:00&#x27;, &#x27;time_tolerance&#x27;: None, &#x27;collection_id&#x27;: None, &#x27;four_d&#x27;: False}}]</dd><dt><span>date_created :</span></dt><dd>2020-10-27T09:59:14.469340</dd><dt><span>processing_level :</span></dt><dd>L2A</dd><dt><span>time_coverage_start :</span></dt><dd>2020-08-10T00:00:00+00:00</dd><dt><span>time_coverage_end :</span></dt><dd>2020-08-21T00:00:00+00:00</dd><dt><span>time_coverage_duration :</span></dt><dd>P11DT0H0M0S</dd><dt><span>time_coverage_resolution :</span></dt><dd>P1DT0H0M0S</dd><dt><span>geospatial_lon_min :</span></dt><dd>9.7</dd><dt><span>geospatial_lat_min :</span></dt><dd>53.4</dd><dt><span>geospatial_lon_max :</span></dt><dd>10.39714</dd><dt><span>geospatial_lat_max :</span></dt><dd>53.8185</dd></dl></div></li></ul></div></div>"
      ],
      "text/plain": [
       "<xarray.Dataset>\n",
       "Dimensions:    (bnds: 2, lat: 2325, lon: 3873, time: 11)\n",
       "Coordinates:\n",
       "  * lat        (lat) float64 53.82 53.82 53.82 53.82 ... 53.4 53.4 53.4 53.4\n",
       "  * lon        (lon) float64 9.7 9.7 9.7 9.701 9.701 ... 10.4 10.4 10.4 10.4\n",
       "  * time       (time) datetime64[ns] 2020-08-10T12:00:00 ... 2020-08-20T12:00:00\n",
       "    time_bnds  (time, bnds) datetime64[ns] dask.array<chunksize=(11, 2), meta=np.ndarray>\n",
       "Dimensions without coordinates: bnds\n",
       "Data variables:\n",
       "    B04        (time, lat, lon) float32 dask.array<chunksize=(1, 775, 1291), meta=np.ndarray>\n",
       "Attributes:\n",
       "    Conventions:               CF-1.7\n",
       "    title:                     S2L2A Data Cube Subset\n",
       "    history:                   [{'program': 'xcube_sh.chunkstore.SentinelHubC...\n",
       "    date_created:              2020-10-27T09:59:14.469340\n",
       "    processing_level:          L2A\n",
       "    time_coverage_start:       2020-08-10T00:00:00+00:00\n",
       "    time_coverage_end:         2020-08-21T00:00:00+00:00\n",
       "    time_coverage_duration:    P11DT0H0M0S\n",
       "    time_coverage_resolution:  P1DT0H0M0S\n",
       "    geospatial_lon_min:        9.7\n",
       "    geospatial_lat_min:        53.4\n",
       "    geospatial_lon_max:        10.39714\n",
       "    geospatial_lat_max:        53.8185"
      ]
     },
     "execution_count": 49,
     "metadata": {},
     "output_type": "execute_result"
    }
   ],
   "source": [
    "dataset = store.open_data('S2L2A', \n",
    "                          variable_names=['B04'], \n",
    "                          bbox=bbox, \n",
    "                          spatial_res=0.00018, \n",
    "                          time_range=('2020-08-10T00:00:00+00:00','2020-08-20T00:00:00+00:00'), \n",
    "                          time_period='1D')\n",
    "                          # tile_size= [1024,1024])\n",
    "dataset"
   ]
  },
  {
   "cell_type": "markdown",
   "metadata": {},
   "source": [
    "Plot one time stamp of the dataset for a specific variable: "
   ]
  },
  {
   "cell_type": "code",
   "execution_count": 50,
   "metadata": {},
   "outputs": [
    {
     "ename": "HTTPError",
     "evalue": "429 Client Error: Too Many Requests for url: https://services.sentinel-hub.com/api/v1/process",
     "output_type": "error",
     "traceback": [
      "\u001b[0;31m---------------------------------------------------------------------------\u001b[0m",
      "\u001b[0;31mHTTPError\u001b[0m                                 Traceback (most recent call last)",
      "\u001b[0;32m<ipython-input-50-5cb3c6b56e3b>\u001b[0m in \u001b[0;36m<module>\u001b[0;34m\u001b[0m\n\u001b[0;32m----> 1\u001b[0;31m \u001b[0mdataset\u001b[0m\u001b[0;34m.\u001b[0m\u001b[0mB04\u001b[0m\u001b[0;34m.\u001b[0m\u001b[0misel\u001b[0m\u001b[0;34m(\u001b[0m\u001b[0mtime\u001b[0m\u001b[0;34m=\u001b[0m\u001b[0;36m1\u001b[0m\u001b[0;34m)\u001b[0m\u001b[0;34m.\u001b[0m\u001b[0mplot\u001b[0m\u001b[0;34m.\u001b[0m\u001b[0mimshow\u001b[0m\u001b[0;34m(\u001b[0m\u001b[0mvmin\u001b[0m\u001b[0;34m=\u001b[0m\u001b[0;36m0\u001b[0m\u001b[0;34m,\u001b[0m \u001b[0mvmax\u001b[0m\u001b[0;34m=\u001b[0m\u001b[0;36m0.2\u001b[0m\u001b[0;34m,\u001b[0m \u001b[0mcmap\u001b[0m\u001b[0;34m=\u001b[0m\u001b[0;34m'Greys_r'\u001b[0m\u001b[0;34m)\u001b[0m\u001b[0;34m\u001b[0m\u001b[0;34m\u001b[0m\u001b[0m\n\u001b[0m",
      "\u001b[0;32m~/miniconda3/envs/xcube/lib/python3.7/site-packages/xarray/plot/plot.py\u001b[0m in \u001b[0;36mplotmethod\u001b[0;34m(_PlotMethods_obj, x, y, figsize, size, aspect, ax, row, col, col_wrap, xincrease, yincrease, add_colorbar, add_labels, vmin, vmax, cmap, colors, center, robust, extend, levels, infer_intervals, subplot_kws, cbar_ax, cbar_kwargs, xscale, yscale, xticks, yticks, xlim, ylim, norm, **kwargs)\u001b[0m\n\u001b[1;32m    842\u001b[0m         \u001b[0;32mfor\u001b[0m \u001b[0marg\u001b[0m \u001b[0;32min\u001b[0m \u001b[0;34m[\u001b[0m\u001b[0;34m\"_PlotMethods_obj\"\u001b[0m\u001b[0;34m,\u001b[0m \u001b[0;34m\"newplotfunc\"\u001b[0m\u001b[0;34m,\u001b[0m \u001b[0;34m\"kwargs\"\u001b[0m\u001b[0;34m]\u001b[0m\u001b[0;34m:\u001b[0m\u001b[0;34m\u001b[0m\u001b[0;34m\u001b[0m\u001b[0m\n\u001b[1;32m    843\u001b[0m             \u001b[0;32mdel\u001b[0m \u001b[0mallargs\u001b[0m\u001b[0;34m[\u001b[0m\u001b[0marg\u001b[0m\u001b[0;34m]\u001b[0m\u001b[0;34m\u001b[0m\u001b[0;34m\u001b[0m\u001b[0m\n\u001b[0;32m--> 844\u001b[0;31m         \u001b[0;32mreturn\u001b[0m \u001b[0mnewplotfunc\u001b[0m\u001b[0;34m(\u001b[0m\u001b[0;34m**\u001b[0m\u001b[0mallargs\u001b[0m\u001b[0;34m)\u001b[0m\u001b[0;34m\u001b[0m\u001b[0;34m\u001b[0m\u001b[0m\n\u001b[0m\u001b[1;32m    845\u001b[0m \u001b[0;34m\u001b[0m\u001b[0m\n\u001b[1;32m    846\u001b[0m     \u001b[0;31m# Add to class _PlotMethods\u001b[0m\u001b[0;34m\u001b[0m\u001b[0;34m\u001b[0m\u001b[0;34m\u001b[0m\u001b[0m\n",
      "\u001b[0;32m~/miniconda3/envs/xcube/lib/python3.7/site-packages/xarray/plot/plot.py\u001b[0m in \u001b[0;36mnewplotfunc\u001b[0;34m(darray, x, y, figsize, size, aspect, ax, row, col, col_wrap, xincrease, yincrease, add_colorbar, add_labels, vmin, vmax, cmap, center, robust, extend, levels, infer_intervals, colors, subplot_kws, cbar_ax, cbar_kwargs, xscale, yscale, xticks, yticks, xlim, ylim, norm, **kwargs)\u001b[0m\n\u001b[1;32m    708\u001b[0m \u001b[0;34m\u001b[0m\u001b[0m\n\u001b[1;32m    709\u001b[0m         \u001b[0;31m# Pass the data as a masked ndarray too\u001b[0m\u001b[0;34m\u001b[0m\u001b[0;34m\u001b[0m\u001b[0;34m\u001b[0m\u001b[0m\n\u001b[0;32m--> 710\u001b[0;31m         \u001b[0mzval\u001b[0m \u001b[0;34m=\u001b[0m \u001b[0mdarray\u001b[0m\u001b[0;34m.\u001b[0m\u001b[0mto_masked_array\u001b[0m\u001b[0;34m(\u001b[0m\u001b[0mcopy\u001b[0m\u001b[0;34m=\u001b[0m\u001b[0;32mFalse\u001b[0m\u001b[0;34m)\u001b[0m\u001b[0;34m\u001b[0m\u001b[0;34m\u001b[0m\u001b[0m\n\u001b[0m\u001b[1;32m    711\u001b[0m \u001b[0;34m\u001b[0m\u001b[0m\n\u001b[1;32m    712\u001b[0m         \u001b[0;31m# Replace pd.Intervals if contained in xval or yval.\u001b[0m\u001b[0;34m\u001b[0m\u001b[0;34m\u001b[0m\u001b[0;34m\u001b[0m\u001b[0m\n",
      "\u001b[0;32m~/miniconda3/envs/xcube/lib/python3.7/site-packages/xarray/core/dataarray.py\u001b[0m in \u001b[0;36mto_masked_array\u001b[0;34m(self, copy)\u001b[0m\n\u001b[1;32m   2484\u001b[0m             \u001b[0mMasked\u001b[0m \u001b[0mwhere\u001b[0m \u001b[0minvalid\u001b[0m \u001b[0mvalues\u001b[0m \u001b[0;34m(\u001b[0m\u001b[0mnan\u001b[0m \u001b[0;32mor\u001b[0m \u001b[0minf\u001b[0m\u001b[0;34m)\u001b[0m \u001b[0moccur\u001b[0m\u001b[0;34m.\u001b[0m\u001b[0;34m\u001b[0m\u001b[0;34m\u001b[0m\u001b[0m\n\u001b[1;32m   2485\u001b[0m         \"\"\"\n\u001b[0;32m-> 2486\u001b[0;31m         \u001b[0mvalues\u001b[0m \u001b[0;34m=\u001b[0m \u001b[0mself\u001b[0m\u001b[0;34m.\u001b[0m\u001b[0mvalues\u001b[0m  \u001b[0;31m# only compute lazy arrays once\u001b[0m\u001b[0;34m\u001b[0m\u001b[0;34m\u001b[0m\u001b[0m\n\u001b[0m\u001b[1;32m   2487\u001b[0m         \u001b[0misnull\u001b[0m \u001b[0;34m=\u001b[0m \u001b[0mpd\u001b[0m\u001b[0;34m.\u001b[0m\u001b[0misnull\u001b[0m\u001b[0;34m(\u001b[0m\u001b[0mvalues\u001b[0m\u001b[0;34m)\u001b[0m\u001b[0;34m\u001b[0m\u001b[0;34m\u001b[0m\u001b[0m\n\u001b[1;32m   2488\u001b[0m         \u001b[0;32mreturn\u001b[0m \u001b[0mnp\u001b[0m\u001b[0;34m.\u001b[0m\u001b[0mma\u001b[0m\u001b[0;34m.\u001b[0m\u001b[0mMaskedArray\u001b[0m\u001b[0;34m(\u001b[0m\u001b[0mdata\u001b[0m\u001b[0;34m=\u001b[0m\u001b[0mvalues\u001b[0m\u001b[0;34m,\u001b[0m \u001b[0mmask\u001b[0m\u001b[0;34m=\u001b[0m\u001b[0misnull\u001b[0m\u001b[0;34m,\u001b[0m \u001b[0mcopy\u001b[0m\u001b[0;34m=\u001b[0m\u001b[0mcopy\u001b[0m\u001b[0;34m)\u001b[0m\u001b[0;34m\u001b[0m\u001b[0;34m\u001b[0m\u001b[0m\n",
      "\u001b[0;32m~/miniconda3/envs/xcube/lib/python3.7/site-packages/xarray/core/dataarray.py\u001b[0m in \u001b[0;36mvalues\u001b[0;34m(self)\u001b[0m\n\u001b[1;32m    567\u001b[0m     \u001b[0;32mdef\u001b[0m \u001b[0mvalues\u001b[0m\u001b[0;34m(\u001b[0m\u001b[0mself\u001b[0m\u001b[0;34m)\u001b[0m \u001b[0;34m->\u001b[0m \u001b[0mnp\u001b[0m\u001b[0;34m.\u001b[0m\u001b[0mndarray\u001b[0m\u001b[0;34m:\u001b[0m\u001b[0;34m\u001b[0m\u001b[0;34m\u001b[0m\u001b[0m\n\u001b[1;32m    568\u001b[0m         \u001b[0;34m\"\"\"The array's data as a numpy.ndarray\"\"\"\u001b[0m\u001b[0;34m\u001b[0m\u001b[0;34m\u001b[0m\u001b[0m\n\u001b[0;32m--> 569\u001b[0;31m         \u001b[0;32mreturn\u001b[0m \u001b[0mself\u001b[0m\u001b[0;34m.\u001b[0m\u001b[0mvariable\u001b[0m\u001b[0;34m.\u001b[0m\u001b[0mvalues\u001b[0m\u001b[0;34m\u001b[0m\u001b[0;34m\u001b[0m\u001b[0m\n\u001b[0m\u001b[1;32m    570\u001b[0m \u001b[0;34m\u001b[0m\u001b[0m\n\u001b[1;32m    571\u001b[0m     \u001b[0;34m@\u001b[0m\u001b[0mvalues\u001b[0m\u001b[0;34m.\u001b[0m\u001b[0msetter\u001b[0m\u001b[0;34m\u001b[0m\u001b[0;34m\u001b[0m\u001b[0m\n",
      "\u001b[0;32m~/miniconda3/envs/xcube/lib/python3.7/site-packages/xarray/core/variable.py\u001b[0m in \u001b[0;36mvalues\u001b[0;34m(self)\u001b[0m\n\u001b[1;32m    508\u001b[0m     \u001b[0;32mdef\u001b[0m \u001b[0mvalues\u001b[0m\u001b[0;34m(\u001b[0m\u001b[0mself\u001b[0m\u001b[0;34m)\u001b[0m\u001b[0;34m:\u001b[0m\u001b[0;34m\u001b[0m\u001b[0;34m\u001b[0m\u001b[0m\n\u001b[1;32m    509\u001b[0m         \u001b[0;34m\"\"\"The variable's data as a numpy.ndarray\"\"\"\u001b[0m\u001b[0;34m\u001b[0m\u001b[0;34m\u001b[0m\u001b[0m\n\u001b[0;32m--> 510\u001b[0;31m         \u001b[0;32mreturn\u001b[0m \u001b[0m_as_array_or_item\u001b[0m\u001b[0;34m(\u001b[0m\u001b[0mself\u001b[0m\u001b[0;34m.\u001b[0m\u001b[0m_data\u001b[0m\u001b[0;34m)\u001b[0m\u001b[0;34m\u001b[0m\u001b[0;34m\u001b[0m\u001b[0m\n\u001b[0m\u001b[1;32m    511\u001b[0m \u001b[0;34m\u001b[0m\u001b[0m\n\u001b[1;32m    512\u001b[0m     \u001b[0;34m@\u001b[0m\u001b[0mvalues\u001b[0m\u001b[0;34m.\u001b[0m\u001b[0msetter\u001b[0m\u001b[0;34m\u001b[0m\u001b[0;34m\u001b[0m\u001b[0m\n",
      "\u001b[0;32m~/miniconda3/envs/xcube/lib/python3.7/site-packages/xarray/core/variable.py\u001b[0m in \u001b[0;36m_as_array_or_item\u001b[0;34m(data)\u001b[0m\n\u001b[1;32m    270\u001b[0m         \u001b[0mdata\u001b[0m \u001b[0;34m=\u001b[0m \u001b[0mdata\u001b[0m\u001b[0;34m.\u001b[0m\u001b[0mget\u001b[0m\u001b[0;34m(\u001b[0m\u001b[0;34m)\u001b[0m\u001b[0;34m\u001b[0m\u001b[0;34m\u001b[0m\u001b[0m\n\u001b[1;32m    271\u001b[0m     \u001b[0;32melse\u001b[0m\u001b[0;34m:\u001b[0m\u001b[0;34m\u001b[0m\u001b[0;34m\u001b[0m\u001b[0m\n\u001b[0;32m--> 272\u001b[0;31m         \u001b[0mdata\u001b[0m \u001b[0;34m=\u001b[0m \u001b[0mnp\u001b[0m\u001b[0;34m.\u001b[0m\u001b[0masarray\u001b[0m\u001b[0;34m(\u001b[0m\u001b[0mdata\u001b[0m\u001b[0;34m)\u001b[0m\u001b[0;34m\u001b[0m\u001b[0;34m\u001b[0m\u001b[0m\n\u001b[0m\u001b[1;32m    273\u001b[0m     \u001b[0;32mif\u001b[0m \u001b[0mdata\u001b[0m\u001b[0;34m.\u001b[0m\u001b[0mndim\u001b[0m \u001b[0;34m==\u001b[0m \u001b[0;36m0\u001b[0m\u001b[0;34m:\u001b[0m\u001b[0;34m\u001b[0m\u001b[0;34m\u001b[0m\u001b[0m\n\u001b[1;32m    274\u001b[0m         \u001b[0;32mif\u001b[0m \u001b[0mdata\u001b[0m\u001b[0;34m.\u001b[0m\u001b[0mdtype\u001b[0m\u001b[0;34m.\u001b[0m\u001b[0mkind\u001b[0m \u001b[0;34m==\u001b[0m \u001b[0;34m\"M\"\u001b[0m\u001b[0;34m:\u001b[0m\u001b[0;34m\u001b[0m\u001b[0;34m\u001b[0m\u001b[0m\n",
      "\u001b[0;32m~/miniconda3/envs/xcube/lib/python3.7/site-packages/numpy/core/_asarray.py\u001b[0m in \u001b[0;36masarray\u001b[0;34m(a, dtype, order)\u001b[0m\n\u001b[1;32m     83\u001b[0m \u001b[0;34m\u001b[0m\u001b[0m\n\u001b[1;32m     84\u001b[0m     \"\"\"\n\u001b[0;32m---> 85\u001b[0;31m     \u001b[0;32mreturn\u001b[0m \u001b[0marray\u001b[0m\u001b[0;34m(\u001b[0m\u001b[0ma\u001b[0m\u001b[0;34m,\u001b[0m \u001b[0mdtype\u001b[0m\u001b[0;34m,\u001b[0m \u001b[0mcopy\u001b[0m\u001b[0;34m=\u001b[0m\u001b[0;32mFalse\u001b[0m\u001b[0;34m,\u001b[0m \u001b[0morder\u001b[0m\u001b[0;34m=\u001b[0m\u001b[0morder\u001b[0m\u001b[0;34m)\u001b[0m\u001b[0;34m\u001b[0m\u001b[0;34m\u001b[0m\u001b[0m\n\u001b[0m\u001b[1;32m     86\u001b[0m \u001b[0;34m\u001b[0m\u001b[0m\n\u001b[1;32m     87\u001b[0m \u001b[0;34m\u001b[0m\u001b[0m\n",
      "\u001b[0;32m~/miniconda3/envs/xcube/lib/python3.7/site-packages/dask/array/core.py\u001b[0m in \u001b[0;36m__array__\u001b[0;34m(self, dtype, **kwargs)\u001b[0m\n\u001b[1;32m   1334\u001b[0m \u001b[0;34m\u001b[0m\u001b[0m\n\u001b[1;32m   1335\u001b[0m     \u001b[0;32mdef\u001b[0m \u001b[0m__array__\u001b[0m\u001b[0;34m(\u001b[0m\u001b[0mself\u001b[0m\u001b[0;34m,\u001b[0m \u001b[0mdtype\u001b[0m\u001b[0;34m=\u001b[0m\u001b[0;32mNone\u001b[0m\u001b[0;34m,\u001b[0m \u001b[0;34m**\u001b[0m\u001b[0mkwargs\u001b[0m\u001b[0;34m)\u001b[0m\u001b[0;34m:\u001b[0m\u001b[0;34m\u001b[0m\u001b[0;34m\u001b[0m\u001b[0m\n\u001b[0;32m-> 1336\u001b[0;31m         \u001b[0mx\u001b[0m \u001b[0;34m=\u001b[0m \u001b[0mself\u001b[0m\u001b[0;34m.\u001b[0m\u001b[0mcompute\u001b[0m\u001b[0;34m(\u001b[0m\u001b[0;34m)\u001b[0m\u001b[0;34m\u001b[0m\u001b[0;34m\u001b[0m\u001b[0m\n\u001b[0m\u001b[1;32m   1337\u001b[0m         \u001b[0;32mif\u001b[0m \u001b[0mdtype\u001b[0m \u001b[0;32mand\u001b[0m \u001b[0mx\u001b[0m\u001b[0;34m.\u001b[0m\u001b[0mdtype\u001b[0m \u001b[0;34m!=\u001b[0m \u001b[0mdtype\u001b[0m\u001b[0;34m:\u001b[0m\u001b[0;34m\u001b[0m\u001b[0;34m\u001b[0m\u001b[0m\n\u001b[1;32m   1338\u001b[0m             \u001b[0mx\u001b[0m \u001b[0;34m=\u001b[0m \u001b[0mx\u001b[0m\u001b[0;34m.\u001b[0m\u001b[0mastype\u001b[0m\u001b[0;34m(\u001b[0m\u001b[0mdtype\u001b[0m\u001b[0;34m)\u001b[0m\u001b[0;34m\u001b[0m\u001b[0;34m\u001b[0m\u001b[0m\n",
      "\u001b[0;32m~/miniconda3/envs/xcube/lib/python3.7/site-packages/dask/base.py\u001b[0m in \u001b[0;36mcompute\u001b[0;34m(self, **kwargs)\u001b[0m\n\u001b[1;32m    164\u001b[0m         \u001b[0mdask\u001b[0m\u001b[0;34m.\u001b[0m\u001b[0mbase\u001b[0m\u001b[0;34m.\u001b[0m\u001b[0mcompute\u001b[0m\u001b[0;34m\u001b[0m\u001b[0;34m\u001b[0m\u001b[0m\n\u001b[1;32m    165\u001b[0m         \"\"\"\n\u001b[0;32m--> 166\u001b[0;31m         \u001b[0;34m(\u001b[0m\u001b[0mresult\u001b[0m\u001b[0;34m,\u001b[0m\u001b[0;34m)\u001b[0m \u001b[0;34m=\u001b[0m \u001b[0mcompute\u001b[0m\u001b[0;34m(\u001b[0m\u001b[0mself\u001b[0m\u001b[0;34m,\u001b[0m \u001b[0mtraverse\u001b[0m\u001b[0;34m=\u001b[0m\u001b[0;32mFalse\u001b[0m\u001b[0;34m,\u001b[0m \u001b[0;34m**\u001b[0m\u001b[0mkwargs\u001b[0m\u001b[0;34m)\u001b[0m\u001b[0;34m\u001b[0m\u001b[0;34m\u001b[0m\u001b[0m\n\u001b[0m\u001b[1;32m    167\u001b[0m         \u001b[0;32mreturn\u001b[0m \u001b[0mresult\u001b[0m\u001b[0;34m\u001b[0m\u001b[0;34m\u001b[0m\u001b[0m\n\u001b[1;32m    168\u001b[0m \u001b[0;34m\u001b[0m\u001b[0m\n",
      "\u001b[0;32m~/miniconda3/envs/xcube/lib/python3.7/site-packages/dask/base.py\u001b[0m in \u001b[0;36mcompute\u001b[0;34m(*args, **kwargs)\u001b[0m\n\u001b[1;32m    442\u001b[0m         \u001b[0mpostcomputes\u001b[0m\u001b[0;34m.\u001b[0m\u001b[0mappend\u001b[0m\u001b[0;34m(\u001b[0m\u001b[0mx\u001b[0m\u001b[0;34m.\u001b[0m\u001b[0m__dask_postcompute__\u001b[0m\u001b[0;34m(\u001b[0m\u001b[0;34m)\u001b[0m\u001b[0;34m)\u001b[0m\u001b[0;34m\u001b[0m\u001b[0;34m\u001b[0m\u001b[0m\n\u001b[1;32m    443\u001b[0m \u001b[0;34m\u001b[0m\u001b[0m\n\u001b[0;32m--> 444\u001b[0;31m     \u001b[0mresults\u001b[0m \u001b[0;34m=\u001b[0m \u001b[0mschedule\u001b[0m\u001b[0;34m(\u001b[0m\u001b[0mdsk\u001b[0m\u001b[0;34m,\u001b[0m \u001b[0mkeys\u001b[0m\u001b[0;34m,\u001b[0m \u001b[0;34m**\u001b[0m\u001b[0mkwargs\u001b[0m\u001b[0;34m)\u001b[0m\u001b[0;34m\u001b[0m\u001b[0;34m\u001b[0m\u001b[0m\n\u001b[0m\u001b[1;32m    445\u001b[0m     \u001b[0;32mreturn\u001b[0m \u001b[0mrepack\u001b[0m\u001b[0;34m(\u001b[0m\u001b[0;34m[\u001b[0m\u001b[0mf\u001b[0m\u001b[0;34m(\u001b[0m\u001b[0mr\u001b[0m\u001b[0;34m,\u001b[0m \u001b[0;34m*\u001b[0m\u001b[0ma\u001b[0m\u001b[0;34m)\u001b[0m \u001b[0;32mfor\u001b[0m \u001b[0mr\u001b[0m\u001b[0;34m,\u001b[0m \u001b[0;34m(\u001b[0m\u001b[0mf\u001b[0m\u001b[0;34m,\u001b[0m \u001b[0ma\u001b[0m\u001b[0;34m)\u001b[0m \u001b[0;32min\u001b[0m \u001b[0mzip\u001b[0m\u001b[0;34m(\u001b[0m\u001b[0mresults\u001b[0m\u001b[0;34m,\u001b[0m \u001b[0mpostcomputes\u001b[0m\u001b[0;34m)\u001b[0m\u001b[0;34m]\u001b[0m\u001b[0;34m)\u001b[0m\u001b[0;34m\u001b[0m\u001b[0;34m\u001b[0m\u001b[0m\n\u001b[1;32m    446\u001b[0m \u001b[0;34m\u001b[0m\u001b[0m\n",
      "\u001b[0;32m~/miniconda3/envs/xcube/lib/python3.7/site-packages/dask/threaded.py\u001b[0m in \u001b[0;36mget\u001b[0;34m(dsk, result, cache, num_workers, pool, **kwargs)\u001b[0m\n\u001b[1;32m     82\u001b[0m         \u001b[0mget_id\u001b[0m\u001b[0;34m=\u001b[0m\u001b[0m_thread_get_id\u001b[0m\u001b[0;34m,\u001b[0m\u001b[0;34m\u001b[0m\u001b[0;34m\u001b[0m\u001b[0m\n\u001b[1;32m     83\u001b[0m         \u001b[0mpack_exception\u001b[0m\u001b[0;34m=\u001b[0m\u001b[0mpack_exception\u001b[0m\u001b[0;34m,\u001b[0m\u001b[0;34m\u001b[0m\u001b[0;34m\u001b[0m\u001b[0m\n\u001b[0;32m---> 84\u001b[0;31m         \u001b[0;34m**\u001b[0m\u001b[0mkwargs\u001b[0m\u001b[0;34m\u001b[0m\u001b[0;34m\u001b[0m\u001b[0m\n\u001b[0m\u001b[1;32m     85\u001b[0m     )\n\u001b[1;32m     86\u001b[0m \u001b[0;34m\u001b[0m\u001b[0m\n",
      "\u001b[0;32m~/miniconda3/envs/xcube/lib/python3.7/site-packages/dask/local.py\u001b[0m in \u001b[0;36mget_async\u001b[0;34m(apply_async, num_workers, dsk, result, cache, get_id, rerun_exceptions_locally, pack_exception, raise_exception, callbacks, dumps, loads, **kwargs)\u001b[0m\n\u001b[1;32m    484\u001b[0m                         \u001b[0m_execute_task\u001b[0m\u001b[0;34m(\u001b[0m\u001b[0mtask\u001b[0m\u001b[0;34m,\u001b[0m \u001b[0mdata\u001b[0m\u001b[0;34m)\u001b[0m  \u001b[0;31m# Re-execute locally\u001b[0m\u001b[0;34m\u001b[0m\u001b[0;34m\u001b[0m\u001b[0m\n\u001b[1;32m    485\u001b[0m                     \u001b[0;32melse\u001b[0m\u001b[0;34m:\u001b[0m\u001b[0;34m\u001b[0m\u001b[0;34m\u001b[0m\u001b[0m\n\u001b[0;32m--> 486\u001b[0;31m                         \u001b[0mraise_exception\u001b[0m\u001b[0;34m(\u001b[0m\u001b[0mexc\u001b[0m\u001b[0;34m,\u001b[0m \u001b[0mtb\u001b[0m\u001b[0;34m)\u001b[0m\u001b[0;34m\u001b[0m\u001b[0;34m\u001b[0m\u001b[0m\n\u001b[0m\u001b[1;32m    487\u001b[0m                 \u001b[0mres\u001b[0m\u001b[0;34m,\u001b[0m \u001b[0mworker_id\u001b[0m \u001b[0;34m=\u001b[0m \u001b[0mloads\u001b[0m\u001b[0;34m(\u001b[0m\u001b[0mres_info\u001b[0m\u001b[0;34m)\u001b[0m\u001b[0;34m\u001b[0m\u001b[0;34m\u001b[0m\u001b[0m\n\u001b[1;32m    488\u001b[0m                 \u001b[0mstate\u001b[0m\u001b[0;34m[\u001b[0m\u001b[0;34m\"cache\"\u001b[0m\u001b[0;34m]\u001b[0m\u001b[0;34m[\u001b[0m\u001b[0mkey\u001b[0m\u001b[0;34m]\u001b[0m \u001b[0;34m=\u001b[0m \u001b[0mres\u001b[0m\u001b[0;34m\u001b[0m\u001b[0;34m\u001b[0m\u001b[0m\n",
      "\u001b[0;32m~/miniconda3/envs/xcube/lib/python3.7/site-packages/dask/local.py\u001b[0m in \u001b[0;36mreraise\u001b[0;34m(exc, tb)\u001b[0m\n\u001b[1;32m    314\u001b[0m     \u001b[0;32mif\u001b[0m \u001b[0mexc\u001b[0m\u001b[0;34m.\u001b[0m\u001b[0m__traceback__\u001b[0m \u001b[0;32mis\u001b[0m \u001b[0;32mnot\u001b[0m \u001b[0mtb\u001b[0m\u001b[0;34m:\u001b[0m\u001b[0;34m\u001b[0m\u001b[0;34m\u001b[0m\u001b[0m\n\u001b[1;32m    315\u001b[0m         \u001b[0;32mraise\u001b[0m \u001b[0mexc\u001b[0m\u001b[0;34m.\u001b[0m\u001b[0mwith_traceback\u001b[0m\u001b[0;34m(\u001b[0m\u001b[0mtb\u001b[0m\u001b[0;34m)\u001b[0m\u001b[0;34m\u001b[0m\u001b[0;34m\u001b[0m\u001b[0m\n\u001b[0;32m--> 316\u001b[0;31m     \u001b[0;32mraise\u001b[0m \u001b[0mexc\u001b[0m\u001b[0;34m\u001b[0m\u001b[0;34m\u001b[0m\u001b[0m\n\u001b[0m\u001b[1;32m    317\u001b[0m \u001b[0;34m\u001b[0m\u001b[0m\n\u001b[1;32m    318\u001b[0m \u001b[0;34m\u001b[0m\u001b[0m\n",
      "\u001b[0;32m~/miniconda3/envs/xcube/lib/python3.7/site-packages/dask/local.py\u001b[0m in \u001b[0;36mexecute_task\u001b[0;34m(key, task_info, dumps, loads, get_id, pack_exception)\u001b[0m\n\u001b[1;32m    220\u001b[0m     \u001b[0;32mtry\u001b[0m\u001b[0;34m:\u001b[0m\u001b[0;34m\u001b[0m\u001b[0;34m\u001b[0m\u001b[0m\n\u001b[1;32m    221\u001b[0m         \u001b[0mtask\u001b[0m\u001b[0;34m,\u001b[0m \u001b[0mdata\u001b[0m \u001b[0;34m=\u001b[0m \u001b[0mloads\u001b[0m\u001b[0;34m(\u001b[0m\u001b[0mtask_info\u001b[0m\u001b[0;34m)\u001b[0m\u001b[0;34m\u001b[0m\u001b[0;34m\u001b[0m\u001b[0m\n\u001b[0;32m--> 222\u001b[0;31m         \u001b[0mresult\u001b[0m \u001b[0;34m=\u001b[0m \u001b[0m_execute_task\u001b[0m\u001b[0;34m(\u001b[0m\u001b[0mtask\u001b[0m\u001b[0;34m,\u001b[0m \u001b[0mdata\u001b[0m\u001b[0;34m)\u001b[0m\u001b[0;34m\u001b[0m\u001b[0;34m\u001b[0m\u001b[0m\n\u001b[0m\u001b[1;32m    223\u001b[0m         \u001b[0mid\u001b[0m \u001b[0;34m=\u001b[0m \u001b[0mget_id\u001b[0m\u001b[0;34m(\u001b[0m\u001b[0;34m)\u001b[0m\u001b[0;34m\u001b[0m\u001b[0;34m\u001b[0m\u001b[0m\n\u001b[1;32m    224\u001b[0m         \u001b[0mresult\u001b[0m \u001b[0;34m=\u001b[0m \u001b[0mdumps\u001b[0m\u001b[0;34m(\u001b[0m\u001b[0;34m(\u001b[0m\u001b[0mresult\u001b[0m\u001b[0;34m,\u001b[0m \u001b[0mid\u001b[0m\u001b[0;34m)\u001b[0m\u001b[0;34m)\u001b[0m\u001b[0;34m\u001b[0m\u001b[0;34m\u001b[0m\u001b[0m\n",
      "\u001b[0;32m~/miniconda3/envs/xcube/lib/python3.7/site-packages/dask/core.py\u001b[0m in \u001b[0;36m_execute_task\u001b[0;34m(arg, cache, dsk)\u001b[0m\n\u001b[1;32m    119\u001b[0m         \u001b[0;31m# temporaries by their reference count and can execute certain\u001b[0m\u001b[0;34m\u001b[0m\u001b[0;34m\u001b[0m\u001b[0;34m\u001b[0m\u001b[0m\n\u001b[1;32m    120\u001b[0m         \u001b[0;31m# operations in-place.\u001b[0m\u001b[0;34m\u001b[0m\u001b[0;34m\u001b[0m\u001b[0;34m\u001b[0m\u001b[0m\n\u001b[0;32m--> 121\u001b[0;31m         \u001b[0;32mreturn\u001b[0m \u001b[0mfunc\u001b[0m\u001b[0;34m(\u001b[0m\u001b[0;34m*\u001b[0m\u001b[0;34m(\u001b[0m\u001b[0m_execute_task\u001b[0m\u001b[0;34m(\u001b[0m\u001b[0ma\u001b[0m\u001b[0;34m,\u001b[0m \u001b[0mcache\u001b[0m\u001b[0;34m)\u001b[0m \u001b[0;32mfor\u001b[0m \u001b[0ma\u001b[0m \u001b[0;32min\u001b[0m \u001b[0margs\u001b[0m\u001b[0;34m)\u001b[0m\u001b[0;34m)\u001b[0m\u001b[0;34m\u001b[0m\u001b[0;34m\u001b[0m\u001b[0m\n\u001b[0m\u001b[1;32m    122\u001b[0m     \u001b[0;32melif\u001b[0m \u001b[0;32mnot\u001b[0m \u001b[0mishashable\u001b[0m\u001b[0;34m(\u001b[0m\u001b[0marg\u001b[0m\u001b[0;34m)\u001b[0m\u001b[0;34m:\u001b[0m\u001b[0;34m\u001b[0m\u001b[0;34m\u001b[0m\u001b[0m\n\u001b[1;32m    123\u001b[0m         \u001b[0;32mreturn\u001b[0m \u001b[0marg\u001b[0m\u001b[0;34m\u001b[0m\u001b[0;34m\u001b[0m\u001b[0m\n",
      "\u001b[0;32m~/miniconda3/envs/xcube/lib/python3.7/site-packages/dask/array/core.py\u001b[0m in \u001b[0;36mgetter\u001b[0;34m(a, b, asarray, lock)\u001b[0m\n\u001b[1;32m     98\u001b[0m         \u001b[0mc\u001b[0m \u001b[0;34m=\u001b[0m \u001b[0ma\u001b[0m\u001b[0;34m[\u001b[0m\u001b[0mb\u001b[0m\u001b[0;34m]\u001b[0m\u001b[0;34m\u001b[0m\u001b[0;34m\u001b[0m\u001b[0m\n\u001b[1;32m     99\u001b[0m         \u001b[0;32mif\u001b[0m \u001b[0masarray\u001b[0m\u001b[0;34m:\u001b[0m\u001b[0;34m\u001b[0m\u001b[0;34m\u001b[0m\u001b[0m\n\u001b[0;32m--> 100\u001b[0;31m             \u001b[0mc\u001b[0m \u001b[0;34m=\u001b[0m \u001b[0mnp\u001b[0m\u001b[0;34m.\u001b[0m\u001b[0masarray\u001b[0m\u001b[0;34m(\u001b[0m\u001b[0mc\u001b[0m\u001b[0;34m)\u001b[0m\u001b[0;34m\u001b[0m\u001b[0;34m\u001b[0m\u001b[0m\n\u001b[0m\u001b[1;32m    101\u001b[0m     \u001b[0;32mfinally\u001b[0m\u001b[0;34m:\u001b[0m\u001b[0;34m\u001b[0m\u001b[0;34m\u001b[0m\u001b[0m\n\u001b[1;32m    102\u001b[0m         \u001b[0;32mif\u001b[0m \u001b[0mlock\u001b[0m\u001b[0;34m:\u001b[0m\u001b[0;34m\u001b[0m\u001b[0;34m\u001b[0m\u001b[0m\n",
      "\u001b[0;32m~/miniconda3/envs/xcube/lib/python3.7/site-packages/numpy/core/_asarray.py\u001b[0m in \u001b[0;36masarray\u001b[0;34m(a, dtype, order)\u001b[0m\n\u001b[1;32m     83\u001b[0m \u001b[0;34m\u001b[0m\u001b[0m\n\u001b[1;32m     84\u001b[0m     \"\"\"\n\u001b[0;32m---> 85\u001b[0;31m     \u001b[0;32mreturn\u001b[0m \u001b[0marray\u001b[0m\u001b[0;34m(\u001b[0m\u001b[0ma\u001b[0m\u001b[0;34m,\u001b[0m \u001b[0mdtype\u001b[0m\u001b[0;34m,\u001b[0m \u001b[0mcopy\u001b[0m\u001b[0;34m=\u001b[0m\u001b[0;32mFalse\u001b[0m\u001b[0;34m,\u001b[0m \u001b[0morder\u001b[0m\u001b[0;34m=\u001b[0m\u001b[0morder\u001b[0m\u001b[0;34m)\u001b[0m\u001b[0;34m\u001b[0m\u001b[0;34m\u001b[0m\u001b[0m\n\u001b[0m\u001b[1;32m     86\u001b[0m \u001b[0;34m\u001b[0m\u001b[0m\n\u001b[1;32m     87\u001b[0m \u001b[0;34m\u001b[0m\u001b[0m\n",
      "\u001b[0;32m~/miniconda3/envs/xcube/lib/python3.7/site-packages/xarray/core/indexing.py\u001b[0m in \u001b[0;36m__array__\u001b[0;34m(self, dtype)\u001b[0m\n\u001b[1;32m    493\u001b[0m \u001b[0;34m\u001b[0m\u001b[0m\n\u001b[1;32m    494\u001b[0m     \u001b[0;32mdef\u001b[0m \u001b[0m__array__\u001b[0m\u001b[0;34m(\u001b[0m\u001b[0mself\u001b[0m\u001b[0;34m,\u001b[0m \u001b[0mdtype\u001b[0m\u001b[0;34m=\u001b[0m\u001b[0;32mNone\u001b[0m\u001b[0;34m)\u001b[0m\u001b[0;34m:\u001b[0m\u001b[0;34m\u001b[0m\u001b[0;34m\u001b[0m\u001b[0m\n\u001b[0;32m--> 495\u001b[0;31m         \u001b[0;32mreturn\u001b[0m \u001b[0mnp\u001b[0m\u001b[0;34m.\u001b[0m\u001b[0masarray\u001b[0m\u001b[0;34m(\u001b[0m\u001b[0mself\u001b[0m\u001b[0;34m.\u001b[0m\u001b[0marray\u001b[0m\u001b[0;34m,\u001b[0m \u001b[0mdtype\u001b[0m\u001b[0;34m=\u001b[0m\u001b[0mdtype\u001b[0m\u001b[0;34m)\u001b[0m\u001b[0;34m\u001b[0m\u001b[0;34m\u001b[0m\u001b[0m\n\u001b[0m\u001b[1;32m    496\u001b[0m \u001b[0;34m\u001b[0m\u001b[0m\n\u001b[1;32m    497\u001b[0m     \u001b[0;32mdef\u001b[0m \u001b[0m__getitem__\u001b[0m\u001b[0;34m(\u001b[0m\u001b[0mself\u001b[0m\u001b[0;34m,\u001b[0m \u001b[0mkey\u001b[0m\u001b[0;34m)\u001b[0m\u001b[0;34m:\u001b[0m\u001b[0;34m\u001b[0m\u001b[0;34m\u001b[0m\u001b[0m\n",
      "\u001b[0;32m~/miniconda3/envs/xcube/lib/python3.7/site-packages/numpy/core/_asarray.py\u001b[0m in \u001b[0;36masarray\u001b[0;34m(a, dtype, order)\u001b[0m\n\u001b[1;32m     83\u001b[0m \u001b[0;34m\u001b[0m\u001b[0m\n\u001b[1;32m     84\u001b[0m     \"\"\"\n\u001b[0;32m---> 85\u001b[0;31m     \u001b[0;32mreturn\u001b[0m \u001b[0marray\u001b[0m\u001b[0;34m(\u001b[0m\u001b[0ma\u001b[0m\u001b[0;34m,\u001b[0m \u001b[0mdtype\u001b[0m\u001b[0;34m,\u001b[0m \u001b[0mcopy\u001b[0m\u001b[0;34m=\u001b[0m\u001b[0;32mFalse\u001b[0m\u001b[0;34m,\u001b[0m \u001b[0morder\u001b[0m\u001b[0;34m=\u001b[0m\u001b[0morder\u001b[0m\u001b[0;34m)\u001b[0m\u001b[0;34m\u001b[0m\u001b[0;34m\u001b[0m\u001b[0m\n\u001b[0m\u001b[1;32m     86\u001b[0m \u001b[0;34m\u001b[0m\u001b[0m\n\u001b[1;32m     87\u001b[0m \u001b[0;34m\u001b[0m\u001b[0m\n",
      "\u001b[0;32m~/miniconda3/envs/xcube/lib/python3.7/site-packages/xarray/core/indexing.py\u001b[0m in \u001b[0;36m__array__\u001b[0;34m(self, dtype)\u001b[0m\n\u001b[1;32m    558\u001b[0m     \u001b[0;32mdef\u001b[0m \u001b[0m__array__\u001b[0m\u001b[0;34m(\u001b[0m\u001b[0mself\u001b[0m\u001b[0;34m,\u001b[0m \u001b[0mdtype\u001b[0m\u001b[0;34m=\u001b[0m\u001b[0;32mNone\u001b[0m\u001b[0;34m)\u001b[0m\u001b[0;34m:\u001b[0m\u001b[0;34m\u001b[0m\u001b[0;34m\u001b[0m\u001b[0m\n\u001b[1;32m    559\u001b[0m         \u001b[0marray\u001b[0m \u001b[0;34m=\u001b[0m \u001b[0mas_indexable\u001b[0m\u001b[0;34m(\u001b[0m\u001b[0mself\u001b[0m\u001b[0;34m.\u001b[0m\u001b[0marray\u001b[0m\u001b[0;34m)\u001b[0m\u001b[0;34m\u001b[0m\u001b[0;34m\u001b[0m\u001b[0m\n\u001b[0;32m--> 560\u001b[0;31m         \u001b[0;32mreturn\u001b[0m \u001b[0mnp\u001b[0m\u001b[0;34m.\u001b[0m\u001b[0masarray\u001b[0m\u001b[0;34m(\u001b[0m\u001b[0marray\u001b[0m\u001b[0;34m[\u001b[0m\u001b[0mself\u001b[0m\u001b[0;34m.\u001b[0m\u001b[0mkey\u001b[0m\u001b[0;34m]\u001b[0m\u001b[0;34m,\u001b[0m \u001b[0mdtype\u001b[0m\u001b[0;34m=\u001b[0m\u001b[0;32mNone\u001b[0m\u001b[0;34m)\u001b[0m\u001b[0;34m\u001b[0m\u001b[0;34m\u001b[0m\u001b[0m\n\u001b[0m\u001b[1;32m    561\u001b[0m \u001b[0;34m\u001b[0m\u001b[0m\n\u001b[1;32m    562\u001b[0m     \u001b[0;32mdef\u001b[0m \u001b[0mtranspose\u001b[0m\u001b[0;34m(\u001b[0m\u001b[0mself\u001b[0m\u001b[0;34m,\u001b[0m \u001b[0morder\u001b[0m\u001b[0;34m)\u001b[0m\u001b[0;34m:\u001b[0m\u001b[0;34m\u001b[0m\u001b[0;34m\u001b[0m\u001b[0m\n",
      "\u001b[0;32m~/miniconda3/envs/xcube/lib/python3.7/site-packages/numpy/core/_asarray.py\u001b[0m in \u001b[0;36masarray\u001b[0;34m(a, dtype, order)\u001b[0m\n\u001b[1;32m     83\u001b[0m \u001b[0;34m\u001b[0m\u001b[0m\n\u001b[1;32m     84\u001b[0m     \"\"\"\n\u001b[0;32m---> 85\u001b[0;31m     \u001b[0;32mreturn\u001b[0m \u001b[0marray\u001b[0m\u001b[0;34m(\u001b[0m\u001b[0ma\u001b[0m\u001b[0;34m,\u001b[0m \u001b[0mdtype\u001b[0m\u001b[0;34m,\u001b[0m \u001b[0mcopy\u001b[0m\u001b[0;34m=\u001b[0m\u001b[0;32mFalse\u001b[0m\u001b[0;34m,\u001b[0m \u001b[0morder\u001b[0m\u001b[0;34m=\u001b[0m\u001b[0morder\u001b[0m\u001b[0;34m)\u001b[0m\u001b[0;34m\u001b[0m\u001b[0;34m\u001b[0m\u001b[0m\n\u001b[0m\u001b[1;32m     86\u001b[0m \u001b[0;34m\u001b[0m\u001b[0m\n\u001b[1;32m     87\u001b[0m \u001b[0;34m\u001b[0m\u001b[0m\n",
      "\u001b[0;32m~/miniconda3/envs/xcube/lib/python3.7/site-packages/xarray/coding/variables.py\u001b[0m in \u001b[0;36m__array__\u001b[0;34m(self, dtype)\u001b[0m\n\u001b[1;32m     68\u001b[0m \u001b[0;34m\u001b[0m\u001b[0m\n\u001b[1;32m     69\u001b[0m     \u001b[0;32mdef\u001b[0m \u001b[0m__array__\u001b[0m\u001b[0;34m(\u001b[0m\u001b[0mself\u001b[0m\u001b[0;34m,\u001b[0m \u001b[0mdtype\u001b[0m\u001b[0;34m=\u001b[0m\u001b[0;32mNone\u001b[0m\u001b[0;34m)\u001b[0m\u001b[0;34m:\u001b[0m\u001b[0;34m\u001b[0m\u001b[0;34m\u001b[0m\u001b[0m\n\u001b[0;32m---> 70\u001b[0;31m         \u001b[0;32mreturn\u001b[0m \u001b[0mself\u001b[0m\u001b[0;34m.\u001b[0m\u001b[0mfunc\u001b[0m\u001b[0;34m(\u001b[0m\u001b[0mself\u001b[0m\u001b[0;34m.\u001b[0m\u001b[0marray\u001b[0m\u001b[0;34m)\u001b[0m\u001b[0;34m\u001b[0m\u001b[0;34m\u001b[0m\u001b[0m\n\u001b[0m\u001b[1;32m     71\u001b[0m \u001b[0;34m\u001b[0m\u001b[0m\n\u001b[1;32m     72\u001b[0m     \u001b[0;32mdef\u001b[0m \u001b[0m__repr__\u001b[0m\u001b[0;34m(\u001b[0m\u001b[0mself\u001b[0m\u001b[0;34m)\u001b[0m\u001b[0;34m:\u001b[0m\u001b[0;34m\u001b[0m\u001b[0;34m\u001b[0m\u001b[0m\n",
      "\u001b[0;32m~/miniconda3/envs/xcube/lib/python3.7/site-packages/xarray/coding/variables.py\u001b[0m in \u001b[0;36m_apply_mask\u001b[0;34m(data, encoded_fill_values, decoded_fill_value, dtype)\u001b[0m\n\u001b[1;32m    136\u001b[0m ) -> np.ndarray:\n\u001b[1;32m    137\u001b[0m     \u001b[0;34m\"\"\"Mask all matching values in a NumPy arrays.\"\"\"\u001b[0m\u001b[0;34m\u001b[0m\u001b[0;34m\u001b[0m\u001b[0m\n\u001b[0;32m--> 138\u001b[0;31m     \u001b[0mdata\u001b[0m \u001b[0;34m=\u001b[0m \u001b[0mnp\u001b[0m\u001b[0;34m.\u001b[0m\u001b[0masarray\u001b[0m\u001b[0;34m(\u001b[0m\u001b[0mdata\u001b[0m\u001b[0;34m,\u001b[0m \u001b[0mdtype\u001b[0m\u001b[0;34m=\u001b[0m\u001b[0mdtype\u001b[0m\u001b[0;34m)\u001b[0m\u001b[0;34m\u001b[0m\u001b[0;34m\u001b[0m\u001b[0m\n\u001b[0m\u001b[1;32m    139\u001b[0m     \u001b[0mcondition\u001b[0m \u001b[0;34m=\u001b[0m \u001b[0;32mFalse\u001b[0m\u001b[0;34m\u001b[0m\u001b[0;34m\u001b[0m\u001b[0m\n\u001b[1;32m    140\u001b[0m     \u001b[0;32mfor\u001b[0m \u001b[0mfv\u001b[0m \u001b[0;32min\u001b[0m \u001b[0mencoded_fill_values\u001b[0m\u001b[0;34m:\u001b[0m\u001b[0;34m\u001b[0m\u001b[0;34m\u001b[0m\u001b[0m\n",
      "\u001b[0;32m~/miniconda3/envs/xcube/lib/python3.7/site-packages/numpy/core/_asarray.py\u001b[0m in \u001b[0;36masarray\u001b[0;34m(a, dtype, order)\u001b[0m\n\u001b[1;32m     83\u001b[0m \u001b[0;34m\u001b[0m\u001b[0m\n\u001b[1;32m     84\u001b[0m     \"\"\"\n\u001b[0;32m---> 85\u001b[0;31m     \u001b[0;32mreturn\u001b[0m \u001b[0marray\u001b[0m\u001b[0;34m(\u001b[0m\u001b[0ma\u001b[0m\u001b[0;34m,\u001b[0m \u001b[0mdtype\u001b[0m\u001b[0;34m,\u001b[0m \u001b[0mcopy\u001b[0m\u001b[0;34m=\u001b[0m\u001b[0;32mFalse\u001b[0m\u001b[0;34m,\u001b[0m \u001b[0morder\u001b[0m\u001b[0;34m=\u001b[0m\u001b[0morder\u001b[0m\u001b[0;34m)\u001b[0m\u001b[0;34m\u001b[0m\u001b[0;34m\u001b[0m\u001b[0m\n\u001b[0m\u001b[1;32m     86\u001b[0m \u001b[0;34m\u001b[0m\u001b[0m\n\u001b[1;32m     87\u001b[0m \u001b[0;34m\u001b[0m\u001b[0m\n",
      "\u001b[0;32m~/miniconda3/envs/xcube/lib/python3.7/site-packages/xarray/core/indexing.py\u001b[0m in \u001b[0;36m__array__\u001b[0;34m(self, dtype)\u001b[0m\n\u001b[1;32m    558\u001b[0m     \u001b[0;32mdef\u001b[0m \u001b[0m__array__\u001b[0m\u001b[0;34m(\u001b[0m\u001b[0mself\u001b[0m\u001b[0;34m,\u001b[0m \u001b[0mdtype\u001b[0m\u001b[0;34m=\u001b[0m\u001b[0;32mNone\u001b[0m\u001b[0;34m)\u001b[0m\u001b[0;34m:\u001b[0m\u001b[0;34m\u001b[0m\u001b[0;34m\u001b[0m\u001b[0m\n\u001b[1;32m    559\u001b[0m         \u001b[0marray\u001b[0m \u001b[0;34m=\u001b[0m \u001b[0mas_indexable\u001b[0m\u001b[0;34m(\u001b[0m\u001b[0mself\u001b[0m\u001b[0;34m.\u001b[0m\u001b[0marray\u001b[0m\u001b[0;34m)\u001b[0m\u001b[0;34m\u001b[0m\u001b[0;34m\u001b[0m\u001b[0m\n\u001b[0;32m--> 560\u001b[0;31m         \u001b[0;32mreturn\u001b[0m \u001b[0mnp\u001b[0m\u001b[0;34m.\u001b[0m\u001b[0masarray\u001b[0m\u001b[0;34m(\u001b[0m\u001b[0marray\u001b[0m\u001b[0;34m[\u001b[0m\u001b[0mself\u001b[0m\u001b[0;34m.\u001b[0m\u001b[0mkey\u001b[0m\u001b[0;34m]\u001b[0m\u001b[0;34m,\u001b[0m \u001b[0mdtype\u001b[0m\u001b[0;34m=\u001b[0m\u001b[0;32mNone\u001b[0m\u001b[0;34m)\u001b[0m\u001b[0;34m\u001b[0m\u001b[0;34m\u001b[0m\u001b[0m\n\u001b[0m\u001b[1;32m    561\u001b[0m \u001b[0;34m\u001b[0m\u001b[0m\n\u001b[1;32m    562\u001b[0m     \u001b[0;32mdef\u001b[0m \u001b[0mtranspose\u001b[0m\u001b[0;34m(\u001b[0m\u001b[0mself\u001b[0m\u001b[0;34m,\u001b[0m \u001b[0morder\u001b[0m\u001b[0;34m)\u001b[0m\u001b[0;34m:\u001b[0m\u001b[0;34m\u001b[0m\u001b[0;34m\u001b[0m\u001b[0m\n",
      "\u001b[0;32m~/miniconda3/envs/xcube/lib/python3.7/site-packages/xarray/backends/zarr.py\u001b[0m in \u001b[0;36m__getitem__\u001b[0;34m(self, key)\u001b[0m\n\u001b[1;32m     54\u001b[0m         \u001b[0marray\u001b[0m \u001b[0;34m=\u001b[0m \u001b[0mself\u001b[0m\u001b[0;34m.\u001b[0m\u001b[0mget_array\u001b[0m\u001b[0;34m(\u001b[0m\u001b[0;34m)\u001b[0m\u001b[0;34m\u001b[0m\u001b[0;34m\u001b[0m\u001b[0m\n\u001b[1;32m     55\u001b[0m         \u001b[0;32mif\u001b[0m \u001b[0misinstance\u001b[0m\u001b[0;34m(\u001b[0m\u001b[0mkey\u001b[0m\u001b[0;34m,\u001b[0m \u001b[0mindexing\u001b[0m\u001b[0;34m.\u001b[0m\u001b[0mBasicIndexer\u001b[0m\u001b[0;34m)\u001b[0m\u001b[0;34m:\u001b[0m\u001b[0;34m\u001b[0m\u001b[0;34m\u001b[0m\u001b[0m\n\u001b[0;32m---> 56\u001b[0;31m             \u001b[0;32mreturn\u001b[0m \u001b[0marray\u001b[0m\u001b[0;34m[\u001b[0m\u001b[0mkey\u001b[0m\u001b[0;34m.\u001b[0m\u001b[0mtuple\u001b[0m\u001b[0;34m]\u001b[0m\u001b[0;34m\u001b[0m\u001b[0;34m\u001b[0m\u001b[0m\n\u001b[0m\u001b[1;32m     57\u001b[0m         \u001b[0;32melif\u001b[0m \u001b[0misinstance\u001b[0m\u001b[0;34m(\u001b[0m\u001b[0mkey\u001b[0m\u001b[0;34m,\u001b[0m \u001b[0mindexing\u001b[0m\u001b[0;34m.\u001b[0m\u001b[0mVectorizedIndexer\u001b[0m\u001b[0;34m)\u001b[0m\u001b[0;34m:\u001b[0m\u001b[0;34m\u001b[0m\u001b[0;34m\u001b[0m\u001b[0m\n\u001b[1;32m     58\u001b[0m             return array.vindex[\n",
      "\u001b[0;32m~/miniconda3/envs/xcube/lib/python3.7/site-packages/zarr/core.py\u001b[0m in \u001b[0;36m__getitem__\u001b[0;34m(self, selection)\u001b[0m\n\u001b[1;32m    570\u001b[0m \u001b[0;34m\u001b[0m\u001b[0m\n\u001b[1;32m    571\u001b[0m         \u001b[0mfields\u001b[0m\u001b[0;34m,\u001b[0m \u001b[0mselection\u001b[0m \u001b[0;34m=\u001b[0m \u001b[0mpop_fields\u001b[0m\u001b[0;34m(\u001b[0m\u001b[0mselection\u001b[0m\u001b[0;34m)\u001b[0m\u001b[0;34m\u001b[0m\u001b[0;34m\u001b[0m\u001b[0m\n\u001b[0;32m--> 572\u001b[0;31m         \u001b[0;32mreturn\u001b[0m \u001b[0mself\u001b[0m\u001b[0;34m.\u001b[0m\u001b[0mget_basic_selection\u001b[0m\u001b[0;34m(\u001b[0m\u001b[0mselection\u001b[0m\u001b[0;34m,\u001b[0m \u001b[0mfields\u001b[0m\u001b[0;34m=\u001b[0m\u001b[0mfields\u001b[0m\u001b[0;34m)\u001b[0m\u001b[0;34m\u001b[0m\u001b[0;34m\u001b[0m\u001b[0m\n\u001b[0m\u001b[1;32m    573\u001b[0m \u001b[0;34m\u001b[0m\u001b[0m\n\u001b[1;32m    574\u001b[0m     \u001b[0;32mdef\u001b[0m \u001b[0mget_basic_selection\u001b[0m\u001b[0;34m(\u001b[0m\u001b[0mself\u001b[0m\u001b[0;34m,\u001b[0m \u001b[0mselection\u001b[0m\u001b[0;34m=\u001b[0m\u001b[0mEllipsis\u001b[0m\u001b[0;34m,\u001b[0m \u001b[0mout\u001b[0m\u001b[0;34m=\u001b[0m\u001b[0;32mNone\u001b[0m\u001b[0;34m,\u001b[0m \u001b[0mfields\u001b[0m\u001b[0;34m=\u001b[0m\u001b[0;32mNone\u001b[0m\u001b[0;34m)\u001b[0m\u001b[0;34m:\u001b[0m\u001b[0;34m\u001b[0m\u001b[0;34m\u001b[0m\u001b[0m\n",
      "\u001b[0;32m~/miniconda3/envs/xcube/lib/python3.7/site-packages/zarr/core.py\u001b[0m in \u001b[0;36mget_basic_selection\u001b[0;34m(self, selection, out, fields)\u001b[0m\n\u001b[1;32m    696\u001b[0m         \u001b[0;32melse\u001b[0m\u001b[0;34m:\u001b[0m\u001b[0;34m\u001b[0m\u001b[0;34m\u001b[0m\u001b[0m\n\u001b[1;32m    697\u001b[0m             return self._get_basic_selection_nd(selection=selection, out=out,\n\u001b[0;32m--> 698\u001b[0;31m                                                 fields=fields)\n\u001b[0m\u001b[1;32m    699\u001b[0m \u001b[0;34m\u001b[0m\u001b[0m\n\u001b[1;32m    700\u001b[0m     \u001b[0;32mdef\u001b[0m \u001b[0m_get_basic_selection_zd\u001b[0m\u001b[0;34m(\u001b[0m\u001b[0mself\u001b[0m\u001b[0;34m,\u001b[0m \u001b[0mselection\u001b[0m\u001b[0;34m,\u001b[0m \u001b[0mout\u001b[0m\u001b[0;34m=\u001b[0m\u001b[0;32mNone\u001b[0m\u001b[0;34m,\u001b[0m \u001b[0mfields\u001b[0m\u001b[0;34m=\u001b[0m\u001b[0;32mNone\u001b[0m\u001b[0;34m)\u001b[0m\u001b[0;34m:\u001b[0m\u001b[0;34m\u001b[0m\u001b[0;34m\u001b[0m\u001b[0m\n",
      "\u001b[0;32m~/miniconda3/envs/xcube/lib/python3.7/site-packages/zarr/core.py\u001b[0m in \u001b[0;36m_get_basic_selection_nd\u001b[0;34m(self, selection, out, fields)\u001b[0m\n\u001b[1;32m    738\u001b[0m         \u001b[0mindexer\u001b[0m \u001b[0;34m=\u001b[0m \u001b[0mBasicIndexer\u001b[0m\u001b[0;34m(\u001b[0m\u001b[0mselection\u001b[0m\u001b[0;34m,\u001b[0m \u001b[0mself\u001b[0m\u001b[0;34m)\u001b[0m\u001b[0;34m\u001b[0m\u001b[0;34m\u001b[0m\u001b[0m\n\u001b[1;32m    739\u001b[0m \u001b[0;34m\u001b[0m\u001b[0m\n\u001b[0;32m--> 740\u001b[0;31m         \u001b[0;32mreturn\u001b[0m \u001b[0mself\u001b[0m\u001b[0;34m.\u001b[0m\u001b[0m_get_selection\u001b[0m\u001b[0;34m(\u001b[0m\u001b[0mindexer\u001b[0m\u001b[0;34m=\u001b[0m\u001b[0mindexer\u001b[0m\u001b[0;34m,\u001b[0m \u001b[0mout\u001b[0m\u001b[0;34m=\u001b[0m\u001b[0mout\u001b[0m\u001b[0;34m,\u001b[0m \u001b[0mfields\u001b[0m\u001b[0;34m=\u001b[0m\u001b[0mfields\u001b[0m\u001b[0;34m)\u001b[0m\u001b[0;34m\u001b[0m\u001b[0;34m\u001b[0m\u001b[0m\n\u001b[0m\u001b[1;32m    741\u001b[0m \u001b[0;34m\u001b[0m\u001b[0m\n\u001b[1;32m    742\u001b[0m     \u001b[0;32mdef\u001b[0m \u001b[0mget_orthogonal_selection\u001b[0m\u001b[0;34m(\u001b[0m\u001b[0mself\u001b[0m\u001b[0;34m,\u001b[0m \u001b[0mselection\u001b[0m\u001b[0;34m,\u001b[0m \u001b[0mout\u001b[0m\u001b[0;34m=\u001b[0m\u001b[0;32mNone\u001b[0m\u001b[0;34m,\u001b[0m \u001b[0mfields\u001b[0m\u001b[0;34m=\u001b[0m\u001b[0;32mNone\u001b[0m\u001b[0;34m)\u001b[0m\u001b[0;34m:\u001b[0m\u001b[0;34m\u001b[0m\u001b[0;34m\u001b[0m\u001b[0m\n",
      "\u001b[0;32m~/miniconda3/envs/xcube/lib/python3.7/site-packages/zarr/core.py\u001b[0m in \u001b[0;36m_get_selection\u001b[0;34m(self, indexer, out, fields)\u001b[0m\n\u001b[1;32m   1026\u001b[0m             \u001b[0;31m# load chunk selection into output array\u001b[0m\u001b[0;34m\u001b[0m\u001b[0;34m\u001b[0m\u001b[0;34m\u001b[0m\u001b[0m\n\u001b[1;32m   1027\u001b[0m             self._chunk_getitem(chunk_coords, chunk_selection, out, out_selection,\n\u001b[0;32m-> 1028\u001b[0;31m                                 drop_axes=indexer.drop_axes, fields=fields)\n\u001b[0m\u001b[1;32m   1029\u001b[0m \u001b[0;34m\u001b[0m\u001b[0m\n\u001b[1;32m   1030\u001b[0m         \u001b[0;32mif\u001b[0m \u001b[0mout\u001b[0m\u001b[0;34m.\u001b[0m\u001b[0mshape\u001b[0m\u001b[0;34m:\u001b[0m\u001b[0;34m\u001b[0m\u001b[0;34m\u001b[0m\u001b[0m\n",
      "\u001b[0;32m~/miniconda3/envs/xcube/lib/python3.7/site-packages/zarr/core.py\u001b[0m in \u001b[0;36m_chunk_getitem\u001b[0;34m(self, chunk_coords, chunk_selection, out, out_selection, drop_axes, fields)\u001b[0m\n\u001b[1;32m   1584\u001b[0m         \u001b[0;32mtry\u001b[0m\u001b[0;34m:\u001b[0m\u001b[0;34m\u001b[0m\u001b[0;34m\u001b[0m\u001b[0m\n\u001b[1;32m   1585\u001b[0m             \u001b[0;31m# obtain compressed data for chunk\u001b[0m\u001b[0;34m\u001b[0m\u001b[0;34m\u001b[0m\u001b[0;34m\u001b[0m\u001b[0m\n\u001b[0;32m-> 1586\u001b[0;31m             \u001b[0mcdata\u001b[0m \u001b[0;34m=\u001b[0m \u001b[0mself\u001b[0m\u001b[0;34m.\u001b[0m\u001b[0mchunk_store\u001b[0m\u001b[0;34m[\u001b[0m\u001b[0mckey\u001b[0m\u001b[0;34m]\u001b[0m\u001b[0;34m\u001b[0m\u001b[0;34m\u001b[0m\u001b[0m\n\u001b[0m\u001b[1;32m   1587\u001b[0m \u001b[0;34m\u001b[0m\u001b[0m\n\u001b[1;32m   1588\u001b[0m         \u001b[0;32mexcept\u001b[0m \u001b[0mKeyError\u001b[0m\u001b[0;34m:\u001b[0m\u001b[0;34m\u001b[0m\u001b[0;34m\u001b[0m\u001b[0m\n",
      "\u001b[0;32m~/Desktop/projects/xcube-sh/xcube_sh/chunkstore.py\u001b[0m in \u001b[0;36m__getitem__\u001b[0;34m(self, key)\u001b[0m\n\u001b[1;32m    389\u001b[0m         \u001b[0mvalue\u001b[0m \u001b[0;34m=\u001b[0m \u001b[0mself\u001b[0m\u001b[0;34m.\u001b[0m\u001b[0m_vfs\u001b[0m\u001b[0;34m[\u001b[0m\u001b[0mkey\u001b[0m\u001b[0;34m]\u001b[0m\u001b[0;34m\u001b[0m\u001b[0;34m\u001b[0m\u001b[0m\n\u001b[1;32m    390\u001b[0m         \u001b[0;32mif\u001b[0m \u001b[0misinstance\u001b[0m\u001b[0;34m(\u001b[0m\u001b[0mvalue\u001b[0m\u001b[0;34m,\u001b[0m \u001b[0mtuple\u001b[0m\u001b[0;34m)\u001b[0m\u001b[0;34m:\u001b[0m\u001b[0;34m\u001b[0m\u001b[0;34m\u001b[0m\u001b[0m\n\u001b[0;32m--> 391\u001b[0;31m             \u001b[0;32mreturn\u001b[0m \u001b[0mself\u001b[0m\u001b[0;34m.\u001b[0m\u001b[0m_fetch_chunk\u001b[0m\u001b[0;34m(\u001b[0m\u001b[0;34m*\u001b[0m\u001b[0mvalue\u001b[0m\u001b[0;34m)\u001b[0m\u001b[0;34m\u001b[0m\u001b[0;34m\u001b[0m\u001b[0m\n\u001b[0m\u001b[1;32m    392\u001b[0m         \u001b[0;32mreturn\u001b[0m \u001b[0mvalue\u001b[0m\u001b[0;34m\u001b[0m\u001b[0;34m\u001b[0m\u001b[0m\n\u001b[1;32m    393\u001b[0m \u001b[0;34m\u001b[0m\u001b[0m\n",
      "\u001b[0;32m~/Desktop/projects/xcube-sh/xcube_sh/chunkstore.py\u001b[0m in \u001b[0;36m_fetch_chunk\u001b[0;34m(self, band_name, chunk_index)\u001b[0m\n\u001b[1;32m    320\u001b[0m \u001b[0;34m\u001b[0m\u001b[0m\n\u001b[1;32m    321\u001b[0m         \u001b[0;32mif\u001b[0m \u001b[0mexception\u001b[0m\u001b[0;34m:\u001b[0m\u001b[0;34m\u001b[0m\u001b[0;34m\u001b[0m\u001b[0m\n\u001b[0;32m--> 322\u001b[0;31m             \u001b[0;32mraise\u001b[0m \u001b[0mexception\u001b[0m\u001b[0;34m\u001b[0m\u001b[0;34m\u001b[0m\u001b[0m\n\u001b[0m\u001b[1;32m    323\u001b[0m \u001b[0;34m\u001b[0m\u001b[0m\n\u001b[1;32m    324\u001b[0m         \u001b[0;32mreturn\u001b[0m \u001b[0mchunk_data\u001b[0m\u001b[0;34m\u001b[0m\u001b[0;34m\u001b[0m\u001b[0m\n",
      "\u001b[0;32m~/Desktop/projects/xcube-sh/xcube_sh/chunkstore.py\u001b[0m in \u001b[0;36m_fetch_chunk\u001b[0;34m(self, band_name, chunk_index)\u001b[0m\n\u001b[1;32m    305\u001b[0m                                           \u001b[0mchunk_index\u001b[0m\u001b[0;34m,\u001b[0m\u001b[0;34m\u001b[0m\u001b[0;34m\u001b[0m\u001b[0m\n\u001b[1;32m    306\u001b[0m                                           \u001b[0mbbox\u001b[0m\u001b[0;34m=\u001b[0m\u001b[0mrequest_bbox\u001b[0m\u001b[0;34m,\u001b[0m\u001b[0;34m\u001b[0m\u001b[0;34m\u001b[0m\u001b[0m\n\u001b[0;32m--> 307\u001b[0;31m                                           time_range=request_time_range)\n\u001b[0m\u001b[1;32m    308\u001b[0m         \u001b[0;32mexcept\u001b[0m \u001b[0mException\u001b[0m \u001b[0;32mas\u001b[0m \u001b[0me\u001b[0m\u001b[0;34m:\u001b[0m\u001b[0;34m\u001b[0m\u001b[0;34m\u001b[0m\u001b[0m\n\u001b[1;32m    309\u001b[0m             \u001b[0mexception\u001b[0m \u001b[0;34m=\u001b[0m \u001b[0me\u001b[0m\u001b[0;34m\u001b[0m\u001b[0;34m\u001b[0m\u001b[0m\n",
      "\u001b[0;32m~/Desktop/projects/xcube-sh/xcube_sh/chunkstore.py\u001b[0m in \u001b[0;36mfetch_chunk\u001b[0;34m(self, band_name, chunk_index, bbox, time_range)\u001b[0m\n\u001b[1;32m    555\u001b[0m         )\n\u001b[1;32m    556\u001b[0m \u001b[0;34m\u001b[0m\u001b[0m\n\u001b[0;32m--> 557\u001b[0;31m         \u001b[0mresponse\u001b[0m \u001b[0;34m=\u001b[0m \u001b[0mself\u001b[0m\u001b[0;34m.\u001b[0m\u001b[0m_sentinel_hub\u001b[0m\u001b[0;34m.\u001b[0m\u001b[0mget_data\u001b[0m\u001b[0;34m(\u001b[0m\u001b[0mrequest\u001b[0m\u001b[0;34m,\u001b[0m \u001b[0mmime_type\u001b[0m\u001b[0;34m=\u001b[0m\u001b[0;34m'application/octet-stream'\u001b[0m\u001b[0;34m)\u001b[0m\u001b[0;34m\u001b[0m\u001b[0;34m\u001b[0m\u001b[0m\n\u001b[0m\u001b[1;32m    558\u001b[0m \u001b[0;34m\u001b[0m\u001b[0m\n\u001b[1;32m    559\u001b[0m         \u001b[0;32mreturn\u001b[0m \u001b[0mresponse\u001b[0m\u001b[0;34m.\u001b[0m\u001b[0mcontent\u001b[0m\u001b[0;34m\u001b[0m\u001b[0;34m\u001b[0m\u001b[0m\n",
      "\u001b[0;32m~/Desktop/projects/xcube-sh/xcube_sh/sentinelhub.py\u001b[0m in \u001b[0;36mget_data\u001b[0;34m(self, request, mime_type)\u001b[0m\n\u001b[1;32m    252\u001b[0m             \u001b[0mself\u001b[0m\u001b[0;34m.\u001b[0m\u001b[0merror_handler\u001b[0m\u001b[0;34m(\u001b[0m\u001b[0mresponse\u001b[0m\u001b[0;34m)\u001b[0m\u001b[0;34m\u001b[0m\u001b[0;34m\u001b[0m\u001b[0m\n\u001b[1;32m    253\u001b[0m         \u001b[0;32mif\u001b[0m \u001b[0mself\u001b[0m\u001b[0;34m.\u001b[0m\u001b[0merror_policy\u001b[0m \u001b[0;34m==\u001b[0m \u001b[0;34m'fail'\u001b[0m\u001b[0;34m:\u001b[0m\u001b[0;34m\u001b[0m\u001b[0;34m\u001b[0m\u001b[0m\n\u001b[0;32m--> 254\u001b[0;31m             \u001b[0mresponse\u001b[0m\u001b[0;34m.\u001b[0m\u001b[0mraise_for_status\u001b[0m\u001b[0;34m(\u001b[0m\u001b[0;34m)\u001b[0m\u001b[0;34m\u001b[0m\u001b[0;34m\u001b[0m\u001b[0m\n\u001b[0m\u001b[1;32m    255\u001b[0m             \u001b[0;32mraise\u001b[0m \u001b[0mSentinelHubError\u001b[0m\u001b[0;34m(\u001b[0m\u001b[0mresponse\u001b[0m\u001b[0;34m)\u001b[0m\u001b[0;34m\u001b[0m\u001b[0;34m\u001b[0m\u001b[0m\n\u001b[1;32m    256\u001b[0m         \u001b[0;32melse\u001b[0m\u001b[0;34m:\u001b[0m\u001b[0;34m\u001b[0m\u001b[0;34m\u001b[0m\u001b[0m\n",
      "\u001b[0;32m~/miniconda3/envs/xcube/lib/python3.7/site-packages/requests/models.py\u001b[0m in \u001b[0;36mraise_for_status\u001b[0;34m(self)\u001b[0m\n\u001b[1;32m    939\u001b[0m \u001b[0;34m\u001b[0m\u001b[0m\n\u001b[1;32m    940\u001b[0m         \u001b[0;32mif\u001b[0m \u001b[0mhttp_error_msg\u001b[0m\u001b[0;34m:\u001b[0m\u001b[0;34m\u001b[0m\u001b[0;34m\u001b[0m\u001b[0m\n\u001b[0;32m--> 941\u001b[0;31m             \u001b[0;32mraise\u001b[0m \u001b[0mHTTPError\u001b[0m\u001b[0;34m(\u001b[0m\u001b[0mhttp_error_msg\u001b[0m\u001b[0;34m,\u001b[0m \u001b[0mresponse\u001b[0m\u001b[0;34m=\u001b[0m\u001b[0mself\u001b[0m\u001b[0;34m)\u001b[0m\u001b[0;34m\u001b[0m\u001b[0;34m\u001b[0m\u001b[0m\n\u001b[0m\u001b[1;32m    942\u001b[0m \u001b[0;34m\u001b[0m\u001b[0m\n\u001b[1;32m    943\u001b[0m     \u001b[0;32mdef\u001b[0m \u001b[0mclose\u001b[0m\u001b[0;34m(\u001b[0m\u001b[0mself\u001b[0m\u001b[0;34m)\u001b[0m\u001b[0;34m:\u001b[0m\u001b[0;34m\u001b[0m\u001b[0;34m\u001b[0m\u001b[0m\n",
      "\u001b[0;31mHTTPError\u001b[0m: 429 Client Error: Too Many Requests for url: https://services.sentinel-hub.com/api/v1/process"
     ]
    }
   ],
   "source": [
    "dataset.B04.isel(time=1).plot.imshow(vmin=0, vmax=0.2, cmap='Greys_r')"
   ]
  },
  {
   "cell_type": "code",
   "execution_count": null,
   "metadata": {},
   "outputs": [],
   "source": []
  }
 ],
 "metadata": {
  "kernelspec": {
   "display_name": "Python 3",
   "language": "python",
   "name": "python3"
  },
  "language_info": {
   "codemirror_mode": {
    "name": "ipython",
    "version": 3
   },
   "file_extension": ".py",
   "mimetype": "text/x-python",
   "name": "python",
   "nbconvert_exporter": "python",
   "pygments_lexer": "ipython3",
   "version": "3.7.6"
  }
 },
 "nbformat": 4,
 "nbformat_minor": 4
}

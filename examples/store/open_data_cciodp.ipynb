{
 "cells": [
  {
   "cell_type": "markdown",
   "metadata": {},
   "source": [
    "To use the CCI ODP Data Store in a Jupyter Notebook, we need to execute the following lines:"
   ]
  },
  {
   "cell_type": "code",
   "execution_count": 1,
   "metadata": {},
   "outputs": [],
   "source": [
    "%matplotlib inline\n",
    "import nest_asyncio\n",
    "nest_asyncio.apply()"
   ]
  },
  {
   "cell_type": "code",
   "execution_count": 2,
   "metadata": {},
   "outputs": [],
   "source": [
    "from xcube.core.store.store import find_data_store_extensions\n",
    "from xcube.core.store.store import get_data_store_params_schema\n",
    "from xcube.core.store.store import new_data_store\n",
    "from IPython.display import JSON"
   ]
  },
  {
   "cell_type": "markdown",
   "metadata": {},
   "source": [
    "Which data accessors are available?"
   ]
  },
  {
   "cell_type": "code",
   "execution_count": 3,
   "metadata": {},
   "outputs": [
    {
     "data": {
      "application/json": {
       "cciodp": {
        "description": "xarray.Dataset from ESA CCI Open Data Portal"
       },
       "directory": {
        "description": "Directory data store"
       },
       "memory": {
        "description": "Memory data store"
       },
       "sentinelhub": {
        "description": "xarray.Dataset from SENTINEL Hub Cloud API"
       }
      },
      "text/plain": [
       "<IPython.core.display.JSON object>"
      ]
     },
     "execution_count": 3,
     "metadata": {
      "application/json": {
       "expanded": false,
       "root": "root"
      }
     },
     "output_type": "execute_result"
    }
   ],
   "source": [
    "JSON({e.name: e.metadata for e in find_data_store_extensions()})"
   ]
  },
  {
   "cell_type": "markdown",
   "metadata": {},
   "source": [
    "Usually we need more information to get the actual data store object. Which data store parameters are available?"
   ]
  },
  {
   "cell_type": "code",
   "execution_count": 4,
   "metadata": {},
   "outputs": [
    {
     "data": {
      "application/json": {
       "type": "object"
      },
      "text/plain": [
       "<xcube.util.jsonschema.JsonObjectSchema at 0x7fd9139c9110>"
      ]
     },
     "execution_count": 4,
     "metadata": {},
     "output_type": "execute_result"
    }
   ],
   "source": [
    "get_data_store_params_schema('cciodp')"
   ]
  },
  {
   "cell_type": "markdown",
   "metadata": {},
   "source": [
    "Just provide mandatory parameters to instantiate the store class:"
   ]
  },
  {
   "cell_type": "code",
   "execution_count": 5,
   "metadata": {},
   "outputs": [
    {
     "data": {
      "text/plain": [
       "<xcube_cci.dataaccess_v4.CciOdpDataStore at 0x7fd912f8fc90>"
      ]
     },
     "execution_count": 5,
     "metadata": {},
     "output_type": "execute_result"
    }
   ],
   "source": [
    "store = new_data_store('cciodp')\n",
    "store"
   ]
  },
  {
   "cell_type": "markdown",
   "metadata": {},
   "source": [
    "Which datasets are provided? (the list may contain both gridded and vector datasets):"
   ]
  },
  {
   "cell_type": "code",
   "execution_count": 6,
   "metadata": {},
   "outputs": [
    {
     "data": {
      "application/json": [
       "esacci.CLOUD.mon.L3C.CLD_PRODUCTS.MODIS.Aqua.MODIS_AQUA.2-0.r1",
       "esacci.OZONE.mon.L3.LP.OSIRIS.ODIN.OSIRIS_ODIN.v0001.r1",
       "esacci.AEROSOL.satellite-orbit-frequency.L2P.AER_PRODUCTS.ATSR-2.ERS-2.ADV.2-30.r1",
       "esacci.OZONE.mon.L3.LP.GOMOS.Envisat.GOMOS_ENVISAT.v0001.r1",
       "esacci.SOILMOISTURE.day.L3S.SSMS.multi-sensor.multi-platform.ACTIVE.04-5.r1",
       "esacci.AEROSOL.day.L3C.AER_PRODUCTS.ATSR-2.ERS-2.ORAC.03-02.r1",
       "esacci.AEROSOL.day.L3C.AER_PRODUCTS.ATSR-2.ERS-2.ATSR2.04-01-.r1",
       "esacci.AEROSOL.day.L3C.AER_PRODUCTS.ATSR-2.ERS-2.ATSR2.04-01_seg-.r1",
       "esacci.AEROSOL.mon.L3C.AER_PRODUCTS.ATSR-2.ERS-2.ORAC.03-02.r1",
       "esacci.AEROSOL.mon.L3C.AER_PRODUCTS.ATSR-2.ERS-2.ATSR2.04-01-.r1",
       "esacci.AEROSOL.mon.L3C.AER_PRODUCTS.ATSR-2.ERS-2.ATSR2.04-01_seg-.r1",
       "esacci.AEROSOL.day.L3C.AER_PRODUCTS.AATSR.Envisat.SU.4-21.r1",
       "esacci.AEROSOL.mon.L3C.AER_PRODUCTS.AATSR.Envisat.SU.4-21.r1",
       "esacci.OZONE.day.L3S.TC.multi-sensor.multi-platform.MERGED.fv0100.r1",
       "esacci.CLOUD.mon.L3C.CLD_PRODUCTS.multi-sensor.Envisat.MERIS-AATSR.2-0.r1",
       "esacci.GHG.satellite-orbit-frequency.L2.CO2.TANSO-FTS.GOSAT.OCFP.v7-0-1.r1",
       "esacci.AEROSOL.day.L3C.AER_PRODUCTS.AATSR.Envisat.ORAC.03-02.r1",
       "esacci.AEROSOL.mon.L3C.AER_PRODUCTS.AATSR.Envisat.ORAC.03-02.r1",
       "esacci.SST.day.L4.SSTdepth.multi-sensor.multi-platform.OSTIA.2-1.anomaly",
       "esacci.SST.day.L4.SSTdepth.multi-sensor.multi-platform.OSTIA.2-1.sst",
       "esacci.FIRE.mon.L4.BA.MODIS.Terra.MODIS_TERRA.v5-1.r1",
       "esacci.SST.satellite-orbit-frequency.L3U.SSTskin.AATSR.Envisat.AATSR.2-1.r1",
       "esacci.SST.satellite-orbit-frequency.L3U.SSTskin.ATSR-2.ERS-2.ATSR2.2-1.r1",
       "esacci.SST.satellite-orbit-frequency.L3U.SSTskin.ATSR.ERS-1.ATSR1.2-1.r1",
       "esacci.SEAICE.day.L4.SICONC.multi-sensor.multi-platform.AMSR_25kmEASE2.2-1.NH",
       "esacci.SEAICE.day.L4.SICONC.multi-sensor.multi-platform.AMSR_25kmEASE2.2-1.SH",
       "esacci.GHG.satellite-orbit-frequency.L2.CH4.TANSO-FTS.GOSAT.OCFP.v2-1.r1",
       "esacci.AEROSOL.satellite-orbit-frequency.L2P.AER_PRODUCTS.AATSR.Envisat.ADV.2-30.r1",
       "esacci.OC.day.L3S.CHLOR_A.multi-sensor.multi-platform.MERGED.4-0.geographic",
       "esacci.OC.5-days.L3S.CHLOR_A.multi-sensor.multi-platform.MERGED.4-0.geographic",
       "esacci.OC.8-days.L3S.CHLOR_A.multi-sensor.multi-platform.MERGED.4-0.geographic",
       "esacci.OC.mon.L3S.CHLOR_A.multi-sensor.multi-platform.MERGED.4-0.geographic",
       "esacci.AEROSOL.mon.L3C.AER_PRODUCTS.ATSR-2.ERS-2.SU.4-21.r1",
       "esacci.GHG.satellite-orbit-frequency.L2.CH4.SCIAMACHY.Envisat.WFMD.v4-0.r1",
       "esacci.OZONE.mon.L3.NP.multi-sensor.multi-platform.MERGED.fv0002.r1",
       "esacci.OC.day.L3S.CHLOR_A.multi-sensor.multi-platform.MERGED.3-1.sinusoidal",
       "esacci.CLOUD.mon.L3C.CLD_PRODUCTS.multi-sensor.multi-platform.AVHRR-AM.2-0.r1",
       "esacci.OC.day.L3S.IOP.multi-sensor.multi-platform.MERGED.3-1.geographic",
       "esacci.OC.5-days.L3S.IOP.multi-sensor.multi-platform.MERGED.3-1.geographic",
       "esacci.OC.8-days.L3S.IOP.multi-sensor.multi-platform.MERGED.3-1.geographic",
       "esacci.OC.mon.L3S.IOP.multi-sensor.multi-platform.MERGED.3-1.geographic",
       "esacci.GHG.satellite-orbit-frequency.L2.CO2.TANSO-FTS.GOSAT.SRFP.v2-3-8.r1",
       "esacci.GHG.satellite-orbit-frequency.L2.CO2.TANSO-FTS.GOSAT.GOSAT.v2-3-8.r1",
       "esacci.GHG.satellite-orbit-frequency.L2.CH4.TANSO-FTS.GOSAT.SRFP.v2-3-8.r1",
       "esacci.CLOUD.mon.L3C.CLD_PRODUCTS.multi-sensor.multi-platform.AVHRR-PM.2-0.r1",
       "esacci.GHG.satellite-orbit-frequency.L2.CH4.SCIAMACHY.Envisat.IMAP.v7-2.r1",
       "esacci.OC.day.L3S.OC_PRODUCTS.multi-sensor.multi-platform.MERGED.3-1.geographic",
       "esacci.OC.5-days.L3S.OC_PRODUCTS.multi-sensor.multi-platform.MERGED.3-1.geographic",
       "esacci.OC.8-days.L3S.OC_PRODUCTS.multi-sensor.multi-platform.MERGED.3-1.geographic",
       "esacci.OC.mon.L3S.OC_PRODUCTS.multi-sensor.multi-platform.MERGED.3-1.geographic",
       "esacci.CLOUD.mon.L3C.CLD_PRODUCTS.multi-sensor.multi-platform.ATSR2-AATSR.2-0.r1",
       "esacci.OC.day.L3S.K_490.multi-sensor.multi-platform.MERGED.4-0.geographic",
       "esacci.OC.5-days.L3S.K_490.multi-sensor.multi-platform.MERGED.4-0.geographic",
       "esacci.OC.8-days.L3S.K_490.multi-sensor.multi-platform.MERGED.4-0.geographic",
       "esacci.OC.mon.L3S.K_490.multi-sensor.multi-platform.MERGED.4-0.geographic",
       "esacci.AEROSOL.day.L3C.AER_PRODUCTS.AATSR.Envisat.ADV.2-30.r1",
       "esacci.AEROSOL.day.L3C.AER_PRODUCTS.AATSR.Envisat.ADV.2-30.unc",
       "esacci.AEROSOL.mon.L3C.AER_PRODUCTS.AATSR.Envisat.ADV.2-30.r1",
       "esacci.AEROSOL.mon.L3C.AER_PRODUCTS.AATSR.Envisat.ADV.2-30.unc",
       "esacci.SST.climatology.L4.SSTdepth.multi-sensor.multi-platform.OSTIA.2-1.r1",
       "esacci.SOILMOISTURE.day.L3S.SSMS.multi-sensor.multi-platform.ACTIVE.04-4.r1",
       "esacci.SOILMOISTURE.day.L3S.SSMS.AMI-SCAT.multi-platform.ACTIVE.04-4.r1",
       "esacci.AEROSOL.satellite-orbit-frequency.L2P.AOD.MERIS.Envisat.MERIS_ENVISAT.2-2.r1",
       "esacci.AEROSOL.satellite-orbit-frequency.L2P.AER_PRODUCTS.AATSR.Envisat.ORAC.03-02.r1",
       "esacci.AEROSOL.satellite-orbit-frequency.L2P.AER_PRODUCTS.AATSR.Envisat.AATSR.03-02.r1",
       "esacci.OC.day.L3S.RRS.multi-sensor.multi-platform.MERGED.3-1.sinusoidal",
       "esacci.OC.mon.L3S.RRS.multi-sensor.multi-platform.MERGED.3-1.sinusoidal",
       "esacci.GHG.satellite-orbit-frequency.L2.CO2.SCIAMACHY.Envisat.BESD.v02-01-02.r1",
       "esacci.SST.satellite-orbit-frequency.L2P.SSTskin.AATSR.Envisat.AATSR.2-1.r1",
       "esacci.SST.satellite-orbit-frequency.L2P.SSTskin.ATSR-2.ERS-2.ATSR2.2-1.r1",
       "esacci.SST.satellite-orbit-frequency.L2P.SSTskin.ATSR.ERS-1.ATSR1.2-1.r1",
       "esacci.SST.day.L3C.SSTskin.AATSR.Envisat.AATSR.2-1.day",
       "esacci.SST.day.L3C.SSTskin.AATSR.Envisat.AATSR.2-1.night",
       "esacci.SST.day.L3C.SSTskin.ATSR.ERS-1.ATSR1.2-1.r1",
       "esacci.SST.day.L3C.SSTskin.ATSR-2.ERS-2.ATSR2.2-1.day",
       "esacci.SST.day.L3C.SSTskin.ATSR-2.ERS-2.ATSR2.2-1.night",
       "esacci.GHG.satellite-orbit-frequency.L2.CO2.SCIAMACHY.Envisat.WFMD.v4-0.r1",
       "esacci.CLOUD.mon.L3C.CLD_PRODUCTS.MODIS.Terra.MODIS_TERRA.2-0.r1",
       "esacci.GHG.satellite-orbit-frequency.L2.CH4.TANSO-FTS.GOSAT.SRPR.v2-3-8.r1",
       "esacci.SST.day.L3C.SSTskin.AVHRR-3.NOAA-15.AVHRR15_G.2-1.r1",
       "esacci.SST.day.L3C.SSTskin.AVHRR-3.Metop-A.AVHRRMTA_G.2-1.r1",
       "esacci.SST.day.L3C.SSTskin.AVHRR-3.NOAA-19.AVHRR19_G.2-1.r1",
       "esacci.SST.day.L3C.SSTskin.AVHRR-3.NOAA-17.AVHRR17_G.2-1.r1",
       "esacci.SST.day.L3C.SSTskin.AVHRR-2.NOAA-12.AVHRR12_G.2-1.r1",
       "esacci.SST.day.L3C.SSTskin.AVHRR-2.NOAA-11.AVHRR11_G.2-1.r1",
       "esacci.SST.day.L3C.SSTskin.AVHRR-2.NOAA-14.AVHRR14_G.2-1.r1",
       "esacci.SST.day.L3C.SSTskin.AVHRR-3.NOAA-18.AVHRR18_G.2-1.r1",
       "esacci.SST.day.L3C.SSTskin.AVHRR-2.NOAA-9.AVHRR09_G.2-1.r1",
       "esacci.SST.day.L3C.SSTskin.AVHRR-3.NOAA-16.AVHRR16_G.2-1.r1",
       "esacci.SST.day.L3C.SSTskin.AVHRR-2.NOAA-7.AVHRR07_G.2-1.r1",
       "esacci.SOILMOISTURE.day.L3S.SSMV.multi-sensor.multi-platform.COMBINED.04-4.r1",
       "esacci.AEROSOL.day.L3C.AOD.MERIS.Envisat.MERIS_ENVISAT.2-2.r1",
       "esacci.AEROSOL.mon.L3C.AOD.MERIS.Envisat.MERIS_ENVISAT.2-2.r1",
       "esacci.SEASURFACESALINITY.day.L4.SSS.multi-sensor.multi-platform.MERGED_OI_7DAY_RUNNINGMEAN_DAILY_25km.01-08.r1",
       "esacci.SST.satellite-orbit-frequency.L3U.SSTskin.AVHRR-3.Metop-A.AVHRRMTA_G.2-1.r1",
       "esacci.SST.satellite-orbit-frequency.L3U.SSTskin.AVHRR-3.NOAA-15.AVHRR15_G.2-1.r1",
       "esacci.SST.satellite-orbit-frequency.L3U.SSTskin.AVHRR-3.NOAA-19.AVHRR19_G.2-1.r1",
       "esacci.SST.satellite-orbit-frequency.L3U.SSTskin.AVHRR-3.NOAA-17.AVHRR17_G.2-1.r1",
       "esacci.SST.satellite-orbit-frequency.L3U.SSTskin.AVHRR-2.NOAA-12.AVHRR12_G.2-1.r1",
       "esacci.SST.satellite-orbit-frequency.L3U.SSTskin.AVHRR-2.NOAA-11.AVHRR11_G.2-1.r1",
       "esacci.SST.satellite-orbit-frequency.L3U.SSTskin.AVHRR-2.NOAA-14.AVHRR14_G.2-1.r1",
       "esacci.SST.satellite-orbit-frequency.L3U.SSTskin.AVHRR-3.NOAA-18.AVHRR18_G.2-1.r1",
       "esacci.SST.satellite-orbit-frequency.L3U.SSTskin.AVHRR-2.NOAA-9.AVHRR09_G.2-1.r1",
       "esacci.SST.satellite-orbit-frequency.L3U.SSTskin.AVHRR-3.NOAA-16.AVHRR16_G.2-1.r1",
       "esacci.SST.satellite-orbit-frequency.L3U.SSTskin.AVHRR-2.NOAA-7.AVHRR07_G.2-1.r1",
       "esacci.OC.day.L3S.K_490.multi-sensor.multi-platform.MERGED.3-1.geographic",
       "esacci.OC.5-days.L3S.K_490.multi-sensor.multi-platform.MERGED.3-1.geographic",
       "esacci.OC.8-days.L3S.K_490.multi-sensor.multi-platform.MERGED.3-1.geographic",
       "esacci.OC.mon.L3S.K_490.multi-sensor.multi-platform.MERGED.3-1.geographic",
       "esacci.AEROSOL.5-days.L3C.AEX.GOMOS.Envisat.AERGOM.2-19.r1",
       "esacci.SST.satellite-orbit-frequency.L2P.SSTskin.AVHRR-3.Metop-A.AVHRRMTA_G.2-1.r1",
       "esacci.SST.satellite-orbit-frequency.L2P.SSTskin.AVHRR-3.NOAA-15.AVHRR15_G.2-1.r1",
       "esacci.SST.satellite-orbit-frequency.L2P.SSTskin.AVHRR-2.NOAA-12.AVHRR12_G.2-1.r1",
       "esacci.SST.satellite-orbit-frequency.L2P.SSTskin.AVHRR-3.NOAA-19.AVHRR19_G.2-1.r1",
       "esacci.SST.satellite-orbit-frequency.L2P.SSTskin.AVHRR-2.NOAA-11.AVHRR11_G.2-1.r1",
       "esacci.SST.satellite-orbit-frequency.L2P.SSTskin.AVHRR-2.NOAA-14.AVHRR14_G.2-1.r1",
       "esacci.SST.satellite-orbit-frequency.L2P.SSTskin.AVHRR-3.NOAA-17.AVHRR17_G.2-1.r1",
       "esacci.SST.satellite-orbit-frequency.L2P.SSTskin.AVHRR-2.NOAA-9.AVHRR09_G.2-1.r1",
       "esacci.SST.satellite-orbit-frequency.L2P.SSTskin.AVHRR-2.NOAA-7.AVHRR07_G.2-1.r1",
       "esacci.SST.satellite-orbit-frequency.L2P.SSTskin.AVHRR-3.NOAA-16.AVHRR16_G.2-1.r1",
       "esacci.SST.satellite-orbit-frequency.L2P.SSTskin.AVHRR-3.NOAA-18.AVHRR18_G.2-1.r1",
       "esacci.OC.day.L3S.IOP.multi-sensor.multi-platform.MERGED.4-0.geographic",
       "esacci.OC.5-days.L3S.IOP.multi-sensor.multi-platform.MERGED.4-0.geographic",
       "esacci.OC.8-days.L3S.IOP.multi-sensor.multi-platform.MERGED.4-0.geographic",
       "esacci.OC.mon.L3S.IOP.multi-sensor.multi-platform.MERGED.4-0.geographic",
       "esacci.OC.day.L3S.RRS.multi-sensor.multi-platform.MERGED.4-0.geographic",
       "esacci.OC.5-days.L3S.RRS.multi-sensor.multi-platform.MERGED.4-0.geographic",
       "esacci.OC.8-days.L3S.RRS.multi-sensor.multi-platform.MERGED.4-0.geographic",
       "esacci.OC.mon.L3S.RRS.multi-sensor.multi-platform.MERGED.4-0.geographic",
       "esacci.LC.yr.L4.LCCS.multi-sensor.multi-platform.Map.2-0-7.r1",
       "esacci.OZONE.mon.L3.LP.SMR.ODIN.MZM.v0001.r1",
       "esacci.OZONE.mon.L3.LP.SCIAMACHY.Envisat.SCIAMACHY_ENVISAT.v0001.r1",
       "esacci.SOILMOISTURE.day.L3S.SSMV.multi-sensor.multi-platform.COMBINED.04-5.r1",
       "esacci.AEROSOL.satellite-orbit-frequency.L2P.AER_PRODUCTS.ATSR-2.ERS-2.ORAC.03-02.r1",
       "esacci.AEROSOL.satellite-orbit-frequency.L2P.AER_PRODUCTS.ATSR-2.ERS-2.ATSR2.04-01.r1",
       "esacci.LC.13-yrs.L4.WB.ASAR.Envisat.Map.4-0.r1",
       "esacci.SOILMOISTURE.day.L3S.SSMV.multi-sensor.multi-platform.PASSIVE.04-4.r1",
       "esacci.OC.day.L3S.RRS.multi-sensor.multi-platform.MERGED.3-1.geographic",
       "esacci.OC.5-days.L3S.RRS.multi-sensor.multi-platform.MERGED.3-1.geographic",
       "esacci.OC.8-days.L3S.RRS.multi-sensor.multi-platform.MERGED.3-1.geographic",
       "esacci.OC.mon.L3S.RRS.multi-sensor.multi-platform.MERGED.3-1.geographic",
       "esacci.AEROSOL.day.L3C.AER_PRODUCTS.ATSR-2.ERS-2.ADV.2-30.r1",
       "esacci.AEROSOL.mon.L3C.AER_PRODUCTS.ATSR-2.ERS-2.ADV.2-30.r1",
       "esacci.OZONE.mon.L3.LP.SMR.ODIN.SMR_ODIN.v0001.r1",
       "esacci.SST.day.L4.SSTdepth.multi-sensor.multi-platform.OSTIA.1-1.r1",
       "esacci.GHG.satellite-orbit-frequency.L2.CH4.TANSO-FTS.GOSAT.OCPR.v7-0.r1",
       "esacci.AEROSOL.satellite-orbit-frequency.L2P.AER_PRODUCTS.ATSR-2.ERS-2.SU.4-21.r1",
       "esacci.SOILMOISTURE.day.L3S.SSMV.multi-sensor.multi-platform.PASSIVE.04-5.r1",
       "esacci.OC.day.L3S.CHLOR_A.multi-sensor.multi-platform.MERGED.4-0.sinusoidal",
       "esacci.OC.mon.L3S.CHLOR_A.multi-sensor.multi-platform.MERGED.4-0.sinusoidal",
       "esacci.OZONE.mon.L3.LP.MIPAS.Envisat.MIPAS_ENVISAT.v0001.r1",
       "esacci.AEROSOL.satellite-orbit-frequency.L2P.AER_PRODUCTS.AATSR.Envisat.SU.4-21.r1",
       "esacci.AEROSOL.satellite-orbit-frequency.L2P.AER_PRODUCTS.AATSR.Envisat.SU.4-21u.r1",
       "esacci.AEROSOL.satellite-orbit-frequency.L2P.AER_PRODUCTS.AATSR.Envisat.AATSR_ENVISAT.4-21.r1",
       "esacci.OC.day.L3S.K_490.multi-sensor.multi-platform.MERGED.3-1.sinusoidal",
       "esacci.GHG.satellite-orbit-frequency.L2.CO2.TANSO-FTS.GOSAT.EMMA.v2-2c.r1",
       "esacci.GHG.satellite-orbit-frequency.L2.CO2.multi-sensor.multi-platform.EMMA.v2-2a.r1",
       "esacci.GHG.satellite-orbit-frequency.L2.CO2.multi-sensor.multi-platform.EMMA.v2-2b.r1",
       "esacci.SEASURFACESALINITY.15-days.L4.SSS.multi-sensor.multi-platform.MERGED_OI_Monthly_CENTRED_15Day_25km.01-08.r1",
       "esacci.OC.day.L3S.K_490.multi-sensor.multi-platform.MERGED.4-0.sinusoidal",
       "esacci.OC.mon.L3S.K_490.multi-sensor.multi-platform.MERGED.4-0.sinusoidal",
       "esacci.OC.day.L3S.CHLOR_A.multi-sensor.multi-platform.MERGED.3-1.geographic",
       "esacci.OC.5-days.L3S.CHLOR_A.multi-sensor.multi-platform.MERGED.3-1.geographic",
       "esacci.OC.8-days.L3S.CHLOR_A.multi-sensor.multi-platform.MERGED.3-1.geographic",
       "esacci.OC.mon.L3S.CHLOR_A.multi-sensor.multi-platform.MERGED.3-1.geographic",
       "esacci.OC.day.L3S.OC_PRODUCTS.multi-sensor.multi-platform.MERGED.4-0.geographic",
       "esacci.OC.5-days.L3S.OC_PRODUCTS.multi-sensor.multi-platform.MERGED.4-0.geographic",
       "esacci.OC.8-days.L3S.OC_PRODUCTS.multi-sensor.multi-platform.MERGED.4-0.geographic",
       "esacci.OC.mon.L3S.OC_PRODUCTS.multi-sensor.multi-platform.MERGED.4-0.geographic",
       "esacci.SEAICE.day.L4.SICONC.multi-sensor.multi-platform.AMSR_50kmEASE2.2-1.NH",
       "esacci.SEAICE.day.L4.SICONC.multi-sensor.multi-platform.AMSR_50kmEASE2.2-1.SH",
       "esacci.OC.day.L3S.IOP.multi-sensor.multi-platform.MERGED.4-0.sinusoidal",
       "esacci.OC.mon.L3S.IOP.multi-sensor.multi-platform.MERGED.4-0.sinusoidal",
       "esacci.OC.day.L3S.OC_PRODUCTS.multi-sensor.multi-platform.MERGED.4-0.sinusoidal",
       "esacci.GHG.satellite-orbit-frequency.L2.CH4.TANSO-FTS.GOSAT.EMMA.ch4_v1-2.r1"
      ],
      "text/plain": [
       "<IPython.core.display.JSON object>"
      ]
     },
     "execution_count": 6,
     "metadata": {
      "application/json": {
       "expanded": false,
       "root": "root"
      }
     },
     "output_type": "execute_result"
    }
   ],
   "source": [
    "JSON(list(store.get_data_ids()))"
   ]
  },
  {
   "cell_type": "markdown",
   "metadata": {},
   "source": [
    "Which in-memory data types are provided?\n",
    "\n",
    "- `dataset` --> `xarray.Dataset` (Gridded data, multi-resolution pyramid)\n",
    "- `mldataset` -->  `xcube.core.mlds.MultiLevelDataset`  (Gridded data, multi-resolution pyramid)\n",
    "- `geodataframe` --> `geopandas.GeoDataFrame` (Vector data) \n"
   ]
  },
  {
   "cell_type": "code",
   "execution_count": 7,
   "metadata": {},
   "outputs": [
    {
     "data": {
      "text/plain": [
       "'dataset'"
      ]
     },
     "execution_count": 7,
     "metadata": {},
     "output_type": "execute_result"
    }
   ],
   "source": [
    "store.get_type_ids()"
   ]
  },
  {
   "cell_type": "markdown",
   "metadata": {},
   "source": [
    "We may ask for a specific type of data ..."
   ]
  },
  {
   "cell_type": "code",
   "execution_count": 8,
   "metadata": {},
   "outputs": [
    {
     "data": {
      "text/plain": [
       "True"
      ]
     },
     "execution_count": 8,
     "metadata": {},
     "output_type": "execute_result"
    }
   ],
   "source": [
    "store.has_data('esacci.OC.5-days.L3S.CHLOR_A.multi-sensor.multi-platform.MERGED.3-1.geographic')"
   ]
  },
  {
   "cell_type": "markdown",
   "metadata": {},
   "source": [
    "... but in many cases we want to query for certain criteria. How can we do that?"
   ]
  },
  {
   "cell_type": "code",
   "execution_count": 9,
   "metadata": {},
   "outputs": [
    {
     "data": {
      "application/json": {
       "additionalProperties": false,
       "properties": {
        "bbox": {
         "items": [
          {
           "type": "number"
          },
          {
           "type": "number"
          },
          {
           "type": "number"
          },
          {
           "type": "number"
          }
         ],
         "type": "array"
        },
        "data_type": {
         "type": "string"
        },
        "ecv": {
         "type": "string"
        },
        "end_date": {
         "format": "date-time",
         "type": "string"
        },
        "frequency": {
         "type": "string"
        },
        "institute": {
         "type": "string"
        },
        "platform": {
         "type": "string"
        },
        "processing_level": {
         "type": "string"
        },
        "product_string": {
         "type": "string"
        },
        "product_version": {
         "type": "string"
        },
        "sensor": {
         "type": "string"
        },
        "start_date": {
         "format": "date-time",
         "type": "string"
        }
       },
       "type": "object"
      },
      "text/plain": [
       "<xcube.util.jsonschema.JsonObjectSchema at 0x7fd9120084d0>"
      ]
     },
     "execution_count": 9,
     "metadata": {},
     "output_type": "execute_result"
    }
   ],
   "source": [
    "store.get_search_params_schema()"
   ]
  },
  {
   "cell_type": "markdown",
   "metadata": {},
   "source": [
    "Now search."
   ]
  },
  {
   "cell_type": "code",
   "execution_count": 18,
   "metadata": {},
   "outputs": [
    {
     "data": {
      "application/json": [
       {
        "attrs": {
         "Conventions": "CF-1.5",
         "address": "P.O.Box 503, 00101 Helsinki, Finland",
         "comment": "Definitions of parameters and data processing is described in the dedicated Technical Note",
         "creator_email": "viktoria.sofieva@fmi.fi",
         "creator_name": "Viktoria Sofieva",
         "date_created": "20130412T112205",
         "file_version": "fv0001",
         "geospatial_lat_max": "90",
         "geospatial_lat_min": "-90",
         "geospatial_lat_resolution": "10 deg ",
         "license": "ozone_cci guidelines",
         "naming_authority": "FMI - Finnish Meteorological Institute",
         "number_of_latitude_bins": "18",
         "number_of_months": "2",
         "number_of_pressure_levels": "34",
         "platform": "Odin",
         "restriction": "Restricted under the use of ozone cci guidelines",
         "sensor": "OSIRIS",
         "standard_name_vocabulary": "NetCDF Climate and Forecast(CF) Metadata Convention version 18",
         "summary": "Monthly zonal mean ozone profiles in 10-deg latitude zones and data uncertainty characterization",
         "title": "ESA CCI ozone  monthly zonal mean data from individual instrument ",
         "value_for_nodata": "NaN",
         "year": "2001"
        },
        "bbox": [
         -180,
         -90,
         180,
         90
        ],
        "data_id": "esacci.OZONE.mon.L3.LP.OSIRIS.ODIN.OSIRIS_ODIN.v0001.r1",
        "dims": {
         "air_pressure": 34,
         "latitude_centers": 18,
         "time": 2
        },
        "spatial_res": [
         10,
         -1
        ],
        "time_range": [
         "2000-02-01T00:00:00",
         "2014-12-31T23:59:59"
        ],
        "type_id": "dataset"
       },
       {
        "attrs": {
         "Conventions": "CF-1.5",
         "address": "P.O.Box 503, 00101 Helsinki, Finland",
         "comment": "Definitions of parameters and data processing is described in the dedicated Technical Note",
         "creator_email": "viktoria.sofieva@fmi.fi",
         "creator_name": "Viktoria Sofieva",
         "date_created": "20130412T110122",
         "file_version": "fv0001",
         "geospatial_lat_max": "90",
         "geospatial_lat_min": "-90",
         "geospatial_lat_resolution": "10 deg ",
         "license": "ozone_cci guidelines",
         "naming_authority": "FMI - Finnish Meteorological Institute",
         "number_of_latitude_bins": "18",
         "number_of_months": "5",
         "number_of_pressure_levels": "51",
         "platform": "Envisat",
         "restriction": "Restricted under the use of ozone cci guidelines",
         "sensor": "GOMOS",
         "standard_name_vocabulary": "NetCDF Climate and Forecast(CF) Metadata Convention version 18",
         "summary": "Monthly zonal mean ozone profiles in 10-deg latitude zones and data uncertainty characterization",
         "title": "ESA CCI ozone  monthly zonal mean data from individual instrument ",
         "value_for_nodata": "NaN",
         "year": "2002"
        },
        "bbox": [
         -180,
         -90,
         180,
         90
        ],
        "data_id": "esacci.OZONE.mon.L3.LP.GOMOS.Envisat.GOMOS_ENVISAT.v0001.r1",
        "dims": {
         "air_pressure": 51,
         "latitude_centers": 18,
         "time": 5
        },
        "spatial_res": [
         10,
         -1
        ],
        "time_range": [
         "2000-02-01T00:00:00",
         "2014-12-31T23:59:59"
        ],
        "type_id": "dataset"
       },
       {
        "attrs": {
         "Conventions": "CF-1.6",
         "Note": "netCDF compression applied.",
         "comment": "These data were produced at KNMI as part of the ESA OZONE CCI project.",
         "creator_email": "peet@knmi.nl",
         "creator_name": "J.C.A. van Peet",
         "creator_url": "KNMI, http://www.knmi.nl/",
         "date_created": "2014-01-08T12:50:21.908",
         "geospatial_lat_max": 90,
         "geospatial_lat_min": -90,
         "geospatial_lat_resolution": 1,
         "geospatial_lat_units": "degree_north",
         "geospatial_lon_max": 180,
         "geospatial_lon_min": -180,
         "geospatial_lon_resolution": 1,
         "geospatial_lon_units": "degree_east",
         "geospatial_vertical_max": 1013,
         "geospatial_vertical_min": 0.01,
         "history": "L2 data gridded to global grid.",
         "id": "32CF0EE6-1F21-4FAE-B0BE-A8C6FD88A775",
         "institution": "Royal Netherlands Meteorological Institute, KNMI",
         "keywords": "satellite, observation, atmosphere, ozone",
         "license": "data use is free and open",
         "naming_authority": "KNMI, http://www.knmi.nl/",
         "platform": "merged: ERS-2, ENVISAT, EOS-AURA, METOP-A",
         "product_version": "fv0002",
         "project": "Climate Change Initiative - European Space Agency",
         "references": "http://www.esa-ozone-cci.org/",
         "sensor": "merged: GOME, SCIAMACHY, OMI and GOME-2.",
         "source": "This dataset contains L2 profiles from GOME, SCIAMACHY, OMI and GOME-2 gridded onto a global grid.",
         "spatial_resolution": "see geospatial_lat_resolution and geospatial_lat_resolution",
         "standard_name_vocabulary": "NetCDF Climate and Forecast(CF) Metadata Convention version 20, 11 September 2012",
         "summary": "This dataset contains L2 profiles from GOME, SCIAMACHY, OMI and GOME-2 gridded onto a global grid.",
         "time_coverage_duration": "P1M",
         "time_coverage_end": "19970131T233849Z",
         "time_coverage_resolution": "P1M",
         "time_coverage_start": "19970104T102333Z",
         "title": "ESA CCI ozone level 3 monthly.",
         "tracking_id": "32CF0EE6-1F21-4FAE-B0BE-A8C6FD88A775"
        },
        "bbox": [
         -180,
         -90,
         180,
         90
        ],
        "data_id": "esacci.OZONE.mon.L3.NP.multi-sensor.multi-platform.MERGED.fv0002.r1",
        "data_vars": [
         {
          "dims": [
           "time",
           "lat",
           "lon"
          ],
          "dtype": "float32",
          "name": "surface_pressure",
          "ndim": 3
         },
         {
          "dims": [
           "time",
           "layers",
           "lat",
           "lon"
          ],
          "dtype": "float32",
          "name": "O3_du",
          "ndim": 4
         },
         {
          "dims": [
           "time",
           "layers",
           "lat",
           "lon"
          ],
          "dtype": "float32",
          "name": "O3e_du",
          "ndim": 4
         },
         {
          "dims": [
           "time",
           "lat",
           "lon"
          ],
          "dtype": "float32",
          "name": "O3_du_tot",
          "ndim": 3
         },
         {
          "dims": [
           "time",
           "lat",
           "lon"
          ],
          "dtype": "float32",
          "name": "O3e_du_tot",
          "ndim": 3
         },
         {
          "dims": [
           "time",
           "air_pressure",
           "lat",
           "lon"
          ],
          "dtype": "float32",
          "name": "O3_vmr",
          "ndim": 4
         },
         {
          "dims": [
           "time",
           "air_pressure",
           "lat",
           "lon"
          ],
          "dtype": "float32",
          "name": "O3e_vmr",
          "ndim": 4
         },
         {
          "dims": [
           "time",
           "air_pressure",
           "lat",
           "lon"
          ],
          "dtype": "float32",
          "name": "O3_ndens",
          "ndim": 4
         },
         {
          "dims": [
           "time",
           "air_pressure",
           "lat",
           "lon"
          ],
          "dtype": "float32",
          "name": "O3e_ndens",
          "ndim": 4
         }
        ],
        "dims": {
         "air_pressure": 17,
         "lat": 180,
         "layers": 16,
         "lon": 360,
         "time": 1
        },
        "spatial_res": [
         1,
         1
        ],
        "time_period": "1M",
        "time_range": [
         "2000-02-01T00:00:00",
         "2014-12-31T23:59:59"
        ],
        "type_id": "dataset"
       },
       {
        "attrs": {
         "Conventions": "CF-1.5",
         "address": "P.O.Box 503, 00101 Helsinki, Finland",
         "comment": "Definitions of parameters and data processing is described in the dedicated Technical Note",
         "creator_email": "viktoria.sofieva@fmi.fi",
         "creator_name": "Viktoria Sofieva",
         "date_created": "20130925T011143",
         "file_version": "fv0001",
         "geospatial_lat_max": "90",
         "geospatial_lat_min": "-90",
         "geospatial_lat_resolution": "10 deg ",
         "license": "ozone_cci guidelines",
         "naming_authority": "FMI - Finnish Meteorological Institute",
         "number_of_latitude_bins": "18",
         "number_of_months": "4",
         "number_of_pressure_levels": "33",
         "platform": "ODIN",
         "restriction": "Restricted under the use of ozone cci guidelines",
         "sensor": "SMR_544.6GHz",
         "standard_name_vocabulary": "NetCDF Climate and Forecast(CF) Metadata Convention version 18",
         "summary": "Monthly zonal mean ozone profiles in 10-deg latitude zones and data uncertainty characterization",
         "title": "ESA CCI ozone  monthly zonal mean data from individual instrument ",
         "tracking_id": "41d14dd2-a1e4-409f-a3dd-115f14c84c4e",
         "value_for_nodata": "NaN",
         "year": "2001"
        },
        "bbox": [
         -180,
         -90,
         180,
         90
        ],
        "data_id": "esacci.OZONE.mon.L3.LP.SMR.ODIN.MZM.v0001.r1",
        "dims": {
         "air_pressure": 33,
         "latitude_centers": 18,
         "time": 4
        },
        "spatial_res": [
         10,
         -1
        ],
        "time_range": [
         "2000-02-01T00:00:00",
         "2014-12-31T23:59:59"
        ],
        "type_id": "dataset"
       },
       {
        "attrs": {
         "Conventions": "CF-1.5",
         "address": "P.O.Box 503, 00101 Helsinki, Finland",
         "comment": "Definitions of parameters and data processing is described in the dedicated Technical Note",
         "creator_email": "viktoria.sofieva@fmi.fi",
         "creator_name": "Viktoria Sofieva",
         "date_created": "20130412T111914",
         "file_version": "fv0001",
         "geospatial_lat_max": "90",
         "geospatial_lat_min": "-90",
         "geospatial_lat_resolution": "10 deg ",
         "license": "ozone_cci guidelines",
         "naming_authority": "FMI - Finnish Meteorological Institute",
         "number_of_latitude_bins": "18",
         "number_of_months": "5",
         "number_of_pressure_levels": "32",
         "platform": "Envisat",
         "restriction": "Restricted under the use of ozone cci guidelines",
         "sensor": "SCIAMACHY",
         "standard_name_vocabulary": "NetCDF Climate and Forecast(CF) Metadata Convention version 18",
         "summary": "Monthly zonal mean ozone profiles in 10-deg latitude zones and data uncertainty characterization",
         "title": "ESA CCI ozone  monthly zonal mean data from individual instrument ",
         "value_for_nodata": "NaN",
         "year": "2002"
        },
        "bbox": [
         -180,
         -90,
         180,
         90
        ],
        "data_id": "esacci.OZONE.mon.L3.LP.SCIAMACHY.Envisat.SCIAMACHY_ENVISAT.v0001.r1",
        "dims": {
         "air_pressure": 32,
         "latitude_centers": 18,
         "time": 5
        },
        "spatial_res": [
         10,
         -1
        ],
        "time_range": [
         "2000-02-01T00:00:00",
         "2014-12-31T23:59:59"
        ],
        "type_id": "dataset"
       },
       {
        "attrs": {
         "Conventions": "CF-1.5",
         "address": "P.O.Box 503, 00101 Helsinki, Finland",
         "comment": "Definitions of parameters and data processing is described in the dedicated Technical Note",
         "creator_email": "viktoria.sofieva@fmi.fi",
         "creator_name": "Viktoria Sofieva",
         "date_created": "20130412T112816",
         "file_version": "fv0001",
         "geospatial_lat_max": "90",
         "geospatial_lat_min": "-90",
         "geospatial_lat_resolution": "10 deg ",
         "license": "ozone_cci guidelines",
         "naming_authority": "FMI - Finnish Meteorological Institute",
         "number_of_latitude_bins": "18",
         "number_of_months": "3",
         "number_of_pressure_levels": "33",
         "platform": "Odin",
         "restriction": "Restricted under the use of ozone cci guidelines",
         "sensor": "SMR",
         "standard_name_vocabulary": "NetCDF Climate and Forecast(CF) Metadata Convention version 18",
         "summary": "Monthly zonal mean ozone profiles in 10-deg latitude zones and data uncertainty characterization",
         "title": "ESA CCI ozone  monthly zonal mean data from individual instrument ",
         "value_for_nodata": "NaN",
         "year": "2001"
        },
        "bbox": [
         -180,
         -90,
         180,
         90
        ],
        "data_id": "esacci.OZONE.mon.L3.LP.SMR.ODIN.SMR_ODIN.v0001.r1",
        "dims": {
         "air_pressure": 33,
         "latitude_centers": 18,
         "time": 3
        },
        "spatial_res": [
         10,
         -1
        ],
        "time_range": [
         "2000-02-01T00:00:00",
         "2014-12-31T23:59:59"
        ],
        "type_id": "dataset"
       },
       {
        "attrs": {
         "Conventions": "CF-1.5",
         "address": "P.O.Box 503, 00101 Helsinki, Finland",
         "comment": "Definitions of parameters and data processing is described in the dedicated Technical Note",
         "creator_email": "viktoria.sofieva@fmi.fi",
         "creator_name": "Viktoria Sofieva",
         "date_created": "20130412T110822",
         "file_version": "fv0001",
         "geospatial_lat_max": "90",
         "geospatial_lat_min": "-90",
         "geospatial_lat_resolution": "10 deg ",
         "license": "ozone_cci guidelines",
         "naming_authority": "FMI - Finnish Meteorological Institute",
         "number_of_latitude_bins": "18",
         "number_of_months": "9",
         "number_of_pressure_levels": "35",
         "platform": "Envisat",
         "restriction": "Restricted under the use of ozone cci guidelines",
         "sensor": "MIPAS",
         "standard_name_vocabulary": "NetCDF Climate and Forecast(CF) Metadata Convention version 18",
         "summary": "Monthly zonal mean ozone profiles in 10-deg latitude zones and data uncertainty characterization",
         "title": "ESA CCI ozone  monthly zonal mean data from individual instrument ",
         "value_for_nodata": "NaN",
         "year": "2005"
        },
        "bbox": [
         -180,
         -90,
         180,
         90
        ],
        "data_id": "esacci.OZONE.mon.L3.LP.MIPAS.Envisat.MIPAS_ENVISAT.v0001.r1",
        "dims": {
         "air_pressure": 35,
         "latitude_centers": 18,
         "time": 9
        },
        "spatial_res": [
         10,
         -1
        ],
        "time_range": [
         "2000-02-01T00:00:00",
         "2014-12-31T23:59:59"
        ],
        "type_id": "dataset"
       }
      ],
      "text/plain": [
       "<IPython.core.display.JSON object>"
      ]
     },
     "execution_count": 18,
     "metadata": {
      "application/json": {
       "expanded": false,
       "root": "root"
      }
     },
     "output_type": "execute_result"
    }
   ],
   "source": [
    "iterator = store.search_data(ecv='OZONE', frequency='month')\n",
    "res_list = []\n",
    "while True:\n",
    "    try:\n",
    "        res_list.append(next(iterator).to_dict())\n",
    "    except StopIteration:\n",
    "        break\n",
    "JSON(res_list)"
   ]
  },
  {
   "cell_type": "markdown",
   "metadata": {},
   "source": [
    "Which parameters must I pass or are available to open the dataset?"
   ]
  },
  {
   "cell_type": "code",
   "execution_count": 19,
   "metadata": {},
   "outputs": [
    {
     "data": {
      "application/json": {
       "additionalProperties": false,
       "properties": {
        "bbox": {
         "items": [
          {
           "type": "number"
          },
          {
           "type": "number"
          },
          {
           "type": "number"
          },
          {
           "type": "number"
          }
         ],
         "type": "array"
        },
        "chunk_sizes": {
         "items": {
          "type": "integer"
         },
         "type": "array"
        },
        "crs": {
         "default": "http://www.opengis.net/def/crs/EPSG/0/4326",
         "pattern": "http://www.opengis.net/def/crs/EPSG/0/[0-9]{4,5}",
         "type": "string"
        },
        "geometry_wkt": {
         "pattern": "[A-Z]*\\(\\([0-9 0-9,*]+\\)\\)",
         "type": "string"
        },
        "spatial_res": {
         "exclusiveMinimum": 0,
         "type": "number"
        },
        "spatial_res_unit": {
         "default": "deg",
         "type": "string"
        },
        "time_period": {
         "pattern": "[0-9]+[Y|M|W|D|T|S|L|U|N|days|day|hours|hour|hr|h|minutes|minute|min|m|seconds|second|sec|milliseconds|millisecond|millis|milli|microseconds|microsecond|micros|micro|nanoseconds|nanosecond|nanos|nano|ns]",
         "type": "string"
        },
        "time_range": {
         "items": [
          {
           "format": "date-time",
           "type": "string"
          },
          {
           "format": "date-time",
           "type": "string"
          }
         ],
         "type": "array"
        },
        "var_names": {
         "items": {
          "enum": [
           "surface_pressure",
           "O3_du",
           "O3e_du",
           "O3_du_tot",
           "O3e_du_tot",
           "O3_vmr",
           "O3e_vmr",
           "O3_ndens",
           "O3e_ndens"
          ],
          "type": "string"
         },
         "type": "array"
        }
       },
       "required": [
        "var_names",
        "time_range"
       ],
       "type": "object"
      },
      "text/plain": [
       "<xcube.util.jsonschema.JsonObjectSchema at 0x7fd911f8fc90>"
      ]
     },
     "execution_count": 19,
     "metadata": {},
     "output_type": "execute_result"
    }
   ],
   "source": [
    "store.get_open_data_params_schema('esacci.OZONE.mon.L3.NP.multi-sensor.multi-platform.MERGED.fv0002.r1')"
   ]
  },
  {
   "cell_type": "markdown",
   "metadata": {},
   "source": [
    "There are 4 required parameters, so we need to provide them to open a dataset:"
   ]
  },
  {
   "cell_type": "code",
   "execution_count": 22,
   "metadata": {},
   "outputs": [
    {
     "data": {
      "text/html": [
       "<div><svg style=\"position: absolute; width: 0; height: 0; overflow: hidden\">\n",
       "<defs>\n",
       "<symbol id=\"icon-database\" viewBox=\"0 0 32 32\">\n",
       "<title>Show/Hide data repr</title>\n",
       "<path d=\"M16 0c-8.837 0-16 2.239-16 5v4c0 2.761 7.163 5 16 5s16-2.239 16-5v-4c0-2.761-7.163-5-16-5z\"></path>\n",
       "<path d=\"M16 17c-8.837 0-16-2.239-16-5v6c0 2.761 7.163 5 16 5s16-2.239 16-5v-6c0 2.761-7.163 5-16 5z\"></path>\n",
       "<path d=\"M16 26c-8.837 0-16-2.239-16-5v6c0 2.761 7.163 5 16 5s16-2.239 16-5v-6c0 2.761-7.163 5-16 5z\"></path>\n",
       "</symbol>\n",
       "<symbol id=\"icon-file-text2\" viewBox=\"0 0 32 32\">\n",
       "<title>Show/Hide attributes</title>\n",
       "<path d=\"M28.681 7.159c-0.694-0.947-1.662-2.053-2.724-3.116s-2.169-2.030-3.116-2.724c-1.612-1.182-2.393-1.319-2.841-1.319h-15.5c-1.378 0-2.5 1.121-2.5 2.5v27c0 1.378 1.122 2.5 2.5 2.5h23c1.378 0 2.5-1.122 2.5-2.5v-19.5c0-0.448-0.137-1.23-1.319-2.841zM24.543 5.457c0.959 0.959 1.712 1.825 2.268 2.543h-4.811v-4.811c0.718 0.556 1.584 1.309 2.543 2.268zM28 29.5c0 0.271-0.229 0.5-0.5 0.5h-23c-0.271 0-0.5-0.229-0.5-0.5v-27c0-0.271 0.229-0.5 0.5-0.5 0 0 15.499-0 15.5 0v7c0 0.552 0.448 1 1 1h7v19.5z\"></path>\n",
       "<path d=\"M23 26h-14c-0.552 0-1-0.448-1-1s0.448-1 1-1h14c0.552 0 1 0.448 1 1s-0.448 1-1 1z\"></path>\n",
       "<path d=\"M23 22h-14c-0.552 0-1-0.448-1-1s0.448-1 1-1h14c0.552 0 1 0.448 1 1s-0.448 1-1 1z\"></path>\n",
       "<path d=\"M23 18h-14c-0.552 0-1-0.448-1-1s0.448-1 1-1h14c0.552 0 1 0.448 1 1s-0.448 1-1 1z\"></path>\n",
       "</symbol>\n",
       "</defs>\n",
       "</svg>\n",
       "<style>/* CSS stylesheet for displaying xarray objects in jupyterlab.\n",
       " *\n",
       " */\n",
       "\n",
       ":root {\n",
       "  --xr-font-color0: var(--jp-content-font-color0, rgba(0, 0, 0, 1));\n",
       "  --xr-font-color2: var(--jp-content-font-color2, rgba(0, 0, 0, 0.54));\n",
       "  --xr-font-color3: var(--jp-content-font-color3, rgba(0, 0, 0, 0.38));\n",
       "  --xr-border-color: var(--jp-border-color2, #e0e0e0);\n",
       "  --xr-disabled-color: var(--jp-layout-color3, #bdbdbd);\n",
       "  --xr-background-color: var(--jp-layout-color0, white);\n",
       "  --xr-background-color-row-even: var(--jp-layout-color1, white);\n",
       "  --xr-background-color-row-odd: var(--jp-layout-color2, #eeeeee);\n",
       "}\n",
       "\n",
       ".xr-wrap {\n",
       "  min-width: 300px;\n",
       "  max-width: 700px;\n",
       "}\n",
       "\n",
       ".xr-header {\n",
       "  padding-top: 6px;\n",
       "  padding-bottom: 6px;\n",
       "  margin-bottom: 4px;\n",
       "  border-bottom: solid 1px var(--xr-border-color);\n",
       "}\n",
       "\n",
       ".xr-header > div,\n",
       ".xr-header > ul {\n",
       "  display: inline;\n",
       "  margin-top: 0;\n",
       "  margin-bottom: 0;\n",
       "}\n",
       "\n",
       ".xr-obj-type,\n",
       ".xr-array-name {\n",
       "  margin-left: 2px;\n",
       "  margin-right: 10px;\n",
       "}\n",
       "\n",
       ".xr-obj-type {\n",
       "  color: var(--xr-font-color2);\n",
       "}\n",
       "\n",
       ".xr-sections {\n",
       "  padding-left: 0 !important;\n",
       "  display: grid;\n",
       "  grid-template-columns: 150px auto auto 1fr 20px 20px;\n",
       "}\n",
       "\n",
       ".xr-section-item {\n",
       "  display: contents;\n",
       "}\n",
       "\n",
       ".xr-section-item input {\n",
       "  display: none;\n",
       "}\n",
       "\n",
       ".xr-section-item input + label {\n",
       "  color: var(--xr-disabled-color);\n",
       "}\n",
       "\n",
       ".xr-section-item input:enabled + label {\n",
       "  cursor: pointer;\n",
       "  color: var(--xr-font-color2);\n",
       "}\n",
       "\n",
       ".xr-section-item input:enabled + label:hover {\n",
       "  color: var(--xr-font-color0);\n",
       "}\n",
       "\n",
       ".xr-section-summary {\n",
       "  grid-column: 1;\n",
       "  color: var(--xr-font-color2);\n",
       "  font-weight: 500;\n",
       "}\n",
       "\n",
       ".xr-section-summary > span {\n",
       "  display: inline-block;\n",
       "  padding-left: 0.5em;\n",
       "}\n",
       "\n",
       ".xr-section-summary-in:disabled + label {\n",
       "  color: var(--xr-font-color2);\n",
       "}\n",
       "\n",
       ".xr-section-summary-in + label:before {\n",
       "  display: inline-block;\n",
       "  content: '►';\n",
       "  font-size: 11px;\n",
       "  width: 15px;\n",
       "  text-align: center;\n",
       "}\n",
       "\n",
       ".xr-section-summary-in:disabled + label:before {\n",
       "  color: var(--xr-disabled-color);\n",
       "}\n",
       "\n",
       ".xr-section-summary-in:checked + label:before {\n",
       "  content: '▼';\n",
       "}\n",
       "\n",
       ".xr-section-summary-in:checked + label > span {\n",
       "  display: none;\n",
       "}\n",
       "\n",
       ".xr-section-summary,\n",
       ".xr-section-inline-details {\n",
       "  padding-top: 4px;\n",
       "  padding-bottom: 4px;\n",
       "}\n",
       "\n",
       ".xr-section-inline-details {\n",
       "  grid-column: 2 / -1;\n",
       "}\n",
       "\n",
       ".xr-section-details {\n",
       "  display: none;\n",
       "  grid-column: 1 / -1;\n",
       "  margin-bottom: 5px;\n",
       "}\n",
       "\n",
       ".xr-section-summary-in:checked ~ .xr-section-details {\n",
       "  display: contents;\n",
       "}\n",
       "\n",
       ".xr-array-wrap {\n",
       "  grid-column: 1 / -1;\n",
       "  display: grid;\n",
       "  grid-template-columns: 20px auto;\n",
       "}\n",
       "\n",
       ".xr-array-wrap > label {\n",
       "  grid-column: 1;\n",
       "  vertical-align: top;\n",
       "}\n",
       "\n",
       ".xr-preview {\n",
       "  color: var(--xr-font-color3);\n",
       "}\n",
       "\n",
       ".xr-array-preview,\n",
       ".xr-array-data {\n",
       "  padding: 0 5px !important;\n",
       "  grid-column: 2;\n",
       "}\n",
       "\n",
       ".xr-array-data,\n",
       ".xr-array-in:checked ~ .xr-array-preview {\n",
       "  display: none;\n",
       "}\n",
       "\n",
       ".xr-array-in:checked ~ .xr-array-data,\n",
       ".xr-array-preview {\n",
       "  display: inline-block;\n",
       "}\n",
       "\n",
       ".xr-dim-list {\n",
       "  display: inline-block !important;\n",
       "  list-style: none;\n",
       "  padding: 0 !important;\n",
       "  margin: 0;\n",
       "}\n",
       "\n",
       ".xr-dim-list li {\n",
       "  display: inline-block;\n",
       "  padding: 0;\n",
       "  margin: 0;\n",
       "}\n",
       "\n",
       ".xr-dim-list:before {\n",
       "  content: '(';\n",
       "}\n",
       "\n",
       ".xr-dim-list:after {\n",
       "  content: ')';\n",
       "}\n",
       "\n",
       ".xr-dim-list li:not(:last-child):after {\n",
       "  content: ',';\n",
       "  padding-right: 5px;\n",
       "}\n",
       "\n",
       ".xr-has-index {\n",
       "  font-weight: bold;\n",
       "}\n",
       "\n",
       ".xr-var-list,\n",
       ".xr-var-item {\n",
       "  display: contents;\n",
       "}\n",
       "\n",
       ".xr-var-item > div,\n",
       ".xr-var-item label,\n",
       ".xr-var-item > .xr-var-name span {\n",
       "  background-color: var(--xr-background-color-row-even);\n",
       "  margin-bottom: 0;\n",
       "}\n",
       "\n",
       ".xr-var-item > .xr-var-name:hover span {\n",
       "  padding-right: 5px;\n",
       "}\n",
       "\n",
       ".xr-var-list > li:nth-child(odd) > div,\n",
       ".xr-var-list > li:nth-child(odd) > label,\n",
       ".xr-var-list > li:nth-child(odd) > .xr-var-name span {\n",
       "  background-color: var(--xr-background-color-row-odd);\n",
       "}\n",
       "\n",
       ".xr-var-name {\n",
       "  grid-column: 1;\n",
       "}\n",
       "\n",
       ".xr-var-dims {\n",
       "  grid-column: 2;\n",
       "}\n",
       "\n",
       ".xr-var-dtype {\n",
       "  grid-column: 3;\n",
       "  text-align: right;\n",
       "  color: var(--xr-font-color2);\n",
       "}\n",
       "\n",
       ".xr-var-preview {\n",
       "  grid-column: 4;\n",
       "}\n",
       "\n",
       ".xr-var-name,\n",
       ".xr-var-dims,\n",
       ".xr-var-dtype,\n",
       ".xr-preview,\n",
       ".xr-attrs dt {\n",
       "  white-space: nowrap;\n",
       "  overflow: hidden;\n",
       "  text-overflow: ellipsis;\n",
       "  padding-right: 10px;\n",
       "}\n",
       "\n",
       ".xr-var-name:hover,\n",
       ".xr-var-dims:hover,\n",
       ".xr-var-dtype:hover,\n",
       ".xr-attrs dt:hover {\n",
       "  overflow: visible;\n",
       "  width: auto;\n",
       "  z-index: 1;\n",
       "}\n",
       "\n",
       ".xr-var-attrs,\n",
       ".xr-var-data {\n",
       "  display: none;\n",
       "  background-color: var(--xr-background-color) !important;\n",
       "  padding-bottom: 5px !important;\n",
       "}\n",
       "\n",
       ".xr-var-attrs-in:checked ~ .xr-var-attrs,\n",
       ".xr-var-data-in:checked ~ .xr-var-data {\n",
       "  display: block;\n",
       "}\n",
       "\n",
       ".xr-var-data > table {\n",
       "  float: right;\n",
       "}\n",
       "\n",
       ".xr-var-name span,\n",
       ".xr-var-data,\n",
       ".xr-attrs {\n",
       "  padding-left: 25px !important;\n",
       "}\n",
       "\n",
       ".xr-attrs,\n",
       ".xr-var-attrs,\n",
       ".xr-var-data {\n",
       "  grid-column: 1 / -1;\n",
       "}\n",
       "\n",
       "dl.xr-attrs {\n",
       "  padding: 0;\n",
       "  margin: 0;\n",
       "  display: grid;\n",
       "  grid-template-columns: 125px auto;\n",
       "}\n",
       "\n",
       ".xr-attrs dt, dd {\n",
       "  padding: 0;\n",
       "  margin: 0;\n",
       "  float: left;\n",
       "  padding-right: 10px;\n",
       "  width: auto;\n",
       "}\n",
       "\n",
       ".xr-attrs dt {\n",
       "  font-weight: normal;\n",
       "  grid-column: 1;\n",
       "}\n",
       "\n",
       ".xr-attrs dt:hover span {\n",
       "  display: inline-block;\n",
       "  background: var(--xr-background-color);\n",
       "  padding-right: 10px;\n",
       "}\n",
       "\n",
       ".xr-attrs dd {\n",
       "  grid-column: 2;\n",
       "  white-space: pre-wrap;\n",
       "  word-break: break-all;\n",
       "}\n",
       "\n",
       ".xr-icon-database,\n",
       ".xr-icon-file-text2 {\n",
       "  display: inline-block;\n",
       "  vertical-align: middle;\n",
       "  width: 1em;\n",
       "  height: 1.5em !important;\n",
       "  stroke-width: 0;\n",
       "  stroke: currentColor;\n",
       "  fill: currentColor;\n",
       "}\n",
       "</style><div class='xr-wrap'><div class='xr-header'><div class='xr-obj-type'>xarray.Dataset</div></div><ul class='xr-sections'><li class='xr-section-item'><input id='section-142f01a2-bd23-4fd6-abc8-c4936dd96645' class='xr-section-summary-in' type='checkbox' disabled ><label for='section-142f01a2-bd23-4fd6-abc8-c4936dd96645' class='xr-section-summary'  title='Expand/collapse section'>Dimensions:</label><div class='xr-section-inline-details'><ul class='xr-dim-list'><li><span class='xr-has-index'>air_pressure</span>: 17</li><li><span>bnds</span>: 2</li><li><span class='xr-has-index'>lat</span>: 180</li><li><span class='xr-has-index'>layers</span>: 16</li><li><span class='xr-has-index'>lon</span>: 360</li><li><span class='xr-has-index'>time</span>: 12</li></ul></div><div class='xr-section-details'></div></li><li class='xr-section-item'><input id='section-0da1244b-cedb-45b0-8766-6eb83d46a504' class='xr-section-summary-in' type='checkbox'  checked><label for='section-0da1244b-cedb-45b0-8766-6eb83d46a504' class='xr-section-summary' >Coordinates: <span>(6)</span></label><div class='xr-section-inline-details'></div><div class='xr-section-details'><ul class='xr-var-list'><li class='xr-var-item'><div class='xr-var-name'><span class='xr-has-index'>air_pressure</span></div><div class='xr-var-dims'>(air_pressure)</div><div class='xr-var-dtype'>float64</div><div class='xr-var-preview xr-preview'>1.013e+03 446.0 196.4 ... 0.05 0.01</div><input id='attrs-b800e8ad-2f73-447a-8799-e77b53aeaa9b' class='xr-var-attrs-in' type='checkbox' ><label for='attrs-b800e8ad-2f73-447a-8799-e77b53aeaa9b' title='Show/Hide attributes'><svg class='icon xr-icon-file-text2'><use xlink:href='#icon-file-text2'></use></svg></label><input id='data-224f2513-b167-44de-a63a-282360cf5d77' class='xr-var-data-in' type='checkbox'><label for='data-224f2513-b167-44de-a63a-282360cf5d77' title='Show/Hide data repr'><svg class='icon xr-icon-database'><use xlink:href='#icon-database'></use></svg></label><div class='xr-var-attrs'><dl class='xr-attrs'><dt><span>standard_name :</span></dt><dd>air_pressure</dd><dt><span>long_name :</span></dt><dd>air pressure at layer boundaries</dd><dt><span>NOTE :</span></dt><dd>Replace the first element from this array with the corresponding surface pressure element.</dd><dt><span>units :</span></dt><dd>hPa</dd><dt><span>chunk_sizes :</span></dt><dd>17</dd><dt><span>data_type :</span></dt><dd>float32</dd><dt><span>dimensions :</span></dt><dd>[&#x27;air_pressure&#x27;]</dd><dt><span>size :</span></dt><dd>17</dd></dl></div><pre class='xr-var-data'>array([1.0130e+03, 4.4605e+02, 1.9635e+02, 1.1363e+02, 6.5750e+01, 3.8050e+01,\n",
       "       2.2020e+01, 1.2740e+01, 7.3700e+00, 4.2700e+00, 2.4700e+00, 1.4300e+00,\n",
       "       8.3000e-01, 4.8000e-01, 2.8000e-01, 5.0000e-02, 1.0000e-02])</pre></li><li class='xr-var-item'><div class='xr-var-name'><span class='xr-has-index'>lat</span></div><div class='xr-var-dims'>(lat)</div><div class='xr-var-dtype'>float64</div><div class='xr-var-preview xr-preview'>-89.5 -88.5 -87.5 ... 88.5 89.5</div><input id='attrs-b26b3ec7-069a-41c1-b4f2-64757e26c015' class='xr-var-attrs-in' type='checkbox' ><label for='attrs-b26b3ec7-069a-41c1-b4f2-64757e26c015' title='Show/Hide attributes'><svg class='icon xr-icon-file-text2'><use xlink:href='#icon-file-text2'></use></svg></label><input id='data-4f068ec9-d979-49dc-854d-4a83c108a679' class='xr-var-data-in' type='checkbox'><label for='data-4f068ec9-d979-49dc-854d-4a83c108a679' title='Show/Hide data repr'><svg class='icon xr-icon-database'><use xlink:href='#icon-database'></use></svg></label><div class='xr-var-attrs'><dl class='xr-attrs'><dt><span>standard_name :</span></dt><dd>latitude</dd><dt><span>long_name :</span></dt><dd>latitude, from -90 (south) to +90 (north) given at gridcell centers</dd><dt><span>units :</span></dt><dd>degree_north</dd><dt><span>chunk_sizes :</span></dt><dd>180</dd><dt><span>data_type :</span></dt><dd>float32</dd><dt><span>dimensions :</span></dt><dd>[&#x27;lat&#x27;]</dd><dt><span>size :</span></dt><dd>180</dd></dl></div><pre class='xr-var-data'>array([-89.5, -88.5, -87.5, -86.5, -85.5, -84.5, -83.5, -82.5, -81.5, -80.5,\n",
       "       -79.5, -78.5, -77.5, -76.5, -75.5, -74.5, -73.5, -72.5, -71.5, -70.5,\n",
       "       -69.5, -68.5, -67.5, -66.5, -65.5, -64.5, -63.5, -62.5, -61.5, -60.5,\n",
       "       -59.5, -58.5, -57.5, -56.5, -55.5, -54.5, -53.5, -52.5, -51.5, -50.5,\n",
       "       -49.5, -48.5, -47.5, -46.5, -45.5, -44.5, -43.5, -42.5, -41.5, -40.5,\n",
       "       -39.5, -38.5, -37.5, -36.5, -35.5, -34.5, -33.5, -32.5, -31.5, -30.5,\n",
       "       -29.5, -28.5, -27.5, -26.5, -25.5, -24.5, -23.5, -22.5, -21.5, -20.5,\n",
       "       -19.5, -18.5, -17.5, -16.5, -15.5, -14.5, -13.5, -12.5, -11.5, -10.5,\n",
       "        -9.5,  -8.5,  -7.5,  -6.5,  -5.5,  -4.5,  -3.5,  -2.5,  -1.5,  -0.5,\n",
       "         0.5,   1.5,   2.5,   3.5,   4.5,   5.5,   6.5,   7.5,   8.5,   9.5,\n",
       "        10.5,  11.5,  12.5,  13.5,  14.5,  15.5,  16.5,  17.5,  18.5,  19.5,\n",
       "        20.5,  21.5,  22.5,  23.5,  24.5,  25.5,  26.5,  27.5,  28.5,  29.5,\n",
       "        30.5,  31.5,  32.5,  33.5,  34.5,  35.5,  36.5,  37.5,  38.5,  39.5,\n",
       "        40.5,  41.5,  42.5,  43.5,  44.5,  45.5,  46.5,  47.5,  48.5,  49.5,\n",
       "        50.5,  51.5,  52.5,  53.5,  54.5,  55.5,  56.5,  57.5,  58.5,  59.5,\n",
       "        60.5,  61.5,  62.5,  63.5,  64.5,  65.5,  66.5,  67.5,  68.5,  69.5,\n",
       "        70.5,  71.5,  72.5,  73.5,  74.5,  75.5,  76.5,  77.5,  78.5,  79.5,\n",
       "        80.5,  81.5,  82.5,  83.5,  84.5,  85.5,  86.5,  87.5,  88.5,  89.5])</pre></li><li class='xr-var-item'><div class='xr-var-name'><span class='xr-has-index'>layers</span></div><div class='xr-var-dims'>(layers)</div><div class='xr-var-dtype'>int64</div><div class='xr-var-preview xr-preview'>1 2 3 4 5 6 7 ... 11 12 13 14 15 16</div><input id='attrs-6312b200-5ca0-4dec-b326-423a0c0f4a6f' class='xr-var-attrs-in' type='checkbox' ><label for='attrs-6312b200-5ca0-4dec-b326-423a0c0f4a6f' title='Show/Hide attributes'><svg class='icon xr-icon-file-text2'><use xlink:href='#icon-file-text2'></use></svg></label><input id='data-5311a90b-becd-4f19-acd3-a31ef49c8daa' class='xr-var-data-in' type='checkbox'><label for='data-5311a90b-becd-4f19-acd3-a31ef49c8daa' title='Show/Hide data repr'><svg class='icon xr-icon-database'><use xlink:href='#icon-database'></use></svg></label><div class='xr-var-attrs'><dl class='xr-attrs'><dt><span>standard_name :</span></dt><dd>model_level_number</dd><dt><span>long_name :</span></dt><dd>model_level_number == layer number, starting at 1</dd><dt><span>units :</span></dt><dd>1</dd><dt><span>chunk_sizes :</span></dt><dd>16</dd><dt><span>data_type :</span></dt><dd>int32</dd><dt><span>dimensions :</span></dt><dd>[&#x27;layers&#x27;]</dd><dt><span>size :</span></dt><dd>16</dd></dl></div><pre class='xr-var-data'>array([ 1,  2,  3,  4,  5,  6,  7,  8,  9, 10, 11, 12, 13, 14, 15, 16])</pre></li><li class='xr-var-item'><div class='xr-var-name'><span class='xr-has-index'>lon</span></div><div class='xr-var-dims'>(lon)</div><div class='xr-var-dtype'>float64</div><div class='xr-var-preview xr-preview'>-179.5 -178.5 ... 178.5 179.5</div><input id='attrs-91b3f1f5-617a-47be-a218-546f6295ffa6' class='xr-var-attrs-in' type='checkbox' ><label for='attrs-91b3f1f5-617a-47be-a218-546f6295ffa6' title='Show/Hide attributes'><svg class='icon xr-icon-file-text2'><use xlink:href='#icon-file-text2'></use></svg></label><input id='data-6d4c13b5-3540-414e-bb82-2f02e266f93e' class='xr-var-data-in' type='checkbox'><label for='data-6d4c13b5-3540-414e-bb82-2f02e266f93e' title='Show/Hide data repr'><svg class='icon xr-icon-database'><use xlink:href='#icon-database'></use></svg></label><div class='xr-var-attrs'><dl class='xr-attrs'><dt><span>standard_name :</span></dt><dd>longitude</dd><dt><span>long_name :</span></dt><dd>longitude, from -180 (west) to +180 (east) given at gridcell centers</dd><dt><span>units :</span></dt><dd>degree_east</dd><dt><span>chunk_sizes :</span></dt><dd>360</dd><dt><span>data_type :</span></dt><dd>float32</dd><dt><span>dimensions :</span></dt><dd>[&#x27;lon&#x27;]</dd><dt><span>size :</span></dt><dd>360</dd></dl></div><pre class='xr-var-data'>array([-179.5, -178.5, -177.5, ...,  177.5,  178.5,  179.5])</pre></li><li class='xr-var-item'><div class='xr-var-name'><span class='xr-has-index'>time</span></div><div class='xr-var-dims'>(time)</div><div class='xr-var-dtype'>datetime64[ns]</div><div class='xr-var-preview xr-preview'>2008-01-16T11:59:59 ... 2008-12-16T11:59:59</div><input id='attrs-b26885ee-57b6-4e86-967f-6e2ab61ada8e' class='xr-var-attrs-in' type='checkbox' ><label for='attrs-b26885ee-57b6-4e86-967f-6e2ab61ada8e' title='Show/Hide attributes'><svg class='icon xr-icon-file-text2'><use xlink:href='#icon-file-text2'></use></svg></label><input id='data-72faaf28-9be1-41b5-b635-90b5dc191978' class='xr-var-data-in' type='checkbox'><label for='data-72faaf28-9be1-41b5-b635-90b5dc191978' title='Show/Hide data repr'><svg class='icon xr-icon-database'><use xlink:href='#icon-database'></use></svg></label><div class='xr-var-attrs'><dl class='xr-attrs'><dt><span>standard_name :</span></dt><dd>time</dd><dt><span>bounds :</span></dt><dd>time_bnds</dd></dl></div><pre class='xr-var-data'>array([&#x27;2008-01-16T11:59:59.000000000&#x27;, &#x27;2008-02-15T11:59:59.000000000&#x27;,\n",
       "       &#x27;2008-03-16T11:59:59.000000000&#x27;, &#x27;2008-04-15T23:59:59.000000000&#x27;,\n",
       "       &#x27;2008-05-16T11:59:59.000000000&#x27;, &#x27;2008-06-15T23:59:59.000000000&#x27;,\n",
       "       &#x27;2008-07-16T11:59:59.000000000&#x27;, &#x27;2008-08-16T11:59:59.000000000&#x27;,\n",
       "       &#x27;2008-09-15T23:59:59.000000000&#x27;, &#x27;2008-10-16T11:59:59.000000000&#x27;,\n",
       "       &#x27;2008-11-15T23:59:59.000000000&#x27;, &#x27;2008-12-16T11:59:59.000000000&#x27;],\n",
       "      dtype=&#x27;datetime64[ns]&#x27;)</pre></li><li class='xr-var-item'><div class='xr-var-name'><span>time_bnds</span></div><div class='xr-var-dims'>(time, bnds)</div><div class='xr-var-dtype'>datetime64[ns]</div><div class='xr-var-preview xr-preview'>dask.array&lt;chunksize=(12, 2), meta=np.ndarray&gt;</div><input id='attrs-d01e1345-16bd-4a72-a8aa-44538474bada' class='xr-var-attrs-in' type='checkbox' ><label for='attrs-d01e1345-16bd-4a72-a8aa-44538474bada' title='Show/Hide attributes'><svg class='icon xr-icon-file-text2'><use xlink:href='#icon-file-text2'></use></svg></label><input id='data-761967c5-3fd7-4d0b-9f01-2faae775089a' class='xr-var-data-in' type='checkbox'><label for='data-761967c5-3fd7-4d0b-9f01-2faae775089a' title='Show/Hide data repr'><svg class='icon xr-icon-database'><use xlink:href='#icon-database'></use></svg></label><div class='xr-var-attrs'><dl class='xr-attrs'><dt><span>standard_name :</span></dt><dd>time</dd></dl></div><pre class='xr-var-data'><table>\n",
       "<tr>\n",
       "<td>\n",
       "<table>\n",
       "  <thead>\n",
       "    <tr><td> </td><th> Array </th><th> Chunk </th></tr>\n",
       "  </thead>\n",
       "  <tbody>\n",
       "    <tr><th> Bytes </th><td> 192 B </td> <td> 192 B </td></tr>\n",
       "    <tr><th> Shape </th><td> (12, 2) </td> <td> (12, 2) </td></tr>\n",
       "    <tr><th> Count </th><td> 2 Tasks </td><td> 1 Chunks </td></tr>\n",
       "    <tr><th> Type </th><td> datetime64[ns] </td><td> numpy.ndarray </td></tr>\n",
       "  </tbody>\n",
       "</table>\n",
       "</td>\n",
       "<td>\n",
       "<svg width=\"91\" height=\"170\" style=\"stroke:rgb(0,0,0);stroke-width:1\" >\n",
       "\n",
       "  <!-- Horizontal lines -->\n",
       "  <line x1=\"0\" y1=\"0\" x2=\"41\" y2=\"0\" style=\"stroke-width:2\" />\n",
       "  <line x1=\"0\" y1=\"120\" x2=\"41\" y2=\"120\" style=\"stroke-width:2\" />\n",
       "\n",
       "  <!-- Vertical lines -->\n",
       "  <line x1=\"0\" y1=\"0\" x2=\"0\" y2=\"120\" style=\"stroke-width:2\" />\n",
       "  <line x1=\"41\" y1=\"0\" x2=\"41\" y2=\"120\" style=\"stroke-width:2\" />\n",
       "\n",
       "  <!-- Colored Rectangle -->\n",
       "  <polygon points=\"0.000000,0.000000 41.203829,0.000000 41.203829,120.000000 0.000000,120.000000\" style=\"fill:#ECB172A0;stroke-width:0\"/>\n",
       "\n",
       "  <!-- Text -->\n",
       "  <text x=\"20.601915\" y=\"140.000000\" font-size=\"1.0rem\" font-weight=\"100\" text-anchor=\"middle\" >2</text>\n",
       "  <text x=\"61.203829\" y=\"60.000000\" font-size=\"1.0rem\" font-weight=\"100\" text-anchor=\"middle\" transform=\"rotate(0,61.203829,60.000000)\">12</text>\n",
       "</svg>\n",
       "</td>\n",
       "</tr>\n",
       "</table></pre></li></ul></div></li><li class='xr-section-item'><input id='section-9d28d8c1-b2c6-4806-9fe7-331e2f523121' class='xr-section-summary-in' type='checkbox'  checked><label for='section-9d28d8c1-b2c6-4806-9fe7-331e2f523121' class='xr-section-summary' >Data variables: <span>(3)</span></label><div class='xr-section-inline-details'></div><div class='xr-section-details'><ul class='xr-var-list'><li class='xr-var-item'><div class='xr-var-name'><span>O3_du</span></div><div class='xr-var-dims'>(time, layers, lat, lon)</div><div class='xr-var-dtype'>float32</div><div class='xr-var-preview xr-preview'>dask.array&lt;chunksize=(1, 8, 180, 360), meta=np.ndarray&gt;</div><input id='attrs-ef93f36d-75b1-4aba-bfc3-4260e7576cfa' class='xr-var-attrs-in' type='checkbox' ><label for='attrs-ef93f36d-75b1-4aba-bfc3-4260e7576cfa' title='Show/Hide attributes'><svg class='icon xr-icon-file-text2'><use xlink:href='#icon-file-text2'></use></svg></label><input id='data-242734a3-74d8-4c35-830f-e8ff8c5acb99' class='xr-var-data-in' type='checkbox'><label for='data-242734a3-74d8-4c35-830f-e8ff8c5acb99' title='Show/Hide data repr'><svg class='icon xr-icon-database'><use xlink:href='#icon-database'></use></svg></label><div class='xr-var-attrs'><dl class='xr-attrs'><dt><span>standard_name :</span></dt><dd>mole_content_of_ozone_in_atmosphere_layer</dd><dt><span>long_name :</span></dt><dd>weighted average of the partial ozone columns (DU/layer)</dd><dt><span>units :</span></dt><dd>446.15E-6 mol m-2</dd><dt><span>fill_value :</span></dt><dd>nan</dd><dt><span>chunk_sizes :</span></dt><dd>[1, 8, 180, 360]</dd><dt><span>data_type :</span></dt><dd>float32</dd><dt><span>dimensions :</span></dt><dd>[&#x27;time&#x27;, &#x27;layers&#x27;, &#x27;lat&#x27;, &#x27;lon&#x27;]</dd><dt><span>size :</span></dt><dd>1036800</dd></dl></div><pre class='xr-var-data'><table>\n",
       "<tr>\n",
       "<td>\n",
       "<table>\n",
       "  <thead>\n",
       "    <tr><td> </td><th> Array </th><th> Chunk </th></tr>\n",
       "  </thead>\n",
       "  <tbody>\n",
       "    <tr><th> Bytes </th><td> 49.77 MB </td> <td> 2.07 MB </td></tr>\n",
       "    <tr><th> Shape </th><td> (12, 16, 180, 360) </td> <td> (1, 8, 180, 360) </td></tr>\n",
       "    <tr><th> Count </th><td> 25 Tasks </td><td> 24 Chunks </td></tr>\n",
       "    <tr><th> Type </th><td> float32 </td><td> numpy.ndarray </td></tr>\n",
       "  </tbody>\n",
       "</table>\n",
       "</td>\n",
       "<td>\n",
       "<svg width=\"393\" height=\"129\" style=\"stroke:rgb(0,0,0);stroke-width:1\" >\n",
       "\n",
       "  <!-- Horizontal lines -->\n",
       "  <line x1=\"0\" y1=\"0\" x2=\"32\" y2=\"0\" style=\"stroke-width:2\" />\n",
       "  <line x1=\"0\" y1=\"25\" x2=\"32\" y2=\"25\" style=\"stroke-width:2\" />\n",
       "\n",
       "  <!-- Vertical lines -->\n",
       "  <line x1=\"0\" y1=\"0\" x2=\"0\" y2=\"25\" style=\"stroke-width:2\" />\n",
       "  <line x1=\"2\" y1=\"0\" x2=\"2\" y2=\"25\" />\n",
       "  <line x1=\"5\" y1=\"0\" x2=\"5\" y2=\"25\" />\n",
       "  <line x1=\"8\" y1=\"0\" x2=\"8\" y2=\"25\" />\n",
       "  <line x1=\"10\" y1=\"0\" x2=\"10\" y2=\"25\" />\n",
       "  <line x1=\"13\" y1=\"0\" x2=\"13\" y2=\"25\" />\n",
       "  <line x1=\"16\" y1=\"0\" x2=\"16\" y2=\"25\" />\n",
       "  <line x1=\"18\" y1=\"0\" x2=\"18\" y2=\"25\" />\n",
       "  <line x1=\"21\" y1=\"0\" x2=\"21\" y2=\"25\" />\n",
       "  <line x1=\"24\" y1=\"0\" x2=\"24\" y2=\"25\" />\n",
       "  <line x1=\"26\" y1=\"0\" x2=\"26\" y2=\"25\" />\n",
       "  <line x1=\"29\" y1=\"0\" x2=\"29\" y2=\"25\" />\n",
       "  <line x1=\"32\" y1=\"0\" x2=\"32\" y2=\"25\" style=\"stroke-width:2\" />\n",
       "\n",
       "  <!-- Colored Rectangle -->\n",
       "  <polygon points=\"0.000000,0.000000 32.024352,0.000000 32.024352,25.412617 0.000000,25.412617\" style=\"fill:#ECB172A0;stroke-width:0\"/>\n",
       "\n",
       "  <!-- Text -->\n",
       "  <text x=\"16.012176\" y=\"45.412617\" font-size=\"1.0rem\" font-weight=\"100\" text-anchor=\"middle\" >12</text>\n",
       "  <text x=\"52.024352\" y=\"12.706308\" font-size=\"1.0rem\" font-weight=\"100\" text-anchor=\"middle\" transform=\"rotate(0,52.024352,12.706308)\">1</text>\n",
       "\n",
       "\n",
       "  <!-- Horizontal lines -->\n",
       "  <line x1=\"102\" y1=\"0\" x2=\"121\" y2=\"19\" style=\"stroke-width:2\" />\n",
       "  <line x1=\"102\" y1=\"60\" x2=\"121\" y2=\"79\" style=\"stroke-width:2\" />\n",
       "\n",
       "  <!-- Vertical lines -->\n",
       "  <line x1=\"102\" y1=\"0\" x2=\"102\" y2=\"60\" style=\"stroke-width:2\" />\n",
       "  <line x1=\"111\" y1=\"9\" x2=\"111\" y2=\"69\" />\n",
       "  <line x1=\"121\" y1=\"19\" x2=\"121\" y2=\"79\" style=\"stroke-width:2\" />\n",
       "\n",
       "  <!-- Colored Rectangle -->\n",
       "  <polygon points=\"102.000000,0.000000 121.870091,19.870091 121.870091,79.870091 102.000000,60.000000\" style=\"fill:#ECB172A0;stroke-width:0\"/>\n",
       "\n",
       "  <!-- Horizontal lines -->\n",
       "  <line x1=\"102\" y1=\"0\" x2=\"222\" y2=\"0\" style=\"stroke-width:2\" />\n",
       "  <line x1=\"111\" y1=\"9\" x2=\"231\" y2=\"9\" />\n",
       "  <line x1=\"121\" y1=\"19\" x2=\"241\" y2=\"19\" style=\"stroke-width:2\" />\n",
       "\n",
       "  <!-- Vertical lines -->\n",
       "  <line x1=\"102\" y1=\"0\" x2=\"121\" y2=\"19\" style=\"stroke-width:2\" />\n",
       "  <line x1=\"222\" y1=\"0\" x2=\"241\" y2=\"19\" style=\"stroke-width:2\" />\n",
       "\n",
       "  <!-- Colored Rectangle -->\n",
       "  <polygon points=\"102.000000,0.000000 222.000000,0.000000 241.870091,19.870091 121.870091,19.870091\" style=\"fill:#ECB172A0;stroke-width:0\"/>\n",
       "\n",
       "  <!-- Horizontal lines -->\n",
       "  <line x1=\"121\" y1=\"19\" x2=\"241\" y2=\"19\" style=\"stroke-width:2\" />\n",
       "  <line x1=\"121\" y1=\"79\" x2=\"241\" y2=\"79\" style=\"stroke-width:2\" />\n",
       "\n",
       "  <!-- Vertical lines -->\n",
       "  <line x1=\"121\" y1=\"19\" x2=\"121\" y2=\"79\" style=\"stroke-width:2\" />\n",
       "  <line x1=\"241\" y1=\"19\" x2=\"241\" y2=\"79\" style=\"stroke-width:2\" />\n",
       "\n",
       "  <!-- Colored Rectangle -->\n",
       "  <polygon points=\"121.870091,19.870091 241.870091,19.870091 241.870091,79.870091 121.870091,79.870091\" style=\"fill:#ECB172A0;stroke-width:0\"/>\n",
       "\n",
       "  <!-- Text -->\n",
       "  <text x=\"181.870091\" y=\"99.870091\" font-size=\"1.0rem\" font-weight=\"100\" text-anchor=\"middle\" >360</text>\n",
       "  <text x=\"261.870091\" y=\"49.870091\" font-size=\"1.0rem\" font-weight=\"100\" text-anchor=\"middle\" transform=\"rotate(-90,261.870091,49.870091)\">180</text>\n",
       "  <text x=\"101.935045\" y=\"89.935045\" font-size=\"1.0rem\" font-weight=\"100\" text-anchor=\"middle\" transform=\"rotate(45,101.935045,89.935045)\">16</text>\n",
       "</svg>\n",
       "</td>\n",
       "</tr>\n",
       "</table></pre></li><li class='xr-var-item'><div class='xr-var-name'><span>O3_du_tot</span></div><div class='xr-var-dims'>(time, lat, lon)</div><div class='xr-var-dtype'>float32</div><div class='xr-var-preview xr-preview'>dask.array&lt;chunksize=(1, 180, 360), meta=np.ndarray&gt;</div><input id='attrs-2d902be3-e9ab-4f66-ac2f-e5eca2a3a891' class='xr-var-attrs-in' type='checkbox' ><label for='attrs-2d902be3-e9ab-4f66-ac2f-e5eca2a3a891' title='Show/Hide attributes'><svg class='icon xr-icon-file-text2'><use xlink:href='#icon-file-text2'></use></svg></label><input id='data-d38d1e4b-a249-4df2-ac37-d87fc2ca5c44' class='xr-var-data-in' type='checkbox'><label for='data-d38d1e4b-a249-4df2-ac37-d87fc2ca5c44' title='Show/Hide data repr'><svg class='icon xr-icon-database'><use xlink:href='#icon-database'></use></svg></label><div class='xr-var-attrs'><dl class='xr-attrs'><dt><span>standard_name :</span></dt><dd>atmosphere_mole_content_of_ozone</dd><dt><span>long_name :</span></dt><dd>total column: vertically integrated O3_du dataset (DU)</dd><dt><span>units :</span></dt><dd>446.15E-6 mol m-2</dd><dt><span>fill_value :</span></dt><dd>nan</dd><dt><span>chunk_sizes :</span></dt><dd>[1, 180, 360]</dd><dt><span>data_type :</span></dt><dd>float32</dd><dt><span>dimensions :</span></dt><dd>[&#x27;time&#x27;, &#x27;lat&#x27;, &#x27;lon&#x27;]</dd><dt><span>size :</span></dt><dd>64800</dd></dl></div><pre class='xr-var-data'><table>\n",
       "<tr>\n",
       "<td>\n",
       "<table>\n",
       "  <thead>\n",
       "    <tr><td> </td><th> Array </th><th> Chunk </th></tr>\n",
       "  </thead>\n",
       "  <tbody>\n",
       "    <tr><th> Bytes </th><td> 3.11 MB </td> <td> 259.20 kB </td></tr>\n",
       "    <tr><th> Shape </th><td> (12, 180, 360) </td> <td> (1, 180, 360) </td></tr>\n",
       "    <tr><th> Count </th><td> 13 Tasks </td><td> 12 Chunks </td></tr>\n",
       "    <tr><th> Type </th><td> float32 </td><td> numpy.ndarray </td></tr>\n",
       "  </tbody>\n",
       "</table>\n",
       "</td>\n",
       "<td>\n",
       "<svg width=\"198\" height=\"128\" style=\"stroke:rgb(0,0,0);stroke-width:1\" >\n",
       "\n",
       "  <!-- Horizontal lines -->\n",
       "  <line x1=\"10\" y1=\"0\" x2=\"28\" y2=\"18\" style=\"stroke-width:2\" />\n",
       "  <line x1=\"10\" y1=\"60\" x2=\"28\" y2=\"78\" style=\"stroke-width:2\" />\n",
       "\n",
       "  <!-- Vertical lines -->\n",
       "  <line x1=\"10\" y1=\"0\" x2=\"10\" y2=\"60\" style=\"stroke-width:2\" />\n",
       "  <line x1=\"11\" y1=\"1\" x2=\"11\" y2=\"61\" />\n",
       "  <line x1=\"13\" y1=\"3\" x2=\"13\" y2=\"63\" />\n",
       "  <line x1=\"14\" y1=\"4\" x2=\"14\" y2=\"64\" />\n",
       "  <line x1=\"16\" y1=\"6\" x2=\"16\" y2=\"66\" />\n",
       "  <line x1=\"17\" y1=\"7\" x2=\"17\" y2=\"67\" />\n",
       "  <line x1=\"19\" y1=\"9\" x2=\"19\" y2=\"69\" />\n",
       "  <line x1=\"20\" y1=\"10\" x2=\"20\" y2=\"70\" />\n",
       "  <line x1=\"22\" y1=\"12\" x2=\"22\" y2=\"72\" />\n",
       "  <line x1=\"24\" y1=\"14\" x2=\"24\" y2=\"74\" />\n",
       "  <line x1=\"25\" y1=\"15\" x2=\"25\" y2=\"75\" />\n",
       "  <line x1=\"27\" y1=\"17\" x2=\"27\" y2=\"77\" />\n",
       "  <line x1=\"28\" y1=\"18\" x2=\"28\" y2=\"78\" style=\"stroke-width:2\" />\n",
       "\n",
       "  <!-- Colored Rectangle -->\n",
       "  <polygon points=\"10.000000,0.000000 28.837854,18.837854 28.837854,78.837854 10.000000,60.000000\" style=\"fill:#ECB172A0;stroke-width:0\"/>\n",
       "\n",
       "  <!-- Horizontal lines -->\n",
       "  <line x1=\"10\" y1=\"0\" x2=\"130\" y2=\"0\" style=\"stroke-width:2\" />\n",
       "  <line x1=\"11\" y1=\"1\" x2=\"131\" y2=\"1\" />\n",
       "  <line x1=\"13\" y1=\"3\" x2=\"133\" y2=\"3\" />\n",
       "  <line x1=\"14\" y1=\"4\" x2=\"134\" y2=\"4\" />\n",
       "  <line x1=\"16\" y1=\"6\" x2=\"136\" y2=\"6\" />\n",
       "  <line x1=\"17\" y1=\"7\" x2=\"137\" y2=\"7\" />\n",
       "  <line x1=\"19\" y1=\"9\" x2=\"139\" y2=\"9\" />\n",
       "  <line x1=\"20\" y1=\"10\" x2=\"140\" y2=\"10\" />\n",
       "  <line x1=\"22\" y1=\"12\" x2=\"142\" y2=\"12\" />\n",
       "  <line x1=\"24\" y1=\"14\" x2=\"144\" y2=\"14\" />\n",
       "  <line x1=\"25\" y1=\"15\" x2=\"145\" y2=\"15\" />\n",
       "  <line x1=\"27\" y1=\"17\" x2=\"147\" y2=\"17\" />\n",
       "  <line x1=\"28\" y1=\"18\" x2=\"148\" y2=\"18\" style=\"stroke-width:2\" />\n",
       "\n",
       "  <!-- Vertical lines -->\n",
       "  <line x1=\"10\" y1=\"0\" x2=\"28\" y2=\"18\" style=\"stroke-width:2\" />\n",
       "  <line x1=\"130\" y1=\"0\" x2=\"148\" y2=\"18\" style=\"stroke-width:2\" />\n",
       "\n",
       "  <!-- Colored Rectangle -->\n",
       "  <polygon points=\"10.000000,0.000000 130.000000,0.000000 148.837854,18.837854 28.837854,18.837854\" style=\"fill:#ECB172A0;stroke-width:0\"/>\n",
       "\n",
       "  <!-- Horizontal lines -->\n",
       "  <line x1=\"28\" y1=\"18\" x2=\"148\" y2=\"18\" style=\"stroke-width:2\" />\n",
       "  <line x1=\"28\" y1=\"78\" x2=\"148\" y2=\"78\" style=\"stroke-width:2\" />\n",
       "\n",
       "  <!-- Vertical lines -->\n",
       "  <line x1=\"28\" y1=\"18\" x2=\"28\" y2=\"78\" style=\"stroke-width:2\" />\n",
       "  <line x1=\"148\" y1=\"18\" x2=\"148\" y2=\"78\" style=\"stroke-width:2\" />\n",
       "\n",
       "  <!-- Colored Rectangle -->\n",
       "  <polygon points=\"28.837854,18.837854 148.837854,18.837854 148.837854,78.837854 28.837854,78.837854\" style=\"fill:#ECB172A0;stroke-width:0\"/>\n",
       "\n",
       "  <!-- Text -->\n",
       "  <text x=\"88.837854\" y=\"98.837854\" font-size=\"1.0rem\" font-weight=\"100\" text-anchor=\"middle\" >360</text>\n",
       "  <text x=\"168.837854\" y=\"48.837854\" font-size=\"1.0rem\" font-weight=\"100\" text-anchor=\"middle\" transform=\"rotate(-90,168.837854,48.837854)\">180</text>\n",
       "  <text x=\"9.418927\" y=\"89.418927\" font-size=\"1.0rem\" font-weight=\"100\" text-anchor=\"middle\" transform=\"rotate(45,9.418927,89.418927)\">12</text>\n",
       "</svg>\n",
       "</td>\n",
       "</tr>\n",
       "</table></pre></li><li class='xr-var-item'><div class='xr-var-name'><span>surface_pressure</span></div><div class='xr-var-dims'>(time, lat, lon)</div><div class='xr-var-dtype'>float32</div><div class='xr-var-preview xr-preview'>dask.array&lt;chunksize=(1, 180, 360), meta=np.ndarray&gt;</div><input id='attrs-c3cfce0f-e6e1-44d5-9ec8-b819efeff752' class='xr-var-attrs-in' type='checkbox' ><label for='attrs-c3cfce0f-e6e1-44d5-9ec8-b819efeff752' title='Show/Hide attributes'><svg class='icon xr-icon-file-text2'><use xlink:href='#icon-file-text2'></use></svg></label><input id='data-dbc60b1f-8303-40e8-adc6-ebb7e6a7395f' class='xr-var-data-in' type='checkbox'><label for='data-dbc60b1f-8303-40e8-adc6-ebb7e6a7395f' title='Show/Hide data repr'><svg class='icon xr-icon-database'><use xlink:href='#icon-database'></use></svg></label><div class='xr-var-attrs'><dl class='xr-attrs'><dt><span>standard_name :</span></dt><dd>surface_air_pressure</dd><dt><span>long_name :</span></dt><dd>Pressure at the bottom of the atmosphere.</dd><dt><span>units :</span></dt><dd>hPa</dd><dt><span>fill_value :</span></dt><dd>nan</dd><dt><span>chunk_sizes :</span></dt><dd>[1, 180, 360]</dd><dt><span>data_type :</span></dt><dd>float32</dd><dt><span>dimensions :</span></dt><dd>[&#x27;time&#x27;, &#x27;lat&#x27;, &#x27;lon&#x27;]</dd><dt><span>size :</span></dt><dd>64800</dd></dl></div><pre class='xr-var-data'><table>\n",
       "<tr>\n",
       "<td>\n",
       "<table>\n",
       "  <thead>\n",
       "    <tr><td> </td><th> Array </th><th> Chunk </th></tr>\n",
       "  </thead>\n",
       "  <tbody>\n",
       "    <tr><th> Bytes </th><td> 3.11 MB </td> <td> 259.20 kB </td></tr>\n",
       "    <tr><th> Shape </th><td> (12, 180, 360) </td> <td> (1, 180, 360) </td></tr>\n",
       "    <tr><th> Count </th><td> 13 Tasks </td><td> 12 Chunks </td></tr>\n",
       "    <tr><th> Type </th><td> float32 </td><td> numpy.ndarray </td></tr>\n",
       "  </tbody>\n",
       "</table>\n",
       "</td>\n",
       "<td>\n",
       "<svg width=\"198\" height=\"128\" style=\"stroke:rgb(0,0,0);stroke-width:1\" >\n",
       "\n",
       "  <!-- Horizontal lines -->\n",
       "  <line x1=\"10\" y1=\"0\" x2=\"28\" y2=\"18\" style=\"stroke-width:2\" />\n",
       "  <line x1=\"10\" y1=\"60\" x2=\"28\" y2=\"78\" style=\"stroke-width:2\" />\n",
       "\n",
       "  <!-- Vertical lines -->\n",
       "  <line x1=\"10\" y1=\"0\" x2=\"10\" y2=\"60\" style=\"stroke-width:2\" />\n",
       "  <line x1=\"11\" y1=\"1\" x2=\"11\" y2=\"61\" />\n",
       "  <line x1=\"13\" y1=\"3\" x2=\"13\" y2=\"63\" />\n",
       "  <line x1=\"14\" y1=\"4\" x2=\"14\" y2=\"64\" />\n",
       "  <line x1=\"16\" y1=\"6\" x2=\"16\" y2=\"66\" />\n",
       "  <line x1=\"17\" y1=\"7\" x2=\"17\" y2=\"67\" />\n",
       "  <line x1=\"19\" y1=\"9\" x2=\"19\" y2=\"69\" />\n",
       "  <line x1=\"20\" y1=\"10\" x2=\"20\" y2=\"70\" />\n",
       "  <line x1=\"22\" y1=\"12\" x2=\"22\" y2=\"72\" />\n",
       "  <line x1=\"24\" y1=\"14\" x2=\"24\" y2=\"74\" />\n",
       "  <line x1=\"25\" y1=\"15\" x2=\"25\" y2=\"75\" />\n",
       "  <line x1=\"27\" y1=\"17\" x2=\"27\" y2=\"77\" />\n",
       "  <line x1=\"28\" y1=\"18\" x2=\"28\" y2=\"78\" style=\"stroke-width:2\" />\n",
       "\n",
       "  <!-- Colored Rectangle -->\n",
       "  <polygon points=\"10.000000,0.000000 28.837854,18.837854 28.837854,78.837854 10.000000,60.000000\" style=\"fill:#ECB172A0;stroke-width:0\"/>\n",
       "\n",
       "  <!-- Horizontal lines -->\n",
       "  <line x1=\"10\" y1=\"0\" x2=\"130\" y2=\"0\" style=\"stroke-width:2\" />\n",
       "  <line x1=\"11\" y1=\"1\" x2=\"131\" y2=\"1\" />\n",
       "  <line x1=\"13\" y1=\"3\" x2=\"133\" y2=\"3\" />\n",
       "  <line x1=\"14\" y1=\"4\" x2=\"134\" y2=\"4\" />\n",
       "  <line x1=\"16\" y1=\"6\" x2=\"136\" y2=\"6\" />\n",
       "  <line x1=\"17\" y1=\"7\" x2=\"137\" y2=\"7\" />\n",
       "  <line x1=\"19\" y1=\"9\" x2=\"139\" y2=\"9\" />\n",
       "  <line x1=\"20\" y1=\"10\" x2=\"140\" y2=\"10\" />\n",
       "  <line x1=\"22\" y1=\"12\" x2=\"142\" y2=\"12\" />\n",
       "  <line x1=\"24\" y1=\"14\" x2=\"144\" y2=\"14\" />\n",
       "  <line x1=\"25\" y1=\"15\" x2=\"145\" y2=\"15\" />\n",
       "  <line x1=\"27\" y1=\"17\" x2=\"147\" y2=\"17\" />\n",
       "  <line x1=\"28\" y1=\"18\" x2=\"148\" y2=\"18\" style=\"stroke-width:2\" />\n",
       "\n",
       "  <!-- Vertical lines -->\n",
       "  <line x1=\"10\" y1=\"0\" x2=\"28\" y2=\"18\" style=\"stroke-width:2\" />\n",
       "  <line x1=\"130\" y1=\"0\" x2=\"148\" y2=\"18\" style=\"stroke-width:2\" />\n",
       "\n",
       "  <!-- Colored Rectangle -->\n",
       "  <polygon points=\"10.000000,0.000000 130.000000,0.000000 148.837854,18.837854 28.837854,18.837854\" style=\"fill:#ECB172A0;stroke-width:0\"/>\n",
       "\n",
       "  <!-- Horizontal lines -->\n",
       "  <line x1=\"28\" y1=\"18\" x2=\"148\" y2=\"18\" style=\"stroke-width:2\" />\n",
       "  <line x1=\"28\" y1=\"78\" x2=\"148\" y2=\"78\" style=\"stroke-width:2\" />\n",
       "\n",
       "  <!-- Vertical lines -->\n",
       "  <line x1=\"28\" y1=\"18\" x2=\"28\" y2=\"78\" style=\"stroke-width:2\" />\n",
       "  <line x1=\"148\" y1=\"18\" x2=\"148\" y2=\"78\" style=\"stroke-width:2\" />\n",
       "\n",
       "  <!-- Colored Rectangle -->\n",
       "  <polygon points=\"28.837854,18.837854 148.837854,18.837854 148.837854,78.837854 28.837854,78.837854\" style=\"fill:#ECB172A0;stroke-width:0\"/>\n",
       "\n",
       "  <!-- Text -->\n",
       "  <text x=\"88.837854\" y=\"98.837854\" font-size=\"1.0rem\" font-weight=\"100\" text-anchor=\"middle\" >360</text>\n",
       "  <text x=\"168.837854\" y=\"48.837854\" font-size=\"1.0rem\" font-weight=\"100\" text-anchor=\"middle\" transform=\"rotate(-90,168.837854,48.837854)\">180</text>\n",
       "  <text x=\"9.418927\" y=\"89.418927\" font-size=\"1.0rem\" font-weight=\"100\" text-anchor=\"middle\" transform=\"rotate(45,9.418927,89.418927)\">12</text>\n",
       "</svg>\n",
       "</td>\n",
       "</tr>\n",
       "</table></pre></li></ul></div></li><li class='xr-section-item'><input id='section-6a095468-941b-4177-ac59-81dd9b527b6b' class='xr-section-summary-in' type='checkbox'  checked><label for='section-6a095468-941b-4177-ac59-81dd9b527b6b' class='xr-section-summary' >Attributes: <span>(8)</span></label><div class='xr-section-inline-details'></div><div class='xr-section-details'><dl class='xr-attrs'><dt><span>Conventions :</span></dt><dd>CF-1.7</dd><dt><span>title :</span></dt><dd>esacci.OZONE.month.L3.NP.multi-sensor.multi-platform.MERGED.fv0002.r1 Data Cube</dd><dt><span>history :</span></dt><dd>[{&#x27;program&#x27;: &#x27;xcube_cci.chunkstore.CciChunkStore&#x27;, &#x27;cube_params&#x27;: {&#x27;var_names&#x27;: [&#x27;surface_pressure&#x27;, &#x27;O3_du&#x27;, &#x27;O3_du_tot&#x27;], &#x27;time_range&#x27;: [&#x27;2008-01-01T00:00:00&#x27;, &#x27;2008-12-10T00:00:00&#x27;]}}]</dd><dt><span>date_created :</span></dt><dd>2020-06-16T22:06:34.611369</dd><dt><span>processing_level :</span></dt><dd>L3</dd><dt><span>time_coverage_start :</span></dt><dd>2008-01-01T00:00:00</dd><dt><span>time_coverage_end :</span></dt><dd>2008-12-31T23:59:59</dd><dt><span>time_coverage_duration :</span></dt><dd>P365DT23H59M59S</dd></dl></div></li></ul></div></div>"
      ],
      "text/plain": [
       "<xarray.Dataset>\n",
       "Dimensions:           (air_pressure: 17, bnds: 2, lat: 180, layers: 16, lon: 360, time: 12)\n",
       "Coordinates:\n",
       "  * air_pressure      (air_pressure) float64 1.013e+03 446.0 196.4 ... 0.05 0.01\n",
       "  * lat               (lat) float64 -89.5 -88.5 -87.5 -86.5 ... 87.5 88.5 89.5\n",
       "  * layers            (layers) int64 1 2 3 4 5 6 7 8 9 10 11 12 13 14 15 16\n",
       "  * lon               (lon) float64 -179.5 -178.5 -177.5 ... 177.5 178.5 179.5\n",
       "  * time              (time) datetime64[ns] 2008-01-16T11:59:59 ... 2008-12-16T11:59:59\n",
       "    time_bnds         (time, bnds) datetime64[ns] dask.array<chunksize=(12, 2), meta=np.ndarray>\n",
       "Dimensions without coordinates: bnds\n",
       "Data variables:\n",
       "    O3_du             (time, layers, lat, lon) float32 dask.array<chunksize=(1, 8, 180, 360), meta=np.ndarray>\n",
       "    O3_du_tot         (time, lat, lon) float32 dask.array<chunksize=(1, 180, 360), meta=np.ndarray>\n",
       "    surface_pressure  (time, lat, lon) float32 dask.array<chunksize=(1, 180, 360), meta=np.ndarray>\n",
       "Attributes:\n",
       "    Conventions:             CF-1.7\n",
       "    title:                   esacci.OZONE.month.L3.NP.multi-sensor.multi-plat...\n",
       "    history:                 [{'program': 'xcube_cci.chunkstore.CciChunkStore...\n",
       "    date_created:            2020-06-16T22:06:34.611369\n",
       "    processing_level:        L3\n",
       "    time_coverage_start:     2008-01-01T00:00:00\n",
       "    time_coverage_end:       2008-12-31T23:59:59\n",
       "    time_coverage_duration:  P365DT23H59M59S"
      ]
     },
     "execution_count": 22,
     "metadata": {},
     "output_type": "execute_result"
    }
   ],
   "source": [
    "dataset = store.open_data(\n",
    "    'esacci.OZONE.month.L3.NP.multi-sensor.multi-platform.MERGED.fv0002.r1', \n",
    "    var_names=['surface_pressure', 'O3_du', 'O3_du_tot'],\n",
    "    time_range=['2008-01-01','2008-12-10'])\n",
    "dataset"
   ]
  },
  {
   "cell_type": "code",
   "execution_count": 21,
   "metadata": {},
   "outputs": [
    {
     "data": {
      "text/plain": [
       "<matplotlib.image.AxesImage at 0x7fd910121150>"
      ]
     },
     "execution_count": 21,
     "metadata": {},
     "output_type": "execute_result"
    },
    {
     "data": {
      "image/png": "[encoded data removed]",
      "text/plain": [
       "<Figure size 1152x1152 with 2 Axes>"
      ]
     },
     "metadata": {
      "needs_background": "light"
     },
     "output_type": "display_data"
    }
   ],
   "source": [
    "dataset.surface_pressure.isel(time=1).plot.imshow(cmap='Greys', figsize=(16, 16))"
   ]
  },
  {
   "cell_type": "code",
   "execution_count": null,
   "metadata": {},
   "outputs": [],
   "source": []
  }
 ],
 "metadata": {
  "kernelspec": {
   "display_name": "Python 3",
   "language": "python",
   "name": "python3"
  },
  "language_info": {
   "codemirror_mode": {
    "name": "ipython",
    "version": 3
   },
   "file_extension": ".py",
   "mimetype": "text/x-python",
   "name": "python",
   "nbconvert_exporter": "python",
   "pygments_lexer": "ipython3",
   "version": "3.7.6"
  }
 },
 "nbformat": 4,
 "nbformat_minor": 4
}

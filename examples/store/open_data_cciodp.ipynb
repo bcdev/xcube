{
 "cells": [
  {
   "cell_type": "markdown",
   "metadata": {},
   "source": [
    "## xcube Data Store Framework - CCI Open Data Portal\n",
    "\n",
    "To use the CCI ODP Data Store in a Jupyter Notebook, we need to execute the following lines:"
   ]
  },
  {
   "cell_type": "code",
   "execution_count": 1,
   "metadata": {},
   "outputs": [],
   "source": [
    "%matplotlib inline\n",
    "# CCI Data Store requires asyncio. In order to work in Notebooks, we need to do the following:\n",
    "import nest_asyncio\n",
    "nest_asyncio.apply()"
   ]
  },
  {
   "cell_type": "code",
   "execution_count": 2,
   "metadata": {},
   "outputs": [],
   "source": [
    "from xcube.core.store import find_data_store_extensions\n",
    "from xcube.core.store import get_data_store_params_schema\n",
    "from xcube.core.store import new_data_store\n",
    "from IPython.display import JSON"
   ]
  },
  {
   "cell_type": "markdown",
   "metadata": {},
   "source": [
    "Which data accessors are available?"
   ]
  },
  {
   "cell_type": "code",
   "execution_count": 3,
   "metadata": {},
   "outputs": [
    {
     "data": {
      "application/json": {
       "cciodp": {
        "description": "ESA CCI Open Data Portal"
       },
       "cds": {
        "description": "Climate Data Store API"
       },
       "directory": {
        "description": "Directory data store"
       },
       "memory": {
        "description": "Memory data store"
       },
       "s3": {
        "description": "AWS S3 data store"
       },
       "sentinelhub": {
        "description": "SENTINEL Hub Cloud API"
       }
      },
      "text/plain": [
       "<IPython.core.display.JSON object>"
      ]
     },
     "execution_count": 3,
     "metadata": {
      "application/json": {
       "expanded": false,
       "root": "root"
      }
     },
     "output_type": "execute_result"
    }
   ],
   "source": [
    "JSON({e.name: e.metadata for e in find_data_store_extensions()})"
   ]
  },
  {
   "cell_type": "markdown",
   "metadata": {},
   "source": [
    "Usually we need more information to get the actual data store object. Which data store parameters are available?"
   ]
  },
  {
   "cell_type": "code",
   "execution_count": 4,
   "metadata": {},
   "outputs": [
    {
     "data": {
      "application/json": {
       "additionalProperties": false,
       "properties": {
        "enable_warnings": {
         "default": false,
         "title": "Whether to output warnings",
         "type": "boolean"
        },
        "num_retries": {
         "default": 200,
         "minimum": 0,
         "title": "Number of retries when requesting data fails",
         "type": "integer"
        },
        "opensearch_description_url": {
         "default": "http://opensearch-test.ceda.ac.uk/opensearch/description.xml?parentIdentifier=cci",
         "type": "string"
        },
        "opensearch_url": {
         "default": "http://opensearch-test.ceda.ac.uk/opensearch/request",
         "type": "string"
        },
        "retry_backoff_base": {
         "default": 1.001,
         "exclusiveMinimum": 1,
         "type": "number"
        },
        "retry_backoff_max": {
         "default": 40,
         "minimum": 0,
         "type": "integer"
        }
       },
       "type": "object"
      },
      "text/plain": [
       "<xcube.util.jsonschema.JsonObjectSchema at 0x1e28c9037c8>"
      ]
     },
     "execution_count": 4,
     "metadata": {},
     "output_type": "execute_result"
    }
   ],
   "source": [
    "get_data_store_params_schema('cciodp')"
   ]
  },
  {
   "cell_type": "markdown",
   "metadata": {},
   "source": [
    "Just provide mandatory parameters to instantiate the store class:"
   ]
  },
  {
   "cell_type": "code",
   "execution_count": 5,
   "metadata": {},
   "outputs": [
    {
     "data": {
      "text/plain": [
       "<xcube_cci.dataaccess.CciOdpDataStore at 0x1e28c90c108>"
      ]
     },
     "execution_count": 5,
     "metadata": {},
     "output_type": "execute_result"
    }
   ],
   "source": [
    "store = new_data_store('cciodp')\n",
    "store"
   ]
  },
  {
   "cell_type": "markdown",
   "metadata": {},
   "source": [
    "Which datasets are provided? (the list may contain both gridded and vector datasets):"
   ]
  },
  {
   "cell_type": "code",
   "execution_count": 7,
   "metadata": {},
   "outputs": [
    {
     "data": {
      "application/json": [
       [
        "esacci.AEROSOL.satellite-orbit-frequency.L2P.AER_PRODUCTS.AATSR.Envisat.AATSR-ENVISAT-ENS.v2-6.r1",
        "AEROSOL CCI:  AATSR L2P AATSR-ENVISAT-ENS AER_PRODUCTS, v2.6"
       ],
       [
        "esacci.AEROSOL.day.L3C.AER_PRODUCTS.AATSR.Envisat.AATSR-ENVISAT-ENS_DAILY.v2-6.r1",
        "AEROSOL CCI: Daily AATSR L3C AATSR-ENVISAT-ENS_DAILY AER_PRODUCTS, v2.6"
       ],
       [
        "esacci.AEROSOL.day.L3C.AER_PRODUCTS.AATSR.Envisat.ATSR2-ENVISAT-ENS_DAILY.v2-6.r1",
        "AEROSOL CCI: Daily AATSR L3C ATSR2-ENVISAT-ENS_DAILY AER_PRODUCTS, v2.6"
       ],
       [
        "esacci.AEROSOL.day.L3C.AER_PRODUCTS.AATSR.Envisat.ORAC.04-01-.r1",
        "AEROSOL CCI: Daily AATSR L3C ORAC AER_PRODUCTS, v04.01."
       ],
       [
        "esacci.AEROSOL.day.L3C.AER_PRODUCTS.AATSR.Envisat.ORAC.04-01_seg-.r1",
        "AEROSOL CCI: Daily AATSR L3C ORAC AER_PRODUCTS, v04.01_seg."
       ],
       [
        "esacci.AEROSOL.day.L3C.AER_PRODUCTS.ATSR-2.Envisat.AATSR-ENVISAT-ENS_DAILY.v2-6.r1",
        "AEROSOL CCI: Daily ATSR-2 L3C AATSR-ENVISAT-ENS_DAILY AER_PRODUCTS, v2.6"
       ],
       [
        "esacci.AEROSOL.day.L3C.AER_PRODUCTS.ATSR-2.Envisat.ATSR2-ENVISAT-ENS_DAILY.v2-6.r1",
        "AEROSOL CCI: Daily ATSR-2 L3C ATSR2-ENVISAT-ENS_DAILY AER_PRODUCTS, v2.6"
       ],
       [
        "esacci.AEROSOL.day.L3C.AOD.MERIS.Envisat.MERIS_ENVISAT.2-2.r1",
        "AEROSOL CCI: Daily MERIS L3C MERIS_ENVISAT AOD, v2.2"
       ],
       [
        "esacci.AEROSOL.mon.L3C.AER_PRODUCTS.AATSR.Envisat.AATSR.04-01-.r1",
        "AEROSOL CCI: Monthly AATSR L3C AATSR AER_PRODUCTS, v04.01."
       ],
       [
        "esacci.AEROSOL.mon.L3C.AER_PRODUCTS.AATSR.Envisat.ORAC.04-01-.r1",
        "AEROSOL CCI: Monthly AATSR L3C ORAC AER_PRODUCTS, v04.01."
       ],
       [
        "esacci.AEROSOL.mon.L3C.AER_PRODUCTS.AATSR.Envisat.ORAC.04-01_seg-.r1",
        "AEROSOL CCI: Monthly AATSR L3C ORAC AER_PRODUCTS, v04.01_seg."
       ],
       [
        "esacci.AEROSOL.mon.L3C.AOD.MERIS.Envisat.MERIS_ENVISAT.2-2.r1",
        "AEROSOL CCI: Monthly MERIS L3C MERIS_ENVISAT AOD, v2.2"
       ],
       [
        "esacci.AEROSOL.satellite-orbit-frequency.L2P.AER_PRODUCTS.AATSR.Envisat.AATSR.04-01.r1",
        "AEROSOL CCI:  AATSR L2P AATSR AER_PRODUCTS, v04.01"
       ],
       [
        "esacci.AEROSOL.satellite-orbit-frequency.L2P.AER_PRODUCTS.AATSR.Envisat.ORAC.04-01.r1",
        "AEROSOL CCI:  AATSR L2P ORAC AER_PRODUCTS, v04.01"
       ],
       [
        "esacci.AEROSOL.satellite-orbit-frequency.L2P.AER_PRODUCTS.AATSR.Envisat.SU.4-3.r1",
        "AEROSOL CCI:  AATSR L2P SU AER_PRODUCTS, v4.3"
       ],
       [
        "esacci.AEROSOL.satellite-orbit-frequency.L2P.AER_PRODUCTS.ATSR-2.Envisat.ATSR2-ENVISAT-ENS.v2-6.r1",
        "AEROSOL CCI:  ATSR-2 L2P ATSR2-ENVISAT-ENS AER_PRODUCTS, v2.6"
       ],
       [
        "esacci.AEROSOL.satellite-orbit-frequency.L2P.AOD.MERIS.Envisat.MERIS_ENVISAT.2-2.r1",
        "AEROSOL CCI:  MERIS L2P MERIS_ENVISAT AOD, v2.2"
       ],
       [
        "esacci.AEROSOL.yr.L3C.AER_PRODUCTS.AATSR.Envisat.AATSR-ENVISAT-ENS_ANNUAL.v2-6.r1",
        "AEROSOL CCI: year AATSR L3C AATSR-ENVISAT-ENS_ANNUAL AER_PRODUCTS, v2.6"
       ],
       [
        "esacci.AEROSOL.yr.L3C.AER_PRODUCTS.ATSR-2.Envisat.ATSR2-ENVISAT-ENS_ANNUAL.v2-6.r1",
        "AEROSOL CCI: year ATSR-2 L3C ATSR2-ENVISAT-ENS_ANNUAL AER_PRODUCTS, v2.6"
       ],
       [
        "esacci.BIOMASS.yr.L4.AGB.multi-sensor.multi-platform.MERGED.1-0.r1",
        "BIOMASS CCI: year multi-sensor L4 MERGED AGB, v1.0"
       ],
       [
        "esacci.CLOUD.mon.L3C.CLD_PRODUCTS.MODIS.Aqua.MODIS_AQUA.2-0.r1",
        "CLOUD CCI: Monthly MODIS L3C MODIS_AQUA CLD_PRODUCTS, v2.0"
       ],
       [
        "esacci.CLOUD.mon.L3C.CLD_PRODUCTS.MODIS.Terra.MODIS_TERRA.2-0.r1",
        "CLOUD CCI: Monthly MODIS L3C MODIS_TERRA CLD_PRODUCTS, v2.0"
       ],
       [
        "esacci.CLOUD.mon.L3C.CLD_PRODUCTS.multi-sensor.multi-platform.ATSR2-AATSR.3-0.r1",
        "CLOUD CCI: Monthly multi-sensor L3C ATSR2-AATSR CLD_PRODUCTS, v3.0"
       ],
       [
        "esacci.CLOUD.mon.L3C.CLD_PRODUCTS.multi-sensor.multi-platform.AVHRR-AM.3-0.r1",
        "CLOUD CCI: Monthly multi-sensor L3C AVHRR-AM CLD_PRODUCTS, v3.0"
       ],
       [
        "esacci.CLOUD.mon.L3C.CLD_PRODUCTS.multi-sensor.multi-platform.AVHRR-PM.3-0.r1",
        "CLOUD CCI: Monthly multi-sensor L3C AVHRR-PM CLD_PRODUCTS, v3.0"
       ],
       [
        "esacci.CLOUD.mon.L3C.CLD_PRODUCTS.multi-sensor.multi-platform.MERIS-AATSR.2-0.r1",
        "CLOUD CCI: Monthly multi-sensor L3C MERIS-AATSR CLD_PRODUCTS, v2.0"
       ],
       [
        "esacci.FIRE.mon.L3S.BA.MODIS.Terra.MODIS_TERRA.v5-1.pixel",
        "FIRE CCI: Monthly MODIS L3S MODIS_TERRA BA, v5.1"
       ],
       [
        "esacci.FIRE.mon.L3S.BA.MSI-(Sentinel-2).Sentinel-2A.MSI.v1-1.pixel",
        "FIRE CCI: Monthly MSI-(Sentinel-2) L3S MSI BA, v1.1"
       ],
       [
        "esacci.FIRE.mon.L4.BA.MODIS.Terra.MODIS_TERRA.v5-1.grid",
        "FIRE CCI: Monthly MODIS L4 MODIS_TERRA BA, v5.1"
       ],
       [
        "esacci.FIRE.mon.L4.BA.MSI-(Sentinel-2).Sentinel-2A.MSI.v1-1.grid",
        "FIRE CCI: Monthly MSI-(Sentinel-2) L4 MSI BA, v1.1"
       ],
       [
        "esacci.GHG.satellite-orbit-frequency.L2.CH4.SCIAMACHY.Envisat.WFMD.v4-0.r1",
        "GHG CCI:  SCIAMACHY L2 WFMD CH4, v4.0"
       ],
       [
        "esacci.GHG.satellite-orbit-frequency.L2.CH4.TANSO-FTS.GOSAT.EMMA.ch4_v1-2.r1",
        "GHG CCI:  TANSO-FTS L2 EMMA CH4, vch4_v1.2"
       ],
       [
        "esacci.GHG.satellite-orbit-frequency.L2.CH4.TANSO-FTS.GOSAT.OCPR.v7-0.r1",
        "GHG CCI:  TANSO-FTS L2 OCPR CH4, v7.0"
       ],
       [
        "esacci.GHG.satellite-orbit-frequency.L2.CH4.TANSO-FTS.GOSAT.SRFP.v2-3-8.r1",
        "GHG CCI:  TANSO-FTS L2 SRFP CH4, v2.3.8"
       ],
       [
        "esacci.GHG.satellite-orbit-frequency.L2.CH4.TANSO-FTS.GOSAT.SRPR.v2-3-8.r1",
        "GHG CCI:  TANSO-FTS L2 SRPR CH4, v2.3.8"
       ],
       [
        "esacci.GHG.satellite-orbit-frequency.L2.CH4.TROPOMI.Sentinel-5P.WFMD.v1-2.r1",
        "GHG CCI:  TROPOMI L2 WFMD CH4, v1.2"
       ],
       [
        "esacci.GHG.satellite-orbit-frequency.L2.CO2.OCO.OCO-2.UNSPECIFIED.v08.r1",
        "GHG CCI:  OCO L2 UNSPECIFIED CO2, v08"
       ],
       [
        "esacci.GHG.satellite-orbit-frequency.L2.CO2.SCIAMACHY.Envisat.WFMD.v4-0.r1",
        "GHG CCI:  SCIAMACHY L2 WFMD CO2, v4.0"
       ],
       [
        "esacci.GHG.satellite-orbit-frequency.L2.CO2.TANSO-FTS.GOSAT.SRFP.v2-3-8.r1",
        "GHG CCI:  TANSO-FTS L2 SRFP CO2, v2.3.8"
       ],
       [
        "esacci.ICESHEETS.unspecified.L4.IV.SAR-C-(Sentinel-1).multi-platform.UNSPECIFIED.1-1.greenland_s1_250m_20150610_20170321_Helheim",
        "ICESHEETS CCI:  SAR-C-(Sentinel-1) L4 UNSPECIFIED IV, v1.1"
       ],
       [
        "esacci.ICESHEETS.unspecified.L4.SEC.multi-sensor.multi-platform.UNSPECIFIED.0-1.greenland_sec_saral_altika",
        "ICESHEETS CCI:  multi-sensor L4 UNSPECIFIED SEC, v0.1"
       ],
       [
        "esacci.ICESHEETS.unspecified.Unspecified.GLL.multi-sensor.multi-platform.UNSPECIFIED.v1-3.greenland",
        "ICESHEETS CCI:  multi-sensor Unspecified UNSPECIFIED GLL, v1.3"
       ],
       [
        "esacci.ICESHEETS.unspecified.Unspecified.IV.AMI-SAR.ERS-1.UNSPECIFIED.1-1.greenland_northern_drainage_basin_winter_1991_1992",
        "ICESHEETS CCI:  AMI-SAR Unspecified UNSPECIFIED IV, v1.1"
       ],
       [
        "esacci.ICESHEETS.unspecified.Unspecified.IV.AMI-SAR.ERS-2.UNSPECIFIED.1-1.greenland_margin_1995_1996",
        "ICESHEETS CCI:  AMI-SAR Unspecified UNSPECIFIED IV, v1.1"
       ],
       [
        "esacci.ICESHEETS.unspecified.Unspecified.IV.MSI-(Sentinel-2).Sentinel-2A.UNSPECIFIED.1-0.greenland_s2_50m_20160508_20160518_docker_smith",
        "ICESHEETS CCI:  MSI-(Sentinel-2) Unspecified UNSPECIFIED IV, v1.0"
       ],
       [
        "esacci.ICESHEETS.unspecified.Unspecified.IV.MSI-(Sentinel-2).multi-platform.UNSPECIFIED.1-1.greenland_s2_50m_seasonal_20170501_20170829_Helheim",
        "ICESHEETS CCI:  MSI-(Sentinel-2) Unspecified UNSPECIFIED IV, v1.1"
       ],
       [
        "esacci.ICESHEETS.unspecified.Unspecified.IV.MSI-(Sentinel-2).multi-platform.UNSPECIFIED.1-1.greenland_s2_50m_seasonal_20170501_20170914_Petermann",
        "ICESHEETS CCI:  MSI-(Sentinel-2) Unspecified UNSPECIFIED IV, v1.1"
       ],
       [
        "esacci.ICESHEETS.unspecified.Unspecified.IV.MSI-(Sentinel-2).multi-platform.UNSPECIFIED.1-1.greenland_s2_50m_seasonal_20170603_20170908_Jakobshavn",
        "ICESHEETS CCI:  MSI-(Sentinel-2) Unspecified UNSPECIFIED IV, v1.1"
       ],
       [
        "esacci.ICESHEETS.unspecified.Unspecified.IV.MSI-(Sentinel-2).multi-platform.UNSPECIFIED.1-1.greenland_s2_50m_seasonal_20170625_20170810_79Fjord",
        "ICESHEETS CCI:  MSI-(Sentinel-2) Unspecified UNSPECIFIED IV, v1.1"
       ],
       [
        "esacci.ICESHEETS.unspecified.Unspecified.IV.MSI-(Sentinel-2).multi-platform.UNSPECIFIED.1-1.greenland_s2_50m_seasonal_20170625_20170810_Zachariae",
        "ICESHEETS CCI:  MSI-(Sentinel-2) Unspecified UNSPECIFIED IV, v1.1"
       ],
       [
        "esacci.ICESHEETS.unspecified.Unspecified.IV.MSI-(Sentinel-2).multi-platform.UNSPECIFIED.1-1.greenland_s2_50m_seasonal_20170630_20170814_Hagen",
        "ICESHEETS CCI:  MSI-(Sentinel-2) Unspecified UNSPECIFIED IV, v1.1"
       ],
       [
        "esacci.ICESHEETS.unspecified.Unspecified.IV.MSI-(Sentinel-2).multi-platform.UNSPECIFIED.1-1.greenland_s2_50m_seasonal_20170715_20170814_Upernavik",
        "ICESHEETS CCI:  MSI-(Sentinel-2) Unspecified UNSPECIFIED IV, v1.1"
       ],
       [
        "esacci.ICESHEETS.unspecified.Unspecified.IV.MSI-(Sentinel-2).multi-platform.UNSPECIFIED.1-1.greenland_s2_50m_seasonal_20170721_20170820_Kangerdlugssuaq",
        "ICESHEETS CCI:  MSI-(Sentinel-2) Unspecified UNSPECIFIED IV, v1.1"
       ],
       [
        "esacci.ICESHEETS.unspecified.Unspecified.IV.MSI-(Sentinel-2).multi-platform.UNSPECIFIED.1-1.greenland_s2_50m_timeseries_20170501_20170829_Helheim",
        "ICESHEETS CCI:  MSI-(Sentinel-2) Unspecified UNSPECIFIED IV, v1.1"
       ],
       [
        "esacci.ICESHEETS.unspecified.Unspecified.IV.MSI-(Sentinel-2).multi-platform.UNSPECIFIED.1-1.greenland_s2_50m_timeseries_20170501_20170914_Petermann",
        "ICESHEETS CCI:  MSI-(Sentinel-2) Unspecified UNSPECIFIED IV, v1.1"
       ],
       [
        "esacci.ICESHEETS.unspecified.Unspecified.IV.MSI-(Sentinel-2).multi-platform.UNSPECIFIED.1-1.greenland_s2_50m_timeseries_20170603_20170908_Jakobshavn",
        "ICESHEETS CCI:  MSI-(Sentinel-2) Unspecified UNSPECIFIED IV, v1.1"
       ],
       [
        "esacci.ICESHEETS.unspecified.Unspecified.IV.MSI-(Sentinel-2).multi-platform.UNSPECIFIED.1-1.greenland_s2_50m_timeseries_20170625_20170810_79Fjord",
        "ICESHEETS CCI:  MSI-(Sentinel-2) Unspecified UNSPECIFIED IV, v1.1"
       ],
       [
        "esacci.ICESHEETS.unspecified.Unspecified.IV.MSI-(Sentinel-2).multi-platform.UNSPECIFIED.1-1.greenland_s2_50m_timeseries_20170625_20170810_Zachariae",
        "ICESHEETS CCI:  MSI-(Sentinel-2) Unspecified UNSPECIFIED IV, v1.1"
       ],
       [
        "esacci.ICESHEETS.unspecified.Unspecified.IV.MSI-(Sentinel-2).multi-platform.UNSPECIFIED.1-1.greenland_s2_50m_timeseries_20170630_20170814_Hagen",
        "ICESHEETS CCI:  MSI-(Sentinel-2) Unspecified UNSPECIFIED IV, v1.1"
       ],
       [
        "esacci.ICESHEETS.unspecified.Unspecified.IV.MSI-(Sentinel-2).multi-platform.UNSPECIFIED.1-1.greenland_s2_50m_timeseries_20170715_20170814_Upernavik",
        "ICESHEETS CCI:  MSI-(Sentinel-2) Unspecified UNSPECIFIED IV, v1.1"
       ],
       [
        "esacci.ICESHEETS.unspecified.Unspecified.IV.MSI-(Sentinel-2).multi-platform.UNSPECIFIED.1-1.greenland_s2_50m_timeseries_20170721_20170820_Kangerdlugssuaq",
        "ICESHEETS CCI:  MSI-(Sentinel-2) Unspecified UNSPECIFIED IV, v1.1"
       ],
       [
        "esacci.ICESHEETS.unspecified.Unspecified.IV.SAR-(RadarSat-2).RadarSat-2.UNSPECIFIED.1-0.greenland_map_winter_2013_2014",
        "ICESHEETS CCI:  SAR-(RadarSat-2) Unspecified UNSPECIFIED IV, v1.0"
       ],
       [
        "esacci.ICESHEETS.unspecified.Unspecified.IV.SAR-2000.multi-platform.UNSPECIFIED.1-0.greenland_csk_250m_timeseries_20120604_20141223_Jakobshavn",
        "ICESHEETS CCI:  SAR-2000 Unspecified UNSPECIFIED IV, v1.0"
       ],
       [
        "esacci.ICESHEETS.unspecified.Unspecified.IV.SAR-C-(Sentinel-1).Sentinel-1A.UNSPECIFIED.1-0.greenland_map_winter_2014_2015",
        "ICESHEETS CCI:  SAR-C-(Sentinel-1) Unspecified UNSPECIFIED IV, v1.0"
       ],
       [
        "esacci.ICESHEETS.unspecified.Unspecified.IV.SAR-C-(Sentinel-1).Sentinel-1A.UNSPECIFIED.1-2.greenland_map_winter_2015_2016",
        "ICESHEETS CCI:  SAR-C-(Sentinel-1) Unspecified UNSPECIFIED IV, v1.2"
       ],
       [
        "esacci.ICESHEETS.unspecified.Unspecified.IV.SAR-C-(Sentinel-1).multi-platform.UNSPECIFIED.1-0.greenland_map_winter_2016_2017",
        "ICESHEETS CCI:  SAR-C-(Sentinel-1) Unspecified UNSPECIFIED IV, v1.0"
       ],
       [
        "esacci.ICESHEETS.unspecified.Unspecified.IV.SAR-C-(Sentinel-1).multi-platform.UNSPECIFIED.1-0.greenland_map_winter_2017_2018",
        "ICESHEETS CCI:  SAR-C-(Sentinel-1) Unspecified UNSPECIFIED IV, v1.0"
       ],
       [
        "esacci.ICESHEETS.unspecified.Unspecified.IV.SAR-C-(Sentinel-1).multi-platform.UNSPECIFIED.1-1.greenland_s1_250m_20141010_20170317_Upernavik",
        "ICESHEETS CCI:  SAR-C-(Sentinel-1) Unspecified UNSPECIFIED IV, v1.1"
       ],
       [
        "esacci.ICESHEETS.unspecified.Unspecified.IV.SAR-C-(Sentinel-1).multi-platform.UNSPECIFIED.1-1.greenland_s1_250m_20141011_20170317_20150122_20170322_Hagen",
        "ICESHEETS CCI:  SAR-C-(Sentinel-1) Unspecified UNSPECIFIED IV, v1.1"
       ],
       [
        "esacci.ICESHEETS.unspecified.Unspecified.IV.SAR-C-(Sentinel-1).multi-platform.UNSPECIFIED.1-1.greenland_s1_250m_20141011_20170317_Jakobshavn",
        "ICESHEETS CCI:  SAR-C-(Sentinel-1) Unspecified UNSPECIFIED IV, v1.1"
       ],
       [
        "esacci.ICESHEETS.unspecified.Unspecified.IV.SAR-C-(Sentinel-1).multi-platform.UNSPECIFIED.1-1.greenland_s1_250m_20150118_20170321_Kangerlussuaq",
        "ICESHEETS CCI:  SAR-C-(Sentinel-1) Unspecified UNSPECIFIED IV, v1.1"
       ],
       [
        "esacci.ICESHEETS.unspecified.Unspecified.IV.SAR-C-(Sentinel-1).multi-platform.UNSPECIFIED.1-1.greenland_s1_250m_20150122_20170319_Petermann",
        "ICESHEETS CCI:  SAR-C-(Sentinel-1) Unspecified UNSPECIFIED IV, v1.1"
       ],
       [
        "esacci.ICESHEETS.unspecified.Unspecified.IV.SAR-C-(Sentinel-1).multi-platform.UNSPECIFIED.1-1.greenland_s1_250m_20150122_20170322_79-Fjord",
        "ICESHEETS CCI:  SAR-C-(Sentinel-1) Unspecified UNSPECIFIED IV, v1.1"
       ],
       [
        "esacci.ICESHEETS.unspecified.Unspecified.IV.SAR-C-(Sentinel-1).multi-platform.UNSPECIFIED.1-1.greenland_s1_250m_20150124_20170322_Storstroemmen",
        "ICESHEETS CCI:  SAR-C-(Sentinel-1) Unspecified UNSPECIFIED IV, v1.1"
       ],
       [
        "esacci.ICESHEETS.unspecified.Unspecified.IV.SAR-C-(Sentinel-1).multi-platform.UNSPECIFIED.1-1.greenland_s1_250m_20150126_20170322_Zachariae",
        "ICESHEETS CCI:  SAR-C-(Sentinel-1) Unspecified UNSPECIFIED IV, v1.1"
       ],
       [
        "esacci.ICESHEETS.unspecified.Unspecified.IV.multi-sensor.multi-platform.UNSPECIFIED.1-2.greenland_timeseries_Upernarvik",
        "ICESHEETS CCI:  multi-sensor Unspecified UNSPECIFIED IV, v1.2"
       ],
       [
        "esacci.ICESHEETS.yr.Unspecified.GMB.GRACE-instrument.GRACE.UNSPECIFIED.1-2.greenland_gmb_mass_trends",
        "ICESHEETS CCI: year GRACE-instrument Unspecified UNSPECIFIED GMB, v1.2"
       ],
       [
        "esacci.ICESHEETS.yr.Unspecified.GMB.GRACE-instrument.GRACE.UNSPECIFIED.1-3.greenland_gmb_mass_trends",
        "ICESHEETS CCI: year GRACE-instrument Unspecified UNSPECIFIED GMB, v1.3"
       ],
       [
        "esacci.ICESHEETS.yr.Unspecified.IV.PALSAR.ALOS.UNSPECIFIED.1-1.greenland_margin_2006_2011",
        "ICESHEETS CCI: year PALSAR Unspecified UNSPECIFIED IV, v1.1"
       ],
       [
        "esacci.ICESHEETS.yr.Unspecified.SEC.multi-sensor.multi-platform.UNSPECIFIED.1-2.r1",
        "ICESHEETS CCI: year multi-sensor Unspecified UNSPECIFIED SEC, v1.2"
       ],
       [
        "esacci.LAKES.day.L3S.LK_PRODUCTS.multi-sensor.multi-platform.MERGED.v1-0.r1",
        "LAKES CCI: Daily multi-sensor L3S MERGED LK_PRODUCTS, v1.0"
       ],
       [
        "esacci.LC.13-yrs.L4.WB.ASAR.Envisat.Map.4-0.r1",
        "LC CCI: 13 year ASAR L4 Map WB, v4.0"
       ],
       [
        "esacci.LC.yr.L4.LCCS.multi-sensor.multi-platform.Map.2-0-7.r1",
        "LC CCI: year multi-sensor L4 Map LCCS, v2.0.7"
       ],
       [
        "esacci.OC.5-days.L3S.CHLOR_A.multi-sensor.multi-platform.MERGED.3-1.geographic",
        "OC CCI: 5 day multi-sensor L3S MERGED CHLOR_A, v3.1"
       ],
       [
        "esacci.OC.5-days.L3S.CHLOR_A.multi-sensor.multi-platform.MERGED.3-1.sinusoidal",
        "OC CCI: 5 day multi-sensor L3S MERGED CHLOR_A, v3.1"
       ],
       [
        "esacci.OC.5-days.L3S.CHLOR_A.multi-sensor.multi-platform.MERGED.4-2.geographic",
        "OC CCI: 5 day multi-sensor L3S MERGED CHLOR_A, v4.2"
       ],
       [
        "esacci.OC.5-days.L3S.CHLOR_A.multi-sensor.multi-platform.MERGED.4-2.sinusoidal",
        "OC CCI: 5 day multi-sensor L3S MERGED CHLOR_A, v4.2"
       ],
       [
        "esacci.OC.5-days.L3S.IOP.multi-sensor.multi-platform.MERGED.3-1.geographic",
        "OC CCI: 5 day multi-sensor L3S MERGED IOP, v3.1"
       ],
       [
        "esacci.OC.5-days.L3S.IOP.multi-sensor.multi-platform.MERGED.3-1.sinusoidal",
        "OC CCI: 5 day multi-sensor L3S MERGED IOP, v3.1"
       ],
       [
        "esacci.OC.5-days.L3S.IOP.multi-sensor.multi-platform.MERGED.4-2.geographic",
        "OC CCI: 5 day multi-sensor L3S MERGED IOP, v4.2"
       ],
       [
        "esacci.OC.5-days.L3S.IOP.multi-sensor.multi-platform.MERGED.4-2.sinusoidal",
        "OC CCI: 5 day multi-sensor L3S MERGED IOP, v4.2"
       ],
       [
        "esacci.OC.5-days.L3S.K_490.multi-sensor.multi-platform.MERGED.3-1.geographic",
        "OC CCI: 5 day multi-sensor L3S MERGED K_490, v3.1"
       ],
       [
        "esacci.OC.5-days.L3S.K_490.multi-sensor.multi-platform.MERGED.3-1.sinusoidal",
        "OC CCI: 5 day multi-sensor L3S MERGED K_490, v3.1"
       ],
       [
        "esacci.OC.5-days.L3S.K_490.multi-sensor.multi-platform.MERGED.4-2.geographic",
        "OC CCI: 5 day multi-sensor L3S MERGED K_490, v4.2"
       ],
       [
        "esacci.OC.5-days.L3S.K_490.multi-sensor.multi-platform.MERGED.4-2.sinusoidal",
        "OC CCI: 5 day multi-sensor L3S MERGED K_490, v4.2"
       ],
       [
        "esacci.OC.5-days.L3S.OC_PRODUCTS.multi-sensor.multi-platform.MERGED.3-1.geographic",
        "OC CCI: 5 day multi-sensor L3S MERGED OC_PRODUCTS, v3.1"
       ],
       [
        "esacci.OC.5-days.L3S.OC_PRODUCTS.multi-sensor.multi-platform.MERGED.3-1.sinusoidal",
        "OC CCI: 5 day multi-sensor L3S MERGED OC_PRODUCTS, v3.1"
       ],
       [
        "esacci.OC.5-days.L3S.OC_PRODUCTS.multi-sensor.multi-platform.MERGED.4-2.geographic",
        "OC CCI: 5 day multi-sensor L3S MERGED OC_PRODUCTS, v4.2"
       ],
       [
        "esacci.OC.5-days.L3S.OC_PRODUCTS.multi-sensor.multi-platform.MERGED.4-2.sinusoidal",
        "OC CCI: 5 day multi-sensor L3S MERGED OC_PRODUCTS, v4.2"
       ],
       [
        "esacci.OC.5-days.L3S.RRS.multi-sensor.multi-platform.MERGED.3-1.geographic",
        "OC CCI: 5 day multi-sensor L3S MERGED RRS, v3.1"
       ],
       [
        "esacci.OC.5-days.L3S.RRS.multi-sensor.multi-platform.MERGED.3-1.sinusoidal",
        "OC CCI: 5 day multi-sensor L3S MERGED RRS, v3.1"
       ],
       [
        "esacci.OC.5-days.L3S.RRS.multi-sensor.multi-platform.MERGED.4-2.geographic",
        "OC CCI: 5 day multi-sensor L3S MERGED RRS, v4.2"
       ],
       [
        "esacci.OC.5-days.L3S.RRS.multi-sensor.multi-platform.MERGED.4-2.sinusoidal",
        "OC CCI: 5 day multi-sensor L3S MERGED RRS, v4.2"
       ],
       [
        "esacci.OC.8-days.L3S.CHLOR_A.multi-sensor.multi-platform.MERGED.3-1.geographic",
        "OC CCI: 8 day multi-sensor L3S MERGED CHLOR_A, v3.1"
       ],
       [
        "esacci.OC.8-days.L3S.CHLOR_A.multi-sensor.multi-platform.MERGED.3-1.sinusoidal",
        "OC CCI: 8 day multi-sensor L3S MERGED CHLOR_A, v3.1"
       ],
       [
        "esacci.OC.8-days.L3S.CHLOR_A.multi-sensor.multi-platform.MERGED.4-2.geographic",
        "OC CCI: 8 day multi-sensor L3S MERGED CHLOR_A, v4.2"
       ],
       [
        "esacci.OC.8-days.L3S.CHLOR_A.multi-sensor.multi-platform.MERGED.4-2.sinusoidal",
        "OC CCI: 8 day multi-sensor L3S MERGED CHLOR_A, v4.2"
       ],
       [
        "esacci.OC.8-days.L3S.IOP.multi-sensor.multi-platform.MERGED.3-1.geographic",
        "OC CCI: 8 day multi-sensor L3S MERGED IOP, v3.1"
       ],
       [
        "esacci.OC.8-days.L3S.IOP.multi-sensor.multi-platform.MERGED.3-1.sinusoidal",
        "OC CCI: 8 day multi-sensor L3S MERGED IOP, v3.1"
       ],
       [
        "esacci.OC.8-days.L3S.IOP.multi-sensor.multi-platform.MERGED.4-2.geographic",
        "OC CCI: 8 day multi-sensor L3S MERGED IOP, v4.2"
       ],
       [
        "esacci.OC.8-days.L3S.IOP.multi-sensor.multi-platform.MERGED.4-2.sinusoidal",
        "OC CCI: 8 day multi-sensor L3S MERGED IOP, v4.2"
       ],
       [
        "esacci.OC.8-days.L3S.K_490.multi-sensor.multi-platform.MERGED.3-1.geographic",
        "OC CCI: 8 day multi-sensor L3S MERGED K_490, v3.1"
       ],
       [
        "esacci.OC.8-days.L3S.K_490.multi-sensor.multi-platform.MERGED.3-1.sinusoidal",
        "OC CCI: 8 day multi-sensor L3S MERGED K_490, v3.1"
       ],
       [
        "esacci.OC.8-days.L3S.K_490.multi-sensor.multi-platform.MERGED.4-2.geographic",
        "OC CCI: 8 day multi-sensor L3S MERGED K_490, v4.2"
       ],
       [
        "esacci.OC.8-days.L3S.K_490.multi-sensor.multi-platform.MERGED.4-2.sinusoidal",
        "OC CCI: 8 day multi-sensor L3S MERGED K_490, v4.2"
       ],
       [
        "esacci.OC.8-days.L3S.OC_PRODUCTS.multi-sensor.multi-platform.MERGED.3-1.geographic",
        "OC CCI: 8 day multi-sensor L3S MERGED OC_PRODUCTS, v3.1"
       ],
       [
        "esacci.OC.8-days.L3S.OC_PRODUCTS.multi-sensor.multi-platform.MERGED.3-1.sinusoidal",
        "OC CCI: 8 day multi-sensor L3S MERGED OC_PRODUCTS, v3.1"
       ],
       [
        "esacci.OC.8-days.L3S.OC_PRODUCTS.multi-sensor.multi-platform.MERGED.4-2.geographic",
        "OC CCI: 8 day multi-sensor L3S MERGED OC_PRODUCTS, v4.2"
       ],
       [
        "esacci.OC.8-days.L3S.OC_PRODUCTS.multi-sensor.multi-platform.MERGED.4-2.sinusoidal",
        "OC CCI: 8 day multi-sensor L3S MERGED OC_PRODUCTS, v4.2"
       ],
       [
        "esacci.OC.8-days.L3S.RRS.multi-sensor.multi-platform.MERGED.3-1.geographic",
        "OC CCI: 8 day multi-sensor L3S MERGED RRS, v3.1"
       ],
       [
        "esacci.OC.8-days.L3S.RRS.multi-sensor.multi-platform.MERGED.3-1.sinusoidal",
        "OC CCI: 8 day multi-sensor L3S MERGED RRS, v3.1"
       ],
       [
        "esacci.OC.8-days.L3S.RRS.multi-sensor.multi-platform.MERGED.4-2.geographic",
        "OC CCI: 8 day multi-sensor L3S MERGED RRS, v4.2"
       ],
       [
        "esacci.OC.8-days.L3S.RRS.multi-sensor.multi-platform.MERGED.4-2.sinusoidal",
        "OC CCI: 8 day multi-sensor L3S MERGED RRS, v4.2"
       ],
       [
        "esacci.OC.climatology.L4.OC_PRODUCTS.multi-sensor.multi-platform.UNSPECIFIED.4-2.r1",
        "OC CCI:  multi-sensor L4 UNSPECIFIED OC_PRODUCTS, v4.2"
       ],
       [
        "esacci.OC.day.L3S.CHLOR_A.multi-sensor.multi-platform.MERGED.3-1.geographic",
        "OC CCI: Daily multi-sensor L3S MERGED CHLOR_A, v3.1"
       ],
       [
        "esacci.OC.day.L3S.CHLOR_A.multi-sensor.multi-platform.MERGED.3-1.sinusoidal",
        "OC CCI: Daily multi-sensor L3S MERGED CHLOR_A, v3.1"
       ],
       [
        "esacci.OC.day.L3S.CHLOR_A.multi-sensor.multi-platform.MERGED.4-2.geographic",
        "OC CCI: Daily multi-sensor L3S MERGED CHLOR_A, v4.2"
       ],
       [
        "esacci.OC.day.L3S.CHLOR_A.multi-sensor.multi-platform.MERGED.4-2.sinusoidal",
        "OC CCI: Daily multi-sensor L3S MERGED CHLOR_A, v4.2"
       ],
       [
        "esacci.OC.day.L3S.IOP.multi-sensor.multi-platform.MERGED.3-1.geographic",
        "OC CCI: Daily multi-sensor L3S MERGED IOP, v3.1"
       ],
       [
        "esacci.OC.day.L3S.IOP.multi-sensor.multi-platform.MERGED.3-1.sinusoidal",
        "OC CCI: Daily multi-sensor L3S MERGED IOP, v3.1"
       ],
       [
        "esacci.OC.day.L3S.IOP.multi-sensor.multi-platform.MERGED.4-2.geographic",
        "OC CCI: Daily multi-sensor L3S MERGED IOP, v4.2"
       ],
       [
        "esacci.OC.day.L3S.IOP.multi-sensor.multi-platform.MERGED.4-2.sinusoidal",
        "OC CCI: Daily multi-sensor L3S MERGED IOP, v4.2"
       ],
       [
        "esacci.OC.day.L3S.K_490.multi-sensor.multi-platform.MERGED.3-1.geographic",
        "OC CCI: Daily multi-sensor L3S MERGED K_490, v3.1"
       ],
       [
        "esacci.OC.day.L3S.K_490.multi-sensor.multi-platform.MERGED.3-1.sinusoidal",
        "OC CCI: Daily multi-sensor L3S MERGED K_490, v3.1"
       ],
       [
        "esacci.OC.day.L3S.K_490.multi-sensor.multi-platform.MERGED.4-2.geographic",
        "OC CCI: Daily multi-sensor L3S MERGED K_490, v4.2"
       ],
       [
        "esacci.OC.day.L3S.K_490.multi-sensor.multi-platform.MERGED.4-2.sinusoidal",
        "OC CCI: Daily multi-sensor L3S MERGED K_490, v4.2"
       ],
       [
        "esacci.OC.day.L3S.OC_PRODUCTS.multi-sensor.multi-platform.MERGED.3-1.geographic",
        "OC CCI: Daily multi-sensor L3S MERGED OC_PRODUCTS, v3.1"
       ],
       [
        "esacci.OC.day.L3S.OC_PRODUCTS.multi-sensor.multi-platform.MERGED.3-1.sinusoidal",
        "OC CCI: Daily multi-sensor L3S MERGED OC_PRODUCTS, v3.1"
       ],
       [
        "esacci.OC.day.L3S.OC_PRODUCTS.multi-sensor.multi-platform.MERGED.4-2.geographic",
        "OC CCI: Daily multi-sensor L3S MERGED OC_PRODUCTS, v4.2"
       ],
       [
        "esacci.OC.day.L3S.OC_PRODUCTS.multi-sensor.multi-platform.MERGED.4-2.sinusoidal",
        "OC CCI: Daily multi-sensor L3S MERGED OC_PRODUCTS, v4.2"
       ],
       [
        "esacci.OC.day.L3S.RRS.multi-sensor.multi-platform.MERGED.3-1.geographic",
        "OC CCI: Daily multi-sensor L3S MERGED RRS, v3.1"
       ],
       [
        "esacci.OC.day.L3S.RRS.multi-sensor.multi-platform.MERGED.3-1.sinusoidal",
        "OC CCI: Daily multi-sensor L3S MERGED RRS, v3.1"
       ],
       [
        "esacci.OC.day.L3S.RRS.multi-sensor.multi-platform.MERGED.4-2.geographic",
        "OC CCI: Daily multi-sensor L3S MERGED RRS, v4.2"
       ],
       [
        "esacci.OC.day.L3S.RRS.multi-sensor.multi-platform.MERGED.4-2.sinusoidal",
        "OC CCI: Daily multi-sensor L3S MERGED RRS, v4.2"
       ],
       [
        "esacci.OC.mon.L3S.CHLOR_A.multi-sensor.multi-platform.MERGED.3-1.geographic",
        "OC CCI: Monthly multi-sensor L3S MERGED CHLOR_A, v3.1"
       ],
       [
        "esacci.OC.mon.L3S.CHLOR_A.multi-sensor.multi-platform.MERGED.3-1.sinusoidal",
        "OC CCI: Monthly multi-sensor L3S MERGED CHLOR_A, v3.1"
       ],
       [
        "esacci.OC.mon.L3S.CHLOR_A.multi-sensor.multi-platform.MERGED.4-2.geographic",
        "OC CCI: Monthly multi-sensor L3S MERGED CHLOR_A, v4.2"
       ],
       [
        "esacci.OC.mon.L3S.CHLOR_A.multi-sensor.multi-platform.MERGED.4-2.sinusoidal",
        "OC CCI: Monthly multi-sensor L3S MERGED CHLOR_A, v4.2"
       ],
       [
        "esacci.OC.mon.L3S.IOP.multi-sensor.multi-platform.MERGED.3-1.geographic",
        "OC CCI: Monthly multi-sensor L3S MERGED IOP, v3.1"
       ],
       [
        "esacci.OC.mon.L3S.IOP.multi-sensor.multi-platform.MERGED.3-1.sinusoidal",
        "OC CCI: Monthly multi-sensor L3S MERGED IOP, v3.1"
       ],
       [
        "esacci.OC.mon.L3S.IOP.multi-sensor.multi-platform.MERGED.4-2.geographic",
        "OC CCI: Monthly multi-sensor L3S MERGED IOP, v4.2"
       ],
       [
        "esacci.OC.mon.L3S.IOP.multi-sensor.multi-platform.MERGED.4-2.sinusoidal",
        "OC CCI: Monthly multi-sensor L3S MERGED IOP, v4.2"
       ],
       [
        "esacci.OC.mon.L3S.K_490.multi-sensor.multi-platform.MERGED.3-1.geographic",
        "OC CCI: Monthly multi-sensor L3S MERGED K_490, v3.1"
       ],
       [
        "esacci.OC.mon.L3S.K_490.multi-sensor.multi-platform.MERGED.3-1.sinusoidal",
        "OC CCI: Monthly multi-sensor L3S MERGED K_490, v3.1"
       ],
       [
        "esacci.OC.mon.L3S.K_490.multi-sensor.multi-platform.MERGED.4-2.geographic",
        "OC CCI: Monthly multi-sensor L3S MERGED K_490, v4.2"
       ],
       [
        "esacci.OC.mon.L3S.K_490.multi-sensor.multi-platform.MERGED.4-2.sinusoidal",
        "OC CCI: Monthly multi-sensor L3S MERGED K_490, v4.2"
       ],
       [
        "esacci.OC.mon.L3S.OC_PRODUCTS.multi-sensor.multi-platform.MERGED.3-1.geographic",
        "OC CCI: Monthly multi-sensor L3S MERGED OC_PRODUCTS, v3.1"
       ],
       [
        "esacci.OC.mon.L3S.OC_PRODUCTS.multi-sensor.multi-platform.MERGED.3-1.sinusoidal",
        "OC CCI: Monthly multi-sensor L3S MERGED OC_PRODUCTS, v3.1"
       ],
       [
        "esacci.OC.mon.L3S.OC_PRODUCTS.multi-sensor.multi-platform.MERGED.4-2.geographic",
        "OC CCI: Monthly multi-sensor L3S MERGED OC_PRODUCTS, v4.2"
       ],
       [
        "esacci.OC.mon.L3S.OC_PRODUCTS.multi-sensor.multi-platform.MERGED.4-2.sinusoidal",
        "OC CCI: Monthly multi-sensor L3S MERGED OC_PRODUCTS, v4.2"
       ],
       [
        "esacci.OC.mon.L3S.RRS.multi-sensor.multi-platform.MERGED.3-1.geographic",
        "OC CCI: Monthly multi-sensor L3S MERGED RRS, v3.1"
       ],
       [
        "esacci.OC.mon.L3S.RRS.multi-sensor.multi-platform.MERGED.3-1.sinusoidal",
        "OC CCI: Monthly multi-sensor L3S MERGED RRS, v3.1"
       ],
       [
        "esacci.OC.mon.L3S.RRS.multi-sensor.multi-platform.MERGED.4-2.geographic",
        "OC CCI: Monthly multi-sensor L3S MERGED RRS, v4.2"
       ],
       [
        "esacci.OC.mon.L3S.RRS.multi-sensor.multi-platform.MERGED.4-2.sinusoidal",
        "OC CCI: Monthly multi-sensor L3S MERGED RRS, v4.2"
       ],
       [
        "esacci.OZONE.day.L3S.TC.multi-sensor.multi-platform.MERGED.fv0100.r1",
        "OZONE CCI: Daily multi-sensor L3S MERGED TC, vfv0100"
       ],
       [
        "esacci.OZONE.mon.L3.LP.GOMOS.Envisat.GOMOS_ENVISAT.v0001.r1",
        "OZONE CCI: Monthly GOMOS L3 GOMOS_ENVISAT LP, v0001"
       ],
       [
        "esacci.OZONE.mon.L3.LP.MIPAS.Envisat.MIPAS_ENVISAT.v0001.r1",
        "OZONE CCI: Monthly MIPAS L3 MIPAS_ENVISAT LP, v0001"
       ],
       [
        "esacci.OZONE.mon.L3.LP.OSIRIS.ODIN.OSIRIS_ODIN.v0001.r1",
        "OZONE CCI: Monthly OSIRIS L3 OSIRIS_ODIN LP, v0001"
       ],
       [
        "esacci.OZONE.mon.L3.LP.SCIAMACHY.Envisat.SCIAMACHY_ENVISAT.v0001.r1",
        "OZONE CCI: Monthly SCIAMACHY L3 SCIAMACHY_ENVISAT LP, v0001"
       ],
       [
        "esacci.OZONE.mon.L3.LP.SMR.ODIN.MZM.v0001.r1",
        "OZONE CCI: Monthly SMR L3 MZM LP, v0001"
       ],
       [
        "esacci.OZONE.mon.L3.LP.SMR.ODIN.SMR_ODIN.v0001.r1",
        "OZONE CCI: Monthly SMR L3 SMR_ODIN LP, v0001"
       ],
       [
        "esacci.OZONE.mon.L3.NP.multi-sensor.multi-platform.MERGED.fv0002.r1",
        "OZONE CCI: Monthly multi-sensor L3 MERGED NP, vfv0002"
       ],
       [
        "esacci.PERMAFROST.yr.L4.ALT.multi-sensor.multi-platform.MODIS.01-0.r1",
        "PERMAFROST CCI: year multi-sensor L4 MODIS ALT, v01.0"
       ],
       [
        "esacci.PERMAFROST.yr.L4.GTD.multi-sensor.multi-platform.MODIS.01-0.r1",
        "PERMAFROST CCI: year multi-sensor L4 MODIS GTD, v01.0"
       ],
       [
        "esacci.PERMAFROST.yr.L4.PFR.multi-sensor.multi-platform.MODIS.01-0.r1",
        "PERMAFROST CCI: year multi-sensor L4 MODIS PFR, v01.0"
       ],
       [
        "esacci.SEAICE.day.L4.SICONC.multi-sensor.multi-platform.AMSR_25kmEASE2.2-1.NH",
        "SEAICE CCI: Daily multi-sensor L4 AMSR_25kmEASE2 SICONC, v2.1"
       ],
       [
        "esacci.SEAICE.day.L4.SICONC.multi-sensor.multi-platform.AMSR_25kmEASE2.2-1.SH",
        "SEAICE CCI: Daily multi-sensor L4 AMSR_25kmEASE2 SICONC, v2.1"
       ],
       [
        "esacci.SEAICE.day.L4.SICONC.multi-sensor.multi-platform.AMSR_50kmEASE2.2-1.NH",
        "SEAICE CCI: Daily multi-sensor L4 AMSR_50kmEASE2 SICONC, v2.1"
       ],
       [
        "esacci.SEAICE.day.L4.SICONC.multi-sensor.multi-platform.AMSR_50kmEASE2.2-1.SH",
        "SEAICE CCI: Daily multi-sensor L4 AMSR_50kmEASE2 SICONC, v2.1"
       ],
       [
        "esacci.SEAICE.mon.L3C.SITHICK.RA-2.Envisat.NH25KMEASE2.2-0.r1",
        "SEAICE CCI: Monthly RA-2 L3C NH25KMEASE2 SITHICK, v2.0"
       ],
       [
        "esacci.SEAICE.mon.L3C.SITHICK.RA-2.Envisat.SH50KMEASE2.2-0.r1",
        "SEAICE CCI: Monthly RA-2 L3C SH50KMEASE2 SITHICK, v2.0"
       ],
       [
        "esacci.SEAICE.mon.L3C.SITHICK.SIRAL.CryoSat-2.NH25KMEASE2.2-0.r1",
        "SEAICE CCI: Monthly SIRAL L3C NH25KMEASE2 SITHICK, v2.0"
       ],
       [
        "esacci.SEAICE.mon.L3C.SITHICK.SIRAL.CryoSat-2.SH50KMEASE2.2-0.r1",
        "SEAICE CCI: Monthly SIRAL L3C SH50KMEASE2 SITHICK, v2.0"
       ],
       [
        "esacci.SEAICE.satellite-orbit-frequency.L2P.SITHICK.RA-2.Envisat.NH.2-0.r1",
        "SEAICE CCI:  RA-2 L2P NH SITHICK, v2.0"
       ],
       [
        "esacci.SEAICE.satellite-orbit-frequency.L2P.SITHICK.RA-2.Envisat.SH.2-0.r1",
        "SEAICE CCI:  RA-2 L2P SH SITHICK, v2.0"
       ],
       [
        "esacci.SEAICE.satellite-orbit-frequency.L2P.SITHICK.SIRAL.CryoSat-2.NH.2-0.r1",
        "SEAICE CCI:  SIRAL L2P NH SITHICK, v2.0"
       ],
       [
        "esacci.SEAICE.satellite-orbit-frequency.L2P.SITHICK.SIRAL.CryoSat-2.SH.2-0.r1",
        "SEAICE CCI:  SIRAL L2P SH SITHICK, v2.0"
       ],
       [
        "esacci.SEALEVEL.mon.IND.MSL.multi-sensor.multi-platform.MERGED.2-0.r1",
        "SEALEVEL CCI: Monthly multi-sensor IND MERGED MSL, v2.0"
       ],
       [
        "esacci.SEALEVEL.mon.IND.MSLAMPH.multi-sensor.multi-platform.MERGED.2-0.r1",
        "SEALEVEL CCI: Monthly multi-sensor IND MERGED MSLAMPH, v2.0"
       ],
       [
        "esacci.SEALEVEL.mon.IND.MSLTR.multi-sensor.multi-platform.MERGED.2-0.r1",
        "SEALEVEL CCI: Monthly multi-sensor IND MERGED MSLTR, v2.0"
       ],
       [
        "esacci.SEALEVEL.mon.L4.MSLA.multi-sensor.multi-platform.MERGED.2-0.r1",
        "SEALEVEL CCI: Monthly multi-sensor L4 MERGED MSLA, v2.0"
       ],
       [
        "esacci.SEALEVEL.satellite-orbit-frequency.L1.UNSPECIFIED.AltiKa.SARAL.UNSPECIFIED.v2-0.r1",
        "SEALEVEL CCI:  AltiKa L1 UNSPECIFIED UNSPECIFIED, v2.0"
       ],
       [
        "esacci.SEALEVEL.satellite-orbit-frequency.L1.UNSPECIFIED.GFO-RA.GFO.UNSPECIFIED.v2-0.r1",
        "SEALEVEL CCI:  GFO-RA L1 UNSPECIFIED UNSPECIFIED, v2.0"
       ],
       [
        "esacci.SEALEVEL.satellite-orbit-frequency.L1.UNSPECIFIED.Poseidon-2.Jason-1.UNSPECIFIED.v2-0.r1",
        "SEALEVEL CCI:  Poseidon-2 L1 UNSPECIFIED UNSPECIFIED, v2.0"
       ],
       [
        "esacci.SEALEVEL.satellite-orbit-frequency.L1.UNSPECIFIED.Poseidon-3.Jason-2.UNSPECIFIED.v2-0.r1",
        "SEALEVEL CCI:  Poseidon-3 L1 UNSPECIFIED UNSPECIFIED, v2.0"
       ],
       [
        "esacci.SEALEVEL.satellite-orbit-frequency.L1.UNSPECIFIED.RA-2.Envisat.UNSPECIFIED.v2-0.r1",
        "SEALEVEL CCI:  RA-2 L1 UNSPECIFIED UNSPECIFIED, v2.0"
       ],
       [
        "esacci.SEALEVEL.satellite-orbit-frequency.L1.UNSPECIFIED.RA.ERS-1.UNSPECIFIED.v2-0.r1",
        "SEALEVEL CCI:  RA L1 UNSPECIFIED UNSPECIFIED, v2.0"
       ],
       [
        "esacci.SEALEVEL.satellite-orbit-frequency.L1.UNSPECIFIED.RA.ERS-2.UNSPECIFIED.v2-0.r1",
        "SEALEVEL CCI:  RA L1 UNSPECIFIED UNSPECIFIED, v2.0"
       ],
       [
        "esacci.SEALEVEL.satellite-orbit-frequency.L1.UNSPECIFIED.SIRAL.CryoSat-2.UNSPECIFIED.v2-0.r1",
        "SEALEVEL CCI:  SIRAL L1 UNSPECIFIED UNSPECIFIED, v2.0"
       ],
       [
        "esacci.SEALEVEL.satellite-orbit-frequency.L1.UNSPECIFIED.SSALT.Topex-Poseidon.UNSPECIFIED.v2-0.r1",
        "SEALEVEL CCI:  SSALT L1 UNSPECIFIED UNSPECIFIED, v2.0"
       ],
       [
        "esacci.SEASTATE.mon.L4.SWH.multi-sensor.multi-platform.MULTI_1M.1-1.r1",
        "SEASTATE CCI: Monthly multi-sensor L4 MULTI_1M SWH, v1.1"
       ],
       [
        "esacci.SEASTATE.satellite-orbit-frequency.L2P.SWH.AltiKa.SARAL.Saral.1-1.r1",
        "SEASTATE CCI:  AltiKa L2P Saral SWH, v1.1"
       ],
       [
        "esacci.SEASTATE.satellite-orbit-frequency.L2P.SWH.GFO-RA.GFO.GFO.1-1.r1",
        "SEASTATE CCI:  GFO-RA L2P GFO SWH, v1.1"
       ],
       [
        "esacci.SEASTATE.satellite-orbit-frequency.L2P.SWH.NRA.Topex-Poseidon.Topex-Poseidon.1-1.r1",
        "SEASTATE CCI:  NRA L2P Topex-Poseidon SWH, v1.1"
       ],
       [
        "esacci.SEASTATE.satellite-orbit-frequency.L2P.SWH.Poseidon-2.Jason-1.Jason-1.1-1.r1",
        "SEASTATE CCI:  Poseidon-2 L2P Jason-1 SWH, v1.1"
       ],
       [
        "esacci.SEASTATE.satellite-orbit-frequency.L2P.SWH.Poseidon-3.Jason-2.Jason-2.1-1.r1",
        "SEASTATE CCI:  Poseidon-3 L2P Jason-2 SWH, v1.1"
       ],
       [
        "esacci.SEASTATE.satellite-orbit-frequency.L2P.SWH.Poseidon-3B.Jason-3.Jason-3.1-1.r1",
        "SEASTATE CCI:  Poseidon-3B L2P Jason-3 SWH, v1.1"
       ],
       [
        "esacci.SEASTATE.satellite-orbit-frequency.L2P.SWH.RA-2.Envisat.Envisat.1-1.r1",
        "SEASTATE CCI:  RA-2 L2P Envisat SWH, v1.1"
       ],
       [
        "esacci.SEASTATE.satellite-orbit-frequency.L2P.SWH.RA.ERS-1.ERS-1.1-1.r1",
        "SEASTATE CCI:  RA L2P ERS-1 SWH, v1.1"
       ],
       [
        "esacci.SEASTATE.satellite-orbit-frequency.L2P.SWH.RA.ERS-2.ERS-2.1-1.r1",
        "SEASTATE CCI:  RA L2P ERS-2 SWH, v1.1"
       ],
       [
        "esacci.SEASTATE.satellite-orbit-frequency.L2P.SWH.SIRAL.CryoSat-2.CryoSat-2.1-1.r1",
        "SEASTATE CCI:  SIRAL L2P CryoSat-2 SWH, v1.1"
       ],
       [
        "esacci.SEASTATE.satellite-orbit-frequency.L3.SWH.multi-sensor.multi-platform.MULTI_1D.1-1.r1",
        "SEASTATE CCI:  multi-sensor L3 MULTI_1D SWH, v1.1"
       ],
       [
        "esacci.SEASURFACESALINITY.15-days.L4.SSS.multi-sensor.multi-platform.MERGED_OI_Monthly_CENTRED_15Day_25km.2-31.r1",
        "SEASURFACESALINITY CCI: 15 day multi-sensor L4 MERGED_OI_Monthly_CENTRED_15Day_25km SSS, v2.31"
       ],
       [
        "esacci.SEASURFACESALINITY.day.L4.SSS.multi-sensor.multi-platform.MERGED_OI_7DAY_RUNNINGMEAN_DAILY_25km.2-31.r1",
        "SEASURFACESALINITY CCI: Daily multi-sensor L4 MERGED_OI_7DAY_RUNNINGMEAN_DAILY_25km SSS, v2.31"
       ],
       [
        "esacci.SNOW.day.L3C.SWE.multi-sensor.multi-platform.MERGED.1-0.r1",
        "SNOW CCI: Daily multi-sensor L3C MERGED SWE, v1.0"
       ],
       [
        "esacci.SOILMOISTURE.day.L3S.SSMS.multi-sensor.multi-platform.ACTIVE.04-7.r1",
        "SOILMOISTURE CCI: Daily multi-sensor L3S ACTIVE SSMS, v04.7"
       ],
       [
        "esacci.SOILMOISTURE.day.L3S.SSMV.multi-sensor.multi-platform.COMBINED.04-7.r1",
        "SOILMOISTURE CCI: Daily multi-sensor L3S COMBINED SSMV, v04.7"
       ],
       [
        "esacci.SOILMOISTURE.day.L3S.SSMV.multi-sensor.multi-platform.PASSIVE.04-7.r1",
        "SOILMOISTURE CCI: Daily multi-sensor L3S PASSIVE SSMV, v04.7"
       ],
       [
        "esacci.SST.climatology.L4.SSTdepth.multi-sensor.multi-platform.OSTIA.2-1.r1",
        "SST CCI:  multi-sensor L4 OSTIA SSTdepth, v2.1"
       ],
       [
        "esacci.SST.day.L3C.SSTskin.AATSR.Envisat.AATSR.2-1.day",
        "SST CCI: Daily AATSR L3C AATSR SSTskin, v2.1"
       ],
       [
        "esacci.SST.day.L3C.SSTskin.AATSR.Envisat.AATSR.2-1.night",
        "SST CCI: Daily AATSR L3C AATSR SSTskin, v2.1"
       ],
       [
        "esacci.SST.day.L3C.SSTskin.ATSR-2.ERS-2.ATSR2.2-1.day",
        "SST CCI: Daily ATSR-2 L3C ATSR2 SSTskin, v2.1"
       ],
       [
        "esacci.SST.day.L3C.SSTskin.ATSR-2.ERS-2.ATSR2.2-1.night",
        "SST CCI: Daily ATSR-2 L3C ATSR2 SSTskin, v2.1"
       ],
       [
        "esacci.SST.day.L3C.SSTskin.ATSR.ERS-1.ATSR1.2-1.day",
        "SST CCI: Daily ATSR L3C ATSR1 SSTskin, v2.1"
       ],
       [
        "esacci.SST.day.L3C.SSTskin.ATSR.ERS-1.ATSR1.2-1.night",
        "SST CCI: Daily ATSR L3C ATSR1 SSTskin, v2.1"
       ],
       [
        "esacci.SST.day.L3C.SSTskin.AVHRR-2.NOAA-11.AVHRR11_G.2-1.day",
        "SST CCI: Daily AVHRR-2 L3C AVHRR11_G SSTskin, v2.1"
       ],
       [
        "esacci.SST.day.L3C.SSTskin.AVHRR-2.NOAA-11.AVHRR11_G.2-1.night",
        "SST CCI: Daily AVHRR-2 L3C AVHRR11_G SSTskin, v2.1"
       ],
       [
        "esacci.SST.day.L3C.SSTskin.AVHRR-2.NOAA-12.AVHRR12_G.2-1.day",
        "SST CCI: Daily AVHRR-2 L3C AVHRR12_G SSTskin, v2.1"
       ],
       [
        "esacci.SST.day.L3C.SSTskin.AVHRR-2.NOAA-12.AVHRR12_G.2-1.night",
        "SST CCI: Daily AVHRR-2 L3C AVHRR12_G SSTskin, v2.1"
       ],
       [
        "esacci.SST.day.L3C.SSTskin.AVHRR-2.NOAA-14.AVHRR14_G.2-1.day",
        "SST CCI: Daily AVHRR-2 L3C AVHRR14_G SSTskin, v2.1"
       ],
       [
        "esacci.SST.day.L3C.SSTskin.AVHRR-2.NOAA-14.AVHRR14_G.2-1.night",
        "SST CCI: Daily AVHRR-2 L3C AVHRR14_G SSTskin, v2.1"
       ],
       [
        "esacci.SST.day.L3C.SSTskin.AVHRR-2.NOAA-7.AVHRR07_G.2-1.day",
        "SST CCI: Daily AVHRR-2 L3C AVHRR07_G SSTskin, v2.1"
       ],
       [
        "esacci.SST.day.L3C.SSTskin.AVHRR-2.NOAA-7.AVHRR07_G.2-1.night",
        "SST CCI: Daily AVHRR-2 L3C AVHRR07_G SSTskin, v2.1"
       ],
       [
        "esacci.SST.day.L3C.SSTskin.AVHRR-2.NOAA-9.AVHRR09_G.2-1.day",
        "SST CCI: Daily AVHRR-2 L3C AVHRR09_G SSTskin, v2.1"
       ],
       [
        "esacci.SST.day.L3C.SSTskin.AVHRR-2.NOAA-9.AVHRR09_G.2-1.night",
        "SST CCI: Daily AVHRR-2 L3C AVHRR09_G SSTskin, v2.1"
       ],
       [
        "esacci.SST.day.L3C.SSTskin.AVHRR-3.Metop-A.AVHRRMTA_G.2-1.day",
        "SST CCI: Daily AVHRR-3 L3C AVHRRMTA_G SSTskin, v2.1"
       ],
       [
        "esacci.SST.day.L3C.SSTskin.AVHRR-3.Metop-A.AVHRRMTA_G.2-1.night",
        "SST CCI: Daily AVHRR-3 L3C AVHRRMTA_G SSTskin, v2.1"
       ],
       [
        "esacci.SST.day.L3C.SSTskin.AVHRR-3.NOAA-15.AVHRR15_G.2-1.day",
        "SST CCI: Daily AVHRR-3 L3C AVHRR15_G SSTskin, v2.1"
       ],
       [
        "esacci.SST.day.L3C.SSTskin.AVHRR-3.NOAA-15.AVHRR15_G.2-1.night",
        "SST CCI: Daily AVHRR-3 L3C AVHRR15_G SSTskin, v2.1"
       ],
       [
        "esacci.SST.day.L3C.SSTskin.AVHRR-3.NOAA-16.AVHRR16_G.2-1.day",
        "SST CCI: Daily AVHRR-3 L3C AVHRR16_G SSTskin, v2.1"
       ],
       [
        "esacci.SST.day.L3C.SSTskin.AVHRR-3.NOAA-16.AVHRR16_G.2-1.night",
        "SST CCI: Daily AVHRR-3 L3C AVHRR16_G SSTskin, v2.1"
       ],
       [
        "esacci.SST.day.L3C.SSTskin.AVHRR-3.NOAA-17.AVHRR17_G.2-1.day",
        "SST CCI: Daily AVHRR-3 L3C AVHRR17_G SSTskin, v2.1"
       ],
       [
        "esacci.SST.day.L3C.SSTskin.AVHRR-3.NOAA-17.AVHRR17_G.2-1.night",
        "SST CCI: Daily AVHRR-3 L3C AVHRR17_G SSTskin, v2.1"
       ],
       [
        "esacci.SST.day.L3C.SSTskin.AVHRR-3.NOAA-18.AVHRR18_G.2-1.day",
        "SST CCI: Daily AVHRR-3 L3C AVHRR18_G SSTskin, v2.1"
       ],
       [
        "esacci.SST.day.L3C.SSTskin.AVHRR-3.NOAA-18.AVHRR18_G.2-1.night",
        "SST CCI: Daily AVHRR-3 L3C AVHRR18_G SSTskin, v2.1"
       ],
       [
        "esacci.SST.day.L3C.SSTskin.AVHRR-3.NOAA-19.AVHRR19_G.2-1.day",
        "SST CCI: Daily AVHRR-3 L3C AVHRR19_G SSTskin, v2.1"
       ],
       [
        "esacci.SST.day.L3C.SSTskin.AVHRR-3.NOAA-19.AVHRR19_G.2-1.night",
        "SST CCI: Daily AVHRR-3 L3C AVHRR19_G SSTskin, v2.1"
       ],
       [
        "esacci.SST.day.L4.SSTdepth.multi-sensor.multi-platform.OSTIA.1-1.r1",
        "SST CCI: Daily multi-sensor L4 OSTIA SSTdepth, v1.1"
       ],
       [
        "esacci.SST.day.L4.SSTdepth.multi-sensor.multi-platform.OSTIA.2-1.anomaly",
        "SST CCI: Daily multi-sensor L4 OSTIA SSTdepth, v2.1"
       ],
       [
        "esacci.SST.day.L4.SSTdepth.multi-sensor.multi-platform.OSTIA.2-1.sst",
        "SST CCI: Daily multi-sensor L4 OSTIA SSTdepth, v2.1"
       ],
       [
        "esacci.SST.day.L4.SSTskin.Unspecified.Unspecified.GMPE.2-0.r1",
        "SST CCI: Daily Unspecified L4 GMPE SSTskin, v2.0"
       ],
       [
        "esacci.SST.satellite-orbit-frequency.L2P.SSTskin.AATSR.Envisat.AATSR.2-1.r1",
        "SST CCI:  AATSR L2P AATSR SSTskin, v2.1"
       ],
       [
        "esacci.SST.satellite-orbit-frequency.L2P.SSTskin.ATSR-2.ERS-2.ATSR2.2-1.r1",
        "SST CCI:  ATSR-2 L2P ATSR2 SSTskin, v2.1"
       ],
       [
        "esacci.SST.satellite-orbit-frequency.L2P.SSTskin.ATSR.ERS-1.ATSR1.2-1.r1",
        "SST CCI:  ATSR L2P ATSR1 SSTskin, v2.1"
       ],
       [
        "esacci.SST.satellite-orbit-frequency.L2P.SSTskin.AVHRR-2.NOAA-11.AVHRR11_G.2-1.r1",
        "SST CCI:  AVHRR-2 L2P AVHRR11_G SSTskin, v2.1"
       ],
       [
        "esacci.SST.satellite-orbit-frequency.L2P.SSTskin.AVHRR-2.NOAA-12.AVHRR12_G.2-1.r1",
        "SST CCI:  AVHRR-2 L2P AVHRR12_G SSTskin, v2.1"
       ],
       [
        "esacci.SST.satellite-orbit-frequency.L2P.SSTskin.AVHRR-2.NOAA-14.AVHRR14_G.2-1.r1",
        "SST CCI:  AVHRR-2 L2P AVHRR14_G SSTskin, v2.1"
       ],
       [
        "esacci.SST.satellite-orbit-frequency.L2P.SSTskin.AVHRR-2.NOAA-7.AVHRR07_G.2-1.r1",
        "SST CCI:  AVHRR-2 L2P AVHRR07_G SSTskin, v2.1"
       ],
       [
        "esacci.SST.satellite-orbit-frequency.L2P.SSTskin.AVHRR-2.NOAA-9.AVHRR09_G.2-1.r1",
        "SST CCI:  AVHRR-2 L2P AVHRR09_G SSTskin, v2.1"
       ],
       [
        "esacci.SST.satellite-orbit-frequency.L2P.SSTskin.AVHRR-3.Metop-A.AVHRRMTA_G.2-1.r1",
        "SST CCI:  AVHRR-3 L2P AVHRRMTA_G SSTskin, v2.1"
       ],
       [
        "esacci.SST.satellite-orbit-frequency.L2P.SSTskin.AVHRR-3.NOAA-15.AVHRR15_G.2-1.r1",
        "SST CCI:  AVHRR-3 L2P AVHRR15_G SSTskin, v2.1"
       ],
       [
        "esacci.SST.satellite-orbit-frequency.L2P.SSTskin.AVHRR-3.NOAA-16.AVHRR16_G.2-1.r1",
        "SST CCI:  AVHRR-3 L2P AVHRR16_G SSTskin, v2.1"
       ],
       [
        "esacci.SST.satellite-orbit-frequency.L2P.SSTskin.AVHRR-3.NOAA-17.AVHRR17_G.2-1.r1",
        "SST CCI:  AVHRR-3 L2P AVHRR17_G SSTskin, v2.1"
       ],
       [
        "esacci.SST.satellite-orbit-frequency.L2P.SSTskin.AVHRR-3.NOAA-18.AVHRR18_G.2-1.r1",
        "SST CCI:  AVHRR-3 L2P AVHRR18_G SSTskin, v2.1"
       ],
       [
        "esacci.SST.satellite-orbit-frequency.L2P.SSTskin.AVHRR-3.NOAA-19.AVHRR19_G.2-1.r1",
        "SST CCI:  AVHRR-3 L2P AVHRR19_G SSTskin, v2.1"
       ],
       [
        "esacci.SST.satellite-orbit-frequency.L3U.SSTskin.AATSR.Envisat.AATSR.2-1.r1",
        "SST CCI:  AATSR L3U AATSR SSTskin, v2.1"
       ],
       [
        "esacci.SST.satellite-orbit-frequency.L3U.SSTskin.ATSR-2.ERS-2.ATSR2.2-1.r1",
        "SST CCI:  ATSR-2 L3U ATSR2 SSTskin, v2.1"
       ],
       [
        "esacci.SST.satellite-orbit-frequency.L3U.SSTskin.ATSR.ERS-1.ATSR1.2-1.r1",
        "SST CCI:  ATSR L3U ATSR1 SSTskin, v2.1"
       ],
       [
        "esacci.SST.satellite-orbit-frequency.L3U.SSTskin.AVHRR-2.NOAA-11.AVHRR11_G.2-1.r1",
        "SST CCI:  AVHRR-2 L3U AVHRR11_G SSTskin, v2.1"
       ],
       [
        "esacci.SST.satellite-orbit-frequency.L3U.SSTskin.AVHRR-2.NOAA-12.AVHRR12_G.2-1.r1",
        "SST CCI:  AVHRR-2 L3U AVHRR12_G SSTskin, v2.1"
       ],
       [
        "esacci.SST.satellite-orbit-frequency.L3U.SSTskin.AVHRR-2.NOAA-14.AVHRR14_G.2-1.r1",
        "SST CCI:  AVHRR-2 L3U AVHRR14_G SSTskin, v2.1"
       ],
       [
        "esacci.SST.satellite-orbit-frequency.L3U.SSTskin.AVHRR-2.NOAA-7.AVHRR07_G.2-1.r1",
        "SST CCI:  AVHRR-2 L3U AVHRR07_G SSTskin, v2.1"
       ],
       [
        "esacci.SST.satellite-orbit-frequency.L3U.SSTskin.AVHRR-2.NOAA-9.AVHRR09_G.2-1.r1",
        "SST CCI:  AVHRR-2 L3U AVHRR09_G SSTskin, v2.1"
       ],
       [
        "esacci.SST.satellite-orbit-frequency.L3U.SSTskin.AVHRR-3.Metop-A.AVHRRMTA_G.2-1.r1",
        "SST CCI:  AVHRR-3 L3U AVHRRMTA_G SSTskin, v2.1"
       ],
       [
        "esacci.SST.satellite-orbit-frequency.L3U.SSTskin.AVHRR-3.NOAA-15.AVHRR15_G.2-1.r1",
        "SST CCI:  AVHRR-3 L3U AVHRR15_G SSTskin, v2.1"
       ],
       [
        "esacci.SST.satellite-orbit-frequency.L3U.SSTskin.AVHRR-3.NOAA-16.AVHRR16_G.2-1.r1",
        "SST CCI:  AVHRR-3 L3U AVHRR16_G SSTskin, v2.1"
       ],
       [
        "esacci.SST.satellite-orbit-frequency.L3U.SSTskin.AVHRR-3.NOAA-17.AVHRR17_G.2-1.r1",
        "SST CCI:  AVHRR-3 L3U AVHRR17_G SSTskin, v2.1"
       ],
       [
        "esacci.SST.satellite-orbit-frequency.L3U.SSTskin.AVHRR-3.NOAA-18.AVHRR18_G.2-1.r1",
        "SST CCI:  AVHRR-3 L3U AVHRR18_G SSTskin, v2.1"
       ],
       [
        "esacci.SST.satellite-orbit-frequency.L3U.SSTskin.AVHRR-3.NOAA-19.AVHRR19_G.2-1.r1",
        "SST CCI:  AVHRR-3 L3U AVHRR19_G SSTskin, v2.1"
       ]
      ],
      "text/plain": [
       "<IPython.core.display.JSON object>"
      ]
     },
     "execution_count": 7,
     "metadata": {
      "application/json": {
       "expanded": false,
       "root": "root"
      }
     },
     "output_type": "execute_result"
    }
   ],
   "source": [
    "JSON(list(store.get_data_ids()))"
   ]
  },
  {
   "cell_type": "markdown",
   "metadata": {},
   "source": [
    "Which in-memory data types are provided?\n",
    "\n",
    "- `dataset` --> `xarray.Dataset` (Gridded data)\n",
    "- `mldataset` -->  `xcube.core.mlds.MultiLevelDataset`  (Gridded data, multi-resolution pyramid)\n",
    "- `geodataframe` --> `geopandas.GeoDataFrame` (Vector data) \n"
   ]
  },
  {
   "cell_type": "code",
   "execution_count": 8,
   "metadata": {},
   "outputs": [
    {
     "data": {
      "text/plain": [
       "('dataset:zarr:cciodp',)"
      ]
     },
     "execution_count": 8,
     "metadata": {},
     "output_type": "execute_result"
    }
   ],
   "source": [
    "store.get_data_opener_ids()"
   ]
  },
  {
   "cell_type": "markdown",
   "metadata": {},
   "source": [
    "We may ask for a specific type of data ..."
   ]
  },
  {
   "cell_type": "code",
   "execution_count": 10,
   "metadata": {},
   "outputs": [
    {
     "data": {
      "text/plain": [
       "True"
      ]
     },
     "execution_count": 10,
     "metadata": {},
     "output_type": "execute_result"
    }
   ],
   "source": [
    "store.has_data('esacci.OC.5-days.L3S.CHLOR_A.multi-sensor.multi-platform.MERGED.3-1.geographic')"
   ]
  },
  {
   "cell_type": "markdown",
   "metadata": {},
   "source": [
    "... but in many cases we want to query for certain criteria. How can we do that?"
   ]
  },
  {
   "cell_type": "code",
   "execution_count": 9,
   "metadata": {},
   "outputs": [
    {
     "data": {
      "application/json": {
       "additionalProperties": false,
       "properties": {
        "bbox": {
         "items": [
          {
           "type": "number"
          },
          {
           "type": "number"
          },
          {
           "type": "number"
          },
          {
           "type": "number"
          }
         ],
         "type": "array"
        },
        "data_type": {
         "enum": [
          "IV",
          "AER_PRODUCTS",
          "LP",
          "SITHICK",
          "CH4",
          "CLD_PRODUCTS",
          "GMB",
          "SSTskin",
          "CO2",
          "BA",
          "CHLOR_A",
          "K_490",
          "SSMV",
          "IOP",
          "OC_PRODUCTS",
          "RRS",
          "SEC",
          "SSTdepth",
          "SWH",
          "AAI",
          "AOD",
          "GLL",
          "LCCS",
          "SICONC",
          "SSMS",
          "SSS",
          "AEX",
          "NP",
          "TC",
          "WB"
         ],
         "type": "string"
        },
        "ecv": {
         "enum": [
          "ICESHEETS",
          "AEROSOL",
          "OC",
          "GHG",
          "OZONE",
          "SEAICE",
          "SST",
          "CLOUD",
          "SOILMOISTURE",
          "FIRE",
          "LC",
          "SEASTATE",
          "SEASURFACESALINITY",
          "GLACIERS",
          "SEALEVEL"
         ],
         "type": "string"
        },
        "end_date": {
         "format": "date-time",
         "type": "string"
        },
        "frequency": {
         "enum": [
          "month",
          "day",
          "satellite orbit frequency5 days",
          "8 days",
          "climatology",
          "13 years",
          "15 days",
          "5 years",
          "year"
         ],
         "type": "string"
        },
        "institute": {
         "enum": [
          "Plymouth Marine Laboratory",
          "Alfred-Wegener-Institut Helmholtz-Zentrum für Polar- und Meeresforschung",
          "ENVironmental Earth Observation IT GmbH",
          "multi-institution",
          "DTU Space",
          "Vienna University of Technology",
          "Deutscher Wetterdienst",
          "Netherlands Institute for Space Research",
          "Technische Universität Dresden",
          "Institute of Environmental Physics",
          "Rutherford Appleton Laboratory",
          "Universite Catholique de Louvain",
          "University of Alcala",
          "University of Leicester",
          "Norwegian Meteorological Institute",
          "University of Bremen",
          "Belgian Institute for Space Aeronomy",
          "Deutsches Zentrum fuer Luft- und Raumfahrt",
          "Freie Universitaet Berlin",
          "Royal Netherlands Meteorological Institute",
          "The Geological Survey of Denmark and Greenland"
         ],
         "type": "string"
        },
        "platform": {
         "enum": [
          "Envisat",
          "ERS-2",
          "GOSAT",
          "CryoSat-2",
          "GRACE",
          "ERS-1",
          "Metop-A",
          "NOAA-11",
          "NOAA-12",
          "NOAA-14",
          "NOAA-15",
          "NOAA-16",
          "NOAA-17",
          "NOAA-18",
          "NOAA-19",
          "NOAA-7",
          "NOAA-9",
          "ODIN",
          "Terra",
          "GFO",
          "Jason-1",
          "Jason-2",
          "SARAL",
          "Aqua",
          "RadarSat-2"
         ],
         "type": "string"
        },
        "processing_level": {
         "enum": [
          "L3S",
          "L3C",
          "L2P",
          "L4",
          "L2L3",
          "L3U"
         ],
         "type": "string"
        },
        "product_string": {
         "enum": [
          "MERGED (20)",
          "ADV ",
          "ORAC",
          "SU",
          "AATSR",
          "ATSR1",
          "ATSR2",
          "AVHRR07_G",
          "AVHRR09_G",
          "AVHRR11_G",
          "AVHRR12_G",
          "AVHRR14_G",
          "AVHRR15_G",
          "AVHRR16_G",
          "AVHRR17_G",
          "AVHRR18_G",
          "AVHRR19_G",
          "AVHRRMTA_G",
          "MODIS_TERRA",
          "Map",
          "OSTIA",
          "ACTIVE",
          "COMBINED",
          "EMMA",
          "MERIS_ENVISAT",
          "MSI",
          "OCFP",
          "PASSIVE",
          "SRFP",
          "WFMD",
          "ACE_FTS_SCISAT",
          "AERGOM",
          "AMSR_25kmEASE2",
          "AMSR_50kmEASE2",
          "ATSR2-AATSR",
          "ATSR2_ERS2",
          "AVHRR-AM",
          "AVHRR-PM",
          "BESD",
          "Envisat",
          "GFO",
          "GOMOS_ENVISAT",
          "IMAP",
          "MERGED_OI_7DAY_RUNNINGMEAN_DAILY_25km",
          "MERGED_OI_Monthly_CENTRED_15Day_25km",
          "MERIS-AATSR",
          "MIPAS_ENVISAT",
          "MODIS_AQUA",
          "MZM",
          "OCPR",
          "OSIRIS_ODIN",
          "SCIAMACHY_ENVISAT",
          "SMM",
          "SMR_ODIN",
          "SRPR",
          "Saral"
         ],
         "type": "string"
        },
        "product_version": {
         "enum": [
          "1.1",
          "2.0",
          "esp 2.1",
          "2.1",
          "4.0",
          "3.1",
          "undefined",
          "v0001",
          "1.2",
          "v1.0",
          "03.02",
          "2.30",
          "4.21",
          "04.4",
          "04.5",
          "1.0",
          "2.2",
          "v1.1",
          "v1.2",
          "v2.3.8",
          "01.08",
          "v0002",
          "v1.3",
          "v4.0",
          "0.1",
          "1.3",
          "1.5.7",
          "1.6.1",
          "2.0.7",
          "2.19",
          "3.0",
          "4-0",
          "4.21u",
          "ch4_v1.2",
          "fv0002",
          "fv0100",
          "v0.1",
          "v02.01.02",
          "v1.4",
          "v1.5",
          "v2-1",
          "v2.0",
          "v2.2",
          "v2.2a",
          "v2.2b",
          "v2.2c",
          "v3.0",
          "v5.1",
          "v7-0-1",
          "v7.0",
          "v7.2"
         ],
         "type": "string"
        },
        "sensor": {
         "enum": [
          "ATSR-2",
          "AATSR",
          "TANSO-FTS",
          "RA-2",
          "SCIAMACHY",
          "SIRAL",
          "MODIS",
          "ATSR",
          "AVHRR-2",
          "AVHRR-3",
          "GOMOS",
          "MERIS",
          "RA",
          "SMR",
          "ACE-FTS",
          "AMI-SCAT",
          "ASAR",
          "AltiKa",
          "GFO-RA",
          "MIPAS",
          "OSIRIS",
          "Poseidon-2",
          "Poseidon-3"
         ],
         "type": "string"
        },
        "start_date": {
         "format": "date-time",
         "type": "string"
        }
       },
       "type": "object"
      },
      "text/plain": [
       "<xcube.util.jsonschema.JsonObjectSchema at 0x1e28c90cc08>"
      ]
     },
     "execution_count": 9,
     "metadata": {},
     "output_type": "execute_result"
    }
   ],
   "source": [
    "store.get_search_params_schema()"
   ]
  },
  {
   "cell_type": "markdown",
   "metadata": {},
   "source": [
    "Now search."
   ]
  },
  {
   "cell_type": "code",
   "execution_count": 10,
   "metadata": {},
   "outputs": [
    {
     "data": {
      "application/json": [
       {
        "attrs": {
         "Conventions": "CF-1.5",
         "abstract": "This dataset comprises gridded limb ozone monthly zonal mean profiles from the GOMOS instrument. \n\nThe data are zonal mean time series (10° latitude bin) and include uncertainty/variability of the Monthly Zonal Mean.\n\nThe monthly zonal mean (MZM) data set provides ozone profiles averaged in 10° latitude zones from 90°S to 90°N, for each month. The monthly zonal mean data are structured into yearly netcdf files, for each instrument separately. The filename indicates the instrument and the year. For example, the file “ESACCI-OZONE-L3-LP-GOMOS_ENVISAT-MZM-2008.nc” contains monthly zonal mean data for GOMOS in 2008.",
         "address": "P.O.Box 503, 00101 Helsinki, Finland",
         "bbox_maxx": "180.0",
         "bbox_maxy": "90.0",
         "bbox_minx": "-180.0",
         "bbox_miny": "-90.0",
         "cci_project": "OZONE",
         "comment": "Definitions of parameters and data processing is described in the dedicated Technical Note",
         "creation_date": "2016-03-08T16:53:40",
         "creator_email": "viktoria.sofieva@fmi.fi",
         "creator_name": "Viktoria Sofieva",
         "data_type": "LP",
         "date_created": "20130412T110122",
         "drs_id": "esacci.OZONE.mon.L3.LP.GOMOS.Envisat.GOMOS_ENVISAT.v0001.r1",
         "ecv": "OZONE",
         "fid": "b431fbecf73c4442ad5d7bcf80929b03",
         "file_formats": [
          ".nc",
          ".txt"
         ],
         "file_version": "fv0001",
         "geospatial_lat_max": "90",
         "geospatial_lat_min": "-90",
         "geospatial_lat_resolution": "10 deg ",
         "licences": "Use of these data is covered by the following licence: http://licences.ceda.ac.uk/image/data_access_condition/esacci_ozone_terms_and_conditions.pdf . When using these data you must cite them correctly using the citation given on the CEDA Data Catalogue record.",
         "license": "ozone_cci guidelines",
         "metadata_url": "https://catalogue.ceda.ac.uk/export/xml/b431fbecf73c4442ad5d7bcf80929b03.xml",
         "naming_authority": "FMI - Finnish Meteorological Institute",
         "number_of_latitude_bins": "18",
         "number_of_months": "5",
         "number_of_pressure_levels": "51",
         "odd_url": "http://opensearch-test.ceda.ac.uk/opensearch/description.xml?parentIdentifier=b431fbecf73c4442ad5d7bcf80929b03",
         "platform": "Envisat",
         "platform_id": "Envisat",
         "processing_level": "L3",
         "product_string": "GOMOS_ENVISAT",
         "product_version": "v0001",
         "publication_date": "2016-03-08T16:53:40",
         "restriction": "Restricted under the use of ozone cci guidelines",
         "sensor": "GOMOS",
         "sensor_id": "GOMOS",
         "standard_name_vocabulary": "NetCDF Climate and Forecast(CF) Metadata Convention version 18",
         "summary": "Monthly zonal mean ozone profiles in 10-deg latitude zones and data uncertainty characterization",
         "temporal_coverage_end": "2011-12-31T00:00:00",
         "temporal_coverage_start": "2002-01-01T00:00:00",
         "time_frequency": "month",
         "title": "ESA Ozone Climate Change Initiative (Ozone CCI): GOMOS Level 3 Limb Ozone Monthly Zonal Mean (MZM) Profiles, Version 1",
         "uuid": "b431fbecf73c4442ad5d7bcf80929b03",
         "value_for_nodata": "NaN",
         "variables": [
          {
           "long_name": "Sample standard deviation in 1 month x10 deg bins",
           "name": "sample_standard_deviation",
           "units": "%"
          },
          {
           "long_name": "approximate altitude corresponding to pressure levels",
           "name": "approximate_altitude",
           "units": "km"
          },
          {
           "long_name": "centers of latitude bins",
           "name": "latitude_centers",
           "units": "degrees_north"
          },
          {
           "long_name": "inhomogeneity measure in latitude",
           "name": "inhomogeneity_in_latitude",
           "units": "1"
          },
          {
           "long_name": "inhomogeneity measure in time",
           "name": "inhomogeneity_in_time",
           "units": "1"
          },
          {
           "long_name": "mean of error estimates",
           "name": "mean_uncertainty_estimate",
           "units": "%"
          },
          {
           "long_name": "uncertainty of the monthly zonal mean data",
           "name": "standard_error_of_the_mean",
           "units": "%"
          },
          {
           "long_name": null,
           "name": "air_pressure",
           "units": "hPa"
          },
          {
           "long_name": null,
           "name": "ozone_mole_concentation",
           "units": "mol cm-3"
          },
          {
           "long_name": null,
           "name": "ozone_mixing_ratio",
           "units": "1"
          },
          {
           "long_name": null,
           "name": "time",
           "units": ""
          }
         ],
         "year": "2002"
        },
        "bbox": [
         -180,
         -90,
         180,
         90
        ],
        "data_id": "esacci.OZONE.mon.L3.LP.GOMOS.Envisat.GOMOS_ENVISAT.v0001.r1",
        "data_vars": [
         {
          "attrs": {
           "chunk_sizes": 18,
           "data_type": "float32",
           "dimensions": [
            "latitude_centers"
           ],
           "long_name": "centers of latitude bins",
           "size": 18,
           "standard_name": "latitude",
           "units": "degrees_north"
          },
          "dims": [
           "time",
           "lat",
           "lon"
          ],
          "dtype": "float32",
          "name": "latitude_centers",
          "ndim": 3
         },
         {
          "attrs": {
           "chunk_sizes": [
            5,
            51,
            18
           ],
           "data_type": "float64",
           "dimensions": [
            "time",
            "air_pressure",
            "latitude_centers"
           ],
           "size": 4590,
           "standard_name": "mole_fraction_of_ozone_in_air",
           "units": "1"
          },
          "dims": [
           "time",
           "air_pressure",
           "lat",
           "lon"
          ],
          "dtype": "float64",
          "name": "ozone_mixing_ratio",
          "ndim": 4
         },
         {
          "attrs": {
           "chunk_sizes": [
            5,
            51,
            18
           ],
           "data_type": "float64",
           "dimensions": [
            "time",
            "air_pressure",
            "latitude_centers"
           ],
           "size": 4590,
           "standard_name": "mole_concentration_of_ozone_in_air",
           "units": "mol cm-3"
          },
          "dims": [
           "time",
           "air_pressure",
           "lat",
           "lon"
          ],
          "dtype": "float64",
          "name": "ozone_mole_concentation",
          "ndim": 4
         },
         {
          "attrs": {
           "chunk_sizes": [
            5,
            51,
            18
           ],
           "data_type": "float32",
           "dimensions": [
            "time",
            "air_pressure",
            "latitude_centers"
           ],
           "long_name": "uncertainty of the monthly zonal  mean data",
           "size": 4590,
           "units": "%"
          },
          "dims": [
           "time",
           "air_pressure",
           "lat",
           "lon"
          ],
          "dtype": "float32",
          "name": "standard_error_of_the_mean",
          "ndim": 4
         },
         {
          "attrs": {
           "chunk_sizes": [
            5,
            51,
            18
           ],
           "data_type": "float32",
           "dimensions": [
            "time",
            "air_pressure",
            "latitude_centers"
           ],
           "long_name": "Sample standard deviation in 1 month x10 deg bins",
           "size": 4590,
           "units": "%"
          },
          "dims": [
           "time",
           "air_pressure",
           "lat",
           "lon"
          ],
          "dtype": "float32",
          "name": "sample_standard_deviation",
          "ndim": 4
         },
         {
          "attrs": {
           "chunk_sizes": [
            5,
            51,
            18
           ],
           "data_type": "float32",
           "dimensions": [
            "time",
            "air_pressure",
            "latitude_centers"
           ],
           "long_name": "mean of error estimates",
           "size": 4590,
           "units": "%"
          },
          "dims": [
           "time",
           "air_pressure",
           "lat",
           "lon"
          ],
          "dtype": "float32",
          "name": "mean_uncertainty_estimate",
          "ndim": 4
         },
         {
          "attrs": {
           "chunk_sizes": [
            5,
            51,
            18
           ],
           "data_type": "float32",
           "dimensions": [
            "time",
            "air_pressure",
            "latitude_centers"
           ],
           "long_name": "inhomogeneity measure in time",
           "size": 4590,
           "units": "1"
          },
          "dims": [
           "time",
           "air_pressure",
           "lat",
           "lon"
          ],
          "dtype": "float32",
          "name": "inhomogeneity_in_time",
          "ndim": 4
         },
         {
          "attrs": {
           "chunk_sizes": [
            5,
            51,
            18
           ],
           "data_type": "float32",
           "dimensions": [
            "time",
            "air_pressure",
            "latitude_centers"
           ],
           "long_name": "inhomogeneity measure in latitude",
           "size": 4590,
           "units": "1"
          },
          "dims": [
           "time",
           "air_pressure",
           "lat",
           "lon"
          ],
          "dtype": "float32",
          "name": "inhomogeneity_in_latitude",
          "ndim": 4
         }
        ],
        "dims": {
         "air_pressure": 51,
         "lat": 18,
         "lon": 36,
         "time": 5
        },
        "open_params_schema": {
         "additionalProperties": false,
         "properties": {
          "bbox": {
           "items": [
            {
             "maximum": 180,
             "minimum": -180,
             "type": "number"
            },
            {
             "maximum": 90,
             "minimum": -90,
             "type": "number"
            },
            {
             "maximum": 180,
             "minimum": -180,
             "type": "number"
            },
            {
             "maximum": 90,
             "minimum": -90,
             "type": "number"
            }
           ],
           "type": "array"
          },
          "crs": {
           "const": "http://www.opengis.net/def/crs/EPSG/0/4326",
           "type": "string"
          },
          "time_range": {
           "items": [
            {
             "format": "date-time",
             "type": "string"
            },
            {
             "format": "date-time",
             "type": "string"
            }
           ],
           "type": "array"
          },
          "variable_names": {
           "items": {
            "enum": [
             "latitude_centers",
             "ozone_mixing_ratio",
             "ozone_mole_concentation",
             "standard_error_of_the_mean",
             "sample_standard_deviation",
             "mean_uncertainty_estimate",
             "inhomogeneity_in_time",
             "inhomogeneity_in_latitude"
            ],
            "type": "string"
           },
           "type": "array"
          }
         },
         "type": "object"
        },
        "spatial_res": 10,
        "time_range": [
         "2002-01-01T00:00:00",
         "2011-12-31T00:00:00"
        ],
        "type_id": "dataset"
       },
       {
        "attrs": {
         "Conventions": "CF-1.5",
         "abstract": "This dataset comprises gridded limb ozone monthly zonal mean profiles from the MIPAS instrument on the ENVISAT satellite. \n\nThe data are zonal mean time series (10° latitude bin) and include uncertainty/variability of the Monthly Zonal Mean.\n\nThe monthly zonal mean (MZM) data set provides ozone profiles averaged in 10° latitude zones from 90°S to 90°N, for each month. The monthly zonal mean data are structured into yearly netcdf files, for each instrument separately. The filename indicates the instrument and the year. For example, the file \"ESACCI-OZONE-L3-LP-MIPAS_ENVISAT-MZM-2008-fv0001.nc“ contains monthly zonal mean data for MIPAS in 2008.",
         "address": "P.O.Box 503, 00101 Helsinki, Finland",
         "bbox_maxx": "180.0",
         "bbox_maxy": "90.0",
         "bbox_minx": "-180.0",
         "bbox_miny": "-90.0",
         "cci_project": "OZONE",
         "comment": "Definitions of parameters and data processing is described in the dedicated Technical Note",
         "creation_date": "2016-03-08T16:53:13",
         "creator_email": "viktoria.sofieva@fmi.fi",
         "creator_name": "Viktoria Sofieva",
         "data_type": "LP",
         "date_created": "20130412T110822",
         "drs_id": "esacci.OZONE.mon.L3.LP.MIPAS.Envisat.MIPAS_ENVISAT.v0001.r1",
         "ecv": "OZONE",
         "fid": "4e106bb70a6b42d8a5a86c4635c855b9",
         "file_formats": [
          ".nc",
          ".txt"
         ],
         "file_version": "fv0001",
         "geospatial_lat_max": "90",
         "geospatial_lat_min": "-90",
         "geospatial_lat_resolution": "10 deg ",
         "licences": "Use of these data is covered by the following licence: http://licences.ceda.ac.uk/image/data_access_condition/esacci_ozone_terms_and_conditions.pdf . When using these data you must cite them correctly using the citation given on the CEDA Data Catalogue record.",
         "license": "ozone_cci guidelines",
         "metadata_url": "https://catalogue.ceda.ac.uk/export/xml/4e106bb70a6b42d8a5a86c4635c855b9.xml",
         "naming_authority": "FMI - Finnish Meteorological Institute",
         "number_of_latitude_bins": "18",
         "number_of_months": "9",
         "number_of_pressure_levels": "35",
         "odd_url": "http://opensearch-test.ceda.ac.uk/opensearch/description.xml?parentIdentifier=4e106bb70a6b42d8a5a86c4635c855b9",
         "platform": "Envisat",
         "platform_id": "Envisat",
         "processing_level": "L3",
         "product_string": "MIPAS_ENVISAT",
         "product_version": "v0001",
         "publication_date": "2016-03-08T16:53:13",
         "restriction": "Restricted under the use of ozone cci guidelines",
         "sensor": "MIPAS",
         "sensor_id": "MIPAS",
         "standard_name_vocabulary": "NetCDF Climate and Forecast(CF) Metadata Convention version 18",
         "summary": "Monthly zonal mean ozone profiles in 10-deg latitude zones and data uncertainty characterization",
         "temporal_coverage_end": "2011-12-31T00:00:00",
         "temporal_coverage_start": "2005-01-01T00:00:00",
         "time_frequency": "month",
         "title": "ESA Ozone Climate Change Initiative (Ozone CCI): MIPAS Level 3 Limb Ozone Monthly Zonal Mean (MZM) Profiles, Version 1",
         "uuid": "4e106bb70a6b42d8a5a86c4635c855b9",
         "value_for_nodata": "NaN",
         "variables": [
          {
           "long_name": "Sample standard deviation in 1 month x10 deg bins",
           "name": "sample_standard_deviation",
           "units": "%"
          },
          {
           "long_name": "approximate altitude corresponding to pressure levels",
           "name": "approximate_altitude",
           "units": "km"
          },
          {
           "long_name": "centers of latitude bins",
           "name": "latitude_centers",
           "units": "degrees_north"
          },
          {
           "long_name": "inhomogeneity measure in latitude",
           "name": "inhomogeneity_in_latitude",
           "units": "1"
          },
          {
           "long_name": "inhomogeneity measure in time",
           "name": "inhomogeneity_in_time",
           "units": "1"
          },
          {
           "long_name": "mean of error estimates",
           "name": "mean_uncertainty_estimate",
           "units": "%"
          },
          {
           "long_name": "uncertainty of the monthly zonal mean data",
           "name": "standard_error_of_the_mean",
           "units": "%"
          },
          {
           "long_name": null,
           "name": "air_pressure",
           "units": "hPa"
          },
          {
           "long_name": null,
           "name": "ozone_mole_concentation",
           "units": "mol cm-3"
          },
          {
           "long_name": null,
           "name": "ozone_mixing_ratio",
           "units": "1"
          },
          {
           "long_name": null,
           "name": "time",
           "units": ""
          }
         ],
         "year": "2005"
        },
        "bbox": [
         -180,
         -90,
         180,
         90
        ],
        "data_id": "esacci.OZONE.mon.L3.LP.MIPAS.Envisat.MIPAS_ENVISAT.v0001.r1",
        "data_vars": [
         {
          "attrs": {
           "chunk_sizes": 18,
           "data_type": "float32",
           "dimensions": [
            "latitude_centers"
           ],
           "long_name": "centers of latitude bins",
           "size": 18,
           "standard_name": "latitude",
           "units": "degrees_north"
          },
          "dims": [
           "time",
           "lat",
           "lon"
          ],
          "dtype": "float32",
          "name": "latitude_centers",
          "ndim": 3
         },
         {
          "attrs": {
           "chunk_sizes": [
            9,
            35,
            18
           ],
           "data_type": "float64",
           "dimensions": [
            "time",
            "air_pressure",
            "latitude_centers"
           ],
           "size": 5670,
           "standard_name": "mole_fraction_of_ozone_in_air",
           "units": "1"
          },
          "dims": [
           "time",
           "air_pressure",
           "lat",
           "lon"
          ],
          "dtype": "float64",
          "name": "ozone_mixing_ratio",
          "ndim": 4
         },
         {
          "attrs": {
           "chunk_sizes": [
            9,
            35,
            18
           ],
           "data_type": "float64",
           "dimensions": [
            "time",
            "air_pressure",
            "latitude_centers"
           ],
           "size": 5670,
           "standard_name": "mole_concentration_of_ozone_in_air",
           "units": "mol cm-3"
          },
          "dims": [
           "time",
           "air_pressure",
           "lat",
           "lon"
          ],
          "dtype": "float64",
          "name": "ozone_mole_concentation",
          "ndim": 4
         },
         {
          "attrs": {
           "chunk_sizes": [
            9,
            35,
            18
           ],
           "data_type": "float32",
           "dimensions": [
            "time",
            "air_pressure",
            "latitude_centers"
           ],
           "long_name": "uncertainty of the monthly zonal  mean data",
           "size": 5670,
           "units": "%"
          },
          "dims": [
           "time",
           "air_pressure",
           "lat",
           "lon"
          ],
          "dtype": "float32",
          "name": "standard_error_of_the_mean",
          "ndim": 4
         },
         {
          "attrs": {
           "chunk_sizes": [
            9,
            35,
            18
           ],
           "data_type": "float32",
           "dimensions": [
            "time",
            "air_pressure",
            "latitude_centers"
           ],
           "long_name": "Sample standard deviation in 1 month x10 deg bins",
           "size": 5670,
           "units": "%"
          },
          "dims": [
           "time",
           "air_pressure",
           "lat",
           "lon"
          ],
          "dtype": "float32",
          "name": "sample_standard_deviation",
          "ndim": 4
         },
         {
          "attrs": {
           "chunk_sizes": [
            9,
            35,
            18
           ],
           "data_type": "float32",
           "dimensions": [
            "time",
            "air_pressure",
            "latitude_centers"
           ],
           "long_name": "mean of error estimates",
           "size": 5670,
           "units": "%"
          },
          "dims": [
           "time",
           "air_pressure",
           "lat",
           "lon"
          ],
          "dtype": "float32",
          "name": "mean_uncertainty_estimate",
          "ndim": 4
         },
         {
          "attrs": {
           "chunk_sizes": [
            9,
            35,
            18
           ],
           "data_type": "float32",
           "dimensions": [
            "time",
            "air_pressure",
            "latitude_centers"
           ],
           "long_name": "inhomogeneity measure in time",
           "size": 5670,
           "units": "1"
          },
          "dims": [
           "time",
           "air_pressure",
           "lat",
           "lon"
          ],
          "dtype": "float32",
          "name": "inhomogeneity_in_time",
          "ndim": 4
         },
         {
          "attrs": {
           "chunk_sizes": [
            9,
            35,
            18
           ],
           "data_type": "float32",
           "dimensions": [
            "time",
            "air_pressure",
            "latitude_centers"
           ],
           "long_name": "inhomogeneity measure in latitude",
           "size": 5670,
           "units": "1"
          },
          "dims": [
           "time",
           "air_pressure",
           "lat",
           "lon"
          ],
          "dtype": "float32",
          "name": "inhomogeneity_in_latitude",
          "ndim": 4
         }
        ],
        "dims": {
         "air_pressure": 35,
         "lat": 18,
         "lon": 36,
         "time": 9
        },
        "open_params_schema": {
         "additionalProperties": false,
         "properties": {
          "bbox": {
           "items": [
            {
             "maximum": 180,
             "minimum": -180,
             "type": "number"
            },
            {
             "maximum": 90,
             "minimum": -90,
             "type": "number"
            },
            {
             "maximum": 180,
             "minimum": -180,
             "type": "number"
            },
            {
             "maximum": 90,
             "minimum": -90,
             "type": "number"
            }
           ],
           "type": "array"
          },
          "crs": {
           "const": "http://www.opengis.net/def/crs/EPSG/0/4326",
           "type": "string"
          },
          "time_range": {
           "items": [
            {
             "format": "date-time",
             "type": "string"
            },
            {
             "format": "date-time",
             "type": "string"
            }
           ],
           "type": "array"
          },
          "variable_names": {
           "items": {
            "enum": [
             "latitude_centers",
             "ozone_mixing_ratio",
             "ozone_mole_concentation",
             "standard_error_of_the_mean",
             "sample_standard_deviation",
             "mean_uncertainty_estimate",
             "inhomogeneity_in_time",
             "inhomogeneity_in_latitude"
            ],
            "type": "string"
           },
           "type": "array"
          }
         },
         "type": "object"
        },
        "spatial_res": 10,
        "time_range": [
         "2005-01-01T00:00:00",
         "2011-12-31T00:00:00"
        ],
        "type_id": "dataset"
       },
       {
        "attrs": {
         "Conventions": "CF-1.5",
         "abstract": "This dataset comprises gridded limb ozone monthly zonal mean profiles from the OSIRIS instrument on the ODIN satellite. \n\nThe data are zonal mean time series (10° latitude bin) and include uncertainty/variability of the Monthly Zonal Mean.\n\nThe monthly zonal mean (MZM) data set provides ozone profiles averaged in 10° latitude zones from 90°S to 90°N, for each month. The monthly zonal mean data are structured into yearly netcdf files, for each instrument separately. The filename indicates the instrument and the year. For example, the file “ESACCI-OZONE-L3-LP-OSIRIS_ODIN-MZM-2008-fv0001.nc” contains monthly zonal mean data for OSIRIS in 2008.",
         "address": "P.O.Box 503, 00101 Helsinki, Finland",
         "bbox_maxx": "180.0",
         "bbox_maxy": "90.0",
         "bbox_minx": "-180.0",
         "bbox_miny": "-90.0",
         "cci_project": "OZONE",
         "comment": "Definitions of parameters and data processing is described in the dedicated Technical Note",
         "creation_date": "2016-03-08T16:52:46",
         "creator_email": "viktoria.sofieva@fmi.fi",
         "creator_name": "Viktoria Sofieva",
         "data_type": "LP",
         "date_created": "20130412T112205",
         "drs_id": "esacci.OZONE.mon.L3.LP.OSIRIS.ODIN.OSIRIS_ODIN.v0001.r1",
         "ecv": "OZONE",
         "fid": "f428fffb26cf4cd5b97dfb6381cb16bb",
         "file_formats": [
          ".nc",
          ".txt"
         ],
         "file_version": "fv0001",
         "geospatial_lat_max": "90",
         "geospatial_lat_min": "-90",
         "geospatial_lat_resolution": "10 deg ",
         "licences": "Use of these data is covered by the following licence: http://licences.ceda.ac.uk/image/data_access_condition/esacci_ozone_terms_and_conditions.pdf . When using these data you must cite them correctly using the citation given on the CEDA Data Catalogue record.",
         "license": "ozone_cci guidelines",
         "metadata_url": "https://catalogue.ceda.ac.uk/export/xml/f428fffb26cf4cd5b97dfb6381cb16bb.xml",
         "naming_authority": "FMI - Finnish Meteorological Institute",
         "number_of_latitude_bins": "18",
         "number_of_months": "2",
         "number_of_pressure_levels": "34",
         "odd_url": "http://opensearch-test.ceda.ac.uk/opensearch/description.xml?parentIdentifier=f428fffb26cf4cd5b97dfb6381cb16bb",
         "platform": "Odin",
         "platform_id": "ODIN",
         "processing_level": "L3",
         "product_string": "OSIRIS_ODIN",
         "product_version": "v0001",
         "publication_date": "2016-03-08T16:52:46",
         "restriction": "Restricted under the use of ozone cci guidelines",
         "sensor": "OSIRIS",
         "sensor_id": "OSIRIS",
         "standard_name_vocabulary": "NetCDF Climate and Forecast(CF) Metadata Convention version 18",
         "summary": "Monthly zonal mean ozone profiles in 10-deg latitude zones and data uncertainty characterization",
         "temporal_coverage_end": "2012-12-31T00:00:00",
         "temporal_coverage_start": "2001-01-01T00:00:00",
         "time_frequency": "month",
         "title": "ESA Ozone Climate Change Initiative (Ozone CCI): OSIRIS Level 3 Limb Ozone Monthly Zonal Mean (MZM) Profiles, Version 1",
         "uuid": "f428fffb26cf4cd5b97dfb6381cb16bb",
         "value_for_nodata": "NaN",
         "variables": [
          {
           "long_name": "Sample standard deviation in 1 month x10 deg bins",
           "name": "sample_standard_deviation",
           "units": "%"
          },
          {
           "long_name": "approximate altitude corresponding to pressure levels",
           "name": "approximate_altitude",
           "units": "km"
          },
          {
           "long_name": "centers of latitude bins",
           "name": "latitude_centers",
           "units": "degrees_north"
          },
          {
           "long_name": "inhomogeneity measure in latitude",
           "name": "inhomogeneity_in_latitude",
           "units": "1"
          },
          {
           "long_name": "inhomogeneity measure in time",
           "name": "inhomogeneity_in_time",
           "units": "1"
          },
          {
           "long_name": "mean of error estimates",
           "name": "mean_uncertainty_estimate",
           "units": "%"
          },
          {
           "long_name": "uncertainty of the monthly zonal mean data",
           "name": "standard_error_of_the_mean",
           "units": "%"
          },
          {
           "long_name": null,
           "name": "air_pressure",
           "units": "hPa"
          },
          {
           "long_name": null,
           "name": "ozone_mole_concentation",
           "units": "mol cm-3"
          },
          {
           "long_name": null,
           "name": "ozone_mixing_ratio",
           "units": "1"
          },
          {
           "long_name": null,
           "name": "time",
           "units": ""
          }
         ],
         "year": "2001"
        },
        "bbox": [
         -180,
         -90,
         180,
         90
        ],
        "data_id": "esacci.OZONE.mon.L3.LP.OSIRIS.ODIN.OSIRIS_ODIN.v0001.r1",
        "data_vars": [
         {
          "attrs": {
           "chunk_sizes": 18,
           "data_type": "float32",
           "dimensions": [
            "latitude_centers"
           ],
           "long_name": "centers of latitude bins",
           "size": 18,
           "standard_name": "latitude",
           "units": "degrees_north"
          },
          "dims": [
           "time",
           "lat",
           "lon"
          ],
          "dtype": "float32",
          "name": "latitude_centers",
          "ndim": 3
         },
         {
          "attrs": {
           "chunk_sizes": [
            2,
            34,
            18
           ],
           "data_type": "float64",
           "dimensions": [
            "time",
            "air_pressure",
            "latitude_centers"
           ],
           "size": 1224,
           "standard_name": "mole_fraction_of_ozone_in_air",
           "units": "1"
          },
          "dims": [
           "time",
           "air_pressure",
           "lat",
           "lon"
          ],
          "dtype": "float64",
          "name": "ozone_mixing_ratio",
          "ndim": 4
         },
         {
          "attrs": {
           "chunk_sizes": [
            2,
            34,
            18
           ],
           "data_type": "float64",
           "dimensions": [
            "time",
            "air_pressure",
            "latitude_centers"
           ],
           "size": 1224,
           "standard_name": "mole_concentration_of_ozone_in_air",
           "units": "mol cm-3"
          },
          "dims": [
           "time",
           "air_pressure",
           "lat",
           "lon"
          ],
          "dtype": "float64",
          "name": "ozone_mole_concentation",
          "ndim": 4
         },
         {
          "attrs": {
           "chunk_sizes": [
            2,
            34,
            18
           ],
           "data_type": "float32",
           "dimensions": [
            "time",
            "air_pressure",
            "latitude_centers"
           ],
           "long_name": "uncertainty of the monthly zonal  mean data",
           "size": 1224,
           "units": "%"
          },
          "dims": [
           "time",
           "air_pressure",
           "lat",
           "lon"
          ],
          "dtype": "float32",
          "name": "standard_error_of_the_mean",
          "ndim": 4
         },
         {
          "attrs": {
           "chunk_sizes": [
            2,
            34,
            18
           ],
           "data_type": "float32",
           "dimensions": [
            "time",
            "air_pressure",
            "latitude_centers"
           ],
           "long_name": "Sample standard deviation in 1 month x10 deg bins",
           "size": 1224,
           "units": "%"
          },
          "dims": [
           "time",
           "air_pressure",
           "lat",
           "lon"
          ],
          "dtype": "float32",
          "name": "sample_standard_deviation",
          "ndim": 4
         },
         {
          "attrs": {
           "chunk_sizes": [
            2,
            34,
            18
           ],
           "data_type": "float32",
           "dimensions": [
            "time",
            "air_pressure",
            "latitude_centers"
           ],
           "long_name": "mean of error estimates",
           "size": 1224,
           "units": "%"
          },
          "dims": [
           "time",
           "air_pressure",
           "lat",
           "lon"
          ],
          "dtype": "float32",
          "name": "mean_uncertainty_estimate",
          "ndim": 4
         },
         {
          "attrs": {
           "chunk_sizes": [
            2,
            34,
            18
           ],
           "data_type": "float32",
           "dimensions": [
            "time",
            "air_pressure",
            "latitude_centers"
           ],
           "long_name": "inhomogeneity measure in time",
           "size": 1224,
           "units": "1"
          },
          "dims": [
           "time",
           "air_pressure",
           "lat",
           "lon"
          ],
          "dtype": "float32",
          "name": "inhomogeneity_in_time",
          "ndim": 4
         },
         {
          "attrs": {
           "chunk_sizes": [
            2,
            34,
            18
           ],
           "data_type": "float32",
           "dimensions": [
            "time",
            "air_pressure",
            "latitude_centers"
           ],
           "long_name": "inhomogeneity measure in latitude",
           "size": 1224,
           "units": "1"
          },
          "dims": [
           "time",
           "air_pressure",
           "lat",
           "lon"
          ],
          "dtype": "float32",
          "name": "inhomogeneity_in_latitude",
          "ndim": 4
         }
        ],
        "dims": {
         "air_pressure": 34,
         "lat": 18,
         "lon": 36,
         "time": 2
        },
        "open_params_schema": {
         "additionalProperties": false,
         "properties": {
          "bbox": {
           "items": [
            {
             "maximum": 180,
             "minimum": -180,
             "type": "number"
            },
            {
             "maximum": 90,
             "minimum": -90,
             "type": "number"
            },
            {
             "maximum": 180,
             "minimum": -180,
             "type": "number"
            },
            {
             "maximum": 90,
             "minimum": -90,
             "type": "number"
            }
           ],
           "type": "array"
          },
          "crs": {
           "const": "http://www.opengis.net/def/crs/EPSG/0/4326",
           "type": "string"
          },
          "time_range": {
           "items": [
            {
             "format": "date-time",
             "type": "string"
            },
            {
             "format": "date-time",
             "type": "string"
            }
           ],
           "type": "array"
          },
          "variable_names": {
           "items": {
            "enum": [
             "latitude_centers",
             "ozone_mixing_ratio",
             "ozone_mole_concentation",
             "standard_error_of_the_mean",
             "sample_standard_deviation",
             "mean_uncertainty_estimate",
             "inhomogeneity_in_time",
             "inhomogeneity_in_latitude"
            ],
            "type": "string"
           },
           "type": "array"
          }
         },
         "type": "object"
        },
        "spatial_res": 10,
        "time_range": [
         "2001-01-01T00:00:00",
         "2012-12-31T00:00:00"
        ],
        "type_id": "dataset"
       },
       {
        "attrs": {
         "Conventions": "CF-1.5",
         "abstract": "This dataset comprises gridded limb ozone monthly zonal mean profiles from the SCIAMACHY instrument on ENVISAT. \n\nThe data are zonal mean time series (10° latitude bin) and include uncertainty/variability of the Monthly Zonal Mean.\n\nThe monthly zonal mean (MZM) data set provides ozone profiles averaged in 10° latitude zones from 90°S to 90°N, for each month. The monthly zonal mean data are structured into yearly netcdf files, for each instrument separately. The filename indicates the instrument and the year. For example, the file “ESACCI-OZONE-L3-LP-SCIAMACHY_ENVISAT-MZM-2008-fv0001.nc” contains monthly zonal mean data for SCIAMACHY in 2008.",
         "address": "P.O.Box 503, 00101 Helsinki, Finland",
         "bbox_maxx": "180.0",
         "bbox_maxy": "90.0",
         "bbox_minx": "-180.0",
         "bbox_miny": "-90.0",
         "cci_project": "OZONE",
         "comment": "Definitions of parameters and data processing is described in the dedicated Technical Note",
         "creation_date": "2016-03-08T16:54:07",
         "creator_email": "viktoria.sofieva@fmi.fi",
         "creator_name": "Viktoria Sofieva",
         "data_type": "LP",
         "date_created": "20130412T111914",
         "drs_id": "esacci.OZONE.mon.L3.LP.SCIAMACHY.Envisat.SCIAMACHY_ENVISAT.v0001.r1",
         "ecv": "OZONE",
         "fid": "cb54bd70826842a9acf658ebabe4a104",
         "file_formats": [
          ".nc",
          ".txt"
         ],
         "file_version": "fv0001",
         "geospatial_lat_max": "90",
         "geospatial_lat_min": "-90",
         "geospatial_lat_resolution": "10 deg ",
         "licences": "Use of these data is covered by the following licence: http://licences.ceda.ac.uk/image/data_access_condition/esacci_ozone_terms_and_conditions.pdf . When using these data you must cite them correctly using the citation given on the CEDA Data Catalogue record.",
         "license": "ozone_cci guidelines",
         "metadata_url": "https://catalogue.ceda.ac.uk/export/xml/cb54bd70826842a9acf658ebabe4a104.xml",
         "naming_authority": "FMI - Finnish Meteorological Institute",
         "number_of_latitude_bins": "18",
         "number_of_months": "5",
         "number_of_pressure_levels": "32",
         "odd_url": "http://opensearch-test.ceda.ac.uk/opensearch/description.xml?parentIdentifier=cb54bd70826842a9acf658ebabe4a104",
         "platform": "Envisat",
         "platform_id": "Envisat",
         "processing_level": "L3",
         "product_string": "SCIAMACHY_ENVISAT",
         "product_version": "v0001",
         "publication_date": "2016-03-08T16:54:07",
         "restriction": "Restricted under the use of ozone cci guidelines",
         "sensor": "SCIAMACHY",
         "sensor_id": "SCIAMACHY",
         "standard_name_vocabulary": "NetCDF Climate and Forecast(CF) Metadata Convention version 18",
         "summary": "Monthly zonal mean ozone profiles in 10-deg latitude zones and data uncertainty characterization",
         "temporal_coverage_end": "2011-12-31T00:00:00",
         "temporal_coverage_start": "2002-01-01T00:00:00",
         "time_frequency": "month",
         "title": "ESA Ozone Climate Change Initiative (Ozone CCI): SCIAMACHY Level 3 Limb Ozone Monthly Zonal Mean (MZM) Profiles, Version 1",
         "uuid": "cb54bd70826842a9acf658ebabe4a104",
         "value_for_nodata": "NaN",
         "variables": [
          {
           "long_name": "Sample standard deviation in 1 month x10 deg bins",
           "name": "sample_standard_deviation",
           "units": "%"
          },
          {
           "long_name": "approximate altitude corresponding to pressure levels",
           "name": "approximate_altitude",
           "units": "km"
          },
          {
           "long_name": "centers of latitude bins",
           "name": "latitude_centers",
           "units": "degrees_north"
          },
          {
           "long_name": "inhomogeneity measure in latitude",
           "name": "inhomogeneity_in_latitude",
           "units": "1"
          },
          {
           "long_name": "inhomogeneity measure in time",
           "name": "inhomogeneity_in_time",
           "units": "1"
          },
          {
           "long_name": "mean of error estimates",
           "name": "mean_uncertainty_estimate",
           "units": "%"
          },
          {
           "long_name": "uncertainty of the monthly zonal mean data",
           "name": "standard_error_of_the_mean",
           "units": "%"
          },
          {
           "long_name": null,
           "name": "air_pressure",
           "units": "hPa"
          },
          {
           "long_name": null,
           "name": "ozone_mole_concentation",
           "units": "mol cm-3"
          },
          {
           "long_name": null,
           "name": "ozone_mixing_ratio",
           "units": "1"
          },
          {
           "long_name": null,
           "name": "time",
           "units": ""
          }
         ],
         "year": "2002"
        },
        "bbox": [
         -180,
         -90,
         180,
         90
        ],
        "data_id": "esacci.OZONE.mon.L3.LP.SCIAMACHY.Envisat.SCIAMACHY_ENVISAT.v0001.r1",
        "data_vars": [
         {
          "attrs": {
           "chunk_sizes": 18,
           "data_type": "float32",
           "dimensions": [
            "latitude_centers"
           ],
           "long_name": "centers of latitude bins",
           "size": 18,
           "standard_name": "latitude",
           "units": "degrees_north"
          },
          "dims": [
           "time",
           "lat",
           "lon"
          ],
          "dtype": "float32",
          "name": "latitude_centers",
          "ndim": 3
         },
         {
          "attrs": {
           "chunk_sizes": [
            5,
            32,
            18
           ],
           "data_type": "float64",
           "dimensions": [
            "time",
            "air_pressure",
            "latitude_centers"
           ],
           "size": 2880,
           "standard_name": "mole_fraction_of_ozone_in_air",
           "units": "1"
          },
          "dims": [
           "time",
           "air_pressure",
           "lat",
           "lon"
          ],
          "dtype": "float64",
          "name": "ozone_mixing_ratio",
          "ndim": 4
         },
         {
          "attrs": {
           "chunk_sizes": [
            5,
            32,
            18
           ],
           "data_type": "float64",
           "dimensions": [
            "time",
            "air_pressure",
            "latitude_centers"
           ],
           "size": 2880,
           "standard_name": "mole_concentration_of_ozone_in_air",
           "units": "mol cm-3"
          },
          "dims": [
           "time",
           "air_pressure",
           "lat",
           "lon"
          ],
          "dtype": "float64",
          "name": "ozone_mole_concentation",
          "ndim": 4
         },
         {
          "attrs": {
           "chunk_sizes": [
            5,
            32,
            18
           ],
           "data_type": "float32",
           "dimensions": [
            "time",
            "air_pressure",
            "latitude_centers"
           ],
           "long_name": "uncertainty of the monthly zonal  mean data",
           "size": 2880,
           "units": "%"
          },
          "dims": [
           "time",
           "air_pressure",
           "lat",
           "lon"
          ],
          "dtype": "float32",
          "name": "standard_error_of_the_mean",
          "ndim": 4
         },
         {
          "attrs": {
           "chunk_sizes": [
            5,
            32,
            18
           ],
           "data_type": "float32",
           "dimensions": [
            "time",
            "air_pressure",
            "latitude_centers"
           ],
           "long_name": "Sample standard deviation in 1 month x10 deg bins",
           "size": 2880,
           "units": "%"
          },
          "dims": [
           "time",
           "air_pressure",
           "lat",
           "lon"
          ],
          "dtype": "float32",
          "name": "sample_standard_deviation",
          "ndim": 4
         },
         {
          "attrs": {
           "chunk_sizes": [
            5,
            32,
            18
           ],
           "data_type": "float32",
           "dimensions": [
            "time",
            "air_pressure",
            "latitude_centers"
           ],
           "long_name": "mean of error estimates",
           "size": 2880,
           "units": "%"
          },
          "dims": [
           "time",
           "air_pressure",
           "lat",
           "lon"
          ],
          "dtype": "float32",
          "name": "mean_uncertainty_estimate",
          "ndim": 4
         },
         {
          "attrs": {
           "chunk_sizes": [
            5,
            32,
            18
           ],
           "data_type": "float32",
           "dimensions": [
            "time",
            "air_pressure",
            "latitude_centers"
           ],
           "long_name": "inhomogeneity measure in time",
           "size": 2880,
           "units": "1"
          },
          "dims": [
           "time",
           "air_pressure",
           "lat",
           "lon"
          ],
          "dtype": "float32",
          "name": "inhomogeneity_in_time",
          "ndim": 4
         },
         {
          "attrs": {
           "chunk_sizes": [
            5,
            32,
            18
           ],
           "data_type": "float32",
           "dimensions": [
            "time",
            "air_pressure",
            "latitude_centers"
           ],
           "long_name": "inhomogeneity measure in latitude",
           "size": 2880,
           "units": "1"
          },
          "dims": [
           "time",
           "air_pressure",
           "lat",
           "lon"
          ],
          "dtype": "float32",
          "name": "inhomogeneity_in_latitude",
          "ndim": 4
         }
        ],
        "dims": {
         "air_pressure": 32,
         "lat": 18,
         "lon": 36,
         "time": 5
        },
        "open_params_schema": {
         "additionalProperties": false,
         "properties": {
          "bbox": {
           "items": [
            {
             "maximum": 180,
             "minimum": -180,
             "type": "number"
            },
            {
             "maximum": 90,
             "minimum": -90,
             "type": "number"
            },
            {
             "maximum": 180,
             "minimum": -180,
             "type": "number"
            },
            {
             "maximum": 90,
             "minimum": -90,
             "type": "number"
            }
           ],
           "type": "array"
          },
          "crs": {
           "const": "http://www.opengis.net/def/crs/EPSG/0/4326",
           "type": "string"
          },
          "time_range": {
           "items": [
            {
             "format": "date-time",
             "type": "string"
            },
            {
             "format": "date-time",
             "type": "string"
            }
           ],
           "type": "array"
          },
          "variable_names": {
           "items": {
            "enum": [
             "latitude_centers",
             "ozone_mixing_ratio",
             "ozone_mole_concentation",
             "standard_error_of_the_mean",
             "sample_standard_deviation",
             "mean_uncertainty_estimate",
             "inhomogeneity_in_time",
             "inhomogeneity_in_latitude"
            ],
            "type": "string"
           },
           "type": "array"
          }
         },
         "type": "object"
        },
        "spatial_res": 10,
        "time_range": [
         "2002-01-01T00:00:00",
         "2011-12-31T00:00:00"
        ],
        "type_id": "dataset"
       },
       {
        "attrs": {
         "Conventions": "CF-1.5",
         "abstract": "This dataset comprises gridded limb ozone monthly zonal mean profiles from the ODIN/SMR (544.6 GHz) instrument. \n\nThe data are zonal mean time series (10° latitude bin) and include uncertainty/variability of the Monthly Zonal Mean.\n\nThe monthly zonal mean (MZM) data set provides ozone profiles averaged in 10° latitude zones from 90°S to 90°N, for each month. The monthly zonal mean data are structured into yearly netcdf files, for each instrument separately. The filename indicates the instrument and the year. For example, the file “ESACCI-OZONE-L3-LP-MZM-SMR_ODIN-544_6_GHz-2008-fv0001.nc” contains monthly zonal mean data for ODIN/SMR at 544.6GHz in 2008.",
         "address": "P.O.Box 503, 00101 Helsinki, Finland",
         "bbox_maxx": "180.0",
         "bbox_maxy": "90.0",
         "bbox_minx": "-180.0",
         "bbox_miny": "-90.0",
         "cci_project": "OZONE",
         "comment": "Definitions of parameters and data processing is described in the dedicated Technical Note",
         "creation_date": "2016-03-08T16:51:49",
         "creator_email": "viktoria.sofieva@fmi.fi",
         "creator_name": "Viktoria Sofieva",
         "data_type": "LP",
         "date_created": "20130925T011143",
         "drs_id": "esacci.OZONE.mon.L3.LP.SMR.ODIN.MZM.v0001.r1",
         "ecv": "OZONE",
         "fid": "add104f4c4454b629dbc7648efaa1b50",
         "file_formats": [
          ".nc",
          ".txt"
         ],
         "file_version": "fv0001",
         "geospatial_lat_max": "90",
         "geospatial_lat_min": "-90",
         "geospatial_lat_resolution": "10 deg ",
         "licences": "Use of these data is covered by the following licence: http://licences.ceda.ac.uk/image/data_access_condition/esacci_ozone_terms_and_conditions.pdf . When using these data you must cite them correctly using the citation given on the CEDA Data Catalogue record.",
         "license": "ozone_cci guidelines",
         "metadata_url": "https://catalogue.ceda.ac.uk/export/xml/add104f4c4454b629dbc7648efaa1b50.xml",
         "naming_authority": "FMI - Finnish Meteorological Institute",
         "number_of_latitude_bins": "18",
         "number_of_months": "4",
         "number_of_pressure_levels": "33",
         "odd_url": "http://opensearch-test.ceda.ac.uk/opensearch/description.xml?parentIdentifier=add104f4c4454b629dbc7648efaa1b50",
         "platform": "ODIN",
         "platform_id": "ODIN",
         "processing_level": "L3",
         "product_string": "MZM",
         "product_version": "v0001",
         "publication_date": "2016-03-08T16:51:49",
         "restriction": "Restricted under the use of ozone cci guidelines",
         "sensor": "SMR_544.6GHz",
         "sensor_id": "SMR",
         "standard_name_vocabulary": "NetCDF Climate and Forecast(CF) Metadata Convention version 18",
         "summary": "Monthly zonal mean ozone profiles in 10-deg latitude zones and data uncertainty characterization",
         "temporal_coverage_end": "2013-12-31T00:00:00",
         "temporal_coverage_start": "2001-01-01T00:00:00",
         "time_frequency": "month",
         "title": "ESA Ozone Climate Change Initiative (Ozone CCI): ODIN/SMR (544.6 GHz) Level 3 Limb Ozone Monthly Zonal Mean (MZM) Profiles, Version 1",
         "tracking_id": "41d14dd2-a1e4-409f-a3dd-115f14c84c4e",
         "uuid": "add104f4c4454b629dbc7648efaa1b50",
         "value_for_nodata": "NaN",
         "variables": [
          {
           "long_name": "Sample standard deviation in 1 month x10 deg bins",
           "name": "sample_standard_deviation",
           "units": "%"
          },
          {
           "long_name": "approximate altitude corresponding to pressure levels",
           "name": "approximate_altitude",
           "units": "km"
          },
          {
           "long_name": "centers of latitude bins",
           "name": "latitude_centers",
           "units": "degrees_north"
          },
          {
           "long_name": "inhomogeneity measure in latitude",
           "name": "inhomogeneity_in_latitude",
           "units": "1"
          },
          {
           "long_name": "inhomogeneity measure in time",
           "name": "inhomogeneity_in_time",
           "units": "1"
          },
          {
           "long_name": "mean of error estimates",
           "name": "mean_uncertainty_estimate",
           "units": "%"
          },
          {
           "long_name": "uncertainty of the monthly zonal mean data",
           "name": "standard_error_of_the_mean",
           "units": "%"
          },
          {
           "long_name": null,
           "name": "air_pressure",
           "units": "hPa"
          },
          {
           "long_name": null,
           "name": "ozone_mole_concentation",
           "units": "mol cm-3"
          },
          {
           "long_name": null,
           "name": "ozone_mixing_ratio",
           "units": "1"
          },
          {
           "long_name": null,
           "name": "time",
           "units": ""
          }
         ],
         "year": "2001"
        },
        "bbox": [
         -180,
         -90,
         180,
         90
        ],
        "data_id": "esacci.OZONE.mon.L3.LP.SMR.ODIN.MZM.v0001.r1",
        "data_vars": [
         {
          "attrs": {
           "chunk_sizes": 18,
           "data_type": "float32",
           "dimensions": [
            "latitude_centers"
           ],
           "long_name": "centers of latitude bins",
           "size": 18,
           "standard_name": "latitude",
           "units": "degrees_north"
          },
          "dims": [
           "time",
           "lat",
           "lon"
          ],
          "dtype": "float32",
          "name": "latitude_centers",
          "ndim": 3
         },
         {
          "attrs": {
           "chunk_sizes": [
            4,
            33,
            18
           ],
           "data_type": "float64",
           "dimensions": [
            "time",
            "air_pressure",
            "latitude_centers"
           ],
           "size": 2376,
           "standard_name": "mole_fraction_of_ozone_in_air",
           "units": "1"
          },
          "dims": [
           "time",
           "air_pressure",
           "lat",
           "lon"
          ],
          "dtype": "float64",
          "name": "ozone_mixing_ratio",
          "ndim": 4
         },
         {
          "attrs": {
           "chunk_sizes": [
            4,
            33,
            18
           ],
           "data_type": "float64",
           "dimensions": [
            "time",
            "air_pressure",
            "latitude_centers"
           ],
           "size": 2376,
           "standard_name": "mole_concentration_of_ozone_in_air",
           "units": "mol cm-3"
          },
          "dims": [
           "time",
           "air_pressure",
           "lat",
           "lon"
          ],
          "dtype": "float64",
          "name": "ozone_mole_concentation",
          "ndim": 4
         },
         {
          "attrs": {
           "chunk_sizes": [
            4,
            33,
            18
           ],
           "data_type": "float32",
           "dimensions": [
            "time",
            "air_pressure",
            "latitude_centers"
           ],
           "long_name": "uncertainty of the monthly zonal  mean data",
           "size": 2376,
           "units": "%"
          },
          "dims": [
           "time",
           "air_pressure",
           "lat",
           "lon"
          ],
          "dtype": "float32",
          "name": "standard_error_of_the_mean",
          "ndim": 4
         },
         {
          "attrs": {
           "chunk_sizes": [
            4,
            33,
            18
           ],
           "data_type": "float32",
           "dimensions": [
            "time",
            "air_pressure",
            "latitude_centers"
           ],
           "long_name": "Sample standard deviation in 1 month x10 deg bins",
           "size": 2376,
           "units": "%"
          },
          "dims": [
           "time",
           "air_pressure",
           "lat",
           "lon"
          ],
          "dtype": "float32",
          "name": "sample_standard_deviation",
          "ndim": 4
         },
         {
          "attrs": {
           "chunk_sizes": [
            4,
            33,
            18
           ],
           "data_type": "float32",
           "dimensions": [
            "time",
            "air_pressure",
            "latitude_centers"
           ],
           "long_name": "mean of error estimates",
           "size": 2376,
           "units": "%"
          },
          "dims": [
           "time",
           "air_pressure",
           "lat",
           "lon"
          ],
          "dtype": "float32",
          "name": "mean_uncertainty_estimate",
          "ndim": 4
         },
         {
          "attrs": {
           "chunk_sizes": [
            4,
            33,
            18
           ],
           "data_type": "float32",
           "dimensions": [
            "time",
            "air_pressure",
            "latitude_centers"
           ],
           "long_name": "inhomogeneity measure in time",
           "size": 2376,
           "units": "1"
          },
          "dims": [
           "time",
           "air_pressure",
           "lat",
           "lon"
          ],
          "dtype": "float32",
          "name": "inhomogeneity_in_time",
          "ndim": 4
         },
         {
          "attrs": {
           "chunk_sizes": [
            4,
            33,
            18
           ],
           "data_type": "float32",
           "dimensions": [
            "time",
            "air_pressure",
            "latitude_centers"
           ],
           "long_name": "inhomogeneity measure in latitude",
           "size": 2376,
           "units": "1"
          },
          "dims": [
           "time",
           "air_pressure",
           "lat",
           "lon"
          ],
          "dtype": "float32",
          "name": "inhomogeneity_in_latitude",
          "ndim": 4
         }
        ],
        "dims": {
         "air_pressure": 33,
         "lat": 18,
         "lon": 36,
         "time": 4
        },
        "open_params_schema": {
         "additionalProperties": false,
         "properties": {
          "bbox": {
           "items": [
            {
             "maximum": 180,
             "minimum": -180,
             "type": "number"
            },
            {
             "maximum": 90,
             "minimum": -90,
             "type": "number"
            },
            {
             "maximum": 180,
             "minimum": -180,
             "type": "number"
            },
            {
             "maximum": 90,
             "minimum": -90,
             "type": "number"
            }
           ],
           "type": "array"
          },
          "crs": {
           "const": "http://www.opengis.net/def/crs/EPSG/0/4326",
           "type": "string"
          },
          "time_range": {
           "items": [
            {
             "format": "date-time",
             "type": "string"
            },
            {
             "format": "date-time",
             "type": "string"
            }
           ],
           "type": "array"
          },
          "variable_names": {
           "items": {
            "enum": [
             "latitude_centers",
             "ozone_mixing_ratio",
             "ozone_mole_concentation",
             "standard_error_of_the_mean",
             "sample_standard_deviation",
             "mean_uncertainty_estimate",
             "inhomogeneity_in_time",
             "inhomogeneity_in_latitude"
            ],
            "type": "string"
           },
           "type": "array"
          }
         },
         "type": "object"
        },
        "spatial_res": 10,
        "time_range": [
         "2001-01-01T00:00:00",
         "2013-12-31T00:00:00"
        ],
        "type_id": "dataset"
       },
       {
        "attrs": {
         "Conventions": "CF-1.5",
         "abstract": "This dataset comprises gridded limb ozone monthly zonal mean profiles from the ODIN/SMR instrument. \n\nThe data are zonal mean time series (10° latitude bin) and include uncertainty/variability of the Monthly Zonal Mean.\n\nThe monthly zonal mean (MZM) data set provides ozone profiles averaged in 10° latitude zones from 90°S to 90°N, for each month. The monthly zonal mean data are structured into yearly netcdf files, for each instrument separately. The filename indicates the instrument and the year. For example, the file “ESACCI-OZONE-L3-LP-SMR_ODIN-MZM-2008-fv0001.nc” contains monthly zonal mean data for ODIN/SMR in 2008.",
         "address": "P.O.Box 503, 00101 Helsinki, Finland",
         "bbox_maxx": "180.0",
         "bbox_maxy": "90.0",
         "bbox_minx": "-180.0",
         "bbox_miny": "-90.0",
         "cci_project": "OZONE",
         "comment": "Definitions of parameters and data processing is described in the dedicated Technical Note",
         "creation_date": "2016-03-08T16:52:17",
         "creator_email": "viktoria.sofieva@fmi.fi",
         "creator_name": "Viktoria Sofieva",
         "data_type": "LP",
         "date_created": "20130412T112816",
         "drs_id": "esacci.OZONE.mon.L3.LP.SMR.ODIN.SMR_ODIN.v0001.r1",
         "ecv": "OZONE",
         "fid": "fe651dbef5d44248bef70906f4b3d12b",
         "file_formats": [
          ".nc",
          ".txt"
         ],
         "file_version": "fv0001",
         "geospatial_lat_max": "90",
         "geospatial_lat_min": "-90",
         "geospatial_lat_resolution": "10 deg ",
         "licences": "Use of these data is covered by the following licence: http://licences.ceda.ac.uk/image/data_access_condition/esacci_ozone_terms_and_conditions.pdf . When using these data you must cite them correctly using the citation given on the CEDA Data Catalogue record.",
         "license": "ozone_cci guidelines",
         "metadata_url": "https://catalogue.ceda.ac.uk/export/xml/fe651dbef5d44248bef70906f4b3d12b.xml",
         "naming_authority": "FMI - Finnish Meteorological Institute",
         "number_of_latitude_bins": "18",
         "number_of_months": "3",
         "number_of_pressure_levels": "33",
         "odd_url": "http://opensearch-test.ceda.ac.uk/opensearch/description.xml?parentIdentifier=fe651dbef5d44248bef70906f4b3d12b",
         "platform": "Odin",
         "platform_id": "ODIN",
         "processing_level": "L3",
         "product_string": "SMR_ODIN",
         "product_version": "v0001",
         "publication_date": "2016-03-08T16:52:17",
         "restriction": "Restricted under the use of ozone cci guidelines",
         "sensor": "SMR",
         "sensor_id": "SMR",
         "standard_name_vocabulary": "NetCDF Climate and Forecast(CF) Metadata Convention version 18",
         "summary": "Monthly zonal mean ozone profiles in 10-deg latitude zones and data uncertainty characterization",
         "temporal_coverage_end": "2012-12-31T00:00:00",
         "temporal_coverage_start": "2001-01-01T00:00:00",
         "time_frequency": "month",
         "title": "ESA Ozone Climate Change Initiative (Ozone CCI): ODIN/SMR Level 3 Limb Ozone Monthly Zonal Mean (MZM) Profiles, Version 1",
         "uuid": "fe651dbef5d44248bef70906f4b3d12b",
         "value_for_nodata": "NaN",
         "variables": [
          {
           "long_name": "Sample standard deviation in 1 month x10 deg bins",
           "name": "sample_standard_deviation",
           "units": "%"
          },
          {
           "long_name": "approximate altitude corresponding to pressure levels",
           "name": "approximate_altitude",
           "units": "km"
          },
          {
           "long_name": "centers of latitude bins",
           "name": "latitude_centers",
           "units": "degrees_north"
          },
          {
           "long_name": "inhomogeneity measure in latitude",
           "name": "inhomogeneity_in_latitude",
           "units": "1"
          },
          {
           "long_name": "inhomogeneity measure in time",
           "name": "inhomogeneity_in_time",
           "units": "1"
          },
          {
           "long_name": "mean of error estimates",
           "name": "mean_uncertainty_estimate",
           "units": "%"
          },
          {
           "long_name": "uncertainty of the monthly zonal mean data",
           "name": "standard_error_of_the_mean",
           "units": "%"
          },
          {
           "long_name": null,
           "name": "air_pressure",
           "units": "hPa"
          },
          {
           "long_name": null,
           "name": "ozone_mole_concentation",
           "units": "mol cm-3"
          },
          {
           "long_name": null,
           "name": "ozone_mixing_ratio",
           "units": "1"
          },
          {
           "long_name": null,
           "name": "time",
           "units": ""
          }
         ],
         "year": "2001"
        },
        "bbox": [
         -180,
         -90,
         180,
         90
        ],
        "data_id": "esacci.OZONE.mon.L3.LP.SMR.ODIN.SMR_ODIN.v0001.r1",
        "data_vars": [
         {
          "attrs": {
           "chunk_sizes": 18,
           "data_type": "float32",
           "dimensions": [
            "latitude_centers"
           ],
           "long_name": "centers of latitude bins",
           "size": 18,
           "standard_name": "latitude",
           "units": "degrees_north"
          },
          "dims": [
           "time",
           "lat",
           "lon"
          ],
          "dtype": "float32",
          "name": "latitude_centers",
          "ndim": 3
         },
         {
          "attrs": {
           "chunk_sizes": [
            3,
            33,
            18
           ],
           "data_type": "float64",
           "dimensions": [
            "time",
            "air_pressure",
            "latitude_centers"
           ],
           "size": 1782,
           "standard_name": "mole_fraction_of_ozone_in_air",
           "units": "1"
          },
          "dims": [
           "time",
           "air_pressure",
           "lat",
           "lon"
          ],
          "dtype": "float64",
          "name": "ozone_mixing_ratio",
          "ndim": 4
         },
         {
          "attrs": {
           "chunk_sizes": [
            3,
            33,
            18
           ],
           "data_type": "float64",
           "dimensions": [
            "time",
            "air_pressure",
            "latitude_centers"
           ],
           "size": 1782,
           "standard_name": "mole_concentration_of_ozone_in_air",
           "units": "mol cm-3"
          },
          "dims": [
           "time",
           "air_pressure",
           "lat",
           "lon"
          ],
          "dtype": "float64",
          "name": "ozone_mole_concentation",
          "ndim": 4
         },
         {
          "attrs": {
           "chunk_sizes": [
            3,
            33,
            18
           ],
           "data_type": "float32",
           "dimensions": [
            "time",
            "air_pressure",
            "latitude_centers"
           ],
           "long_name": "uncertainty of the monthly zonal  mean data",
           "size": 1782,
           "units": "%"
          },
          "dims": [
           "time",
           "air_pressure",
           "lat",
           "lon"
          ],
          "dtype": "float32",
          "name": "standard_error_of_the_mean",
          "ndim": 4
         },
         {
          "attrs": {
           "chunk_sizes": [
            3,
            33,
            18
           ],
           "data_type": "float32",
           "dimensions": [
            "time",
            "air_pressure",
            "latitude_centers"
           ],
           "long_name": "Sample standard deviation in 1 month x10 deg bins",
           "size": 1782,
           "units": "%"
          },
          "dims": [
           "time",
           "air_pressure",
           "lat",
           "lon"
          ],
          "dtype": "float32",
          "name": "sample_standard_deviation",
          "ndim": 4
         },
         {
          "attrs": {
           "chunk_sizes": [
            3,
            33,
            18
           ],
           "data_type": "float32",
           "dimensions": [
            "time",
            "air_pressure",
            "latitude_centers"
           ],
           "long_name": "mean of error estimates",
           "size": 1782,
           "units": "%"
          },
          "dims": [
           "time",
           "air_pressure",
           "lat",
           "lon"
          ],
          "dtype": "float32",
          "name": "mean_uncertainty_estimate",
          "ndim": 4
         },
         {
          "attrs": {
           "chunk_sizes": [
            3,
            33,
            18
           ],
           "data_type": "float32",
           "dimensions": [
            "time",
            "air_pressure",
            "latitude_centers"
           ],
           "long_name": "inhomogeneity measure in time",
           "size": 1782,
           "units": "1"
          },
          "dims": [
           "time",
           "air_pressure",
           "lat",
           "lon"
          ],
          "dtype": "float32",
          "name": "inhomogeneity_in_time",
          "ndim": 4
         },
         {
          "attrs": {
           "chunk_sizes": [
            3,
            33,
            18
           ],
           "data_type": "float32",
           "dimensions": [
            "time",
            "air_pressure",
            "latitude_centers"
           ],
           "long_name": "inhomogeneity measure in latitude",
           "size": 1782,
           "units": "1"
          },
          "dims": [
           "time",
           "air_pressure",
           "lat",
           "lon"
          ],
          "dtype": "float32",
          "name": "inhomogeneity_in_latitude",
          "ndim": 4
         }
        ],
        "dims": {
         "air_pressure": 33,
         "lat": 18,
         "lon": 36,
         "time": 3
        },
        "open_params_schema": {
         "additionalProperties": false,
         "properties": {
          "bbox": {
           "items": [
            {
             "maximum": 180,
             "minimum": -180,
             "type": "number"
            },
            {
             "maximum": 90,
             "minimum": -90,
             "type": "number"
            },
            {
             "maximum": 180,
             "minimum": -180,
             "type": "number"
            },
            {
             "maximum": 90,
             "minimum": -90,
             "type": "number"
            }
           ],
           "type": "array"
          },
          "crs": {
           "const": "http://www.opengis.net/def/crs/EPSG/0/4326",
           "type": "string"
          },
          "time_range": {
           "items": [
            {
             "format": "date-time",
             "type": "string"
            },
            {
             "format": "date-time",
             "type": "string"
            }
           ],
           "type": "array"
          },
          "variable_names": {
           "items": {
            "enum": [
             "latitude_centers",
             "ozone_mixing_ratio",
             "ozone_mole_concentation",
             "standard_error_of_the_mean",
             "sample_standard_deviation",
             "mean_uncertainty_estimate",
             "inhomogeneity_in_time",
             "inhomogeneity_in_latitude"
            ],
            "type": "string"
           },
           "type": "array"
          }
         },
         "type": "object"
        },
        "spatial_res": 10,
        "time_range": [
         "2001-01-01T00:00:00",
         "2012-12-31T00:00:00"
        ],
        "type_id": "dataset"
       },
       {
        "attrs": {
         "Conventions": "CF-1.6",
         "Note": "netCDF compression applied.",
         "abstract": "This dataset contains Level 3 nadir profile ozone data  from the ESA Ozone Climate Change Initiative (CCI) project.   The Level 3 data are monthly averages on a regular 3D grid derived from level 2 ozone profiles.  In this version 2 of the dataset, data are available for 1997 and 2007 and 2008 only, and use data from the GOME instrument on ERS (1997) and the GOME-2 instrument on METOP-A (2007, 2008).",
         "bbox_maxx": "180.0",
         "bbox_maxy": "90.0",
         "bbox_minx": "-180.0",
         "bbox_miny": "-90.0",
         "cci_project": "OZONE",
         "comment": "These data were produced at KNMI as part of the ESA OZONE CCI project.",
         "creation_date": "2016-03-08T16:54:39",
         "creator_email": "peet@knmi.nl",
         "creator_name": "J.C.A. van Peet",
         "creator_url": "KNMI, http://www.knmi.nl/",
         "data_type": "NP",
         "date_created": "2014-01-08T12:50:21.908",
         "drs_id": "esacci.OZONE.mon.L3.NP.multi-sensor.multi-platform.MERGED.fv0002.r1",
         "ecv": "OZONE",
         "fid": "4eb4e801424a47f7b77434291921f889",
         "file_formats": [
          ".nc",
          ".txt"
         ],
         "geospatial_lat_max": 90,
         "geospatial_lat_min": -90,
         "geospatial_lat_resolution": 1,
         "geospatial_lat_units": "degree_north",
         "geospatial_lon_max": 180,
         "geospatial_lon_min": -180,
         "geospatial_lon_resolution": 1,
         "geospatial_lon_units": "degree_east",
         "geospatial_vertical_max": 1013,
         "geospatial_vertical_min": 0.01,
         "history": "L2 data gridded to global grid.",
         "id": "32CF0EE6-1F21-4FAE-B0BE-A8C6FD88A775",
         "institute": "Royal Netherlands Meteorological Institute",
         "institution": "Royal Netherlands Meteorological Institute, KNMI",
         "keywords": "satellite, observation, atmosphere, ozone",
         "licences": "Use of these data is covered by the following licence: http://licences.ceda.ac.uk/image/data_access_condition/esacci_ozone_terms_and_conditions.pdf . When using these data you must cite them correctly using the citation given on the CEDA Data Catalogue record.",
         "license": "data use is free and open",
         "metadata_url": "https://catalogue.ceda.ac.uk/export/xml/4eb4e801424a47f7b77434291921f889.xml",
         "naming_authority": "KNMI, http://www.knmi.nl/",
         "odd_url": "http://opensearch-test.ceda.ac.uk/opensearch/description.xml?parentIdentifier=4eb4e801424a47f7b77434291921f889",
         "platform": "merged: ERS-2, ENVISAT, EOS-AURA, METOP-A",
         "platform_id": "multi-platform",
         "processing_level": "L3",
         "product_string": "MERGED",
         "product_version": "fv0002",
         "project": "Climate Change Initiative - European Space Agency",
         "publication_date": "2016-03-08T16:54:39",
         "references": "http://www.esa-ozone-cci.org/",
         "sensor": "merged: GOME, SCIAMACHY, OMI and GOME-2.",
         "sensor_id": "multi-sensor",
         "source": "This dataset contains L2 profiles from GOME, SCIAMACHY, OMI and GOME-2 gridded onto a global grid.",
         "spatial_resolution": "see geospatial_lat_resolution and geospatial_lat_resolution",
         "standard_name_vocabulary": "NetCDF Climate and Forecast(CF) Metadata Convention version 20, 11 September 2012",
         "summary": "This dataset contains L2 profiles from GOME, SCIAMACHY, OMI and GOME-2 gridded onto a global grid.",
         "temporal_coverage_end": "2008-12-31T00:00:00",
         "temporal_coverage_start": "1997-01-01T00:00:00",
         "time_coverage_duration": "P1M",
         "time_coverage_end": "19970131T233849Z",
         "time_coverage_resolution": "P1M",
         "time_coverage_start": "19970104T102333Z",
         "time_frequency": "month",
         "title": "ESA Ozone Climate Change Initiative (Ozone CCI): Level 3 Nadir Ozone Profile Merged Data Product, version 2",
         "tracking_id": "32CF0EE6-1F21-4FAE-B0BE-A8C6FD88A775",
         "uuid": "4eb4e801424a47f7b77434291921f889",
         "variables": [
          {
           "long_name": "Pressure at the bottom of the atmosphere.",
           "name": "surface_pressure",
           "units": "hPa"
          },
          {
           "long_name": "air pressure at layer boundaries",
           "name": "air_pressure",
           "units": "hPa"
          },
          {
           "long_name": "error in the weighted average of the number density (#molecules/cm3)",
           "name": "O3e_ndens",
           "units": "6.02214E-17 mol m-3"
          },
          {
           "long_name": "error in the weighted average of the partial ozone columns (DU/layer)",
           "name": "O3e_du",
           "units": "446.15E-6 mol m-2"
          },
          {
           "long_name": "error in the weighted average of the volume mixing ratio (ppmv)",
           "name": "O3e_vmr",
           "units": "1e-6"
          },
          {
           "long_name": "latitude, from -90 (south) to +90 (north) given at gridcell centers",
           "name": "lat",
           "units": "degree_north"
          },
          {
           "long_name": "longitude, from -180 (west) to +180 (east) given at gridcell centers",
           "name": "lon",
           "units": "degree_east"
          },
          {
           "long_name": "model_level_number == layer number, starting at 1",
           "name": "layers",
           "units": "1"
          },
          {
           "long_name": "time",
           "name": "time",
           "units": ""
          },
          {
           "long_name": "total column error: quadratically added o3e_du (DU)",
           "name": "O3e_du_tot",
           "units": "446.15E-6 mol m-2"
          },
          {
           "long_name": "total column: vertically integrated O3_du dataset (DU)",
           "name": "O3_du_tot",
           "units": "446.15E-6 mol m-2"
          },
          {
           "long_name": "weighted average of the number density (#molecules/cm3)",
           "name": "O3_ndens",
           "units": "6.02214E-17 mol m-3"
          },
          {
           "long_name": "weighted average of the partial ozone columns (DU/layer)",
           "name": "O3_du",
           "units": "446.15E-6 mol m-2"
          },
          {
           "long_name": "weighted average of the volume mixing ratio (ppmv)",
           "name": "O3_vmr",
           "units": "1e-6"
          }
         ]
        },
        "bbox": [
         -180,
         -90,
         180,
         90
        ],
        "data_id": "esacci.OZONE.mon.L3.NP.multi-sensor.multi-platform.MERGED.fv0002.r1",
        "data_vars": [
         {
          "attrs": {
           "chunk_sizes": [
            1,
            180,
            360
           ],
           "data_type": "float32",
           "dimensions": [
            "time",
            "lat",
            "lon"
           ],
           "fill_value": "nan",
           "long_name": "Pressure at the bottom of the atmosphere.",
           "size": 64800,
           "standard_name": "surface_air_pressure",
           "units": "hPa"
          },
          "dims": [
           "time",
           "lat",
           "lon"
          ],
          "dtype": "float32",
          "name": "surface_pressure",
          "ndim": 3
         },
         {
          "attrs": {
           "chunk_sizes": [
            1,
            8,
            180,
            360
           ],
           "data_type": "float32",
           "dimensions": [
            "time",
            "layers",
            "lat",
            "lon"
           ],
           "fill_value": "nan",
           "long_name": "weighted average of the partial ozone columns (DU/layer)",
           "size": 1036800,
           "standard_name": "mole_content_of_ozone_in_atmosphere_layer",
           "units": "446.15E-6 mol m-2"
          },
          "dims": [
           "time",
           "layers",
           "lat",
           "lon"
          ],
          "dtype": "float32",
          "name": "O3_du",
          "ndim": 4
         },
         {
          "attrs": {
           "chunk_sizes": [
            1,
            8,
            180,
            360
           ],
           "data_type": "float32",
           "dimensions": [
            "time",
            "layers",
            "lat",
            "lon"
           ],
           "fill_value": "nan",
           "long_name": "error in the weighted average of the partial ozone columns (DU/layer)",
           "size": 1036800,
           "standard_name": "mole_content_of_ozone_in_atmosphere_layer standard_error",
           "units": "446.15E-6 mol m-2"
          },
          "dims": [
           "time",
           "layers",
           "lat",
           "lon"
          ],
          "dtype": "float32",
          "name": "O3e_du",
          "ndim": 4
         },
         {
          "attrs": {
           "chunk_sizes": [
            1,
            180,
            360
           ],
           "data_type": "float32",
           "dimensions": [
            "time",
            "lat",
            "lon"
           ],
           "fill_value": "nan",
           "long_name": "total column: vertically integrated O3_du dataset (DU)",
           "size": 64800,
           "standard_name": "atmosphere_mole_content_of_ozone",
           "units": "446.15E-6 mol m-2"
          },
          "dims": [
           "time",
           "lat",
           "lon"
          ],
          "dtype": "float32",
          "name": "O3_du_tot",
          "ndim": 3
         },
         {
          "attrs": {
           "chunk_sizes": [
            1,
            180,
            360
           ],
           "data_type": "float32",
           "dimensions": [
            "time",
            "lat",
            "lon"
           ],
           "fill_value": "nan",
           "long_name": "total column error: quadratically added o3e_du (DU)",
           "size": 64800,
           "standard_name": "atmosphere_mole_content_of_ozone standard_error",
           "units": "446.15E-6 mol m-2"
          },
          "dims": [
           "time",
           "lat",
           "lon"
          ],
          "dtype": "float32",
          "name": "O3e_du_tot",
          "ndim": 3
         },
         {
          "attrs": {
           "chunk_sizes": [
            1,
            9,
            90,
            180
           ],
           "data_type": "float32",
           "dimensions": [
            "time",
            "air_pressure",
            "lat",
            "lon"
           ],
           "fill_value": "nan",
           "long_name": "weighted average of the volume mixing ratio (ppmv)",
           "size": 1101600,
           "standard_name": "mole_fraction_of_ozone_in_air",
           "units": "1e-6"
          },
          "dims": [
           "time",
           "air_pressure",
           "lat",
           "lon"
          ],
          "dtype": "float32",
          "name": "O3_vmr",
          "ndim": 4
         },
         {
          "attrs": {
           "chunk_sizes": [
            1,
            9,
            90,
            180
           ],
           "data_type": "float32",
           "dimensions": [
            "time",
            "air_pressure",
            "lat",
            "lon"
           ],
           "fill_value": "nan",
           "long_name": "error in the weighted average of the volume mixing ratio (ppmv)",
           "size": 1101600,
           "standard_name": "mole_fraction_of_ozone_in_air standard_error",
           "units": "1e-6"
          },
          "dims": [
           "time",
           "air_pressure",
           "lat",
           "lon"
          ],
          "dtype": "float32",
          "name": "O3e_vmr",
          "ndim": 4
         },
         {
          "attrs": {
           "chunk_sizes": [
            1,
            9,
            90,
            180
           ],
           "data_type": "float32",
           "dimensions": [
            "time",
            "air_pressure",
            "lat",
            "lon"
           ],
           "fill_value": "nan",
           "long_name": "weighted average of the number density (#molecules/cm3)",
           "size": 1101600,
           "standard_name": "mole_concentration_of_ozone_in_air",
           "units": "6.02214E-17 mol m-3"
          },
          "dims": [
           "time",
           "air_pressure",
           "lat",
           "lon"
          ],
          "dtype": "float32",
          "name": "O3_ndens",
          "ndim": 4
         },
         {
          "attrs": {
           "chunk_sizes": [
            1,
            9,
            90,
            180
           ],
           "data_type": "float32",
           "dimensions": [
            "time",
            "air_pressure",
            "lat",
            "lon"
           ],
           "fill_value": "nan",
           "long_name": "error in the weighted average of the number density (#molecules/cm3)",
           "size": 1101600,
           "standard_name": "mole_concentration_of_ozone_in_air standard_error",
           "units": "6.02214E-17 mol m-3"
          },
          "dims": [
           "time",
           "air_pressure",
           "lat",
           "lon"
          ],
          "dtype": "float32",
          "name": "O3e_ndens",
          "ndim": 4
         }
        ],
        "dims": {
         "air_pressure": 17,
         "lat": 180,
         "layers": 16,
         "lon": 360,
         "time": 1
        },
        "open_params_schema": {
         "additionalProperties": false,
         "properties": {
          "bbox": {
           "items": [
            {
             "maximum": 180,
             "minimum": -180,
             "type": "number"
            },
            {
             "maximum": 90,
             "minimum": -90,
             "type": "number"
            },
            {
             "maximum": 180,
             "minimum": -180,
             "type": "number"
            },
            {
             "maximum": 90,
             "minimum": -90,
             "type": "number"
            }
           ],
           "type": "array"
          },
          "crs": {
           "const": "http://www.opengis.net/def/crs/EPSG/0/4326",
           "type": "string"
          },
          "time_range": {
           "items": [
            {
             "format": "date-time",
             "type": "string"
            },
            {
             "format": "date-time",
             "type": "string"
            }
           ],
           "type": "array"
          },
          "variable_names": {
           "items": {
            "enum": [
             "surface_pressure",
             "O3_du",
             "O3e_du",
             "O3_du_tot",
             "O3e_du_tot",
             "O3_vmr",
             "O3e_vmr",
             "O3_ndens",
             "O3e_ndens"
            ],
            "type": "string"
           },
           "type": "array"
          }
         },
         "type": "object"
        },
        "spatial_res": 1,
        "time_period": "1M",
        "time_range": [
         "1997-01-01T00:00:00",
         "2008-12-31T00:00:00"
        ],
        "type_id": "dataset"
       }
      ],
      "text/plain": [
       "<IPython.core.display.JSON object>"
      ]
     },
     "execution_count": 10,
     "metadata": {
      "application/json": {
       "expanded": false,
       "root": "root"
      }
     },
     "output_type": "execute_result"
    }
   ],
   "source": [
    "iterator = store.search_data(ecv='OZONE', frequency='month')\n",
    "JSON([item.to_dict() for item in iterator])"
   ]
  },
  {
   "cell_type": "markdown",
   "metadata": {},
   "source": [
    "Which parameters must I pass or are available to open the dataset?"
   ]
  },
  {
   "cell_type": "code",
   "execution_count": 11,
   "metadata": {},
   "outputs": [
    {
     "data": {
      "application/json": {
       "additionalProperties": false,
       "properties": {
        "bbox": {
         "items": [
          {
           "maximum": 180,
           "minimum": -180,
           "type": "number"
          },
          {
           "maximum": 90,
           "minimum": -90,
           "type": "number"
          },
          {
           "maximum": 180,
           "minimum": -180,
           "type": "number"
          },
          {
           "maximum": 90,
           "minimum": -90,
           "type": "number"
          }
         ],
         "type": "array"
        },
        "crs": {
         "const": "http://www.opengis.net/def/crs/EPSG/0/4326",
         "type": "string"
        },
        "time_range": {
         "items": [
          {
           "format": "date-time",
           "type": "string"
          },
          {
           "format": "date-time",
           "type": "string"
          }
         ],
         "type": "array"
        },
        "variable_names": {
         "items": {
          "enum": [
           "surface_pressure",
           "O3_du",
           "O3e_du",
           "O3_du_tot",
           "O3e_du_tot",
           "O3_vmr",
           "O3e_vmr",
           "O3_ndens",
           "O3e_ndens"
          ],
          "type": "string"
         },
         "type": "array"
        }
       },
       "type": "object"
      },
      "text/plain": [
       "<xcube.util.jsonschema.JsonObjectSchema at 0x1e28cd225c8>"
      ]
     },
     "execution_count": 11,
     "metadata": {},
     "output_type": "execute_result"
    }
   ],
   "source": [
    "store.get_open_data_params_schema('esacci.OZONE.mon.L3.NP.multi-sensor.multi-platform.MERGED.fv0002.r1')"
   ]
  },
  {
   "cell_type": "markdown",
   "metadata": {},
   "source": [
    "There are 4 required parameters, so we need to provide them to open a dataset:"
   ]
  },
  {
   "cell_type": "code",
   "execution_count": 13,
   "metadata": {},
   "outputs": [
    {
     "ename": "ValidationError",
     "evalue": "Additional properties are not allowed ('var_names' was unexpected)\n\nFailed validating 'additionalProperties' in schema:\n    {'additionalProperties': False,\n     'properties': {'bbox': {'items': [{'maximum': 180,\n                                        'minimum': -180,\n                                        'type': 'number'},\n                                       {'maximum': 90,\n                                        'minimum': -90,\n                                        'type': 'number'},\n                                       {'maximum': 180,\n                                        'minimum': -180,\n                                        'type': 'number'},\n                                       {'maximum': 90,\n                                        'minimum': -90,\n                                        'type': 'number'}],\n                             'type': 'array'},\n                    'crs': {'const': 'http://www.opengis.net/def/crs/EPSG/0/4326',\n                            'type': 'string'},\n                    'time_range': {'items': [{'format': 'date-time',\n                                              'type': 'string'},\n                                             {'format': 'date-time',\n                                              'type': 'string'}],\n                                   'type': 'array'},\n                    'variable_names': {'items': {'enum': ['surface_pressure',\n                                                          'O3_du',\n                                                          'O3e_du',\n                                                          'O3_du_tot',\n                                                          'O3e_du_tot',\n                                                          'O3_vmr',\n                                                          'O3e_vmr',\n                                                          'O3_ndens',\n                                                          'O3e_ndens'],\n                                                 'type': 'string'},\n                                       'type': 'array'}},\n     'type': 'object'}\n\nOn instance:\n    {'time_range': ['2008-01-01', '2008-12-10'],\n     'var_names': ['surface_pressure', 'O3_du', 'O3_du_tot']}",
     "output_type": "error",
     "traceback": [
      "\u001b[1;31m---------------------------------------------------------------------------\u001b[0m",
      "\u001b[1;31mValidationError\u001b[0m                           Traceback (most recent call last)",
      "\u001b[1;32m<ipython-input-13-ebc5ab1a513e>\u001b[0m in \u001b[0;36m<module>\u001b[1;34m\u001b[0m\n\u001b[0;32m      2\u001b[0m     \u001b[1;34m'esacci.OZONE.mon.L3.NP.multi-sensor.multi-platform.MERGED.fv0002.r1'\u001b[0m\u001b[1;33m,\u001b[0m\u001b[1;33m\u001b[0m\u001b[1;33m\u001b[0m\u001b[0m\n\u001b[0;32m      3\u001b[0m     \u001b[0mvar_names\u001b[0m\u001b[1;33m=\u001b[0m\u001b[1;33m[\u001b[0m\u001b[1;34m'surface_pressure'\u001b[0m\u001b[1;33m,\u001b[0m \u001b[1;34m'O3_du'\u001b[0m\u001b[1;33m,\u001b[0m \u001b[1;34m'O3_du_tot'\u001b[0m\u001b[1;33m]\u001b[0m\u001b[1;33m,\u001b[0m\u001b[1;33m\u001b[0m\u001b[1;33m\u001b[0m\u001b[0m\n\u001b[1;32m----> 4\u001b[1;33m     time_range=['2008-01-01','2008-12-10'])\n\u001b[0m\u001b[0;32m      5\u001b[0m \u001b[1;33m\u001b[0m\u001b[0m\n\u001b[0;32m      6\u001b[0m \u001b[0mxarray\u001b[0m\u001b[1;33m.\u001b[0m\u001b[0mset_options\u001b[0m\u001b[1;33m(\u001b[0m\u001b[0mdisplay_style\u001b[0m\u001b[1;33m=\u001b[0m\u001b[1;34m\"text\"\u001b[0m\u001b[1;33m)\u001b[0m\u001b[1;33m\u001b[0m\u001b[1;33m\u001b[0m\u001b[0m\n",
      "\u001b[1;32md:\\projects\\xcube-cci\\xcube_cci\\dataaccess.py\u001b[0m in \u001b[0;36mopen_data\u001b[1;34m(self, data_id, opener_id, **open_params)\u001b[0m\n\u001b[0;32m    350\u001b[0m     \u001b[1;32mdef\u001b[0m \u001b[0mopen_data\u001b[0m\u001b[1;33m(\u001b[0m\u001b[0mself\u001b[0m\u001b[1;33m,\u001b[0m \u001b[0mdata_id\u001b[0m\u001b[1;33m:\u001b[0m \u001b[0mstr\u001b[0m\u001b[1;33m,\u001b[0m \u001b[0mopener_id\u001b[0m\u001b[1;33m:\u001b[0m \u001b[0mstr\u001b[0m \u001b[1;33m=\u001b[0m \u001b[1;32mNone\u001b[0m\u001b[1;33m,\u001b[0m \u001b[1;33m**\u001b[0m\u001b[0mopen_params\u001b[0m\u001b[1;33m)\u001b[0m \u001b[1;33m->\u001b[0m \u001b[0mxr\u001b[0m\u001b[1;33m.\u001b[0m\u001b[0mDataset\u001b[0m\u001b[1;33m:\u001b[0m\u001b[1;33m\u001b[0m\u001b[1;33m\u001b[0m\u001b[0m\n\u001b[0;32m    351\u001b[0m         \u001b[0mself\u001b[0m\u001b[1;33m.\u001b[0m\u001b[0m_assert_valid_opener_id\u001b[0m\u001b[1;33m(\u001b[0m\u001b[0mopener_id\u001b[0m\u001b[1;33m)\u001b[0m\u001b[1;33m\u001b[0m\u001b[1;33m\u001b[0m\u001b[0m\n\u001b[1;32m--> 352\u001b[1;33m         \u001b[1;32mreturn\u001b[0m \u001b[0msuper\u001b[0m\u001b[1;33m(\u001b[0m\u001b[1;33m)\u001b[0m\u001b[1;33m.\u001b[0m\u001b[0mopen_data\u001b[0m\u001b[1;33m(\u001b[0m\u001b[0mdata_id\u001b[0m\u001b[1;33m,\u001b[0m \u001b[1;33m**\u001b[0m\u001b[0mopen_params\u001b[0m\u001b[1;33m)\u001b[0m\u001b[1;33m\u001b[0m\u001b[1;33m\u001b[0m\u001b[0m\n\u001b[0m\u001b[0;32m    353\u001b[0m \u001b[1;33m\u001b[0m\u001b[0m\n\u001b[0;32m    354\u001b[0m     \u001b[1;31m#############################################################################\u001b[0m\u001b[1;33m\u001b[0m\u001b[1;33m\u001b[0m\u001b[1;33m\u001b[0m\u001b[0m\n",
      "\u001b[1;32md:\\projects\\xcube-cci\\xcube_cci\\dataaccess.py\u001b[0m in \u001b[0;36mopen_data\u001b[1;34m(self, data_id, opener_id, **open_params)\u001b[0m\n\u001b[0;32m    180\u001b[0m     \u001b[1;32mdef\u001b[0m \u001b[0mopen_data\u001b[0m\u001b[1;33m(\u001b[0m\u001b[0mself\u001b[0m\u001b[1;33m,\u001b[0m \u001b[0mdata_id\u001b[0m\u001b[1;33m:\u001b[0m \u001b[0mstr\u001b[0m\u001b[1;33m,\u001b[0m \u001b[0mopener_id\u001b[0m\u001b[1;33m:\u001b[0m \u001b[0mstr\u001b[0m \u001b[1;33m=\u001b[0m \u001b[1;32mNone\u001b[0m\u001b[1;33m,\u001b[0m \u001b[1;33m**\u001b[0m\u001b[0mopen_params\u001b[0m\u001b[1;33m)\u001b[0m \u001b[1;33m->\u001b[0m \u001b[0mAny\u001b[0m\u001b[1;33m:\u001b[0m\u001b[1;33m\u001b[0m\u001b[1;33m\u001b[0m\u001b[0m\n\u001b[0;32m    181\u001b[0m         \u001b[0mcci_schema\u001b[0m \u001b[1;33m=\u001b[0m \u001b[0mself\u001b[0m\u001b[1;33m.\u001b[0m\u001b[0mget_open_data_params_schema\u001b[0m\u001b[1;33m(\u001b[0m\u001b[0mdata_id\u001b[0m\u001b[1;33m)\u001b[0m\u001b[1;33m\u001b[0m\u001b[1;33m\u001b[0m\u001b[0m\n\u001b[1;32m--> 182\u001b[1;33m         \u001b[0mcci_schema\u001b[0m\u001b[1;33m.\u001b[0m\u001b[0mvalidate_instance\u001b[0m\u001b[1;33m(\u001b[0m\u001b[0mopen_params\u001b[0m\u001b[1;33m)\u001b[0m\u001b[1;33m\u001b[0m\u001b[1;33m\u001b[0m\u001b[0m\n\u001b[0m\u001b[0;32m    183\u001b[0m         cube_kwargs, open_params = cci_schema.process_kwargs_subset(open_params, (\n\u001b[0;32m    184\u001b[0m             \u001b[1;34m'variable_names'\u001b[0m\u001b[1;33m,\u001b[0m\u001b[1;33m\u001b[0m\u001b[1;33m\u001b[0m\u001b[0m\n",
      "\u001b[1;32md:\\projects\\xcube\\xcube\\util\\jsonschema.py\u001b[0m in \u001b[0;36mvalidate_instance\u001b[1;34m(self, instance)\u001b[0m\n\u001b[0;32m    103\u001b[0m                             \u001b[0mformat_checker\u001b[0m\u001b[1;33m=\u001b[0m\u001b[0mjsonschema\u001b[0m\u001b[1;33m.\u001b[0m\u001b[0mdraft7_format_checker\u001b[0m\u001b[1;33m,\u001b[0m\u001b[1;33m\u001b[0m\u001b[1;33m\u001b[0m\u001b[0m\n\u001b[0;32m    104\u001b[0m                             \u001b[1;31m# We have to explicitly sanction tuples as arrays.\u001b[0m\u001b[1;33m\u001b[0m\u001b[1;33m\u001b[0m\u001b[1;33m\u001b[0m\u001b[0m\n\u001b[1;32m--> 105\u001b[1;33m                             types=dict(array=(list, tuple)))\n\u001b[0m\u001b[0;32m    106\u001b[0m \u001b[1;33m\u001b[0m\u001b[0m\n\u001b[0;32m    107\u001b[0m     \u001b[1;32mdef\u001b[0m \u001b[0mto_instance\u001b[0m\u001b[1;33m(\u001b[0m\u001b[0mself\u001b[0m\u001b[1;33m,\u001b[0m \u001b[0mvalue\u001b[0m\u001b[1;33m:\u001b[0m \u001b[0mAny\u001b[0m\u001b[1;33m)\u001b[0m \u001b[1;33m->\u001b[0m \u001b[0mAny\u001b[0m\u001b[1;33m:\u001b[0m\u001b[1;33m\u001b[0m\u001b[1;33m\u001b[0m\u001b[0m\n",
      "\u001b[1;32mD:\\Miniconda3\\envs\\xcube\\lib\\site-packages\\jsonschema\\validators.py\u001b[0m in \u001b[0;36mvalidate\u001b[1;34m(instance, schema, cls, *args, **kwargs)\u001b[0m\n\u001b[0;32m    932\u001b[0m     \u001b[0merror\u001b[0m \u001b[1;33m=\u001b[0m \u001b[0mexceptions\u001b[0m\u001b[1;33m.\u001b[0m\u001b[0mbest_match\u001b[0m\u001b[1;33m(\u001b[0m\u001b[0mvalidator\u001b[0m\u001b[1;33m.\u001b[0m\u001b[0miter_errors\u001b[0m\u001b[1;33m(\u001b[0m\u001b[0minstance\u001b[0m\u001b[1;33m)\u001b[0m\u001b[1;33m)\u001b[0m\u001b[1;33m\u001b[0m\u001b[1;33m\u001b[0m\u001b[0m\n\u001b[0;32m    933\u001b[0m     \u001b[1;32mif\u001b[0m \u001b[0merror\u001b[0m \u001b[1;32mis\u001b[0m \u001b[1;32mnot\u001b[0m \u001b[1;32mNone\u001b[0m\u001b[1;33m:\u001b[0m\u001b[1;33m\u001b[0m\u001b[1;33m\u001b[0m\u001b[0m\n\u001b[1;32m--> 934\u001b[1;33m         \u001b[1;32mraise\u001b[0m \u001b[0merror\u001b[0m\u001b[1;33m\u001b[0m\u001b[1;33m\u001b[0m\u001b[0m\n\u001b[0m\u001b[0;32m    935\u001b[0m \u001b[1;33m\u001b[0m\u001b[0m\n\u001b[0;32m    936\u001b[0m \u001b[1;33m\u001b[0m\u001b[0m\n",
      "\u001b[1;31mValidationError\u001b[0m: Additional properties are not allowed ('var_names' was unexpected)\n\nFailed validating 'additionalProperties' in schema:\n    {'additionalProperties': False,\n     'properties': {'bbox': {'items': [{'maximum': 180,\n                                        'minimum': -180,\n                                        'type': 'number'},\n                                       {'maximum': 90,\n                                        'minimum': -90,\n                                        'type': 'number'},\n                                       {'maximum': 180,\n                                        'minimum': -180,\n                                        'type': 'number'},\n                                       {'maximum': 90,\n                                        'minimum': -90,\n                                        'type': 'number'}],\n                             'type': 'array'},\n                    'crs': {'const': 'http://www.opengis.net/def/crs/EPSG/0/4326',\n                            'type': 'string'},\n                    'time_range': {'items': [{'format': 'date-time',\n                                              'type': 'string'},\n                                             {'format': 'date-time',\n                                              'type': 'string'}],\n                                   'type': 'array'},\n                    'variable_names': {'items': {'enum': ['surface_pressure',\n                                                          'O3_du',\n                                                          'O3e_du',\n                                                          'O3_du_tot',\n                                                          'O3e_du_tot',\n                                                          'O3_vmr',\n                                                          'O3e_vmr',\n                                                          'O3_ndens',\n                                                          'O3e_ndens'],\n                                                 'type': 'string'},\n                                       'type': 'array'}},\n     'type': 'object'}\n\nOn instance:\n    {'time_range': ['2008-01-01', '2008-12-10'],\n     'var_names': ['surface_pressure', 'O3_du', 'O3_du_tot']}"
     ]
    }
   ],
   "source": [
    "dataset = store.open_data(\n",
    "    'esacci.OZONE.mon.L3.NP.multi-sensor.multi-platform.MERGED.fv0002.r1', \n",
    "    var_names=['surface_pressure', 'O3_du', 'O3_du_tot'],\n",
    "    time_range=['2008-01-01','2008-12-10'])\n",
    "\n",
    "xarray.set_options(display_style=\"text\")\n",
    "\n",
    "dataset\n",
    "\n"
   ]
  },
  {
   "cell_type": "code",
   "execution_count": null,
   "metadata": {},
   "outputs": [],
   "source": [
    "dataset.surface_pressure.isel(time=1).plot.imshow(cmap='Greys', figsize=(16, 8))"
   ]
  },
  {
   "cell_type": "code",
   "execution_count": null,
   "metadata": {},
   "outputs": [],
   "source": []
  }
 ],
 "metadata": {
  "kernelspec": {
   "display_name": "Python 3",
   "language": "python",
   "name": "python3"
  },
  "language_info": {
   "codemirror_mode": {
    "name": "ipython",
    "version": 3
   },
   "file_extension": ".py",
   "mimetype": "text/x-python",
   "name": "python",
   "nbconvert_exporter": "python",
   "pygments_lexer": "ipython3",
   "version": "3.7.6"
  }
 },
 "nbformat": 4,
 "nbformat_minor": 4
}

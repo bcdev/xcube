{
 "cells": [
  {
   "cell_type": "markdown",
   "id": "wired-imagination",
   "metadata": {},
   "source": [
    "## xcube Data Cube Generator Service\n",
    "\n",
    "This notebook provides a walk-through demonstrating how to use the _data cube generator service_.\n",
    "\n",
    "The data cube generator service demonstrated here is a Python client for the [xcube service generator API](https://stage.xcube-gen.brockmann-consult.de/api/v2/ui/).\n",
    "\n",
    "The Python client is represented by the calss `CubeGeneratorService`. Instances of this are created by passing it a \n",
    "`CubeGeneratorRequest` and a `ServiceConfig` instance. Here are imports for the named classes:"
   ]
  },
  {
   "cell_type": "code",
   "execution_count": 9,
   "id": "durable-reality",
   "metadata": {},
   "outputs": [],
   "source": [
    "from xcube.core.gen2 import CubeGeneratorRequest\n",
    "from xcube.core.gen2.service import CubeGeneratorService\n",
    "from xcube.core.gen2.service import ServiceConfig"
   ]
  },
  {
   "cell_type": "markdown",
   "id": "unlimited-document",
   "metadata": {},
   "source": [
    "We first need to provide `client_id` and `client_secret` to authorize for using the service. \n",
    "An `endpoint_url` is optional and defaults to the standard endpoint for the EuroDataCube cube generation service."
   ]
  },
  {
   "cell_type": "code",
   "execution_count": 2,
   "id": "smaller-resistance",
   "metadata": {},
   "outputs": [],
   "source": [
    "service_config_json = {\n",
    "    \"client_id\": \"...\",\n",
    "    \"client_secret\": \"...\"\n",
    "}"
   ]
  },
  {
   "cell_type": "markdown",
   "id": "matched-million",
   "metadata": {},
   "source": [
    "However, it is much saver to ingest service configuration from a JSON or YAML file (the file path used must be adjusted):"
   ]
  },
  {
   "cell_type": "code",
   "execution_count": 3,
   "id": "streaming-adjustment",
   "metadata": {},
   "outputs": [],
   "source": [
    "import yaml\n",
    "with open('../../../edc-service.yml') as fp:\n",
    "    service_config_json = yaml.safe_load(fp)"
   ]
  },
  {
   "cell_type": "markdown",
   "id": "medical-banana",
   "metadata": {},
   "source": [
    "Validate and convert `service_config_json` to a service configuration object:"
   ]
  },
  {
   "cell_type": "code",
   "execution_count": 10,
   "id": "outer-recorder",
   "metadata": {},
   "outputs": [],
   "source": [
    "service_config = ServiceConfig.from_dict(service_config_json)"
   ]
  },
  {
   "cell_type": "markdown",
   "id": "increased-silence",
   "metadata": {},
   "source": [
    "Now we define the _cube generator request_. \n",
    "The following example is supposed to read an `S2L2A` dataset from the Sentinel Hub data store (`input_config`), \n",
    "using numerous target cube parameters(`cube_config`), and\n",
    "writes the target cube to a well-known scratch bucket in AWS S3 (`output_config`).\n",
    "\n",
    "This is how a _cube generator request_ looks as a (JSON) dictionary:"
   ]
  },
  {
   "cell_type": "code",
   "execution_count": 11,
   "id": "violent-greeting",
   "metadata": {},
   "outputs": [],
   "source": [
    "request_json = {\n",
    "  \"input_config\": {\n",
    "    \"store_id\": \"@sentinelhub_eu\",\n",
    "    \"data_id\": \"S2L2A\"\n",
    "  },\n",
    "  \"cube_config\": {\n",
    "    \"variable_names\": [\"B04\", \"B05\"],\n",
    "    \"bbox\": [7, 53, 9, 55],\n",
    "    \"spatial_res\": 0.001,\n",
    "    \"tile_size\": [1024, 1024],\n",
    "    \"crs\": \"WGS84\",\n",
    "    \"time_range\": [\"2019-08-05\", \"2019-08-10\"],\n",
    "    \"time_period\": \"1D\"\n",
    "  },\n",
    "  \"output_config\": {\n",
    "    \"store_id\": \"@eurodatacube_scratch\",\n",
    "    \"data_id\": \"S2L2A_B04_B05_7_53_9_55.zarr\",\n",
    "    \"replace\": True\n",
    "  }\n",
    "}"
   ]
  },
  {
   "cell_type": "markdown",
   "id": "outstanding-liverpool",
   "metadata": {},
   "source": [
    "Validate and convert `request_json` to a request object:"
   ]
  },
  {
   "cell_type": "code",
   "execution_count": 12,
   "id": "continued-pacific",
   "metadata": {},
   "outputs": [
    {
     "data": {
      "application/json": {
       "cube_config": {
        "bbox": [
         7,
         53,
         9,
         55
        ],
        "crs": "WGS84",
        "spatial_res": 0.001,
        "tile_size": [
         1024,
         1024
        ],
        "time_period": "1D",
        "time_range": [
         "2019-08-05",
         "2019-08-10"
        ],
        "variable_names": [
         "B04",
         "B05"
        ]
       },
       "input_config": {
        "data_id": "S2L2A",
        "store_id": "@sentinelhub_eu"
       },
       "output_config": {
        "data_id": "S2L2A_B04_B05_7_53_9_55.zarr",
        "replace": true,
        "store_id": "@eurodatacube_scratch"
       }
      },
      "text/plain": [
       "<xcube.core.gen2.request.CubeGeneratorRequest at 0x1a7d5165880>"
      ]
     },
     "execution_count": 12,
     "metadata": {},
     "output_type": "execute_result"
    }
   ],
   "source": [
    "request = CubeGeneratorRequest.from_dict(request_json)\n",
    "request"
   ]
  },
  {
   "cell_type": "markdown",
   "id": "returning-poetry",
   "metadata": {},
   "source": [
    "Instantiate the generator object:"
   ]
  },
  {
   "cell_type": "code",
   "execution_count": 13,
   "id": "cathedral-serbia",
   "metadata": {},
   "outputs": [],
   "source": [
    "gen = CubeGeneratorService(request, service_config, verbosity=1)"
   ]
  },
  {
   "cell_type": "markdown",
   "id": "iraqi-million",
   "metadata": {},
   "source": [
    "Get some information about the cube that would be generated by `gen` (this may take several seconds to complete):"
   ]
  },
  {
   "cell_type": "code",
   "execution_count": 14,
   "id": "proper-apartment",
   "metadata": {},
   "outputs": [
    {
     "ename": "RuntimeError",
     "evalue": "internal error: unexpected response from API call https://stage.xcube-gen.brockmann-consult.de/api/v2/cubegens/info: Additional properties are not allowed ('result' was unexpected)\n\nFailed validating 'additionalProperties' in schema:\n    {'additionalProperties': False,\n     'properties': {'cost_estimation': {'additionalProperties': True,\n                                        'type': 'object'},\n                    'dataset_descriptor': {'additionalProperties': False,\n                                           'properties': {'attrs': {'additionalProperties': True,\n                                                                    'type': 'object'},\n                                                          'bbox': {'items': [{'type': 'number'},\n                                                                             {'type': 'number'},\n                                                                             {'type': 'number'},\n                                                                             {'type': 'number'}],\n                                                                   'type': 'array'},\n                                                          'coords': {'additionalProperties': {'additionalProperties': False,\n                                                                                              'properties': {'attrs': {'additionalProperties': True,\n                                                                                                                       'type': 'object'},\n                                                                                                             'chunks': {'items': {'minimum': 0,\n                                                                                                                                  'type': 'integer'},\n                                                                                                                        'type': 'array'},\n                                                                                                             'dims': {'items': {'minLength': 1,\n                                                                                                                                'type': 'string'},\n                                                                                                                      'type': 'array'},\n                                                                                                             'dtype': {'minLength': 1,\n                                                                                                                       'type': 'string'},\n                                                                                                             'name': {'minLength': 1,\n                                                                                                                      'type': 'string'}},\n                                                                                              'required': ['dtype',\n                                                                                                           'name',\n                                                                                                           'dims'],\n                                                                                              'type': 'object'},\n                                                                     'type': 'object'},\n                                                          'crs': {'minLength': 1,\n                                                                  'type': 'string'},\n                                                          'data_id': {'minLength': 1,\n                                                                      'type': 'string'},\n                                                          'data_vars': {'additionalProperties': {'additionalProperties': False,\n                                                                                                 'properties': {'attrs': {'additionalProperties': True,\n                                                                                                                          'type': 'object'},\n                                                                                                                'chunks': {'items': {'minimum': 0,\n                                                                                                                                     'type': 'integer'},\n                                                                                                                           'type': 'array'},\n                                                                                                                'dims': {'items': {'minLength': 1,\n                                                                                                                                   'type': 'string'},\n                                                                                                                         'type': 'array'},\n                                                                                                                'dtype': {'minLength': 1,\n                                                                                                                          'type': 'string'},\n                                                                                                                'name': {'minLength': 1,\n                                                                                                                         'type': 'string'}},\n                                                                                                 'required': ['dtype',\n                                                                                                              'name',\n                                                                                                              'dims'],\n                                                                                                 'type': 'object'},\n                                                                        'type': 'object'},\n                                                          'dims': {'additionalProperties': {'minimum': 0,\n                                                                                            'type': 'integer'},\n                                                                   'type': 'object'},\n                                                          'open_params_schema': {'additionalProperties': True,\n                                                                                 'type': 'object'},\n                                                          'spatial_res': {'exclusiveMinimum': 0.0,\n                                                                          'type': 'number'},\n                                                          'time_period': {'minLength': 1,\n                                                                          'type': 'string'},\n                                                          'time_range': {'items': [{'format': 'date',\n                                                                                    'type': ['string',\n                                                                                             'null']},\n                                                                                   {'format': 'date',\n                                                                                    'type': ['string',\n                                                                                             'null']}],\n                                                                         'type': ['array',\n                                                                                  'null']},\n                                                          'type_specifier': {'minLength': 1,\n                                                                             'type': 'string'}},\n                                           'required': ['data_id'],\n                                           'type': 'object'},\n                    'size_estimation': {'additionalProperties': True,\n                                        'type': 'object'}},\n     'required': ['cost_estimation',\n                  'dataset_descriptor',\n                  'size_estimation'],\n     'type': 'object'}\n\nOn instance:\n    {'result': {'data_store': {'cost_params': {'input_pixels_per_punit': 262144,\n                                               'input_punits_weight': 1.0,\n                                               'output_pixels_per_punit': 262144,\n                                               'output_punits_weight': 1.0},\n                               'store_id': 'sentinelhub',\n                               'store_params': {'api_url': 'https://services.sentinel-hub.com'},\n                               'title': 'SENTINEL Hub (Central Europe)'},\n                'dataset_descriptor': {'bbox': [7.0, 53.0, 9.0, 55.0],\n                                       'crs': 'WGS84',\n                                       'data_id': 'S2L2A_B04_B05_7_53_9_55.zarr',\n                                       'data_vars': {'B04': {'dims': ['time',\n                                                                      'lat',\n                                                                      'lon'],\n                                                             'dtype': 'float32',\n                                                             'name': 'B04',\n                                                             'ndim': 3},\n                                                     'B05': {'dims': ['time',\n                                                                      'lat',\n                                                                      'lon'],\n                                                             'dtype': 'float32',\n                                                             'name': 'B05',\n                                                             'ndim': 3}},\n                                       'dims': {'lat': 2048,\n                                                'lon': 2048,\n                                                'time': 6},\n                                       'spatial_res': 0.001,\n                                       'time_period': '1D',\n                                       'time_range': ['2019-08-05',\n                                                      '2019-08-10'],\n                                       'type_specifier': 'dataset'},\n                'punits': {'input_count': 192,\n                           'input_weight': 1.0,\n                           'output_count': 192,\n                           'output_weight': 1.0,\n                           'total_count': 192},\n                'size_estimation': {'image_size': [2048, 2048],\n                                    'num_bytes': 201326592,\n                                    'num_requests': 48,\n                                    'num_tiles': [2, 2],\n                                    'num_variables': 2,\n                                    'tile_size': [1024, 1024]}}}",
     "output_type": "error",
     "traceback": [
      "\u001b[1;31m---------------------------------------------------------------------------\u001b[0m",
      "\u001b[1;31mValidationError\u001b[0m                           Traceback (most recent call last)",
      "\u001b[1;32md:\\projects\\xcube\\xcube\\core\\gen2\\service\\generator.py\u001b[0m in \u001b[0;36m_parse_response\u001b[1;34m(self, response, response_type, request_data)\u001b[0m\n\u001b[0;32m    168\u001b[0m         \u001b[1;32mtry\u001b[0m\u001b[1;33m:\u001b[0m\u001b[1;33m\u001b[0m\u001b[1;33m\u001b[0m\u001b[0m\n\u001b[1;32m--> 169\u001b[1;33m             \u001b[1;32mreturn\u001b[0m \u001b[0mresponse_type\u001b[0m\u001b[1;33m.\u001b[0m\u001b[0mfrom_dict\u001b[0m\u001b[1;33m(\u001b[0m\u001b[0mresponse_data\u001b[0m\u001b[1;33m)\u001b[0m\u001b[1;33m\u001b[0m\u001b[1;33m\u001b[0m\u001b[0m\n\u001b[0m\u001b[0;32m    170\u001b[0m         \u001b[1;32mexcept\u001b[0m \u001b[0mException\u001b[0m \u001b[1;32mas\u001b[0m \u001b[0me\u001b[0m\u001b[1;33m:\u001b[0m\u001b[1;33m\u001b[0m\u001b[1;33m\u001b[0m\u001b[0m\n",
      "\u001b[1;32md:\\projects\\xcube\\xcube\\util\\jsonschema.py\u001b[0m in \u001b[0;36mfrom_dict\u001b[1;34m(cls, value)\u001b[0m\n\u001b[0;32m    569\u001b[0m         \u001b[1;34m\"\"\"Create instance from JSON-serializable dictionary *value*.\"\"\"\u001b[0m\u001b[1;33m\u001b[0m\u001b[1;33m\u001b[0m\u001b[0m\n\u001b[1;32m--> 570\u001b[1;33m         \u001b[1;32mreturn\u001b[0m \u001b[0mcls\u001b[0m\u001b[1;33m.\u001b[0m\u001b[0mget_schema\u001b[0m\u001b[1;33m(\u001b[0m\u001b[1;33m)\u001b[0m\u001b[1;33m.\u001b[0m\u001b[0mfrom_instance\u001b[0m\u001b[1;33m(\u001b[0m\u001b[0mvalue\u001b[0m\u001b[1;33m)\u001b[0m\u001b[1;33m\u001b[0m\u001b[1;33m\u001b[0m\u001b[0m\n\u001b[0m\u001b[0;32m    571\u001b[0m \u001b[1;33m\u001b[0m\u001b[0m\n",
      "\u001b[1;32md:\\projects\\xcube\\xcube\\util\\jsonschema.py\u001b[0m in \u001b[0;36mfrom_instance\u001b[1;34m(self, instance)\u001b[0m\n\u001b[0;32m    115\u001b[0m         \u001b[1;31m# TODO: support anyOf\u001b[0m\u001b[1;33m\u001b[0m\u001b[1;33m\u001b[0m\u001b[1;33m\u001b[0m\u001b[0m\n\u001b[1;32m--> 116\u001b[1;33m         \u001b[0mself\u001b[0m\u001b[1;33m.\u001b[0m\u001b[0mvalidate_instance\u001b[0m\u001b[1;33m(\u001b[0m\u001b[0minstance\u001b[0m\u001b[1;33m)\u001b[0m\u001b[1;33m\u001b[0m\u001b[1;33m\u001b[0m\u001b[0m\n\u001b[0m\u001b[0;32m    117\u001b[0m         \u001b[1;32mreturn\u001b[0m \u001b[0mself\u001b[0m\u001b[1;33m.\u001b[0m\u001b[0m_from_validated_instance\u001b[0m\u001b[1;33m(\u001b[0m\u001b[0minstance\u001b[0m\u001b[1;33m)\u001b[0m\u001b[1;33m\u001b[0m\u001b[1;33m\u001b[0m\u001b[0m\n",
      "\u001b[1;32md:\\projects\\xcube\\xcube\\util\\jsonschema.py\u001b[0m in \u001b[0;36mvalidate_instance\u001b[1;34m(self, instance)\u001b[0m\n\u001b[0;32m    100\u001b[0m         \u001b[1;31m# date-time format, strict_rfc3339 or rfc3339-validator is required.\u001b[0m\u001b[1;33m\u001b[0m\u001b[1;33m\u001b[0m\u001b[1;33m\u001b[0m\u001b[0m\n\u001b[1;32m--> 101\u001b[1;33m         jsonschema.validate(instance=instance, schema=self.to_dict(),\n\u001b[0m\u001b[0;32m    102\u001b[0m                             \u001b[0mformat_checker\u001b[0m\u001b[1;33m=\u001b[0m\u001b[0mjsonschema\u001b[0m\u001b[1;33m.\u001b[0m\u001b[0mdraft7_format_checker\u001b[0m\u001b[1;33m,\u001b[0m\u001b[1;33m\u001b[0m\u001b[1;33m\u001b[0m\u001b[0m\n",
      "\u001b[1;32mD:\\Miniconda3\\envs\\xcube\\lib\\site-packages\\jsonschema\\validators.py\u001b[0m in \u001b[0;36mvalidate\u001b[1;34m(instance, schema, cls, *args, **kwargs)\u001b[0m\n\u001b[0;32m    933\u001b[0m     \u001b[1;32mif\u001b[0m \u001b[0merror\u001b[0m \u001b[1;32mis\u001b[0m \u001b[1;32mnot\u001b[0m \u001b[1;32mNone\u001b[0m\u001b[1;33m:\u001b[0m\u001b[1;33m\u001b[0m\u001b[1;33m\u001b[0m\u001b[0m\n\u001b[1;32m--> 934\u001b[1;33m         \u001b[1;32mraise\u001b[0m \u001b[0merror\u001b[0m\u001b[1;33m\u001b[0m\u001b[1;33m\u001b[0m\u001b[0m\n\u001b[0m\u001b[0;32m    935\u001b[0m \u001b[1;33m\u001b[0m\u001b[0m\n",
      "\u001b[1;31mValidationError\u001b[0m: Additional properties are not allowed ('result' was unexpected)\n\nFailed validating 'additionalProperties' in schema:\n    {'additionalProperties': False,\n     'properties': {'cost_estimation': {'additionalProperties': True,\n                                        'type': 'object'},\n                    'dataset_descriptor': {'additionalProperties': False,\n                                           'properties': {'attrs': {'additionalProperties': True,\n                                                                    'type': 'object'},\n                                                          'bbox': {'items': [{'type': 'number'},\n                                                                             {'type': 'number'},\n                                                                             {'type': 'number'},\n                                                                             {'type': 'number'}],\n                                                                   'type': 'array'},\n                                                          'coords': {'additionalProperties': {'additionalProperties': False,\n                                                                                              'properties': {'attrs': {'additionalProperties': True,\n                                                                                                                       'type': 'object'},\n                                                                                                             'chunks': {'items': {'minimum': 0,\n                                                                                                                                  'type': 'integer'},\n                                                                                                                        'type': 'array'},\n                                                                                                             'dims': {'items': {'minLength': 1,\n                                                                                                                                'type': 'string'},\n                                                                                                                      'type': 'array'},\n                                                                                                             'dtype': {'minLength': 1,\n                                                                                                                       'type': 'string'},\n                                                                                                             'name': {'minLength': 1,\n                                                                                                                      'type': 'string'}},\n                                                                                              'required': ['dtype',\n                                                                                                           'name',\n                                                                                                           'dims'],\n                                                                                              'type': 'object'},\n                                                                     'type': 'object'},\n                                                          'crs': {'minLength': 1,\n                                                                  'type': 'string'},\n                                                          'data_id': {'minLength': 1,\n                                                                      'type': 'string'},\n                                                          'data_vars': {'additionalProperties': {'additionalProperties': False,\n                                                                                                 'properties': {'attrs': {'additionalProperties': True,\n                                                                                                                          'type': 'object'},\n                                                                                                                'chunks': {'items': {'minimum': 0,\n                                                                                                                                     'type': 'integer'},\n                                                                                                                           'type': 'array'},\n                                                                                                                'dims': {'items': {'minLength': 1,\n                                                                                                                                   'type': 'string'},\n                                                                                                                         'type': 'array'},\n                                                                                                                'dtype': {'minLength': 1,\n                                                                                                                          'type': 'string'},\n                                                                                                                'name': {'minLength': 1,\n                                                                                                                         'type': 'string'}},\n                                                                                                 'required': ['dtype',\n                                                                                                              'name',\n                                                                                                              'dims'],\n                                                                                                 'type': 'object'},\n                                                                        'type': 'object'},\n                                                          'dims': {'additionalProperties': {'minimum': 0,\n                                                                                            'type': 'integer'},\n                                                                   'type': 'object'},\n                                                          'open_params_schema': {'additionalProperties': True,\n                                                                                 'type': 'object'},\n                                                          'spatial_res': {'exclusiveMinimum': 0.0,\n                                                                          'type': 'number'},\n                                                          'time_period': {'minLength': 1,\n                                                                          'type': 'string'},\n                                                          'time_range': {'items': [{'format': 'date',\n                                                                                    'type': ['string',\n                                                                                             'null']},\n                                                                                   {'format': 'date',\n                                                                                    'type': ['string',\n                                                                                             'null']}],\n                                                                         'type': ['array',\n                                                                                  'null']},\n                                                          'type_specifier': {'minLength': 1,\n                                                                             'type': 'string'}},\n                                           'required': ['data_id'],\n                                           'type': 'object'},\n                    'size_estimation': {'additionalProperties': True,\n                                        'type': 'object'}},\n     'required': ['cost_estimation',\n                  'dataset_descriptor',\n                  'size_estimation'],\n     'type': 'object'}\n\nOn instance:\n    {'result': {'data_store': {'cost_params': {'input_pixels_per_punit': 262144,\n                                               'input_punits_weight': 1.0,\n                                               'output_pixels_per_punit': 262144,\n                                               'output_punits_weight': 1.0},\n                               'store_id': 'sentinelhub',\n                               'store_params': {'api_url': 'https://services.sentinel-hub.com'},\n                               'title': 'SENTINEL Hub (Central Europe)'},\n                'dataset_descriptor': {'bbox': [7.0, 53.0, 9.0, 55.0],\n                                       'crs': 'WGS84',\n                                       'data_id': 'S2L2A_B04_B05_7_53_9_55.zarr',\n                                       'data_vars': {'B04': {'dims': ['time',\n                                                                      'lat',\n                                                                      'lon'],\n                                                             'dtype': 'float32',\n                                                             'name': 'B04',\n                                                             'ndim': 3},\n                                                     'B05': {'dims': ['time',\n                                                                      'lat',\n                                                                      'lon'],\n                                                             'dtype': 'float32',\n                                                             'name': 'B05',\n                                                             'ndim': 3}},\n                                       'dims': {'lat': 2048,\n                                                'lon': 2048,\n                                                'time': 6},\n                                       'spatial_res': 0.001,\n                                       'time_period': '1D',\n                                       'time_range': ['2019-08-05',\n                                                      '2019-08-10'],\n                                       'type_specifier': 'dataset'},\n                'punits': {'input_count': 192,\n                           'input_weight': 1.0,\n                           'output_count': 192,\n                           'output_weight': 1.0,\n                           'total_count': 192},\n                'size_estimation': {'image_size': [2048, 2048],\n                                    'num_bytes': 201326592,\n                                    'num_requests': 48,\n                                    'num_tiles': [2, 2],\n                                    'num_variables': 2,\n                                    'tile_size': [1024, 1024]}}}",
      "\nThe above exception was the direct cause of the following exception:\n",
      "\u001b[1;31mRuntimeError\u001b[0m                              Traceback (most recent call last)",
      "\u001b[1;32m<ipython-input-14-26c5e044ac39>\u001b[0m in \u001b[0;36m<module>\u001b[1;34m\u001b[0m\n\u001b[1;32m----> 1\u001b[1;33m \u001b[0mcube_info\u001b[0m \u001b[1;33m=\u001b[0m \u001b[0mgen\u001b[0m\u001b[1;33m.\u001b[0m\u001b[0mget_cube_info\u001b[0m\u001b[1;33m(\u001b[0m\u001b[1;33m)\u001b[0m\u001b[1;33m\u001b[0m\u001b[1;33m\u001b[0m\u001b[0m\n\u001b[0m\u001b[0;32m      2\u001b[0m \u001b[0mcube_info\u001b[0m\u001b[1;33m\u001b[0m\u001b[1;33m\u001b[0m\u001b[0m\n",
      "\u001b[1;32md:\\projects\\xcube\\xcube\\core\\gen2\\service\\generator.py\u001b[0m in \u001b[0;36mget_cube_info\u001b[1;34m(self)\u001b[0m\n\u001b[0;32m    104\u001b[0m                                  \u001b[0mjson\u001b[0m\u001b[1;33m=\u001b[0m\u001b[0mrequest_data\u001b[0m\u001b[1;33m,\u001b[0m\u001b[1;33m\u001b[0m\u001b[1;33m\u001b[0m\u001b[0m\n\u001b[0;32m    105\u001b[0m                                  headers=self.auth_headers)\n\u001b[1;32m--> 106\u001b[1;33m         return self._parse_response(response,\n\u001b[0m\u001b[0;32m    107\u001b[0m                                     \u001b[0mCubeInfoWithCosts\u001b[0m\u001b[1;33m,\u001b[0m\u001b[1;33m\u001b[0m\u001b[1;33m\u001b[0m\u001b[0m\n\u001b[0;32m    108\u001b[0m                                     request_data=request_data)\n",
      "\u001b[1;32md:\\projects\\xcube\\xcube\\core\\gen2\\service\\generator.py\u001b[0m in \u001b[0;36m_parse_response\u001b[1;34m(self, response, response_type, request_data)\u001b[0m\n\u001b[0;32m    169\u001b[0m             \u001b[1;32mreturn\u001b[0m \u001b[0mresponse_type\u001b[0m\u001b[1;33m.\u001b[0m\u001b[0mfrom_dict\u001b[0m\u001b[1;33m(\u001b[0m\u001b[0mresponse_data\u001b[0m\u001b[1;33m)\u001b[0m\u001b[1;33m\u001b[0m\u001b[1;33m\u001b[0m\u001b[0m\n\u001b[0;32m    170\u001b[0m         \u001b[1;32mexcept\u001b[0m \u001b[0mException\u001b[0m \u001b[1;32mas\u001b[0m \u001b[0me\u001b[0m\u001b[1;33m:\u001b[0m\u001b[1;33m\u001b[0m\u001b[1;33m\u001b[0m\u001b[0m\n\u001b[1;32m--> 171\u001b[1;33m             raise RuntimeError(f'internal error: unexpected response'\n\u001b[0m\u001b[0;32m    172\u001b[0m                                f' from API call {response.url}: {e}') from e\n\u001b[0;32m    173\u001b[0m \u001b[1;33m\u001b[0m\u001b[0m\n",
      "\u001b[1;31mRuntimeError\u001b[0m: internal error: unexpected response from API call https://stage.xcube-gen.brockmann-consult.de/api/v2/cubegens/info: Additional properties are not allowed ('result' was unexpected)\n\nFailed validating 'additionalProperties' in schema:\n    {'additionalProperties': False,\n     'properties': {'cost_estimation': {'additionalProperties': True,\n                                        'type': 'object'},\n                    'dataset_descriptor': {'additionalProperties': False,\n                                           'properties': {'attrs': {'additionalProperties': True,\n                                                                    'type': 'object'},\n                                                          'bbox': {'items': [{'type': 'number'},\n                                                                             {'type': 'number'},\n                                                                             {'type': 'number'},\n                                                                             {'type': 'number'}],\n                                                                   'type': 'array'},\n                                                          'coords': {'additionalProperties': {'additionalProperties': False,\n                                                                                              'properties': {'attrs': {'additionalProperties': True,\n                                                                                                                       'type': 'object'},\n                                                                                                             'chunks': {'items': {'minimum': 0,\n                                                                                                                                  'type': 'integer'},\n                                                                                                                        'type': 'array'},\n                                                                                                             'dims': {'items': {'minLength': 1,\n                                                                                                                                'type': 'string'},\n                                                                                                                      'type': 'array'},\n                                                                                                             'dtype': {'minLength': 1,\n                                                                                                                       'type': 'string'},\n                                                                                                             'name': {'minLength': 1,\n                                                                                                                      'type': 'string'}},\n                                                                                              'required': ['dtype',\n                                                                                                           'name',\n                                                                                                           'dims'],\n                                                                                              'type': 'object'},\n                                                                     'type': 'object'},\n                                                          'crs': {'minLength': 1,\n                                                                  'type': 'string'},\n                                                          'data_id': {'minLength': 1,\n                                                                      'type': 'string'},\n                                                          'data_vars': {'additionalProperties': {'additionalProperties': False,\n                                                                                                 'properties': {'attrs': {'additionalProperties': True,\n                                                                                                                          'type': 'object'},\n                                                                                                                'chunks': {'items': {'minimum': 0,\n                                                                                                                                     'type': 'integer'},\n                                                                                                                           'type': 'array'},\n                                                                                                                'dims': {'items': {'minLength': 1,\n                                                                                                                                   'type': 'string'},\n                                                                                                                         'type': 'array'},\n                                                                                                                'dtype': {'minLength': 1,\n                                                                                                                          'type': 'string'},\n                                                                                                                'name': {'minLength': 1,\n                                                                                                                         'type': 'string'}},\n                                                                                                 'required': ['dtype',\n                                                                                                              'name',\n                                                                                                              'dims'],\n                                                                                                 'type': 'object'},\n                                                                        'type': 'object'},\n                                                          'dims': {'additionalProperties': {'minimum': 0,\n                                                                                            'type': 'integer'},\n                                                                   'type': 'object'},\n                                                          'open_params_schema': {'additionalProperties': True,\n                                                                                 'type': 'object'},\n                                                          'spatial_res': {'exclusiveMinimum': 0.0,\n                                                                          'type': 'number'},\n                                                          'time_period': {'minLength': 1,\n                                                                          'type': 'string'},\n                                                          'time_range': {'items': [{'format': 'date',\n                                                                                    'type': ['string',\n                                                                                             'null']},\n                                                                                   {'format': 'date',\n                                                                                    'type': ['string',\n                                                                                             'null']}],\n                                                                         'type': ['array',\n                                                                                  'null']},\n                                                          'type_specifier': {'minLength': 1,\n                                                                             'type': 'string'}},\n                                           'required': ['data_id'],\n                                           'type': 'object'},\n                    'size_estimation': {'additionalProperties': True,\n                                        'type': 'object'}},\n     'required': ['cost_estimation',\n                  'dataset_descriptor',\n                  'size_estimation'],\n     'type': 'object'}\n\nOn instance:\n    {'result': {'data_store': {'cost_params': {'input_pixels_per_punit': 262144,\n                                               'input_punits_weight': 1.0,\n                                               'output_pixels_per_punit': 262144,\n                                               'output_punits_weight': 1.0},\n                               'store_id': 'sentinelhub',\n                               'store_params': {'api_url': 'https://services.sentinel-hub.com'},\n                               'title': 'SENTINEL Hub (Central Europe)'},\n                'dataset_descriptor': {'bbox': [7.0, 53.0, 9.0, 55.0],\n                                       'crs': 'WGS84',\n                                       'data_id': 'S2L2A_B04_B05_7_53_9_55.zarr',\n                                       'data_vars': {'B04': {'dims': ['time',\n                                                                      'lat',\n                                                                      'lon'],\n                                                             'dtype': 'float32',\n                                                             'name': 'B04',\n                                                             'ndim': 3},\n                                                     'B05': {'dims': ['time',\n                                                                      'lat',\n                                                                      'lon'],\n                                                             'dtype': 'float32',\n                                                             'name': 'B05',\n                                                             'ndim': 3}},\n                                       'dims': {'lat': 2048,\n                                                'lon': 2048,\n                                                'time': 6},\n                                       'spatial_res': 0.001,\n                                       'time_period': '1D',\n                                       'time_range': ['2019-08-05',\n                                                      '2019-08-10'],\n                                       'type_specifier': 'dataset'},\n                'punits': {'input_count': 192,\n                           'input_weight': 1.0,\n                           'output_count': 192,\n                           'output_weight': 1.0,\n                           'total_count': 192},\n                'size_estimation': {'image_size': [2048, 2048],\n                                    'num_bytes': 201326592,\n                                    'num_requests': 48,\n                                    'num_tiles': [2, 2],\n                                    'num_variables': 2,\n                                    'tile_size': [1024, 1024]}}}"
     ]
    }
   ],
   "source": [
    "cube_info = gen.get_cube_info()\n",
    "cube_info"
   ]
  },
  {
   "cell_type": "markdown",
   "id": "surprised-custom",
   "metadata": {},
   "source": [
    "Now perform the actual cube generation:"
   ]
  },
  {
   "cell_type": "code",
   "execution_count": 15,
   "id": "prepared-medication",
   "metadata": {},
   "outputs": [
    {
     "ename": "RuntimeError",
     "evalue": "internal error: unexpected response from API call https://stage.xcube-gen.brockmann-consult.de/api/v2/cubegens: 'status' is a required property\n\nFailed validating 'required' in schema:\n    {'additionalProperties': True,\n     'properties': {'cubegen_id': {'minLength': 1, 'type': 'string'},\n                    'output': {'items': {'type': 'string'},\n                               'type': ['array', 'null']},\n                    'progress': {'items': {'additionalProperties': False,\n                                           'properties': {'sender': {'type': 'string'},\n                                                          'state': {'additionalProperties': True,\n                                                                    'properties': {'progress': {'minimum': 0.0,\n                                                                                                'type': 'number'},\n                                                                                   'total_work': {'exclusiveMinimum': 0,\n                                                                                                  'type': 'number'}},\n                                                                    'required': ['total_work',\n                                                                                 'progress'],\n                                                                    'type': 'object'}},\n                                           'required': ['state', 'sender'],\n                                           'type': 'object'},\n                                 'type': ['array', 'null']},\n                    'status': {'additionalProperties': True,\n                               'properties': {'active': {'type': ['integer',\n                                                                  'null']},\n                                              'completion_time': {'type': ['string',\n                                                                           'null']},\n                                              'conditions': {'items': {'additionalProperties': True,\n                                                                       'type': 'object'},\n                                                             'type': ['array',\n                                                                      'null']},\n                                              'failed': {'type': ['integer',\n                                                                  'null']},\n                                              'start_time': {'type': ['string',\n                                                                      'null']},\n                                              'succeeded': {'type': ['integer',\n                                                                     'null']}},\n                               'type': 'object'}},\n     'required': ['status', 'cubegen_id'],\n     'type': 'object'}\n\nOn instance:\n    {'result': {'cubegen_id': 'a02b02a2f186739bff43bb4cd5265ccb8-ad0d9532-9f2b-4cdd',\n                'status': {'active': None,\n                           'completion_time': None,\n                           'conditions': None,\n                           'failed': None,\n                           'start_time': None,\n                           'succeeded': None}}}",
     "output_type": "error",
     "traceback": [
      "\u001b[1;31m---------------------------------------------------------------------------\u001b[0m",
      "\u001b[1;31mValidationError\u001b[0m                           Traceback (most recent call last)",
      "\u001b[1;32md:\\projects\\xcube\\xcube\\core\\gen2\\service\\generator.py\u001b[0m in \u001b[0;36m_parse_response\u001b[1;34m(self, response, response_type, request_data)\u001b[0m\n\u001b[0;32m    168\u001b[0m         \u001b[1;32mtry\u001b[0m\u001b[1;33m:\u001b[0m\u001b[1;33m\u001b[0m\u001b[1;33m\u001b[0m\u001b[0m\n\u001b[1;32m--> 169\u001b[1;33m             \u001b[1;32mreturn\u001b[0m \u001b[0mresponse_type\u001b[0m\u001b[1;33m.\u001b[0m\u001b[0mfrom_dict\u001b[0m\u001b[1;33m(\u001b[0m\u001b[0mresponse_data\u001b[0m\u001b[1;33m)\u001b[0m\u001b[1;33m\u001b[0m\u001b[1;33m\u001b[0m\u001b[0m\n\u001b[0m\u001b[0;32m    170\u001b[0m         \u001b[1;32mexcept\u001b[0m \u001b[0mException\u001b[0m \u001b[1;32mas\u001b[0m \u001b[0me\u001b[0m\u001b[1;33m:\u001b[0m\u001b[1;33m\u001b[0m\u001b[1;33m\u001b[0m\u001b[0m\n",
      "\u001b[1;32md:\\projects\\xcube\\xcube\\core\\gen2\\service\\response.py\u001b[0m in \u001b[0;36mfrom_dict\u001b[1;34m(cls, value)\u001b[0m\n\u001b[0;32m    176\u001b[0m     \u001b[1;32mdef\u001b[0m \u001b[0mfrom_dict\u001b[0m\u001b[1;33m(\u001b[0m\u001b[0mcls\u001b[0m\u001b[1;33m,\u001b[0m \u001b[0mvalue\u001b[0m\u001b[1;33m:\u001b[0m \u001b[0mDict\u001b[0m\u001b[1;33m)\u001b[0m \u001b[1;33m->\u001b[0m \u001b[1;34m'CubeGeneratorResult'\u001b[0m\u001b[1;33m:\u001b[0m\u001b[1;33m\u001b[0m\u001b[1;33m\u001b[0m\u001b[0m\n\u001b[1;32m--> 177\u001b[1;33m         \u001b[1;32mreturn\u001b[0m \u001b[0mcls\u001b[0m\u001b[1;33m.\u001b[0m\u001b[0mget_schema\u001b[0m\u001b[1;33m(\u001b[0m\u001b[1;33m)\u001b[0m\u001b[1;33m.\u001b[0m\u001b[0mfrom_instance\u001b[0m\u001b[1;33m(\u001b[0m\u001b[0mvalue\u001b[0m\u001b[1;33m)\u001b[0m\u001b[1;33m\u001b[0m\u001b[1;33m\u001b[0m\u001b[0m\n\u001b[0m\u001b[0;32m    178\u001b[0m \u001b[1;33m\u001b[0m\u001b[0m\n",
      "\u001b[1;32md:\\projects\\xcube\\xcube\\util\\jsonschema.py\u001b[0m in \u001b[0;36mfrom_instance\u001b[1;34m(self, instance)\u001b[0m\n\u001b[0;32m    115\u001b[0m         \u001b[1;31m# TODO: support anyOf\u001b[0m\u001b[1;33m\u001b[0m\u001b[1;33m\u001b[0m\u001b[1;33m\u001b[0m\u001b[0m\n\u001b[1;32m--> 116\u001b[1;33m         \u001b[0mself\u001b[0m\u001b[1;33m.\u001b[0m\u001b[0mvalidate_instance\u001b[0m\u001b[1;33m(\u001b[0m\u001b[0minstance\u001b[0m\u001b[1;33m)\u001b[0m\u001b[1;33m\u001b[0m\u001b[1;33m\u001b[0m\u001b[0m\n\u001b[0m\u001b[0;32m    117\u001b[0m         \u001b[1;32mreturn\u001b[0m \u001b[0mself\u001b[0m\u001b[1;33m.\u001b[0m\u001b[0m_from_validated_instance\u001b[0m\u001b[1;33m(\u001b[0m\u001b[0minstance\u001b[0m\u001b[1;33m)\u001b[0m\u001b[1;33m\u001b[0m\u001b[1;33m\u001b[0m\u001b[0m\n",
      "\u001b[1;32md:\\projects\\xcube\\xcube\\util\\jsonschema.py\u001b[0m in \u001b[0;36mvalidate_instance\u001b[1;34m(self, instance)\u001b[0m\n\u001b[0;32m    100\u001b[0m         \u001b[1;31m# date-time format, strict_rfc3339 or rfc3339-validator is required.\u001b[0m\u001b[1;33m\u001b[0m\u001b[1;33m\u001b[0m\u001b[1;33m\u001b[0m\u001b[0m\n\u001b[1;32m--> 101\u001b[1;33m         jsonschema.validate(instance=instance, schema=self.to_dict(),\n\u001b[0m\u001b[0;32m    102\u001b[0m                             \u001b[0mformat_checker\u001b[0m\u001b[1;33m=\u001b[0m\u001b[0mjsonschema\u001b[0m\u001b[1;33m.\u001b[0m\u001b[0mdraft7_format_checker\u001b[0m\u001b[1;33m,\u001b[0m\u001b[1;33m\u001b[0m\u001b[1;33m\u001b[0m\u001b[0m\n",
      "\u001b[1;32mD:\\Miniconda3\\envs\\xcube\\lib\\site-packages\\jsonschema\\validators.py\u001b[0m in \u001b[0;36mvalidate\u001b[1;34m(instance, schema, cls, *args, **kwargs)\u001b[0m\n\u001b[0;32m    933\u001b[0m     \u001b[1;32mif\u001b[0m \u001b[0merror\u001b[0m \u001b[1;32mis\u001b[0m \u001b[1;32mnot\u001b[0m \u001b[1;32mNone\u001b[0m\u001b[1;33m:\u001b[0m\u001b[1;33m\u001b[0m\u001b[1;33m\u001b[0m\u001b[0m\n\u001b[1;32m--> 934\u001b[1;33m         \u001b[1;32mraise\u001b[0m \u001b[0merror\u001b[0m\u001b[1;33m\u001b[0m\u001b[1;33m\u001b[0m\u001b[0m\n\u001b[0m\u001b[0;32m    935\u001b[0m \u001b[1;33m\u001b[0m\u001b[0m\n",
      "\u001b[1;31mValidationError\u001b[0m: 'status' is a required property\n\nFailed validating 'required' in schema:\n    {'additionalProperties': True,\n     'properties': {'cubegen_id': {'minLength': 1, 'type': 'string'},\n                    'output': {'items': {'type': 'string'},\n                               'type': ['array', 'null']},\n                    'progress': {'items': {'additionalProperties': False,\n                                           'properties': {'sender': {'type': 'string'},\n                                                          'state': {'additionalProperties': True,\n                                                                    'properties': {'progress': {'minimum': 0.0,\n                                                                                                'type': 'number'},\n                                                                                   'total_work': {'exclusiveMinimum': 0,\n                                                                                                  'type': 'number'}},\n                                                                    'required': ['total_work',\n                                                                                 'progress'],\n                                                                    'type': 'object'}},\n                                           'required': ['state', 'sender'],\n                                           'type': 'object'},\n                                 'type': ['array', 'null']},\n                    'status': {'additionalProperties': True,\n                               'properties': {'active': {'type': ['integer',\n                                                                  'null']},\n                                              'completion_time': {'type': ['string',\n                                                                           'null']},\n                                              'conditions': {'items': {'additionalProperties': True,\n                                                                       'type': 'object'},\n                                                             'type': ['array',\n                                                                      'null']},\n                                              'failed': {'type': ['integer',\n                                                                  'null']},\n                                              'start_time': {'type': ['string',\n                                                                      'null']},\n                                              'succeeded': {'type': ['integer',\n                                                                     'null']}},\n                               'type': 'object'}},\n     'required': ['status', 'cubegen_id'],\n     'type': 'object'}\n\nOn instance:\n    {'result': {'cubegen_id': 'a02b02a2f186739bff43bb4cd5265ccb8-ad0d9532-9f2b-4cdd',\n                'status': {'active': None,\n                           'completion_time': None,\n                           'conditions': None,\n                           'failed': None,\n                           'start_time': None,\n                           'succeeded': None}}}",
      "\nThe above exception was the direct cause of the following exception:\n",
      "\u001b[1;31mRuntimeError\u001b[0m                              Traceback (most recent call last)",
      "\u001b[1;32m<ipython-input-15-778b889ab15c>\u001b[0m in \u001b[0;36m<module>\u001b[1;34m\u001b[0m\n\u001b[1;32m----> 1\u001b[1;33m \u001b[0mcube_id\u001b[0m \u001b[1;33m=\u001b[0m \u001b[0mgen\u001b[0m\u001b[1;33m.\u001b[0m\u001b[0mgenerate_cube\u001b[0m\u001b[1;33m(\u001b[0m\u001b[1;33m)\u001b[0m\u001b[1;33m\u001b[0m\u001b[1;33m\u001b[0m\u001b[0m\n\u001b[0m\u001b[0;32m      2\u001b[0m \u001b[0mcube_id\u001b[0m\u001b[1;33m\u001b[0m\u001b[1;33m\u001b[0m\u001b[0m\n",
      "\u001b[1;32md:\\projects\\xcube\\xcube\\core\\gen2\\service\\generator.py\u001b[0m in \u001b[0;36mgenerate_cube\u001b[1;34m(self)\u001b[0m\n\u001b[0;32m    113\u001b[0m                                 \u001b[0mjson\u001b[0m\u001b[1;33m=\u001b[0m\u001b[0mrequest\u001b[0m\u001b[1;33m,\u001b[0m\u001b[1;33m\u001b[0m\u001b[1;33m\u001b[0m\u001b[0m\n\u001b[0;32m    114\u001b[0m                                 headers=self.auth_headers)\n\u001b[1;32m--> 115\u001b[1;33m         \u001b[0mresult\u001b[0m \u001b[1;33m=\u001b[0m \u001b[0mself\u001b[0m\u001b[1;33m.\u001b[0m\u001b[0m_get_cube_generation_result\u001b[0m\u001b[1;33m(\u001b[0m\u001b[0mresponse\u001b[0m\u001b[1;33m)\u001b[0m\u001b[1;33m\u001b[0m\u001b[1;33m\u001b[0m\u001b[0m\n\u001b[0m\u001b[0;32m    116\u001b[0m         \u001b[0mcubegen_id\u001b[0m \u001b[1;33m=\u001b[0m \u001b[0mresult\u001b[0m\u001b[1;33m.\u001b[0m\u001b[0mcubegen_id\u001b[0m\u001b[1;33m\u001b[0m\u001b[1;33m\u001b[0m\u001b[0m\n\u001b[0;32m    117\u001b[0m \u001b[1;33m\u001b[0m\u001b[0m\n",
      "\u001b[1;32md:\\projects\\xcube\\xcube\\core\\gen2\\service\\generator.py\u001b[0m in \u001b[0;36m_get_cube_generation_result\u001b[1;34m(self, response, request_data)\u001b[0m\n\u001b[0;32m    143\u001b[0m     def _get_cube_generation_result(self, response: requests.Response,\n\u001b[0;32m    144\u001b[0m                                     request_data: Dict[str, Any] = None) -> CubeGeneratorResult:\n\u001b[1;32m--> 145\u001b[1;33m         result = self._parse_response(response,\n\u001b[0m\u001b[0;32m    146\u001b[0m                                       \u001b[0mCubeGeneratorResult\u001b[0m\u001b[1;33m,\u001b[0m\u001b[1;33m\u001b[0m\u001b[1;33m\u001b[0m\u001b[0m\n\u001b[0;32m    147\u001b[0m                                       request_data=request_data)\n",
      "\u001b[1;32md:\\projects\\xcube\\xcube\\core\\gen2\\service\\generator.py\u001b[0m in \u001b[0;36m_parse_response\u001b[1;34m(self, response, response_type, request_data)\u001b[0m\n\u001b[0;32m    169\u001b[0m             \u001b[1;32mreturn\u001b[0m \u001b[0mresponse_type\u001b[0m\u001b[1;33m.\u001b[0m\u001b[0mfrom_dict\u001b[0m\u001b[1;33m(\u001b[0m\u001b[0mresponse_data\u001b[0m\u001b[1;33m)\u001b[0m\u001b[1;33m\u001b[0m\u001b[1;33m\u001b[0m\u001b[0m\n\u001b[0;32m    170\u001b[0m         \u001b[1;32mexcept\u001b[0m \u001b[0mException\u001b[0m \u001b[1;32mas\u001b[0m \u001b[0me\u001b[0m\u001b[1;33m:\u001b[0m\u001b[1;33m\u001b[0m\u001b[1;33m\u001b[0m\u001b[0m\n\u001b[1;32m--> 171\u001b[1;33m             raise RuntimeError(f'internal error: unexpected response'\n\u001b[0m\u001b[0;32m    172\u001b[0m                                f' from API call {response.url}: {e}') from e\n\u001b[0;32m    173\u001b[0m \u001b[1;33m\u001b[0m\u001b[0m\n",
      "\u001b[1;31mRuntimeError\u001b[0m: internal error: unexpected response from API call https://stage.xcube-gen.brockmann-consult.de/api/v2/cubegens: 'status' is a required property\n\nFailed validating 'required' in schema:\n    {'additionalProperties': True,\n     'properties': {'cubegen_id': {'minLength': 1, 'type': 'string'},\n                    'output': {'items': {'type': 'string'},\n                               'type': ['array', 'null']},\n                    'progress': {'items': {'additionalProperties': False,\n                                           'properties': {'sender': {'type': 'string'},\n                                                          'state': {'additionalProperties': True,\n                                                                    'properties': {'progress': {'minimum': 0.0,\n                                                                                                'type': 'number'},\n                                                                                   'total_work': {'exclusiveMinimum': 0,\n                                                                                                  'type': 'number'}},\n                                                                    'required': ['total_work',\n                                                                                 'progress'],\n                                                                    'type': 'object'}},\n                                           'required': ['state', 'sender'],\n                                           'type': 'object'},\n                                 'type': ['array', 'null']},\n                    'status': {'additionalProperties': True,\n                               'properties': {'active': {'type': ['integer',\n                                                                  'null']},\n                                              'completion_time': {'type': ['string',\n                                                                           'null']},\n                                              'conditions': {'items': {'additionalProperties': True,\n                                                                       'type': 'object'},\n                                                             'type': ['array',\n                                                                      'null']},\n                                              'failed': {'type': ['integer',\n                                                                  'null']},\n                                              'start_time': {'type': ['string',\n                                                                      'null']},\n                                              'succeeded': {'type': ['integer',\n                                                                     'null']}},\n                               'type': 'object'}},\n     'required': ['status', 'cubegen_id'],\n     'type': 'object'}\n\nOn instance:\n    {'result': {'cubegen_id': 'a02b02a2f186739bff43bb4cd5265ccb8-ad0d9532-9f2b-4cdd',\n                'status': {'active': None,\n                           'completion_time': None,\n                           'conditions': None,\n                           'failed': None,\n                           'start_time': None,\n                           'succeeded': None}}}"
     ]
    }
   ],
   "source": [
    "cube_id = gen.generate_cube()\n",
    "cube_id"
   ]
  },
  {
   "cell_type": "markdown",
   "id": "african-pregnancy",
   "metadata": {},
   "source": [
    "Let's open the generated cube:"
   ]
  },
  {
   "cell_type": "code",
   "execution_count": null,
   "id": "owned-swing",
   "metadata": {},
   "outputs": [],
   "source": [
    "from xcube.core.dsio import open_cube"
   ]
  },
  {
   "cell_type": "code",
   "execution_count": null,
   "id": "touched-lending",
   "metadata": {},
   "outputs": [],
   "source": [
    "ds = open_cube(f'https://s3.eu-central-1.amazonaws.com/eurodatacube-scratch/{cube_id}', s3_kwargs={\"anon\": True}))\n",
    "ds"
   ]
  }
 ],
 "metadata": {
  "kernelspec": {
   "display_name": "Python 3",
   "language": "python",
   "name": "python3"
  },
  "language_info": {
   "codemirror_mode": {
    "name": "ipython",
    "version": 3
   },
   "file_extension": ".py",
   "mimetype": "text/x-python",
   "name": "python",
   "nbconvert_exporter": "python",
   "pygments_lexer": "ipython3",
   "version": "3.8.8"
  }
 },
 "nbformat": 4,
 "nbformat_minor": 5
}

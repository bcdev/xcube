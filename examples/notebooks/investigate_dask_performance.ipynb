{
 "cells": [
  {
   "cell_type": "markdown",
   "id": "c7c93279-1fde-49d2-a4f1-8cd682e821a1",
   "metadata": {},
   "source": [
    "## Investigating Dask Performance\n",
    "\n",
    "Relates to Github Issue https://github.com/dcs4cop/xcube/issues/544\n",
    "\n",
    "See \"# TODO: expensive stmt\" here: https://github.com/dcs4cop/xcube/blob/forman-544-spat_resampl_too_slow/xcube/core/gridmapping/coords.py"
   ]
  },
  {
   "cell_type": "code",
   "execution_count": null,
   "id": "9781c3c1-0b17-477e-96b1-0379c73e8837",
   "metadata": {},
   "outputs": [],
   "source": [
    "import dask\n",
    "import dask.array as da\n",
    "import numpy as np\n",
    "import time\n",
    "\n",
    "from xcube.core.gridmapping.coords import new_grid_mapping_from_coords"
   ]
  },
  {
   "cell_type": "markdown",
   "id": "6536781b-2ed0-4349-9a88-66be51b67cec",
   "metadata": {},
   "source": [
    "Set up dask dashboard: https://github.com/dask/dask-labextension"
   ]
  },
  {
   "cell_type": "code",
   "execution_count": null,
   "id": "d6e4ba4a-3142-4b58-bd35-8052e697f864",
   "metadata": {},
   "outputs": [],
   "source": [
    "dask.config.set(scheduler='threads')\n",
    "\n",
    "from distributed import Client\n",
    "client = Client()\n",
    "client.dashboard_link"
   ]
  },
  {
   "cell_type": "markdown",
   "id": "6ad9cb63-f5ae-4760-949b-6126c5959a85",
   "metadata": {},
   "source": [
    "Open Dataset with 1D-GridMapping:"
   ]
  },
  {
   "cell_type": "code",
   "execution_count": null,
   "id": "86003746-383f-46c4-b1e0-daaf18195446",
   "metadata": {},
   "outputs": [],
   "source": [
    "from xcube.core.store import new_data_store\n",
    "\n",
    "store = new_data_store(\"s3\", root='agriculture-vlab-data-staging', max_depth=5, storage_options=dict(anon=True))\n",
    "ds_1d = store.open_data('avl/l3b/bel/S2_L3B_LAI_31UFS.zarr')\n",
    "ds_1d"
   ]
  },
  {
   "cell_type": "code",
   "execution_count": null,
   "id": "3805a83b-8e79-4c8f-8ea2-4d9075559e8b",
   "metadata": {},
   "outputs": [],
   "source": [
    "from xcube.core.gridmapping.cfconv import get_dataset_grid_mapping_proxies\n",
    "\n",
    "grid_mapping_proxies = get_dataset_grid_mapping_proxies(ds_1d)\n",
    "gmp_1d = list(grid_mapping_proxies.values())[0]\n",
    "gmp_1d"
   ]
  },
  {
   "cell_type": "code",
   "execution_count": null,
   "id": "f9c8d860-f658-4265-b990-fd2eabf66d43",
   "metadata": {},
   "outputs": [],
   "source": [
    "%%time\n",
    "new_grid_mapping_from_coords(gmp_1d.coords.x, gmp_1d.coords.y, gmp_1d.crs)"
   ]
  },
  {
   "cell_type": "markdown",
   "id": "7e22050d-6cf9-4cb7-87fe-053c63f79f6a",
   "metadata": {},
   "source": [
    "Open Dataset with 2D-GridMapping:"
   ]
  },
  {
   "cell_type": "code",
   "execution_count": null,
   "id": "98d02f5a-2470-43dd-9690-4a17076fad1b",
   "metadata": {},
   "outputs": [],
   "source": [
    "from xcube_cci.zarraccess import CciZarrDataStore\n",
    "cci_zarr_store = CciZarrDataStore()\n",
    "ds_2d = cci_zarr_store.open_data(\n",
    "    'ESACCI-SEAICE-L3C-SITHICK-SIRAL_CRYOSAT2-NH25KMEASE2-2010-2017-fv2.0.zarr')\n",
    "ds_2d"
   ]
  },
  {
   "cell_type": "code",
   "execution_count": null,
   "id": "29507dc3-bc87-486a-b67a-4541d2676b19",
   "metadata": {},
   "outputs": [],
   "source": [
    "grid_mapping_proxies = get_dataset_grid_mapping_proxies(ds_2d)\n",
    "gmp_2d = list(grid_mapping_proxies.values())[0]\n",
    "gmp_2d"
   ]
  },
  {
   "cell_type": "code",
   "execution_count": null,
   "id": "ff0e24f3-a5a8-45fa-80d4-1ae3f07bbbc5",
   "metadata": {},
   "outputs": [],
   "source": [
    "%%time\n",
    "new_grid_mapping_from_coords(gmp_2d.coords.x, gmp_2d.coords.y, gmp_2d.crs)"
   ]
  },
  {
   "cell_type": "code",
   "execution_count": null,
   "id": "40300b86-4834-4231-88b9-76553d7ca80f",
   "metadata": {},
   "outputs": [],
   "source": [
    "def _prepare_dask_arrays(ds):\n",
    "    x = da.asarray(ds.lon)\n",
    "    y = da.asarray(ds.lat)\n",
    "\n",
    "    x_x_diff = _abs_no_nan(da.diff(x, axis=1))\n",
    "    x_y_diff = _abs_no_nan(da.diff(x, axis=0))\n",
    "    y_x_diff = _abs_no_nan(da.diff(y, axis=1))\n",
    "    y_y_diff = _abs_no_nan(da.diff(y, axis=0))\n",
    "\n",
    "    x_x_diff_c = da.concatenate([x_x_diff, x_x_diff[:, -1:]], axis=1)\n",
    "    y_x_diff_c = da.concatenate([y_x_diff, y_x_diff[:, -1:]], axis=1)\n",
    "    x_y_diff_c = da.concatenate([x_y_diff, x_y_diff[-1:, :]], axis=0)\n",
    "    y_y_diff_c = da.concatenate([y_y_diff, y_y_diff[-1:, :]], axis=0)\n",
    "\n",
    "    x_abs_diff = da.sqrt(da.square(x_x_diff_c) + da.square(x_y_diff_c))\n",
    "    y_abs_diff = da.sqrt(da.square(y_x_diff_c) + da.square(y_y_diff_c))\n",
    "\n",
    "    x_abs_diff_r = da.radians(x_abs_diff)\n",
    "    y_abs_diff_r = da.radians(y_abs_diff)\n",
    "    x_abs_diff = 6371000 * da.cos(x_abs_diff_r) * y_abs_diff_r\n",
    "    y_abs_diff = 6371000 * y_abs_diff_r\n",
    "\n",
    "    xy_areas = (x_abs_diff * y_abs_diff).flatten()\n",
    "    xy_areas = da.where(xy_areas > 0, xy_areas, np.nan)\n",
    "\n",
    "    xy_area_index_min = da.nanargmin(xy_areas)\n",
    "    xy_area_index_max = da.nanargmax(xy_areas)\n",
    "            \n",
    "    return x, y, xy_areas, x_y_diff, y_x_diff, x_x_diff\n",
    "\n",
    "def _abs_no_nan(array):\n",
    "    array = np.fabs(array)\n",
    "    return np.where(np.logical_or(np.isnan(array), \n",
    "                                  np.isclose(array, 0)), 0, array)\n",
    "\n",
    "def _call_separately(x, y, xy_areas, x_y_diff, y_x_diff, x_x_diff):\n",
    "    da.nanargmin(xy_areas).compute()\n",
    "    da.nanargmax(xy_areas).compute()\n",
    "    da.all(x_y_diff == 0).compute()\n",
    "    da.all(y_x_diff == 0).compute()\n",
    "    da.any(da.max(x_x_diff) > 180).compute()\n",
    "    da.any(da.max(x_y_diff) > 180).compute()\n",
    "    x.min().compute()\n",
    "    y.min().compute()"
   ]
  },
  {
   "cell_type": "code",
   "execution_count": null,
   "id": "6c502330-931a-4125-93d4-3b31a42c08cb",
   "metadata": {},
   "outputs": [],
   "source": [
    "x, y, xy_areas, x_y_diff, y_x_diff, x_x_diff = _prepare_dask_arrays(ds_2d)\n",
    "y.min().visualize()"
   ]
  },
  {
   "cell_type": "code",
   "execution_count": null,
   "id": "fedec4f6-3919-4c71-8676-e535a4248931",
   "metadata": {},
   "outputs": [],
   "source": [
    "%%time\n",
    "x, y, xy_areas, x_y_diff, y_x_diff, x_x_diff = _prepare_dask_arrays(ds_2d)\n",
    "_call_separately(x, y, xy_areas, x_y_diff, y_x_diff, x_x_diff)"
   ]
  },
  {
   "cell_type": "code",
   "execution_count": null,
   "id": "9fa907dd-07e6-4efd-a1f0-bd2deffe0557",
   "metadata": {},
   "outputs": [],
   "source": [
    "optimized_graph = dask.optimize(da.nanargmin(xy_areas),\n",
    "                                da.nanargmax(xy_areas),\n",
    "                                da.all(x_y_diff == 0),\n",
    "                                da.all(y_x_diff == 0),\n",
    "                                da.any(da.max(x_x_diff) > 180),\n",
    "                                da.any(da.max(x_y_diff) > 180),\n",
    "                                x.min(),\n",
    "                                y.min())\n",
    "optimized_graph"
   ]
  },
  {
   "cell_type": "code",
   "execution_count": null,
   "id": "410eb78f-ce62-45b9-95b5-c56b62ff397b",
   "metadata": {},
   "outputs": [],
   "source": [
    "optimized_graph[7].visualize()"
   ]
  },
  {
   "cell_type": "code",
   "execution_count": null,
   "id": "b22db702-9fac-4dbd-a60a-9de17f0719ba",
   "metadata": {},
   "outputs": [],
   "source": [
    "%%time\n",
    "results = dask.compute(*optimized_graph)\n",
    "results"
   ]
  },
  {
   "cell_type": "code",
   "execution_count": null,
   "id": "b0f44aae-8b2c-43f3-b4c0-e51f44b8b808",
   "metadata": {},
   "outputs": [],
   "source": [
    "%%time\n",
    "results = dask.compute(da.nanargmin(xy_areas),\n",
    "                       da.nanargmax(xy_areas),\n",
    "                       da.all(x_y_diff == 0),\n",
    "                       da.all(y_x_diff == 0),\n",
    "                       da.any(da.max(x_x_diff) > 180),\n",
    "                       da.any(da.max(x_y_diff) > 180),\n",
    "                       x.min(),\n",
    "                       y.min())\n",
    "results"
   ]
  },
  {
   "cell_type": "markdown",
   "id": "28a4aa64-2e78-427c-aade-53598b4c997a",
   "metadata": {},
   "source": [
    "Problem 1: In the code, some graph results must be ready before other graphs can be constructed."
   ]
  },
  {
   "cell_type": "code",
   "execution_count": null,
   "id": "9646d76b-9ca3-40cd-8ad3-4ecb64b52dca",
   "metadata": {},
   "outputs": [],
   "source": [
    "%%time\n",
    "gm_graph = dask.optimize(new_grid_mapping_from_coords(gmp_2d.coords.x, gmp_2d.coords.y, gmp_2d.crs))\n",
    "gm_graph"
   ]
  },
  {
   "cell_type": "markdown",
   "id": "5f3f96a1-3e3f-4198-aa9b-8dfc27645436",
   "metadata": {},
   "source": [
    "Problem 2: compute and optimize only work on dask objects. Functions will not be evaluated any further for dask elements\n",
    "\n",
    "Next attempt: Use dask.delayed instead"
   ]
  },
  {
   "cell_type": "code",
   "execution_count": null,
   "id": "9874a99a-693f-48b8-ad0f-06eecd9edda8",
   "metadata": {},
   "outputs": [],
   "source": [
    "%%time\n",
    "gmp_delayed = dask.delayed(new_grid_mapping_from_coords)(gmp_2d.coords.x, \n",
    "                                                        gmp_2d.coords.y, \n",
    "                                                        gmp_2d.crs)\n",
    "gmp_delayed"
   ]
  },
  {
   "cell_type": "code",
   "execution_count": null,
   "id": "1827ec12-e4f4-4958-9d7a-0154171987a4",
   "metadata": {},
   "outputs": [],
   "source": [
    "gmp_delayed.compute()"
   ]
  },
  {
   "cell_type": "code",
   "execution_count": null,
   "id": "99e1c940-0e44-4f46-bb4a-19f517361bc1",
   "metadata": {},
   "outputs": [],
   "source": [
    "%%time\n",
    "from xcube.core.gridmapping.coords import _get_cls_params_2d\n",
    "\n",
    "_get_cls_params_2d(gmp_2d.coords.x, \n",
    "                   gmp_2d.coords.y, \n",
    "                   is_lon_360=False, \n",
    "                   crs=gmp_2d.crs, \n",
    "                   tile_size=None,\n",
    "                   tolerance=1e-5)"
   ]
  },
  {
   "cell_type": "code",
   "execution_count": null,
   "id": "006955cf-a2b8-4fce-843d-657ba224e167",
   "metadata": {},
   "outputs": [],
   "source": []
  },
  {
   "cell_type": "code",
   "execution_count": null,
   "id": "96858faa-eb6a-475b-83bb-91beaac6b197",
   "metadata": {},
   "outputs": [],
   "source": [
    "cls_params_2d = dask.delayed(_get_cls_params_2d)(gmp_2d.coords.x, \n",
    "                                                 gmp_2d.coords.y, \n",
    "                                                 is_lon_360=False, \n",
    "                                                 crs=gmp_2d.crs, \n",
    "                                                 tile_size=None,\n",
    "                                                 tolerance=1e-5)\n",
    "cls_params_2d"
   ]
  },
  {
   "cell_type": "code",
   "execution_count": null,
   "id": "21d8bb11-a227-486c-81b3-c83e5ee83706",
   "metadata": {},
   "outputs": [],
   "source": [
    "%%time\n",
    "cls_params_2d.compute()"
   ]
  },
  {
   "cell_type": "code",
   "execution_count": null,
   "id": "4b48a21e-5bea-4a46-9684-1d6e9bc082f1",
   "metadata": {},
   "outputs": [],
   "source": [
    "%%time\n",
    "from xcube.core.gridmapping.coords import new_grid_mapping_from_coords_optimized\n",
    "\n",
    "gmo = new_grid_mapping_from_coords_optimized(gmp_2d.coords.x, \n",
    "                                             gmp_2d.coords.y, \n",
    "                                             gmp_2d.crs)\n",
    "gmo"
   ]
  },
  {
   "cell_type": "code",
   "execution_count": null,
   "id": "a81f0518-961f-442c-b962-24efbbc7c308",
   "metadata": {},
   "outputs": [],
   "source": [
    "%%time\n",
    "from xcube.core.gridmapping.coords import new_grid_mapping_from_coords_optimized\n",
    "\n",
    "gmo_1d = new_grid_mapping_from_coords_optimized(gmp_1d.coords.x, \n",
    "                                                gmp_1d.coords.y, \n",
    "                                                gmp_1d.crs)\n",
    "gmo_1d"
   ]
  },
  {
   "cell_type": "code",
   "execution_count": null,
   "id": "dd267d52-1402-4967-9e83-19f2e949c0ea",
   "metadata": {},
   "outputs": [],
   "source": [
    "dask.optimize(_get_cls_params_2d(gmp_2d.coords.x, \n",
    "                                 gmp_2d.coords.y, \n",
    "                                 is_lon_360=False, \n",
    "                                 crs=gmp_2d.crs, \n",
    "                                 tile_size=None,\n",
    "                                 tolerance=1e-5))"
   ]
  }
 ],
 "metadata": {
  "kernelspec": {
   "display_name": "Python 3 (ipykernel)",
   "language": "python",
   "name": "python3"
  },
  "language_info": {
   "codemirror_mode": {
    "name": "ipython",
    "version": 3
   },
   "file_extension": ".py",
   "mimetype": "text/x-python",
   "name": "python",
   "nbconvert_exporter": "python",
   "pygments_lexer": "ipython3",
   "version": "3.9.7"
  }
 },
 "nbformat": 4,
 "nbformat_minor": 5
}

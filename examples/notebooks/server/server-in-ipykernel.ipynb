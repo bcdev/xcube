{
 "cells": [
  {
   "cell_type": "code",
   "execution_count": 1,
   "id": "204a2531-1f34-4b3c-8b46-2837d24b328b",
   "metadata": {},
   "outputs": [],
   "source": [
    "from xcube.core.store import new_data_store\n",
    "from xcube.webapi.iserver import InteractiveServer"
   ]
  },
  {
   "cell_type": "code",
   "execution_count": 2,
   "id": "8b49204e-d1c4-48bb-8eba-7ee2e9b2b9d6",
   "metadata": {},
   "outputs": [
    {
     "name": "stdout",
     "output_type": "stream",
     "text": [
      "################################################################################\n",
      "xcube-viewer-jl-ext\n",
      "################################################################################\n"
     ]
    },
    {
     "data": {
      "text/plain": [
       "['cube-1-250-250.levels',\n",
       " 'cube-1-250-250.zarr',\n",
       " 'cube-5-100-200.zarr',\n",
       " 'cube.nc',\n",
       " 'dataset-bal-analysis-forecast-wav-hourly.zarr',\n",
       " 'sample-cog.tif',\n",
       " 'sample-geotiff.tif']"
      ]
     },
     "execution_count": 2,
     "metadata": {},
     "output_type": "execute_result"
    }
   ],
   "source": [
    "store = new_data_store(\"file\", root=\"../../../examples/serve/demo\")\n",
    "store.list_data_ids()"
   ]
  },
  {
   "cell_type": "code",
   "execution_count": 3,
   "id": "57f7f982-8e15-4f08-bc53-cafb01012ef3",
   "metadata": {},
   "outputs": [
    {
     "name": "stdout",
     "output_type": "stream",
     "text": [
      "Server: http://localhost:8081\n",
      "Viewer: http://localhost:8081/viewer/?serverUrl=http://localhost:8081\n"
     ]
    }
   ],
   "source": [
    "iserver = InteractiveServer(port=8081)"
   ]
  },
  {
   "cell_type": "code",
   "execution_count": 4,
   "id": "11ff443b-7a19-4fa6-bf82-1145d9dd3af0",
   "metadata": {},
   "outputs": [
    {
     "data": {
      "text/plain": [
       "'C:/Users/norma/Projects/xcube/examples/serve/demo/cube-1-250-250.levels'"
      ]
     },
     "execution_count": 4,
     "metadata": {},
     "output_type": "execute_result"
    }
   ],
   "source": [
    "ds = store.open_data('cube-1-250-250.levels')\n",
    "iserver.add_dataset(ds, title=\"Test, test!\")"
   ]
  },
  {
   "cell_type": "code",
   "execution_count": 5,
   "id": "b4284d31-ed27-442e-9e5c-a866f3a1b811",
   "metadata": {},
   "outputs": [
    {
     "data": {
      "text/plain": [
       "{'datasets': [{'id': 'C:/Users/norma/Projects/xcube/examples/serve/demo/cube-1-250-250.levels',\n",
       "   'title': 'Test, test!'}]}"
      ]
     },
     "execution_count": 5,
     "metadata": {},
     "output_type": "execute_result"
    }
   ],
   "source": [
    "import requests\n",
    "response = requests.get(\"http://localhost:8081/datasets\")\n",
    "response.json()"
   ]
  },
  {
   "cell_type": "code",
   "execution_count": null,
   "id": "bed48045-eb79-43ee-96c7-932a24d34126",
   "metadata": {},
   "outputs": [],
   "source": []
  }
 ],
 "metadata": {
  "kernelspec": {
   "display_name": "Python 3 (ipykernel)",
   "language": "python",
   "name": "python3"
  },
  "language_info": {
   "codemirror_mode": {
    "name": "ipython",
    "version": 3
   },
   "file_extension": ".py",
   "mimetype": "text/x-python",
   "name": "python",
   "nbconvert_exporter": "python",
   "pygments_lexer": "ipython3",
   "version": "3.9.13"
  }
 },
 "nbformat": 4,
 "nbformat_minor": 5
}

{
 "cells": [
  {
   "cell_type": "code",
   "execution_count": 1,
   "id": "ac98f4b6-57ff-4d19-a8a9-3ac39f70a563",
   "metadata": {},
   "outputs": [],
   "source": [
    "from xcube.server.webservers.tornado import TornadoFramework\n",
    "from xcube.server.server import Server"
   ]
  },
  {
   "cell_type": "markdown",
   "id": "0dddfd1b-5a12-43a7-bcfd-5438d1f90e56",
   "metadata": {},
   "source": [
    "See https://stackoverflow.com/questions/55201748/running-a-tornado-server-within-a-jupyter-notebook"
   ]
  },
  {
   "cell_type": "code",
   "execution_count": 2,
   "id": "8b49204e-d1c4-48bb-8eba-7ee2e9b2b9d6",
   "metadata": {},
   "outputs": [],
   "source": [
    "_io_loops = []\n",
    "\n",
    "def get_io_loop():\n",
    "    from tornado.ioloop import IOLoop\n",
    "    import threading\n",
    "    if not _io_loops:\n",
    "        loop = IOLoop()\n",
    "        thread = threading.Thread(target=loop.start)\n",
    "        thread.daemon = True\n",
    "        thread.start()\n",
    "        _io_loops.append(loop)\n",
    "    return _io_loops[0]"
   ]
  },
  {
   "cell_type": "code",
   "execution_count": 3,
   "id": "57f7f982-8e15-4f08-bc53-cafb01012ef3",
   "metadata": {},
   "outputs": [],
   "source": [
    "config = {\n",
    "    \"port\": 8081,\n",
    "    \"address\": \"0.0.0.0\",\n",
    "}"
   ]
  },
  {
   "cell_type": "code",
   "execution_count": null,
   "id": "e95eb338-75d6-4268-b12c-c07dfb23e90d",
   "metadata": {},
   "outputs": [],
   "source": [
    "io_loop = get_io_loop()\n",
    "\n",
    "server = Server(TornadoFramework(io_loop=io_loop), config)\n",
    "\n",
    "io_loop.add_callback(server.start)"
   ]
  },
  {
   "cell_type": "code",
   "execution_count": null,
   "id": "b4284d31-ed27-442e-9e5c-a866f3a1b811",
   "metadata": {},
   "outputs": [],
   "source": [
    "import requests\n",
    "response = requests.get(\"http://localhost:8081/\")\n",
    "response.json()"
   ]
  },
  {
   "cell_type": "code",
   "execution_count": null,
   "id": "bed48045-eb79-43ee-96c7-932a24d34126",
   "metadata": {},
   "outputs": [],
   "source": []
  }
 ],
 "metadata": {
  "kernelspec": {
   "display_name": "Python 3 (ipykernel)",
   "language": "python",
   "name": "python3"
  },
  "language_info": {
   "codemirror_mode": {
    "name": "ipython",
    "version": 3
   },
   "file_extension": ".py",
   "mimetype": "text/x-python",
   "name": "python",
   "nbconvert_exporter": "python",
   "pygments_lexer": "ipython3",
   "version": "3.9.13"
  }
 },
 "nbformat": 4,
 "nbformat_minor": 5
}

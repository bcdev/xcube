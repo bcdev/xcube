{
 "cells": [
  {
   "cell_type": "markdown",
   "metadata": {},
   "source": [
    "## Overview of demo xcube datasets in object storage"
   ]
  },
  {
   "cell_type": "markdown",
   "metadata": {},
   "source": [
    "This notebook gives an overview of the demo xcube datasets stored in an object storage bucket. For each xcube dataset the dataset's name, its chunk sizes, how many and which variables are in the cube as well as the first and last time stamp of the dataset are displayed. Additionally, the spatial coverage is displayed as well. \n",
    "\n",
    "The datsets' name can be used in the other notebooks to open the datasets using the `xcube.core.dsio.open_cube()` function. \n",
    "\n",
    "The URL for opening a data cube uses the following format: `'{endpoint_url}/{bucket}/{cube_name}'`. For example, `'https://s3.eu-central-1.amazonaws.com/xcube-examples/bc-olci-sns-l2c-2017_1x1024x1024.zarr'`.\n",
    "\n",
    "---"
   ]
  },
  {
   "cell_type": "markdown",
   "metadata": {},
   "source": [
    "Import a helper function that lists data cubes stored in an object storage bucket:"
   ]
  },
  {
   "cell_type": "code",
   "execution_count": 1,
   "metadata": {},
   "outputs": [],
   "source": [
    "from show_remote_cubes import show_remote_cubes"
   ]
  },
  {
   "cell_type": "code",
   "execution_count": 2,
   "metadata": {},
   "outputs": [],
   "source": [
    "bucket = 'xcube-examples'\n",
    "endpoint_url = 'https://s3.eu-central-1.amazonaws.com'"
   ]
  },
  {
   "cell_type": "markdown",
   "metadata": {},
   "source": [
    "Scan the bucket and return a data frame containing the cubes (this may take a few minutes):"
   ]
  },
  {
   "cell_type": "code",
   "execution_count": 3,
   "metadata": {},
   "outputs": [
    {
     "data": {
      "text/html": [
       "<div>\n",
       "<style scoped>\n",
       "    .dataframe tbody tr th:only-of-type {\n",
       "        vertical-align: middle;\n",
       "    }\n",
       "\n",
       "    .dataframe tbody tr th {\n",
       "        vertical-align: top;\n",
       "    }\n",
       "\n",
       "    .dataframe thead th {\n",
       "        text-align: right;\n",
       "    }\n",
       "</style>\n",
       "<table border=\"1\" class=\"dataframe\">\n",
       "  <thead>\n",
       "    <tr style=\"text-align: right;\">\n",
       "      <th></th>\n",
       "      <th>cube_name</th>\n",
       "      <th>chunks</th>\n",
       "      <th>number_of_variables</th>\n",
       "      <th>variables</th>\n",
       "      <th>start_date</th>\n",
       "      <th>end_date</th>\n",
       "      <th>spatial_coverage</th>\n",
       "    </tr>\n",
       "  </thead>\n",
       "  <tbody>\n",
       "    <tr>\n",
       "      <th>0</th>\n",
       "      <td>OLCI-SNS-RAW-CUBE-2.zarr</td>\n",
       "      <td>time: 1, lat: 1000, lon: 2000</td>\n",
       "      <td>5</td>\n",
       "      <td>c2rcc_flags, conc_chl, conc_tsm, kd489, qualit...</td>\n",
       "      <td>2016-11-24</td>\n",
       "      <td>2017-10-23</td>\n",
       "      <td>lon_min: 0.0, lat_min: 50.0, lon_max: 5.0, lat...</td>\n",
       "    </tr>\n",
       "    <tr>\n",
       "      <th>1</th>\n",
       "      <td>S2L2A-B04-Test-01.zarr</td>\n",
       "      <td>time: 1, y: 305, x: 512</td>\n",
       "      <td>3</td>\n",
       "      <td>B04, CLD, SCL</td>\n",
       "      <td>2018-05-01</td>\n",
       "      <td>2018-05-10</td>\n",
       "      <td>None</td>\n",
       "    </tr>\n",
       "    <tr>\n",
       "      <th>2</th>\n",
       "      <td>S2L2A_B04_B05_B06_B11_SCL_CLD_May_June_July201...</td>\n",
       "      <td>time: 1, lat: 1024, lon: 1024</td>\n",
       "      <td>6</td>\n",
       "      <td>B04, B05, B06, B11, CLD, SCL</td>\n",
       "      <td>2018-05-15</td>\n",
       "      <td>2018-07-29</td>\n",
       "      <td>lon_min: 10.0, lat_min: 54.27, lon_max: 11.105...</td>\n",
       "    </tr>\n",
       "    <tr>\n",
       "      <th>3</th>\n",
       "      <td>bc-olci-sns-l2c-2017_1x1024x1024.zarr</td>\n",
       "      <td>time: 1, lat: 1024, lon: 1024</td>\n",
       "      <td>3</td>\n",
       "      <td>chl_c2rcc, tsm_c2rcc, tur_nechad_665</td>\n",
       "      <td>2017-01-01</td>\n",
       "      <td>2017-12-31</td>\n",
       "      <td>lon_min: -16.0, lat_min: 48.0, lon_max: 10.666...</td>\n",
       "    </tr>\n",
       "    <tr>\n",
       "      <th>4</th>\n",
       "      <td>bc-sst-sns-l2c-2017_1x704x640.zarr</td>\n",
       "      <td>time: 1, lat: 704, lon: 640</td>\n",
       "      <td>1</td>\n",
       "      <td>analysed_sst</td>\n",
       "      <td>2017-01-01</td>\n",
       "      <td>2017-12-31</td>\n",
       "      <td>lon_min: -16.0, lat_min: 48.0, lon_max: 10.666...</td>\n",
       "    </tr>\n",
       "  </tbody>\n",
       "</table>\n",
       "</div>"
      ],
      "text/plain": [
       "                                           cube_name  \\\n",
       "0                           OLCI-SNS-RAW-CUBE-2.zarr   \n",
       "1                             S2L2A-B04-Test-01.zarr   \n",
       "2  S2L2A_B04_B05_B06_B11_SCL_CLD_May_June_July201...   \n",
       "3              bc-olci-sns-l2c-2017_1x1024x1024.zarr   \n",
       "4                 bc-sst-sns-l2c-2017_1x704x640.zarr   \n",
       "\n",
       "                          chunks number_of_variables  \\\n",
       "0  time: 1, lat: 1000, lon: 2000                   5   \n",
       "1        time: 1, y: 305, x: 512                   3   \n",
       "2  time: 1, lat: 1024, lon: 1024                   6   \n",
       "3  time: 1, lat: 1024, lon: 1024                   3   \n",
       "4    time: 1, lat: 704, lon: 640                   1   \n",
       "\n",
       "                                           variables  start_date    end_date  \\\n",
       "0  c2rcc_flags, conc_chl, conc_tsm, kd489, qualit...  2016-11-24  2017-10-23   \n",
       "1                                      B04, CLD, SCL  2018-05-01  2018-05-10   \n",
       "2                       B04, B05, B06, B11, CLD, SCL  2018-05-15  2018-07-29   \n",
       "3               chl_c2rcc, tsm_c2rcc, tur_nechad_665  2017-01-01  2017-12-31   \n",
       "4                                       analysed_sst  2017-01-01  2017-12-31   \n",
       "\n",
       "                                    spatial_coverage  \n",
       "0  lon_min: 0.0, lat_min: 50.0, lon_max: 5.0, lat...  \n",
       "1                                               None  \n",
       "2  lon_min: 10.0, lat_min: 54.27, lon_max: 11.105...  \n",
       "3  lon_min: -16.0, lat_min: 48.0, lon_max: 10.666...  \n",
       "4  lon_min: -16.0, lat_min: 48.0, lon_max: 10.666...  "
      ]
     },
     "execution_count": 3,
     "metadata": {},
     "output_type": "execute_result"
    }
   ],
   "source": [
    "overview_cubes_table = show_remote_cubes(bucket, endpoint_url)\n",
    "overview_cubes_table"
   ]
  },
  {
   "cell_type": "code",
   "execution_count": null,
   "metadata": {},
   "outputs": [],
   "source": []
  }
 ],
 "metadata": {
  "kernelspec": {
   "display_name": "Python 3 (ipykernel)",
   "language": "python",
   "name": "python3"
  },
  "language_info": {
   "codemirror_mode": {
    "name": "ipython",
    "version": 3
   },
   "file_extension": ".py",
   "mimetype": "text/x-python",
   "name": "python",
   "nbconvert_exporter": "python",
   "pygments_lexer": "ipython3",
   "version": "3.9.5"
  }
 },
 "nbformat": 4,
 "nbformat_minor": 4
}

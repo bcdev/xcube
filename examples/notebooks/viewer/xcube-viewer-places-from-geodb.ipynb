{
 "cells": [
  {
   "cell_type": "markdown",
   "id": "f4ef66d8-7be2-4a04-a341-1da91717ba92",
   "metadata": {},
   "source": [
    "# xcube server loading places from geoDB\n",
    "\n",
    "This notebook describes how to enable xcube server to load places from the [xcube geoDB](https://github.com/dcs4cop/xcube-geodb).\n",
    "\n",
    "For this to work, the following requirements must be satisfied:\n",
    "\n",
    "* xcube version must be >= 1.0.3\n",
    "* The dedicated xcube plugin [xcube-geodb-places)](https://github.com/dcs4cop/xcube-geodb-places) must be installed:\n",
    "  `cd ${projects}`\n",
    "  `git clone https://github.com/dcs4cop/xcube-geodb-places.git`\n",
    "  `cd xcube-geodb-places`\n",
    "  `mamba activate xcube`\n",
    "  `pip install -e .`\n",
    "* in order to view the places in the xcube viewer, it must be installed. See [here](https://github.com/dcs4cop/xcube-viewer) for instructions."
   ]
  },
  {
   "cell_type": "markdown",
   "id": "42e0f7d57caf398",
   "metadata": {
    "collapsed": false,
    "jupyter": {
     "outputs_hidden": false
    }
   },
   "source": [
    "## Configuration\n",
    "\n",
    "Add the places you want to load from the xcube geoDB to the server configuration, and (re-)start xcube server.\n",
    "\n",
    "A sample configuration can be copied and adapted from [here](https://github.com/dcs4cop/xcube-geodb-places/blob/main/xcube_places_plugin/config.yml.example)."
   ]
  },
  {
   "cell_type": "markdown",
   "id": "87aa330969d303a2",
   "metadata": {
    "collapsed": false,
    "jupyter": {
     "outputs_hidden": false
    }
   },
   "source": [
    "### Explanation of the configuration items\n",
    "\n",
    "#### clientId and clientSecret:\n",
    "\n",
    "`GEODB_AUTH_CLIENT_ID:      <your_client_id>`\n",
    "\n",
    "`GEODB_AUTH_CLIENT_SECRET:  <your_client_secret>`\n",
    "\n",
    "If you are using xcube geoDB via EDC, your clientId and clientSecret are stored as environment variables. You can retrieve them by starting a Jupyter Notebook on EDC, and issuing the commands:\n",
    "\n",
    "```\n",
    "import os\n",
    "\n",
    "os.environ('GEODB_AUTH_CLIENT_ID')\n",
    "os.environ('GEODB_AUTH_CLIENT_SECRET')\n",
    "```\n",
    "\n",
    "\n",
    "#### Identifier:\n",
    "\n",
    "Some arbitrary name for the group of places. Can be anything, but must not contain spaces.\n",
    "\n",
    "\n",
    "#### Title:\n",
    "\n",
    "The title for the group of places, as it appears in the viewer.\n",
    "\n",
    "\n",
    "#### Query:\n",
    "\n",
    "A [PostGREST](https://postgrest.org/en/stable/references/api/tables_views.html)-compliant query to the geoDB. This query determines the places to load from the geoDB. The example (`collection-name?limit=100&depth=gt.10&select=list,of,columns`) translates to \"fetch the columns `list`, `of`, and `columns` from the first 100 rows from the collection `collection-name`, where the value of column `depth` is greater than 10\". There are plenty of other possibilities to design queries, which are described in the PostGREST documentation.\n",
    "\n",
    "\n",
    "#### DatasetRefs:\n",
    "\n",
    "The place groups defined in the configuration will only be shown for the datasets listed here.\n",
    "\n",
    "\n",
    "#### PropertyMapping:\n",
    "\n",
    "These fields control the display: you can define which column of the collection determines the label, the color, or the description for the places. For example, if you have a collection with a column `feature-name`, you may want to put here `label: feature-name`."
   ]
  },
  {
   "cell_type": "markdown",
   "id": "c324d7f0f634c419",
   "metadata": {
    "collapsed": false,
    "jupyter": {
     "outputs_hidden": false
    }
   },
   "source": [
    "### Demonstration of a sample configuration"
   ]
  },
  {
   "cell_type": "code",
   "execution_count": null,
   "id": "4450c4c946b7cd30",
   "metadata": {
    "ExecuteTime": {
     "end_time": "2023-07-27T20:38:13.599444100Z",
     "start_time": "2023-07-27T20:38:08.132450600Z"
    },
    "collapsed": false,
    "jupyter": {
     "outputs_hidden": false
    }
   },
   "outputs": [],
   "source": [
    "from xcube.webapi.viewer import Viewer\n",
    "\n",
    "viewer = Viewer(server_config={\n",
    "    \"GeoDBConf\": {\n",
    "        \"GEODB_API_SERVER_URL\": \"https://xcube-geodb.brockmann-consult.de\",\n",
    "        \"GEODB_API_SERVER_PORT\": 443,\n",
    "        \"GEODB_AUTH_AUD\": \"https://xcube-users.brockmann-consult.de/api/v2\",\n",
    "        \"GEODB_AUTH_CLIENT_ID\": \"<your_client_id>\",\n",
    "        \"GEODB_AUTH_CLIENT_SECRET\": \"<your_client_secret>\",\n",
    "        \"PlaceGroups\": [\n",
    "            {\n",
    "                \"Identifier\": \"doors_BSWQDB_JOSS\",\n",
    "                \"Title\": \"DOORS - BSWQDB for JOSS GE-UA 2016\",\n",
    "                \"Query\": 'doors_BSWQDB_1?select=station,\"station depth [m]\",\"sampling depth [m]\",\"salinity [‰]\",\"temperature [°c]\",timestamp&cruise=eq.JOSS GE-UA 2016',\n",
    "                \"PropertyMapping\": {\n",
    "                    \"label\": \"station\"\n",
    "                },\n",
    "                \"DatasetRefs\": [\"demo-cmems-oc-bs\"]\n",
    "            }\n",
    "        ]\n",
    "    },\n",
    "    \"DataStores\": [\n",
    "        {\n",
    "            \"Identifier\": \"doors-demo\",\n",
    "            \"StoreId\": \"s3\",\n",
    "            \"StoreParams\": {\n",
    "                \"root\": \"doors-cubes/blacksea\",\n",
    "                \"storage_options\": {\n",
    "                    \"anon\": False\n",
    "                }\n",
    "            },\n",
    "            \"Datasets\": [\n",
    "                {\n",
    "                    \"Identifier\": \"demo-cmems-oc-bs\",\n",
    "                    \"Path\": \"CMEMS_OC_BS_4.zarr\",\n",
    "                    \"TimeSeriesDataset\": \"demo-cmems-oc-bs-time-opt\",\n",
    "                    \"Style\": \"default\",\n",
    "                    \"AccessControl\": {\n",
    "                        \"IsSubstitute\": True\n",
    "                    }\n",
    "                }\n",
    "            ]\n",
    "        }\n",
    "    ]\n",
    "\n",
    "})"
   ]
  },
  {
   "cell_type": "code",
   "execution_count": null,
   "id": "c7b686f24967e707",
   "metadata": {
    "ExecuteTime": {
     "end_time": "2023-07-27T20:38:23.122039Z",
     "start_time": "2023-07-27T20:38:23.078766400Z"
    },
    "collapsed": false,
    "jupyter": {
     "outputs_hidden": false
    }
   },
   "outputs": [],
   "source": [
    "viewer.info()"
   ]
  }
 ],
 "metadata": {
  "kernelspec": {
   "display_name": "Python 3 (ipykernel)",
   "language": "python",
   "name": "python3"
  },
  "language_info": {
   "codemirror_mode": {
    "name": "ipython",
    "version": 3
   },
   "file_extension": ".py",
   "mimetype": "text/x-python",
   "name": "python",
   "nbconvert_exporter": "python",
   "pygments_lexer": "ipython3",
   "version": "3.11.4"
  }
 },
 "nbformat": 4,
 "nbformat_minor": 5
}

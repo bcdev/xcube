{
 "cells": [
  {
   "cell_type": "code",
   "execution_count": 1,
   "id": "204a2531-1f34-4b3c-8b46-2837d24b328b",
   "metadata": {},
   "outputs": [],
   "source": [
    "from xcube.core.store import new_data_store\n",
    "from xcube.webapi.viewer import Viewer"
   ]
  },
  {
   "cell_type": "code",
   "execution_count": 2,
   "id": "8b49204e-d1c4-48bb-8eba-7ee2e9b2b9d6",
   "metadata": {},
   "outputs": [
    {
     "data": {
      "text/plain": [
       "['cube-1-250-250.levels', 'S2L2A-HH-2020-08.zarr']"
      ]
     },
     "execution_count": 2,
     "metadata": {},
     "output_type": "execute_result"
    }
   ],
   "source": [
    "store = new_data_store(\"file\", root=\"../../..\")\n",
    "store.list_data_ids()"
   ]
  },
  {
   "cell_type": "code",
   "execution_count": 3,
   "id": "57f7f982-8e15-4f08-bc53-cafb01012ef3",
   "metadata": {},
   "outputs": [],
   "source": [
    "viewer = Viewer()"
   ]
  },
  {
   "cell_type": "code",
   "execution_count": 4,
   "id": "11ff443b-7a19-4fa6-bf82-1145d9dd3af0",
   "metadata": {},
   "outputs": [
    {
     "data": {
      "text/plain": [
       "'816053cc-52ac-4d28-baf4-1ea2d5aacd61'"
      ]
     },
     "execution_count": 4,
     "metadata": {},
     "output_type": "execute_result"
    }
   ],
   "source": [
    "ds = store.open_data('S2L2A-HH-2020-08.zarr')\n",
    "viewer.add_dataset(ds, title=\"Hamburg!\")"
   ]
  },
  {
   "cell_type": "code",
   "execution_count": 5,
   "id": "b4284d31-ed27-442e-9e5c-a866f3a1b811",
   "metadata": {},
   "outputs": [
    {
     "name": "stdout",
     "output_type": "stream",
     "text": [
      "Server: http://localhost:8000\n",
      "Viewer: http://localhost:8000/viewer/?serverUrl=http://localhost:8000\n"
     ]
    }
   ],
   "source": [
    "viewer.info()"
   ]
  },
  {
   "cell_type": "code",
   "execution_count": 7,
   "id": "bed48045-eb79-43ee-96c7-932a24d34126",
   "metadata": {},
   "outputs": [
    {
     "data": {
      "text/html": [
       "<iframe src=\"http://localhost:8000/viewer/?serverUrl=http://localhost:8000&compact=1\" width=\"100%\" height=\"800\"/>"
      ],
      "text/plain": [
       "<IPython.core.display.HTML object>"
      ]
     },
     "execution_count": 7,
     "metadata": {},
     "output_type": "execute_result"
    },
    {
     "name": "stderr",
     "output_type": "stream",
     "text": [
      "2023-01-17 15:58:59,063 - tornado.access - WARNING - 404 GET /viewer/config/config.json (127.0.0.1) 1.00ms\n"
     ]
    }
   ],
   "source": [
    "viewer.show()"
   ]
  },
  {
   "cell_type": "code",
   "execution_count": null,
   "id": "32f6bb7c-ef32-4969-ae8a-40bbe505a36c",
   "metadata": {},
   "outputs": [],
   "source": []
  }
 ],
 "metadata": {
  "kernelspec": {
   "display_name": "Python 3 (ipykernel)",
   "language": "python",
   "name": "python3"
  },
  "language_info": {
   "codemirror_mode": {
    "name": "ipython",
    "version": 3
   },
   "file_extension": ".py",
   "mimetype": "text/x-python",
   "name": "python",
   "nbconvert_exporter": "python",
   "pygments_lexer": "ipython3",
   "version": "3.9.13"
  }
 },
 "nbformat": 4,
 "nbformat_minor": 5
}

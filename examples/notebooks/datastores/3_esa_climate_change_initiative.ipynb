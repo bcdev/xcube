{
 "cells": [
  {
   "cell_type": "markdown",
   "metadata": {},
   "source": [
    "## xcube Data Store Framework - CCI Open Data Portal\n",
    "\n",
    "*Please checkout the general introduction about xcube stores in the jupyter notebook xcube/examples/notebooks/store/Intro_xcube_store_framework.ipynb before jumping into this notebook :)* \n",
    "\n",
    "This notebook provides a walk-through demonstrating how to use xcube and the xcube Climate Change Initiative Open Data Portal (CCI) plugin to read and explore data from CCI Open Data Portal.\n",
    "\n",
    "\n",
    "In order to run this notebook you need to install the xcube-cci plugin. You may do so by executing the following line in your terminal: \n",
    "\n",
    "```\n",
    "$  conda install -c conda-forge xcube-cci\n",
    "```\n",
    "\n",
    "Or you can install xcube-cci from sources by following the instructions on https://github.com/dcs4cop/xcube-cci\n"
   ]
  },
  {
   "cell_type": "code",
   "execution_count": 1,
   "metadata": {},
   "outputs": [],
   "source": [
    "# CCI Data Store requires asyncio. In order to work in Notebooks, we need to do the following:\n",
    "from xcube.util.ipython import enable_asyncio\n",
    "enable_asyncio()"
   ]
  },
  {
   "cell_type": "code",
   "execution_count": 2,
   "metadata": {},
   "outputs": [],
   "source": [
    "# mandatory imports\n",
    "from xcube.core.store import find_data_store_extensions\n",
    "from xcube.core.store import get_data_store_params_schema\n",
    "from xcube.core.store import new_data_store\n",
    "\n",
    "# Utilities for notebook visualization\n",
    "from IPython.display import JSON\n",
    "import shapely.geometry\n",
    "import IPython.display\n",
    "from IPython.display import JSON\n",
    "import matplotlib.pyplot as plt"
   ]
  },
  {
   "cell_type": "markdown",
   "metadata": {},
   "source": [
    "Configure matplotlib to display graphs inline directly in the notebook and set a sensible default figure size."
   ]
  },
  {
   "cell_type": "code",
   "execution_count": 3,
   "metadata": {},
   "outputs": [],
   "source": [
    "%matplotlib inline\n",
    "plt.rcParams[\"figure.figsize\"] = 16,8\n"
   ]
  },
  {
   "cell_type": "markdown",
   "metadata": {},
   "source": [
    "Check wheather the `cciodp` store is among the available stores, if not please follow the installation information from the top of this notebook. "
   ]
  },
  {
   "cell_type": "code",
   "execution_count": 4,
   "metadata": {},
   "outputs": [
    {
     "data": {
      "application/json": {
       "cciodp": {
        "description": "ESA CCI Open Data Portal"
       },
       "cds": {
        "description": "Climate Data Store API"
       },
       "directory": {
        "description": "Directory data store"
       },
       "memory": {
        "description": "Memory data store"
       },
       "s3": {
        "description": "AWS S3 data store"
       },
       "sentinelhub": {
        "description": "SENTINEL Hub Cloud API"
       }
      },
      "text/plain": [
       "<IPython.core.display.JSON object>"
      ]
     },
     "execution_count": 4,
     "metadata": {
      "application/json": {
       "expanded": false,
       "root": "root"
      }
     },
     "output_type": "execute_result"
    }
   ],
   "source": [
    "JSON({e.name: e.metadata for e in find_data_store_extensions()})"
   ]
  },
  {
   "cell_type": "markdown",
   "metadata": {},
   "source": [
    "Usually we need more information to get the actual data store object. Which data store parameters are available for `cciodp`?"
   ]
  },
  {
   "cell_type": "code",
   "execution_count": 5,
   "metadata": {},
   "outputs": [
    {
     "data": {
      "application/json": {
       "additionalProperties": false,
       "properties": {
        "enable_warnings": {
         "default": false,
         "title": "Whether to output warnings",
         "type": "boolean"
        },
        "num_retries": {
         "default": 200,
         "minimum": 0,
         "title": "Number of retries when requesting data fails",
         "type": "integer"
        },
        "opensearch_description_url": {
         "default": "https://archive.opensearch.ceda.ac.uk/opensearch/description.xml?parentIdentifier=cci",
         "type": "string"
        },
        "opensearch_url": {
         "default": "https://archive.opensearch.ceda.ac.uk/opensearch/request",
         "type": "string"
        },
        "retry_backoff_base": {
         "default": 1.001,
         "exclusiveMinimum": 1,
         "type": "number"
        },
        "retry_backoff_max": {
         "default": 40,
         "minimum": 0,
         "type": "integer"
        }
       },
       "type": "object"
      },
      "text/plain": [
       "<xcube.util.jsonschema.JsonObjectSchema at 0x7f016bd458d0>"
      ]
     },
     "execution_count": 5,
     "metadata": {},
     "output_type": "execute_result"
    }
   ],
   "source": [
    "get_data_store_params_schema('cciodp')"
   ]
  },
  {
   "cell_type": "markdown",
   "metadata": {},
   "source": [
    "Provide mandatory parameters to instantiate the store class:"
   ]
  },
  {
   "cell_type": "code",
   "execution_count": 6,
   "metadata": {},
   "outputs": [
    {
     "data": {
      "text/plain": [
       "<xcube_cci.dataaccess.CciOdpDataStore at 0x7f016bd52350>"
      ]
     },
     "execution_count": 6,
     "metadata": {},
     "output_type": "execute_result"
    }
   ],
   "source": [
    "store = new_data_store('cciodp')\n",
    "store"
   ]
  },
  {
   "cell_type": "markdown",
   "metadata": {},
   "source": [
    "Which datasets are provided? (the list may contain both gridded and vector datasets):"
   ]
  },
  {
   "cell_type": "markdown",
   "metadata": {},
   "source": [
    "We may ask for a specific dataset ..."
   ]
  },
  {
   "cell_type": "code",
   "execution_count": 7,
   "metadata": {},
   "outputs": [
    {
     "data": {
      "text/plain": [
       "True"
      ]
     },
     "execution_count": 7,
     "metadata": {},
     "output_type": "execute_result"
    }
   ],
   "source": [
    "store.has_data('esacci.OC.5-days.L3S.CHLOR_A.multi-sensor.multi-platform.MERGED.3-1.geographic')"
   ]
  },
  {
   "cell_type": "markdown",
   "metadata": {},
   "source": [
    "... but in many cases we want to query for certain criteria. How can we do that?"
   ]
  },
  {
   "cell_type": "code",
   "execution_count": 8,
   "metadata": {},
   "outputs": [
    {
     "data": {
      "application/json": {
       "additionalProperties": false,
       "properties": {
        "bbox": {
         "items": [
          {
           "type": "number"
          },
          {
           "type": "number"
          },
          {
           "type": "number"
          },
          {
           "type": "number"
          }
         ],
         "type": "array"
        },
        "data_type": {
         "enum": [
          "IV",
          "AER_PRODUCTS",
          "LP",
          "SITHICK",
          "CH4",
          "CLD_PRODUCTS",
          "GMB",
          "SSTskin",
          "CO2",
          "BA",
          "CHLOR_A",
          "K_490",
          "SSMV",
          "IOP",
          "OC_PRODUCTS",
          "RRS",
          "SEC",
          "SSTdepth",
          "SWH",
          "AAI",
          "AOD",
          "GLL",
          "LCCS",
          "SICONC",
          "SSMS",
          "SSS",
          "AEX",
          "NP",
          "TC",
          "WB"
         ],
         "type": "string"
        },
        "ecv": {
         "enum": [
          "ICESHEETS",
          "AEROSOL",
          "OC",
          "GHG",
          "OZONE",
          "SEAICE",
          "SST",
          "CLOUD",
          "SOILMOISTURE",
          "FIRE",
          "LC",
          "SEASTATE",
          "SEASURFACESALINITY",
          "GLACIERS",
          "SEALEVEL"
         ],
         "type": "string"
        },
        "end_date": {
         "format": "date-time",
         "type": "string"
        },
        "frequency": {
         "enum": [
          "month",
          "day",
          "satellite orbit frequency5 days",
          "8 days",
          "climatology",
          "13 years",
          "15 days",
          "5 years",
          "year"
         ],
         "type": "string"
        },
        "institute": {
         "enum": [
          "Plymouth Marine Laboratory",
          "Alfred-Wegener-Institut Helmholtz-Zentrum für Polar- und Meeresforschung",
          "ENVironmental Earth Observation IT GmbH",
          "multi-institution",
          "DTU Space",
          "Vienna University of Technology",
          "Deutscher Wetterdienst",
          "Netherlands Institute for Space Research",
          "Technische Universität Dresden",
          "Institute of Environmental Physics",
          "Rutherford Appleton Laboratory",
          "Universite Catholique de Louvain",
          "University of Alcala",
          "University of Leicester",
          "Norwegian Meteorological Institute",
          "University of Bremen",
          "Belgian Institute for Space Aeronomy",
          "Deutsches Zentrum fuer Luft- und Raumfahrt",
          "Freie Universitaet Berlin",
          "Royal Netherlands Meteorological Institute",
          "The Geological Survey of Denmark and Greenland"
         ],
         "type": "string"
        },
        "platform": {
         "enum": [
          "Envisat",
          "ERS-2",
          "GOSAT",
          "CryoSat-2",
          "GRACE",
          "ERS-1",
          "Metop-A",
          "NOAA-11",
          "NOAA-12",
          "NOAA-14",
          "NOAA-15",
          "NOAA-16",
          "NOAA-17",
          "NOAA-18",
          "NOAA-19",
          "NOAA-7",
          "NOAA-9",
          "ODIN",
          "Terra",
          "GFO",
          "Jason-1",
          "Jason-2",
          "SARAL",
          "Aqua",
          "RadarSat-2"
         ],
         "type": "string"
        },
        "processing_level": {
         "enum": [
          "L3S",
          "L3C",
          "L2P",
          "L4",
          "L2L3",
          "L3U"
         ],
         "type": "string"
        },
        "product_string": {
         "enum": [
          "MERGED (20)",
          "ADV ",
          "ORAC",
          "SU",
          "AATSR",
          "ATSR1",
          "ATSR2",
          "AVHRR07_G",
          "AVHRR09_G",
          "AVHRR11_G",
          "AVHRR12_G",
          "AVHRR14_G",
          "AVHRR15_G",
          "AVHRR16_G",
          "AVHRR17_G",
          "AVHRR18_G",
          "AVHRR19_G",
          "AVHRRMTA_G",
          "MODIS_TERRA",
          "Map",
          "OSTIA",
          "ACTIVE",
          "COMBINED",
          "EMMA",
          "MERIS_ENVISAT",
          "MSI",
          "OCFP",
          "PASSIVE",
          "SRFP",
          "WFMD",
          "ACE_FTS_SCISAT",
          "AERGOM",
          "AMSR_25kmEASE2",
          "AMSR_50kmEASE2",
          "ATSR2-AATSR",
          "ATSR2_ERS2",
          "AVHRR-AM",
          "AVHRR-PM",
          "BESD",
          "Envisat",
          "GFO",
          "GOMOS_ENVISAT",
          "IMAP",
          "MERGED_OI_7DAY_RUNNINGMEAN_DAILY_25km",
          "MERGED_OI_Monthly_CENTRED_15Day_25km",
          "MERIS-AATSR",
          "MIPAS_ENVISAT",
          "MODIS_AQUA",
          "MZM",
          "OCPR",
          "OSIRIS_ODIN",
          "SCIAMACHY_ENVISAT",
          "SMM",
          "SMR_ODIN",
          "SRPR",
          "Saral"
         ],
         "type": "string"
        },
        "product_version": {
         "enum": [
          "1.1",
          "2.0",
          "esp 2.1",
          "2.1",
          "4.0",
          "3.1",
          "undefined",
          "v0001",
          "1.2",
          "v1.0",
          "03.02",
          "2.30",
          "4.21",
          "04.4",
          "04.5",
          "1.0",
          "2.2",
          "v1.1",
          "v1.2",
          "v2.3.8",
          "01.08",
          "v0002",
          "v1.3",
          "v4.0",
          "0.1",
          "1.3",
          "1.5.7",
          "1.6.1",
          "2.0.7",
          "2.19",
          "3.0",
          "4-0",
          "4.21u",
          "ch4_v1.2",
          "fv0002",
          "fv0100",
          "v0.1",
          "v02.01.02",
          "v1.4",
          "v1.5",
          "v2-1",
          "v2.0",
          "v2.2",
          "v2.2a",
          "v2.2b",
          "v2.2c",
          "v3.0",
          "v5.1",
          "v7-0-1",
          "v7.0",
          "v7.2"
         ],
         "type": "string"
        },
        "sensor": {
         "enum": [
          "ATSR-2",
          "AATSR",
          "TANSO-FTS",
          "RA-2",
          "SCIAMACHY",
          "SIRAL",
          "MODIS",
          "ATSR",
          "AVHRR-2",
          "AVHRR-3",
          "GOMOS",
          "MERIS",
          "RA",
          "SMR",
          "ACE-FTS",
          "AMI-SCAT",
          "ASAR",
          "AltiKa",
          "GFO-RA",
          "MIPAS",
          "OSIRIS",
          "Poseidon-2",
          "Poseidon-3"
         ],
         "type": "string"
        },
        "start_date": {
         "format": "date-time",
         "type": "string"
        }
       },
       "type": "object"
      },
      "text/plain": [
       "<xcube.util.jsonschema.JsonObjectSchema at 0x7f016b4ca990>"
      ]
     },
     "execution_count": 8,
     "metadata": {},
     "output_type": "execute_result"
    }
   ],
   "source": [
    "store.get_search_params_schema()"
   ]
  },
  {
   "cell_type": "markdown",
   "metadata": {},
   "source": [
    "Now search, let's search for sea surface temperature data (SST) with a daily frequency: "
   ]
  },
  {
   "cell_type": "code",
   "execution_count": 9,
   "metadata": {},
   "outputs": [
    {
     "data": {
      "application/json": [
       {
        "attrs": {
         "abstract": "This v2.1 SST_cci Along-Track Scanning Radiometer (ATSR) Level 3 Collated (L3C) Climate Data Record (CDR) consists of stable, low-bias sea surface temperature (SST) data from the ATSR series of satellite instruments. It covers the period between 11/1991 and 04/2012.  This L3C product provides these SST data on a 0.05 regular latitude-longitude grid and collated to include all orbits for a day (separated into daytime and nighttime files).\n\nThe dataset has been produced as part of the European Space Agency (ESA) Climate Change Initiative Sea Surface Temperature project(ESA SST_cci). The data products from SST_cci accurately map the surface temperature of the global oceans over the period 1981 to 2016 using observations from many satellites. The data provide independently quantified SSTs to a quality suitable for climate research.\n\nThis CDR Version 2.1 product supercedes the CDR v2.0 product.  Data are made freely and openly available under a Creative Commons License by Attribution (CC By 4.0) https://creativecommons.org/licenses/by/4.0/ .\n\nWhen citing this dataset please also cite the associated data paper: Merchant, C.J., Embury, O., Bulgin, C.E., Block T., Corlett, G.K., Fiedler, E., Good, S.A., Mittaz, J., Rayner, N.A., Berry, D., Eastwood, S., Taylor, M., Tsushima, Y., Waterfall, A., Wilson, R., Donlon, C. Satellite-based time-series of sea-surface temperature since 1981 for climate applications, Scientific Data 6:223 (2019). http://doi.org/10.1038/s41597-019-0236-x",
         "bbox_maxx": "180.0",
         "bbox_maxy": "90.0",
         "bbox_minx": "-180.0",
         "bbox_miny": "-90.0",
         "cci_project": "SST",
         "creation_date": "2019-08-02T21:18:25",
         "data_type": "SSTskin",
         "drs_ids": [
          "esacci.SST.day.L3C.SSTskin.AATSR.Envisat.AATSR.2-1.day",
          "esacci.SST.day.L3C.SSTskin.AATSR.Envisat.AATSR.2-1.night",
          "esacci.SST.day.L3C.SSTskin.ATSR-2.ERS-2.ATSR2.2-1.day",
          "esacci.SST.day.L3C.SSTskin.ATSR-2.ERS-2.ATSR2.2-1.night",
          "esacci.SST.day.L3C.SSTskin.ATSR.ERS-1.ATSR1.2-1.day",
          "esacci.SST.day.L3C.SSTskin.ATSR.ERS-1.ATSR1.2-1.night"
         ],
         "ecv": "SST",
         "fid": "5db2099606b94e63879d841c87e654ae",
         "file_formats": [
          ".nc",
          ".txt"
         ],
         "institute": "ESACCI_SST",
         "licences": "Use of these data is covered by the following licence: https://artefacts.ceda.ac.uk/licences/specific_licences/esacci_sst_terms_and_conditions_v2.pdf . When using these data you must cite them correctly using the citation given on the CEDA Data Catalogue record.",
         "metadata_url": "https://catalogue.ceda.ac.uk/export/xml/5db2099606b94e63879d841c87e654ae.xml",
         "odd_url": "http://archive.opensearch.ceda.ac.uk/opensearch/description.xml?parentIdentifier=5db2099606b94e63879d841c87e654ae",
         "platform_id": "Envisat",
         "processing_level": "L3C",
         "product_string": "AATSR",
         "product_version": "2-1",
         "publication_date": "2019-08-02T21:18:25",
         "sensor_id": "AATSR",
         "temporal_coverage_end": "2012-04-08T22:59:59",
         "temporal_coverage_start": "1991-11-01T00:00:00",
         "time_frequency": "day",
         "title": "ESA Sea Surface Temperature Climate Change Initiative (SST_cci): Along-Track Scanning Radiometer (ATSR) Level 3 Collated (L3C) Climate Data Record, version 2.1",
         "uuid": "5db2099606b94e63879d841c87e654ae"
        },
        "bbox": [
         -180,
         -90,
         180,
         90
        ],
        "data_id": "esacci.SST.day.L3C.SSTskin.AATSR.Envisat.AATSR.2-1.day",
        "data_vars": [
         {
          "attrs": {
           "add_offset": 273.15,
           "chunk_sizes": [
            1,
            90,
            180
           ],
           "comment": "Temperature of the skin of the ocean; total uncertainty = sqrt(uncertainty_systematic^2+uncertainty_correlated^2+uncertainty_random^2)",
           "data_type": "int16",
           "depth": "10 micrometres",
           "dimensions": [
            "time",
            "lat",
            "lon"
           ],
           "fill_value": -32768,
           "long_name": "sea surface skin temperature",
           "references": "http://www.esa-sst-cci.org",
           "scale_factor": 0.01,
           "size": 25920000,
           "source": "AATSR-ESA-L1-v3",
           "standard_name": "sea_surface_skin_temperature",
           "units": "kelvin",
           "valid_max": 5000,
           "valid_min": -200
          },
          "dims": [
           "time",
           "lat",
           "lon"
          ],
          "dtype": "int16",
          "name": "sea_surface_temperature",
          "ndim": 3
         },
         {
          "attrs": {
           "add_offset": 273.15,
           "chunk_sizes": [
            1,
            90,
            180
           ],
           "comment": "Temperature of the ocean at 20 cm depth; total uncertainty = sqrt(uncertainty_systematic^2+uncertainty_correlated^2+uncertainty_random^2+uncertainty_correlated_time_and_depth_adjustment^2)",
           "data_type": "int16",
           "depth": "0.2 metre",
           "dimensions": [
            "time",
            "lat",
            "lon"
           ],
           "fill_value": -32768,
           "long_name": "sea surface temperature at 0.2 m",
           "references": "http://www.esa-sst-cci.org",
           "scale_factor": 0.01,
           "size": 25920000,
           "source": "AATSR-ESA-L1-v3",
           "standard_name": "sea_water_temperature",
           "units": "kelvin",
           "valid_max": 5000,
           "valid_min": -200
          },
          "dims": [
           "time",
           "lat",
           "lon"
          ],
          "dtype": "int16",
          "name": "sea_surface_temperature_depth",
          "ndim": 3
         },
         {
          "attrs": {
           "add_offset": 0,
           "chunk_sizes": [
            1,
            90,
            180
           ],
           "comment": "Temperature of the ocean at 20 cm depth; total uncertainty = sqrt(uncertainty_systematic^2+uncertainty_correlated^2+uncertainty_random^2+uncertainty_correlated_time_and_depth_adjustment^2)",
           "data_type": "int16",
           "depth": "0.2 metre",
           "dimensions": [
            "time",
            "lat",
            "lon"
           ],
           "fill_value": -32768,
           "long_name": "sea surface temperature anomaly at 0.2 m",
           "references": "http://www.esa-sst-cci.org",
           "scale_factor": 0.01,
           "size": 25920000,
           "source": "AATSR-ESA-L1-v3",
           "standard_name": "sea_water_temperature_anomaly",
           "units": "kelvin",
           "valid_max": 4000,
           "valid_min": -4000
          },
          "dims": [
           "time",
           "lat",
           "lon"
          ],
          "dtype": "int16",
          "name": "sea_surface_temperature_depth_anomaly",
          "ndim": 3
         },
         {
          "attrs": {
           "add_offset": 0,
           "chunk_sizes": [
            1,
            90,
            180
           ],
           "comment": "time plus sst_dtime gives seconds after 1981-01-01 00:00:00",
           "data_type": "int32",
           "dimensions": [
            "time",
            "lat",
            "lon"
           ],
           "fill_value": -2147483648,
           "long_name": "time difference from reference time",
           "scale_factor": 1,
           "size": 25920000,
           "units": "seconds",
           "valid_max": 43200,
           "valid_min": -43200
          },
          "dims": [
           "time",
           "lat",
           "lon"
          ],
          "dtype": "int32",
          "name": "sst_dtime",
          "ndim": 3
         },
         {
          "attrs": {
           "add_offset": 0,
           "chunk_sizes": [
            1,
            90,
            180
           ],
           "comment": "time plus sst_depth_dtime gives seconds after 1981-01-01 00:00:00",
           "data_type": "int32",
           "dimensions": [
            "time",
            "lat",
            "lon"
           ],
           "fill_value": -2147483648,
           "long_name": "time difference from reference time",
           "scale_factor": 1,
           "size": 25920000,
           "units": "seconds",
           "valid_max": 43200,
           "valid_min": -43200
          },
          "dims": [
           "time",
           "lat",
           "lon"
          ],
          "dtype": "int32",
          "name": "sst_depth_dtime",
          "ndim": 3
         },
         {
          "attrs": {
           "_Unsigned": "false",
           "add_offset": 0,
           "chunk_sizes": [
            1,
            90,
            180
           ],
           "comment": "Populated with zeroes",
           "data_type": "uint8",
           "dimensions": [
            "time",
            "lat",
            "lon"
           ],
           "fill_value": -128,
           "long_name": "SSES bias estimate",
           "scale_factor": 0.01,
           "size": 25920000,
           "units": "kelvin",
           "valid_max": 127,
           "valid_min": -127
          },
          "dims": [
           "time",
           "lat",
           "lon"
          ],
          "dtype": "uint8",
          "name": "sses_bias",
          "ndim": 3
         },
         {
          "attrs": {
           "_Unsigned": "false",
           "add_offset": 1.27,
           "chunk_sizes": [
            1,
            90,
            180
           ],
           "comment": "Uncertainty information is contained in the variables uncertainty_systematic, uncertainty_correlated, and uncertainty_random",
           "data_type": "uint8",
           "dimensions": [
            "time",
            "lat",
            "lon"
           ],
           "fill_value": -128,
           "long_name": "SSES standard deviation",
           "scale_factor": 0.01,
           "size": 25920000,
           "units": "kelvin",
           "valid_max": 127,
           "valid_min": -127
          },
          "dims": [
           "time",
           "lat",
           "lon"
          ],
          "dtype": "uint8",
          "name": "sses_standard_deviation",
          "ndim": 3
         },
         {
          "attrs": {
           "add_offset": 0,
           "chunk_sizes": [
            1,
            90,
            180
           ],
           "comment": "Total uncertainty in each sea_surface_temperature data point",
           "data_type": "int16",
           "dimensions": [
            "time",
            "lat",
            "lon"
           ],
           "fill_value": -32768,
           "long_name": "Total uncertainty in sea_surface_temperature",
           "scale_factor": 0.001,
           "size": 25920000,
           "units": "kelvin",
           "valid_max": 5000,
           "valid_min": 0
          },
          "dims": [
           "time",
           "lat",
           "lon"
          ],
          "dtype": "int16",
          "name": "sea_surface_temperature_total_uncertainty",
          "ndim": 3
         },
         {
          "attrs": {
           "add_offset": 0,
           "chunk_sizes": [
            1,
            90,
            180
           ],
           "comment": "Total uncertainty in each sea_surface_temperature_depth data point",
           "data_type": "int16",
           "dimensions": [
            "time",
            "lat",
            "lon"
           ],
           "fill_value": -32768,
           "long_name": "Total uncertainty in sea_surface_temperature_depth",
           "scale_factor": 0.001,
           "size": 25920000,
           "units": "kelvin",
           "valid_max": 5000,
           "valid_min": 0
          },
          "dims": [
           "time",
           "lat",
           "lon"
          ],
          "dtype": "int16",
          "name": "sea_surface_temperature_depth_total_uncertainty",
          "ndim": 3
         },
         {
          "attrs": {
           "add_offset": 0,
           "chunk_sizes": [
            1,
            90,
            180
           ],
           "comment": "Add to sea_surface_temperature, if SST at 20cm at observation time is required",
           "data_type": "int16",
           "dimensions": [
            "time",
            "lat",
            "lon"
           ],
           "fill_value": -32768,
           "long_name": "Adjustment to sea surface temperature at 0.2 m",
           "scale_factor": 0.01,
           "size": 25920000,
           "units": "kelvin",
           "valid_max": 1000,
           "valid_min": -1000
          },
          "dims": [
           "time",
           "lat",
           "lon"
          ],
          "dtype": "int16",
          "name": "depth_adjustment",
          "ndim": 3
         },
         {
          "attrs": {
           "add_offset": 0,
           "chunk_sizes": [
            1,
            90,
            180
           ],
           "comment": "Add to sea_surface_temperature, if alternative SST retrieval is required",
           "data_type": "int16",
           "dimensions": [
            "time",
            "lat",
            "lon"
           ],
           "fill_value": -32768,
           "long_name": "Adjustment to alternative sea surface temperature retrieval",
           "scale_factor": 0.01,
           "size": 25920000,
           "units": "kelvin",
           "valid_max": 1000,
           "valid_min": -1000
          },
          "dims": [
           "time",
           "lat",
           "lon"
          ],
          "dtype": "int16",
          "name": "adjustment_alt",
          "ndim": 3
         },
         {
          "attrs": {
           "chunk_sizes": [
            1,
            90,
            180
           ],
           "comment": "These flags are important to properly use the data",
           "data_type": "int16",
           "dimensions": [
            "time",
            "lat",
            "lon"
           ],
           "fill_value": -32768,
           "flag_masks": [
            1,
            2,
            4,
            8,
            16,
            32,
            64,
            128,
            256
           ],
           "flag_meanings": "microwave land ice lake river spare views channels day",
           "long_name": "L2P flags",
           "size": 25920000,
           "valid_max": 511,
           "valid_min": 0
          },
          "dims": [
           "time",
           "lat",
           "lon"
          ],
          "dtype": "int16",
          "name": "l2p_flags",
          "ndim": 3
         },
         {
          "attrs": {
           "_Unsigned": "false",
           "chunk_sizes": [
            1,
            90,
            180
           ],
           "comment": "These are overall quality indicators and are used for all GHRSST SSTs",
           "data_type": "uint8",
           "dimensions": [
            "time",
            "lat",
            "lon"
           ],
           "fill_value": 0,
           "flag_meanings": "no_data bad_data worst_quality low_quality acceptable_quality best_quality",
           "flag_values": [
            0,
            1,
            2,
            3,
            4,
            5
           ],
           "long_name": "quality level of SST pixel",
           "size": 25920000,
           "valid_max": 5,
           "valid_min": 0
          },
          "dims": [
           "time",
           "lat",
           "lon"
          ],
          "dtype": "uint8",
          "name": "quality_level",
          "ndim": 3
         },
         {
          "attrs": {
           "_Unsigned": "false",
           "add_offset": 12.7,
           "chunk_sizes": [
            1,
            90,
            180
           ],
           "comment": "Wind speeds sourced from ECMWF ERA Interim Reanalysis; wind speeds greater than 25.4 m/s are set to 25.4.",
           "data_type": "uint8",
           "dimensions": [
            "time",
            "lat",
            "lon"
           ],
           "fill_value": -128,
           "height": "10 m",
           "long_name": "10m wind speed",
           "references": "http://www.esa-sst-cci.org",
           "scale_factor": 0.1,
           "size": 25920000,
           "source": "ERA_INTERIM-ECMWF-WSP-v1.0",
           "standard_name": "wind_speed",
           "time_offset": 0,
           "units": "m s-1",
           "valid_max": 127,
           "valid_min": -127
          },
          "dims": [
           "time",
           "lat",
           "lon"
          ],
          "dtype": "uint8",
          "name": "wind_speed",
          "ndim": 3
         },
         {
          "attrs": {
           "_Unsigned": "false",
           "chunk_sizes": [
            1,
            90,
            180
           ],
           "comment": "1. single view, two channel 2. single view, three channel 3. dual view, two channel 4. dual view, three channel 5. single view, 11 and 3.7 two channel",
           "data_type": "uint8",
           "dimensions": [
            "time",
            "lat",
            "lon"
           ],
           "fill_value": -128,
           "flag_meanings": "single_view_two_channel single_view_three_channel dual_view_two_channel dual_view_three_channel single_view_11_and_3.7_two_channel",
           "flag_values": [
            1,
            2,
            3,
            4,
            5
           ],
           "long_name": "Type of retrieval used for the primary SST",
           "size": 25920000,
           "valid_max": 5,
           "valid_min": 1
          },
          "dims": [
           "time",
           "lat",
           "lon"
          ],
          "dtype": "uint8",
          "name": "sea_surface_temperature_retrieval_type",
          "ndim": 3
         },
         {
          "attrs": {
           "_Unsigned": "false",
           "chunk_sizes": [
            1,
            90,
            180
           ],
           "comment": "For ATSRs, adjustment gives D2 (most consistent through time series) when D3 is provided as best. For AVHRRs, adjustment provides N2 when N3 is best. Reason for providing an alternative: can then use N2 or D2 consistently for whole record i",
           "data_type": "uint8",
           "dimensions": [
            "time",
            "lat",
            "lon"
           ],
           "fill_value": -128,
           "flag_meanings": "single_view_two_channel single_view_three_channel dual_view_two_channel dual_view_three_channel single_view_11_and_3.7_two_channel",
           "flag_values": [
            1,
            2,
            3,
            4,
            5
           ],
           "long_name": "Type of retrieval used for the alternate SST retrieval",
           "size": 25920000,
           "valid_max": 5,
           "valid_min": 1
          },
          "dims": [
           "time",
           "lat",
           "lon"
          ],
          "dtype": "uint8",
          "name": "alt_sst_retrieval_type",
          "ndim": 3
         },
         {
          "attrs": {
           "add_offset": 0,
           "chunk_sizes": [
            1,
            90,
            180
           ],
           "comment": "Component of uncertainty that is uncorrelated between SSTs; can be combined with other uncertainty estimates to form a total uncertainty",
           "data_type": "int16",
           "dimensions": [
            "time",
            "lat",
            "lon"
           ],
           "fill_value": -32768,
           "long_name": "Uncertainty from errors likely to be uncorrelated between SSTs",
           "references": "http://www.esa-sst-cci.org",
           "scale_factor": 0.001,
           "size": 25920000,
           "units": "kelvin",
           "valid_max": 5000,
           "valid_min": 0
          },
          "dims": [
           "time",
           "lat",
           "lon"
          ],
          "dtype": "int16",
          "name": "uncertainty_random",
          "ndim": 3
         },
         {
          "attrs": {
           "add_offset": 0,
           "chunk_sizes": [
            1,
            90,
            180
           ],
           "comment": "Component of uncertainty that is correlated over synoptic scales; can be combined with other uncertainty estimates to form a total uncertainty",
           "correlation_length_scale": "100 km",
           "correlation_time_scale": "1 day",
           "data_type": "int16",
           "dimensions": [
            "time",
            "lat",
            "lon"
           ],
           "fill_value": -32768,
           "long_name": "Uncertainty from errors likely to be correlated over synoptic scales",
           "references": "http://www.esa-sst-cci.org",
           "scale_factor": 0.001,
           "size": 25920000,
           "units": "kelvin",
           "valid_max": 5000,
           "valid_min": 0
          },
          "dims": [
           "time",
           "lat",
           "lon"
          ],
          "dtype": "int16",
          "name": "uncertainty_correlated",
          "ndim": 3
         },
         {
          "attrs": {
           "add_offset": 0,
           "chunk_sizes": [
            1,
            90,
            180
           ],
           "comment": "Component of uncertainty that is correlated over large scales; can be combined with other uncertainty estimates to form a total uncertainty",
           "data_type": "int16",
           "dimensions": [
            "time",
            "lat",
            "lon"
           ],
           "fill_value": -32768,
           "long_name": "Uncertainty from errors likely to be correlated over large scales",
           "references": "http://www.esa-sst-cci.org",
           "scale_factor": 0.001,
           "size": 25920000,
           "units": "kelvin",
           "valid_max": 5000,
           "valid_min": 0
          },
          "dims": [
           "time",
           "lat",
           "lon"
          ],
          "dtype": "int16",
          "name": "uncertainty_systematic",
          "ndim": 3
         },
         {
          "attrs": {
           "add_offset": 0,
           "chunk_sizes": [
            1,
            90,
            180
           ],
           "comment": "Adjustment uncertainty; can be combined with other uncertainty estimates to form a total uncertainty",
           "correlation_length_scale": "100 km",
           "correlation_time_scale": "1 day",
           "data_type": "int16",
           "dimensions": [
            "time",
            "lat",
            "lon"
           ],
           "fill_value": -32768,
           "long_name": "Time and depth adjustment uncertainty",
           "references": "http://www.esa-sst-cci.org",
           "scale_factor": 0.001,
           "size": 25920000,
           "units": "kelvin",
           "valid_max": 5000,
           "valid_min": 0
          },
          "dims": [
           "time",
           "lat",
           "lon"
          ],
          "dtype": "int16",
          "name": "uncertainty_correlated_time_and_depth_adjustment",
          "ndim": 3
         },
         {
          "attrs": {
           "add_offset": 0,
           "chunk_sizes": [
            1,
            90,
            180
           ],
           "comment": "Component of uncertainty in alternative SST retrieval that is uncorrelated between SSTs; can be combined with other uncertainty estimates to form a total uncertainty",
           "data_type": "int16",
           "dimensions": [
            "time",
            "lat",
            "lon"
           ],
           "fill_value": -32768,
           "long_name": "Uncertainty in alternative SST retrieval from errors likely to be uncorrelated between SSTs",
           "references": "http://www.esa-sst-cci.org",
           "scale_factor": 0.001,
           "size": 25920000,
           "units": "kelvin",
           "valid_max": 5000,
           "valid_min": 0
          },
          "dims": [
           "time",
           "lat",
           "lon"
          ],
          "dtype": "int16",
          "name": "uncertainty_random_alt",
          "ndim": 3
         },
         {
          "attrs": {
           "add_offset": 0,
           "chunk_sizes": [
            1,
            90,
            180
           ],
           "comment": "Component of uncertainty in alternative SST retrieval that is correlated over synoptic scales; can be combined with other uncertainty estimates to form a total uncertainty",
           "correlation_length_scale": "100 km",
           "correlation_time_scale": "1 day",
           "data_type": "int16",
           "dimensions": [
            "time",
            "lat",
            "lon"
           ],
           "fill_value": -32768,
           "long_name": "Uncertainty in alternative SST retrieval from errors likely to be correlated over synoptic scales",
           "references": "http://www.esa-sst-cci.org",
           "scale_factor": 0.001,
           "size": 25920000,
           "units": "kelvin",
           "valid_max": 5000,
           "valid_min": 0
          },
          "dims": [
           "time",
           "lat",
           "lon"
          ],
          "dtype": "int16",
          "name": "uncertainty_correlated_alt",
          "ndim": 3
         },
         {
          "attrs": {
           "add_offset": 0,
           "chunk_sizes": [
            1,
            90,
            180
           ],
           "comment": "Component of uncertainty in alternative SST retrieval that is correlated over large scales; can be combined with other uncertainty estimates to form a total uncertainty",
           "data_type": "int16",
           "dimensions": [
            "time",
            "lat",
            "lon"
           ],
           "fill_value": -32768,
           "long_name": "Uncertainty in alternative SST retrieval from errors likely to be correlated over large scales",
           "references": "http://www.esa-sst-cci.org",
           "scale_factor": 0.001,
           "size": 25920000,
           "units": "kelvin",
           "valid_max": 5000,
           "valid_min": 0
          },
          "dims": [
           "time",
           "lat",
           "lon"
          ],
          "dtype": "int16",
          "name": "uncertainty_systematic_alt",
          "ndim": 3
         },
         {
          "attrs": {
           "add_offset": 0,
           "chunk_sizes": [
            1,
            90,
            180
           ],
           "comment": "Sensitivity of the retrieval to actual changes in sea surface temperature",
           "data_type": "int16",
           "dimensions": [
            "time",
            "lat",
            "lon"
           ],
           "fill_value": -32768,
           "long_name": "Sensitivity of the retrieval to actual changes in sea surface temperature",
           "scale_factor": 0.001,
           "size": 25920000,
           "units": "K/K",
           "valid_max": 1100,
           "valid_min": 0
          },
          "dims": [
           "time",
           "lat",
           "lon"
          ],
          "dtype": "int16",
          "name": "sst_sensitivity",
          "ndim": 3
         },
         {
          "attrs": {
           "add_offset": 0,
           "chunk_sizes": [
            1,
            90,
            180
           ],
           "comment": "If not applied, fill with zeros to indicate independence from in situ",
           "data_type": "int16",
           "dimensions": [
            "time",
            "lat",
            "lon"
           ],
           "fill_value": -32768,
           "long_name": "Adjustment, based on comparison to in situ data",
           "scale_factor": 0.01,
           "size": 25920000,
           "units": "kelvin",
           "valid_max": 1000,
           "valid_min": -1000
          },
          "dims": [
           "time",
           "lat",
           "lon"
          ],
          "dtype": "int16",
          "name": "empirical_adjustment",
          "ndim": 3
         }
        ],
        "dims": {
         "bnds": 2,
         "lat": 3600,
         "lon": 7200,
         "time": 1
        },
        "open_params_schema": {
         "additionalProperties": false,
         "properties": {
          "bbox": {
           "items": [
            {
             "maximum": 180,
             "minimum": -180,
             "type": "number"
            },
            {
             "maximum": 90,
             "minimum": -90,
             "type": "number"
            },
            {
             "maximum": 180,
             "minimum": -180,
             "type": "number"
            },
            {
             "maximum": 90,
             "minimum": -90,
             "type": "number"
            }
           ],
           "type": "array"
          },
          "crs": {
           "const": "WGS84",
           "type": "string"
          },
          "spatial_res": {
           "const": 0.05,
           "type": "number"
          },
          "time_period": {
           "const": "1D",
           "type": "string"
          },
          "time_range": {
           "items": [
            {
             "format": "date",
             "maxDate": "2012-04-08",
             "minDate": "1991-11-01",
             "type": "string"
            },
            {
             "format": "date",
             "maxDate": "2012-04-08",
             "minDate": "1991-11-01",
             "type": "string"
            }
           ],
           "type": "array"
          },
          "variable_names": {
           "items": {
            "enum": [
             "sea_surface_temperature",
             "sea_surface_temperature_depth",
             "sea_surface_temperature_depth_anomaly",
             "sst_dtime",
             "sst_depth_dtime",
             "sses_bias",
             "sses_standard_deviation",
             "sea_surface_temperature_total_uncertainty",
             "sea_surface_temperature_depth_total_uncertainty",
             "depth_adjustment",
             "adjustment_alt",
             "l2p_flags",
             "quality_level",
             "wind_speed",
             "sea_surface_temperature_retrieval_type",
             "alt_sst_retrieval_type",
             "uncertainty_random",
             "uncertainty_correlated",
             "uncertainty_systematic",
             "uncertainty_correlated_time_and_depth_adjustment",
             "uncertainty_random_alt",
             "uncertainty_correlated_alt",
             "uncertainty_systematic_alt",
             "sst_sensitivity",
             "empirical_adjustment"
            ],
            "type": "string"
           },
           "type": "array"
          }
         },
         "type": "object"
        },
        "spatial_res": 0.05,
        "time_period": "1D",
        "time_range": [
         "1991-11-01",
         "2012-04-08"
        ],
        "type_specifier": "dataset"
       },
       {
        "attrs": {
         "abstract": "This v2.1 SST_cci Along-Track Scanning Radiometer (ATSR) Level 3 Collated (L3C) Climate Data Record (CDR) consists of stable, low-bias sea surface temperature (SST) data from the ATSR series of satellite instruments. It covers the period between 11/1991 and 04/2012.  This L3C product provides these SST data on a 0.05 regular latitude-longitude grid and collated to include all orbits for a day (separated into daytime and nighttime files).\n\nThe dataset has been produced as part of the European Space Agency (ESA) Climate Change Initiative Sea Surface Temperature project(ESA SST_cci). The data products from SST_cci accurately map the surface temperature of the global oceans over the period 1981 to 2016 using observations from many satellites. The data provide independently quantified SSTs to a quality suitable for climate research.\n\nThis CDR Version 2.1 product supercedes the CDR v2.0 product.  Data are made freely and openly available under a Creative Commons License by Attribution (CC By 4.0) https://creativecommons.org/licenses/by/4.0/ .\n\nWhen citing this dataset please also cite the associated data paper: Merchant, C.J., Embury, O., Bulgin, C.E., Block T., Corlett, G.K., Fiedler, E., Good, S.A., Mittaz, J., Rayner, N.A., Berry, D., Eastwood, S., Taylor, M., Tsushima, Y., Waterfall, A., Wilson, R., Donlon, C. Satellite-based time-series of sea-surface temperature since 1981 for climate applications, Scientific Data 6:223 (2019). http://doi.org/10.1038/s41597-019-0236-x",
         "bbox_maxx": "180.0",
         "bbox_maxy": "90.0",
         "bbox_minx": "-180.0",
         "bbox_miny": "-90.0",
         "cci_project": "SST",
         "creation_date": "2019-08-02T21:18:25",
         "data_type": "SSTskin",
         "drs_ids": [
          "esacci.SST.day.L3C.SSTskin.AATSR.Envisat.AATSR.2-1.day",
          "esacci.SST.day.L3C.SSTskin.AATSR.Envisat.AATSR.2-1.night",
          "esacci.SST.day.L3C.SSTskin.ATSR-2.ERS-2.ATSR2.2-1.day",
          "esacci.SST.day.L3C.SSTskin.ATSR-2.ERS-2.ATSR2.2-1.night",
          "esacci.SST.day.L3C.SSTskin.ATSR.ERS-1.ATSR1.2-1.day",
          "esacci.SST.day.L3C.SSTskin.ATSR.ERS-1.ATSR1.2-1.night"
         ],
         "ecv": "SST",
         "fid": "5db2099606b94e63879d841c87e654ae",
         "file_formats": [
          ".nc",
          ".txt"
         ],
         "institute": "ESACCI_SST",
         "licences": "Use of these data is covered by the following licence: https://artefacts.ceda.ac.uk/licences/specific_licences/esacci_sst_terms_and_conditions_v2.pdf . When using these data you must cite them correctly using the citation given on the CEDA Data Catalogue record.",
         "metadata_url": "https://catalogue.ceda.ac.uk/export/xml/5db2099606b94e63879d841c87e654ae.xml",
         "odd_url": "http://archive.opensearch.ceda.ac.uk/opensearch/description.xml?parentIdentifier=5db2099606b94e63879d841c87e654ae",
         "platform_id": "Envisat",
         "processing_level": "L3C",
         "product_string": "AATSR",
         "product_version": "2-1",
         "publication_date": "2019-08-02T21:18:25",
         "sensor_id": "AATSR",
         "temporal_coverage_end": "2012-04-08T22:59:59",
         "temporal_coverage_start": "1991-11-01T00:00:00",
         "time_frequency": "day",
         "title": "ESA Sea Surface Temperature Climate Change Initiative (SST_cci): Along-Track Scanning Radiometer (ATSR) Level 3 Collated (L3C) Climate Data Record, version 2.1",
         "uuid": "5db2099606b94e63879d841c87e654ae"
        },
        "bbox": [
         -180,
         -90,
         180,
         90
        ],
        "data_id": "esacci.SST.day.L3C.SSTskin.AATSR.Envisat.AATSR.2-1.night",
        "data_vars": [
         {
          "attrs": {
           "add_offset": 273.15,
           "chunk_sizes": [
            1,
            90,
            180
           ],
           "comment": "Temperature of the skin of the ocean; total uncertainty = sqrt(uncertainty_systematic^2+uncertainty_correlated^2+uncertainty_random^2)",
           "data_type": "int16",
           "depth": "10 micrometres",
           "dimensions": [
            "time",
            "lat",
            "lon"
           ],
           "fill_value": -32768,
           "long_name": "sea surface skin temperature",
           "references": "http://www.esa-sst-cci.org",
           "scale_factor": 0.01,
           "size": 25920000,
           "source": "AATSR-ESA-L1-v3",
           "standard_name": "sea_surface_skin_temperature",
           "units": "kelvin",
           "valid_max": 5000,
           "valid_min": -200
          },
          "dims": [
           "time",
           "lat",
           "lon"
          ],
          "dtype": "int16",
          "name": "sea_surface_temperature",
          "ndim": 3
         },
         {
          "attrs": {
           "add_offset": 273.15,
           "chunk_sizes": [
            1,
            90,
            180
           ],
           "comment": "Temperature of the ocean at 20 cm depth; total uncertainty = sqrt(uncertainty_systematic^2+uncertainty_correlated^2+uncertainty_random^2+uncertainty_correlated_time_and_depth_adjustment^2)",
           "data_type": "int16",
           "depth": "0.2 metre",
           "dimensions": [
            "time",
            "lat",
            "lon"
           ],
           "fill_value": -32768,
           "long_name": "sea surface temperature at 0.2 m",
           "references": "http://www.esa-sst-cci.org",
           "scale_factor": 0.01,
           "size": 25920000,
           "source": "AATSR-ESA-L1-v3",
           "standard_name": "sea_water_temperature",
           "units": "kelvin",
           "valid_max": 5000,
           "valid_min": -200
          },
          "dims": [
           "time",
           "lat",
           "lon"
          ],
          "dtype": "int16",
          "name": "sea_surface_temperature_depth",
          "ndim": 3
         },
         {
          "attrs": {
           "add_offset": 0,
           "chunk_sizes": [
            1,
            90,
            180
           ],
           "comment": "Temperature of the ocean at 20 cm depth; total uncertainty = sqrt(uncertainty_systematic^2+uncertainty_correlated^2+uncertainty_random^2+uncertainty_correlated_time_and_depth_adjustment^2)",
           "data_type": "int16",
           "depth": "0.2 metre",
           "dimensions": [
            "time",
            "lat",
            "lon"
           ],
           "fill_value": -32768,
           "long_name": "sea surface temperature anomaly at 0.2 m",
           "references": "http://www.esa-sst-cci.org",
           "scale_factor": 0.01,
           "size": 25920000,
           "source": "AATSR-ESA-L1-v3",
           "standard_name": "sea_water_temperature_anomaly",
           "units": "kelvin",
           "valid_max": 4000,
           "valid_min": -4000
          },
          "dims": [
           "time",
           "lat",
           "lon"
          ],
          "dtype": "int16",
          "name": "sea_surface_temperature_depth_anomaly",
          "ndim": 3
         },
         {
          "attrs": {
           "add_offset": 0,
           "chunk_sizes": [
            1,
            90,
            180
           ],
           "comment": "time plus sst_dtime gives seconds after 1981-01-01 00:00:00",
           "data_type": "int32",
           "dimensions": [
            "time",
            "lat",
            "lon"
           ],
           "fill_value": -2147483648,
           "long_name": "time difference from reference time",
           "scale_factor": 1,
           "size": 25920000,
           "units": "seconds",
           "valid_max": 43200,
           "valid_min": -43200
          },
          "dims": [
           "time",
           "lat",
           "lon"
          ],
          "dtype": "int32",
          "name": "sst_dtime",
          "ndim": 3
         },
         {
          "attrs": {
           "add_offset": 0,
           "chunk_sizes": [
            1,
            90,
            180
           ],
           "comment": "time plus sst_depth_dtime gives seconds after 1981-01-01 00:00:00",
           "data_type": "int32",
           "dimensions": [
            "time",
            "lat",
            "lon"
           ],
           "fill_value": -2147483648,
           "long_name": "time difference from reference time",
           "scale_factor": 1,
           "size": 25920000,
           "units": "seconds",
           "valid_max": 43200,
           "valid_min": -43200
          },
          "dims": [
           "time",
           "lat",
           "lon"
          ],
          "dtype": "int32",
          "name": "sst_depth_dtime",
          "ndim": 3
         },
         {
          "attrs": {
           "_Unsigned": "false",
           "add_offset": 0,
           "chunk_sizes": [
            1,
            90,
            180
           ],
           "comment": "Populated with zeroes",
           "data_type": "uint8",
           "dimensions": [
            "time",
            "lat",
            "lon"
           ],
           "fill_value": -128,
           "long_name": "SSES bias estimate",
           "scale_factor": 0.01,
           "size": 25920000,
           "units": "kelvin",
           "valid_max": 127,
           "valid_min": -127
          },
          "dims": [
           "time",
           "lat",
           "lon"
          ],
          "dtype": "uint8",
          "name": "sses_bias",
          "ndim": 3
         },
         {
          "attrs": {
           "_Unsigned": "false",
           "add_offset": 1.27,
           "chunk_sizes": [
            1,
            90,
            180
           ],
           "comment": "Uncertainty information is contained in the variables uncertainty_systematic, uncertainty_correlated, and uncertainty_random",
           "data_type": "uint8",
           "dimensions": [
            "time",
            "lat",
            "lon"
           ],
           "fill_value": -128,
           "long_name": "SSES standard deviation",
           "scale_factor": 0.01,
           "size": 25920000,
           "units": "kelvin",
           "valid_max": 127,
           "valid_min": -127
          },
          "dims": [
           "time",
           "lat",
           "lon"
          ],
          "dtype": "uint8",
          "name": "sses_standard_deviation",
          "ndim": 3
         },
         {
          "attrs": {
           "add_offset": 0,
           "chunk_sizes": [
            1,
            90,
            180
           ],
           "comment": "Total uncertainty in each sea_surface_temperature data point",
           "data_type": "int16",
           "dimensions": [
            "time",
            "lat",
            "lon"
           ],
           "fill_value": -32768,
           "long_name": "Total uncertainty in sea_surface_temperature",
           "scale_factor": 0.001,
           "size": 25920000,
           "units": "kelvin",
           "valid_max": 5000,
           "valid_min": 0
          },
          "dims": [
           "time",
           "lat",
           "lon"
          ],
          "dtype": "int16",
          "name": "sea_surface_temperature_total_uncertainty",
          "ndim": 3
         },
         {
          "attrs": {
           "add_offset": 0,
           "chunk_sizes": [
            1,
            90,
            180
           ],
           "comment": "Total uncertainty in each sea_surface_temperature_depth data point",
           "data_type": "int16",
           "dimensions": [
            "time",
            "lat",
            "lon"
           ],
           "fill_value": -32768,
           "long_name": "Total uncertainty in sea_surface_temperature_depth",
           "scale_factor": 0.001,
           "size": 25920000,
           "units": "kelvin",
           "valid_max": 5000,
           "valid_min": 0
          },
          "dims": [
           "time",
           "lat",
           "lon"
          ],
          "dtype": "int16",
          "name": "sea_surface_temperature_depth_total_uncertainty",
          "ndim": 3
         },
         {
          "attrs": {
           "add_offset": 0,
           "chunk_sizes": [
            1,
            90,
            180
           ],
           "comment": "Add to sea_surface_temperature, if SST at 20cm at observation time is required",
           "data_type": "int16",
           "dimensions": [
            "time",
            "lat",
            "lon"
           ],
           "fill_value": -32768,
           "long_name": "Adjustment to sea surface temperature at 0.2 m",
           "scale_factor": 0.01,
           "size": 25920000,
           "units": "kelvin",
           "valid_max": 1000,
           "valid_min": -1000
          },
          "dims": [
           "time",
           "lat",
           "lon"
          ],
          "dtype": "int16",
          "name": "depth_adjustment",
          "ndim": 3
         },
         {
          "attrs": {
           "add_offset": 0,
           "chunk_sizes": [
            1,
            90,
            180
           ],
           "comment": "Add to sea_surface_temperature, if alternative SST retrieval is required",
           "data_type": "int16",
           "dimensions": [
            "time",
            "lat",
            "lon"
           ],
           "fill_value": -32768,
           "long_name": "Adjustment to alternative sea surface temperature retrieval",
           "scale_factor": 0.01,
           "size": 25920000,
           "units": "kelvin",
           "valid_max": 1000,
           "valid_min": -1000
          },
          "dims": [
           "time",
           "lat",
           "lon"
          ],
          "dtype": "int16",
          "name": "adjustment_alt",
          "ndim": 3
         },
         {
          "attrs": {
           "chunk_sizes": [
            1,
            90,
            180
           ],
           "comment": "These flags are important to properly use the data",
           "data_type": "int16",
           "dimensions": [
            "time",
            "lat",
            "lon"
           ],
           "fill_value": -32768,
           "flag_masks": [
            1,
            2,
            4,
            8,
            16,
            32,
            64,
            128,
            256
           ],
           "flag_meanings": "microwave land ice lake river spare views channels day",
           "long_name": "L2P flags",
           "size": 25920000,
           "valid_max": 511,
           "valid_min": 0
          },
          "dims": [
           "time",
           "lat",
           "lon"
          ],
          "dtype": "int16",
          "name": "l2p_flags",
          "ndim": 3
         },
         {
          "attrs": {
           "_Unsigned": "false",
           "chunk_sizes": [
            1,
            90,
            180
           ],
           "comment": "These are overall quality indicators and are used for all GHRSST SSTs",
           "data_type": "uint8",
           "dimensions": [
            "time",
            "lat",
            "lon"
           ],
           "fill_value": 0,
           "flag_meanings": "no_data bad_data worst_quality low_quality acceptable_quality best_quality",
           "flag_values": [
            0,
            1,
            2,
            3,
            4,
            5
           ],
           "long_name": "quality level of SST pixel",
           "size": 25920000,
           "valid_max": 5,
           "valid_min": 0
          },
          "dims": [
           "time",
           "lat",
           "lon"
          ],
          "dtype": "uint8",
          "name": "quality_level",
          "ndim": 3
         },
         {
          "attrs": {
           "_Unsigned": "false",
           "add_offset": 12.7,
           "chunk_sizes": [
            1,
            90,
            180
           ],
           "comment": "Wind speeds sourced from ECMWF ERA Interim Reanalysis; wind speeds greater than 25.4 m/s are set to 25.4.",
           "data_type": "uint8",
           "dimensions": [
            "time",
            "lat",
            "lon"
           ],
           "fill_value": -128,
           "height": "10 m",
           "long_name": "10m wind speed",
           "references": "http://www.esa-sst-cci.org",
           "scale_factor": 0.1,
           "size": 25920000,
           "source": "ERA_INTERIM-ECMWF-WSP-v1.0",
           "standard_name": "wind_speed",
           "time_offset": 0,
           "units": "m s-1",
           "valid_max": 127,
           "valid_min": -127
          },
          "dims": [
           "time",
           "lat",
           "lon"
          ],
          "dtype": "uint8",
          "name": "wind_speed",
          "ndim": 3
         },
         {
          "attrs": {
           "_Unsigned": "false",
           "chunk_sizes": [
            1,
            90,
            180
           ],
           "comment": "1. single view, two channel 2. single view, three channel 3. dual view, two channel 4. dual view, three channel 5. single view, 11 and 3.7 two channel",
           "data_type": "uint8",
           "dimensions": [
            "time",
            "lat",
            "lon"
           ],
           "fill_value": -128,
           "flag_meanings": "single_view_two_channel single_view_three_channel dual_view_two_channel dual_view_three_channel single_view_11_and_3.7_two_channel",
           "flag_values": [
            1,
            2,
            3,
            4,
            5
           ],
           "long_name": "Type of retrieval used for the primary SST",
           "size": 25920000,
           "valid_max": 5,
           "valid_min": 1
          },
          "dims": [
           "time",
           "lat",
           "lon"
          ],
          "dtype": "uint8",
          "name": "sea_surface_temperature_retrieval_type",
          "ndim": 3
         },
         {
          "attrs": {
           "_Unsigned": "false",
           "chunk_sizes": [
            1,
            90,
            180
           ],
           "comment": "For ATSRs, adjustment gives D2 (most consistent through time series) when D3 is provided as best. For AVHRRs, adjustment provides N2 when N3 is best. Reason for providing an alternative: can then use N2 or D2 consistently for whole record i",
           "data_type": "uint8",
           "dimensions": [
            "time",
            "lat",
            "lon"
           ],
           "fill_value": -128,
           "flag_meanings": "single_view_two_channel single_view_three_channel dual_view_two_channel dual_view_three_channel single_view_11_and_3.7_two_channel",
           "flag_values": [
            1,
            2,
            3,
            4,
            5
           ],
           "long_name": "Type of retrieval used for the alternate SST retrieval",
           "size": 25920000,
           "valid_max": 5,
           "valid_min": 1
          },
          "dims": [
           "time",
           "lat",
           "lon"
          ],
          "dtype": "uint8",
          "name": "alt_sst_retrieval_type",
          "ndim": 3
         },
         {
          "attrs": {
           "add_offset": 0,
           "chunk_sizes": [
            1,
            90,
            180
           ],
           "comment": "Component of uncertainty that is uncorrelated between SSTs; can be combined with other uncertainty estimates to form a total uncertainty",
           "data_type": "int16",
           "dimensions": [
            "time",
            "lat",
            "lon"
           ],
           "fill_value": -32768,
           "long_name": "Uncertainty from errors likely to be uncorrelated between SSTs",
           "references": "http://www.esa-sst-cci.org",
           "scale_factor": 0.001,
           "size": 25920000,
           "units": "kelvin",
           "valid_max": 5000,
           "valid_min": 0
          },
          "dims": [
           "time",
           "lat",
           "lon"
          ],
          "dtype": "int16",
          "name": "uncertainty_random",
          "ndim": 3
         },
         {
          "attrs": {
           "add_offset": 0,
           "chunk_sizes": [
            1,
            90,
            180
           ],
           "comment": "Component of uncertainty that is correlated over synoptic scales; can be combined with other uncertainty estimates to form a total uncertainty",
           "correlation_length_scale": "100 km",
           "correlation_time_scale": "1 day",
           "data_type": "int16",
           "dimensions": [
            "time",
            "lat",
            "lon"
           ],
           "fill_value": -32768,
           "long_name": "Uncertainty from errors likely to be correlated over synoptic scales",
           "references": "http://www.esa-sst-cci.org",
           "scale_factor": 0.001,
           "size": 25920000,
           "units": "kelvin",
           "valid_max": 5000,
           "valid_min": 0
          },
          "dims": [
           "time",
           "lat",
           "lon"
          ],
          "dtype": "int16",
          "name": "uncertainty_correlated",
          "ndim": 3
         },
         {
          "attrs": {
           "add_offset": 0,
           "chunk_sizes": [
            1,
            90,
            180
           ],
           "comment": "Component of uncertainty that is correlated over large scales; can be combined with other uncertainty estimates to form a total uncertainty",
           "data_type": "int16",
           "dimensions": [
            "time",
            "lat",
            "lon"
           ],
           "fill_value": -32768,
           "long_name": "Uncertainty from errors likely to be correlated over large scales",
           "references": "http://www.esa-sst-cci.org",
           "scale_factor": 0.001,
           "size": 25920000,
           "units": "kelvin",
           "valid_max": 5000,
           "valid_min": 0
          },
          "dims": [
           "time",
           "lat",
           "lon"
          ],
          "dtype": "int16",
          "name": "uncertainty_systematic",
          "ndim": 3
         },
         {
          "attrs": {
           "add_offset": 0,
           "chunk_sizes": [
            1,
            90,
            180
           ],
           "comment": "Adjustment uncertainty; can be combined with other uncertainty estimates to form a total uncertainty",
           "correlation_length_scale": "100 km",
           "correlation_time_scale": "1 day",
           "data_type": "int16",
           "dimensions": [
            "time",
            "lat",
            "lon"
           ],
           "fill_value": -32768,
           "long_name": "Time and depth adjustment uncertainty",
           "references": "http://www.esa-sst-cci.org",
           "scale_factor": 0.001,
           "size": 25920000,
           "units": "kelvin",
           "valid_max": 5000,
           "valid_min": 0
          },
          "dims": [
           "time",
           "lat",
           "lon"
          ],
          "dtype": "int16",
          "name": "uncertainty_correlated_time_and_depth_adjustment",
          "ndim": 3
         },
         {
          "attrs": {
           "add_offset": 0,
           "chunk_sizes": [
            1,
            90,
            180
           ],
           "comment": "Component of uncertainty in alternative SST retrieval that is uncorrelated between SSTs; can be combined with other uncertainty estimates to form a total uncertainty",
           "data_type": "int16",
           "dimensions": [
            "time",
            "lat",
            "lon"
           ],
           "fill_value": -32768,
           "long_name": "Uncertainty in alternative SST retrieval from errors likely to be uncorrelated between SSTs",
           "references": "http://www.esa-sst-cci.org",
           "scale_factor": 0.001,
           "size": 25920000,
           "units": "kelvin",
           "valid_max": 5000,
           "valid_min": 0
          },
          "dims": [
           "time",
           "lat",
           "lon"
          ],
          "dtype": "int16",
          "name": "uncertainty_random_alt",
          "ndim": 3
         },
         {
          "attrs": {
           "add_offset": 0,
           "chunk_sizes": [
            1,
            90,
            180
           ],
           "comment": "Component of uncertainty in alternative SST retrieval that is correlated over synoptic scales; can be combined with other uncertainty estimates to form a total uncertainty",
           "correlation_length_scale": "100 km",
           "correlation_time_scale": "1 day",
           "data_type": "int16",
           "dimensions": [
            "time",
            "lat",
            "lon"
           ],
           "fill_value": -32768,
           "long_name": "Uncertainty in alternative SST retrieval from errors likely to be correlated over synoptic scales",
           "references": "http://www.esa-sst-cci.org",
           "scale_factor": 0.001,
           "size": 25920000,
           "units": "kelvin",
           "valid_max": 5000,
           "valid_min": 0
          },
          "dims": [
           "time",
           "lat",
           "lon"
          ],
          "dtype": "int16",
          "name": "uncertainty_correlated_alt",
          "ndim": 3
         },
         {
          "attrs": {
           "add_offset": 0,
           "chunk_sizes": [
            1,
            90,
            180
           ],
           "comment": "Component of uncertainty in alternative SST retrieval that is correlated over large scales; can be combined with other uncertainty estimates to form a total uncertainty",
           "data_type": "int16",
           "dimensions": [
            "time",
            "lat",
            "lon"
           ],
           "fill_value": -32768,
           "long_name": "Uncertainty in alternative SST retrieval from errors likely to be correlated over large scales",
           "references": "http://www.esa-sst-cci.org",
           "scale_factor": 0.001,
           "size": 25920000,
           "units": "kelvin",
           "valid_max": 5000,
           "valid_min": 0
          },
          "dims": [
           "time",
           "lat",
           "lon"
          ],
          "dtype": "int16",
          "name": "uncertainty_systematic_alt",
          "ndim": 3
         },
         {
          "attrs": {
           "add_offset": 0,
           "chunk_sizes": [
            1,
            90,
            180
           ],
           "comment": "Sensitivity of the retrieval to actual changes in sea surface temperature",
           "data_type": "int16",
           "dimensions": [
            "time",
            "lat",
            "lon"
           ],
           "fill_value": -32768,
           "long_name": "Sensitivity of the retrieval to actual changes in sea surface temperature",
           "scale_factor": 0.001,
           "size": 25920000,
           "units": "K/K",
           "valid_max": 1100,
           "valid_min": 0
          },
          "dims": [
           "time",
           "lat",
           "lon"
          ],
          "dtype": "int16",
          "name": "sst_sensitivity",
          "ndim": 3
         },
         {
          "attrs": {
           "add_offset": 0,
           "chunk_sizes": [
            1,
            90,
            180
           ],
           "comment": "If not applied, fill with zeros to indicate independence from in situ",
           "data_type": "int16",
           "dimensions": [
            "time",
            "lat",
            "lon"
           ],
           "fill_value": -32768,
           "long_name": "Adjustment, based on comparison to in situ data",
           "scale_factor": 0.01,
           "size": 25920000,
           "units": "kelvin",
           "valid_max": 1000,
           "valid_min": -1000
          },
          "dims": [
           "time",
           "lat",
           "lon"
          ],
          "dtype": "int16",
          "name": "empirical_adjustment",
          "ndim": 3
         }
        ],
        "dims": {
         "bnds": 2,
         "lat": 3600,
         "lon": 7200,
         "time": 1
        },
        "open_params_schema": {
         "additionalProperties": false,
         "properties": {
          "bbox": {
           "items": [
            {
             "maximum": 180,
             "minimum": -180,
             "type": "number"
            },
            {
             "maximum": 90,
             "minimum": -90,
             "type": "number"
            },
            {
             "maximum": 180,
             "minimum": -180,
             "type": "number"
            },
            {
             "maximum": 90,
             "minimum": -90,
             "type": "number"
            }
           ],
           "type": "array"
          },
          "crs": {
           "const": "WGS84",
           "type": "string"
          },
          "spatial_res": {
           "const": 0.05,
           "type": "number"
          },
          "time_period": {
           "const": "1D",
           "type": "string"
          },
          "time_range": {
           "items": [
            {
             "format": "date",
             "maxDate": "2012-04-08",
             "minDate": "1991-11-01",
             "type": "string"
            },
            {
             "format": "date",
             "maxDate": "2012-04-08",
             "minDate": "1991-11-01",
             "type": "string"
            }
           ],
           "type": "array"
          },
          "variable_names": {
           "items": {
            "enum": [
             "sea_surface_temperature",
             "sea_surface_temperature_depth",
             "sea_surface_temperature_depth_anomaly",
             "sst_dtime",
             "sst_depth_dtime",
             "sses_bias",
             "sses_standard_deviation",
             "sea_surface_temperature_total_uncertainty",
             "sea_surface_temperature_depth_total_uncertainty",
             "depth_adjustment",
             "adjustment_alt",
             "l2p_flags",
             "quality_level",
             "wind_speed",
             "sea_surface_temperature_retrieval_type",
             "alt_sst_retrieval_type",
             "uncertainty_random",
             "uncertainty_correlated",
             "uncertainty_systematic",
             "uncertainty_correlated_time_and_depth_adjustment",
             "uncertainty_random_alt",
             "uncertainty_correlated_alt",
             "uncertainty_systematic_alt",
             "sst_sensitivity",
             "empirical_adjustment"
            ],
            "type": "string"
           },
           "type": "array"
          }
         },
         "type": "object"
        },
        "spatial_res": 0.05,
        "time_period": "1D",
        "time_range": [
         "1991-11-01",
         "2012-04-08"
        ],
        "type_specifier": "dataset"
       },
       {
        "attrs": {
         "abstract": "This v2.1 SST_cci Along-Track Scanning Radiometer (ATSR) Level 3 Collated (L3C) Climate Data Record (CDR) consists of stable, low-bias sea surface temperature (SST) data from the ATSR series of satellite instruments. It covers the period between 11/1991 and 04/2012.  This L3C product provides these SST data on a 0.05 regular latitude-longitude grid and collated to include all orbits for a day (separated into daytime and nighttime files).\n\nThe dataset has been produced as part of the European Space Agency (ESA) Climate Change Initiative Sea Surface Temperature project(ESA SST_cci). The data products from SST_cci accurately map the surface temperature of the global oceans over the period 1981 to 2016 using observations from many satellites. The data provide independently quantified SSTs to a quality suitable for climate research.\n\nThis CDR Version 2.1 product supercedes the CDR v2.0 product.  Data are made freely and openly available under a Creative Commons License by Attribution (CC By 4.0) https://creativecommons.org/licenses/by/4.0/ .\n\nWhen citing this dataset please also cite the associated data paper: Merchant, C.J., Embury, O., Bulgin, C.E., Block T., Corlett, G.K., Fiedler, E., Good, S.A., Mittaz, J., Rayner, N.A., Berry, D., Eastwood, S., Taylor, M., Tsushima, Y., Waterfall, A., Wilson, R., Donlon, C. Satellite-based time-series of sea-surface temperature since 1981 for climate applications, Scientific Data 6:223 (2019). http://doi.org/10.1038/s41597-019-0236-x",
         "bbox_maxx": "180.0",
         "bbox_maxy": "90.0",
         "bbox_minx": "-180.0",
         "bbox_miny": "-90.0",
         "cci_project": "SST",
         "creation_date": "2019-08-02T21:18:25",
         "data_type": "SSTskin",
         "drs_ids": [
          "esacci.SST.day.L3C.SSTskin.AATSR.Envisat.AATSR.2-1.day",
          "esacci.SST.day.L3C.SSTskin.AATSR.Envisat.AATSR.2-1.night",
          "esacci.SST.day.L3C.SSTskin.ATSR-2.ERS-2.ATSR2.2-1.day",
          "esacci.SST.day.L3C.SSTskin.ATSR-2.ERS-2.ATSR2.2-1.night",
          "esacci.SST.day.L3C.SSTskin.ATSR.ERS-1.ATSR1.2-1.day",
          "esacci.SST.day.L3C.SSTskin.ATSR.ERS-1.ATSR1.2-1.night"
         ],
         "ecv": "SST",
         "fid": "5db2099606b94e63879d841c87e654ae",
         "file_formats": [
          ".nc",
          ".txt"
         ],
         "institute": "ESACCI_SST",
         "licences": "Use of these data is covered by the following licence: https://artefacts.ceda.ac.uk/licences/specific_licences/esacci_sst_terms_and_conditions_v2.pdf . When using these data you must cite them correctly using the citation given on the CEDA Data Catalogue record.",
         "metadata_url": "https://catalogue.ceda.ac.uk/export/xml/5db2099606b94e63879d841c87e654ae.xml",
         "odd_url": "http://archive.opensearch.ceda.ac.uk/opensearch/description.xml?parentIdentifier=5db2099606b94e63879d841c87e654ae",
         "platform_id": "ERS-2",
         "processing_level": "L3C",
         "product_string": "ATSR2",
         "product_version": "2-1",
         "publication_date": "2019-08-02T21:18:25",
         "sensor_id": "ATSR-2",
         "temporal_coverage_end": "2012-04-08T22:59:59",
         "temporal_coverage_start": "1991-11-01T00:00:00",
         "time_frequency": "day",
         "title": "ESA Sea Surface Temperature Climate Change Initiative (SST_cci): Along-Track Scanning Radiometer (ATSR) Level 3 Collated (L3C) Climate Data Record, version 2.1",
         "uuid": "5db2099606b94e63879d841c87e654ae"
        },
        "bbox": [
         -180,
         -90,
         180,
         90
        ],
        "data_id": "esacci.SST.day.L3C.SSTskin.ATSR-2.ERS-2.ATSR2.2-1.day",
        "data_vars": [
         {
          "attrs": {
           "add_offset": 273.15,
           "chunk_sizes": [
            1,
            90,
            180
           ],
           "comment": "Temperature of the skin of the ocean; total uncertainty = sqrt(uncertainty_systematic^2+uncertainty_correlated^2+uncertainty_random^2)",
           "data_type": "int16",
           "depth": "10 micrometres",
           "dimensions": [
            "time",
            "lat",
            "lon"
           ],
           "fill_value": -32768,
           "long_name": "sea surface skin temperature",
           "references": "http://www.esa-sst-cci.org",
           "scale_factor": 0.01,
           "size": 25920000,
           "source": "AATSR-ESA-L1-v3",
           "standard_name": "sea_surface_skin_temperature",
           "units": "kelvin",
           "valid_max": 5000,
           "valid_min": -200
          },
          "dims": [
           "time",
           "lat",
           "lon"
          ],
          "dtype": "int16",
          "name": "sea_surface_temperature",
          "ndim": 3
         },
         {
          "attrs": {
           "add_offset": 273.15,
           "chunk_sizes": [
            1,
            90,
            180
           ],
           "comment": "Temperature of the ocean at 20 cm depth; total uncertainty = sqrt(uncertainty_systematic^2+uncertainty_correlated^2+uncertainty_random^2+uncertainty_correlated_time_and_depth_adjustment^2)",
           "data_type": "int16",
           "depth": "0.2 metre",
           "dimensions": [
            "time",
            "lat",
            "lon"
           ],
           "fill_value": -32768,
           "long_name": "sea surface temperature at 0.2 m",
           "references": "http://www.esa-sst-cci.org",
           "scale_factor": 0.01,
           "size": 25920000,
           "source": "AATSR-ESA-L1-v3",
           "standard_name": "sea_water_temperature",
           "units": "kelvin",
           "valid_max": 5000,
           "valid_min": -200
          },
          "dims": [
           "time",
           "lat",
           "lon"
          ],
          "dtype": "int16",
          "name": "sea_surface_temperature_depth",
          "ndim": 3
         },
         {
          "attrs": {
           "add_offset": 0,
           "chunk_sizes": [
            1,
            90,
            180
           ],
           "comment": "Temperature of the ocean at 20 cm depth; total uncertainty = sqrt(uncertainty_systematic^2+uncertainty_correlated^2+uncertainty_random^2+uncertainty_correlated_time_and_depth_adjustment^2)",
           "data_type": "int16",
           "depth": "0.2 metre",
           "dimensions": [
            "time",
            "lat",
            "lon"
           ],
           "fill_value": -32768,
           "long_name": "sea surface temperature anomaly at 0.2 m",
           "references": "http://www.esa-sst-cci.org",
           "scale_factor": 0.01,
           "size": 25920000,
           "source": "AATSR-ESA-L1-v3",
           "standard_name": "sea_water_temperature_anomaly",
           "units": "kelvin",
           "valid_max": 4000,
           "valid_min": -4000
          },
          "dims": [
           "time",
           "lat",
           "lon"
          ],
          "dtype": "int16",
          "name": "sea_surface_temperature_depth_anomaly",
          "ndim": 3
         },
         {
          "attrs": {
           "add_offset": 0,
           "chunk_sizes": [
            1,
            90,
            180
           ],
           "comment": "time plus sst_dtime gives seconds after 1981-01-01 00:00:00",
           "data_type": "int32",
           "dimensions": [
            "time",
            "lat",
            "lon"
           ],
           "fill_value": -2147483648,
           "long_name": "time difference from reference time",
           "scale_factor": 1,
           "size": 25920000,
           "units": "seconds",
           "valid_max": 43200,
           "valid_min": -43200
          },
          "dims": [
           "time",
           "lat",
           "lon"
          ],
          "dtype": "int32",
          "name": "sst_dtime",
          "ndim": 3
         },
         {
          "attrs": {
           "add_offset": 0,
           "chunk_sizes": [
            1,
            90,
            180
           ],
           "comment": "time plus sst_depth_dtime gives seconds after 1981-01-01 00:00:00",
           "data_type": "int32",
           "dimensions": [
            "time",
            "lat",
            "lon"
           ],
           "fill_value": -2147483648,
           "long_name": "time difference from reference time",
           "scale_factor": 1,
           "size": 25920000,
           "units": "seconds",
           "valid_max": 43200,
           "valid_min": -43200
          },
          "dims": [
           "time",
           "lat",
           "lon"
          ],
          "dtype": "int32",
          "name": "sst_depth_dtime",
          "ndim": 3
         },
         {
          "attrs": {
           "_Unsigned": "false",
           "add_offset": 0,
           "chunk_sizes": [
            1,
            90,
            180
           ],
           "comment": "Populated with zeroes",
           "data_type": "uint8",
           "dimensions": [
            "time",
            "lat",
            "lon"
           ],
           "fill_value": -128,
           "long_name": "SSES bias estimate",
           "scale_factor": 0.01,
           "size": 25920000,
           "units": "kelvin",
           "valid_max": 127,
           "valid_min": -127
          },
          "dims": [
           "time",
           "lat",
           "lon"
          ],
          "dtype": "uint8",
          "name": "sses_bias",
          "ndim": 3
         },
         {
          "attrs": {
           "_Unsigned": "false",
           "add_offset": 1.27,
           "chunk_sizes": [
            1,
            90,
            180
           ],
           "comment": "Uncertainty information is contained in the variables uncertainty_systematic, uncertainty_correlated, and uncertainty_random",
           "data_type": "uint8",
           "dimensions": [
            "time",
            "lat",
            "lon"
           ],
           "fill_value": -128,
           "long_name": "SSES standard deviation",
           "scale_factor": 0.01,
           "size": 25920000,
           "units": "kelvin",
           "valid_max": 127,
           "valid_min": -127
          },
          "dims": [
           "time",
           "lat",
           "lon"
          ],
          "dtype": "uint8",
          "name": "sses_standard_deviation",
          "ndim": 3
         },
         {
          "attrs": {
           "add_offset": 0,
           "chunk_sizes": [
            1,
            90,
            180
           ],
           "comment": "Total uncertainty in each sea_surface_temperature data point",
           "data_type": "int16",
           "dimensions": [
            "time",
            "lat",
            "lon"
           ],
           "fill_value": -32768,
           "long_name": "Total uncertainty in sea_surface_temperature",
           "scale_factor": 0.001,
           "size": 25920000,
           "units": "kelvin",
           "valid_max": 5000,
           "valid_min": 0
          },
          "dims": [
           "time",
           "lat",
           "lon"
          ],
          "dtype": "int16",
          "name": "sea_surface_temperature_total_uncertainty",
          "ndim": 3
         },
         {
          "attrs": {
           "add_offset": 0,
           "chunk_sizes": [
            1,
            90,
            180
           ],
           "comment": "Total uncertainty in each sea_surface_temperature_depth data point",
           "data_type": "int16",
           "dimensions": [
            "time",
            "lat",
            "lon"
           ],
           "fill_value": -32768,
           "long_name": "Total uncertainty in sea_surface_temperature_depth",
           "scale_factor": 0.001,
           "size": 25920000,
           "units": "kelvin",
           "valid_max": 5000,
           "valid_min": 0
          },
          "dims": [
           "time",
           "lat",
           "lon"
          ],
          "dtype": "int16",
          "name": "sea_surface_temperature_depth_total_uncertainty",
          "ndim": 3
         },
         {
          "attrs": {
           "add_offset": 0,
           "chunk_sizes": [
            1,
            90,
            180
           ],
           "comment": "Add to sea_surface_temperature, if SST at 20cm at observation time is required",
           "data_type": "int16",
           "dimensions": [
            "time",
            "lat",
            "lon"
           ],
           "fill_value": -32768,
           "long_name": "Adjustment to sea surface temperature at 0.2 m",
           "scale_factor": 0.01,
           "size": 25920000,
           "units": "kelvin",
           "valid_max": 1000,
           "valid_min": -1000
          },
          "dims": [
           "time",
           "lat",
           "lon"
          ],
          "dtype": "int16",
          "name": "depth_adjustment",
          "ndim": 3
         },
         {
          "attrs": {
           "add_offset": 0,
           "chunk_sizes": [
            1,
            90,
            180
           ],
           "comment": "Add to sea_surface_temperature, if alternative SST retrieval is required",
           "data_type": "int16",
           "dimensions": [
            "time",
            "lat",
            "lon"
           ],
           "fill_value": -32768,
           "long_name": "Adjustment to alternative sea surface temperature retrieval",
           "scale_factor": 0.01,
           "size": 25920000,
           "units": "kelvin",
           "valid_max": 1000,
           "valid_min": -1000
          },
          "dims": [
           "time",
           "lat",
           "lon"
          ],
          "dtype": "int16",
          "name": "adjustment_alt",
          "ndim": 3
         },
         {
          "attrs": {
           "chunk_sizes": [
            1,
            90,
            180
           ],
           "comment": "These flags are important to properly use the data",
           "data_type": "int16",
           "dimensions": [
            "time",
            "lat",
            "lon"
           ],
           "fill_value": -32768,
           "flag_masks": [
            1,
            2,
            4,
            8,
            16,
            32,
            64,
            128,
            256
           ],
           "flag_meanings": "microwave land ice lake river spare views channels day",
           "long_name": "L2P flags",
           "size": 25920000,
           "valid_max": 511,
           "valid_min": 0
          },
          "dims": [
           "time",
           "lat",
           "lon"
          ],
          "dtype": "int16",
          "name": "l2p_flags",
          "ndim": 3
         },
         {
          "attrs": {
           "_Unsigned": "false",
           "chunk_sizes": [
            1,
            90,
            180
           ],
           "comment": "These are overall quality indicators and are used for all GHRSST SSTs",
           "data_type": "uint8",
           "dimensions": [
            "time",
            "lat",
            "lon"
           ],
           "fill_value": 0,
           "flag_meanings": "no_data bad_data worst_quality low_quality acceptable_quality best_quality",
           "flag_values": [
            0,
            1,
            2,
            3,
            4,
            5
           ],
           "long_name": "quality level of SST pixel",
           "size": 25920000,
           "valid_max": 5,
           "valid_min": 0
          },
          "dims": [
           "time",
           "lat",
           "lon"
          ],
          "dtype": "uint8",
          "name": "quality_level",
          "ndim": 3
         },
         {
          "attrs": {
           "_Unsigned": "false",
           "add_offset": 12.7,
           "chunk_sizes": [
            1,
            90,
            180
           ],
           "comment": "Wind speeds sourced from ECMWF ERA Interim Reanalysis; wind speeds greater than 25.4 m/s are set to 25.4.",
           "data_type": "uint8",
           "dimensions": [
            "time",
            "lat",
            "lon"
           ],
           "fill_value": -128,
           "height": "10 m",
           "long_name": "10m wind speed",
           "references": "http://www.esa-sst-cci.org",
           "scale_factor": 0.1,
           "size": 25920000,
           "source": "ERA_INTERIM-ECMWF-WSP-v1.0",
           "standard_name": "wind_speed",
           "time_offset": 0,
           "units": "m s-1",
           "valid_max": 127,
           "valid_min": -127
          },
          "dims": [
           "time",
           "lat",
           "lon"
          ],
          "dtype": "uint8",
          "name": "wind_speed",
          "ndim": 3
         },
         {
          "attrs": {
           "_Unsigned": "false",
           "chunk_sizes": [
            1,
            90,
            180
           ],
           "comment": "1. single view, two channel 2. single view, three channel 3. dual view, two channel 4. dual view, three channel 5. single view, 11 and 3.7 two channel",
           "data_type": "uint8",
           "dimensions": [
            "time",
            "lat",
            "lon"
           ],
           "fill_value": -128,
           "flag_meanings": "single_view_two_channel single_view_three_channel dual_view_two_channel dual_view_three_channel single_view_11_and_3.7_two_channel",
           "flag_values": [
            1,
            2,
            3,
            4,
            5
           ],
           "long_name": "Type of retrieval used for the primary SST",
           "size": 25920000,
           "valid_max": 5,
           "valid_min": 1
          },
          "dims": [
           "time",
           "lat",
           "lon"
          ],
          "dtype": "uint8",
          "name": "sea_surface_temperature_retrieval_type",
          "ndim": 3
         },
         {
          "attrs": {
           "_Unsigned": "false",
           "chunk_sizes": [
            1,
            90,
            180
           ],
           "comment": "For ATSRs, adjustment gives D2 (most consistent through time series) when D3 is provided as best. For AVHRRs, adjustment provides N2 when N3 is best. Reason for providing an alternative: can then use N2 or D2 consistently for whole record i",
           "data_type": "uint8",
           "dimensions": [
            "time",
            "lat",
            "lon"
           ],
           "fill_value": -128,
           "flag_meanings": "single_view_two_channel single_view_three_channel dual_view_two_channel dual_view_three_channel single_view_11_and_3.7_two_channel",
           "flag_values": [
            1,
            2,
            3,
            4,
            5
           ],
           "long_name": "Type of retrieval used for the alternate SST retrieval",
           "size": 25920000,
           "valid_max": 5,
           "valid_min": 1
          },
          "dims": [
           "time",
           "lat",
           "lon"
          ],
          "dtype": "uint8",
          "name": "alt_sst_retrieval_type",
          "ndim": 3
         },
         {
          "attrs": {
           "add_offset": 0,
           "chunk_sizes": [
            1,
            90,
            180
           ],
           "comment": "Component of uncertainty that is uncorrelated between SSTs; can be combined with other uncertainty estimates to form a total uncertainty",
           "data_type": "int16",
           "dimensions": [
            "time",
            "lat",
            "lon"
           ],
           "fill_value": -32768,
           "long_name": "Uncertainty from errors likely to be uncorrelated between SSTs",
           "references": "http://www.esa-sst-cci.org",
           "scale_factor": 0.001,
           "size": 25920000,
           "units": "kelvin",
           "valid_max": 5000,
           "valid_min": 0
          },
          "dims": [
           "time",
           "lat",
           "lon"
          ],
          "dtype": "int16",
          "name": "uncertainty_random",
          "ndim": 3
         },
         {
          "attrs": {
           "add_offset": 0,
           "chunk_sizes": [
            1,
            90,
            180
           ],
           "comment": "Component of uncertainty that is correlated over synoptic scales; can be combined with other uncertainty estimates to form a total uncertainty",
           "correlation_length_scale": "100 km",
           "correlation_time_scale": "1 day",
           "data_type": "int16",
           "dimensions": [
            "time",
            "lat",
            "lon"
           ],
           "fill_value": -32768,
           "long_name": "Uncertainty from errors likely to be correlated over synoptic scales",
           "references": "http://www.esa-sst-cci.org",
           "scale_factor": 0.001,
           "size": 25920000,
           "units": "kelvin",
           "valid_max": 5000,
           "valid_min": 0
          },
          "dims": [
           "time",
           "lat",
           "lon"
          ],
          "dtype": "int16",
          "name": "uncertainty_correlated",
          "ndim": 3
         },
         {
          "attrs": {
           "add_offset": 0,
           "chunk_sizes": [
            1,
            90,
            180
           ],
           "comment": "Component of uncertainty that is correlated over large scales; can be combined with other uncertainty estimates to form a total uncertainty",
           "data_type": "int16",
           "dimensions": [
            "time",
            "lat",
            "lon"
           ],
           "fill_value": -32768,
           "long_name": "Uncertainty from errors likely to be correlated over large scales",
           "references": "http://www.esa-sst-cci.org",
           "scale_factor": 0.001,
           "size": 25920000,
           "units": "kelvin",
           "valid_max": 5000,
           "valid_min": 0
          },
          "dims": [
           "time",
           "lat",
           "lon"
          ],
          "dtype": "int16",
          "name": "uncertainty_systematic",
          "ndim": 3
         },
         {
          "attrs": {
           "add_offset": 0,
           "chunk_sizes": [
            1,
            90,
            180
           ],
           "comment": "Adjustment uncertainty; can be combined with other uncertainty estimates to form a total uncertainty",
           "correlation_length_scale": "100 km",
           "correlation_time_scale": "1 day",
           "data_type": "int16",
           "dimensions": [
            "time",
            "lat",
            "lon"
           ],
           "fill_value": -32768,
           "long_name": "Time and depth adjustment uncertainty",
           "references": "http://www.esa-sst-cci.org",
           "scale_factor": 0.001,
           "size": 25920000,
           "units": "kelvin",
           "valid_max": 5000,
           "valid_min": 0
          },
          "dims": [
           "time",
           "lat",
           "lon"
          ],
          "dtype": "int16",
          "name": "uncertainty_correlated_time_and_depth_adjustment",
          "ndim": 3
         },
         {
          "attrs": {
           "add_offset": 0,
           "chunk_sizes": [
            1,
            90,
            180
           ],
           "comment": "Component of uncertainty in alternative SST retrieval that is uncorrelated between SSTs; can be combined with other uncertainty estimates to form a total uncertainty",
           "data_type": "int16",
           "dimensions": [
            "time",
            "lat",
            "lon"
           ],
           "fill_value": -32768,
           "long_name": "Uncertainty in alternative SST retrieval from errors likely to be uncorrelated between SSTs",
           "references": "http://www.esa-sst-cci.org",
           "scale_factor": 0.001,
           "size": 25920000,
           "units": "kelvin",
           "valid_max": 5000,
           "valid_min": 0
          },
          "dims": [
           "time",
           "lat",
           "lon"
          ],
          "dtype": "int16",
          "name": "uncertainty_random_alt",
          "ndim": 3
         },
         {
          "attrs": {
           "add_offset": 0,
           "chunk_sizes": [
            1,
            90,
            180
           ],
           "comment": "Component of uncertainty in alternative SST retrieval that is correlated over synoptic scales; can be combined with other uncertainty estimates to form a total uncertainty",
           "correlation_length_scale": "100 km",
           "correlation_time_scale": "1 day",
           "data_type": "int16",
           "dimensions": [
            "time",
            "lat",
            "lon"
           ],
           "fill_value": -32768,
           "long_name": "Uncertainty in alternative SST retrieval from errors likely to be correlated over synoptic scales",
           "references": "http://www.esa-sst-cci.org",
           "scale_factor": 0.001,
           "size": 25920000,
           "units": "kelvin",
           "valid_max": 5000,
           "valid_min": 0
          },
          "dims": [
           "time",
           "lat",
           "lon"
          ],
          "dtype": "int16",
          "name": "uncertainty_correlated_alt",
          "ndim": 3
         },
         {
          "attrs": {
           "add_offset": 0,
           "chunk_sizes": [
            1,
            90,
            180
           ],
           "comment": "Component of uncertainty in alternative SST retrieval that is correlated over large scales; can be combined with other uncertainty estimates to form a total uncertainty",
           "data_type": "int16",
           "dimensions": [
            "time",
            "lat",
            "lon"
           ],
           "fill_value": -32768,
           "long_name": "Uncertainty in alternative SST retrieval from errors likely to be correlated over large scales",
           "references": "http://www.esa-sst-cci.org",
           "scale_factor": 0.001,
           "size": 25920000,
           "units": "kelvin",
           "valid_max": 5000,
           "valid_min": 0
          },
          "dims": [
           "time",
           "lat",
           "lon"
          ],
          "dtype": "int16",
          "name": "uncertainty_systematic_alt",
          "ndim": 3
         },
         {
          "attrs": {
           "add_offset": 0,
           "chunk_sizes": [
            1,
            90,
            180
           ],
           "comment": "Sensitivity of the retrieval to actual changes in sea surface temperature",
           "data_type": "int16",
           "dimensions": [
            "time",
            "lat",
            "lon"
           ],
           "fill_value": -32768,
           "long_name": "Sensitivity of the retrieval to actual changes in sea surface temperature",
           "scale_factor": 0.001,
           "size": 25920000,
           "units": "K/K",
           "valid_max": 1100,
           "valid_min": 0
          },
          "dims": [
           "time",
           "lat",
           "lon"
          ],
          "dtype": "int16",
          "name": "sst_sensitivity",
          "ndim": 3
         },
         {
          "attrs": {
           "add_offset": 0,
           "chunk_sizes": [
            1,
            90,
            180
           ],
           "comment": "If not applied, fill with zeros to indicate independence from in situ",
           "data_type": "int16",
           "dimensions": [
            "time",
            "lat",
            "lon"
           ],
           "fill_value": -32768,
           "long_name": "Adjustment, based on comparison to in situ data",
           "scale_factor": 0.01,
           "size": 25920000,
           "units": "kelvin",
           "valid_max": 1000,
           "valid_min": -1000
          },
          "dims": [
           "time",
           "lat",
           "lon"
          ],
          "dtype": "int16",
          "name": "empirical_adjustment",
          "ndim": 3
         }
        ],
        "dims": {
         "bnds": 2,
         "lat": 3600,
         "lon": 7200,
         "time": 1
        },
        "open_params_schema": {
         "additionalProperties": false,
         "properties": {
          "bbox": {
           "items": [
            {
             "maximum": 180,
             "minimum": -180,
             "type": "number"
            },
            {
             "maximum": 90,
             "minimum": -90,
             "type": "number"
            },
            {
             "maximum": 180,
             "minimum": -180,
             "type": "number"
            },
            {
             "maximum": 90,
             "minimum": -90,
             "type": "number"
            }
           ],
           "type": "array"
          },
          "crs": {
           "const": "WGS84",
           "type": "string"
          },
          "spatial_res": {
           "const": 0.05,
           "type": "number"
          },
          "time_period": {
           "const": "1D",
           "type": "string"
          },
          "time_range": {
           "items": [
            {
             "format": "date",
             "maxDate": "2012-04-08",
             "minDate": "1991-11-01",
             "type": "string"
            },
            {
             "format": "date",
             "maxDate": "2012-04-08",
             "minDate": "1991-11-01",
             "type": "string"
            }
           ],
           "type": "array"
          },
          "variable_names": {
           "items": {
            "enum": [
             "sea_surface_temperature",
             "sea_surface_temperature_depth",
             "sea_surface_temperature_depth_anomaly",
             "sst_dtime",
             "sst_depth_dtime",
             "sses_bias",
             "sses_standard_deviation",
             "sea_surface_temperature_total_uncertainty",
             "sea_surface_temperature_depth_total_uncertainty",
             "depth_adjustment",
             "adjustment_alt",
             "l2p_flags",
             "quality_level",
             "wind_speed",
             "sea_surface_temperature_retrieval_type",
             "alt_sst_retrieval_type",
             "uncertainty_random",
             "uncertainty_correlated",
             "uncertainty_systematic",
             "uncertainty_correlated_time_and_depth_adjustment",
             "uncertainty_random_alt",
             "uncertainty_correlated_alt",
             "uncertainty_systematic_alt",
             "sst_sensitivity",
             "empirical_adjustment"
            ],
            "type": "string"
           },
           "type": "array"
          }
         },
         "type": "object"
        },
        "spatial_res": 0.05,
        "time_period": "1D",
        "time_range": [
         "1991-11-01",
         "2012-04-08"
        ],
        "type_specifier": "dataset"
       },
       {
        "attrs": {
         "abstract": "This v2.1 SST_cci Along-Track Scanning Radiometer (ATSR) Level 3 Collated (L3C) Climate Data Record (CDR) consists of stable, low-bias sea surface temperature (SST) data from the ATSR series of satellite instruments. It covers the period between 11/1991 and 04/2012.  This L3C product provides these SST data on a 0.05 regular latitude-longitude grid and collated to include all orbits for a day (separated into daytime and nighttime files).\n\nThe dataset has been produced as part of the European Space Agency (ESA) Climate Change Initiative Sea Surface Temperature project(ESA SST_cci). The data products from SST_cci accurately map the surface temperature of the global oceans over the period 1981 to 2016 using observations from many satellites. The data provide independently quantified SSTs to a quality suitable for climate research.\n\nThis CDR Version 2.1 product supercedes the CDR v2.0 product.  Data are made freely and openly available under a Creative Commons License by Attribution (CC By 4.0) https://creativecommons.org/licenses/by/4.0/ .\n\nWhen citing this dataset please also cite the associated data paper: Merchant, C.J., Embury, O., Bulgin, C.E., Block T., Corlett, G.K., Fiedler, E., Good, S.A., Mittaz, J., Rayner, N.A., Berry, D., Eastwood, S., Taylor, M., Tsushima, Y., Waterfall, A., Wilson, R., Donlon, C. Satellite-based time-series of sea-surface temperature since 1981 for climate applications, Scientific Data 6:223 (2019). http://doi.org/10.1038/s41597-019-0236-x",
         "bbox_maxx": "180.0",
         "bbox_maxy": "90.0",
         "bbox_minx": "-180.0",
         "bbox_miny": "-90.0",
         "cci_project": "SST",
         "creation_date": "2019-08-02T21:18:25",
         "data_type": "SSTskin",
         "drs_ids": [
          "esacci.SST.day.L3C.SSTskin.AATSR.Envisat.AATSR.2-1.day",
          "esacci.SST.day.L3C.SSTskin.AATSR.Envisat.AATSR.2-1.night",
          "esacci.SST.day.L3C.SSTskin.ATSR-2.ERS-2.ATSR2.2-1.day",
          "esacci.SST.day.L3C.SSTskin.ATSR-2.ERS-2.ATSR2.2-1.night",
          "esacci.SST.day.L3C.SSTskin.ATSR.ERS-1.ATSR1.2-1.day",
          "esacci.SST.day.L3C.SSTskin.ATSR.ERS-1.ATSR1.2-1.night"
         ],
         "ecv": "SST",
         "fid": "5db2099606b94e63879d841c87e654ae",
         "file_formats": [
          ".nc",
          ".txt"
         ],
         "institute": "ESACCI_SST",
         "licences": "Use of these data is covered by the following licence: https://artefacts.ceda.ac.uk/licences/specific_licences/esacci_sst_terms_and_conditions_v2.pdf . When using these data you must cite them correctly using the citation given on the CEDA Data Catalogue record.",
         "metadata_url": "https://catalogue.ceda.ac.uk/export/xml/5db2099606b94e63879d841c87e654ae.xml",
         "odd_url": "http://archive.opensearch.ceda.ac.uk/opensearch/description.xml?parentIdentifier=5db2099606b94e63879d841c87e654ae",
         "platform_id": "ERS-2",
         "processing_level": "L3C",
         "product_string": "ATSR2",
         "product_version": "2-1",
         "publication_date": "2019-08-02T21:18:25",
         "sensor_id": "ATSR-2",
         "temporal_coverage_end": "2012-04-08T22:59:59",
         "temporal_coverage_start": "1991-11-01T00:00:00",
         "time_frequency": "day",
         "title": "ESA Sea Surface Temperature Climate Change Initiative (SST_cci): Along-Track Scanning Radiometer (ATSR) Level 3 Collated (L3C) Climate Data Record, version 2.1",
         "uuid": "5db2099606b94e63879d841c87e654ae"
        },
        "bbox": [
         -180,
         -90,
         180,
         90
        ],
        "data_id": "esacci.SST.day.L3C.SSTskin.ATSR-2.ERS-2.ATSR2.2-1.night",
        "data_vars": [
         {
          "attrs": {
           "add_offset": 273.15,
           "chunk_sizes": [
            1,
            90,
            180
           ],
           "comment": "Temperature of the skin of the ocean; total uncertainty = sqrt(uncertainty_systematic^2+uncertainty_correlated^2+uncertainty_random^2)",
           "data_type": "int16",
           "depth": "10 micrometres",
           "dimensions": [
            "time",
            "lat",
            "lon"
           ],
           "fill_value": -32768,
           "long_name": "sea surface skin temperature",
           "references": "http://www.esa-sst-cci.org",
           "scale_factor": 0.01,
           "size": 25920000,
           "source": "AATSR-ESA-L1-v3",
           "standard_name": "sea_surface_skin_temperature",
           "units": "kelvin",
           "valid_max": 5000,
           "valid_min": -200
          },
          "dims": [
           "time",
           "lat",
           "lon"
          ],
          "dtype": "int16",
          "name": "sea_surface_temperature",
          "ndim": 3
         },
         {
          "attrs": {
           "add_offset": 273.15,
           "chunk_sizes": [
            1,
            90,
            180
           ],
           "comment": "Temperature of the ocean at 20 cm depth; total uncertainty = sqrt(uncertainty_systematic^2+uncertainty_correlated^2+uncertainty_random^2+uncertainty_correlated_time_and_depth_adjustment^2)",
           "data_type": "int16",
           "depth": "0.2 metre",
           "dimensions": [
            "time",
            "lat",
            "lon"
           ],
           "fill_value": -32768,
           "long_name": "sea surface temperature at 0.2 m",
           "references": "http://www.esa-sst-cci.org",
           "scale_factor": 0.01,
           "size": 25920000,
           "source": "AATSR-ESA-L1-v3",
           "standard_name": "sea_water_temperature",
           "units": "kelvin",
           "valid_max": 5000,
           "valid_min": -200
          },
          "dims": [
           "time",
           "lat",
           "lon"
          ],
          "dtype": "int16",
          "name": "sea_surface_temperature_depth",
          "ndim": 3
         },
         {
          "attrs": {
           "add_offset": 0,
           "chunk_sizes": [
            1,
            90,
            180
           ],
           "comment": "Temperature of the ocean at 20 cm depth; total uncertainty = sqrt(uncertainty_systematic^2+uncertainty_correlated^2+uncertainty_random^2+uncertainty_correlated_time_and_depth_adjustment^2)",
           "data_type": "int16",
           "depth": "0.2 metre",
           "dimensions": [
            "time",
            "lat",
            "lon"
           ],
           "fill_value": -32768,
           "long_name": "sea surface temperature anomaly at 0.2 m",
           "references": "http://www.esa-sst-cci.org",
           "scale_factor": 0.01,
           "size": 25920000,
           "source": "AATSR-ESA-L1-v3",
           "standard_name": "sea_water_temperature_anomaly",
           "units": "kelvin",
           "valid_max": 4000,
           "valid_min": -4000
          },
          "dims": [
           "time",
           "lat",
           "lon"
          ],
          "dtype": "int16",
          "name": "sea_surface_temperature_depth_anomaly",
          "ndim": 3
         },
         {
          "attrs": {
           "add_offset": 0,
           "chunk_sizes": [
            1,
            90,
            180
           ],
           "comment": "time plus sst_dtime gives seconds after 1981-01-01 00:00:00",
           "data_type": "int32",
           "dimensions": [
            "time",
            "lat",
            "lon"
           ],
           "fill_value": -2147483648,
           "long_name": "time difference from reference time",
           "scale_factor": 1,
           "size": 25920000,
           "units": "seconds",
           "valid_max": 43200,
           "valid_min": -43200
          },
          "dims": [
           "time",
           "lat",
           "lon"
          ],
          "dtype": "int32",
          "name": "sst_dtime",
          "ndim": 3
         },
         {
          "attrs": {
           "add_offset": 0,
           "chunk_sizes": [
            1,
            90,
            180
           ],
           "comment": "time plus sst_depth_dtime gives seconds after 1981-01-01 00:00:00",
           "data_type": "int32",
           "dimensions": [
            "time",
            "lat",
            "lon"
           ],
           "fill_value": -2147483648,
           "long_name": "time difference from reference time",
           "scale_factor": 1,
           "size": 25920000,
           "units": "seconds",
           "valid_max": 43200,
           "valid_min": -43200
          },
          "dims": [
           "time",
           "lat",
           "lon"
          ],
          "dtype": "int32",
          "name": "sst_depth_dtime",
          "ndim": 3
         },
         {
          "attrs": {
           "_Unsigned": "false",
           "add_offset": 0,
           "chunk_sizes": [
            1,
            90,
            180
           ],
           "comment": "Populated with zeroes",
           "data_type": "uint8",
           "dimensions": [
            "time",
            "lat",
            "lon"
           ],
           "fill_value": -128,
           "long_name": "SSES bias estimate",
           "scale_factor": 0.01,
           "size": 25920000,
           "units": "kelvin",
           "valid_max": 127,
           "valid_min": -127
          },
          "dims": [
           "time",
           "lat",
           "lon"
          ],
          "dtype": "uint8",
          "name": "sses_bias",
          "ndim": 3
         },
         {
          "attrs": {
           "_Unsigned": "false",
           "add_offset": 1.27,
           "chunk_sizes": [
            1,
            90,
            180
           ],
           "comment": "Uncertainty information is contained in the variables uncertainty_systematic, uncertainty_correlated, and uncertainty_random",
           "data_type": "uint8",
           "dimensions": [
            "time",
            "lat",
            "lon"
           ],
           "fill_value": -128,
           "long_name": "SSES standard deviation",
           "scale_factor": 0.01,
           "size": 25920000,
           "units": "kelvin",
           "valid_max": 127,
           "valid_min": -127
          },
          "dims": [
           "time",
           "lat",
           "lon"
          ],
          "dtype": "uint8",
          "name": "sses_standard_deviation",
          "ndim": 3
         },
         {
          "attrs": {
           "add_offset": 0,
           "chunk_sizes": [
            1,
            90,
            180
           ],
           "comment": "Total uncertainty in each sea_surface_temperature data point",
           "data_type": "int16",
           "dimensions": [
            "time",
            "lat",
            "lon"
           ],
           "fill_value": -32768,
           "long_name": "Total uncertainty in sea_surface_temperature",
           "scale_factor": 0.001,
           "size": 25920000,
           "units": "kelvin",
           "valid_max": 5000,
           "valid_min": 0
          },
          "dims": [
           "time",
           "lat",
           "lon"
          ],
          "dtype": "int16",
          "name": "sea_surface_temperature_total_uncertainty",
          "ndim": 3
         },
         {
          "attrs": {
           "add_offset": 0,
           "chunk_sizes": [
            1,
            90,
            180
           ],
           "comment": "Total uncertainty in each sea_surface_temperature_depth data point",
           "data_type": "int16",
           "dimensions": [
            "time",
            "lat",
            "lon"
           ],
           "fill_value": -32768,
           "long_name": "Total uncertainty in sea_surface_temperature_depth",
           "scale_factor": 0.001,
           "size": 25920000,
           "units": "kelvin",
           "valid_max": 5000,
           "valid_min": 0
          },
          "dims": [
           "time",
           "lat",
           "lon"
          ],
          "dtype": "int16",
          "name": "sea_surface_temperature_depth_total_uncertainty",
          "ndim": 3
         },
         {
          "attrs": {
           "add_offset": 0,
           "chunk_sizes": [
            1,
            90,
            180
           ],
           "comment": "Add to sea_surface_temperature, if SST at 20cm at observation time is required",
           "data_type": "int16",
           "dimensions": [
            "time",
            "lat",
            "lon"
           ],
           "fill_value": -32768,
           "long_name": "Adjustment to sea surface temperature at 0.2 m",
           "scale_factor": 0.01,
           "size": 25920000,
           "units": "kelvin",
           "valid_max": 1000,
           "valid_min": -1000
          },
          "dims": [
           "time",
           "lat",
           "lon"
          ],
          "dtype": "int16",
          "name": "depth_adjustment",
          "ndim": 3
         },
         {
          "attrs": {
           "add_offset": 0,
           "chunk_sizes": [
            1,
            90,
            180
           ],
           "comment": "Add to sea_surface_temperature, if alternative SST retrieval is required",
           "data_type": "int16",
           "dimensions": [
            "time",
            "lat",
            "lon"
           ],
           "fill_value": -32768,
           "long_name": "Adjustment to alternative sea surface temperature retrieval",
           "scale_factor": 0.01,
           "size": 25920000,
           "units": "kelvin",
           "valid_max": 1000,
           "valid_min": -1000
          },
          "dims": [
           "time",
           "lat",
           "lon"
          ],
          "dtype": "int16",
          "name": "adjustment_alt",
          "ndim": 3
         },
         {
          "attrs": {
           "chunk_sizes": [
            1,
            90,
            180
           ],
           "comment": "These flags are important to properly use the data",
           "data_type": "int16",
           "dimensions": [
            "time",
            "lat",
            "lon"
           ],
           "fill_value": -32768,
           "flag_masks": [
            1,
            2,
            4,
            8,
            16,
            32,
            64,
            128,
            256
           ],
           "flag_meanings": "microwave land ice lake river spare views channels day",
           "long_name": "L2P flags",
           "size": 25920000,
           "valid_max": 511,
           "valid_min": 0
          },
          "dims": [
           "time",
           "lat",
           "lon"
          ],
          "dtype": "int16",
          "name": "l2p_flags",
          "ndim": 3
         },
         {
          "attrs": {
           "_Unsigned": "false",
           "chunk_sizes": [
            1,
            90,
            180
           ],
           "comment": "These are overall quality indicators and are used for all GHRSST SSTs",
           "data_type": "uint8",
           "dimensions": [
            "time",
            "lat",
            "lon"
           ],
           "fill_value": 0,
           "flag_meanings": "no_data bad_data worst_quality low_quality acceptable_quality best_quality",
           "flag_values": [
            0,
            1,
            2,
            3,
            4,
            5
           ],
           "long_name": "quality level of SST pixel",
           "size": 25920000,
           "valid_max": 5,
           "valid_min": 0
          },
          "dims": [
           "time",
           "lat",
           "lon"
          ],
          "dtype": "uint8",
          "name": "quality_level",
          "ndim": 3
         },
         {
          "attrs": {
           "_Unsigned": "false",
           "add_offset": 12.7,
           "chunk_sizes": [
            1,
            90,
            180
           ],
           "comment": "Wind speeds sourced from ECMWF ERA Interim Reanalysis; wind speeds greater than 25.4 m/s are set to 25.4.",
           "data_type": "uint8",
           "dimensions": [
            "time",
            "lat",
            "lon"
           ],
           "fill_value": -128,
           "height": "10 m",
           "long_name": "10m wind speed",
           "references": "http://www.esa-sst-cci.org",
           "scale_factor": 0.1,
           "size": 25920000,
           "source": "ERA_INTERIM-ECMWF-WSP-v1.0",
           "standard_name": "wind_speed",
           "time_offset": 0,
           "units": "m s-1",
           "valid_max": 127,
           "valid_min": -127
          },
          "dims": [
           "time",
           "lat",
           "lon"
          ],
          "dtype": "uint8",
          "name": "wind_speed",
          "ndim": 3
         },
         {
          "attrs": {
           "_Unsigned": "false",
           "chunk_sizes": [
            1,
            90,
            180
           ],
           "comment": "1. single view, two channel 2. single view, three channel 3. dual view, two channel 4. dual view, three channel 5. single view, 11 and 3.7 two channel",
           "data_type": "uint8",
           "dimensions": [
            "time",
            "lat",
            "lon"
           ],
           "fill_value": -128,
           "flag_meanings": "single_view_two_channel single_view_three_channel dual_view_two_channel dual_view_three_channel single_view_11_and_3.7_two_channel",
           "flag_values": [
            1,
            2,
            3,
            4,
            5
           ],
           "long_name": "Type of retrieval used for the primary SST",
           "size": 25920000,
           "valid_max": 5,
           "valid_min": 1
          },
          "dims": [
           "time",
           "lat",
           "lon"
          ],
          "dtype": "uint8",
          "name": "sea_surface_temperature_retrieval_type",
          "ndim": 3
         },
         {
          "attrs": {
           "_Unsigned": "false",
           "chunk_sizes": [
            1,
            90,
            180
           ],
           "comment": "For ATSRs, adjustment gives D2 (most consistent through time series) when D3 is provided as best. For AVHRRs, adjustment provides N2 when N3 is best. Reason for providing an alternative: can then use N2 or D2 consistently for whole record i",
           "data_type": "uint8",
           "dimensions": [
            "time",
            "lat",
            "lon"
           ],
           "fill_value": -128,
           "flag_meanings": "single_view_two_channel single_view_three_channel dual_view_two_channel dual_view_three_channel single_view_11_and_3.7_two_channel",
           "flag_values": [
            1,
            2,
            3,
            4,
            5
           ],
           "long_name": "Type of retrieval used for the alternate SST retrieval",
           "size": 25920000,
           "valid_max": 5,
           "valid_min": 1
          },
          "dims": [
           "time",
           "lat",
           "lon"
          ],
          "dtype": "uint8",
          "name": "alt_sst_retrieval_type",
          "ndim": 3
         },
         {
          "attrs": {
           "add_offset": 0,
           "chunk_sizes": [
            1,
            90,
            180
           ],
           "comment": "Component of uncertainty that is uncorrelated between SSTs; can be combined with other uncertainty estimates to form a total uncertainty",
           "data_type": "int16",
           "dimensions": [
            "time",
            "lat",
            "lon"
           ],
           "fill_value": -32768,
           "long_name": "Uncertainty from errors likely to be uncorrelated between SSTs",
           "references": "http://www.esa-sst-cci.org",
           "scale_factor": 0.001,
           "size": 25920000,
           "units": "kelvin",
           "valid_max": 5000,
           "valid_min": 0
          },
          "dims": [
           "time",
           "lat",
           "lon"
          ],
          "dtype": "int16",
          "name": "uncertainty_random",
          "ndim": 3
         },
         {
          "attrs": {
           "add_offset": 0,
           "chunk_sizes": [
            1,
            90,
            180
           ],
           "comment": "Component of uncertainty that is correlated over synoptic scales; can be combined with other uncertainty estimates to form a total uncertainty",
           "correlation_length_scale": "100 km",
           "correlation_time_scale": "1 day",
           "data_type": "int16",
           "dimensions": [
            "time",
            "lat",
            "lon"
           ],
           "fill_value": -32768,
           "long_name": "Uncertainty from errors likely to be correlated over synoptic scales",
           "references": "http://www.esa-sst-cci.org",
           "scale_factor": 0.001,
           "size": 25920000,
           "units": "kelvin",
           "valid_max": 5000,
           "valid_min": 0
          },
          "dims": [
           "time",
           "lat",
           "lon"
          ],
          "dtype": "int16",
          "name": "uncertainty_correlated",
          "ndim": 3
         },
         {
          "attrs": {
           "add_offset": 0,
           "chunk_sizes": [
            1,
            90,
            180
           ],
           "comment": "Component of uncertainty that is correlated over large scales; can be combined with other uncertainty estimates to form a total uncertainty",
           "data_type": "int16",
           "dimensions": [
            "time",
            "lat",
            "lon"
           ],
           "fill_value": -32768,
           "long_name": "Uncertainty from errors likely to be correlated over large scales",
           "references": "http://www.esa-sst-cci.org",
           "scale_factor": 0.001,
           "size": 25920000,
           "units": "kelvin",
           "valid_max": 5000,
           "valid_min": 0
          },
          "dims": [
           "time",
           "lat",
           "lon"
          ],
          "dtype": "int16",
          "name": "uncertainty_systematic",
          "ndim": 3
         },
         {
          "attrs": {
           "add_offset": 0,
           "chunk_sizes": [
            1,
            90,
            180
           ],
           "comment": "Adjustment uncertainty; can be combined with other uncertainty estimates to form a total uncertainty",
           "correlation_length_scale": "100 km",
           "correlation_time_scale": "1 day",
           "data_type": "int16",
           "dimensions": [
            "time",
            "lat",
            "lon"
           ],
           "fill_value": -32768,
           "long_name": "Time and depth adjustment uncertainty",
           "references": "http://www.esa-sst-cci.org",
           "scale_factor": 0.001,
           "size": 25920000,
           "units": "kelvin",
           "valid_max": 5000,
           "valid_min": 0
          },
          "dims": [
           "time",
           "lat",
           "lon"
          ],
          "dtype": "int16",
          "name": "uncertainty_correlated_time_and_depth_adjustment",
          "ndim": 3
         },
         {
          "attrs": {
           "add_offset": 0,
           "chunk_sizes": [
            1,
            90,
            180
           ],
           "comment": "Component of uncertainty in alternative SST retrieval that is uncorrelated between SSTs; can be combined with other uncertainty estimates to form a total uncertainty",
           "data_type": "int16",
           "dimensions": [
            "time",
            "lat",
            "lon"
           ],
           "fill_value": -32768,
           "long_name": "Uncertainty in alternative SST retrieval from errors likely to be uncorrelated between SSTs",
           "references": "http://www.esa-sst-cci.org",
           "scale_factor": 0.001,
           "size": 25920000,
           "units": "kelvin",
           "valid_max": 5000,
           "valid_min": 0
          },
          "dims": [
           "time",
           "lat",
           "lon"
          ],
          "dtype": "int16",
          "name": "uncertainty_random_alt",
          "ndim": 3
         },
         {
          "attrs": {
           "add_offset": 0,
           "chunk_sizes": [
            1,
            90,
            180
           ],
           "comment": "Component of uncertainty in alternative SST retrieval that is correlated over synoptic scales; can be combined with other uncertainty estimates to form a total uncertainty",
           "correlation_length_scale": "100 km",
           "correlation_time_scale": "1 day",
           "data_type": "int16",
           "dimensions": [
            "time",
            "lat",
            "lon"
           ],
           "fill_value": -32768,
           "long_name": "Uncertainty in alternative SST retrieval from errors likely to be correlated over synoptic scales",
           "references": "http://www.esa-sst-cci.org",
           "scale_factor": 0.001,
           "size": 25920000,
           "units": "kelvin",
           "valid_max": 5000,
           "valid_min": 0
          },
          "dims": [
           "time",
           "lat",
           "lon"
          ],
          "dtype": "int16",
          "name": "uncertainty_correlated_alt",
          "ndim": 3
         },
         {
          "attrs": {
           "add_offset": 0,
           "chunk_sizes": [
            1,
            90,
            180
           ],
           "comment": "Component of uncertainty in alternative SST retrieval that is correlated over large scales; can be combined with other uncertainty estimates to form a total uncertainty",
           "data_type": "int16",
           "dimensions": [
            "time",
            "lat",
            "lon"
           ],
           "fill_value": -32768,
           "long_name": "Uncertainty in alternative SST retrieval from errors likely to be correlated over large scales",
           "references": "http://www.esa-sst-cci.org",
           "scale_factor": 0.001,
           "size": 25920000,
           "units": "kelvin",
           "valid_max": 5000,
           "valid_min": 0
          },
          "dims": [
           "time",
           "lat",
           "lon"
          ],
          "dtype": "int16",
          "name": "uncertainty_systematic_alt",
          "ndim": 3
         },
         {
          "attrs": {
           "add_offset": 0,
           "chunk_sizes": [
            1,
            90,
            180
           ],
           "comment": "Sensitivity of the retrieval to actual changes in sea surface temperature",
           "data_type": "int16",
           "dimensions": [
            "time",
            "lat",
            "lon"
           ],
           "fill_value": -32768,
           "long_name": "Sensitivity of the retrieval to actual changes in sea surface temperature",
           "scale_factor": 0.001,
           "size": 25920000,
           "units": "K/K",
           "valid_max": 1100,
           "valid_min": 0
          },
          "dims": [
           "time",
           "lat",
           "lon"
          ],
          "dtype": "int16",
          "name": "sst_sensitivity",
          "ndim": 3
         },
         {
          "attrs": {
           "add_offset": 0,
           "chunk_sizes": [
            1,
            90,
            180
           ],
           "comment": "If not applied, fill with zeros to indicate independence from in situ",
           "data_type": "int16",
           "dimensions": [
            "time",
            "lat",
            "lon"
           ],
           "fill_value": -32768,
           "long_name": "Adjustment, based on comparison to in situ data",
           "scale_factor": 0.01,
           "size": 25920000,
           "units": "kelvin",
           "valid_max": 1000,
           "valid_min": -1000
          },
          "dims": [
           "time",
           "lat",
           "lon"
          ],
          "dtype": "int16",
          "name": "empirical_adjustment",
          "ndim": 3
         }
        ],
        "dims": {
         "bnds": 2,
         "lat": 3600,
         "lon": 7200,
         "time": 1
        },
        "open_params_schema": {
         "additionalProperties": false,
         "properties": {
          "bbox": {
           "items": [
            {
             "maximum": 180,
             "minimum": -180,
             "type": "number"
            },
            {
             "maximum": 90,
             "minimum": -90,
             "type": "number"
            },
            {
             "maximum": 180,
             "minimum": -180,
             "type": "number"
            },
            {
             "maximum": 90,
             "minimum": -90,
             "type": "number"
            }
           ],
           "type": "array"
          },
          "crs": {
           "const": "WGS84",
           "type": "string"
          },
          "spatial_res": {
           "const": 0.05,
           "type": "number"
          },
          "time_period": {
           "const": "1D",
           "type": "string"
          },
          "time_range": {
           "items": [
            {
             "format": "date",
             "maxDate": "2012-04-08",
             "minDate": "1991-11-01",
             "type": "string"
            },
            {
             "format": "date",
             "maxDate": "2012-04-08",
             "minDate": "1991-11-01",
             "type": "string"
            }
           ],
           "type": "array"
          },
          "variable_names": {
           "items": {
            "enum": [
             "sea_surface_temperature",
             "sea_surface_temperature_depth",
             "sea_surface_temperature_depth_anomaly",
             "sst_dtime",
             "sst_depth_dtime",
             "sses_bias",
             "sses_standard_deviation",
             "sea_surface_temperature_total_uncertainty",
             "sea_surface_temperature_depth_total_uncertainty",
             "depth_adjustment",
             "adjustment_alt",
             "l2p_flags",
             "quality_level",
             "wind_speed",
             "sea_surface_temperature_retrieval_type",
             "alt_sst_retrieval_type",
             "uncertainty_random",
             "uncertainty_correlated",
             "uncertainty_systematic",
             "uncertainty_correlated_time_and_depth_adjustment",
             "uncertainty_random_alt",
             "uncertainty_correlated_alt",
             "uncertainty_systematic_alt",
             "sst_sensitivity",
             "empirical_adjustment"
            ],
            "type": "string"
           },
           "type": "array"
          }
         },
         "type": "object"
        },
        "spatial_res": 0.05,
        "time_period": "1D",
        "time_range": [
         "1991-11-01",
         "2012-04-08"
        ],
        "type_specifier": "dataset"
       },
       {
        "attrs": {
         "abstract": "This v2.1 SST_cci Along-Track Scanning Radiometer (ATSR) Level 3 Collated (L3C) Climate Data Record (CDR) consists of stable, low-bias sea surface temperature (SST) data from the ATSR series of satellite instruments. It covers the period between 11/1991 and 04/2012.  This L3C product provides these SST data on a 0.05 regular latitude-longitude grid and collated to include all orbits for a day (separated into daytime and nighttime files).\n\nThe dataset has been produced as part of the European Space Agency (ESA) Climate Change Initiative Sea Surface Temperature project(ESA SST_cci). The data products from SST_cci accurately map the surface temperature of the global oceans over the period 1981 to 2016 using observations from many satellites. The data provide independently quantified SSTs to a quality suitable for climate research.\n\nThis CDR Version 2.1 product supercedes the CDR v2.0 product.  Data are made freely and openly available under a Creative Commons License by Attribution (CC By 4.0) https://creativecommons.org/licenses/by/4.0/ .\n\nWhen citing this dataset please also cite the associated data paper: Merchant, C.J., Embury, O., Bulgin, C.E., Block T., Corlett, G.K., Fiedler, E., Good, S.A., Mittaz, J., Rayner, N.A., Berry, D., Eastwood, S., Taylor, M., Tsushima, Y., Waterfall, A., Wilson, R., Donlon, C. Satellite-based time-series of sea-surface temperature since 1981 for climate applications, Scientific Data 6:223 (2019). http://doi.org/10.1038/s41597-019-0236-x",
         "bbox_maxx": "180.0",
         "bbox_maxy": "90.0",
         "bbox_minx": "-180.0",
         "bbox_miny": "-90.0",
         "cci_project": "SST",
         "creation_date": "2019-08-02T21:18:25",
         "data_type": "SSTskin",
         "drs_ids": [
          "esacci.SST.day.L3C.SSTskin.AATSR.Envisat.AATSR.2-1.day",
          "esacci.SST.day.L3C.SSTskin.AATSR.Envisat.AATSR.2-1.night",
          "esacci.SST.day.L3C.SSTskin.ATSR-2.ERS-2.ATSR2.2-1.day",
          "esacci.SST.day.L3C.SSTskin.ATSR-2.ERS-2.ATSR2.2-1.night",
          "esacci.SST.day.L3C.SSTskin.ATSR.ERS-1.ATSR1.2-1.day",
          "esacci.SST.day.L3C.SSTskin.ATSR.ERS-1.ATSR1.2-1.night"
         ],
         "ecv": "SST",
         "fid": "5db2099606b94e63879d841c87e654ae",
         "file_formats": [
          ".nc",
          ".txt"
         ],
         "institute": "ESACCI_SST",
         "licences": "Use of these data is covered by the following licence: https://artefacts.ceda.ac.uk/licences/specific_licences/esacci_sst_terms_and_conditions_v2.pdf . When using these data you must cite them correctly using the citation given on the CEDA Data Catalogue record.",
         "metadata_url": "https://catalogue.ceda.ac.uk/export/xml/5db2099606b94e63879d841c87e654ae.xml",
         "odd_url": "http://archive.opensearch.ceda.ac.uk/opensearch/description.xml?parentIdentifier=5db2099606b94e63879d841c87e654ae",
         "platform_id": "ERS-1",
         "processing_level": "L3C",
         "product_string": "ATSR1",
         "product_version": "2-1",
         "publication_date": "2019-08-02T21:18:25",
         "sensor_id": "ATSR",
         "temporal_coverage_end": "2012-04-08T22:59:59",
         "temporal_coverage_start": "1991-11-01T00:00:00",
         "time_frequency": "day",
         "title": "ESA Sea Surface Temperature Climate Change Initiative (SST_cci): Along-Track Scanning Radiometer (ATSR) Level 3 Collated (L3C) Climate Data Record, version 2.1",
         "uuid": "5db2099606b94e63879d841c87e654ae"
        },
        "bbox": [
         -180,
         -90,
         180,
         90
        ],
        "data_id": "esacci.SST.day.L3C.SSTskin.ATSR.ERS-1.ATSR1.2-1.day",
        "data_vars": [
         {
          "attrs": {
           "add_offset": 273.15,
           "chunk_sizes": [
            1,
            90,
            180
           ],
           "comment": "Temperature of the skin of the ocean; total uncertainty = sqrt(uncertainty_systematic^2+uncertainty_correlated^2+uncertainty_random^2)",
           "data_type": "int16",
           "depth": "10 micrometres",
           "dimensions": [
            "time",
            "lat",
            "lon"
           ],
           "fill_value": -32768,
           "long_name": "sea surface skin temperature",
           "references": "http://www.esa-sst-cci.org",
           "scale_factor": 0.01,
           "size": 25920000,
           "source": "AATSR-ESA-L1-v3",
           "standard_name": "sea_surface_skin_temperature",
           "units": "kelvin",
           "valid_max": 5000,
           "valid_min": -200
          },
          "dims": [
           "time",
           "lat",
           "lon"
          ],
          "dtype": "int16",
          "name": "sea_surface_temperature",
          "ndim": 3
         },
         {
          "attrs": {
           "add_offset": 273.15,
           "chunk_sizes": [
            1,
            90,
            180
           ],
           "comment": "Temperature of the ocean at 20 cm depth; total uncertainty = sqrt(uncertainty_systematic^2+uncertainty_correlated^2+uncertainty_random^2+uncertainty_correlated_time_and_depth_adjustment^2)",
           "data_type": "int16",
           "depth": "0.2 metre",
           "dimensions": [
            "time",
            "lat",
            "lon"
           ],
           "fill_value": -32768,
           "long_name": "sea surface temperature at 0.2 m",
           "references": "http://www.esa-sst-cci.org",
           "scale_factor": 0.01,
           "size": 25920000,
           "source": "AATSR-ESA-L1-v3",
           "standard_name": "sea_water_temperature",
           "units": "kelvin",
           "valid_max": 5000,
           "valid_min": -200
          },
          "dims": [
           "time",
           "lat",
           "lon"
          ],
          "dtype": "int16",
          "name": "sea_surface_temperature_depth",
          "ndim": 3
         },
         {
          "attrs": {
           "add_offset": 0,
           "chunk_sizes": [
            1,
            90,
            180
           ],
           "comment": "Temperature of the ocean at 20 cm depth; total uncertainty = sqrt(uncertainty_systematic^2+uncertainty_correlated^2+uncertainty_random^2+uncertainty_correlated_time_and_depth_adjustment^2)",
           "data_type": "int16",
           "depth": "0.2 metre",
           "dimensions": [
            "time",
            "lat",
            "lon"
           ],
           "fill_value": -32768,
           "long_name": "sea surface temperature anomaly at 0.2 m",
           "references": "http://www.esa-sst-cci.org",
           "scale_factor": 0.01,
           "size": 25920000,
           "source": "AATSR-ESA-L1-v3",
           "standard_name": "sea_water_temperature_anomaly",
           "units": "kelvin",
           "valid_max": 4000,
           "valid_min": -4000
          },
          "dims": [
           "time",
           "lat",
           "lon"
          ],
          "dtype": "int16",
          "name": "sea_surface_temperature_depth_anomaly",
          "ndim": 3
         },
         {
          "attrs": {
           "add_offset": 0,
           "chunk_sizes": [
            1,
            90,
            180
           ],
           "comment": "time plus sst_dtime gives seconds after 1981-01-01 00:00:00",
           "data_type": "int32",
           "dimensions": [
            "time",
            "lat",
            "lon"
           ],
           "fill_value": -2147483648,
           "long_name": "time difference from reference time",
           "scale_factor": 1,
           "size": 25920000,
           "units": "seconds",
           "valid_max": 43200,
           "valid_min": -43200
          },
          "dims": [
           "time",
           "lat",
           "lon"
          ],
          "dtype": "int32",
          "name": "sst_dtime",
          "ndim": 3
         },
         {
          "attrs": {
           "add_offset": 0,
           "chunk_sizes": [
            1,
            90,
            180
           ],
           "comment": "time plus sst_depth_dtime gives seconds after 1981-01-01 00:00:00",
           "data_type": "int32",
           "dimensions": [
            "time",
            "lat",
            "lon"
           ],
           "fill_value": -2147483648,
           "long_name": "time difference from reference time",
           "scale_factor": 1,
           "size": 25920000,
           "units": "seconds",
           "valid_max": 43200,
           "valid_min": -43200
          },
          "dims": [
           "time",
           "lat",
           "lon"
          ],
          "dtype": "int32",
          "name": "sst_depth_dtime",
          "ndim": 3
         },
         {
          "attrs": {
           "_Unsigned": "false",
           "add_offset": 0,
           "chunk_sizes": [
            1,
            90,
            180
           ],
           "comment": "Populated with zeroes",
           "data_type": "uint8",
           "dimensions": [
            "time",
            "lat",
            "lon"
           ],
           "fill_value": -128,
           "long_name": "SSES bias estimate",
           "scale_factor": 0.01,
           "size": 25920000,
           "units": "kelvin",
           "valid_max": 127,
           "valid_min": -127
          },
          "dims": [
           "time",
           "lat",
           "lon"
          ],
          "dtype": "uint8",
          "name": "sses_bias",
          "ndim": 3
         },
         {
          "attrs": {
           "_Unsigned": "false",
           "add_offset": 1.27,
           "chunk_sizes": [
            1,
            90,
            180
           ],
           "comment": "Uncertainty information is contained in the variables uncertainty_systematic, uncertainty_correlated, and uncertainty_random",
           "data_type": "uint8",
           "dimensions": [
            "time",
            "lat",
            "lon"
           ],
           "fill_value": -128,
           "long_name": "SSES standard deviation",
           "scale_factor": 0.01,
           "size": 25920000,
           "units": "kelvin",
           "valid_max": 127,
           "valid_min": -127
          },
          "dims": [
           "time",
           "lat",
           "lon"
          ],
          "dtype": "uint8",
          "name": "sses_standard_deviation",
          "ndim": 3
         },
         {
          "attrs": {
           "add_offset": 0,
           "chunk_sizes": [
            1,
            90,
            180
           ],
           "comment": "Total uncertainty in each sea_surface_temperature data point",
           "data_type": "int16",
           "dimensions": [
            "time",
            "lat",
            "lon"
           ],
           "fill_value": -32768,
           "long_name": "Total uncertainty in sea_surface_temperature",
           "scale_factor": 0.001,
           "size": 25920000,
           "units": "kelvin",
           "valid_max": 5000,
           "valid_min": 0
          },
          "dims": [
           "time",
           "lat",
           "lon"
          ],
          "dtype": "int16",
          "name": "sea_surface_temperature_total_uncertainty",
          "ndim": 3
         },
         {
          "attrs": {
           "add_offset": 0,
           "chunk_sizes": [
            1,
            90,
            180
           ],
           "comment": "Total uncertainty in each sea_surface_temperature_depth data point",
           "data_type": "int16",
           "dimensions": [
            "time",
            "lat",
            "lon"
           ],
           "fill_value": -32768,
           "long_name": "Total uncertainty in sea_surface_temperature_depth",
           "scale_factor": 0.001,
           "size": 25920000,
           "units": "kelvin",
           "valid_max": 5000,
           "valid_min": 0
          },
          "dims": [
           "time",
           "lat",
           "lon"
          ],
          "dtype": "int16",
          "name": "sea_surface_temperature_depth_total_uncertainty",
          "ndim": 3
         },
         {
          "attrs": {
           "add_offset": 0,
           "chunk_sizes": [
            1,
            90,
            180
           ],
           "comment": "Add to sea_surface_temperature, if SST at 20cm at observation time is required",
           "data_type": "int16",
           "dimensions": [
            "time",
            "lat",
            "lon"
           ],
           "fill_value": -32768,
           "long_name": "Adjustment to sea surface temperature at 0.2 m",
           "scale_factor": 0.01,
           "size": 25920000,
           "units": "kelvin",
           "valid_max": 1000,
           "valid_min": -1000
          },
          "dims": [
           "time",
           "lat",
           "lon"
          ],
          "dtype": "int16",
          "name": "depth_adjustment",
          "ndim": 3
         },
         {
          "attrs": {
           "add_offset": 0,
           "chunk_sizes": [
            1,
            90,
            180
           ],
           "comment": "Add to sea_surface_temperature, if alternative SST retrieval is required",
           "data_type": "int16",
           "dimensions": [
            "time",
            "lat",
            "lon"
           ],
           "fill_value": -32768,
           "long_name": "Adjustment to alternative sea surface temperature retrieval",
           "scale_factor": 0.01,
           "size": 25920000,
           "units": "kelvin",
           "valid_max": 1000,
           "valid_min": -1000
          },
          "dims": [
           "time",
           "lat",
           "lon"
          ],
          "dtype": "int16",
          "name": "adjustment_alt",
          "ndim": 3
         },
         {
          "attrs": {
           "chunk_sizes": [
            1,
            90,
            180
           ],
           "comment": "These flags are important to properly use the data",
           "data_type": "int16",
           "dimensions": [
            "time",
            "lat",
            "lon"
           ],
           "fill_value": -32768,
           "flag_masks": [
            1,
            2,
            4,
            8,
            16,
            32,
            64,
            128,
            256
           ],
           "flag_meanings": "microwave land ice lake river spare views channels day",
           "long_name": "L2P flags",
           "size": 25920000,
           "valid_max": 511,
           "valid_min": 0
          },
          "dims": [
           "time",
           "lat",
           "lon"
          ],
          "dtype": "int16",
          "name": "l2p_flags",
          "ndim": 3
         },
         {
          "attrs": {
           "_Unsigned": "false",
           "chunk_sizes": [
            1,
            90,
            180
           ],
           "comment": "These are overall quality indicators and are used for all GHRSST SSTs",
           "data_type": "uint8",
           "dimensions": [
            "time",
            "lat",
            "lon"
           ],
           "fill_value": 0,
           "flag_meanings": "no_data bad_data worst_quality low_quality acceptable_quality best_quality",
           "flag_values": [
            0,
            1,
            2,
            3,
            4,
            5
           ],
           "long_name": "quality level of SST pixel",
           "size": 25920000,
           "valid_max": 5,
           "valid_min": 0
          },
          "dims": [
           "time",
           "lat",
           "lon"
          ],
          "dtype": "uint8",
          "name": "quality_level",
          "ndim": 3
         },
         {
          "attrs": {
           "_Unsigned": "false",
           "add_offset": 12.7,
           "chunk_sizes": [
            1,
            90,
            180
           ],
           "comment": "Wind speeds sourced from ECMWF ERA Interim Reanalysis; wind speeds greater than 25.4 m/s are set to 25.4.",
           "data_type": "uint8",
           "dimensions": [
            "time",
            "lat",
            "lon"
           ],
           "fill_value": -128,
           "height": "10 m",
           "long_name": "10m wind speed",
           "references": "http://www.esa-sst-cci.org",
           "scale_factor": 0.1,
           "size": 25920000,
           "source": "ERA_INTERIM-ECMWF-WSP-v1.0",
           "standard_name": "wind_speed",
           "time_offset": 0,
           "units": "m s-1",
           "valid_max": 127,
           "valid_min": -127
          },
          "dims": [
           "time",
           "lat",
           "lon"
          ],
          "dtype": "uint8",
          "name": "wind_speed",
          "ndim": 3
         },
         {
          "attrs": {
           "_Unsigned": "false",
           "chunk_sizes": [
            1,
            90,
            180
           ],
           "comment": "1. single view, two channel 2. single view, three channel 3. dual view, two channel 4. dual view, three channel 5. single view, 11 and 3.7 two channel",
           "data_type": "uint8",
           "dimensions": [
            "time",
            "lat",
            "lon"
           ],
           "fill_value": -128,
           "flag_meanings": "single_view_two_channel single_view_three_channel dual_view_two_channel dual_view_three_channel single_view_11_and_3.7_two_channel",
           "flag_values": [
            1,
            2,
            3,
            4,
            5
           ],
           "long_name": "Type of retrieval used for the primary SST",
           "size": 25920000,
           "valid_max": 5,
           "valid_min": 1
          },
          "dims": [
           "time",
           "lat",
           "lon"
          ],
          "dtype": "uint8",
          "name": "sea_surface_temperature_retrieval_type",
          "ndim": 3
         },
         {
          "attrs": {
           "_Unsigned": "false",
           "chunk_sizes": [
            1,
            90,
            180
           ],
           "comment": "For ATSRs, adjustment gives D2 (most consistent through time series) when D3 is provided as best. For AVHRRs, adjustment provides N2 when N3 is best. Reason for providing an alternative: can then use N2 or D2 consistently for whole record i",
           "data_type": "uint8",
           "dimensions": [
            "time",
            "lat",
            "lon"
           ],
           "fill_value": -128,
           "flag_meanings": "single_view_two_channel single_view_three_channel dual_view_two_channel dual_view_three_channel single_view_11_and_3.7_two_channel",
           "flag_values": [
            1,
            2,
            3,
            4,
            5
           ],
           "long_name": "Type of retrieval used for the alternate SST retrieval",
           "size": 25920000,
           "valid_max": 5,
           "valid_min": 1
          },
          "dims": [
           "time",
           "lat",
           "lon"
          ],
          "dtype": "uint8",
          "name": "alt_sst_retrieval_type",
          "ndim": 3
         },
         {
          "attrs": {
           "add_offset": 0,
           "chunk_sizes": [
            1,
            90,
            180
           ],
           "comment": "Component of uncertainty that is uncorrelated between SSTs; can be combined with other uncertainty estimates to form a total uncertainty",
           "data_type": "int16",
           "dimensions": [
            "time",
            "lat",
            "lon"
           ],
           "fill_value": -32768,
           "long_name": "Uncertainty from errors likely to be uncorrelated between SSTs",
           "references": "http://www.esa-sst-cci.org",
           "scale_factor": 0.001,
           "size": 25920000,
           "units": "kelvin",
           "valid_max": 5000,
           "valid_min": 0
          },
          "dims": [
           "time",
           "lat",
           "lon"
          ],
          "dtype": "int16",
          "name": "uncertainty_random",
          "ndim": 3
         },
         {
          "attrs": {
           "add_offset": 0,
           "chunk_sizes": [
            1,
            90,
            180
           ],
           "comment": "Component of uncertainty that is correlated over synoptic scales; can be combined with other uncertainty estimates to form a total uncertainty",
           "correlation_length_scale": "100 km",
           "correlation_time_scale": "1 day",
           "data_type": "int16",
           "dimensions": [
            "time",
            "lat",
            "lon"
           ],
           "fill_value": -32768,
           "long_name": "Uncertainty from errors likely to be correlated over synoptic scales",
           "references": "http://www.esa-sst-cci.org",
           "scale_factor": 0.001,
           "size": 25920000,
           "units": "kelvin",
           "valid_max": 5000,
           "valid_min": 0
          },
          "dims": [
           "time",
           "lat",
           "lon"
          ],
          "dtype": "int16",
          "name": "uncertainty_correlated",
          "ndim": 3
         },
         {
          "attrs": {
           "add_offset": 0,
           "chunk_sizes": [
            1,
            90,
            180
           ],
           "comment": "Component of uncertainty that is correlated over large scales; can be combined with other uncertainty estimates to form a total uncertainty",
           "data_type": "int16",
           "dimensions": [
            "time",
            "lat",
            "lon"
           ],
           "fill_value": -32768,
           "long_name": "Uncertainty from errors likely to be correlated over large scales",
           "references": "http://www.esa-sst-cci.org",
           "scale_factor": 0.001,
           "size": 25920000,
           "units": "kelvin",
           "valid_max": 5000,
           "valid_min": 0
          },
          "dims": [
           "time",
           "lat",
           "lon"
          ],
          "dtype": "int16",
          "name": "uncertainty_systematic",
          "ndim": 3
         },
         {
          "attrs": {
           "add_offset": 0,
           "chunk_sizes": [
            1,
            90,
            180
           ],
           "comment": "Adjustment uncertainty; can be combined with other uncertainty estimates to form a total uncertainty",
           "correlation_length_scale": "100 km",
           "correlation_time_scale": "1 day",
           "data_type": "int16",
           "dimensions": [
            "time",
            "lat",
            "lon"
           ],
           "fill_value": -32768,
           "long_name": "Time and depth adjustment uncertainty",
           "references": "http://www.esa-sst-cci.org",
           "scale_factor": 0.001,
           "size": 25920000,
           "units": "kelvin",
           "valid_max": 5000,
           "valid_min": 0
          },
          "dims": [
           "time",
           "lat",
           "lon"
          ],
          "dtype": "int16",
          "name": "uncertainty_correlated_time_and_depth_adjustment",
          "ndim": 3
         },
         {
          "attrs": {
           "add_offset": 0,
           "chunk_sizes": [
            1,
            90,
            180
           ],
           "comment": "Component of uncertainty in alternative SST retrieval that is uncorrelated between SSTs; can be combined with other uncertainty estimates to form a total uncertainty",
           "data_type": "int16",
           "dimensions": [
            "time",
            "lat",
            "lon"
           ],
           "fill_value": -32768,
           "long_name": "Uncertainty in alternative SST retrieval from errors likely to be uncorrelated between SSTs",
           "references": "http://www.esa-sst-cci.org",
           "scale_factor": 0.001,
           "size": 25920000,
           "units": "kelvin",
           "valid_max": 5000,
           "valid_min": 0
          },
          "dims": [
           "time",
           "lat",
           "lon"
          ],
          "dtype": "int16",
          "name": "uncertainty_random_alt",
          "ndim": 3
         },
         {
          "attrs": {
           "add_offset": 0,
           "chunk_sizes": [
            1,
            90,
            180
           ],
           "comment": "Component of uncertainty in alternative SST retrieval that is correlated over synoptic scales; can be combined with other uncertainty estimates to form a total uncertainty",
           "correlation_length_scale": "100 km",
           "correlation_time_scale": "1 day",
           "data_type": "int16",
           "dimensions": [
            "time",
            "lat",
            "lon"
           ],
           "fill_value": -32768,
           "long_name": "Uncertainty in alternative SST retrieval from errors likely to be correlated over synoptic scales",
           "references": "http://www.esa-sst-cci.org",
           "scale_factor": 0.001,
           "size": 25920000,
           "units": "kelvin",
           "valid_max": 5000,
           "valid_min": 0
          },
          "dims": [
           "time",
           "lat",
           "lon"
          ],
          "dtype": "int16",
          "name": "uncertainty_correlated_alt",
          "ndim": 3
         },
         {
          "attrs": {
           "add_offset": 0,
           "chunk_sizes": [
            1,
            90,
            180
           ],
           "comment": "Component of uncertainty in alternative SST retrieval that is correlated over large scales; can be combined with other uncertainty estimates to form a total uncertainty",
           "data_type": "int16",
           "dimensions": [
            "time",
            "lat",
            "lon"
           ],
           "fill_value": -32768,
           "long_name": "Uncertainty in alternative SST retrieval from errors likely to be correlated over large scales",
           "references": "http://www.esa-sst-cci.org",
           "scale_factor": 0.001,
           "size": 25920000,
           "units": "kelvin",
           "valid_max": 5000,
           "valid_min": 0
          },
          "dims": [
           "time",
           "lat",
           "lon"
          ],
          "dtype": "int16",
          "name": "uncertainty_systematic_alt",
          "ndim": 3
         },
         {
          "attrs": {
           "add_offset": 0,
           "chunk_sizes": [
            1,
            90,
            180
           ],
           "comment": "Sensitivity of the retrieval to actual changes in sea surface temperature",
           "data_type": "int16",
           "dimensions": [
            "time",
            "lat",
            "lon"
           ],
           "fill_value": -32768,
           "long_name": "Sensitivity of the retrieval to actual changes in sea surface temperature",
           "scale_factor": 0.001,
           "size": 25920000,
           "units": "K/K",
           "valid_max": 1100,
           "valid_min": 0
          },
          "dims": [
           "time",
           "lat",
           "lon"
          ],
          "dtype": "int16",
          "name": "sst_sensitivity",
          "ndim": 3
         },
         {
          "attrs": {
           "add_offset": 0,
           "chunk_sizes": [
            1,
            90,
            180
           ],
           "comment": "If not applied, fill with zeros to indicate independence from in situ",
           "data_type": "int16",
           "dimensions": [
            "time",
            "lat",
            "lon"
           ],
           "fill_value": -32768,
           "long_name": "Adjustment, based on comparison to in situ data",
           "scale_factor": 0.01,
           "size": 25920000,
           "units": "kelvin",
           "valid_max": 1000,
           "valid_min": -1000
          },
          "dims": [
           "time",
           "lat",
           "lon"
          ],
          "dtype": "int16",
          "name": "empirical_adjustment",
          "ndim": 3
         }
        ],
        "dims": {
         "bnds": 2,
         "lat": 3600,
         "lon": 7200,
         "time": 1
        },
        "open_params_schema": {
         "additionalProperties": false,
         "properties": {
          "bbox": {
           "items": [
            {
             "maximum": 180,
             "minimum": -180,
             "type": "number"
            },
            {
             "maximum": 90,
             "minimum": -90,
             "type": "number"
            },
            {
             "maximum": 180,
             "minimum": -180,
             "type": "number"
            },
            {
             "maximum": 90,
             "minimum": -90,
             "type": "number"
            }
           ],
           "type": "array"
          },
          "crs": {
           "const": "WGS84",
           "type": "string"
          },
          "spatial_res": {
           "const": 0.05,
           "type": "number"
          },
          "time_period": {
           "const": "1D",
           "type": "string"
          },
          "time_range": {
           "items": [
            {
             "format": "date",
             "maxDate": "2012-04-08",
             "minDate": "1991-11-01",
             "type": "string"
            },
            {
             "format": "date",
             "maxDate": "2012-04-08",
             "minDate": "1991-11-01",
             "type": "string"
            }
           ],
           "type": "array"
          },
          "variable_names": {
           "items": {
            "enum": [
             "sea_surface_temperature",
             "sea_surface_temperature_depth",
             "sea_surface_temperature_depth_anomaly",
             "sst_dtime",
             "sst_depth_dtime",
             "sses_bias",
             "sses_standard_deviation",
             "sea_surface_temperature_total_uncertainty",
             "sea_surface_temperature_depth_total_uncertainty",
             "depth_adjustment",
             "adjustment_alt",
             "l2p_flags",
             "quality_level",
             "wind_speed",
             "sea_surface_temperature_retrieval_type",
             "alt_sst_retrieval_type",
             "uncertainty_random",
             "uncertainty_correlated",
             "uncertainty_systematic",
             "uncertainty_correlated_time_and_depth_adjustment",
             "uncertainty_random_alt",
             "uncertainty_correlated_alt",
             "uncertainty_systematic_alt",
             "sst_sensitivity",
             "empirical_adjustment"
            ],
            "type": "string"
           },
           "type": "array"
          }
         },
         "type": "object"
        },
        "spatial_res": 0.05,
        "time_period": "1D",
        "time_range": [
         "1991-11-01",
         "2012-04-08"
        ],
        "type_specifier": "dataset"
       },
       {
        "attrs": {
         "abstract": "This v2.1 SST_cci Along-Track Scanning Radiometer (ATSR) Level 3 Collated (L3C) Climate Data Record (CDR) consists of stable, low-bias sea surface temperature (SST) data from the ATSR series of satellite instruments. It covers the period between 11/1991 and 04/2012.  This L3C product provides these SST data on a 0.05 regular latitude-longitude grid and collated to include all orbits for a day (separated into daytime and nighttime files).\n\nThe dataset has been produced as part of the European Space Agency (ESA) Climate Change Initiative Sea Surface Temperature project(ESA SST_cci). The data products from SST_cci accurately map the surface temperature of the global oceans over the period 1981 to 2016 using observations from many satellites. The data provide independently quantified SSTs to a quality suitable for climate research.\n\nThis CDR Version 2.1 product supercedes the CDR v2.0 product.  Data are made freely and openly available under a Creative Commons License by Attribution (CC By 4.0) https://creativecommons.org/licenses/by/4.0/ .\n\nWhen citing this dataset please also cite the associated data paper: Merchant, C.J., Embury, O., Bulgin, C.E., Block T., Corlett, G.K., Fiedler, E., Good, S.A., Mittaz, J., Rayner, N.A., Berry, D., Eastwood, S., Taylor, M., Tsushima, Y., Waterfall, A., Wilson, R., Donlon, C. Satellite-based time-series of sea-surface temperature since 1981 for climate applications, Scientific Data 6:223 (2019). http://doi.org/10.1038/s41597-019-0236-x",
         "bbox_maxx": "180.0",
         "bbox_maxy": "90.0",
         "bbox_minx": "-180.0",
         "bbox_miny": "-90.0",
         "cci_project": "SST",
         "creation_date": "2019-08-02T21:18:25",
         "data_type": "SSTskin",
         "drs_ids": [
          "esacci.SST.day.L3C.SSTskin.AATSR.Envisat.AATSR.2-1.day",
          "esacci.SST.day.L3C.SSTskin.AATSR.Envisat.AATSR.2-1.night",
          "esacci.SST.day.L3C.SSTskin.ATSR-2.ERS-2.ATSR2.2-1.day",
          "esacci.SST.day.L3C.SSTskin.ATSR-2.ERS-2.ATSR2.2-1.night",
          "esacci.SST.day.L3C.SSTskin.ATSR.ERS-1.ATSR1.2-1.day",
          "esacci.SST.day.L3C.SSTskin.ATSR.ERS-1.ATSR1.2-1.night"
         ],
         "ecv": "SST",
         "fid": "5db2099606b94e63879d841c87e654ae",
         "file_formats": [
          ".nc",
          ".txt"
         ],
         "institute": "ESACCI_SST",
         "licences": "Use of these data is covered by the following licence: https://artefacts.ceda.ac.uk/licences/specific_licences/esacci_sst_terms_and_conditions_v2.pdf . When using these data you must cite them correctly using the citation given on the CEDA Data Catalogue record.",
         "metadata_url": "https://catalogue.ceda.ac.uk/export/xml/5db2099606b94e63879d841c87e654ae.xml",
         "odd_url": "http://archive.opensearch.ceda.ac.uk/opensearch/description.xml?parentIdentifier=5db2099606b94e63879d841c87e654ae",
         "platform_id": "ERS-1",
         "processing_level": "L3C",
         "product_string": "ATSR1",
         "product_version": "2-1",
         "publication_date": "2019-08-02T21:18:25",
         "sensor_id": "ATSR",
         "temporal_coverage_end": "2012-04-08T22:59:59",
         "temporal_coverage_start": "1991-11-01T00:00:00",
         "time_frequency": "day",
         "title": "ESA Sea Surface Temperature Climate Change Initiative (SST_cci): Along-Track Scanning Radiometer (ATSR) Level 3 Collated (L3C) Climate Data Record, version 2.1",
         "uuid": "5db2099606b94e63879d841c87e654ae"
        },
        "bbox": [
         -180,
         -90,
         180,
         90
        ],
        "data_id": "esacci.SST.day.L3C.SSTskin.ATSR.ERS-1.ATSR1.2-1.night",
        "data_vars": [
         {
          "attrs": {
           "add_offset": 273.15,
           "chunk_sizes": [
            1,
            90,
            180
           ],
           "comment": "Temperature of the skin of the ocean; total uncertainty = sqrt(uncertainty_systematic^2+uncertainty_correlated^2+uncertainty_random^2)",
           "data_type": "int16",
           "depth": "10 micrometres",
           "dimensions": [
            "time",
            "lat",
            "lon"
           ],
           "fill_value": -32768,
           "long_name": "sea surface skin temperature",
           "references": "http://www.esa-sst-cci.org",
           "scale_factor": 0.01,
           "size": 25920000,
           "source": "AATSR-ESA-L1-v3",
           "standard_name": "sea_surface_skin_temperature",
           "units": "kelvin",
           "valid_max": 5000,
           "valid_min": -200
          },
          "dims": [
           "time",
           "lat",
           "lon"
          ],
          "dtype": "int16",
          "name": "sea_surface_temperature",
          "ndim": 3
         },
         {
          "attrs": {
           "add_offset": 273.15,
           "chunk_sizes": [
            1,
            90,
            180
           ],
           "comment": "Temperature of the ocean at 20 cm depth; total uncertainty = sqrt(uncertainty_systematic^2+uncertainty_correlated^2+uncertainty_random^2+uncertainty_correlated_time_and_depth_adjustment^2)",
           "data_type": "int16",
           "depth": "0.2 metre",
           "dimensions": [
            "time",
            "lat",
            "lon"
           ],
           "fill_value": -32768,
           "long_name": "sea surface temperature at 0.2 m",
           "references": "http://www.esa-sst-cci.org",
           "scale_factor": 0.01,
           "size": 25920000,
           "source": "AATSR-ESA-L1-v3",
           "standard_name": "sea_water_temperature",
           "units": "kelvin",
           "valid_max": 5000,
           "valid_min": -200
          },
          "dims": [
           "time",
           "lat",
           "lon"
          ],
          "dtype": "int16",
          "name": "sea_surface_temperature_depth",
          "ndim": 3
         },
         {
          "attrs": {
           "add_offset": 0,
           "chunk_sizes": [
            1,
            90,
            180
           ],
           "comment": "Temperature of the ocean at 20 cm depth; total uncertainty = sqrt(uncertainty_systematic^2+uncertainty_correlated^2+uncertainty_random^2+uncertainty_correlated_time_and_depth_adjustment^2)",
           "data_type": "int16",
           "depth": "0.2 metre",
           "dimensions": [
            "time",
            "lat",
            "lon"
           ],
           "fill_value": -32768,
           "long_name": "sea surface temperature anomaly at 0.2 m",
           "references": "http://www.esa-sst-cci.org",
           "scale_factor": 0.01,
           "size": 25920000,
           "source": "AATSR-ESA-L1-v3",
           "standard_name": "sea_water_temperature_anomaly",
           "units": "kelvin",
           "valid_max": 4000,
           "valid_min": -4000
          },
          "dims": [
           "time",
           "lat",
           "lon"
          ],
          "dtype": "int16",
          "name": "sea_surface_temperature_depth_anomaly",
          "ndim": 3
         },
         {
          "attrs": {
           "add_offset": 0,
           "chunk_sizes": [
            1,
            90,
            180
           ],
           "comment": "time plus sst_dtime gives seconds after 1981-01-01 00:00:00",
           "data_type": "int32",
           "dimensions": [
            "time",
            "lat",
            "lon"
           ],
           "fill_value": -2147483648,
           "long_name": "time difference from reference time",
           "scale_factor": 1,
           "size": 25920000,
           "units": "seconds",
           "valid_max": 43200,
           "valid_min": -43200
          },
          "dims": [
           "time",
           "lat",
           "lon"
          ],
          "dtype": "int32",
          "name": "sst_dtime",
          "ndim": 3
         },
         {
          "attrs": {
           "add_offset": 0,
           "chunk_sizes": [
            1,
            90,
            180
           ],
           "comment": "time plus sst_depth_dtime gives seconds after 1981-01-01 00:00:00",
           "data_type": "int32",
           "dimensions": [
            "time",
            "lat",
            "lon"
           ],
           "fill_value": -2147483648,
           "long_name": "time difference from reference time",
           "scale_factor": 1,
           "size": 25920000,
           "units": "seconds",
           "valid_max": 43200,
           "valid_min": -43200
          },
          "dims": [
           "time",
           "lat",
           "lon"
          ],
          "dtype": "int32",
          "name": "sst_depth_dtime",
          "ndim": 3
         },
         {
          "attrs": {
           "_Unsigned": "false",
           "add_offset": 0,
           "chunk_sizes": [
            1,
            90,
            180
           ],
           "comment": "Populated with zeroes",
           "data_type": "uint8",
           "dimensions": [
            "time",
            "lat",
            "lon"
           ],
           "fill_value": -128,
           "long_name": "SSES bias estimate",
           "scale_factor": 0.01,
           "size": 25920000,
           "units": "kelvin",
           "valid_max": 127,
           "valid_min": -127
          },
          "dims": [
           "time",
           "lat",
           "lon"
          ],
          "dtype": "uint8",
          "name": "sses_bias",
          "ndim": 3
         },
         {
          "attrs": {
           "_Unsigned": "false",
           "add_offset": 1.27,
           "chunk_sizes": [
            1,
            90,
            180
           ],
           "comment": "Uncertainty information is contained in the variables uncertainty_systematic, uncertainty_correlated, and uncertainty_random",
           "data_type": "uint8",
           "dimensions": [
            "time",
            "lat",
            "lon"
           ],
           "fill_value": -128,
           "long_name": "SSES standard deviation",
           "scale_factor": 0.01,
           "size": 25920000,
           "units": "kelvin",
           "valid_max": 127,
           "valid_min": -127
          },
          "dims": [
           "time",
           "lat",
           "lon"
          ],
          "dtype": "uint8",
          "name": "sses_standard_deviation",
          "ndim": 3
         },
         {
          "attrs": {
           "add_offset": 0,
           "chunk_sizes": [
            1,
            90,
            180
           ],
           "comment": "Total uncertainty in each sea_surface_temperature data point",
           "data_type": "int16",
           "dimensions": [
            "time",
            "lat",
            "lon"
           ],
           "fill_value": -32768,
           "long_name": "Total uncertainty in sea_surface_temperature",
           "scale_factor": 0.001,
           "size": 25920000,
           "units": "kelvin",
           "valid_max": 5000,
           "valid_min": 0
          },
          "dims": [
           "time",
           "lat",
           "lon"
          ],
          "dtype": "int16",
          "name": "sea_surface_temperature_total_uncertainty",
          "ndim": 3
         },
         {
          "attrs": {
           "add_offset": 0,
           "chunk_sizes": [
            1,
            90,
            180
           ],
           "comment": "Total uncertainty in each sea_surface_temperature_depth data point",
           "data_type": "int16",
           "dimensions": [
            "time",
            "lat",
            "lon"
           ],
           "fill_value": -32768,
           "long_name": "Total uncertainty in sea_surface_temperature_depth",
           "scale_factor": 0.001,
           "size": 25920000,
           "units": "kelvin",
           "valid_max": 5000,
           "valid_min": 0
          },
          "dims": [
           "time",
           "lat",
           "lon"
          ],
          "dtype": "int16",
          "name": "sea_surface_temperature_depth_total_uncertainty",
          "ndim": 3
         },
         {
          "attrs": {
           "add_offset": 0,
           "chunk_sizes": [
            1,
            90,
            180
           ],
           "comment": "Add to sea_surface_temperature, if SST at 20cm at observation time is required",
           "data_type": "int16",
           "dimensions": [
            "time",
            "lat",
            "lon"
           ],
           "fill_value": -32768,
           "long_name": "Adjustment to sea surface temperature at 0.2 m",
           "scale_factor": 0.01,
           "size": 25920000,
           "units": "kelvin",
           "valid_max": 1000,
           "valid_min": -1000
          },
          "dims": [
           "time",
           "lat",
           "lon"
          ],
          "dtype": "int16",
          "name": "depth_adjustment",
          "ndim": 3
         },
         {
          "attrs": {
           "add_offset": 0,
           "chunk_sizes": [
            1,
            90,
            180
           ],
           "comment": "Add to sea_surface_temperature, if alternative SST retrieval is required",
           "data_type": "int16",
           "dimensions": [
            "time",
            "lat",
            "lon"
           ],
           "fill_value": -32768,
           "long_name": "Adjustment to alternative sea surface temperature retrieval",
           "scale_factor": 0.01,
           "size": 25920000,
           "units": "kelvin",
           "valid_max": 1000,
           "valid_min": -1000
          },
          "dims": [
           "time",
           "lat",
           "lon"
          ],
          "dtype": "int16",
          "name": "adjustment_alt",
          "ndim": 3
         },
         {
          "attrs": {
           "chunk_sizes": [
            1,
            90,
            180
           ],
           "comment": "These flags are important to properly use the data",
           "data_type": "int16",
           "dimensions": [
            "time",
            "lat",
            "lon"
           ],
           "fill_value": -32768,
           "flag_masks": [
            1,
            2,
            4,
            8,
            16,
            32,
            64,
            128,
            256
           ],
           "flag_meanings": "microwave land ice lake river spare views channels day",
           "long_name": "L2P flags",
           "size": 25920000,
           "valid_max": 511,
           "valid_min": 0
          },
          "dims": [
           "time",
           "lat",
           "lon"
          ],
          "dtype": "int16",
          "name": "l2p_flags",
          "ndim": 3
         },
         {
          "attrs": {
           "_Unsigned": "false",
           "chunk_sizes": [
            1,
            90,
            180
           ],
           "comment": "These are overall quality indicators and are used for all GHRSST SSTs",
           "data_type": "uint8",
           "dimensions": [
            "time",
            "lat",
            "lon"
           ],
           "fill_value": 0,
           "flag_meanings": "no_data bad_data worst_quality low_quality acceptable_quality best_quality",
           "flag_values": [
            0,
            1,
            2,
            3,
            4,
            5
           ],
           "long_name": "quality level of SST pixel",
           "size": 25920000,
           "valid_max": 5,
           "valid_min": 0
          },
          "dims": [
           "time",
           "lat",
           "lon"
          ],
          "dtype": "uint8",
          "name": "quality_level",
          "ndim": 3
         },
         {
          "attrs": {
           "_Unsigned": "false",
           "add_offset": 12.7,
           "chunk_sizes": [
            1,
            90,
            180
           ],
           "comment": "Wind speeds sourced from ECMWF ERA Interim Reanalysis; wind speeds greater than 25.4 m/s are set to 25.4.",
           "data_type": "uint8",
           "dimensions": [
            "time",
            "lat",
            "lon"
           ],
           "fill_value": -128,
           "height": "10 m",
           "long_name": "10m wind speed",
           "references": "http://www.esa-sst-cci.org",
           "scale_factor": 0.1,
           "size": 25920000,
           "source": "ERA_INTERIM-ECMWF-WSP-v1.0",
           "standard_name": "wind_speed",
           "time_offset": 0,
           "units": "m s-1",
           "valid_max": 127,
           "valid_min": -127
          },
          "dims": [
           "time",
           "lat",
           "lon"
          ],
          "dtype": "uint8",
          "name": "wind_speed",
          "ndim": 3
         },
         {
          "attrs": {
           "_Unsigned": "false",
           "chunk_sizes": [
            1,
            90,
            180
           ],
           "comment": "1. single view, two channel 2. single view, three channel 3. dual view, two channel 4. dual view, three channel 5. single view, 11 and 3.7 two channel",
           "data_type": "uint8",
           "dimensions": [
            "time",
            "lat",
            "lon"
           ],
           "fill_value": -128,
           "flag_meanings": "single_view_two_channel single_view_three_channel dual_view_two_channel dual_view_three_channel single_view_11_and_3.7_two_channel",
           "flag_values": [
            1,
            2,
            3,
            4,
            5
           ],
           "long_name": "Type of retrieval used for the primary SST",
           "size": 25920000,
           "valid_max": 5,
           "valid_min": 1
          },
          "dims": [
           "time",
           "lat",
           "lon"
          ],
          "dtype": "uint8",
          "name": "sea_surface_temperature_retrieval_type",
          "ndim": 3
         },
         {
          "attrs": {
           "_Unsigned": "false",
           "chunk_sizes": [
            1,
            90,
            180
           ],
           "comment": "For ATSRs, adjustment gives D2 (most consistent through time series) when D3 is provided as best. For AVHRRs, adjustment provides N2 when N3 is best. Reason for providing an alternative: can then use N2 or D2 consistently for whole record i",
           "data_type": "uint8",
           "dimensions": [
            "time",
            "lat",
            "lon"
           ],
           "fill_value": -128,
           "flag_meanings": "single_view_two_channel single_view_three_channel dual_view_two_channel dual_view_three_channel single_view_11_and_3.7_two_channel",
           "flag_values": [
            1,
            2,
            3,
            4,
            5
           ],
           "long_name": "Type of retrieval used for the alternate SST retrieval",
           "size": 25920000,
           "valid_max": 5,
           "valid_min": 1
          },
          "dims": [
           "time",
           "lat",
           "lon"
          ],
          "dtype": "uint8",
          "name": "alt_sst_retrieval_type",
          "ndim": 3
         },
         {
          "attrs": {
           "add_offset": 0,
           "chunk_sizes": [
            1,
            90,
            180
           ],
           "comment": "Component of uncertainty that is uncorrelated between SSTs; can be combined with other uncertainty estimates to form a total uncertainty",
           "data_type": "int16",
           "dimensions": [
            "time",
            "lat",
            "lon"
           ],
           "fill_value": -32768,
           "long_name": "Uncertainty from errors likely to be uncorrelated between SSTs",
           "references": "http://www.esa-sst-cci.org",
           "scale_factor": 0.001,
           "size": 25920000,
           "units": "kelvin",
           "valid_max": 5000,
           "valid_min": 0
          },
          "dims": [
           "time",
           "lat",
           "lon"
          ],
          "dtype": "int16",
          "name": "uncertainty_random",
          "ndim": 3
         },
         {
          "attrs": {
           "add_offset": 0,
           "chunk_sizes": [
            1,
            90,
            180
           ],
           "comment": "Component of uncertainty that is correlated over synoptic scales; can be combined with other uncertainty estimates to form a total uncertainty",
           "correlation_length_scale": "100 km",
           "correlation_time_scale": "1 day",
           "data_type": "int16",
           "dimensions": [
            "time",
            "lat",
            "lon"
           ],
           "fill_value": -32768,
           "long_name": "Uncertainty from errors likely to be correlated over synoptic scales",
           "references": "http://www.esa-sst-cci.org",
           "scale_factor": 0.001,
           "size": 25920000,
           "units": "kelvin",
           "valid_max": 5000,
           "valid_min": 0
          },
          "dims": [
           "time",
           "lat",
           "lon"
          ],
          "dtype": "int16",
          "name": "uncertainty_correlated",
          "ndim": 3
         },
         {
          "attrs": {
           "add_offset": 0,
           "chunk_sizes": [
            1,
            90,
            180
           ],
           "comment": "Component of uncertainty that is correlated over large scales; can be combined with other uncertainty estimates to form a total uncertainty",
           "data_type": "int16",
           "dimensions": [
            "time",
            "lat",
            "lon"
           ],
           "fill_value": -32768,
           "long_name": "Uncertainty from errors likely to be correlated over large scales",
           "references": "http://www.esa-sst-cci.org",
           "scale_factor": 0.001,
           "size": 25920000,
           "units": "kelvin",
           "valid_max": 5000,
           "valid_min": 0
          },
          "dims": [
           "time",
           "lat",
           "lon"
          ],
          "dtype": "int16",
          "name": "uncertainty_systematic",
          "ndim": 3
         },
         {
          "attrs": {
           "add_offset": 0,
           "chunk_sizes": [
            1,
            90,
            180
           ],
           "comment": "Adjustment uncertainty; can be combined with other uncertainty estimates to form a total uncertainty",
           "correlation_length_scale": "100 km",
           "correlation_time_scale": "1 day",
           "data_type": "int16",
           "dimensions": [
            "time",
            "lat",
            "lon"
           ],
           "fill_value": -32768,
           "long_name": "Time and depth adjustment uncertainty",
           "references": "http://www.esa-sst-cci.org",
           "scale_factor": 0.001,
           "size": 25920000,
           "units": "kelvin",
           "valid_max": 5000,
           "valid_min": 0
          },
          "dims": [
           "time",
           "lat",
           "lon"
          ],
          "dtype": "int16",
          "name": "uncertainty_correlated_time_and_depth_adjustment",
          "ndim": 3
         },
         {
          "attrs": {
           "add_offset": 0,
           "chunk_sizes": [
            1,
            90,
            180
           ],
           "comment": "Component of uncertainty in alternative SST retrieval that is uncorrelated between SSTs; can be combined with other uncertainty estimates to form a total uncertainty",
           "data_type": "int16",
           "dimensions": [
            "time",
            "lat",
            "lon"
           ],
           "fill_value": -32768,
           "long_name": "Uncertainty in alternative SST retrieval from errors likely to be uncorrelated between SSTs",
           "references": "http://www.esa-sst-cci.org",
           "scale_factor": 0.001,
           "size": 25920000,
           "units": "kelvin",
           "valid_max": 5000,
           "valid_min": 0
          },
          "dims": [
           "time",
           "lat",
           "lon"
          ],
          "dtype": "int16",
          "name": "uncertainty_random_alt",
          "ndim": 3
         },
         {
          "attrs": {
           "add_offset": 0,
           "chunk_sizes": [
            1,
            90,
            180
           ],
           "comment": "Component of uncertainty in alternative SST retrieval that is correlated over synoptic scales; can be combined with other uncertainty estimates to form a total uncertainty",
           "correlation_length_scale": "100 km",
           "correlation_time_scale": "1 day",
           "data_type": "int16",
           "dimensions": [
            "time",
            "lat",
            "lon"
           ],
           "fill_value": -32768,
           "long_name": "Uncertainty in alternative SST retrieval from errors likely to be correlated over synoptic scales",
           "references": "http://www.esa-sst-cci.org",
           "scale_factor": 0.001,
           "size": 25920000,
           "units": "kelvin",
           "valid_max": 5000,
           "valid_min": 0
          },
          "dims": [
           "time",
           "lat",
           "lon"
          ],
          "dtype": "int16",
          "name": "uncertainty_correlated_alt",
          "ndim": 3
         },
         {
          "attrs": {
           "add_offset": 0,
           "chunk_sizes": [
            1,
            90,
            180
           ],
           "comment": "Component of uncertainty in alternative SST retrieval that is correlated over large scales; can be combined with other uncertainty estimates to form a total uncertainty",
           "data_type": "int16",
           "dimensions": [
            "time",
            "lat",
            "lon"
           ],
           "fill_value": -32768,
           "long_name": "Uncertainty in alternative SST retrieval from errors likely to be correlated over large scales",
           "references": "http://www.esa-sst-cci.org",
           "scale_factor": 0.001,
           "size": 25920000,
           "units": "kelvin",
           "valid_max": 5000,
           "valid_min": 0
          },
          "dims": [
           "time",
           "lat",
           "lon"
          ],
          "dtype": "int16",
          "name": "uncertainty_systematic_alt",
          "ndim": 3
         },
         {
          "attrs": {
           "add_offset": 0,
           "chunk_sizes": [
            1,
            90,
            180
           ],
           "comment": "Sensitivity of the retrieval to actual changes in sea surface temperature",
           "data_type": "int16",
           "dimensions": [
            "time",
            "lat",
            "lon"
           ],
           "fill_value": -32768,
           "long_name": "Sensitivity of the retrieval to actual changes in sea surface temperature",
           "scale_factor": 0.001,
           "size": 25920000,
           "units": "K/K",
           "valid_max": 1100,
           "valid_min": 0
          },
          "dims": [
           "time",
           "lat",
           "lon"
          ],
          "dtype": "int16",
          "name": "sst_sensitivity",
          "ndim": 3
         },
         {
          "attrs": {
           "add_offset": 0,
           "chunk_sizes": [
            1,
            90,
            180
           ],
           "comment": "If not applied, fill with zeros to indicate independence from in situ",
           "data_type": "int16",
           "dimensions": [
            "time",
            "lat",
            "lon"
           ],
           "fill_value": -32768,
           "long_name": "Adjustment, based on comparison to in situ data",
           "scale_factor": 0.01,
           "size": 25920000,
           "units": "kelvin",
           "valid_max": 1000,
           "valid_min": -1000
          },
          "dims": [
           "time",
           "lat",
           "lon"
          ],
          "dtype": "int16",
          "name": "empirical_adjustment",
          "ndim": 3
         }
        ],
        "dims": {
         "bnds": 2,
         "lat": 3600,
         "lon": 7200,
         "time": 1
        },
        "open_params_schema": {
         "additionalProperties": false,
         "properties": {
          "bbox": {
           "items": [
            {
             "maximum": 180,
             "minimum": -180,
             "type": "number"
            },
            {
             "maximum": 90,
             "minimum": -90,
             "type": "number"
            },
            {
             "maximum": 180,
             "minimum": -180,
             "type": "number"
            },
            {
             "maximum": 90,
             "minimum": -90,
             "type": "number"
            }
           ],
           "type": "array"
          },
          "crs": {
           "const": "WGS84",
           "type": "string"
          },
          "spatial_res": {
           "const": 0.05,
           "type": "number"
          },
          "time_period": {
           "const": "1D",
           "type": "string"
          },
          "time_range": {
           "items": [
            {
             "format": "date",
             "maxDate": "2012-04-08",
             "minDate": "1991-11-01",
             "type": "string"
            },
            {
             "format": "date",
             "maxDate": "2012-04-08",
             "minDate": "1991-11-01",
             "type": "string"
            }
           ],
           "type": "array"
          },
          "variable_names": {
           "items": {
            "enum": [
             "sea_surface_temperature",
             "sea_surface_temperature_depth",
             "sea_surface_temperature_depth_anomaly",
             "sst_dtime",
             "sst_depth_dtime",
             "sses_bias",
             "sses_standard_deviation",
             "sea_surface_temperature_total_uncertainty",
             "sea_surface_temperature_depth_total_uncertainty",
             "depth_adjustment",
             "adjustment_alt",
             "l2p_flags",
             "quality_level",
             "wind_speed",
             "sea_surface_temperature_retrieval_type",
             "alt_sst_retrieval_type",
             "uncertainty_random",
             "uncertainty_correlated",
             "uncertainty_systematic",
             "uncertainty_correlated_time_and_depth_adjustment",
             "uncertainty_random_alt",
             "uncertainty_correlated_alt",
             "uncertainty_systematic_alt",
             "sst_sensitivity",
             "empirical_adjustment"
            ],
            "type": "string"
           },
           "type": "array"
          }
         },
         "type": "object"
        },
        "spatial_res": 0.05,
        "time_period": "1D",
        "time_range": [
         "1991-11-01",
         "2012-04-08"
        ],
        "type_specifier": "dataset"
       },
       {
        "attrs": {
         "abstract": "This v2.1 SST_cci Advanced Very High Resolution Radiometer (AVHRR) Level 3 Collated (L3C) Climate Data Record (CDR) consists of stable, low-bias sea surface temperature (SST) data from the AVHRR series of satellite instruments.  It covers the period between 08/1981 and 12/2016.  This L3C product provides these SST data on a 0.05 regular latitude-longitude grid and collated to include all orbits for a day (separated into daytime and nighttime files).\n\nThe dataset has been produced as part of the European Space Agency (ESA) Climate Change Initiative Sea Surface Temperature project(ESA SST_cci). The data products from SST_cci accurately map the surface temperature of the global oceans over the period 1981 to 2016 using observations from many satellites. The data provide independently quantified SSTs to a quality suitable for climate research.\n\nThis CDR Version 2.1 product supercedes the CDR Version 2.0 product.  Data are made freely and openly available under a Creative Commons License by Attribution (CC By 4.0) https://creativecommons.org/licenses/by/4.0/ .\n\nWhen citing this dataset please also cite the associated data paper: Merchant, C.J., Embury, O., Bulgin, C.E., Block T., Corlett, G.K., Fiedler, E., Good, S.A., Mittaz, J., Rayner, N.A., Berry, D., Eastwood, S., Taylor, M., Tsushima, Y., Waterfall, A., Wilson, R., Donlon, C. Satellite-based time-series of sea-surface temperature since 1981 for climate applications, Scientific Data 6:223 (2019). http://doi.org/10.1038/s41597-019-0236-x",
         "bbox_maxx": "180.0",
         "bbox_maxy": "90.0",
         "bbox_minx": "-180.0",
         "bbox_miny": "-90.0",
         "cci_project": "SST",
         "creation_date": "2019-08-02T20:01:15",
         "data_type": "SSTskin",
         "drs_ids": [
          "esacci.SST.day.L3C.SSTskin.AVHRR-3.NOAA-15.AVHRR15_G.2-1.day",
          "esacci.SST.day.L3C.SSTskin.AVHRR-3.NOAA-15.AVHRR15_G.2-1.night",
          "esacci.SST.day.L3C.SSTskin.AVHRR-3.Metop-A.AVHRRMTA_G.2-1.day",
          "esacci.SST.day.L3C.SSTskin.AVHRR-3.Metop-A.AVHRRMTA_G.2-1.night",
          "esacci.SST.day.L3C.SSTskin.AVHRR-3.NOAA-19.AVHRR19_G.2-1.day",
          "esacci.SST.day.L3C.SSTskin.AVHRR-3.NOAA-19.AVHRR19_G.2-1.night",
          "esacci.SST.day.L3C.SSTskin.AVHRR-3.NOAA-17.AVHRR17_G.2-1.day",
          "esacci.SST.day.L3C.SSTskin.AVHRR-3.NOAA-17.AVHRR17_G.2-1.night",
          "esacci.SST.day.L3C.SSTskin.AVHRR-2.NOAA-12.AVHRR12_G.2-1.day",
          "esacci.SST.day.L3C.SSTskin.AVHRR-2.NOAA-12.AVHRR12_G.2-1.night",
          "esacci.SST.day.L3C.SSTskin.AVHRR-2.NOAA-11.AVHRR11_G.2-1.day",
          "esacci.SST.day.L3C.SSTskin.AVHRR-2.NOAA-11.AVHRR11_G.2-1.night",
          "esacci.SST.day.L3C.SSTskin.AVHRR-2.NOAA-14.AVHRR14_G.2-1.day",
          "esacci.SST.day.L3C.SSTskin.AVHRR-2.NOAA-14.AVHRR14_G.2-1.night",
          "esacci.SST.day.L3C.SSTskin.AVHRR-3.NOAA-18.AVHRR18_G.2-1.day",
          "esacci.SST.day.L3C.SSTskin.AVHRR-3.NOAA-18.AVHRR18_G.2-1.night",
          "esacci.SST.day.L3C.SSTskin.AVHRR-2.NOAA-9.AVHRR09_G.2-1.day",
          "esacci.SST.day.L3C.SSTskin.AVHRR-2.NOAA-9.AVHRR09_G.2-1.night",
          "esacci.SST.day.L3C.SSTskin.AVHRR-3.NOAA-16.AVHRR16_G.2-1.day",
          "esacci.SST.day.L3C.SSTskin.AVHRR-3.NOAA-16.AVHRR16_G.2-1.night",
          "esacci.SST.day.L3C.SSTskin.AVHRR-2.NOAA-7.AVHRR07_G.2-1.day",
          "esacci.SST.day.L3C.SSTskin.AVHRR-2.NOAA-7.AVHRR07_G.2-1.night"
         ],
         "ecv": "SST",
         "fid": "7db4459605da4665b6ab9a7102fb4875",
         "file_formats": [
          ".nc",
          ".txt"
         ],
         "institute": "ESACCI_SST",
         "licences": "Use of these data is covered by the following licence: https://artefacts.ceda.ac.uk/licences/specific_licences/esacci_sst_terms_and_conditions_v2.pdf . When using these data you must cite them correctly using the citation given on the CEDA Data Catalogue record.",
         "metadata_url": "https://catalogue.ceda.ac.uk/export/xml/7db4459605da4665b6ab9a7102fb4875.xml",
         "odd_url": "http://archive.opensearch.ceda.ac.uk/opensearch/description.xml?parentIdentifier=7db4459605da4665b6ab9a7102fb4875",
         "platform_id": "NOAA-11",
         "processing_level": "L3C",
         "product_string": "AVHRR11_G",
         "product_version": "2-1",
         "publication_date": "2019-08-02T20:01:15",
         "sensor_id": "AVHRR-2",
         "temporal_coverage_end": "2016-12-31T23:59:59",
         "temporal_coverage_start": "1981-08-23T23:00:00",
         "time_frequency": "day",
         "title": "ESA Sea Surface Temperature Climate Change Initiative (SST_cci): Advanced Very High Resolution Radiometer (AVHRR) Level 3 Collated (L3C) Climate Data Record, version 2.1",
         "uuid": "7db4459605da4665b6ab9a7102fb4875"
        },
        "bbox": [
         -180,
         -90,
         180,
         90
        ],
        "data_id": "esacci.SST.day.L3C.SSTskin.AVHRR-2.NOAA-11.AVHRR11_G.2-1.day",
        "data_vars": [
         {
          "attrs": {
           "add_offset": 273.15,
           "chunk_sizes": [
            1,
            90,
            180
           ],
           "comment": "Temperature of the skin of the ocean; total uncertainty = sqrt(uncertainty_systematic^2+uncertainty_correlated^2+uncertainty_random^2)",
           "data_type": "int16",
           "depth": "10 micrometres",
           "dimensions": [
            "time",
            "lat",
            "lon"
           ],
           "fill_value": -32768,
           "long_name": "sea surface skin temperature",
           "references": "http://www.esa-sst-cci.org",
           "scale_factor": 0.01,
           "size": 25920000,
           "source": "AVHRR07_G-ESACCI-L1C-v1",
           "standard_name": "sea_surface_skin_temperature",
           "units": "kelvin",
           "valid_max": 5000,
           "valid_min": -200
          },
          "dims": [
           "time",
           "lat",
           "lon"
          ],
          "dtype": "int16",
          "name": "sea_surface_temperature",
          "ndim": 3
         },
         {
          "attrs": {
           "add_offset": 273.15,
           "chunk_sizes": [
            1,
            90,
            180
           ],
           "comment": "Temperature of the ocean at 20 cm depth; total uncertainty = sqrt(uncertainty_systematic^2+uncertainty_correlated^2+uncertainty_random^2+uncertainty_correlated_time_and_depth_adjustment^2)",
           "data_type": "int16",
           "depth": "0.2 metre",
           "dimensions": [
            "time",
            "lat",
            "lon"
           ],
           "fill_value": -32768,
           "long_name": "sea surface temperature at 0.2 m",
           "references": "http://www.esa-sst-cci.org",
           "scale_factor": 0.01,
           "size": 25920000,
           "source": "AVHRR07_G-ESACCI-L1C-v1",
           "standard_name": "sea_water_temperature",
           "units": "kelvin",
           "valid_max": 5000,
           "valid_min": -200
          },
          "dims": [
           "time",
           "lat",
           "lon"
          ],
          "dtype": "int16",
          "name": "sea_surface_temperature_depth",
          "ndim": 3
         },
         {
          "attrs": {
           "add_offset": 0,
           "chunk_sizes": [
            1,
            90,
            180
           ],
           "comment": "Temperature of the ocean at 20 cm depth; total uncertainty = sqrt(uncertainty_systematic^2+uncertainty_correlated^2+uncertainty_random^2+uncertainty_correlated_time_and_depth_adjustment^2)",
           "data_type": "int16",
           "depth": "0.2 metre",
           "dimensions": [
            "time",
            "lat",
            "lon"
           ],
           "fill_value": -32768,
           "long_name": "sea surface temperature anomaly at 0.2 m",
           "references": "http://www.esa-sst-cci.org",
           "scale_factor": 0.01,
           "size": 25920000,
           "source": "AVHRR07_G-ESACCI-L1C-v1",
           "standard_name": "sea_water_temperature_anomaly",
           "units": "kelvin",
           "valid_max": 4000,
           "valid_min": -4000
          },
          "dims": [
           "time",
           "lat",
           "lon"
          ],
          "dtype": "int16",
          "name": "sea_surface_temperature_depth_anomaly",
          "ndim": 3
         },
         {
          "attrs": {
           "add_offset": 0,
           "chunk_sizes": [
            1,
            90,
            180
           ],
           "comment": "time plus sst_dtime gives seconds after 1981-01-01 00:00:00",
           "data_type": "int32",
           "dimensions": [
            "time",
            "lat",
            "lon"
           ],
           "fill_value": -2147483648,
           "long_name": "time difference from reference time",
           "scale_factor": 1,
           "size": 25920000,
           "units": "seconds",
           "valid_max": 43200,
           "valid_min": -43200
          },
          "dims": [
           "time",
           "lat",
           "lon"
          ],
          "dtype": "int32",
          "name": "sst_dtime",
          "ndim": 3
         },
         {
          "attrs": {
           "add_offset": 0,
           "chunk_sizes": [
            1,
            90,
            180
           ],
           "comment": "time plus sst_depth_dtime gives seconds after 1981-01-01 00:00:00",
           "data_type": "int32",
           "dimensions": [
            "time",
            "lat",
            "lon"
           ],
           "fill_value": -2147483648,
           "long_name": "time difference from reference time",
           "scale_factor": 1,
           "size": 25920000,
           "units": "seconds",
           "valid_max": 43200,
           "valid_min": -43200
          },
          "dims": [
           "time",
           "lat",
           "lon"
          ],
          "dtype": "int32",
          "name": "sst_depth_dtime",
          "ndim": 3
         },
         {
          "attrs": {
           "_Unsigned": "false",
           "add_offset": 0,
           "chunk_sizes": [
            1,
            90,
            180
           ],
           "comment": "Populated with zeroes",
           "data_type": "uint8",
           "dimensions": [
            "time",
            "lat",
            "lon"
           ],
           "fill_value": -128,
           "long_name": "SSES bias estimate",
           "scale_factor": 0.01,
           "size": 25920000,
           "units": "kelvin",
           "valid_max": 127,
           "valid_min": -127
          },
          "dims": [
           "time",
           "lat",
           "lon"
          ],
          "dtype": "uint8",
          "name": "sses_bias",
          "ndim": 3
         },
         {
          "attrs": {
           "_Unsigned": "false",
           "add_offset": 1.27,
           "chunk_sizes": [
            1,
            90,
            180
           ],
           "comment": "Uncertainty information is contained in the variables uncertainty_systematic, uncertainty_correlated, and uncertainty_random",
           "data_type": "uint8",
           "dimensions": [
            "time",
            "lat",
            "lon"
           ],
           "fill_value": -128,
           "long_name": "SSES standard deviation",
           "scale_factor": 0.01,
           "size": 25920000,
           "units": "kelvin",
           "valid_max": 127,
           "valid_min": -127
          },
          "dims": [
           "time",
           "lat",
           "lon"
          ],
          "dtype": "uint8",
          "name": "sses_standard_deviation",
          "ndim": 3
         },
         {
          "attrs": {
           "add_offset": 0,
           "chunk_sizes": [
            1,
            90,
            180
           ],
           "comment": "Total uncertainty in each sea_surface_temperature data point",
           "data_type": "int16",
           "dimensions": [
            "time",
            "lat",
            "lon"
           ],
           "fill_value": -32768,
           "long_name": "Total uncertainty in sea_surface_temperature",
           "scale_factor": 0.001,
           "size": 25920000,
           "units": "kelvin",
           "valid_max": 5000,
           "valid_min": 0
          },
          "dims": [
           "time",
           "lat",
           "lon"
          ],
          "dtype": "int16",
          "name": "sea_surface_temperature_total_uncertainty",
          "ndim": 3
         },
         {
          "attrs": {
           "add_offset": 0,
           "chunk_sizes": [
            1,
            90,
            180
           ],
           "comment": "Total uncertainty in each sea_surface_temperature_depth data point",
           "data_type": "int16",
           "dimensions": [
            "time",
            "lat",
            "lon"
           ],
           "fill_value": -32768,
           "long_name": "Total uncertainty in sea_surface_temperature_depth",
           "scale_factor": 0.001,
           "size": 25920000,
           "units": "kelvin",
           "valid_max": 5000,
           "valid_min": 0
          },
          "dims": [
           "time",
           "lat",
           "lon"
          ],
          "dtype": "int16",
          "name": "sea_surface_temperature_depth_total_uncertainty",
          "ndim": 3
         },
         {
          "attrs": {
           "add_offset": 0,
           "chunk_sizes": [
            1,
            90,
            180
           ],
           "comment": "Add to sea_surface_temperature, if SST at 20cm at observation time is required",
           "data_type": "int16",
           "dimensions": [
            "time",
            "lat",
            "lon"
           ],
           "fill_value": -32768,
           "long_name": "Adjustment to sea surface temperature at 0.2 m",
           "scale_factor": 0.01,
           "size": 25920000,
           "units": "kelvin",
           "valid_max": 1000,
           "valid_min": -1000
          },
          "dims": [
           "time",
           "lat",
           "lon"
          ],
          "dtype": "int16",
          "name": "depth_adjustment",
          "ndim": 3
         },
         {
          "attrs": {
           "add_offset": 0,
           "chunk_sizes": [
            1,
            90,
            180
           ],
           "comment": "Add to sea_surface_temperature, if alternative SST retrieval is required",
           "data_type": "int16",
           "dimensions": [
            "time",
            "lat",
            "lon"
           ],
           "fill_value": -32768,
           "long_name": "Adjustment to alternative sea surface temperature retrieval",
           "scale_factor": 0.01,
           "size": 25920000,
           "units": "kelvin",
           "valid_max": 1000,
           "valid_min": -1000
          },
          "dims": [
           "time",
           "lat",
           "lon"
          ],
          "dtype": "int16",
          "name": "adjustment_alt",
          "ndim": 3
         },
         {
          "attrs": {
           "chunk_sizes": [
            1,
            90,
            180
           ],
           "comment": "These flags are important to properly use the data",
           "data_type": "int16",
           "dimensions": [
            "time",
            "lat",
            "lon"
           ],
           "fill_value": -32768,
           "flag_masks": [
            1,
            2,
            4,
            8,
            16,
            32,
            64,
            128,
            256
           ],
           "flag_meanings": "microwave land ice lake river spare views channels day",
           "long_name": "L2P flags",
           "size": 25920000,
           "valid_max": 511,
           "valid_min": 0
          },
          "dims": [
           "time",
           "lat",
           "lon"
          ],
          "dtype": "int16",
          "name": "l2p_flags",
          "ndim": 3
         },
         {
          "attrs": {
           "_Unsigned": "false",
           "chunk_sizes": [
            1,
            90,
            180
           ],
           "comment": "These are overall quality indicators and are used for all GHRSST SSTs",
           "data_type": "uint8",
           "dimensions": [
            "time",
            "lat",
            "lon"
           ],
           "fill_value": 0,
           "flag_meanings": "no_data bad_data worst_quality low_quality acceptable_quality best_quality",
           "flag_values": [
            0,
            1,
            2,
            3,
            4,
            5
           ],
           "long_name": "quality level of SST pixel",
           "size": 25920000,
           "valid_max": 5,
           "valid_min": 0
          },
          "dims": [
           "time",
           "lat",
           "lon"
          ],
          "dtype": "uint8",
          "name": "quality_level",
          "ndim": 3
         },
         {
          "attrs": {
           "_Unsigned": "false",
           "add_offset": 12.7,
           "chunk_sizes": [
            1,
            90,
            180
           ],
           "comment": "Wind speeds sourced from ECMWF ERA Interim Reanalysis; wind speeds greater than 25.4 m/s are set to 25.4.",
           "data_type": "uint8",
           "dimensions": [
            "time",
            "lat",
            "lon"
           ],
           "fill_value": -128,
           "height": "10 m",
           "long_name": "10m wind speed",
           "references": "http://www.esa-sst-cci.org",
           "scale_factor": 0.1,
           "size": 25920000,
           "source": "ERA_INTERIM-ECMWF-WSP-v1.0",
           "standard_name": "wind_speed",
           "time_offset": 0,
           "units": "m s-1",
           "valid_max": 127,
           "valid_min": -127
          },
          "dims": [
           "time",
           "lat",
           "lon"
          ],
          "dtype": "uint8",
          "name": "wind_speed",
          "ndim": 3
         },
         {
          "attrs": {
           "_Unsigned": "false",
           "chunk_sizes": [
            1,
            90,
            180
           ],
           "comment": "1. single view, two channel 2. single view, three channel 3. dual view, two channel 4. dual view, three channel 5. single view, 11 and 3.7 two channel",
           "data_type": "uint8",
           "dimensions": [
            "time",
            "lat",
            "lon"
           ],
           "fill_value": -128,
           "flag_meanings": "single_view_two_channel single_view_three_channel dual_view_two_channel dual_view_three_channel single_view_11_and_3.7_two_channel",
           "flag_values": [
            1,
            2,
            3,
            4,
            5
           ],
           "long_name": "Type of retrieval used for the primary SST",
           "size": 25920000,
           "valid_max": 5,
           "valid_min": 1
          },
          "dims": [
           "time",
           "lat",
           "lon"
          ],
          "dtype": "uint8",
          "name": "sea_surface_temperature_retrieval_type",
          "ndim": 3
         },
         {
          "attrs": {
           "_Unsigned": "false",
           "chunk_sizes": [
            1,
            90,
            180
           ],
           "comment": "For ATSRs, adjustment gives D2 (most consistent through time series) when D3 is provided as best. For AVHRRs, adjustment provides N2 when N3 is best. Reason for providing an alternative: can then use N2 or D2 consistently for whole record i",
           "data_type": "uint8",
           "dimensions": [
            "time",
            "lat",
            "lon"
           ],
           "fill_value": -128,
           "flag_meanings": "single_view_two_channel single_view_three_channel dual_view_two_channel dual_view_three_channel single_view_11_and_3.7_two_channel",
           "flag_values": [
            1,
            2,
            3,
            4,
            5
           ],
           "long_name": "Type of retrieval used for the alternate SST retrieval",
           "size": 25920000,
           "valid_max": 5,
           "valid_min": 1
          },
          "dims": [
           "time",
           "lat",
           "lon"
          ],
          "dtype": "uint8",
          "name": "alt_sst_retrieval_type",
          "ndim": 3
         },
         {
          "attrs": {
           "add_offset": 0,
           "chunk_sizes": [
            1,
            90,
            180
           ],
           "comment": "Component of uncertainty that is uncorrelated between SSTs; can be combined with other uncertainty estimates to form a total uncertainty",
           "data_type": "int16",
           "dimensions": [
            "time",
            "lat",
            "lon"
           ],
           "fill_value": -32768,
           "long_name": "Uncertainty from errors likely to be uncorrelated between SSTs",
           "references": "http://www.esa-sst-cci.org",
           "scale_factor": 0.001,
           "size": 25920000,
           "units": "kelvin",
           "valid_max": 5000,
           "valid_min": 0
          },
          "dims": [
           "time",
           "lat",
           "lon"
          ],
          "dtype": "int16",
          "name": "uncertainty_random",
          "ndim": 3
         },
         {
          "attrs": {
           "add_offset": 0,
           "chunk_sizes": [
            1,
            90,
            180
           ],
           "comment": "Component of uncertainty that is correlated over synoptic scales; can be combined with other uncertainty estimates to form a total uncertainty",
           "correlation_length_scale": "100 km",
           "correlation_time_scale": "1 day",
           "data_type": "int16",
           "dimensions": [
            "time",
            "lat",
            "lon"
           ],
           "fill_value": -32768,
           "long_name": "Uncertainty from errors likely to be correlated over synoptic scales",
           "references": "http://www.esa-sst-cci.org",
           "scale_factor": 0.001,
           "size": 25920000,
           "units": "kelvin",
           "valid_max": 5000,
           "valid_min": 0
          },
          "dims": [
           "time",
           "lat",
           "lon"
          ],
          "dtype": "int16",
          "name": "uncertainty_correlated",
          "ndim": 3
         },
         {
          "attrs": {
           "add_offset": 0,
           "chunk_sizes": [
            1,
            90,
            180
           ],
           "comment": "Component of uncertainty that is correlated over large scales; can be combined with other uncertainty estimates to form a total uncertainty",
           "data_type": "int16",
           "dimensions": [
            "time",
            "lat",
            "lon"
           ],
           "fill_value": -32768,
           "long_name": "Uncertainty from errors likely to be correlated over large scales",
           "references": "http://www.esa-sst-cci.org",
           "scale_factor": 0.001,
           "size": 25920000,
           "units": "kelvin",
           "valid_max": 5000,
           "valid_min": 0
          },
          "dims": [
           "time",
           "lat",
           "lon"
          ],
          "dtype": "int16",
          "name": "uncertainty_systematic",
          "ndim": 3
         },
         {
          "attrs": {
           "add_offset": 0,
           "chunk_sizes": [
            1,
            90,
            180
           ],
           "comment": "Adjustment uncertainty; can be combined with other uncertainty estimates to form a total uncertainty",
           "correlation_length_scale": "100 km",
           "correlation_time_scale": "1 day",
           "data_type": "int16",
           "dimensions": [
            "time",
            "lat",
            "lon"
           ],
           "fill_value": -32768,
           "long_name": "Time and depth adjustment uncertainty",
           "references": "http://www.esa-sst-cci.org",
           "scale_factor": 0.001,
           "size": 25920000,
           "units": "kelvin",
           "valid_max": 5000,
           "valid_min": 0
          },
          "dims": [
           "time",
           "lat",
           "lon"
          ],
          "dtype": "int16",
          "name": "uncertainty_correlated_time_and_depth_adjustment",
          "ndim": 3
         },
         {
          "attrs": {
           "add_offset": 0,
           "chunk_sizes": [
            1,
            90,
            180
           ],
           "comment": "Component of uncertainty in alternative SST retrieval that is uncorrelated between SSTs; can be combined with other uncertainty estimates to form a total uncertainty",
           "data_type": "int16",
           "dimensions": [
            "time",
            "lat",
            "lon"
           ],
           "fill_value": -32768,
           "long_name": "Uncertainty in alternative SST retrieval from errors likely to be uncorrelated between SSTs",
           "references": "http://www.esa-sst-cci.org",
           "scale_factor": 0.001,
           "size": 25920000,
           "units": "kelvin",
           "valid_max": 5000,
           "valid_min": 0
          },
          "dims": [
           "time",
           "lat",
           "lon"
          ],
          "dtype": "int16",
          "name": "uncertainty_random_alt",
          "ndim": 3
         },
         {
          "attrs": {
           "add_offset": 0,
           "chunk_sizes": [
            1,
            90,
            180
           ],
           "comment": "Component of uncertainty in alternative SST retrieval that is correlated over synoptic scales; can be combined with other uncertainty estimates to form a total uncertainty",
           "correlation_length_scale": "100 km",
           "correlation_time_scale": "1 day",
           "data_type": "int16",
           "dimensions": [
            "time",
            "lat",
            "lon"
           ],
           "fill_value": -32768,
           "long_name": "Uncertainty in alternative SST retrieval from errors likely to be correlated over synoptic scales",
           "references": "http://www.esa-sst-cci.org",
           "scale_factor": 0.001,
           "size": 25920000,
           "units": "kelvin",
           "valid_max": 5000,
           "valid_min": 0
          },
          "dims": [
           "time",
           "lat",
           "lon"
          ],
          "dtype": "int16",
          "name": "uncertainty_correlated_alt",
          "ndim": 3
         },
         {
          "attrs": {
           "add_offset": 0,
           "chunk_sizes": [
            1,
            90,
            180
           ],
           "comment": "Component of uncertainty in alternative SST retrieval that is correlated over large scales; can be combined with other uncertainty estimates to form a total uncertainty",
           "data_type": "int16",
           "dimensions": [
            "time",
            "lat",
            "lon"
           ],
           "fill_value": -32768,
           "long_name": "Uncertainty in alternative SST retrieval from errors likely to be correlated over large scales",
           "references": "http://www.esa-sst-cci.org",
           "scale_factor": 0.001,
           "size": 25920000,
           "units": "kelvin",
           "valid_max": 5000,
           "valid_min": 0
          },
          "dims": [
           "time",
           "lat",
           "lon"
          ],
          "dtype": "int16",
          "name": "uncertainty_systematic_alt",
          "ndim": 3
         },
         {
          "attrs": {
           "add_offset": 0,
           "chunk_sizes": [
            1,
            90,
            180
           ],
           "comment": "Sensitivity of the retrieval to actual changes in sea surface temperature",
           "data_type": "int16",
           "dimensions": [
            "time",
            "lat",
            "lon"
           ],
           "fill_value": -32768,
           "long_name": "Sensitivity of the retrieval to actual changes in sea surface temperature",
           "scale_factor": 0.001,
           "size": 25920000,
           "units": "K/K",
           "valid_max": 1100,
           "valid_min": 0
          },
          "dims": [
           "time",
           "lat",
           "lon"
          ],
          "dtype": "int16",
          "name": "sst_sensitivity",
          "ndim": 3
         },
         {
          "attrs": {
           "add_offset": 0,
           "chunk_sizes": [
            1,
            90,
            180
           ],
           "comment": "If not applied, fill with zeros to indicate independence from in situ",
           "data_type": "int16",
           "dimensions": [
            "time",
            "lat",
            "lon"
           ],
           "fill_value": -32768,
           "long_name": "Adjustment, based on comparison to in situ data",
           "scale_factor": 0.01,
           "size": 25920000,
           "units": "kelvin",
           "valid_max": 1000,
           "valid_min": -1000
          },
          "dims": [
           "time",
           "lat",
           "lon"
          ],
          "dtype": "int16",
          "name": "empirical_adjustment",
          "ndim": 3
         }
        ],
        "dims": {
         "bnds": 2,
         "lat": 3600,
         "lon": 7200,
         "time": 1
        },
        "open_params_schema": {
         "additionalProperties": false,
         "properties": {
          "bbox": {
           "items": [
            {
             "maximum": 180,
             "minimum": -180,
             "type": "number"
            },
            {
             "maximum": 90,
             "minimum": -90,
             "type": "number"
            },
            {
             "maximum": 180,
             "minimum": -180,
             "type": "number"
            },
            {
             "maximum": 90,
             "minimum": -90,
             "type": "number"
            }
           ],
           "type": "array"
          },
          "crs": {
           "const": "WGS84",
           "type": "string"
          },
          "spatial_res": {
           "const": 0.05,
           "type": "number"
          },
          "time_period": {
           "const": "1D",
           "type": "string"
          },
          "time_range": {
           "items": [
            {
             "format": "date",
             "maxDate": "2016-12-31",
             "minDate": "1981-08-23",
             "type": "string"
            },
            {
             "format": "date",
             "maxDate": "2016-12-31",
             "minDate": "1981-08-23",
             "type": "string"
            }
           ],
           "type": "array"
          },
          "variable_names": {
           "items": {
            "enum": [
             "sea_surface_temperature",
             "sea_surface_temperature_depth",
             "sea_surface_temperature_depth_anomaly",
             "sst_dtime",
             "sst_depth_dtime",
             "sses_bias",
             "sses_standard_deviation",
             "sea_surface_temperature_total_uncertainty",
             "sea_surface_temperature_depth_total_uncertainty",
             "depth_adjustment",
             "adjustment_alt",
             "l2p_flags",
             "quality_level",
             "wind_speed",
             "sea_surface_temperature_retrieval_type",
             "alt_sst_retrieval_type",
             "uncertainty_random",
             "uncertainty_correlated",
             "uncertainty_systematic",
             "uncertainty_correlated_time_and_depth_adjustment",
             "uncertainty_random_alt",
             "uncertainty_correlated_alt",
             "uncertainty_systematic_alt",
             "sst_sensitivity",
             "empirical_adjustment"
            ],
            "type": "string"
           },
           "type": "array"
          }
         },
         "type": "object"
        },
        "spatial_res": 0.05,
        "time_period": "1D",
        "time_range": [
         "1981-08-23",
         "2016-12-31"
        ],
        "type_specifier": "dataset"
       },
       {
        "attrs": {
         "abstract": "This v2.1 SST_cci Advanced Very High Resolution Radiometer (AVHRR) Level 3 Collated (L3C) Climate Data Record (CDR) consists of stable, low-bias sea surface temperature (SST) data from the AVHRR series of satellite instruments.  It covers the period between 08/1981 and 12/2016.  This L3C product provides these SST data on a 0.05 regular latitude-longitude grid and collated to include all orbits for a day (separated into daytime and nighttime files).\n\nThe dataset has been produced as part of the European Space Agency (ESA) Climate Change Initiative Sea Surface Temperature project(ESA SST_cci). The data products from SST_cci accurately map the surface temperature of the global oceans over the period 1981 to 2016 using observations from many satellites. The data provide independently quantified SSTs to a quality suitable for climate research.\n\nThis CDR Version 2.1 product supercedes the CDR Version 2.0 product.  Data are made freely and openly available under a Creative Commons License by Attribution (CC By 4.0) https://creativecommons.org/licenses/by/4.0/ .\n\nWhen citing this dataset please also cite the associated data paper: Merchant, C.J., Embury, O., Bulgin, C.E., Block T., Corlett, G.K., Fiedler, E., Good, S.A., Mittaz, J., Rayner, N.A., Berry, D., Eastwood, S., Taylor, M., Tsushima, Y., Waterfall, A., Wilson, R., Donlon, C. Satellite-based time-series of sea-surface temperature since 1981 for climate applications, Scientific Data 6:223 (2019). http://doi.org/10.1038/s41597-019-0236-x",
         "bbox_maxx": "180.0",
         "bbox_maxy": "90.0",
         "bbox_minx": "-180.0",
         "bbox_miny": "-90.0",
         "cci_project": "SST",
         "creation_date": "2019-08-02T20:01:15",
         "data_type": "SSTskin",
         "drs_ids": [
          "esacci.SST.day.L3C.SSTskin.AVHRR-3.NOAA-15.AVHRR15_G.2-1.day",
          "esacci.SST.day.L3C.SSTskin.AVHRR-3.NOAA-15.AVHRR15_G.2-1.night",
          "esacci.SST.day.L3C.SSTskin.AVHRR-3.Metop-A.AVHRRMTA_G.2-1.day",
          "esacci.SST.day.L3C.SSTskin.AVHRR-3.Metop-A.AVHRRMTA_G.2-1.night",
          "esacci.SST.day.L3C.SSTskin.AVHRR-3.NOAA-19.AVHRR19_G.2-1.day",
          "esacci.SST.day.L3C.SSTskin.AVHRR-3.NOAA-19.AVHRR19_G.2-1.night",
          "esacci.SST.day.L3C.SSTskin.AVHRR-3.NOAA-17.AVHRR17_G.2-1.day",
          "esacci.SST.day.L3C.SSTskin.AVHRR-3.NOAA-17.AVHRR17_G.2-1.night",
          "esacci.SST.day.L3C.SSTskin.AVHRR-2.NOAA-12.AVHRR12_G.2-1.day",
          "esacci.SST.day.L3C.SSTskin.AVHRR-2.NOAA-12.AVHRR12_G.2-1.night",
          "esacci.SST.day.L3C.SSTskin.AVHRR-2.NOAA-11.AVHRR11_G.2-1.day",
          "esacci.SST.day.L3C.SSTskin.AVHRR-2.NOAA-11.AVHRR11_G.2-1.night",
          "esacci.SST.day.L3C.SSTskin.AVHRR-2.NOAA-14.AVHRR14_G.2-1.day",
          "esacci.SST.day.L3C.SSTskin.AVHRR-2.NOAA-14.AVHRR14_G.2-1.night",
          "esacci.SST.day.L3C.SSTskin.AVHRR-3.NOAA-18.AVHRR18_G.2-1.day",
          "esacci.SST.day.L3C.SSTskin.AVHRR-3.NOAA-18.AVHRR18_G.2-1.night",
          "esacci.SST.day.L3C.SSTskin.AVHRR-2.NOAA-9.AVHRR09_G.2-1.day",
          "esacci.SST.day.L3C.SSTskin.AVHRR-2.NOAA-9.AVHRR09_G.2-1.night",
          "esacci.SST.day.L3C.SSTskin.AVHRR-3.NOAA-16.AVHRR16_G.2-1.day",
          "esacci.SST.day.L3C.SSTskin.AVHRR-3.NOAA-16.AVHRR16_G.2-1.night",
          "esacci.SST.day.L3C.SSTskin.AVHRR-2.NOAA-7.AVHRR07_G.2-1.day",
          "esacci.SST.day.L3C.SSTskin.AVHRR-2.NOAA-7.AVHRR07_G.2-1.night"
         ],
         "ecv": "SST",
         "fid": "7db4459605da4665b6ab9a7102fb4875",
         "file_formats": [
          ".nc",
          ".txt"
         ],
         "institute": "ESACCI_SST",
         "licences": "Use of these data is covered by the following licence: https://artefacts.ceda.ac.uk/licences/specific_licences/esacci_sst_terms_and_conditions_v2.pdf . When using these data you must cite them correctly using the citation given on the CEDA Data Catalogue record.",
         "metadata_url": "https://catalogue.ceda.ac.uk/export/xml/7db4459605da4665b6ab9a7102fb4875.xml",
         "odd_url": "http://archive.opensearch.ceda.ac.uk/opensearch/description.xml?parentIdentifier=7db4459605da4665b6ab9a7102fb4875",
         "platform_id": "NOAA-11",
         "processing_level": "L3C",
         "product_string": "AVHRR11_G",
         "product_version": "2-1",
         "publication_date": "2019-08-02T20:01:15",
         "sensor_id": "AVHRR-2",
         "temporal_coverage_end": "2016-12-31T23:59:59",
         "temporal_coverage_start": "1981-08-23T23:00:00",
         "time_frequency": "day",
         "title": "ESA Sea Surface Temperature Climate Change Initiative (SST_cci): Advanced Very High Resolution Radiometer (AVHRR) Level 3 Collated (L3C) Climate Data Record, version 2.1",
         "uuid": "7db4459605da4665b6ab9a7102fb4875"
        },
        "bbox": [
         -180,
         -90,
         180,
         90
        ],
        "data_id": "esacci.SST.day.L3C.SSTskin.AVHRR-2.NOAA-11.AVHRR11_G.2-1.night",
        "data_vars": [
         {
          "attrs": {
           "add_offset": 273.15,
           "chunk_sizes": [
            1,
            90,
            180
           ],
           "comment": "Temperature of the skin of the ocean; total uncertainty = sqrt(uncertainty_systematic^2+uncertainty_correlated^2+uncertainty_random^2)",
           "data_type": "int16",
           "depth": "10 micrometres",
           "dimensions": [
            "time",
            "lat",
            "lon"
           ],
           "fill_value": -32768,
           "long_name": "sea surface skin temperature",
           "references": "http://www.esa-sst-cci.org",
           "scale_factor": 0.01,
           "size": 25920000,
           "source": "AVHRR07_G-ESACCI-L1C-v1",
           "standard_name": "sea_surface_skin_temperature",
           "units": "kelvin",
           "valid_max": 5000,
           "valid_min": -200
          },
          "dims": [
           "time",
           "lat",
           "lon"
          ],
          "dtype": "int16",
          "name": "sea_surface_temperature",
          "ndim": 3
         },
         {
          "attrs": {
           "add_offset": 273.15,
           "chunk_sizes": [
            1,
            90,
            180
           ],
           "comment": "Temperature of the ocean at 20 cm depth; total uncertainty = sqrt(uncertainty_systematic^2+uncertainty_correlated^2+uncertainty_random^2+uncertainty_correlated_time_and_depth_adjustment^2)",
           "data_type": "int16",
           "depth": "0.2 metre",
           "dimensions": [
            "time",
            "lat",
            "lon"
           ],
           "fill_value": -32768,
           "long_name": "sea surface temperature at 0.2 m",
           "references": "http://www.esa-sst-cci.org",
           "scale_factor": 0.01,
           "size": 25920000,
           "source": "AVHRR07_G-ESACCI-L1C-v1",
           "standard_name": "sea_water_temperature",
           "units": "kelvin",
           "valid_max": 5000,
           "valid_min": -200
          },
          "dims": [
           "time",
           "lat",
           "lon"
          ],
          "dtype": "int16",
          "name": "sea_surface_temperature_depth",
          "ndim": 3
         },
         {
          "attrs": {
           "add_offset": 0,
           "chunk_sizes": [
            1,
            90,
            180
           ],
           "comment": "Temperature of the ocean at 20 cm depth; total uncertainty = sqrt(uncertainty_systematic^2+uncertainty_correlated^2+uncertainty_random^2+uncertainty_correlated_time_and_depth_adjustment^2)",
           "data_type": "int16",
           "depth": "0.2 metre",
           "dimensions": [
            "time",
            "lat",
            "lon"
           ],
           "fill_value": -32768,
           "long_name": "sea surface temperature anomaly at 0.2 m",
           "references": "http://www.esa-sst-cci.org",
           "scale_factor": 0.01,
           "size": 25920000,
           "source": "AVHRR07_G-ESACCI-L1C-v1",
           "standard_name": "sea_water_temperature_anomaly",
           "units": "kelvin",
           "valid_max": 4000,
           "valid_min": -4000
          },
          "dims": [
           "time",
           "lat",
           "lon"
          ],
          "dtype": "int16",
          "name": "sea_surface_temperature_depth_anomaly",
          "ndim": 3
         },
         {
          "attrs": {
           "add_offset": 0,
           "chunk_sizes": [
            1,
            90,
            180
           ],
           "comment": "time plus sst_dtime gives seconds after 1981-01-01 00:00:00",
           "data_type": "int32",
           "dimensions": [
            "time",
            "lat",
            "lon"
           ],
           "fill_value": -2147483648,
           "long_name": "time difference from reference time",
           "scale_factor": 1,
           "size": 25920000,
           "units": "seconds",
           "valid_max": 43200,
           "valid_min": -43200
          },
          "dims": [
           "time",
           "lat",
           "lon"
          ],
          "dtype": "int32",
          "name": "sst_dtime",
          "ndim": 3
         },
         {
          "attrs": {
           "add_offset": 0,
           "chunk_sizes": [
            1,
            90,
            180
           ],
           "comment": "time plus sst_depth_dtime gives seconds after 1981-01-01 00:00:00",
           "data_type": "int32",
           "dimensions": [
            "time",
            "lat",
            "lon"
           ],
           "fill_value": -2147483648,
           "long_name": "time difference from reference time",
           "scale_factor": 1,
           "size": 25920000,
           "units": "seconds",
           "valid_max": 43200,
           "valid_min": -43200
          },
          "dims": [
           "time",
           "lat",
           "lon"
          ],
          "dtype": "int32",
          "name": "sst_depth_dtime",
          "ndim": 3
         },
         {
          "attrs": {
           "_Unsigned": "false",
           "add_offset": 0,
           "chunk_sizes": [
            1,
            90,
            180
           ],
           "comment": "Populated with zeroes",
           "data_type": "uint8",
           "dimensions": [
            "time",
            "lat",
            "lon"
           ],
           "fill_value": -128,
           "long_name": "SSES bias estimate",
           "scale_factor": 0.01,
           "size": 25920000,
           "units": "kelvin",
           "valid_max": 127,
           "valid_min": -127
          },
          "dims": [
           "time",
           "lat",
           "lon"
          ],
          "dtype": "uint8",
          "name": "sses_bias",
          "ndim": 3
         },
         {
          "attrs": {
           "_Unsigned": "false",
           "add_offset": 1.27,
           "chunk_sizes": [
            1,
            90,
            180
           ],
           "comment": "Uncertainty information is contained in the variables uncertainty_systematic, uncertainty_correlated, and uncertainty_random",
           "data_type": "uint8",
           "dimensions": [
            "time",
            "lat",
            "lon"
           ],
           "fill_value": -128,
           "long_name": "SSES standard deviation",
           "scale_factor": 0.01,
           "size": 25920000,
           "units": "kelvin",
           "valid_max": 127,
           "valid_min": -127
          },
          "dims": [
           "time",
           "lat",
           "lon"
          ],
          "dtype": "uint8",
          "name": "sses_standard_deviation",
          "ndim": 3
         },
         {
          "attrs": {
           "add_offset": 0,
           "chunk_sizes": [
            1,
            90,
            180
           ],
           "comment": "Total uncertainty in each sea_surface_temperature data point",
           "data_type": "int16",
           "dimensions": [
            "time",
            "lat",
            "lon"
           ],
           "fill_value": -32768,
           "long_name": "Total uncertainty in sea_surface_temperature",
           "scale_factor": 0.001,
           "size": 25920000,
           "units": "kelvin",
           "valid_max": 5000,
           "valid_min": 0
          },
          "dims": [
           "time",
           "lat",
           "lon"
          ],
          "dtype": "int16",
          "name": "sea_surface_temperature_total_uncertainty",
          "ndim": 3
         },
         {
          "attrs": {
           "add_offset": 0,
           "chunk_sizes": [
            1,
            90,
            180
           ],
           "comment": "Total uncertainty in each sea_surface_temperature_depth data point",
           "data_type": "int16",
           "dimensions": [
            "time",
            "lat",
            "lon"
           ],
           "fill_value": -32768,
           "long_name": "Total uncertainty in sea_surface_temperature_depth",
           "scale_factor": 0.001,
           "size": 25920000,
           "units": "kelvin",
           "valid_max": 5000,
           "valid_min": 0
          },
          "dims": [
           "time",
           "lat",
           "lon"
          ],
          "dtype": "int16",
          "name": "sea_surface_temperature_depth_total_uncertainty",
          "ndim": 3
         },
         {
          "attrs": {
           "add_offset": 0,
           "chunk_sizes": [
            1,
            90,
            180
           ],
           "comment": "Add to sea_surface_temperature, if SST at 20cm at observation time is required",
           "data_type": "int16",
           "dimensions": [
            "time",
            "lat",
            "lon"
           ],
           "fill_value": -32768,
           "long_name": "Adjustment to sea surface temperature at 0.2 m",
           "scale_factor": 0.01,
           "size": 25920000,
           "units": "kelvin",
           "valid_max": 1000,
           "valid_min": -1000
          },
          "dims": [
           "time",
           "lat",
           "lon"
          ],
          "dtype": "int16",
          "name": "depth_adjustment",
          "ndim": 3
         },
         {
          "attrs": {
           "add_offset": 0,
           "chunk_sizes": [
            1,
            90,
            180
           ],
           "comment": "Add to sea_surface_temperature, if alternative SST retrieval is required",
           "data_type": "int16",
           "dimensions": [
            "time",
            "lat",
            "lon"
           ],
           "fill_value": -32768,
           "long_name": "Adjustment to alternative sea surface temperature retrieval",
           "scale_factor": 0.01,
           "size": 25920000,
           "units": "kelvin",
           "valid_max": 1000,
           "valid_min": -1000
          },
          "dims": [
           "time",
           "lat",
           "lon"
          ],
          "dtype": "int16",
          "name": "adjustment_alt",
          "ndim": 3
         },
         {
          "attrs": {
           "chunk_sizes": [
            1,
            90,
            180
           ],
           "comment": "These flags are important to properly use the data",
           "data_type": "int16",
           "dimensions": [
            "time",
            "lat",
            "lon"
           ],
           "fill_value": -32768,
           "flag_masks": [
            1,
            2,
            4,
            8,
            16,
            32,
            64,
            128,
            256
           ],
           "flag_meanings": "microwave land ice lake river spare views channels day",
           "long_name": "L2P flags",
           "size": 25920000,
           "valid_max": 511,
           "valid_min": 0
          },
          "dims": [
           "time",
           "lat",
           "lon"
          ],
          "dtype": "int16",
          "name": "l2p_flags",
          "ndim": 3
         },
         {
          "attrs": {
           "_Unsigned": "false",
           "chunk_sizes": [
            1,
            90,
            180
           ],
           "comment": "These are overall quality indicators and are used for all GHRSST SSTs",
           "data_type": "uint8",
           "dimensions": [
            "time",
            "lat",
            "lon"
           ],
           "fill_value": 0,
           "flag_meanings": "no_data bad_data worst_quality low_quality acceptable_quality best_quality",
           "flag_values": [
            0,
            1,
            2,
            3,
            4,
            5
           ],
           "long_name": "quality level of SST pixel",
           "size": 25920000,
           "valid_max": 5,
           "valid_min": 0
          },
          "dims": [
           "time",
           "lat",
           "lon"
          ],
          "dtype": "uint8",
          "name": "quality_level",
          "ndim": 3
         },
         {
          "attrs": {
           "_Unsigned": "false",
           "add_offset": 12.7,
           "chunk_sizes": [
            1,
            90,
            180
           ],
           "comment": "Wind speeds sourced from ECMWF ERA Interim Reanalysis; wind speeds greater than 25.4 m/s are set to 25.4.",
           "data_type": "uint8",
           "dimensions": [
            "time",
            "lat",
            "lon"
           ],
           "fill_value": -128,
           "height": "10 m",
           "long_name": "10m wind speed",
           "references": "http://www.esa-sst-cci.org",
           "scale_factor": 0.1,
           "size": 25920000,
           "source": "ERA_INTERIM-ECMWF-WSP-v1.0",
           "standard_name": "wind_speed",
           "time_offset": 0,
           "units": "m s-1",
           "valid_max": 127,
           "valid_min": -127
          },
          "dims": [
           "time",
           "lat",
           "lon"
          ],
          "dtype": "uint8",
          "name": "wind_speed",
          "ndim": 3
         },
         {
          "attrs": {
           "_Unsigned": "false",
           "chunk_sizes": [
            1,
            90,
            180
           ],
           "comment": "1. single view, two channel 2. single view, three channel 3. dual view, two channel 4. dual view, three channel 5. single view, 11 and 3.7 two channel",
           "data_type": "uint8",
           "dimensions": [
            "time",
            "lat",
            "lon"
           ],
           "fill_value": -128,
           "flag_meanings": "single_view_two_channel single_view_three_channel dual_view_two_channel dual_view_three_channel single_view_11_and_3.7_two_channel",
           "flag_values": [
            1,
            2,
            3,
            4,
            5
           ],
           "long_name": "Type of retrieval used for the primary SST",
           "size": 25920000,
           "valid_max": 5,
           "valid_min": 1
          },
          "dims": [
           "time",
           "lat",
           "lon"
          ],
          "dtype": "uint8",
          "name": "sea_surface_temperature_retrieval_type",
          "ndim": 3
         },
         {
          "attrs": {
           "_Unsigned": "false",
           "chunk_sizes": [
            1,
            90,
            180
           ],
           "comment": "For ATSRs, adjustment gives D2 (most consistent through time series) when D3 is provided as best. For AVHRRs, adjustment provides N2 when N3 is best. Reason for providing an alternative: can then use N2 or D2 consistently for whole record i",
           "data_type": "uint8",
           "dimensions": [
            "time",
            "lat",
            "lon"
           ],
           "fill_value": -128,
           "flag_meanings": "single_view_two_channel single_view_three_channel dual_view_two_channel dual_view_three_channel single_view_11_and_3.7_two_channel",
           "flag_values": [
            1,
            2,
            3,
            4,
            5
           ],
           "long_name": "Type of retrieval used for the alternate SST retrieval",
           "size": 25920000,
           "valid_max": 5,
           "valid_min": 1
          },
          "dims": [
           "time",
           "lat",
           "lon"
          ],
          "dtype": "uint8",
          "name": "alt_sst_retrieval_type",
          "ndim": 3
         },
         {
          "attrs": {
           "add_offset": 0,
           "chunk_sizes": [
            1,
            90,
            180
           ],
           "comment": "Component of uncertainty that is uncorrelated between SSTs; can be combined with other uncertainty estimates to form a total uncertainty",
           "data_type": "int16",
           "dimensions": [
            "time",
            "lat",
            "lon"
           ],
           "fill_value": -32768,
           "long_name": "Uncertainty from errors likely to be uncorrelated between SSTs",
           "references": "http://www.esa-sst-cci.org",
           "scale_factor": 0.001,
           "size": 25920000,
           "units": "kelvin",
           "valid_max": 5000,
           "valid_min": 0
          },
          "dims": [
           "time",
           "lat",
           "lon"
          ],
          "dtype": "int16",
          "name": "uncertainty_random",
          "ndim": 3
         },
         {
          "attrs": {
           "add_offset": 0,
           "chunk_sizes": [
            1,
            90,
            180
           ],
           "comment": "Component of uncertainty that is correlated over synoptic scales; can be combined with other uncertainty estimates to form a total uncertainty",
           "correlation_length_scale": "100 km",
           "correlation_time_scale": "1 day",
           "data_type": "int16",
           "dimensions": [
            "time",
            "lat",
            "lon"
           ],
           "fill_value": -32768,
           "long_name": "Uncertainty from errors likely to be correlated over synoptic scales",
           "references": "http://www.esa-sst-cci.org",
           "scale_factor": 0.001,
           "size": 25920000,
           "units": "kelvin",
           "valid_max": 5000,
           "valid_min": 0
          },
          "dims": [
           "time",
           "lat",
           "lon"
          ],
          "dtype": "int16",
          "name": "uncertainty_correlated",
          "ndim": 3
         },
         {
          "attrs": {
           "add_offset": 0,
           "chunk_sizes": [
            1,
            90,
            180
           ],
           "comment": "Component of uncertainty that is correlated over large scales; can be combined with other uncertainty estimates to form a total uncertainty",
           "data_type": "int16",
           "dimensions": [
            "time",
            "lat",
            "lon"
           ],
           "fill_value": -32768,
           "long_name": "Uncertainty from errors likely to be correlated over large scales",
           "references": "http://www.esa-sst-cci.org",
           "scale_factor": 0.001,
           "size": 25920000,
           "units": "kelvin",
           "valid_max": 5000,
           "valid_min": 0
          },
          "dims": [
           "time",
           "lat",
           "lon"
          ],
          "dtype": "int16",
          "name": "uncertainty_systematic",
          "ndim": 3
         },
         {
          "attrs": {
           "add_offset": 0,
           "chunk_sizes": [
            1,
            90,
            180
           ],
           "comment": "Adjustment uncertainty; can be combined with other uncertainty estimates to form a total uncertainty",
           "correlation_length_scale": "100 km",
           "correlation_time_scale": "1 day",
           "data_type": "int16",
           "dimensions": [
            "time",
            "lat",
            "lon"
           ],
           "fill_value": -32768,
           "long_name": "Time and depth adjustment uncertainty",
           "references": "http://www.esa-sst-cci.org",
           "scale_factor": 0.001,
           "size": 25920000,
           "units": "kelvin",
           "valid_max": 5000,
           "valid_min": 0
          },
          "dims": [
           "time",
           "lat",
           "lon"
          ],
          "dtype": "int16",
          "name": "uncertainty_correlated_time_and_depth_adjustment",
          "ndim": 3
         },
         {
          "attrs": {
           "add_offset": 0,
           "chunk_sizes": [
            1,
            90,
            180
           ],
           "comment": "Component of uncertainty in alternative SST retrieval that is uncorrelated between SSTs; can be combined with other uncertainty estimates to form a total uncertainty",
           "data_type": "int16",
           "dimensions": [
            "time",
            "lat",
            "lon"
           ],
           "fill_value": -32768,
           "long_name": "Uncertainty in alternative SST retrieval from errors likely to be uncorrelated between SSTs",
           "references": "http://www.esa-sst-cci.org",
           "scale_factor": 0.001,
           "size": 25920000,
           "units": "kelvin",
           "valid_max": 5000,
           "valid_min": 0
          },
          "dims": [
           "time",
           "lat",
           "lon"
          ],
          "dtype": "int16",
          "name": "uncertainty_random_alt",
          "ndim": 3
         },
         {
          "attrs": {
           "add_offset": 0,
           "chunk_sizes": [
            1,
            90,
            180
           ],
           "comment": "Component of uncertainty in alternative SST retrieval that is correlated over synoptic scales; can be combined with other uncertainty estimates to form a total uncertainty",
           "correlation_length_scale": "100 km",
           "correlation_time_scale": "1 day",
           "data_type": "int16",
           "dimensions": [
            "time",
            "lat",
            "lon"
           ],
           "fill_value": -32768,
           "long_name": "Uncertainty in alternative SST retrieval from errors likely to be correlated over synoptic scales",
           "references": "http://www.esa-sst-cci.org",
           "scale_factor": 0.001,
           "size": 25920000,
           "units": "kelvin",
           "valid_max": 5000,
           "valid_min": 0
          },
          "dims": [
           "time",
           "lat",
           "lon"
          ],
          "dtype": "int16",
          "name": "uncertainty_correlated_alt",
          "ndim": 3
         },
         {
          "attrs": {
           "add_offset": 0,
           "chunk_sizes": [
            1,
            90,
            180
           ],
           "comment": "Component of uncertainty in alternative SST retrieval that is correlated over large scales; can be combined with other uncertainty estimates to form a total uncertainty",
           "data_type": "int16",
           "dimensions": [
            "time",
            "lat",
            "lon"
           ],
           "fill_value": -32768,
           "long_name": "Uncertainty in alternative SST retrieval from errors likely to be correlated over large scales",
           "references": "http://www.esa-sst-cci.org",
           "scale_factor": 0.001,
           "size": 25920000,
           "units": "kelvin",
           "valid_max": 5000,
           "valid_min": 0
          },
          "dims": [
           "time",
           "lat",
           "lon"
          ],
          "dtype": "int16",
          "name": "uncertainty_systematic_alt",
          "ndim": 3
         },
         {
          "attrs": {
           "add_offset": 0,
           "chunk_sizes": [
            1,
            90,
            180
           ],
           "comment": "Sensitivity of the retrieval to actual changes in sea surface temperature",
           "data_type": "int16",
           "dimensions": [
            "time",
            "lat",
            "lon"
           ],
           "fill_value": -32768,
           "long_name": "Sensitivity of the retrieval to actual changes in sea surface temperature",
           "scale_factor": 0.001,
           "size": 25920000,
           "units": "K/K",
           "valid_max": 1100,
           "valid_min": 0
          },
          "dims": [
           "time",
           "lat",
           "lon"
          ],
          "dtype": "int16",
          "name": "sst_sensitivity",
          "ndim": 3
         },
         {
          "attrs": {
           "add_offset": 0,
           "chunk_sizes": [
            1,
            90,
            180
           ],
           "comment": "If not applied, fill with zeros to indicate independence from in situ",
           "data_type": "int16",
           "dimensions": [
            "time",
            "lat",
            "lon"
           ],
           "fill_value": -32768,
           "long_name": "Adjustment, based on comparison to in situ data",
           "scale_factor": 0.01,
           "size": 25920000,
           "units": "kelvin",
           "valid_max": 1000,
           "valid_min": -1000
          },
          "dims": [
           "time",
           "lat",
           "lon"
          ],
          "dtype": "int16",
          "name": "empirical_adjustment",
          "ndim": 3
         }
        ],
        "dims": {
         "bnds": 2,
         "lat": 3600,
         "lon": 7200,
         "time": 1
        },
        "open_params_schema": {
         "additionalProperties": false,
         "properties": {
          "bbox": {
           "items": [
            {
             "maximum": 180,
             "minimum": -180,
             "type": "number"
            },
            {
             "maximum": 90,
             "minimum": -90,
             "type": "number"
            },
            {
             "maximum": 180,
             "minimum": -180,
             "type": "number"
            },
            {
             "maximum": 90,
             "minimum": -90,
             "type": "number"
            }
           ],
           "type": "array"
          },
          "crs": {
           "const": "WGS84",
           "type": "string"
          },
          "spatial_res": {
           "const": 0.05,
           "type": "number"
          },
          "time_period": {
           "const": "1D",
           "type": "string"
          },
          "time_range": {
           "items": [
            {
             "format": "date",
             "maxDate": "2016-12-31",
             "minDate": "1981-08-23",
             "type": "string"
            },
            {
             "format": "date",
             "maxDate": "2016-12-31",
             "minDate": "1981-08-23",
             "type": "string"
            }
           ],
           "type": "array"
          },
          "variable_names": {
           "items": {
            "enum": [
             "sea_surface_temperature",
             "sea_surface_temperature_depth",
             "sea_surface_temperature_depth_anomaly",
             "sst_dtime",
             "sst_depth_dtime",
             "sses_bias",
             "sses_standard_deviation",
             "sea_surface_temperature_total_uncertainty",
             "sea_surface_temperature_depth_total_uncertainty",
             "depth_adjustment",
             "adjustment_alt",
             "l2p_flags",
             "quality_level",
             "wind_speed",
             "sea_surface_temperature_retrieval_type",
             "alt_sst_retrieval_type",
             "uncertainty_random",
             "uncertainty_correlated",
             "uncertainty_systematic",
             "uncertainty_correlated_time_and_depth_adjustment",
             "uncertainty_random_alt",
             "uncertainty_correlated_alt",
             "uncertainty_systematic_alt",
             "sst_sensitivity",
             "empirical_adjustment"
            ],
            "type": "string"
           },
           "type": "array"
          }
         },
         "type": "object"
        },
        "spatial_res": 0.05,
        "time_period": "1D",
        "time_range": [
         "1981-08-23",
         "2016-12-31"
        ],
        "type_specifier": "dataset"
       },
       {
        "attrs": {
         "abstract": "This v2.1 SST_cci Advanced Very High Resolution Radiometer (AVHRR) Level 3 Collated (L3C) Climate Data Record (CDR) consists of stable, low-bias sea surface temperature (SST) data from the AVHRR series of satellite instruments.  It covers the period between 08/1981 and 12/2016.  This L3C product provides these SST data on a 0.05 regular latitude-longitude grid and collated to include all orbits for a day (separated into daytime and nighttime files).\n\nThe dataset has been produced as part of the European Space Agency (ESA) Climate Change Initiative Sea Surface Temperature project(ESA SST_cci). The data products from SST_cci accurately map the surface temperature of the global oceans over the period 1981 to 2016 using observations from many satellites. The data provide independently quantified SSTs to a quality suitable for climate research.\n\nThis CDR Version 2.1 product supercedes the CDR Version 2.0 product.  Data are made freely and openly available under a Creative Commons License by Attribution (CC By 4.0) https://creativecommons.org/licenses/by/4.0/ .\n\nWhen citing this dataset please also cite the associated data paper: Merchant, C.J., Embury, O., Bulgin, C.E., Block T., Corlett, G.K., Fiedler, E., Good, S.A., Mittaz, J., Rayner, N.A., Berry, D., Eastwood, S., Taylor, M., Tsushima, Y., Waterfall, A., Wilson, R., Donlon, C. Satellite-based time-series of sea-surface temperature since 1981 for climate applications, Scientific Data 6:223 (2019). http://doi.org/10.1038/s41597-019-0236-x",
         "bbox_maxx": "180.0",
         "bbox_maxy": "90.0",
         "bbox_minx": "-180.0",
         "bbox_miny": "-90.0",
         "cci_project": "SST",
         "creation_date": "2019-08-02T20:01:15",
         "data_type": "SSTskin",
         "drs_ids": [
          "esacci.SST.day.L3C.SSTskin.AVHRR-3.NOAA-15.AVHRR15_G.2-1.day",
          "esacci.SST.day.L3C.SSTskin.AVHRR-3.NOAA-15.AVHRR15_G.2-1.night",
          "esacci.SST.day.L3C.SSTskin.AVHRR-3.Metop-A.AVHRRMTA_G.2-1.day",
          "esacci.SST.day.L3C.SSTskin.AVHRR-3.Metop-A.AVHRRMTA_G.2-1.night",
          "esacci.SST.day.L3C.SSTskin.AVHRR-3.NOAA-19.AVHRR19_G.2-1.day",
          "esacci.SST.day.L3C.SSTskin.AVHRR-3.NOAA-19.AVHRR19_G.2-1.night",
          "esacci.SST.day.L3C.SSTskin.AVHRR-3.NOAA-17.AVHRR17_G.2-1.day",
          "esacci.SST.day.L3C.SSTskin.AVHRR-3.NOAA-17.AVHRR17_G.2-1.night",
          "esacci.SST.day.L3C.SSTskin.AVHRR-2.NOAA-12.AVHRR12_G.2-1.day",
          "esacci.SST.day.L3C.SSTskin.AVHRR-2.NOAA-12.AVHRR12_G.2-1.night",
          "esacci.SST.day.L3C.SSTskin.AVHRR-2.NOAA-11.AVHRR11_G.2-1.day",
          "esacci.SST.day.L3C.SSTskin.AVHRR-2.NOAA-11.AVHRR11_G.2-1.night",
          "esacci.SST.day.L3C.SSTskin.AVHRR-2.NOAA-14.AVHRR14_G.2-1.day",
          "esacci.SST.day.L3C.SSTskin.AVHRR-2.NOAA-14.AVHRR14_G.2-1.night",
          "esacci.SST.day.L3C.SSTskin.AVHRR-3.NOAA-18.AVHRR18_G.2-1.day",
          "esacci.SST.day.L3C.SSTskin.AVHRR-3.NOAA-18.AVHRR18_G.2-1.night",
          "esacci.SST.day.L3C.SSTskin.AVHRR-2.NOAA-9.AVHRR09_G.2-1.day",
          "esacci.SST.day.L3C.SSTskin.AVHRR-2.NOAA-9.AVHRR09_G.2-1.night",
          "esacci.SST.day.L3C.SSTskin.AVHRR-3.NOAA-16.AVHRR16_G.2-1.day",
          "esacci.SST.day.L3C.SSTskin.AVHRR-3.NOAA-16.AVHRR16_G.2-1.night",
          "esacci.SST.day.L3C.SSTskin.AVHRR-2.NOAA-7.AVHRR07_G.2-1.day",
          "esacci.SST.day.L3C.SSTskin.AVHRR-2.NOAA-7.AVHRR07_G.2-1.night"
         ],
         "ecv": "SST",
         "fid": "7db4459605da4665b6ab9a7102fb4875",
         "file_formats": [
          ".nc",
          ".txt"
         ],
         "institute": "ESACCI_SST",
         "licences": "Use of these data is covered by the following licence: https://artefacts.ceda.ac.uk/licences/specific_licences/esacci_sst_terms_and_conditions_v2.pdf . When using these data you must cite them correctly using the citation given on the CEDA Data Catalogue record.",
         "metadata_url": "https://catalogue.ceda.ac.uk/export/xml/7db4459605da4665b6ab9a7102fb4875.xml",
         "odd_url": "http://archive.opensearch.ceda.ac.uk/opensearch/description.xml?parentIdentifier=7db4459605da4665b6ab9a7102fb4875",
         "platform_id": "NOAA-12",
         "processing_level": "L3C",
         "product_string": "AVHRR12_G",
         "product_version": "2-1",
         "publication_date": "2019-08-02T20:01:15",
         "sensor_id": "AVHRR-2",
         "temporal_coverage_end": "2016-12-31T23:59:59",
         "temporal_coverage_start": "1981-08-23T23:00:00",
         "time_frequency": "day",
         "title": "ESA Sea Surface Temperature Climate Change Initiative (SST_cci): Advanced Very High Resolution Radiometer (AVHRR) Level 3 Collated (L3C) Climate Data Record, version 2.1",
         "uuid": "7db4459605da4665b6ab9a7102fb4875"
        },
        "bbox": [
         -180,
         -90,
         180,
         90
        ],
        "data_id": "esacci.SST.day.L3C.SSTskin.AVHRR-2.NOAA-12.AVHRR12_G.2-1.day",
        "data_vars": [
         {
          "attrs": {
           "add_offset": 273.15,
           "chunk_sizes": [
            1,
            90,
            180
           ],
           "comment": "Temperature of the skin of the ocean; total uncertainty = sqrt(uncertainty_systematic^2+uncertainty_correlated^2+uncertainty_random^2)",
           "data_type": "int16",
           "depth": "10 micrometres",
           "dimensions": [
            "time",
            "lat",
            "lon"
           ],
           "fill_value": -32768,
           "long_name": "sea surface skin temperature",
           "references": "http://www.esa-sst-cci.org",
           "scale_factor": 0.01,
           "size": 25920000,
           "source": "AVHRR07_G-ESACCI-L1C-v1",
           "standard_name": "sea_surface_skin_temperature",
           "units": "kelvin",
           "valid_max": 5000,
           "valid_min": -200
          },
          "dims": [
           "time",
           "lat",
           "lon"
          ],
          "dtype": "int16",
          "name": "sea_surface_temperature",
          "ndim": 3
         },
         {
          "attrs": {
           "add_offset": 273.15,
           "chunk_sizes": [
            1,
            90,
            180
           ],
           "comment": "Temperature of the ocean at 20 cm depth; total uncertainty = sqrt(uncertainty_systematic^2+uncertainty_correlated^2+uncertainty_random^2+uncertainty_correlated_time_and_depth_adjustment^2)",
           "data_type": "int16",
           "depth": "0.2 metre",
           "dimensions": [
            "time",
            "lat",
            "lon"
           ],
           "fill_value": -32768,
           "long_name": "sea surface temperature at 0.2 m",
           "references": "http://www.esa-sst-cci.org",
           "scale_factor": 0.01,
           "size": 25920000,
           "source": "AVHRR07_G-ESACCI-L1C-v1",
           "standard_name": "sea_water_temperature",
           "units": "kelvin",
           "valid_max": 5000,
           "valid_min": -200
          },
          "dims": [
           "time",
           "lat",
           "lon"
          ],
          "dtype": "int16",
          "name": "sea_surface_temperature_depth",
          "ndim": 3
         },
         {
          "attrs": {
           "add_offset": 0,
           "chunk_sizes": [
            1,
            90,
            180
           ],
           "comment": "Temperature of the ocean at 20 cm depth; total uncertainty = sqrt(uncertainty_systematic^2+uncertainty_correlated^2+uncertainty_random^2+uncertainty_correlated_time_and_depth_adjustment^2)",
           "data_type": "int16",
           "depth": "0.2 metre",
           "dimensions": [
            "time",
            "lat",
            "lon"
           ],
           "fill_value": -32768,
           "long_name": "sea surface temperature anomaly at 0.2 m",
           "references": "http://www.esa-sst-cci.org",
           "scale_factor": 0.01,
           "size": 25920000,
           "source": "AVHRR07_G-ESACCI-L1C-v1",
           "standard_name": "sea_water_temperature_anomaly",
           "units": "kelvin",
           "valid_max": 4000,
           "valid_min": -4000
          },
          "dims": [
           "time",
           "lat",
           "lon"
          ],
          "dtype": "int16",
          "name": "sea_surface_temperature_depth_anomaly",
          "ndim": 3
         },
         {
          "attrs": {
           "add_offset": 0,
           "chunk_sizes": [
            1,
            90,
            180
           ],
           "comment": "time plus sst_dtime gives seconds after 1981-01-01 00:00:00",
           "data_type": "int32",
           "dimensions": [
            "time",
            "lat",
            "lon"
           ],
           "fill_value": -2147483648,
           "long_name": "time difference from reference time",
           "scale_factor": 1,
           "size": 25920000,
           "units": "seconds",
           "valid_max": 43200,
           "valid_min": -43200
          },
          "dims": [
           "time",
           "lat",
           "lon"
          ],
          "dtype": "int32",
          "name": "sst_dtime",
          "ndim": 3
         },
         {
          "attrs": {
           "add_offset": 0,
           "chunk_sizes": [
            1,
            90,
            180
           ],
           "comment": "time plus sst_depth_dtime gives seconds after 1981-01-01 00:00:00",
           "data_type": "int32",
           "dimensions": [
            "time",
            "lat",
            "lon"
           ],
           "fill_value": -2147483648,
           "long_name": "time difference from reference time",
           "scale_factor": 1,
           "size": 25920000,
           "units": "seconds",
           "valid_max": 43200,
           "valid_min": -43200
          },
          "dims": [
           "time",
           "lat",
           "lon"
          ],
          "dtype": "int32",
          "name": "sst_depth_dtime",
          "ndim": 3
         },
         {
          "attrs": {
           "_Unsigned": "false",
           "add_offset": 0,
           "chunk_sizes": [
            1,
            90,
            180
           ],
           "comment": "Populated with zeroes",
           "data_type": "uint8",
           "dimensions": [
            "time",
            "lat",
            "lon"
           ],
           "fill_value": -128,
           "long_name": "SSES bias estimate",
           "scale_factor": 0.01,
           "size": 25920000,
           "units": "kelvin",
           "valid_max": 127,
           "valid_min": -127
          },
          "dims": [
           "time",
           "lat",
           "lon"
          ],
          "dtype": "uint8",
          "name": "sses_bias",
          "ndim": 3
         },
         {
          "attrs": {
           "_Unsigned": "false",
           "add_offset": 1.27,
           "chunk_sizes": [
            1,
            90,
            180
           ],
           "comment": "Uncertainty information is contained in the variables uncertainty_systematic, uncertainty_correlated, and uncertainty_random",
           "data_type": "uint8",
           "dimensions": [
            "time",
            "lat",
            "lon"
           ],
           "fill_value": -128,
           "long_name": "SSES standard deviation",
           "scale_factor": 0.01,
           "size": 25920000,
           "units": "kelvin",
           "valid_max": 127,
           "valid_min": -127
          },
          "dims": [
           "time",
           "lat",
           "lon"
          ],
          "dtype": "uint8",
          "name": "sses_standard_deviation",
          "ndim": 3
         },
         {
          "attrs": {
           "add_offset": 0,
           "chunk_sizes": [
            1,
            90,
            180
           ],
           "comment": "Total uncertainty in each sea_surface_temperature data point",
           "data_type": "int16",
           "dimensions": [
            "time",
            "lat",
            "lon"
           ],
           "fill_value": -32768,
           "long_name": "Total uncertainty in sea_surface_temperature",
           "scale_factor": 0.001,
           "size": 25920000,
           "units": "kelvin",
           "valid_max": 5000,
           "valid_min": 0
          },
          "dims": [
           "time",
           "lat",
           "lon"
          ],
          "dtype": "int16",
          "name": "sea_surface_temperature_total_uncertainty",
          "ndim": 3
         },
         {
          "attrs": {
           "add_offset": 0,
           "chunk_sizes": [
            1,
            90,
            180
           ],
           "comment": "Total uncertainty in each sea_surface_temperature_depth data point",
           "data_type": "int16",
           "dimensions": [
            "time",
            "lat",
            "lon"
           ],
           "fill_value": -32768,
           "long_name": "Total uncertainty in sea_surface_temperature_depth",
           "scale_factor": 0.001,
           "size": 25920000,
           "units": "kelvin",
           "valid_max": 5000,
           "valid_min": 0
          },
          "dims": [
           "time",
           "lat",
           "lon"
          ],
          "dtype": "int16",
          "name": "sea_surface_temperature_depth_total_uncertainty",
          "ndim": 3
         },
         {
          "attrs": {
           "add_offset": 0,
           "chunk_sizes": [
            1,
            90,
            180
           ],
           "comment": "Add to sea_surface_temperature, if SST at 20cm at observation time is required",
           "data_type": "int16",
           "dimensions": [
            "time",
            "lat",
            "lon"
           ],
           "fill_value": -32768,
           "long_name": "Adjustment to sea surface temperature at 0.2 m",
           "scale_factor": 0.01,
           "size": 25920000,
           "units": "kelvin",
           "valid_max": 1000,
           "valid_min": -1000
          },
          "dims": [
           "time",
           "lat",
           "lon"
          ],
          "dtype": "int16",
          "name": "depth_adjustment",
          "ndim": 3
         },
         {
          "attrs": {
           "add_offset": 0,
           "chunk_sizes": [
            1,
            90,
            180
           ],
           "comment": "Add to sea_surface_temperature, if alternative SST retrieval is required",
           "data_type": "int16",
           "dimensions": [
            "time",
            "lat",
            "lon"
           ],
           "fill_value": -32768,
           "long_name": "Adjustment to alternative sea surface temperature retrieval",
           "scale_factor": 0.01,
           "size": 25920000,
           "units": "kelvin",
           "valid_max": 1000,
           "valid_min": -1000
          },
          "dims": [
           "time",
           "lat",
           "lon"
          ],
          "dtype": "int16",
          "name": "adjustment_alt",
          "ndim": 3
         },
         {
          "attrs": {
           "chunk_sizes": [
            1,
            90,
            180
           ],
           "comment": "These flags are important to properly use the data",
           "data_type": "int16",
           "dimensions": [
            "time",
            "lat",
            "lon"
           ],
           "fill_value": -32768,
           "flag_masks": [
            1,
            2,
            4,
            8,
            16,
            32,
            64,
            128,
            256
           ],
           "flag_meanings": "microwave land ice lake river spare views channels day",
           "long_name": "L2P flags",
           "size": 25920000,
           "valid_max": 511,
           "valid_min": 0
          },
          "dims": [
           "time",
           "lat",
           "lon"
          ],
          "dtype": "int16",
          "name": "l2p_flags",
          "ndim": 3
         },
         {
          "attrs": {
           "_Unsigned": "false",
           "chunk_sizes": [
            1,
            90,
            180
           ],
           "comment": "These are overall quality indicators and are used for all GHRSST SSTs",
           "data_type": "uint8",
           "dimensions": [
            "time",
            "lat",
            "lon"
           ],
           "fill_value": 0,
           "flag_meanings": "no_data bad_data worst_quality low_quality acceptable_quality best_quality",
           "flag_values": [
            0,
            1,
            2,
            3,
            4,
            5
           ],
           "long_name": "quality level of SST pixel",
           "size": 25920000,
           "valid_max": 5,
           "valid_min": 0
          },
          "dims": [
           "time",
           "lat",
           "lon"
          ],
          "dtype": "uint8",
          "name": "quality_level",
          "ndim": 3
         },
         {
          "attrs": {
           "_Unsigned": "false",
           "add_offset": 12.7,
           "chunk_sizes": [
            1,
            90,
            180
           ],
           "comment": "Wind speeds sourced from ECMWF ERA Interim Reanalysis; wind speeds greater than 25.4 m/s are set to 25.4.",
           "data_type": "uint8",
           "dimensions": [
            "time",
            "lat",
            "lon"
           ],
           "fill_value": -128,
           "height": "10 m",
           "long_name": "10m wind speed",
           "references": "http://www.esa-sst-cci.org",
           "scale_factor": 0.1,
           "size": 25920000,
           "source": "ERA_INTERIM-ECMWF-WSP-v1.0",
           "standard_name": "wind_speed",
           "time_offset": 0,
           "units": "m s-1",
           "valid_max": 127,
           "valid_min": -127
          },
          "dims": [
           "time",
           "lat",
           "lon"
          ],
          "dtype": "uint8",
          "name": "wind_speed",
          "ndim": 3
         },
         {
          "attrs": {
           "_Unsigned": "false",
           "chunk_sizes": [
            1,
            90,
            180
           ],
           "comment": "1. single view, two channel 2. single view, three channel 3. dual view, two channel 4. dual view, three channel 5. single view, 11 and 3.7 two channel",
           "data_type": "uint8",
           "dimensions": [
            "time",
            "lat",
            "lon"
           ],
           "fill_value": -128,
           "flag_meanings": "single_view_two_channel single_view_three_channel dual_view_two_channel dual_view_three_channel single_view_11_and_3.7_two_channel",
           "flag_values": [
            1,
            2,
            3,
            4,
            5
           ],
           "long_name": "Type of retrieval used for the primary SST",
           "size": 25920000,
           "valid_max": 5,
           "valid_min": 1
          },
          "dims": [
           "time",
           "lat",
           "lon"
          ],
          "dtype": "uint8",
          "name": "sea_surface_temperature_retrieval_type",
          "ndim": 3
         },
         {
          "attrs": {
           "_Unsigned": "false",
           "chunk_sizes": [
            1,
            90,
            180
           ],
           "comment": "For ATSRs, adjustment gives D2 (most consistent through time series) when D3 is provided as best. For AVHRRs, adjustment provides N2 when N3 is best. Reason for providing an alternative: can then use N2 or D2 consistently for whole record i",
           "data_type": "uint8",
           "dimensions": [
            "time",
            "lat",
            "lon"
           ],
           "fill_value": -128,
           "flag_meanings": "single_view_two_channel single_view_three_channel dual_view_two_channel dual_view_three_channel single_view_11_and_3.7_two_channel",
           "flag_values": [
            1,
            2,
            3,
            4,
            5
           ],
           "long_name": "Type of retrieval used for the alternate SST retrieval",
           "size": 25920000,
           "valid_max": 5,
           "valid_min": 1
          },
          "dims": [
           "time",
           "lat",
           "lon"
          ],
          "dtype": "uint8",
          "name": "alt_sst_retrieval_type",
          "ndim": 3
         },
         {
          "attrs": {
           "add_offset": 0,
           "chunk_sizes": [
            1,
            90,
            180
           ],
           "comment": "Component of uncertainty that is uncorrelated between SSTs; can be combined with other uncertainty estimates to form a total uncertainty",
           "data_type": "int16",
           "dimensions": [
            "time",
            "lat",
            "lon"
           ],
           "fill_value": -32768,
           "long_name": "Uncertainty from errors likely to be uncorrelated between SSTs",
           "references": "http://www.esa-sst-cci.org",
           "scale_factor": 0.001,
           "size": 25920000,
           "units": "kelvin",
           "valid_max": 5000,
           "valid_min": 0
          },
          "dims": [
           "time",
           "lat",
           "lon"
          ],
          "dtype": "int16",
          "name": "uncertainty_random",
          "ndim": 3
         },
         {
          "attrs": {
           "add_offset": 0,
           "chunk_sizes": [
            1,
            90,
            180
           ],
           "comment": "Component of uncertainty that is correlated over synoptic scales; can be combined with other uncertainty estimates to form a total uncertainty",
           "correlation_length_scale": "100 km",
           "correlation_time_scale": "1 day",
           "data_type": "int16",
           "dimensions": [
            "time",
            "lat",
            "lon"
           ],
           "fill_value": -32768,
           "long_name": "Uncertainty from errors likely to be correlated over synoptic scales",
           "references": "http://www.esa-sst-cci.org",
           "scale_factor": 0.001,
           "size": 25920000,
           "units": "kelvin",
           "valid_max": 5000,
           "valid_min": 0
          },
          "dims": [
           "time",
           "lat",
           "lon"
          ],
          "dtype": "int16",
          "name": "uncertainty_correlated",
          "ndim": 3
         },
         {
          "attrs": {
           "add_offset": 0,
           "chunk_sizes": [
            1,
            90,
            180
           ],
           "comment": "Component of uncertainty that is correlated over large scales; can be combined with other uncertainty estimates to form a total uncertainty",
           "data_type": "int16",
           "dimensions": [
            "time",
            "lat",
            "lon"
           ],
           "fill_value": -32768,
           "long_name": "Uncertainty from errors likely to be correlated over large scales",
           "references": "http://www.esa-sst-cci.org",
           "scale_factor": 0.001,
           "size": 25920000,
           "units": "kelvin",
           "valid_max": 5000,
           "valid_min": 0
          },
          "dims": [
           "time",
           "lat",
           "lon"
          ],
          "dtype": "int16",
          "name": "uncertainty_systematic",
          "ndim": 3
         },
         {
          "attrs": {
           "add_offset": 0,
           "chunk_sizes": [
            1,
            90,
            180
           ],
           "comment": "Adjustment uncertainty; can be combined with other uncertainty estimates to form a total uncertainty",
           "correlation_length_scale": "100 km",
           "correlation_time_scale": "1 day",
           "data_type": "int16",
           "dimensions": [
            "time",
            "lat",
            "lon"
           ],
           "fill_value": -32768,
           "long_name": "Time and depth adjustment uncertainty",
           "references": "http://www.esa-sst-cci.org",
           "scale_factor": 0.001,
           "size": 25920000,
           "units": "kelvin",
           "valid_max": 5000,
           "valid_min": 0
          },
          "dims": [
           "time",
           "lat",
           "lon"
          ],
          "dtype": "int16",
          "name": "uncertainty_correlated_time_and_depth_adjustment",
          "ndim": 3
         },
         {
          "attrs": {
           "add_offset": 0,
           "chunk_sizes": [
            1,
            90,
            180
           ],
           "comment": "Component of uncertainty in alternative SST retrieval that is uncorrelated between SSTs; can be combined with other uncertainty estimates to form a total uncertainty",
           "data_type": "int16",
           "dimensions": [
            "time",
            "lat",
            "lon"
           ],
           "fill_value": -32768,
           "long_name": "Uncertainty in alternative SST retrieval from errors likely to be uncorrelated between SSTs",
           "references": "http://www.esa-sst-cci.org",
           "scale_factor": 0.001,
           "size": 25920000,
           "units": "kelvin",
           "valid_max": 5000,
           "valid_min": 0
          },
          "dims": [
           "time",
           "lat",
           "lon"
          ],
          "dtype": "int16",
          "name": "uncertainty_random_alt",
          "ndim": 3
         },
         {
          "attrs": {
           "add_offset": 0,
           "chunk_sizes": [
            1,
            90,
            180
           ],
           "comment": "Component of uncertainty in alternative SST retrieval that is correlated over synoptic scales; can be combined with other uncertainty estimates to form a total uncertainty",
           "correlation_length_scale": "100 km",
           "correlation_time_scale": "1 day",
           "data_type": "int16",
           "dimensions": [
            "time",
            "lat",
            "lon"
           ],
           "fill_value": -32768,
           "long_name": "Uncertainty in alternative SST retrieval from errors likely to be correlated over synoptic scales",
           "references": "http://www.esa-sst-cci.org",
           "scale_factor": 0.001,
           "size": 25920000,
           "units": "kelvin",
           "valid_max": 5000,
           "valid_min": 0
          },
          "dims": [
           "time",
           "lat",
           "lon"
          ],
          "dtype": "int16",
          "name": "uncertainty_correlated_alt",
          "ndim": 3
         },
         {
          "attrs": {
           "add_offset": 0,
           "chunk_sizes": [
            1,
            90,
            180
           ],
           "comment": "Component of uncertainty in alternative SST retrieval that is correlated over large scales; can be combined with other uncertainty estimates to form a total uncertainty",
           "data_type": "int16",
           "dimensions": [
            "time",
            "lat",
            "lon"
           ],
           "fill_value": -32768,
           "long_name": "Uncertainty in alternative SST retrieval from errors likely to be correlated over large scales",
           "references": "http://www.esa-sst-cci.org",
           "scale_factor": 0.001,
           "size": 25920000,
           "units": "kelvin",
           "valid_max": 5000,
           "valid_min": 0
          },
          "dims": [
           "time",
           "lat",
           "lon"
          ],
          "dtype": "int16",
          "name": "uncertainty_systematic_alt",
          "ndim": 3
         },
         {
          "attrs": {
           "add_offset": 0,
           "chunk_sizes": [
            1,
            90,
            180
           ],
           "comment": "Sensitivity of the retrieval to actual changes in sea surface temperature",
           "data_type": "int16",
           "dimensions": [
            "time",
            "lat",
            "lon"
           ],
           "fill_value": -32768,
           "long_name": "Sensitivity of the retrieval to actual changes in sea surface temperature",
           "scale_factor": 0.001,
           "size": 25920000,
           "units": "K/K",
           "valid_max": 1100,
           "valid_min": 0
          },
          "dims": [
           "time",
           "lat",
           "lon"
          ],
          "dtype": "int16",
          "name": "sst_sensitivity",
          "ndim": 3
         },
         {
          "attrs": {
           "add_offset": 0,
           "chunk_sizes": [
            1,
            90,
            180
           ],
           "comment": "If not applied, fill with zeros to indicate independence from in situ",
           "data_type": "int16",
           "dimensions": [
            "time",
            "lat",
            "lon"
           ],
           "fill_value": -32768,
           "long_name": "Adjustment, based on comparison to in situ data",
           "scale_factor": 0.01,
           "size": 25920000,
           "units": "kelvin",
           "valid_max": 1000,
           "valid_min": -1000
          },
          "dims": [
           "time",
           "lat",
           "lon"
          ],
          "dtype": "int16",
          "name": "empirical_adjustment",
          "ndim": 3
         }
        ],
        "dims": {
         "bnds": 2,
         "lat": 3600,
         "lon": 7200,
         "time": 1
        },
        "open_params_schema": {
         "additionalProperties": false,
         "properties": {
          "bbox": {
           "items": [
            {
             "maximum": 180,
             "minimum": -180,
             "type": "number"
            },
            {
             "maximum": 90,
             "minimum": -90,
             "type": "number"
            },
            {
             "maximum": 180,
             "minimum": -180,
             "type": "number"
            },
            {
             "maximum": 90,
             "minimum": -90,
             "type": "number"
            }
           ],
           "type": "array"
          },
          "crs": {
           "const": "WGS84",
           "type": "string"
          },
          "spatial_res": {
           "const": 0.05,
           "type": "number"
          },
          "time_period": {
           "const": "1D",
           "type": "string"
          },
          "time_range": {
           "items": [
            {
             "format": "date",
             "maxDate": "2016-12-31",
             "minDate": "1981-08-23",
             "type": "string"
            },
            {
             "format": "date",
             "maxDate": "2016-12-31",
             "minDate": "1981-08-23",
             "type": "string"
            }
           ],
           "type": "array"
          },
          "variable_names": {
           "items": {
            "enum": [
             "sea_surface_temperature",
             "sea_surface_temperature_depth",
             "sea_surface_temperature_depth_anomaly",
             "sst_dtime",
             "sst_depth_dtime",
             "sses_bias",
             "sses_standard_deviation",
             "sea_surface_temperature_total_uncertainty",
             "sea_surface_temperature_depth_total_uncertainty",
             "depth_adjustment",
             "adjustment_alt",
             "l2p_flags",
             "quality_level",
             "wind_speed",
             "sea_surface_temperature_retrieval_type",
             "alt_sst_retrieval_type",
             "uncertainty_random",
             "uncertainty_correlated",
             "uncertainty_systematic",
             "uncertainty_correlated_time_and_depth_adjustment",
             "uncertainty_random_alt",
             "uncertainty_correlated_alt",
             "uncertainty_systematic_alt",
             "sst_sensitivity",
             "empirical_adjustment"
            ],
            "type": "string"
           },
           "type": "array"
          }
         },
         "type": "object"
        },
        "spatial_res": 0.05,
        "time_period": "1D",
        "time_range": [
         "1981-08-23",
         "2016-12-31"
        ],
        "type_specifier": "dataset"
       },
       {
        "attrs": {
         "abstract": "This v2.1 SST_cci Advanced Very High Resolution Radiometer (AVHRR) Level 3 Collated (L3C) Climate Data Record (CDR) consists of stable, low-bias sea surface temperature (SST) data from the AVHRR series of satellite instruments.  It covers the period between 08/1981 and 12/2016.  This L3C product provides these SST data on a 0.05 regular latitude-longitude grid and collated to include all orbits for a day (separated into daytime and nighttime files).\n\nThe dataset has been produced as part of the European Space Agency (ESA) Climate Change Initiative Sea Surface Temperature project(ESA SST_cci). The data products from SST_cci accurately map the surface temperature of the global oceans over the period 1981 to 2016 using observations from many satellites. The data provide independently quantified SSTs to a quality suitable for climate research.\n\nThis CDR Version 2.1 product supercedes the CDR Version 2.0 product.  Data are made freely and openly available under a Creative Commons License by Attribution (CC By 4.0) https://creativecommons.org/licenses/by/4.0/ .\n\nWhen citing this dataset please also cite the associated data paper: Merchant, C.J., Embury, O., Bulgin, C.E., Block T., Corlett, G.K., Fiedler, E., Good, S.A., Mittaz, J., Rayner, N.A., Berry, D., Eastwood, S., Taylor, M., Tsushima, Y., Waterfall, A., Wilson, R., Donlon, C. Satellite-based time-series of sea-surface temperature since 1981 for climate applications, Scientific Data 6:223 (2019). http://doi.org/10.1038/s41597-019-0236-x",
         "bbox_maxx": "180.0",
         "bbox_maxy": "90.0",
         "bbox_minx": "-180.0",
         "bbox_miny": "-90.0",
         "cci_project": "SST",
         "creation_date": "2019-08-02T20:01:15",
         "data_type": "SSTskin",
         "drs_ids": [
          "esacci.SST.day.L3C.SSTskin.AVHRR-3.NOAA-15.AVHRR15_G.2-1.day",
          "esacci.SST.day.L3C.SSTskin.AVHRR-3.NOAA-15.AVHRR15_G.2-1.night",
          "esacci.SST.day.L3C.SSTskin.AVHRR-3.Metop-A.AVHRRMTA_G.2-1.day",
          "esacci.SST.day.L3C.SSTskin.AVHRR-3.Metop-A.AVHRRMTA_G.2-1.night",
          "esacci.SST.day.L3C.SSTskin.AVHRR-3.NOAA-19.AVHRR19_G.2-1.day",
          "esacci.SST.day.L3C.SSTskin.AVHRR-3.NOAA-19.AVHRR19_G.2-1.night",
          "esacci.SST.day.L3C.SSTskin.AVHRR-3.NOAA-17.AVHRR17_G.2-1.day",
          "esacci.SST.day.L3C.SSTskin.AVHRR-3.NOAA-17.AVHRR17_G.2-1.night",
          "esacci.SST.day.L3C.SSTskin.AVHRR-2.NOAA-12.AVHRR12_G.2-1.day",
          "esacci.SST.day.L3C.SSTskin.AVHRR-2.NOAA-12.AVHRR12_G.2-1.night",
          "esacci.SST.day.L3C.SSTskin.AVHRR-2.NOAA-11.AVHRR11_G.2-1.day",
          "esacci.SST.day.L3C.SSTskin.AVHRR-2.NOAA-11.AVHRR11_G.2-1.night",
          "esacci.SST.day.L3C.SSTskin.AVHRR-2.NOAA-14.AVHRR14_G.2-1.day",
          "esacci.SST.day.L3C.SSTskin.AVHRR-2.NOAA-14.AVHRR14_G.2-1.night",
          "esacci.SST.day.L3C.SSTskin.AVHRR-3.NOAA-18.AVHRR18_G.2-1.day",
          "esacci.SST.day.L3C.SSTskin.AVHRR-3.NOAA-18.AVHRR18_G.2-1.night",
          "esacci.SST.day.L3C.SSTskin.AVHRR-2.NOAA-9.AVHRR09_G.2-1.day",
          "esacci.SST.day.L3C.SSTskin.AVHRR-2.NOAA-9.AVHRR09_G.2-1.night",
          "esacci.SST.day.L3C.SSTskin.AVHRR-3.NOAA-16.AVHRR16_G.2-1.day",
          "esacci.SST.day.L3C.SSTskin.AVHRR-3.NOAA-16.AVHRR16_G.2-1.night",
          "esacci.SST.day.L3C.SSTskin.AVHRR-2.NOAA-7.AVHRR07_G.2-1.day",
          "esacci.SST.day.L3C.SSTskin.AVHRR-2.NOAA-7.AVHRR07_G.2-1.night"
         ],
         "ecv": "SST",
         "fid": "7db4459605da4665b6ab9a7102fb4875",
         "file_formats": [
          ".nc",
          ".txt"
         ],
         "institute": "ESACCI_SST",
         "licences": "Use of these data is covered by the following licence: https://artefacts.ceda.ac.uk/licences/specific_licences/esacci_sst_terms_and_conditions_v2.pdf . When using these data you must cite them correctly using the citation given on the CEDA Data Catalogue record.",
         "metadata_url": "https://catalogue.ceda.ac.uk/export/xml/7db4459605da4665b6ab9a7102fb4875.xml",
         "odd_url": "http://archive.opensearch.ceda.ac.uk/opensearch/description.xml?parentIdentifier=7db4459605da4665b6ab9a7102fb4875",
         "platform_id": "NOAA-12",
         "processing_level": "L3C",
         "product_string": "AVHRR12_G",
         "product_version": "2-1",
         "publication_date": "2019-08-02T20:01:15",
         "sensor_id": "AVHRR-2",
         "temporal_coverage_end": "2016-12-31T23:59:59",
         "temporal_coverage_start": "1981-08-23T23:00:00",
         "time_frequency": "day",
         "title": "ESA Sea Surface Temperature Climate Change Initiative (SST_cci): Advanced Very High Resolution Radiometer (AVHRR) Level 3 Collated (L3C) Climate Data Record, version 2.1",
         "uuid": "7db4459605da4665b6ab9a7102fb4875"
        },
        "bbox": [
         -180,
         -90,
         180,
         90
        ],
        "data_id": "esacci.SST.day.L3C.SSTskin.AVHRR-2.NOAA-12.AVHRR12_G.2-1.night",
        "data_vars": [
         {
          "attrs": {
           "add_offset": 273.15,
           "chunk_sizes": [
            1,
            90,
            180
           ],
           "comment": "Temperature of the skin of the ocean; total uncertainty = sqrt(uncertainty_systematic^2+uncertainty_correlated^2+uncertainty_random^2)",
           "data_type": "int16",
           "depth": "10 micrometres",
           "dimensions": [
            "time",
            "lat",
            "lon"
           ],
           "fill_value": -32768,
           "long_name": "sea surface skin temperature",
           "references": "http://www.esa-sst-cci.org",
           "scale_factor": 0.01,
           "size": 25920000,
           "source": "AVHRR07_G-ESACCI-L1C-v1",
           "standard_name": "sea_surface_skin_temperature",
           "units": "kelvin",
           "valid_max": 5000,
           "valid_min": -200
          },
          "dims": [
           "time",
           "lat",
           "lon"
          ],
          "dtype": "int16",
          "name": "sea_surface_temperature",
          "ndim": 3
         },
         {
          "attrs": {
           "add_offset": 273.15,
           "chunk_sizes": [
            1,
            90,
            180
           ],
           "comment": "Temperature of the ocean at 20 cm depth; total uncertainty = sqrt(uncertainty_systematic^2+uncertainty_correlated^2+uncertainty_random^2+uncertainty_correlated_time_and_depth_adjustment^2)",
           "data_type": "int16",
           "depth": "0.2 metre",
           "dimensions": [
            "time",
            "lat",
            "lon"
           ],
           "fill_value": -32768,
           "long_name": "sea surface temperature at 0.2 m",
           "references": "http://www.esa-sst-cci.org",
           "scale_factor": 0.01,
           "size": 25920000,
           "source": "AVHRR07_G-ESACCI-L1C-v1",
           "standard_name": "sea_water_temperature",
           "units": "kelvin",
           "valid_max": 5000,
           "valid_min": -200
          },
          "dims": [
           "time",
           "lat",
           "lon"
          ],
          "dtype": "int16",
          "name": "sea_surface_temperature_depth",
          "ndim": 3
         },
         {
          "attrs": {
           "add_offset": 0,
           "chunk_sizes": [
            1,
            90,
            180
           ],
           "comment": "Temperature of the ocean at 20 cm depth; total uncertainty = sqrt(uncertainty_systematic^2+uncertainty_correlated^2+uncertainty_random^2+uncertainty_correlated_time_and_depth_adjustment^2)",
           "data_type": "int16",
           "depth": "0.2 metre",
           "dimensions": [
            "time",
            "lat",
            "lon"
           ],
           "fill_value": -32768,
           "long_name": "sea surface temperature anomaly at 0.2 m",
           "references": "http://www.esa-sst-cci.org",
           "scale_factor": 0.01,
           "size": 25920000,
           "source": "AVHRR07_G-ESACCI-L1C-v1",
           "standard_name": "sea_water_temperature_anomaly",
           "units": "kelvin",
           "valid_max": 4000,
           "valid_min": -4000
          },
          "dims": [
           "time",
           "lat",
           "lon"
          ],
          "dtype": "int16",
          "name": "sea_surface_temperature_depth_anomaly",
          "ndim": 3
         },
         {
          "attrs": {
           "add_offset": 0,
           "chunk_sizes": [
            1,
            90,
            180
           ],
           "comment": "time plus sst_dtime gives seconds after 1981-01-01 00:00:00",
           "data_type": "int32",
           "dimensions": [
            "time",
            "lat",
            "lon"
           ],
           "fill_value": -2147483648,
           "long_name": "time difference from reference time",
           "scale_factor": 1,
           "size": 25920000,
           "units": "seconds",
           "valid_max": 43200,
           "valid_min": -43200
          },
          "dims": [
           "time",
           "lat",
           "lon"
          ],
          "dtype": "int32",
          "name": "sst_dtime",
          "ndim": 3
         },
         {
          "attrs": {
           "add_offset": 0,
           "chunk_sizes": [
            1,
            90,
            180
           ],
           "comment": "time plus sst_depth_dtime gives seconds after 1981-01-01 00:00:00",
           "data_type": "int32",
           "dimensions": [
            "time",
            "lat",
            "lon"
           ],
           "fill_value": -2147483648,
           "long_name": "time difference from reference time",
           "scale_factor": 1,
           "size": 25920000,
           "units": "seconds",
           "valid_max": 43200,
           "valid_min": -43200
          },
          "dims": [
           "time",
           "lat",
           "lon"
          ],
          "dtype": "int32",
          "name": "sst_depth_dtime",
          "ndim": 3
         },
         {
          "attrs": {
           "_Unsigned": "false",
           "add_offset": 0,
           "chunk_sizes": [
            1,
            90,
            180
           ],
           "comment": "Populated with zeroes",
           "data_type": "uint8",
           "dimensions": [
            "time",
            "lat",
            "lon"
           ],
           "fill_value": -128,
           "long_name": "SSES bias estimate",
           "scale_factor": 0.01,
           "size": 25920000,
           "units": "kelvin",
           "valid_max": 127,
           "valid_min": -127
          },
          "dims": [
           "time",
           "lat",
           "lon"
          ],
          "dtype": "uint8",
          "name": "sses_bias",
          "ndim": 3
         },
         {
          "attrs": {
           "_Unsigned": "false",
           "add_offset": 1.27,
           "chunk_sizes": [
            1,
            90,
            180
           ],
           "comment": "Uncertainty information is contained in the variables uncertainty_systematic, uncertainty_correlated, and uncertainty_random",
           "data_type": "uint8",
           "dimensions": [
            "time",
            "lat",
            "lon"
           ],
           "fill_value": -128,
           "long_name": "SSES standard deviation",
           "scale_factor": 0.01,
           "size": 25920000,
           "units": "kelvin",
           "valid_max": 127,
           "valid_min": -127
          },
          "dims": [
           "time",
           "lat",
           "lon"
          ],
          "dtype": "uint8",
          "name": "sses_standard_deviation",
          "ndim": 3
         },
         {
          "attrs": {
           "add_offset": 0,
           "chunk_sizes": [
            1,
            90,
            180
           ],
           "comment": "Total uncertainty in each sea_surface_temperature data point",
           "data_type": "int16",
           "dimensions": [
            "time",
            "lat",
            "lon"
           ],
           "fill_value": -32768,
           "long_name": "Total uncertainty in sea_surface_temperature",
           "scale_factor": 0.001,
           "size": 25920000,
           "units": "kelvin",
           "valid_max": 5000,
           "valid_min": 0
          },
          "dims": [
           "time",
           "lat",
           "lon"
          ],
          "dtype": "int16",
          "name": "sea_surface_temperature_total_uncertainty",
          "ndim": 3
         },
         {
          "attrs": {
           "add_offset": 0,
           "chunk_sizes": [
            1,
            90,
            180
           ],
           "comment": "Total uncertainty in each sea_surface_temperature_depth data point",
           "data_type": "int16",
           "dimensions": [
            "time",
            "lat",
            "lon"
           ],
           "fill_value": -32768,
           "long_name": "Total uncertainty in sea_surface_temperature_depth",
           "scale_factor": 0.001,
           "size": 25920000,
           "units": "kelvin",
           "valid_max": 5000,
           "valid_min": 0
          },
          "dims": [
           "time",
           "lat",
           "lon"
          ],
          "dtype": "int16",
          "name": "sea_surface_temperature_depth_total_uncertainty",
          "ndim": 3
         },
         {
          "attrs": {
           "add_offset": 0,
           "chunk_sizes": [
            1,
            90,
            180
           ],
           "comment": "Add to sea_surface_temperature, if SST at 20cm at observation time is required",
           "data_type": "int16",
           "dimensions": [
            "time",
            "lat",
            "lon"
           ],
           "fill_value": -32768,
           "long_name": "Adjustment to sea surface temperature at 0.2 m",
           "scale_factor": 0.01,
           "size": 25920000,
           "units": "kelvin",
           "valid_max": 1000,
           "valid_min": -1000
          },
          "dims": [
           "time",
           "lat",
           "lon"
          ],
          "dtype": "int16",
          "name": "depth_adjustment",
          "ndim": 3
         },
         {
          "attrs": {
           "add_offset": 0,
           "chunk_sizes": [
            1,
            90,
            180
           ],
           "comment": "Add to sea_surface_temperature, if alternative SST retrieval is required",
           "data_type": "int16",
           "dimensions": [
            "time",
            "lat",
            "lon"
           ],
           "fill_value": -32768,
           "long_name": "Adjustment to alternative sea surface temperature retrieval",
           "scale_factor": 0.01,
           "size": 25920000,
           "units": "kelvin",
           "valid_max": 1000,
           "valid_min": -1000
          },
          "dims": [
           "time",
           "lat",
           "lon"
          ],
          "dtype": "int16",
          "name": "adjustment_alt",
          "ndim": 3
         },
         {
          "attrs": {
           "chunk_sizes": [
            1,
            90,
            180
           ],
           "comment": "These flags are important to properly use the data",
           "data_type": "int16",
           "dimensions": [
            "time",
            "lat",
            "lon"
           ],
           "fill_value": -32768,
           "flag_masks": [
            1,
            2,
            4,
            8,
            16,
            32,
            64,
            128,
            256
           ],
           "flag_meanings": "microwave land ice lake river spare views channels day",
           "long_name": "L2P flags",
           "size": 25920000,
           "valid_max": 511,
           "valid_min": 0
          },
          "dims": [
           "time",
           "lat",
           "lon"
          ],
          "dtype": "int16",
          "name": "l2p_flags",
          "ndim": 3
         },
         {
          "attrs": {
           "_Unsigned": "false",
           "chunk_sizes": [
            1,
            90,
            180
           ],
           "comment": "These are overall quality indicators and are used for all GHRSST SSTs",
           "data_type": "uint8",
           "dimensions": [
            "time",
            "lat",
            "lon"
           ],
           "fill_value": 0,
           "flag_meanings": "no_data bad_data worst_quality low_quality acceptable_quality best_quality",
           "flag_values": [
            0,
            1,
            2,
            3,
            4,
            5
           ],
           "long_name": "quality level of SST pixel",
           "size": 25920000,
           "valid_max": 5,
           "valid_min": 0
          },
          "dims": [
           "time",
           "lat",
           "lon"
          ],
          "dtype": "uint8",
          "name": "quality_level",
          "ndim": 3
         },
         {
          "attrs": {
           "_Unsigned": "false",
           "add_offset": 12.7,
           "chunk_sizes": [
            1,
            90,
            180
           ],
           "comment": "Wind speeds sourced from ECMWF ERA Interim Reanalysis; wind speeds greater than 25.4 m/s are set to 25.4.",
           "data_type": "uint8",
           "dimensions": [
            "time",
            "lat",
            "lon"
           ],
           "fill_value": -128,
           "height": "10 m",
           "long_name": "10m wind speed",
           "references": "http://www.esa-sst-cci.org",
           "scale_factor": 0.1,
           "size": 25920000,
           "source": "ERA_INTERIM-ECMWF-WSP-v1.0",
           "standard_name": "wind_speed",
           "time_offset": 0,
           "units": "m s-1",
           "valid_max": 127,
           "valid_min": -127
          },
          "dims": [
           "time",
           "lat",
           "lon"
          ],
          "dtype": "uint8",
          "name": "wind_speed",
          "ndim": 3
         },
         {
          "attrs": {
           "_Unsigned": "false",
           "chunk_sizes": [
            1,
            90,
            180
           ],
           "comment": "1. single view, two channel 2. single view, three channel 3. dual view, two channel 4. dual view, three channel 5. single view, 11 and 3.7 two channel",
           "data_type": "uint8",
           "dimensions": [
            "time",
            "lat",
            "lon"
           ],
           "fill_value": -128,
           "flag_meanings": "single_view_two_channel single_view_three_channel dual_view_two_channel dual_view_three_channel single_view_11_and_3.7_two_channel",
           "flag_values": [
            1,
            2,
            3,
            4,
            5
           ],
           "long_name": "Type of retrieval used for the primary SST",
           "size": 25920000,
           "valid_max": 5,
           "valid_min": 1
          },
          "dims": [
           "time",
           "lat",
           "lon"
          ],
          "dtype": "uint8",
          "name": "sea_surface_temperature_retrieval_type",
          "ndim": 3
         },
         {
          "attrs": {
           "_Unsigned": "false",
           "chunk_sizes": [
            1,
            90,
            180
           ],
           "comment": "For ATSRs, adjustment gives D2 (most consistent through time series) when D3 is provided as best. For AVHRRs, adjustment provides N2 when N3 is best. Reason for providing an alternative: can then use N2 or D2 consistently for whole record i",
           "data_type": "uint8",
           "dimensions": [
            "time",
            "lat",
            "lon"
           ],
           "fill_value": -128,
           "flag_meanings": "single_view_two_channel single_view_three_channel dual_view_two_channel dual_view_three_channel single_view_11_and_3.7_two_channel",
           "flag_values": [
            1,
            2,
            3,
            4,
            5
           ],
           "long_name": "Type of retrieval used for the alternate SST retrieval",
           "size": 25920000,
           "valid_max": 5,
           "valid_min": 1
          },
          "dims": [
           "time",
           "lat",
           "lon"
          ],
          "dtype": "uint8",
          "name": "alt_sst_retrieval_type",
          "ndim": 3
         },
         {
          "attrs": {
           "add_offset": 0,
           "chunk_sizes": [
            1,
            90,
            180
           ],
           "comment": "Component of uncertainty that is uncorrelated between SSTs; can be combined with other uncertainty estimates to form a total uncertainty",
           "data_type": "int16",
           "dimensions": [
            "time",
            "lat",
            "lon"
           ],
           "fill_value": -32768,
           "long_name": "Uncertainty from errors likely to be uncorrelated between SSTs",
           "references": "http://www.esa-sst-cci.org",
           "scale_factor": 0.001,
           "size": 25920000,
           "units": "kelvin",
           "valid_max": 5000,
           "valid_min": 0
          },
          "dims": [
           "time",
           "lat",
           "lon"
          ],
          "dtype": "int16",
          "name": "uncertainty_random",
          "ndim": 3
         },
         {
          "attrs": {
           "add_offset": 0,
           "chunk_sizes": [
            1,
            90,
            180
           ],
           "comment": "Component of uncertainty that is correlated over synoptic scales; can be combined with other uncertainty estimates to form a total uncertainty",
           "correlation_length_scale": "100 km",
           "correlation_time_scale": "1 day",
           "data_type": "int16",
           "dimensions": [
            "time",
            "lat",
            "lon"
           ],
           "fill_value": -32768,
           "long_name": "Uncertainty from errors likely to be correlated over synoptic scales",
           "references": "http://www.esa-sst-cci.org",
           "scale_factor": 0.001,
           "size": 25920000,
           "units": "kelvin",
           "valid_max": 5000,
           "valid_min": 0
          },
          "dims": [
           "time",
           "lat",
           "lon"
          ],
          "dtype": "int16",
          "name": "uncertainty_correlated",
          "ndim": 3
         },
         {
          "attrs": {
           "add_offset": 0,
           "chunk_sizes": [
            1,
            90,
            180
           ],
           "comment": "Component of uncertainty that is correlated over large scales; can be combined with other uncertainty estimates to form a total uncertainty",
           "data_type": "int16",
           "dimensions": [
            "time",
            "lat",
            "lon"
           ],
           "fill_value": -32768,
           "long_name": "Uncertainty from errors likely to be correlated over large scales",
           "references": "http://www.esa-sst-cci.org",
           "scale_factor": 0.001,
           "size": 25920000,
           "units": "kelvin",
           "valid_max": 5000,
           "valid_min": 0
          },
          "dims": [
           "time",
           "lat",
           "lon"
          ],
          "dtype": "int16",
          "name": "uncertainty_systematic",
          "ndim": 3
         },
         {
          "attrs": {
           "add_offset": 0,
           "chunk_sizes": [
            1,
            90,
            180
           ],
           "comment": "Adjustment uncertainty; can be combined with other uncertainty estimates to form a total uncertainty",
           "correlation_length_scale": "100 km",
           "correlation_time_scale": "1 day",
           "data_type": "int16",
           "dimensions": [
            "time",
            "lat",
            "lon"
           ],
           "fill_value": -32768,
           "long_name": "Time and depth adjustment uncertainty",
           "references": "http://www.esa-sst-cci.org",
           "scale_factor": 0.001,
           "size": 25920000,
           "units": "kelvin",
           "valid_max": 5000,
           "valid_min": 0
          },
          "dims": [
           "time",
           "lat",
           "lon"
          ],
          "dtype": "int16",
          "name": "uncertainty_correlated_time_and_depth_adjustment",
          "ndim": 3
         },
         {
          "attrs": {
           "add_offset": 0,
           "chunk_sizes": [
            1,
            90,
            180
           ],
           "comment": "Component of uncertainty in alternative SST retrieval that is uncorrelated between SSTs; can be combined with other uncertainty estimates to form a total uncertainty",
           "data_type": "int16",
           "dimensions": [
            "time",
            "lat",
            "lon"
           ],
           "fill_value": -32768,
           "long_name": "Uncertainty in alternative SST retrieval from errors likely to be uncorrelated between SSTs",
           "references": "http://www.esa-sst-cci.org",
           "scale_factor": 0.001,
           "size": 25920000,
           "units": "kelvin",
           "valid_max": 5000,
           "valid_min": 0
          },
          "dims": [
           "time",
           "lat",
           "lon"
          ],
          "dtype": "int16",
          "name": "uncertainty_random_alt",
          "ndim": 3
         },
         {
          "attrs": {
           "add_offset": 0,
           "chunk_sizes": [
            1,
            90,
            180
           ],
           "comment": "Component of uncertainty in alternative SST retrieval that is correlated over synoptic scales; can be combined with other uncertainty estimates to form a total uncertainty",
           "correlation_length_scale": "100 km",
           "correlation_time_scale": "1 day",
           "data_type": "int16",
           "dimensions": [
            "time",
            "lat",
            "lon"
           ],
           "fill_value": -32768,
           "long_name": "Uncertainty in alternative SST retrieval from errors likely to be correlated over synoptic scales",
           "references": "http://www.esa-sst-cci.org",
           "scale_factor": 0.001,
           "size": 25920000,
           "units": "kelvin",
           "valid_max": 5000,
           "valid_min": 0
          },
          "dims": [
           "time",
           "lat",
           "lon"
          ],
          "dtype": "int16",
          "name": "uncertainty_correlated_alt",
          "ndim": 3
         },
         {
          "attrs": {
           "add_offset": 0,
           "chunk_sizes": [
            1,
            90,
            180
           ],
           "comment": "Component of uncertainty in alternative SST retrieval that is correlated over large scales; can be combined with other uncertainty estimates to form a total uncertainty",
           "data_type": "int16",
           "dimensions": [
            "time",
            "lat",
            "lon"
           ],
           "fill_value": -32768,
           "long_name": "Uncertainty in alternative SST retrieval from errors likely to be correlated over large scales",
           "references": "http://www.esa-sst-cci.org",
           "scale_factor": 0.001,
           "size": 25920000,
           "units": "kelvin",
           "valid_max": 5000,
           "valid_min": 0
          },
          "dims": [
           "time",
           "lat",
           "lon"
          ],
          "dtype": "int16",
          "name": "uncertainty_systematic_alt",
          "ndim": 3
         },
         {
          "attrs": {
           "add_offset": 0,
           "chunk_sizes": [
            1,
            90,
            180
           ],
           "comment": "Sensitivity of the retrieval to actual changes in sea surface temperature",
           "data_type": "int16",
           "dimensions": [
            "time",
            "lat",
            "lon"
           ],
           "fill_value": -32768,
           "long_name": "Sensitivity of the retrieval to actual changes in sea surface temperature",
           "scale_factor": 0.001,
           "size": 25920000,
           "units": "K/K",
           "valid_max": 1100,
           "valid_min": 0
          },
          "dims": [
           "time",
           "lat",
           "lon"
          ],
          "dtype": "int16",
          "name": "sst_sensitivity",
          "ndim": 3
         },
         {
          "attrs": {
           "add_offset": 0,
           "chunk_sizes": [
            1,
            90,
            180
           ],
           "comment": "If not applied, fill with zeros to indicate independence from in situ",
           "data_type": "int16",
           "dimensions": [
            "time",
            "lat",
            "lon"
           ],
           "fill_value": -32768,
           "long_name": "Adjustment, based on comparison to in situ data",
           "scale_factor": 0.01,
           "size": 25920000,
           "units": "kelvin",
           "valid_max": 1000,
           "valid_min": -1000
          },
          "dims": [
           "time",
           "lat",
           "lon"
          ],
          "dtype": "int16",
          "name": "empirical_adjustment",
          "ndim": 3
         }
        ],
        "dims": {
         "bnds": 2,
         "lat": 3600,
         "lon": 7200,
         "time": 1
        },
        "open_params_schema": {
         "additionalProperties": false,
         "properties": {
          "bbox": {
           "items": [
            {
             "maximum": 180,
             "minimum": -180,
             "type": "number"
            },
            {
             "maximum": 90,
             "minimum": -90,
             "type": "number"
            },
            {
             "maximum": 180,
             "minimum": -180,
             "type": "number"
            },
            {
             "maximum": 90,
             "minimum": -90,
             "type": "number"
            }
           ],
           "type": "array"
          },
          "crs": {
           "const": "WGS84",
           "type": "string"
          },
          "spatial_res": {
           "const": 0.05,
           "type": "number"
          },
          "time_period": {
           "const": "1D",
           "type": "string"
          },
          "time_range": {
           "items": [
            {
             "format": "date",
             "maxDate": "2016-12-31",
             "minDate": "1981-08-23",
             "type": "string"
            },
            {
             "format": "date",
             "maxDate": "2016-12-31",
             "minDate": "1981-08-23",
             "type": "string"
            }
           ],
           "type": "array"
          },
          "variable_names": {
           "items": {
            "enum": [
             "sea_surface_temperature",
             "sea_surface_temperature_depth",
             "sea_surface_temperature_depth_anomaly",
             "sst_dtime",
             "sst_depth_dtime",
             "sses_bias",
             "sses_standard_deviation",
             "sea_surface_temperature_total_uncertainty",
             "sea_surface_temperature_depth_total_uncertainty",
             "depth_adjustment",
             "adjustment_alt",
             "l2p_flags",
             "quality_level",
             "wind_speed",
             "sea_surface_temperature_retrieval_type",
             "alt_sst_retrieval_type",
             "uncertainty_random",
             "uncertainty_correlated",
             "uncertainty_systematic",
             "uncertainty_correlated_time_and_depth_adjustment",
             "uncertainty_random_alt",
             "uncertainty_correlated_alt",
             "uncertainty_systematic_alt",
             "sst_sensitivity",
             "empirical_adjustment"
            ],
            "type": "string"
           },
           "type": "array"
          }
         },
         "type": "object"
        },
        "spatial_res": 0.05,
        "time_period": "1D",
        "time_range": [
         "1981-08-23",
         "2016-12-31"
        ],
        "type_specifier": "dataset"
       },
       {
        "attrs": {
         "abstract": "This v2.1 SST_cci Advanced Very High Resolution Radiometer (AVHRR) Level 3 Collated (L3C) Climate Data Record (CDR) consists of stable, low-bias sea surface temperature (SST) data from the AVHRR series of satellite instruments.  It covers the period between 08/1981 and 12/2016.  This L3C product provides these SST data on a 0.05 regular latitude-longitude grid and collated to include all orbits for a day (separated into daytime and nighttime files).\n\nThe dataset has been produced as part of the European Space Agency (ESA) Climate Change Initiative Sea Surface Temperature project(ESA SST_cci). The data products from SST_cci accurately map the surface temperature of the global oceans over the period 1981 to 2016 using observations from many satellites. The data provide independently quantified SSTs to a quality suitable for climate research.\n\nThis CDR Version 2.1 product supercedes the CDR Version 2.0 product.  Data are made freely and openly available under a Creative Commons License by Attribution (CC By 4.0) https://creativecommons.org/licenses/by/4.0/ .\n\nWhen citing this dataset please also cite the associated data paper: Merchant, C.J., Embury, O., Bulgin, C.E., Block T., Corlett, G.K., Fiedler, E., Good, S.A., Mittaz, J., Rayner, N.A., Berry, D., Eastwood, S., Taylor, M., Tsushima, Y., Waterfall, A., Wilson, R., Donlon, C. Satellite-based time-series of sea-surface temperature since 1981 for climate applications, Scientific Data 6:223 (2019). http://doi.org/10.1038/s41597-019-0236-x",
         "bbox_maxx": "180.0",
         "bbox_maxy": "90.0",
         "bbox_minx": "-180.0",
         "bbox_miny": "-90.0",
         "cci_project": "SST",
         "creation_date": "2019-08-02T20:01:15",
         "data_type": "SSTskin",
         "drs_ids": [
          "esacci.SST.day.L3C.SSTskin.AVHRR-3.NOAA-15.AVHRR15_G.2-1.day",
          "esacci.SST.day.L3C.SSTskin.AVHRR-3.NOAA-15.AVHRR15_G.2-1.night",
          "esacci.SST.day.L3C.SSTskin.AVHRR-3.Metop-A.AVHRRMTA_G.2-1.day",
          "esacci.SST.day.L3C.SSTskin.AVHRR-3.Metop-A.AVHRRMTA_G.2-1.night",
          "esacci.SST.day.L3C.SSTskin.AVHRR-3.NOAA-19.AVHRR19_G.2-1.day",
          "esacci.SST.day.L3C.SSTskin.AVHRR-3.NOAA-19.AVHRR19_G.2-1.night",
          "esacci.SST.day.L3C.SSTskin.AVHRR-3.NOAA-17.AVHRR17_G.2-1.day",
          "esacci.SST.day.L3C.SSTskin.AVHRR-3.NOAA-17.AVHRR17_G.2-1.night",
          "esacci.SST.day.L3C.SSTskin.AVHRR-2.NOAA-12.AVHRR12_G.2-1.day",
          "esacci.SST.day.L3C.SSTskin.AVHRR-2.NOAA-12.AVHRR12_G.2-1.night",
          "esacci.SST.day.L3C.SSTskin.AVHRR-2.NOAA-11.AVHRR11_G.2-1.day",
          "esacci.SST.day.L3C.SSTskin.AVHRR-2.NOAA-11.AVHRR11_G.2-1.night",
          "esacci.SST.day.L3C.SSTskin.AVHRR-2.NOAA-14.AVHRR14_G.2-1.day",
          "esacci.SST.day.L3C.SSTskin.AVHRR-2.NOAA-14.AVHRR14_G.2-1.night",
          "esacci.SST.day.L3C.SSTskin.AVHRR-3.NOAA-18.AVHRR18_G.2-1.day",
          "esacci.SST.day.L3C.SSTskin.AVHRR-3.NOAA-18.AVHRR18_G.2-1.night",
          "esacci.SST.day.L3C.SSTskin.AVHRR-2.NOAA-9.AVHRR09_G.2-1.day",
          "esacci.SST.day.L3C.SSTskin.AVHRR-2.NOAA-9.AVHRR09_G.2-1.night",
          "esacci.SST.day.L3C.SSTskin.AVHRR-3.NOAA-16.AVHRR16_G.2-1.day",
          "esacci.SST.day.L3C.SSTskin.AVHRR-3.NOAA-16.AVHRR16_G.2-1.night",
          "esacci.SST.day.L3C.SSTskin.AVHRR-2.NOAA-7.AVHRR07_G.2-1.day",
          "esacci.SST.day.L3C.SSTskin.AVHRR-2.NOAA-7.AVHRR07_G.2-1.night"
         ],
         "ecv": "SST",
         "fid": "7db4459605da4665b6ab9a7102fb4875",
         "file_formats": [
          ".nc",
          ".txt"
         ],
         "institute": "ESACCI_SST",
         "licences": "Use of these data is covered by the following licence: https://artefacts.ceda.ac.uk/licences/specific_licences/esacci_sst_terms_and_conditions_v2.pdf . When using these data you must cite them correctly using the citation given on the CEDA Data Catalogue record.",
         "metadata_url": "https://catalogue.ceda.ac.uk/export/xml/7db4459605da4665b6ab9a7102fb4875.xml",
         "odd_url": "http://archive.opensearch.ceda.ac.uk/opensearch/description.xml?parentIdentifier=7db4459605da4665b6ab9a7102fb4875",
         "platform_id": "NOAA-14",
         "processing_level": "L3C",
         "product_string": "AVHRR14_G",
         "product_version": "2-1",
         "publication_date": "2019-08-02T20:01:15",
         "sensor_id": "AVHRR-2",
         "temporal_coverage_end": "2016-12-31T23:59:59",
         "temporal_coverage_start": "1981-08-23T23:00:00",
         "time_frequency": "day",
         "title": "ESA Sea Surface Temperature Climate Change Initiative (SST_cci): Advanced Very High Resolution Radiometer (AVHRR) Level 3 Collated (L3C) Climate Data Record, version 2.1",
         "uuid": "7db4459605da4665b6ab9a7102fb4875"
        },
        "bbox": [
         -180,
         -90,
         180,
         90
        ],
        "data_id": "esacci.SST.day.L3C.SSTskin.AVHRR-2.NOAA-14.AVHRR14_G.2-1.day",
        "data_vars": [
         {
          "attrs": {
           "add_offset": 273.15,
           "chunk_sizes": [
            1,
            90,
            180
           ],
           "comment": "Temperature of the skin of the ocean; total uncertainty = sqrt(uncertainty_systematic^2+uncertainty_correlated^2+uncertainty_random^2)",
           "data_type": "int16",
           "depth": "10 micrometres",
           "dimensions": [
            "time",
            "lat",
            "lon"
           ],
           "fill_value": -32768,
           "long_name": "sea surface skin temperature",
           "references": "http://www.esa-sst-cci.org",
           "scale_factor": 0.01,
           "size": 25920000,
           "source": "AVHRR07_G-ESACCI-L1C-v1",
           "standard_name": "sea_surface_skin_temperature",
           "units": "kelvin",
           "valid_max": 5000,
           "valid_min": -200
          },
          "dims": [
           "time",
           "lat",
           "lon"
          ],
          "dtype": "int16",
          "name": "sea_surface_temperature",
          "ndim": 3
         },
         {
          "attrs": {
           "add_offset": 273.15,
           "chunk_sizes": [
            1,
            90,
            180
           ],
           "comment": "Temperature of the ocean at 20 cm depth; total uncertainty = sqrt(uncertainty_systematic^2+uncertainty_correlated^2+uncertainty_random^2+uncertainty_correlated_time_and_depth_adjustment^2)",
           "data_type": "int16",
           "depth": "0.2 metre",
           "dimensions": [
            "time",
            "lat",
            "lon"
           ],
           "fill_value": -32768,
           "long_name": "sea surface temperature at 0.2 m",
           "references": "http://www.esa-sst-cci.org",
           "scale_factor": 0.01,
           "size": 25920000,
           "source": "AVHRR07_G-ESACCI-L1C-v1",
           "standard_name": "sea_water_temperature",
           "units": "kelvin",
           "valid_max": 5000,
           "valid_min": -200
          },
          "dims": [
           "time",
           "lat",
           "lon"
          ],
          "dtype": "int16",
          "name": "sea_surface_temperature_depth",
          "ndim": 3
         },
         {
          "attrs": {
           "add_offset": 0,
           "chunk_sizes": [
            1,
            90,
            180
           ],
           "comment": "Temperature of the ocean at 20 cm depth; total uncertainty = sqrt(uncertainty_systematic^2+uncertainty_correlated^2+uncertainty_random^2+uncertainty_correlated_time_and_depth_adjustment^2)",
           "data_type": "int16",
           "depth": "0.2 metre",
           "dimensions": [
            "time",
            "lat",
            "lon"
           ],
           "fill_value": -32768,
           "long_name": "sea surface temperature anomaly at 0.2 m",
           "references": "http://www.esa-sst-cci.org",
           "scale_factor": 0.01,
           "size": 25920000,
           "source": "AVHRR07_G-ESACCI-L1C-v1",
           "standard_name": "sea_water_temperature_anomaly",
           "units": "kelvin",
           "valid_max": 4000,
           "valid_min": -4000
          },
          "dims": [
           "time",
           "lat",
           "lon"
          ],
          "dtype": "int16",
          "name": "sea_surface_temperature_depth_anomaly",
          "ndim": 3
         },
         {
          "attrs": {
           "add_offset": 0,
           "chunk_sizes": [
            1,
            90,
            180
           ],
           "comment": "time plus sst_dtime gives seconds after 1981-01-01 00:00:00",
           "data_type": "int32",
           "dimensions": [
            "time",
            "lat",
            "lon"
           ],
           "fill_value": -2147483648,
           "long_name": "time difference from reference time",
           "scale_factor": 1,
           "size": 25920000,
           "units": "seconds",
           "valid_max": 43200,
           "valid_min": -43200
          },
          "dims": [
           "time",
           "lat",
           "lon"
          ],
          "dtype": "int32",
          "name": "sst_dtime",
          "ndim": 3
         },
         {
          "attrs": {
           "add_offset": 0,
           "chunk_sizes": [
            1,
            90,
            180
           ],
           "comment": "time plus sst_depth_dtime gives seconds after 1981-01-01 00:00:00",
           "data_type": "int32",
           "dimensions": [
            "time",
            "lat",
            "lon"
           ],
           "fill_value": -2147483648,
           "long_name": "time difference from reference time",
           "scale_factor": 1,
           "size": 25920000,
           "units": "seconds",
           "valid_max": 43200,
           "valid_min": -43200
          },
          "dims": [
           "time",
           "lat",
           "lon"
          ],
          "dtype": "int32",
          "name": "sst_depth_dtime",
          "ndim": 3
         },
         {
          "attrs": {
           "_Unsigned": "false",
           "add_offset": 0,
           "chunk_sizes": [
            1,
            90,
            180
           ],
           "comment": "Populated with zeroes",
           "data_type": "uint8",
           "dimensions": [
            "time",
            "lat",
            "lon"
           ],
           "fill_value": -128,
           "long_name": "SSES bias estimate",
           "scale_factor": 0.01,
           "size": 25920000,
           "units": "kelvin",
           "valid_max": 127,
           "valid_min": -127
          },
          "dims": [
           "time",
           "lat",
           "lon"
          ],
          "dtype": "uint8",
          "name": "sses_bias",
          "ndim": 3
         },
         {
          "attrs": {
           "_Unsigned": "false",
           "add_offset": 1.27,
           "chunk_sizes": [
            1,
            90,
            180
           ],
           "comment": "Uncertainty information is contained in the variables uncertainty_systematic, uncertainty_correlated, and uncertainty_random",
           "data_type": "uint8",
           "dimensions": [
            "time",
            "lat",
            "lon"
           ],
           "fill_value": -128,
           "long_name": "SSES standard deviation",
           "scale_factor": 0.01,
           "size": 25920000,
           "units": "kelvin",
           "valid_max": 127,
           "valid_min": -127
          },
          "dims": [
           "time",
           "lat",
           "lon"
          ],
          "dtype": "uint8",
          "name": "sses_standard_deviation",
          "ndim": 3
         },
         {
          "attrs": {
           "add_offset": 0,
           "chunk_sizes": [
            1,
            90,
            180
           ],
           "comment": "Total uncertainty in each sea_surface_temperature data point",
           "data_type": "int16",
           "dimensions": [
            "time",
            "lat",
            "lon"
           ],
           "fill_value": -32768,
           "long_name": "Total uncertainty in sea_surface_temperature",
           "scale_factor": 0.001,
           "size": 25920000,
           "units": "kelvin",
           "valid_max": 5000,
           "valid_min": 0
          },
          "dims": [
           "time",
           "lat",
           "lon"
          ],
          "dtype": "int16",
          "name": "sea_surface_temperature_total_uncertainty",
          "ndim": 3
         },
         {
          "attrs": {
           "add_offset": 0,
           "chunk_sizes": [
            1,
            90,
            180
           ],
           "comment": "Total uncertainty in each sea_surface_temperature_depth data point",
           "data_type": "int16",
           "dimensions": [
            "time",
            "lat",
            "lon"
           ],
           "fill_value": -32768,
           "long_name": "Total uncertainty in sea_surface_temperature_depth",
           "scale_factor": 0.001,
           "size": 25920000,
           "units": "kelvin",
           "valid_max": 5000,
           "valid_min": 0
          },
          "dims": [
           "time",
           "lat",
           "lon"
          ],
          "dtype": "int16",
          "name": "sea_surface_temperature_depth_total_uncertainty",
          "ndim": 3
         },
         {
          "attrs": {
           "add_offset": 0,
           "chunk_sizes": [
            1,
            90,
            180
           ],
           "comment": "Add to sea_surface_temperature, if SST at 20cm at observation time is required",
           "data_type": "int16",
           "dimensions": [
            "time",
            "lat",
            "lon"
           ],
           "fill_value": -32768,
           "long_name": "Adjustment to sea surface temperature at 0.2 m",
           "scale_factor": 0.01,
           "size": 25920000,
           "units": "kelvin",
           "valid_max": 1000,
           "valid_min": -1000
          },
          "dims": [
           "time",
           "lat",
           "lon"
          ],
          "dtype": "int16",
          "name": "depth_adjustment",
          "ndim": 3
         },
         {
          "attrs": {
           "add_offset": 0,
           "chunk_sizes": [
            1,
            90,
            180
           ],
           "comment": "Add to sea_surface_temperature, if alternative SST retrieval is required",
           "data_type": "int16",
           "dimensions": [
            "time",
            "lat",
            "lon"
           ],
           "fill_value": -32768,
           "long_name": "Adjustment to alternative sea surface temperature retrieval",
           "scale_factor": 0.01,
           "size": 25920000,
           "units": "kelvin",
           "valid_max": 1000,
           "valid_min": -1000
          },
          "dims": [
           "time",
           "lat",
           "lon"
          ],
          "dtype": "int16",
          "name": "adjustment_alt",
          "ndim": 3
         },
         {
          "attrs": {
           "chunk_sizes": [
            1,
            90,
            180
           ],
           "comment": "These flags are important to properly use the data",
           "data_type": "int16",
           "dimensions": [
            "time",
            "lat",
            "lon"
           ],
           "fill_value": -32768,
           "flag_masks": [
            1,
            2,
            4,
            8,
            16,
            32,
            64,
            128,
            256
           ],
           "flag_meanings": "microwave land ice lake river spare views channels day",
           "long_name": "L2P flags",
           "size": 25920000,
           "valid_max": 511,
           "valid_min": 0
          },
          "dims": [
           "time",
           "lat",
           "lon"
          ],
          "dtype": "int16",
          "name": "l2p_flags",
          "ndim": 3
         },
         {
          "attrs": {
           "_Unsigned": "false",
           "chunk_sizes": [
            1,
            90,
            180
           ],
           "comment": "These are overall quality indicators and are used for all GHRSST SSTs",
           "data_type": "uint8",
           "dimensions": [
            "time",
            "lat",
            "lon"
           ],
           "fill_value": 0,
           "flag_meanings": "no_data bad_data worst_quality low_quality acceptable_quality best_quality",
           "flag_values": [
            0,
            1,
            2,
            3,
            4,
            5
           ],
           "long_name": "quality level of SST pixel",
           "size": 25920000,
           "valid_max": 5,
           "valid_min": 0
          },
          "dims": [
           "time",
           "lat",
           "lon"
          ],
          "dtype": "uint8",
          "name": "quality_level",
          "ndim": 3
         },
         {
          "attrs": {
           "_Unsigned": "false",
           "add_offset": 12.7,
           "chunk_sizes": [
            1,
            90,
            180
           ],
           "comment": "Wind speeds sourced from ECMWF ERA Interim Reanalysis; wind speeds greater than 25.4 m/s are set to 25.4.",
           "data_type": "uint8",
           "dimensions": [
            "time",
            "lat",
            "lon"
           ],
           "fill_value": -128,
           "height": "10 m",
           "long_name": "10m wind speed",
           "references": "http://www.esa-sst-cci.org",
           "scale_factor": 0.1,
           "size": 25920000,
           "source": "ERA_INTERIM-ECMWF-WSP-v1.0",
           "standard_name": "wind_speed",
           "time_offset": 0,
           "units": "m s-1",
           "valid_max": 127,
           "valid_min": -127
          },
          "dims": [
           "time",
           "lat",
           "lon"
          ],
          "dtype": "uint8",
          "name": "wind_speed",
          "ndim": 3
         },
         {
          "attrs": {
           "_Unsigned": "false",
           "chunk_sizes": [
            1,
            90,
            180
           ],
           "comment": "1. single view, two channel 2. single view, three channel 3. dual view, two channel 4. dual view, three channel 5. single view, 11 and 3.7 two channel",
           "data_type": "uint8",
           "dimensions": [
            "time",
            "lat",
            "lon"
           ],
           "fill_value": -128,
           "flag_meanings": "single_view_two_channel single_view_three_channel dual_view_two_channel dual_view_three_channel single_view_11_and_3.7_two_channel",
           "flag_values": [
            1,
            2,
            3,
            4,
            5
           ],
           "long_name": "Type of retrieval used for the primary SST",
           "size": 25920000,
           "valid_max": 5,
           "valid_min": 1
          },
          "dims": [
           "time",
           "lat",
           "lon"
          ],
          "dtype": "uint8",
          "name": "sea_surface_temperature_retrieval_type",
          "ndim": 3
         },
         {
          "attrs": {
           "_Unsigned": "false",
           "chunk_sizes": [
            1,
            90,
            180
           ],
           "comment": "For ATSRs, adjustment gives D2 (most consistent through time series) when D3 is provided as best. For AVHRRs, adjustment provides N2 when N3 is best. Reason for providing an alternative: can then use N2 or D2 consistently for whole record i",
           "data_type": "uint8",
           "dimensions": [
            "time",
            "lat",
            "lon"
           ],
           "fill_value": -128,
           "flag_meanings": "single_view_two_channel single_view_three_channel dual_view_two_channel dual_view_three_channel single_view_11_and_3.7_two_channel",
           "flag_values": [
            1,
            2,
            3,
            4,
            5
           ],
           "long_name": "Type of retrieval used for the alternate SST retrieval",
           "size": 25920000,
           "valid_max": 5,
           "valid_min": 1
          },
          "dims": [
           "time",
           "lat",
           "lon"
          ],
          "dtype": "uint8",
          "name": "alt_sst_retrieval_type",
          "ndim": 3
         },
         {
          "attrs": {
           "add_offset": 0,
           "chunk_sizes": [
            1,
            90,
            180
           ],
           "comment": "Component of uncertainty that is uncorrelated between SSTs; can be combined with other uncertainty estimates to form a total uncertainty",
           "data_type": "int16",
           "dimensions": [
            "time",
            "lat",
            "lon"
           ],
           "fill_value": -32768,
           "long_name": "Uncertainty from errors likely to be uncorrelated between SSTs",
           "references": "http://www.esa-sst-cci.org",
           "scale_factor": 0.001,
           "size": 25920000,
           "units": "kelvin",
           "valid_max": 5000,
           "valid_min": 0
          },
          "dims": [
           "time",
           "lat",
           "lon"
          ],
          "dtype": "int16",
          "name": "uncertainty_random",
          "ndim": 3
         },
         {
          "attrs": {
           "add_offset": 0,
           "chunk_sizes": [
            1,
            90,
            180
           ],
           "comment": "Component of uncertainty that is correlated over synoptic scales; can be combined with other uncertainty estimates to form a total uncertainty",
           "correlation_length_scale": "100 km",
           "correlation_time_scale": "1 day",
           "data_type": "int16",
           "dimensions": [
            "time",
            "lat",
            "lon"
           ],
           "fill_value": -32768,
           "long_name": "Uncertainty from errors likely to be correlated over synoptic scales",
           "references": "http://www.esa-sst-cci.org",
           "scale_factor": 0.001,
           "size": 25920000,
           "units": "kelvin",
           "valid_max": 5000,
           "valid_min": 0
          },
          "dims": [
           "time",
           "lat",
           "lon"
          ],
          "dtype": "int16",
          "name": "uncertainty_correlated",
          "ndim": 3
         },
         {
          "attrs": {
           "add_offset": 0,
           "chunk_sizes": [
            1,
            90,
            180
           ],
           "comment": "Component of uncertainty that is correlated over large scales; can be combined with other uncertainty estimates to form a total uncertainty",
           "data_type": "int16",
           "dimensions": [
            "time",
            "lat",
            "lon"
           ],
           "fill_value": -32768,
           "long_name": "Uncertainty from errors likely to be correlated over large scales",
           "references": "http://www.esa-sst-cci.org",
           "scale_factor": 0.001,
           "size": 25920000,
           "units": "kelvin",
           "valid_max": 5000,
           "valid_min": 0
          },
          "dims": [
           "time",
           "lat",
           "lon"
          ],
          "dtype": "int16",
          "name": "uncertainty_systematic",
          "ndim": 3
         },
         {
          "attrs": {
           "add_offset": 0,
           "chunk_sizes": [
            1,
            90,
            180
           ],
           "comment": "Adjustment uncertainty; can be combined with other uncertainty estimates to form a total uncertainty",
           "correlation_length_scale": "100 km",
           "correlation_time_scale": "1 day",
           "data_type": "int16",
           "dimensions": [
            "time",
            "lat",
            "lon"
           ],
           "fill_value": -32768,
           "long_name": "Time and depth adjustment uncertainty",
           "references": "http://www.esa-sst-cci.org",
           "scale_factor": 0.001,
           "size": 25920000,
           "units": "kelvin",
           "valid_max": 5000,
           "valid_min": 0
          },
          "dims": [
           "time",
           "lat",
           "lon"
          ],
          "dtype": "int16",
          "name": "uncertainty_correlated_time_and_depth_adjustment",
          "ndim": 3
         },
         {
          "attrs": {
           "add_offset": 0,
           "chunk_sizes": [
            1,
            90,
            180
           ],
           "comment": "Component of uncertainty in alternative SST retrieval that is uncorrelated between SSTs; can be combined with other uncertainty estimates to form a total uncertainty",
           "data_type": "int16",
           "dimensions": [
            "time",
            "lat",
            "lon"
           ],
           "fill_value": -32768,
           "long_name": "Uncertainty in alternative SST retrieval from errors likely to be uncorrelated between SSTs",
           "references": "http://www.esa-sst-cci.org",
           "scale_factor": 0.001,
           "size": 25920000,
           "units": "kelvin",
           "valid_max": 5000,
           "valid_min": 0
          },
          "dims": [
           "time",
           "lat",
           "lon"
          ],
          "dtype": "int16",
          "name": "uncertainty_random_alt",
          "ndim": 3
         },
         {
          "attrs": {
           "add_offset": 0,
           "chunk_sizes": [
            1,
            90,
            180
           ],
           "comment": "Component of uncertainty in alternative SST retrieval that is correlated over synoptic scales; can be combined with other uncertainty estimates to form a total uncertainty",
           "correlation_length_scale": "100 km",
           "correlation_time_scale": "1 day",
           "data_type": "int16",
           "dimensions": [
            "time",
            "lat",
            "lon"
           ],
           "fill_value": -32768,
           "long_name": "Uncertainty in alternative SST retrieval from errors likely to be correlated over synoptic scales",
           "references": "http://www.esa-sst-cci.org",
           "scale_factor": 0.001,
           "size": 25920000,
           "units": "kelvin",
           "valid_max": 5000,
           "valid_min": 0
          },
          "dims": [
           "time",
           "lat",
           "lon"
          ],
          "dtype": "int16",
          "name": "uncertainty_correlated_alt",
          "ndim": 3
         },
         {
          "attrs": {
           "add_offset": 0,
           "chunk_sizes": [
            1,
            90,
            180
           ],
           "comment": "Component of uncertainty in alternative SST retrieval that is correlated over large scales; can be combined with other uncertainty estimates to form a total uncertainty",
           "data_type": "int16",
           "dimensions": [
            "time",
            "lat",
            "lon"
           ],
           "fill_value": -32768,
           "long_name": "Uncertainty in alternative SST retrieval from errors likely to be correlated over large scales",
           "references": "http://www.esa-sst-cci.org",
           "scale_factor": 0.001,
           "size": 25920000,
           "units": "kelvin",
           "valid_max": 5000,
           "valid_min": 0
          },
          "dims": [
           "time",
           "lat",
           "lon"
          ],
          "dtype": "int16",
          "name": "uncertainty_systematic_alt",
          "ndim": 3
         },
         {
          "attrs": {
           "add_offset": 0,
           "chunk_sizes": [
            1,
            90,
            180
           ],
           "comment": "Sensitivity of the retrieval to actual changes in sea surface temperature",
           "data_type": "int16",
           "dimensions": [
            "time",
            "lat",
            "lon"
           ],
           "fill_value": -32768,
           "long_name": "Sensitivity of the retrieval to actual changes in sea surface temperature",
           "scale_factor": 0.001,
           "size": 25920000,
           "units": "K/K",
           "valid_max": 1100,
           "valid_min": 0
          },
          "dims": [
           "time",
           "lat",
           "lon"
          ],
          "dtype": "int16",
          "name": "sst_sensitivity",
          "ndim": 3
         },
         {
          "attrs": {
           "add_offset": 0,
           "chunk_sizes": [
            1,
            90,
            180
           ],
           "comment": "If not applied, fill with zeros to indicate independence from in situ",
           "data_type": "int16",
           "dimensions": [
            "time",
            "lat",
            "lon"
           ],
           "fill_value": -32768,
           "long_name": "Adjustment, based on comparison to in situ data",
           "scale_factor": 0.01,
           "size": 25920000,
           "units": "kelvin",
           "valid_max": 1000,
           "valid_min": -1000
          },
          "dims": [
           "time",
           "lat",
           "lon"
          ],
          "dtype": "int16",
          "name": "empirical_adjustment",
          "ndim": 3
         }
        ],
        "dims": {
         "bnds": 2,
         "lat": 3600,
         "lon": 7200,
         "time": 1
        },
        "open_params_schema": {
         "additionalProperties": false,
         "properties": {
          "bbox": {
           "items": [
            {
             "maximum": 180,
             "minimum": -180,
             "type": "number"
            },
            {
             "maximum": 90,
             "minimum": -90,
             "type": "number"
            },
            {
             "maximum": 180,
             "minimum": -180,
             "type": "number"
            },
            {
             "maximum": 90,
             "minimum": -90,
             "type": "number"
            }
           ],
           "type": "array"
          },
          "crs": {
           "const": "WGS84",
           "type": "string"
          },
          "spatial_res": {
           "const": 0.05,
           "type": "number"
          },
          "time_period": {
           "const": "1D",
           "type": "string"
          },
          "time_range": {
           "items": [
            {
             "format": "date",
             "maxDate": "2016-12-31",
             "minDate": "1981-08-23",
             "type": "string"
            },
            {
             "format": "date",
             "maxDate": "2016-12-31",
             "minDate": "1981-08-23",
             "type": "string"
            }
           ],
           "type": "array"
          },
          "variable_names": {
           "items": {
            "enum": [
             "sea_surface_temperature",
             "sea_surface_temperature_depth",
             "sea_surface_temperature_depth_anomaly",
             "sst_dtime",
             "sst_depth_dtime",
             "sses_bias",
             "sses_standard_deviation",
             "sea_surface_temperature_total_uncertainty",
             "sea_surface_temperature_depth_total_uncertainty",
             "depth_adjustment",
             "adjustment_alt",
             "l2p_flags",
             "quality_level",
             "wind_speed",
             "sea_surface_temperature_retrieval_type",
             "alt_sst_retrieval_type",
             "uncertainty_random",
             "uncertainty_correlated",
             "uncertainty_systematic",
             "uncertainty_correlated_time_and_depth_adjustment",
             "uncertainty_random_alt",
             "uncertainty_correlated_alt",
             "uncertainty_systematic_alt",
             "sst_sensitivity",
             "empirical_adjustment"
            ],
            "type": "string"
           },
           "type": "array"
          }
         },
         "type": "object"
        },
        "spatial_res": 0.05,
        "time_period": "1D",
        "time_range": [
         "1981-08-23",
         "2016-12-31"
        ],
        "type_specifier": "dataset"
       },
       {
        "attrs": {
         "abstract": "This v2.1 SST_cci Advanced Very High Resolution Radiometer (AVHRR) Level 3 Collated (L3C) Climate Data Record (CDR) consists of stable, low-bias sea surface temperature (SST) data from the AVHRR series of satellite instruments.  It covers the period between 08/1981 and 12/2016.  This L3C product provides these SST data on a 0.05 regular latitude-longitude grid and collated to include all orbits for a day (separated into daytime and nighttime files).\n\nThe dataset has been produced as part of the European Space Agency (ESA) Climate Change Initiative Sea Surface Temperature project(ESA SST_cci). The data products from SST_cci accurately map the surface temperature of the global oceans over the period 1981 to 2016 using observations from many satellites. The data provide independently quantified SSTs to a quality suitable for climate research.\n\nThis CDR Version 2.1 product supercedes the CDR Version 2.0 product.  Data are made freely and openly available under a Creative Commons License by Attribution (CC By 4.0) https://creativecommons.org/licenses/by/4.0/ .\n\nWhen citing this dataset please also cite the associated data paper: Merchant, C.J., Embury, O., Bulgin, C.E., Block T., Corlett, G.K., Fiedler, E., Good, S.A., Mittaz, J., Rayner, N.A., Berry, D., Eastwood, S., Taylor, M., Tsushima, Y., Waterfall, A., Wilson, R., Donlon, C. Satellite-based time-series of sea-surface temperature since 1981 for climate applications, Scientific Data 6:223 (2019). http://doi.org/10.1038/s41597-019-0236-x",
         "bbox_maxx": "180.0",
         "bbox_maxy": "90.0",
         "bbox_minx": "-180.0",
         "bbox_miny": "-90.0",
         "cci_project": "SST",
         "creation_date": "2019-08-02T20:01:15",
         "data_type": "SSTskin",
         "drs_ids": [
          "esacci.SST.day.L3C.SSTskin.AVHRR-3.NOAA-15.AVHRR15_G.2-1.day",
          "esacci.SST.day.L3C.SSTskin.AVHRR-3.NOAA-15.AVHRR15_G.2-1.night",
          "esacci.SST.day.L3C.SSTskin.AVHRR-3.Metop-A.AVHRRMTA_G.2-1.day",
          "esacci.SST.day.L3C.SSTskin.AVHRR-3.Metop-A.AVHRRMTA_G.2-1.night",
          "esacci.SST.day.L3C.SSTskin.AVHRR-3.NOAA-19.AVHRR19_G.2-1.day",
          "esacci.SST.day.L3C.SSTskin.AVHRR-3.NOAA-19.AVHRR19_G.2-1.night",
          "esacci.SST.day.L3C.SSTskin.AVHRR-3.NOAA-17.AVHRR17_G.2-1.day",
          "esacci.SST.day.L3C.SSTskin.AVHRR-3.NOAA-17.AVHRR17_G.2-1.night",
          "esacci.SST.day.L3C.SSTskin.AVHRR-2.NOAA-12.AVHRR12_G.2-1.day",
          "esacci.SST.day.L3C.SSTskin.AVHRR-2.NOAA-12.AVHRR12_G.2-1.night",
          "esacci.SST.day.L3C.SSTskin.AVHRR-2.NOAA-11.AVHRR11_G.2-1.day",
          "esacci.SST.day.L3C.SSTskin.AVHRR-2.NOAA-11.AVHRR11_G.2-1.night",
          "esacci.SST.day.L3C.SSTskin.AVHRR-2.NOAA-14.AVHRR14_G.2-1.day",
          "esacci.SST.day.L3C.SSTskin.AVHRR-2.NOAA-14.AVHRR14_G.2-1.night",
          "esacci.SST.day.L3C.SSTskin.AVHRR-3.NOAA-18.AVHRR18_G.2-1.day",
          "esacci.SST.day.L3C.SSTskin.AVHRR-3.NOAA-18.AVHRR18_G.2-1.night",
          "esacci.SST.day.L3C.SSTskin.AVHRR-2.NOAA-9.AVHRR09_G.2-1.day",
          "esacci.SST.day.L3C.SSTskin.AVHRR-2.NOAA-9.AVHRR09_G.2-1.night",
          "esacci.SST.day.L3C.SSTskin.AVHRR-3.NOAA-16.AVHRR16_G.2-1.day",
          "esacci.SST.day.L3C.SSTskin.AVHRR-3.NOAA-16.AVHRR16_G.2-1.night",
          "esacci.SST.day.L3C.SSTskin.AVHRR-2.NOAA-7.AVHRR07_G.2-1.day",
          "esacci.SST.day.L3C.SSTskin.AVHRR-2.NOAA-7.AVHRR07_G.2-1.night"
         ],
         "ecv": "SST",
         "fid": "7db4459605da4665b6ab9a7102fb4875",
         "file_formats": [
          ".nc",
          ".txt"
         ],
         "institute": "ESACCI_SST",
         "licences": "Use of these data is covered by the following licence: https://artefacts.ceda.ac.uk/licences/specific_licences/esacci_sst_terms_and_conditions_v2.pdf . When using these data you must cite them correctly using the citation given on the CEDA Data Catalogue record.",
         "metadata_url": "https://catalogue.ceda.ac.uk/export/xml/7db4459605da4665b6ab9a7102fb4875.xml",
         "odd_url": "http://archive.opensearch.ceda.ac.uk/opensearch/description.xml?parentIdentifier=7db4459605da4665b6ab9a7102fb4875",
         "platform_id": "NOAA-14",
         "processing_level": "L3C",
         "product_string": "AVHRR14_G",
         "product_version": "2-1",
         "publication_date": "2019-08-02T20:01:15",
         "sensor_id": "AVHRR-2",
         "temporal_coverage_end": "2016-12-31T23:59:59",
         "temporal_coverage_start": "1981-08-23T23:00:00",
         "time_frequency": "day",
         "title": "ESA Sea Surface Temperature Climate Change Initiative (SST_cci): Advanced Very High Resolution Radiometer (AVHRR) Level 3 Collated (L3C) Climate Data Record, version 2.1",
         "uuid": "7db4459605da4665b6ab9a7102fb4875"
        },
        "bbox": [
         -180,
         -90,
         180,
         90
        ],
        "data_id": "esacci.SST.day.L3C.SSTskin.AVHRR-2.NOAA-14.AVHRR14_G.2-1.night",
        "data_vars": [
         {
          "attrs": {
           "add_offset": 273.15,
           "chunk_sizes": [
            1,
            90,
            180
           ],
           "comment": "Temperature of the skin of the ocean; total uncertainty = sqrt(uncertainty_systematic^2+uncertainty_correlated^2+uncertainty_random^2)",
           "data_type": "int16",
           "depth": "10 micrometres",
           "dimensions": [
            "time",
            "lat",
            "lon"
           ],
           "fill_value": -32768,
           "long_name": "sea surface skin temperature",
           "references": "http://www.esa-sst-cci.org",
           "scale_factor": 0.01,
           "size": 25920000,
           "source": "AVHRR07_G-ESACCI-L1C-v1",
           "standard_name": "sea_surface_skin_temperature",
           "units": "kelvin",
           "valid_max": 5000,
           "valid_min": -200
          },
          "dims": [
           "time",
           "lat",
           "lon"
          ],
          "dtype": "int16",
          "name": "sea_surface_temperature",
          "ndim": 3
         },
         {
          "attrs": {
           "add_offset": 273.15,
           "chunk_sizes": [
            1,
            90,
            180
           ],
           "comment": "Temperature of the ocean at 20 cm depth; total uncertainty = sqrt(uncertainty_systematic^2+uncertainty_correlated^2+uncertainty_random^2+uncertainty_correlated_time_and_depth_adjustment^2)",
           "data_type": "int16",
           "depth": "0.2 metre",
           "dimensions": [
            "time",
            "lat",
            "lon"
           ],
           "fill_value": -32768,
           "long_name": "sea surface temperature at 0.2 m",
           "references": "http://www.esa-sst-cci.org",
           "scale_factor": 0.01,
           "size": 25920000,
           "source": "AVHRR07_G-ESACCI-L1C-v1",
           "standard_name": "sea_water_temperature",
           "units": "kelvin",
           "valid_max": 5000,
           "valid_min": -200
          },
          "dims": [
           "time",
           "lat",
           "lon"
          ],
          "dtype": "int16",
          "name": "sea_surface_temperature_depth",
          "ndim": 3
         },
         {
          "attrs": {
           "add_offset": 0,
           "chunk_sizes": [
            1,
            90,
            180
           ],
           "comment": "Temperature of the ocean at 20 cm depth; total uncertainty = sqrt(uncertainty_systematic^2+uncertainty_correlated^2+uncertainty_random^2+uncertainty_correlated_time_and_depth_adjustment^2)",
           "data_type": "int16",
           "depth": "0.2 metre",
           "dimensions": [
            "time",
            "lat",
            "lon"
           ],
           "fill_value": -32768,
           "long_name": "sea surface temperature anomaly at 0.2 m",
           "references": "http://www.esa-sst-cci.org",
           "scale_factor": 0.01,
           "size": 25920000,
           "source": "AVHRR07_G-ESACCI-L1C-v1",
           "standard_name": "sea_water_temperature_anomaly",
           "units": "kelvin",
           "valid_max": 4000,
           "valid_min": -4000
          },
          "dims": [
           "time",
           "lat",
           "lon"
          ],
          "dtype": "int16",
          "name": "sea_surface_temperature_depth_anomaly",
          "ndim": 3
         },
         {
          "attrs": {
           "add_offset": 0,
           "chunk_sizes": [
            1,
            90,
            180
           ],
           "comment": "time plus sst_dtime gives seconds after 1981-01-01 00:00:00",
           "data_type": "int32",
           "dimensions": [
            "time",
            "lat",
            "lon"
           ],
           "fill_value": -2147483648,
           "long_name": "time difference from reference time",
           "scale_factor": 1,
           "size": 25920000,
           "units": "seconds",
           "valid_max": 43200,
           "valid_min": -43200
          },
          "dims": [
           "time",
           "lat",
           "lon"
          ],
          "dtype": "int32",
          "name": "sst_dtime",
          "ndim": 3
         },
         {
          "attrs": {
           "add_offset": 0,
           "chunk_sizes": [
            1,
            90,
            180
           ],
           "comment": "time plus sst_depth_dtime gives seconds after 1981-01-01 00:00:00",
           "data_type": "int32",
           "dimensions": [
            "time",
            "lat",
            "lon"
           ],
           "fill_value": -2147483648,
           "long_name": "time difference from reference time",
           "scale_factor": 1,
           "size": 25920000,
           "units": "seconds",
           "valid_max": 43200,
           "valid_min": -43200
          },
          "dims": [
           "time",
           "lat",
           "lon"
          ],
          "dtype": "int32",
          "name": "sst_depth_dtime",
          "ndim": 3
         },
         {
          "attrs": {
           "_Unsigned": "false",
           "add_offset": 0,
           "chunk_sizes": [
            1,
            90,
            180
           ],
           "comment": "Populated with zeroes",
           "data_type": "uint8",
           "dimensions": [
            "time",
            "lat",
            "lon"
           ],
           "fill_value": -128,
           "long_name": "SSES bias estimate",
           "scale_factor": 0.01,
           "size": 25920000,
           "units": "kelvin",
           "valid_max": 127,
           "valid_min": -127
          },
          "dims": [
           "time",
           "lat",
           "lon"
          ],
          "dtype": "uint8",
          "name": "sses_bias",
          "ndim": 3
         },
         {
          "attrs": {
           "_Unsigned": "false",
           "add_offset": 1.27,
           "chunk_sizes": [
            1,
            90,
            180
           ],
           "comment": "Uncertainty information is contained in the variables uncertainty_systematic, uncertainty_correlated, and uncertainty_random",
           "data_type": "uint8",
           "dimensions": [
            "time",
            "lat",
            "lon"
           ],
           "fill_value": -128,
           "long_name": "SSES standard deviation",
           "scale_factor": 0.01,
           "size": 25920000,
           "units": "kelvin",
           "valid_max": 127,
           "valid_min": -127
          },
          "dims": [
           "time",
           "lat",
           "lon"
          ],
          "dtype": "uint8",
          "name": "sses_standard_deviation",
          "ndim": 3
         },
         {
          "attrs": {
           "add_offset": 0,
           "chunk_sizes": [
            1,
            90,
            180
           ],
           "comment": "Total uncertainty in each sea_surface_temperature data point",
           "data_type": "int16",
           "dimensions": [
            "time",
            "lat",
            "lon"
           ],
           "fill_value": -32768,
           "long_name": "Total uncertainty in sea_surface_temperature",
           "scale_factor": 0.001,
           "size": 25920000,
           "units": "kelvin",
           "valid_max": 5000,
           "valid_min": 0
          },
          "dims": [
           "time",
           "lat",
           "lon"
          ],
          "dtype": "int16",
          "name": "sea_surface_temperature_total_uncertainty",
          "ndim": 3
         },
         {
          "attrs": {
           "add_offset": 0,
           "chunk_sizes": [
            1,
            90,
            180
           ],
           "comment": "Total uncertainty in each sea_surface_temperature_depth data point",
           "data_type": "int16",
           "dimensions": [
            "time",
            "lat",
            "lon"
           ],
           "fill_value": -32768,
           "long_name": "Total uncertainty in sea_surface_temperature_depth",
           "scale_factor": 0.001,
           "size": 25920000,
           "units": "kelvin",
           "valid_max": 5000,
           "valid_min": 0
          },
          "dims": [
           "time",
           "lat",
           "lon"
          ],
          "dtype": "int16",
          "name": "sea_surface_temperature_depth_total_uncertainty",
          "ndim": 3
         },
         {
          "attrs": {
           "add_offset": 0,
           "chunk_sizes": [
            1,
            90,
            180
           ],
           "comment": "Add to sea_surface_temperature, if SST at 20cm at observation time is required",
           "data_type": "int16",
           "dimensions": [
            "time",
            "lat",
            "lon"
           ],
           "fill_value": -32768,
           "long_name": "Adjustment to sea surface temperature at 0.2 m",
           "scale_factor": 0.01,
           "size": 25920000,
           "units": "kelvin",
           "valid_max": 1000,
           "valid_min": -1000
          },
          "dims": [
           "time",
           "lat",
           "lon"
          ],
          "dtype": "int16",
          "name": "depth_adjustment",
          "ndim": 3
         },
         {
          "attrs": {
           "add_offset": 0,
           "chunk_sizes": [
            1,
            90,
            180
           ],
           "comment": "Add to sea_surface_temperature, if alternative SST retrieval is required",
           "data_type": "int16",
           "dimensions": [
            "time",
            "lat",
            "lon"
           ],
           "fill_value": -32768,
           "long_name": "Adjustment to alternative sea surface temperature retrieval",
           "scale_factor": 0.01,
           "size": 25920000,
           "units": "kelvin",
           "valid_max": 1000,
           "valid_min": -1000
          },
          "dims": [
           "time",
           "lat",
           "lon"
          ],
          "dtype": "int16",
          "name": "adjustment_alt",
          "ndim": 3
         },
         {
          "attrs": {
           "chunk_sizes": [
            1,
            90,
            180
           ],
           "comment": "These flags are important to properly use the data",
           "data_type": "int16",
           "dimensions": [
            "time",
            "lat",
            "lon"
           ],
           "fill_value": -32768,
           "flag_masks": [
            1,
            2,
            4,
            8,
            16,
            32,
            64,
            128,
            256
           ],
           "flag_meanings": "microwave land ice lake river spare views channels day",
           "long_name": "L2P flags",
           "size": 25920000,
           "valid_max": 511,
           "valid_min": 0
          },
          "dims": [
           "time",
           "lat",
           "lon"
          ],
          "dtype": "int16",
          "name": "l2p_flags",
          "ndim": 3
         },
         {
          "attrs": {
           "_Unsigned": "false",
           "chunk_sizes": [
            1,
            90,
            180
           ],
           "comment": "These are overall quality indicators and are used for all GHRSST SSTs",
           "data_type": "uint8",
           "dimensions": [
            "time",
            "lat",
            "lon"
           ],
           "fill_value": 0,
           "flag_meanings": "no_data bad_data worst_quality low_quality acceptable_quality best_quality",
           "flag_values": [
            0,
            1,
            2,
            3,
            4,
            5
           ],
           "long_name": "quality level of SST pixel",
           "size": 25920000,
           "valid_max": 5,
           "valid_min": 0
          },
          "dims": [
           "time",
           "lat",
           "lon"
          ],
          "dtype": "uint8",
          "name": "quality_level",
          "ndim": 3
         },
         {
          "attrs": {
           "_Unsigned": "false",
           "add_offset": 12.7,
           "chunk_sizes": [
            1,
            90,
            180
           ],
           "comment": "Wind speeds sourced from ECMWF ERA Interim Reanalysis; wind speeds greater than 25.4 m/s are set to 25.4.",
           "data_type": "uint8",
           "dimensions": [
            "time",
            "lat",
            "lon"
           ],
           "fill_value": -128,
           "height": "10 m",
           "long_name": "10m wind speed",
           "references": "http://www.esa-sst-cci.org",
           "scale_factor": 0.1,
           "size": 25920000,
           "source": "ERA_INTERIM-ECMWF-WSP-v1.0",
           "standard_name": "wind_speed",
           "time_offset": 0,
           "units": "m s-1",
           "valid_max": 127,
           "valid_min": -127
          },
          "dims": [
           "time",
           "lat",
           "lon"
          ],
          "dtype": "uint8",
          "name": "wind_speed",
          "ndim": 3
         },
         {
          "attrs": {
           "_Unsigned": "false",
           "chunk_sizes": [
            1,
            90,
            180
           ],
           "comment": "1. single view, two channel 2. single view, three channel 3. dual view, two channel 4. dual view, three channel 5. single view, 11 and 3.7 two channel",
           "data_type": "uint8",
           "dimensions": [
            "time",
            "lat",
            "lon"
           ],
           "fill_value": -128,
           "flag_meanings": "single_view_two_channel single_view_three_channel dual_view_two_channel dual_view_three_channel single_view_11_and_3.7_two_channel",
           "flag_values": [
            1,
            2,
            3,
            4,
            5
           ],
           "long_name": "Type of retrieval used for the primary SST",
           "size": 25920000,
           "valid_max": 5,
           "valid_min": 1
          },
          "dims": [
           "time",
           "lat",
           "lon"
          ],
          "dtype": "uint8",
          "name": "sea_surface_temperature_retrieval_type",
          "ndim": 3
         },
         {
          "attrs": {
           "_Unsigned": "false",
           "chunk_sizes": [
            1,
            90,
            180
           ],
           "comment": "For ATSRs, adjustment gives D2 (most consistent through time series) when D3 is provided as best. For AVHRRs, adjustment provides N2 when N3 is best. Reason for providing an alternative: can then use N2 or D2 consistently for whole record i",
           "data_type": "uint8",
           "dimensions": [
            "time",
            "lat",
            "lon"
           ],
           "fill_value": -128,
           "flag_meanings": "single_view_two_channel single_view_three_channel dual_view_two_channel dual_view_three_channel single_view_11_and_3.7_two_channel",
           "flag_values": [
            1,
            2,
            3,
            4,
            5
           ],
           "long_name": "Type of retrieval used for the alternate SST retrieval",
           "size": 25920000,
           "valid_max": 5,
           "valid_min": 1
          },
          "dims": [
           "time",
           "lat",
           "lon"
          ],
          "dtype": "uint8",
          "name": "alt_sst_retrieval_type",
          "ndim": 3
         },
         {
          "attrs": {
           "add_offset": 0,
           "chunk_sizes": [
            1,
            90,
            180
           ],
           "comment": "Component of uncertainty that is uncorrelated between SSTs; can be combined with other uncertainty estimates to form a total uncertainty",
           "data_type": "int16",
           "dimensions": [
            "time",
            "lat",
            "lon"
           ],
           "fill_value": -32768,
           "long_name": "Uncertainty from errors likely to be uncorrelated between SSTs",
           "references": "http://www.esa-sst-cci.org",
           "scale_factor": 0.001,
           "size": 25920000,
           "units": "kelvin",
           "valid_max": 5000,
           "valid_min": 0
          },
          "dims": [
           "time",
           "lat",
           "lon"
          ],
          "dtype": "int16",
          "name": "uncertainty_random",
          "ndim": 3
         },
         {
          "attrs": {
           "add_offset": 0,
           "chunk_sizes": [
            1,
            90,
            180
           ],
           "comment": "Component of uncertainty that is correlated over synoptic scales; can be combined with other uncertainty estimates to form a total uncertainty",
           "correlation_length_scale": "100 km",
           "correlation_time_scale": "1 day",
           "data_type": "int16",
           "dimensions": [
            "time",
            "lat",
            "lon"
           ],
           "fill_value": -32768,
           "long_name": "Uncertainty from errors likely to be correlated over synoptic scales",
           "references": "http://www.esa-sst-cci.org",
           "scale_factor": 0.001,
           "size": 25920000,
           "units": "kelvin",
           "valid_max": 5000,
           "valid_min": 0
          },
          "dims": [
           "time",
           "lat",
           "lon"
          ],
          "dtype": "int16",
          "name": "uncertainty_correlated",
          "ndim": 3
         },
         {
          "attrs": {
           "add_offset": 0,
           "chunk_sizes": [
            1,
            90,
            180
           ],
           "comment": "Component of uncertainty that is correlated over large scales; can be combined with other uncertainty estimates to form a total uncertainty",
           "data_type": "int16",
           "dimensions": [
            "time",
            "lat",
            "lon"
           ],
           "fill_value": -32768,
           "long_name": "Uncertainty from errors likely to be correlated over large scales",
           "references": "http://www.esa-sst-cci.org",
           "scale_factor": 0.001,
           "size": 25920000,
           "units": "kelvin",
           "valid_max": 5000,
           "valid_min": 0
          },
          "dims": [
           "time",
           "lat",
           "lon"
          ],
          "dtype": "int16",
          "name": "uncertainty_systematic",
          "ndim": 3
         },
         {
          "attrs": {
           "add_offset": 0,
           "chunk_sizes": [
            1,
            90,
            180
           ],
           "comment": "Adjustment uncertainty; can be combined with other uncertainty estimates to form a total uncertainty",
           "correlation_length_scale": "100 km",
           "correlation_time_scale": "1 day",
           "data_type": "int16",
           "dimensions": [
            "time",
            "lat",
            "lon"
           ],
           "fill_value": -32768,
           "long_name": "Time and depth adjustment uncertainty",
           "references": "http://www.esa-sst-cci.org",
           "scale_factor": 0.001,
           "size": 25920000,
           "units": "kelvin",
           "valid_max": 5000,
           "valid_min": 0
          },
          "dims": [
           "time",
           "lat",
           "lon"
          ],
          "dtype": "int16",
          "name": "uncertainty_correlated_time_and_depth_adjustment",
          "ndim": 3
         },
         {
          "attrs": {
           "add_offset": 0,
           "chunk_sizes": [
            1,
            90,
            180
           ],
           "comment": "Component of uncertainty in alternative SST retrieval that is uncorrelated between SSTs; can be combined with other uncertainty estimates to form a total uncertainty",
           "data_type": "int16",
           "dimensions": [
            "time",
            "lat",
            "lon"
           ],
           "fill_value": -32768,
           "long_name": "Uncertainty in alternative SST retrieval from errors likely to be uncorrelated between SSTs",
           "references": "http://www.esa-sst-cci.org",
           "scale_factor": 0.001,
           "size": 25920000,
           "units": "kelvin",
           "valid_max": 5000,
           "valid_min": 0
          },
          "dims": [
           "time",
           "lat",
           "lon"
          ],
          "dtype": "int16",
          "name": "uncertainty_random_alt",
          "ndim": 3
         },
         {
          "attrs": {
           "add_offset": 0,
           "chunk_sizes": [
            1,
            90,
            180
           ],
           "comment": "Component of uncertainty in alternative SST retrieval that is correlated over synoptic scales; can be combined with other uncertainty estimates to form a total uncertainty",
           "correlation_length_scale": "100 km",
           "correlation_time_scale": "1 day",
           "data_type": "int16",
           "dimensions": [
            "time",
            "lat",
            "lon"
           ],
           "fill_value": -32768,
           "long_name": "Uncertainty in alternative SST retrieval from errors likely to be correlated over synoptic scales",
           "references": "http://www.esa-sst-cci.org",
           "scale_factor": 0.001,
           "size": 25920000,
           "units": "kelvin",
           "valid_max": 5000,
           "valid_min": 0
          },
          "dims": [
           "time",
           "lat",
           "lon"
          ],
          "dtype": "int16",
          "name": "uncertainty_correlated_alt",
          "ndim": 3
         },
         {
          "attrs": {
           "add_offset": 0,
           "chunk_sizes": [
            1,
            90,
            180
           ],
           "comment": "Component of uncertainty in alternative SST retrieval that is correlated over large scales; can be combined with other uncertainty estimates to form a total uncertainty",
           "data_type": "int16",
           "dimensions": [
            "time",
            "lat",
            "lon"
           ],
           "fill_value": -32768,
           "long_name": "Uncertainty in alternative SST retrieval from errors likely to be correlated over large scales",
           "references": "http://www.esa-sst-cci.org",
           "scale_factor": 0.001,
           "size": 25920000,
           "units": "kelvin",
           "valid_max": 5000,
           "valid_min": 0
          },
          "dims": [
           "time",
           "lat",
           "lon"
          ],
          "dtype": "int16",
          "name": "uncertainty_systematic_alt",
          "ndim": 3
         },
         {
          "attrs": {
           "add_offset": 0,
           "chunk_sizes": [
            1,
            90,
            180
           ],
           "comment": "Sensitivity of the retrieval to actual changes in sea surface temperature",
           "data_type": "int16",
           "dimensions": [
            "time",
            "lat",
            "lon"
           ],
           "fill_value": -32768,
           "long_name": "Sensitivity of the retrieval to actual changes in sea surface temperature",
           "scale_factor": 0.001,
           "size": 25920000,
           "units": "K/K",
           "valid_max": 1100,
           "valid_min": 0
          },
          "dims": [
           "time",
           "lat",
           "lon"
          ],
          "dtype": "int16",
          "name": "sst_sensitivity",
          "ndim": 3
         },
         {
          "attrs": {
           "add_offset": 0,
           "chunk_sizes": [
            1,
            90,
            180
           ],
           "comment": "If not applied, fill with zeros to indicate independence from in situ",
           "data_type": "int16",
           "dimensions": [
            "time",
            "lat",
            "lon"
           ],
           "fill_value": -32768,
           "long_name": "Adjustment, based on comparison to in situ data",
           "scale_factor": 0.01,
           "size": 25920000,
           "units": "kelvin",
           "valid_max": 1000,
           "valid_min": -1000
          },
          "dims": [
           "time",
           "lat",
           "lon"
          ],
          "dtype": "int16",
          "name": "empirical_adjustment",
          "ndim": 3
         }
        ],
        "dims": {
         "bnds": 2,
         "lat": 3600,
         "lon": 7200,
         "time": 1
        },
        "open_params_schema": {
         "additionalProperties": false,
         "properties": {
          "bbox": {
           "items": [
            {
             "maximum": 180,
             "minimum": -180,
             "type": "number"
            },
            {
             "maximum": 90,
             "minimum": -90,
             "type": "number"
            },
            {
             "maximum": 180,
             "minimum": -180,
             "type": "number"
            },
            {
             "maximum": 90,
             "minimum": -90,
             "type": "number"
            }
           ],
           "type": "array"
          },
          "crs": {
           "const": "WGS84",
           "type": "string"
          },
          "spatial_res": {
           "const": 0.05,
           "type": "number"
          },
          "time_period": {
           "const": "1D",
           "type": "string"
          },
          "time_range": {
           "items": [
            {
             "format": "date",
             "maxDate": "2016-12-31",
             "minDate": "1981-08-23",
             "type": "string"
            },
            {
             "format": "date",
             "maxDate": "2016-12-31",
             "minDate": "1981-08-23",
             "type": "string"
            }
           ],
           "type": "array"
          },
          "variable_names": {
           "items": {
            "enum": [
             "sea_surface_temperature",
             "sea_surface_temperature_depth",
             "sea_surface_temperature_depth_anomaly",
             "sst_dtime",
             "sst_depth_dtime",
             "sses_bias",
             "sses_standard_deviation",
             "sea_surface_temperature_total_uncertainty",
             "sea_surface_temperature_depth_total_uncertainty",
             "depth_adjustment",
             "adjustment_alt",
             "l2p_flags",
             "quality_level",
             "wind_speed",
             "sea_surface_temperature_retrieval_type",
             "alt_sst_retrieval_type",
             "uncertainty_random",
             "uncertainty_correlated",
             "uncertainty_systematic",
             "uncertainty_correlated_time_and_depth_adjustment",
             "uncertainty_random_alt",
             "uncertainty_correlated_alt",
             "uncertainty_systematic_alt",
             "sst_sensitivity",
             "empirical_adjustment"
            ],
            "type": "string"
           },
           "type": "array"
          }
         },
         "type": "object"
        },
        "spatial_res": 0.05,
        "time_period": "1D",
        "time_range": [
         "1981-08-23",
         "2016-12-31"
        ],
        "type_specifier": "dataset"
       },
       {
        "attrs": {
         "abstract": "This v2.1 SST_cci Advanced Very High Resolution Radiometer (AVHRR) Level 3 Collated (L3C) Climate Data Record (CDR) consists of stable, low-bias sea surface temperature (SST) data from the AVHRR series of satellite instruments.  It covers the period between 08/1981 and 12/2016.  This L3C product provides these SST data on a 0.05 regular latitude-longitude grid and collated to include all orbits for a day (separated into daytime and nighttime files).\n\nThe dataset has been produced as part of the European Space Agency (ESA) Climate Change Initiative Sea Surface Temperature project(ESA SST_cci). The data products from SST_cci accurately map the surface temperature of the global oceans over the period 1981 to 2016 using observations from many satellites. The data provide independently quantified SSTs to a quality suitable for climate research.\n\nThis CDR Version 2.1 product supercedes the CDR Version 2.0 product.  Data are made freely and openly available under a Creative Commons License by Attribution (CC By 4.0) https://creativecommons.org/licenses/by/4.0/ .\n\nWhen citing this dataset please also cite the associated data paper: Merchant, C.J., Embury, O., Bulgin, C.E., Block T., Corlett, G.K., Fiedler, E., Good, S.A., Mittaz, J., Rayner, N.A., Berry, D., Eastwood, S., Taylor, M., Tsushima, Y., Waterfall, A., Wilson, R., Donlon, C. Satellite-based time-series of sea-surface temperature since 1981 for climate applications, Scientific Data 6:223 (2019). http://doi.org/10.1038/s41597-019-0236-x",
         "bbox_maxx": "180.0",
         "bbox_maxy": "90.0",
         "bbox_minx": "-180.0",
         "bbox_miny": "-90.0",
         "cci_project": "SST",
         "creation_date": "2019-08-02T20:01:15",
         "data_type": "SSTskin",
         "drs_ids": [
          "esacci.SST.day.L3C.SSTskin.AVHRR-3.NOAA-15.AVHRR15_G.2-1.day",
          "esacci.SST.day.L3C.SSTskin.AVHRR-3.NOAA-15.AVHRR15_G.2-1.night",
          "esacci.SST.day.L3C.SSTskin.AVHRR-3.Metop-A.AVHRRMTA_G.2-1.day",
          "esacci.SST.day.L3C.SSTskin.AVHRR-3.Metop-A.AVHRRMTA_G.2-1.night",
          "esacci.SST.day.L3C.SSTskin.AVHRR-3.NOAA-19.AVHRR19_G.2-1.day",
          "esacci.SST.day.L3C.SSTskin.AVHRR-3.NOAA-19.AVHRR19_G.2-1.night",
          "esacci.SST.day.L3C.SSTskin.AVHRR-3.NOAA-17.AVHRR17_G.2-1.day",
          "esacci.SST.day.L3C.SSTskin.AVHRR-3.NOAA-17.AVHRR17_G.2-1.night",
          "esacci.SST.day.L3C.SSTskin.AVHRR-2.NOAA-12.AVHRR12_G.2-1.day",
          "esacci.SST.day.L3C.SSTskin.AVHRR-2.NOAA-12.AVHRR12_G.2-1.night",
          "esacci.SST.day.L3C.SSTskin.AVHRR-2.NOAA-11.AVHRR11_G.2-1.day",
          "esacci.SST.day.L3C.SSTskin.AVHRR-2.NOAA-11.AVHRR11_G.2-1.night",
          "esacci.SST.day.L3C.SSTskin.AVHRR-2.NOAA-14.AVHRR14_G.2-1.day",
          "esacci.SST.day.L3C.SSTskin.AVHRR-2.NOAA-14.AVHRR14_G.2-1.night",
          "esacci.SST.day.L3C.SSTskin.AVHRR-3.NOAA-18.AVHRR18_G.2-1.day",
          "esacci.SST.day.L3C.SSTskin.AVHRR-3.NOAA-18.AVHRR18_G.2-1.night",
          "esacci.SST.day.L3C.SSTskin.AVHRR-2.NOAA-9.AVHRR09_G.2-1.day",
          "esacci.SST.day.L3C.SSTskin.AVHRR-2.NOAA-9.AVHRR09_G.2-1.night",
          "esacci.SST.day.L3C.SSTskin.AVHRR-3.NOAA-16.AVHRR16_G.2-1.day",
          "esacci.SST.day.L3C.SSTskin.AVHRR-3.NOAA-16.AVHRR16_G.2-1.night",
          "esacci.SST.day.L3C.SSTskin.AVHRR-2.NOAA-7.AVHRR07_G.2-1.day",
          "esacci.SST.day.L3C.SSTskin.AVHRR-2.NOAA-7.AVHRR07_G.2-1.night"
         ],
         "ecv": "SST",
         "fid": "7db4459605da4665b6ab9a7102fb4875",
         "file_formats": [
          ".nc",
          ".txt"
         ],
         "institute": "ESACCI_SST",
         "licences": "Use of these data is covered by the following licence: https://artefacts.ceda.ac.uk/licences/specific_licences/esacci_sst_terms_and_conditions_v2.pdf . When using these data you must cite them correctly using the citation given on the CEDA Data Catalogue record.",
         "metadata_url": "https://catalogue.ceda.ac.uk/export/xml/7db4459605da4665b6ab9a7102fb4875.xml",
         "odd_url": "http://archive.opensearch.ceda.ac.uk/opensearch/description.xml?parentIdentifier=7db4459605da4665b6ab9a7102fb4875",
         "platform_id": "NOAA-7",
         "processing_level": "L3C",
         "product_string": "AVHRR07_G",
         "product_version": "2-1",
         "publication_date": "2019-08-02T20:01:15",
         "sensor_id": "AVHRR-2",
         "temporal_coverage_end": "2016-12-31T23:59:59",
         "temporal_coverage_start": "1981-08-23T23:00:00",
         "time_frequency": "day",
         "title": "ESA Sea Surface Temperature Climate Change Initiative (SST_cci): Advanced Very High Resolution Radiometer (AVHRR) Level 3 Collated (L3C) Climate Data Record, version 2.1",
         "uuid": "7db4459605da4665b6ab9a7102fb4875"
        },
        "bbox": [
         -180,
         -90,
         180,
         90
        ],
        "data_id": "esacci.SST.day.L3C.SSTskin.AVHRR-2.NOAA-7.AVHRR07_G.2-1.day",
        "data_vars": [
         {
          "attrs": {
           "add_offset": 273.15,
           "chunk_sizes": [
            1,
            90,
            180
           ],
           "comment": "Temperature of the skin of the ocean; total uncertainty = sqrt(uncertainty_systematic^2+uncertainty_correlated^2+uncertainty_random^2)",
           "data_type": "int16",
           "depth": "10 micrometres",
           "dimensions": [
            "time",
            "lat",
            "lon"
           ],
           "fill_value": -32768,
           "long_name": "sea surface skin temperature",
           "references": "http://www.esa-sst-cci.org",
           "scale_factor": 0.01,
           "size": 25920000,
           "source": "AVHRR07_G-ESACCI-L1C-v1",
           "standard_name": "sea_surface_skin_temperature",
           "units": "kelvin",
           "valid_max": 5000,
           "valid_min": -200
          },
          "dims": [
           "time",
           "lat",
           "lon"
          ],
          "dtype": "int16",
          "name": "sea_surface_temperature",
          "ndim": 3
         },
         {
          "attrs": {
           "add_offset": 273.15,
           "chunk_sizes": [
            1,
            90,
            180
           ],
           "comment": "Temperature of the ocean at 20 cm depth; total uncertainty = sqrt(uncertainty_systematic^2+uncertainty_correlated^2+uncertainty_random^2+uncertainty_correlated_time_and_depth_adjustment^2)",
           "data_type": "int16",
           "depth": "0.2 metre",
           "dimensions": [
            "time",
            "lat",
            "lon"
           ],
           "fill_value": -32768,
           "long_name": "sea surface temperature at 0.2 m",
           "references": "http://www.esa-sst-cci.org",
           "scale_factor": 0.01,
           "size": 25920000,
           "source": "AVHRR07_G-ESACCI-L1C-v1",
           "standard_name": "sea_water_temperature",
           "units": "kelvin",
           "valid_max": 5000,
           "valid_min": -200
          },
          "dims": [
           "time",
           "lat",
           "lon"
          ],
          "dtype": "int16",
          "name": "sea_surface_temperature_depth",
          "ndim": 3
         },
         {
          "attrs": {
           "add_offset": 0,
           "chunk_sizes": [
            1,
            90,
            180
           ],
           "comment": "Temperature of the ocean at 20 cm depth; total uncertainty = sqrt(uncertainty_systematic^2+uncertainty_correlated^2+uncertainty_random^2+uncertainty_correlated_time_and_depth_adjustment^2)",
           "data_type": "int16",
           "depth": "0.2 metre",
           "dimensions": [
            "time",
            "lat",
            "lon"
           ],
           "fill_value": -32768,
           "long_name": "sea surface temperature anomaly at 0.2 m",
           "references": "http://www.esa-sst-cci.org",
           "scale_factor": 0.01,
           "size": 25920000,
           "source": "AVHRR07_G-ESACCI-L1C-v1",
           "standard_name": "sea_water_temperature_anomaly",
           "units": "kelvin",
           "valid_max": 4000,
           "valid_min": -4000
          },
          "dims": [
           "time",
           "lat",
           "lon"
          ],
          "dtype": "int16",
          "name": "sea_surface_temperature_depth_anomaly",
          "ndim": 3
         },
         {
          "attrs": {
           "add_offset": 0,
           "chunk_sizes": [
            1,
            90,
            180
           ],
           "comment": "time plus sst_dtime gives seconds after 1981-01-01 00:00:00",
           "data_type": "int32",
           "dimensions": [
            "time",
            "lat",
            "lon"
           ],
           "fill_value": -2147483648,
           "long_name": "time difference from reference time",
           "scale_factor": 1,
           "size": 25920000,
           "units": "seconds",
           "valid_max": 43200,
           "valid_min": -43200
          },
          "dims": [
           "time",
           "lat",
           "lon"
          ],
          "dtype": "int32",
          "name": "sst_dtime",
          "ndim": 3
         },
         {
          "attrs": {
           "add_offset": 0,
           "chunk_sizes": [
            1,
            90,
            180
           ],
           "comment": "time plus sst_depth_dtime gives seconds after 1981-01-01 00:00:00",
           "data_type": "int32",
           "dimensions": [
            "time",
            "lat",
            "lon"
           ],
           "fill_value": -2147483648,
           "long_name": "time difference from reference time",
           "scale_factor": 1,
           "size": 25920000,
           "units": "seconds",
           "valid_max": 43200,
           "valid_min": -43200
          },
          "dims": [
           "time",
           "lat",
           "lon"
          ],
          "dtype": "int32",
          "name": "sst_depth_dtime",
          "ndim": 3
         },
         {
          "attrs": {
           "_Unsigned": "false",
           "add_offset": 0,
           "chunk_sizes": [
            1,
            90,
            180
           ],
           "comment": "Populated with zeroes",
           "data_type": "uint8",
           "dimensions": [
            "time",
            "lat",
            "lon"
           ],
           "fill_value": -128,
           "long_name": "SSES bias estimate",
           "scale_factor": 0.01,
           "size": 25920000,
           "units": "kelvin",
           "valid_max": 127,
           "valid_min": -127
          },
          "dims": [
           "time",
           "lat",
           "lon"
          ],
          "dtype": "uint8",
          "name": "sses_bias",
          "ndim": 3
         },
         {
          "attrs": {
           "_Unsigned": "false",
           "add_offset": 1.27,
           "chunk_sizes": [
            1,
            90,
            180
           ],
           "comment": "Uncertainty information is contained in the variables uncertainty_systematic, uncertainty_correlated, and uncertainty_random",
           "data_type": "uint8",
           "dimensions": [
            "time",
            "lat",
            "lon"
           ],
           "fill_value": -128,
           "long_name": "SSES standard deviation",
           "scale_factor": 0.01,
           "size": 25920000,
           "units": "kelvin",
           "valid_max": 127,
           "valid_min": -127
          },
          "dims": [
           "time",
           "lat",
           "lon"
          ],
          "dtype": "uint8",
          "name": "sses_standard_deviation",
          "ndim": 3
         },
         {
          "attrs": {
           "add_offset": 0,
           "chunk_sizes": [
            1,
            90,
            180
           ],
           "comment": "Total uncertainty in each sea_surface_temperature data point",
           "data_type": "int16",
           "dimensions": [
            "time",
            "lat",
            "lon"
           ],
           "fill_value": -32768,
           "long_name": "Total uncertainty in sea_surface_temperature",
           "scale_factor": 0.001,
           "size": 25920000,
           "units": "kelvin",
           "valid_max": 5000,
           "valid_min": 0
          },
          "dims": [
           "time",
           "lat",
           "lon"
          ],
          "dtype": "int16",
          "name": "sea_surface_temperature_total_uncertainty",
          "ndim": 3
         },
         {
          "attrs": {
           "add_offset": 0,
           "chunk_sizes": [
            1,
            90,
            180
           ],
           "comment": "Total uncertainty in each sea_surface_temperature_depth data point",
           "data_type": "int16",
           "dimensions": [
            "time",
            "lat",
            "lon"
           ],
           "fill_value": -32768,
           "long_name": "Total uncertainty in sea_surface_temperature_depth",
           "scale_factor": 0.001,
           "size": 25920000,
           "units": "kelvin",
           "valid_max": 5000,
           "valid_min": 0
          },
          "dims": [
           "time",
           "lat",
           "lon"
          ],
          "dtype": "int16",
          "name": "sea_surface_temperature_depth_total_uncertainty",
          "ndim": 3
         },
         {
          "attrs": {
           "add_offset": 0,
           "chunk_sizes": [
            1,
            90,
            180
           ],
           "comment": "Add to sea_surface_temperature, if SST at 20cm at observation time is required",
           "data_type": "int16",
           "dimensions": [
            "time",
            "lat",
            "lon"
           ],
           "fill_value": -32768,
           "long_name": "Adjustment to sea surface temperature at 0.2 m",
           "scale_factor": 0.01,
           "size": 25920000,
           "units": "kelvin",
           "valid_max": 1000,
           "valid_min": -1000
          },
          "dims": [
           "time",
           "lat",
           "lon"
          ],
          "dtype": "int16",
          "name": "depth_adjustment",
          "ndim": 3
         },
         {
          "attrs": {
           "add_offset": 0,
           "chunk_sizes": [
            1,
            90,
            180
           ],
           "comment": "Add to sea_surface_temperature, if alternative SST retrieval is required",
           "data_type": "int16",
           "dimensions": [
            "time",
            "lat",
            "lon"
           ],
           "fill_value": -32768,
           "long_name": "Adjustment to alternative sea surface temperature retrieval",
           "scale_factor": 0.01,
           "size": 25920000,
           "units": "kelvin",
           "valid_max": 1000,
           "valid_min": -1000
          },
          "dims": [
           "time",
           "lat",
           "lon"
          ],
          "dtype": "int16",
          "name": "adjustment_alt",
          "ndim": 3
         },
         {
          "attrs": {
           "chunk_sizes": [
            1,
            90,
            180
           ],
           "comment": "These flags are important to properly use the data",
           "data_type": "int16",
           "dimensions": [
            "time",
            "lat",
            "lon"
           ],
           "fill_value": -32768,
           "flag_masks": [
            1,
            2,
            4,
            8,
            16,
            32,
            64,
            128,
            256
           ],
           "flag_meanings": "microwave land ice lake river spare views channels day",
           "long_name": "L2P flags",
           "size": 25920000,
           "valid_max": 511,
           "valid_min": 0
          },
          "dims": [
           "time",
           "lat",
           "lon"
          ],
          "dtype": "int16",
          "name": "l2p_flags",
          "ndim": 3
         },
         {
          "attrs": {
           "_Unsigned": "false",
           "chunk_sizes": [
            1,
            90,
            180
           ],
           "comment": "These are overall quality indicators and are used for all GHRSST SSTs",
           "data_type": "uint8",
           "dimensions": [
            "time",
            "lat",
            "lon"
           ],
           "fill_value": 0,
           "flag_meanings": "no_data bad_data worst_quality low_quality acceptable_quality best_quality",
           "flag_values": [
            0,
            1,
            2,
            3,
            4,
            5
           ],
           "long_name": "quality level of SST pixel",
           "size": 25920000,
           "valid_max": 5,
           "valid_min": 0
          },
          "dims": [
           "time",
           "lat",
           "lon"
          ],
          "dtype": "uint8",
          "name": "quality_level",
          "ndim": 3
         },
         {
          "attrs": {
           "_Unsigned": "false",
           "add_offset": 12.7,
           "chunk_sizes": [
            1,
            90,
            180
           ],
           "comment": "Wind speeds sourced from ECMWF ERA Interim Reanalysis; wind speeds greater than 25.4 m/s are set to 25.4.",
           "data_type": "uint8",
           "dimensions": [
            "time",
            "lat",
            "lon"
           ],
           "fill_value": -128,
           "height": "10 m",
           "long_name": "10m wind speed",
           "references": "http://www.esa-sst-cci.org",
           "scale_factor": 0.1,
           "size": 25920000,
           "source": "ERA_INTERIM-ECMWF-WSP-v1.0",
           "standard_name": "wind_speed",
           "time_offset": 0,
           "units": "m s-1",
           "valid_max": 127,
           "valid_min": -127
          },
          "dims": [
           "time",
           "lat",
           "lon"
          ],
          "dtype": "uint8",
          "name": "wind_speed",
          "ndim": 3
         },
         {
          "attrs": {
           "_Unsigned": "false",
           "chunk_sizes": [
            1,
            90,
            180
           ],
           "comment": "1. single view, two channel 2. single view, three channel 3. dual view, two channel 4. dual view, three channel 5. single view, 11 and 3.7 two channel",
           "data_type": "uint8",
           "dimensions": [
            "time",
            "lat",
            "lon"
           ],
           "fill_value": -128,
           "flag_meanings": "single_view_two_channel single_view_three_channel dual_view_two_channel dual_view_three_channel single_view_11_and_3.7_two_channel",
           "flag_values": [
            1,
            2,
            3,
            4,
            5
           ],
           "long_name": "Type of retrieval used for the primary SST",
           "size": 25920000,
           "valid_max": 5,
           "valid_min": 1
          },
          "dims": [
           "time",
           "lat",
           "lon"
          ],
          "dtype": "uint8",
          "name": "sea_surface_temperature_retrieval_type",
          "ndim": 3
         },
         {
          "attrs": {
           "_Unsigned": "false",
           "chunk_sizes": [
            1,
            90,
            180
           ],
           "comment": "For ATSRs, adjustment gives D2 (most consistent through time series) when D3 is provided as best. For AVHRRs, adjustment provides N2 when N3 is best. Reason for providing an alternative: can then use N2 or D2 consistently for whole record i",
           "data_type": "uint8",
           "dimensions": [
            "time",
            "lat",
            "lon"
           ],
           "fill_value": -128,
           "flag_meanings": "single_view_two_channel single_view_three_channel dual_view_two_channel dual_view_three_channel single_view_11_and_3.7_two_channel",
           "flag_values": [
            1,
            2,
            3,
            4,
            5
           ],
           "long_name": "Type of retrieval used for the alternate SST retrieval",
           "size": 25920000,
           "valid_max": 5,
           "valid_min": 1
          },
          "dims": [
           "time",
           "lat",
           "lon"
          ],
          "dtype": "uint8",
          "name": "alt_sst_retrieval_type",
          "ndim": 3
         },
         {
          "attrs": {
           "add_offset": 0,
           "chunk_sizes": [
            1,
            90,
            180
           ],
           "comment": "Component of uncertainty that is uncorrelated between SSTs; can be combined with other uncertainty estimates to form a total uncertainty",
           "data_type": "int16",
           "dimensions": [
            "time",
            "lat",
            "lon"
           ],
           "fill_value": -32768,
           "long_name": "Uncertainty from errors likely to be uncorrelated between SSTs",
           "references": "http://www.esa-sst-cci.org",
           "scale_factor": 0.001,
           "size": 25920000,
           "units": "kelvin",
           "valid_max": 5000,
           "valid_min": 0
          },
          "dims": [
           "time",
           "lat",
           "lon"
          ],
          "dtype": "int16",
          "name": "uncertainty_random",
          "ndim": 3
         },
         {
          "attrs": {
           "add_offset": 0,
           "chunk_sizes": [
            1,
            90,
            180
           ],
           "comment": "Component of uncertainty that is correlated over synoptic scales; can be combined with other uncertainty estimates to form a total uncertainty",
           "correlation_length_scale": "100 km",
           "correlation_time_scale": "1 day",
           "data_type": "int16",
           "dimensions": [
            "time",
            "lat",
            "lon"
           ],
           "fill_value": -32768,
           "long_name": "Uncertainty from errors likely to be correlated over synoptic scales",
           "references": "http://www.esa-sst-cci.org",
           "scale_factor": 0.001,
           "size": 25920000,
           "units": "kelvin",
           "valid_max": 5000,
           "valid_min": 0
          },
          "dims": [
           "time",
           "lat",
           "lon"
          ],
          "dtype": "int16",
          "name": "uncertainty_correlated",
          "ndim": 3
         },
         {
          "attrs": {
           "add_offset": 0,
           "chunk_sizes": [
            1,
            90,
            180
           ],
           "comment": "Component of uncertainty that is correlated over large scales; can be combined with other uncertainty estimates to form a total uncertainty",
           "data_type": "int16",
           "dimensions": [
            "time",
            "lat",
            "lon"
           ],
           "fill_value": -32768,
           "long_name": "Uncertainty from errors likely to be correlated over large scales",
           "references": "http://www.esa-sst-cci.org",
           "scale_factor": 0.001,
           "size": 25920000,
           "units": "kelvin",
           "valid_max": 5000,
           "valid_min": 0
          },
          "dims": [
           "time",
           "lat",
           "lon"
          ],
          "dtype": "int16",
          "name": "uncertainty_systematic",
          "ndim": 3
         },
         {
          "attrs": {
           "add_offset": 0,
           "chunk_sizes": [
            1,
            90,
            180
           ],
           "comment": "Adjustment uncertainty; can be combined with other uncertainty estimates to form a total uncertainty",
           "correlation_length_scale": "100 km",
           "correlation_time_scale": "1 day",
           "data_type": "int16",
           "dimensions": [
            "time",
            "lat",
            "lon"
           ],
           "fill_value": -32768,
           "long_name": "Time and depth adjustment uncertainty",
           "references": "http://www.esa-sst-cci.org",
           "scale_factor": 0.001,
           "size": 25920000,
           "units": "kelvin",
           "valid_max": 5000,
           "valid_min": 0
          },
          "dims": [
           "time",
           "lat",
           "lon"
          ],
          "dtype": "int16",
          "name": "uncertainty_correlated_time_and_depth_adjustment",
          "ndim": 3
         },
         {
          "attrs": {
           "add_offset": 0,
           "chunk_sizes": [
            1,
            90,
            180
           ],
           "comment": "Component of uncertainty in alternative SST retrieval that is uncorrelated between SSTs; can be combined with other uncertainty estimates to form a total uncertainty",
           "data_type": "int16",
           "dimensions": [
            "time",
            "lat",
            "lon"
           ],
           "fill_value": -32768,
           "long_name": "Uncertainty in alternative SST retrieval from errors likely to be uncorrelated between SSTs",
           "references": "http://www.esa-sst-cci.org",
           "scale_factor": 0.001,
           "size": 25920000,
           "units": "kelvin",
           "valid_max": 5000,
           "valid_min": 0
          },
          "dims": [
           "time",
           "lat",
           "lon"
          ],
          "dtype": "int16",
          "name": "uncertainty_random_alt",
          "ndim": 3
         },
         {
          "attrs": {
           "add_offset": 0,
           "chunk_sizes": [
            1,
            90,
            180
           ],
           "comment": "Component of uncertainty in alternative SST retrieval that is correlated over synoptic scales; can be combined with other uncertainty estimates to form a total uncertainty",
           "correlation_length_scale": "100 km",
           "correlation_time_scale": "1 day",
           "data_type": "int16",
           "dimensions": [
            "time",
            "lat",
            "lon"
           ],
           "fill_value": -32768,
           "long_name": "Uncertainty in alternative SST retrieval from errors likely to be correlated over synoptic scales",
           "references": "http://www.esa-sst-cci.org",
           "scale_factor": 0.001,
           "size": 25920000,
           "units": "kelvin",
           "valid_max": 5000,
           "valid_min": 0
          },
          "dims": [
           "time",
           "lat",
           "lon"
          ],
          "dtype": "int16",
          "name": "uncertainty_correlated_alt",
          "ndim": 3
         },
         {
          "attrs": {
           "add_offset": 0,
           "chunk_sizes": [
            1,
            90,
            180
           ],
           "comment": "Component of uncertainty in alternative SST retrieval that is correlated over large scales; can be combined with other uncertainty estimates to form a total uncertainty",
           "data_type": "int16",
           "dimensions": [
            "time",
            "lat",
            "lon"
           ],
           "fill_value": -32768,
           "long_name": "Uncertainty in alternative SST retrieval from errors likely to be correlated over large scales",
           "references": "http://www.esa-sst-cci.org",
           "scale_factor": 0.001,
           "size": 25920000,
           "units": "kelvin",
           "valid_max": 5000,
           "valid_min": 0
          },
          "dims": [
           "time",
           "lat",
           "lon"
          ],
          "dtype": "int16",
          "name": "uncertainty_systematic_alt",
          "ndim": 3
         },
         {
          "attrs": {
           "add_offset": 0,
           "chunk_sizes": [
            1,
            90,
            180
           ],
           "comment": "Sensitivity of the retrieval to actual changes in sea surface temperature",
           "data_type": "int16",
           "dimensions": [
            "time",
            "lat",
            "lon"
           ],
           "fill_value": -32768,
           "long_name": "Sensitivity of the retrieval to actual changes in sea surface temperature",
           "scale_factor": 0.001,
           "size": 25920000,
           "units": "K/K",
           "valid_max": 1100,
           "valid_min": 0
          },
          "dims": [
           "time",
           "lat",
           "lon"
          ],
          "dtype": "int16",
          "name": "sst_sensitivity",
          "ndim": 3
         },
         {
          "attrs": {
           "add_offset": 0,
           "chunk_sizes": [
            1,
            90,
            180
           ],
           "comment": "If not applied, fill with zeros to indicate independence from in situ",
           "data_type": "int16",
           "dimensions": [
            "time",
            "lat",
            "lon"
           ],
           "fill_value": -32768,
           "long_name": "Adjustment, based on comparison to in situ data",
           "scale_factor": 0.01,
           "size": 25920000,
           "units": "kelvin",
           "valid_max": 1000,
           "valid_min": -1000
          },
          "dims": [
           "time",
           "lat",
           "lon"
          ],
          "dtype": "int16",
          "name": "empirical_adjustment",
          "ndim": 3
         }
        ],
        "dims": {
         "bnds": 2,
         "lat": 3600,
         "lon": 7200,
         "time": 1
        },
        "open_params_schema": {
         "additionalProperties": false,
         "properties": {
          "bbox": {
           "items": [
            {
             "maximum": 180,
             "minimum": -180,
             "type": "number"
            },
            {
             "maximum": 90,
             "minimum": -90,
             "type": "number"
            },
            {
             "maximum": 180,
             "minimum": -180,
             "type": "number"
            },
            {
             "maximum": 90,
             "minimum": -90,
             "type": "number"
            }
           ],
           "type": "array"
          },
          "crs": {
           "const": "WGS84",
           "type": "string"
          },
          "spatial_res": {
           "const": 0.05,
           "type": "number"
          },
          "time_period": {
           "const": "1D",
           "type": "string"
          },
          "time_range": {
           "items": [
            {
             "format": "date",
             "maxDate": "2016-12-31",
             "minDate": "1981-08-23",
             "type": "string"
            },
            {
             "format": "date",
             "maxDate": "2016-12-31",
             "minDate": "1981-08-23",
             "type": "string"
            }
           ],
           "type": "array"
          },
          "variable_names": {
           "items": {
            "enum": [
             "sea_surface_temperature",
             "sea_surface_temperature_depth",
             "sea_surface_temperature_depth_anomaly",
             "sst_dtime",
             "sst_depth_dtime",
             "sses_bias",
             "sses_standard_deviation",
             "sea_surface_temperature_total_uncertainty",
             "sea_surface_temperature_depth_total_uncertainty",
             "depth_adjustment",
             "adjustment_alt",
             "l2p_flags",
             "quality_level",
             "wind_speed",
             "sea_surface_temperature_retrieval_type",
             "alt_sst_retrieval_type",
             "uncertainty_random",
             "uncertainty_correlated",
             "uncertainty_systematic",
             "uncertainty_correlated_time_and_depth_adjustment",
             "uncertainty_random_alt",
             "uncertainty_correlated_alt",
             "uncertainty_systematic_alt",
             "sst_sensitivity",
             "empirical_adjustment"
            ],
            "type": "string"
           },
           "type": "array"
          }
         },
         "type": "object"
        },
        "spatial_res": 0.05,
        "time_period": "1D",
        "time_range": [
         "1981-08-23",
         "2016-12-31"
        ],
        "type_specifier": "dataset"
       },
       {
        "attrs": {
         "abstract": "This v2.1 SST_cci Advanced Very High Resolution Radiometer (AVHRR) Level 3 Collated (L3C) Climate Data Record (CDR) consists of stable, low-bias sea surface temperature (SST) data from the AVHRR series of satellite instruments.  It covers the period between 08/1981 and 12/2016.  This L3C product provides these SST data on a 0.05 regular latitude-longitude grid and collated to include all orbits for a day (separated into daytime and nighttime files).\n\nThe dataset has been produced as part of the European Space Agency (ESA) Climate Change Initiative Sea Surface Temperature project(ESA SST_cci). The data products from SST_cci accurately map the surface temperature of the global oceans over the period 1981 to 2016 using observations from many satellites. The data provide independently quantified SSTs to a quality suitable for climate research.\n\nThis CDR Version 2.1 product supercedes the CDR Version 2.0 product.  Data are made freely and openly available under a Creative Commons License by Attribution (CC By 4.0) https://creativecommons.org/licenses/by/4.0/ .\n\nWhen citing this dataset please also cite the associated data paper: Merchant, C.J., Embury, O., Bulgin, C.E., Block T., Corlett, G.K., Fiedler, E., Good, S.A., Mittaz, J., Rayner, N.A., Berry, D., Eastwood, S., Taylor, M., Tsushima, Y., Waterfall, A., Wilson, R., Donlon, C. Satellite-based time-series of sea-surface temperature since 1981 for climate applications, Scientific Data 6:223 (2019). http://doi.org/10.1038/s41597-019-0236-x",
         "bbox_maxx": "180.0",
         "bbox_maxy": "90.0",
         "bbox_minx": "-180.0",
         "bbox_miny": "-90.0",
         "cci_project": "SST",
         "creation_date": "2019-08-02T20:01:15",
         "data_type": "SSTskin",
         "drs_ids": [
          "esacci.SST.day.L3C.SSTskin.AVHRR-3.NOAA-15.AVHRR15_G.2-1.day",
          "esacci.SST.day.L3C.SSTskin.AVHRR-3.NOAA-15.AVHRR15_G.2-1.night",
          "esacci.SST.day.L3C.SSTskin.AVHRR-3.Metop-A.AVHRRMTA_G.2-1.day",
          "esacci.SST.day.L3C.SSTskin.AVHRR-3.Metop-A.AVHRRMTA_G.2-1.night",
          "esacci.SST.day.L3C.SSTskin.AVHRR-3.NOAA-19.AVHRR19_G.2-1.day",
          "esacci.SST.day.L3C.SSTskin.AVHRR-3.NOAA-19.AVHRR19_G.2-1.night",
          "esacci.SST.day.L3C.SSTskin.AVHRR-3.NOAA-17.AVHRR17_G.2-1.day",
          "esacci.SST.day.L3C.SSTskin.AVHRR-3.NOAA-17.AVHRR17_G.2-1.night",
          "esacci.SST.day.L3C.SSTskin.AVHRR-2.NOAA-12.AVHRR12_G.2-1.day",
          "esacci.SST.day.L3C.SSTskin.AVHRR-2.NOAA-12.AVHRR12_G.2-1.night",
          "esacci.SST.day.L3C.SSTskin.AVHRR-2.NOAA-11.AVHRR11_G.2-1.day",
          "esacci.SST.day.L3C.SSTskin.AVHRR-2.NOAA-11.AVHRR11_G.2-1.night",
          "esacci.SST.day.L3C.SSTskin.AVHRR-2.NOAA-14.AVHRR14_G.2-1.day",
          "esacci.SST.day.L3C.SSTskin.AVHRR-2.NOAA-14.AVHRR14_G.2-1.night",
          "esacci.SST.day.L3C.SSTskin.AVHRR-3.NOAA-18.AVHRR18_G.2-1.day",
          "esacci.SST.day.L3C.SSTskin.AVHRR-3.NOAA-18.AVHRR18_G.2-1.night",
          "esacci.SST.day.L3C.SSTskin.AVHRR-2.NOAA-9.AVHRR09_G.2-1.day",
          "esacci.SST.day.L3C.SSTskin.AVHRR-2.NOAA-9.AVHRR09_G.2-1.night",
          "esacci.SST.day.L3C.SSTskin.AVHRR-3.NOAA-16.AVHRR16_G.2-1.day",
          "esacci.SST.day.L3C.SSTskin.AVHRR-3.NOAA-16.AVHRR16_G.2-1.night",
          "esacci.SST.day.L3C.SSTskin.AVHRR-2.NOAA-7.AVHRR07_G.2-1.day",
          "esacci.SST.day.L3C.SSTskin.AVHRR-2.NOAA-7.AVHRR07_G.2-1.night"
         ],
         "ecv": "SST",
         "fid": "7db4459605da4665b6ab9a7102fb4875",
         "file_formats": [
          ".nc",
          ".txt"
         ],
         "institute": "ESACCI_SST",
         "licences": "Use of these data is covered by the following licence: https://artefacts.ceda.ac.uk/licences/specific_licences/esacci_sst_terms_and_conditions_v2.pdf . When using these data you must cite them correctly using the citation given on the CEDA Data Catalogue record.",
         "metadata_url": "https://catalogue.ceda.ac.uk/export/xml/7db4459605da4665b6ab9a7102fb4875.xml",
         "odd_url": "http://archive.opensearch.ceda.ac.uk/opensearch/description.xml?parentIdentifier=7db4459605da4665b6ab9a7102fb4875",
         "platform_id": "NOAA-7",
         "processing_level": "L3C",
         "product_string": "AVHRR07_G",
         "product_version": "2-1",
         "publication_date": "2019-08-02T20:01:15",
         "sensor_id": "AVHRR-2",
         "temporal_coverage_end": "2016-12-31T23:59:59",
         "temporal_coverage_start": "1981-08-23T23:00:00",
         "time_frequency": "day",
         "title": "ESA Sea Surface Temperature Climate Change Initiative (SST_cci): Advanced Very High Resolution Radiometer (AVHRR) Level 3 Collated (L3C) Climate Data Record, version 2.1",
         "uuid": "7db4459605da4665b6ab9a7102fb4875"
        },
        "bbox": [
         -180,
         -90,
         180,
         90
        ],
        "data_id": "esacci.SST.day.L3C.SSTskin.AVHRR-2.NOAA-7.AVHRR07_G.2-1.night",
        "data_vars": [
         {
          "attrs": {
           "add_offset": 273.15,
           "chunk_sizes": [
            1,
            90,
            180
           ],
           "comment": "Temperature of the skin of the ocean; total uncertainty = sqrt(uncertainty_systematic^2+uncertainty_correlated^2+uncertainty_random^2)",
           "data_type": "int16",
           "depth": "10 micrometres",
           "dimensions": [
            "time",
            "lat",
            "lon"
           ],
           "fill_value": -32768,
           "long_name": "sea surface skin temperature",
           "references": "http://www.esa-sst-cci.org",
           "scale_factor": 0.01,
           "size": 25920000,
           "source": "AVHRR07_G-ESACCI-L1C-v1",
           "standard_name": "sea_surface_skin_temperature",
           "units": "kelvin",
           "valid_max": 5000,
           "valid_min": -200
          },
          "dims": [
           "time",
           "lat",
           "lon"
          ],
          "dtype": "int16",
          "name": "sea_surface_temperature",
          "ndim": 3
         },
         {
          "attrs": {
           "add_offset": 273.15,
           "chunk_sizes": [
            1,
            90,
            180
           ],
           "comment": "Temperature of the ocean at 20 cm depth; total uncertainty = sqrt(uncertainty_systematic^2+uncertainty_correlated^2+uncertainty_random^2+uncertainty_correlated_time_and_depth_adjustment^2)",
           "data_type": "int16",
           "depth": "0.2 metre",
           "dimensions": [
            "time",
            "lat",
            "lon"
           ],
           "fill_value": -32768,
           "long_name": "sea surface temperature at 0.2 m",
           "references": "http://www.esa-sst-cci.org",
           "scale_factor": 0.01,
           "size": 25920000,
           "source": "AVHRR07_G-ESACCI-L1C-v1",
           "standard_name": "sea_water_temperature",
           "units": "kelvin",
           "valid_max": 5000,
           "valid_min": -200
          },
          "dims": [
           "time",
           "lat",
           "lon"
          ],
          "dtype": "int16",
          "name": "sea_surface_temperature_depth",
          "ndim": 3
         },
         {
          "attrs": {
           "add_offset": 0,
           "chunk_sizes": [
            1,
            90,
            180
           ],
           "comment": "Temperature of the ocean at 20 cm depth; total uncertainty = sqrt(uncertainty_systematic^2+uncertainty_correlated^2+uncertainty_random^2+uncertainty_correlated_time_and_depth_adjustment^2)",
           "data_type": "int16",
           "depth": "0.2 metre",
           "dimensions": [
            "time",
            "lat",
            "lon"
           ],
           "fill_value": -32768,
           "long_name": "sea surface temperature anomaly at 0.2 m",
           "references": "http://www.esa-sst-cci.org",
           "scale_factor": 0.01,
           "size": 25920000,
           "source": "AVHRR07_G-ESACCI-L1C-v1",
           "standard_name": "sea_water_temperature_anomaly",
           "units": "kelvin",
           "valid_max": 4000,
           "valid_min": -4000
          },
          "dims": [
           "time",
           "lat",
           "lon"
          ],
          "dtype": "int16",
          "name": "sea_surface_temperature_depth_anomaly",
          "ndim": 3
         },
         {
          "attrs": {
           "add_offset": 0,
           "chunk_sizes": [
            1,
            90,
            180
           ],
           "comment": "time plus sst_dtime gives seconds after 1981-01-01 00:00:00",
           "data_type": "int32",
           "dimensions": [
            "time",
            "lat",
            "lon"
           ],
           "fill_value": -2147483648,
           "long_name": "time difference from reference time",
           "scale_factor": 1,
           "size": 25920000,
           "units": "seconds",
           "valid_max": 43200,
           "valid_min": -43200
          },
          "dims": [
           "time",
           "lat",
           "lon"
          ],
          "dtype": "int32",
          "name": "sst_dtime",
          "ndim": 3
         },
         {
          "attrs": {
           "add_offset": 0,
           "chunk_sizes": [
            1,
            90,
            180
           ],
           "comment": "time plus sst_depth_dtime gives seconds after 1981-01-01 00:00:00",
           "data_type": "int32",
           "dimensions": [
            "time",
            "lat",
            "lon"
           ],
           "fill_value": -2147483648,
           "long_name": "time difference from reference time",
           "scale_factor": 1,
           "size": 25920000,
           "units": "seconds",
           "valid_max": 43200,
           "valid_min": -43200
          },
          "dims": [
           "time",
           "lat",
           "lon"
          ],
          "dtype": "int32",
          "name": "sst_depth_dtime",
          "ndim": 3
         },
         {
          "attrs": {
           "_Unsigned": "false",
           "add_offset": 0,
           "chunk_sizes": [
            1,
            90,
            180
           ],
           "comment": "Populated with zeroes",
           "data_type": "uint8",
           "dimensions": [
            "time",
            "lat",
            "lon"
           ],
           "fill_value": -128,
           "long_name": "SSES bias estimate",
           "scale_factor": 0.01,
           "size": 25920000,
           "units": "kelvin",
           "valid_max": 127,
           "valid_min": -127
          },
          "dims": [
           "time",
           "lat",
           "lon"
          ],
          "dtype": "uint8",
          "name": "sses_bias",
          "ndim": 3
         },
         {
          "attrs": {
           "_Unsigned": "false",
           "add_offset": 1.27,
           "chunk_sizes": [
            1,
            90,
            180
           ],
           "comment": "Uncertainty information is contained in the variables uncertainty_systematic, uncertainty_correlated, and uncertainty_random",
           "data_type": "uint8",
           "dimensions": [
            "time",
            "lat",
            "lon"
           ],
           "fill_value": -128,
           "long_name": "SSES standard deviation",
           "scale_factor": 0.01,
           "size": 25920000,
           "units": "kelvin",
           "valid_max": 127,
           "valid_min": -127
          },
          "dims": [
           "time",
           "lat",
           "lon"
          ],
          "dtype": "uint8",
          "name": "sses_standard_deviation",
          "ndim": 3
         },
         {
          "attrs": {
           "add_offset": 0,
           "chunk_sizes": [
            1,
            90,
            180
           ],
           "comment": "Total uncertainty in each sea_surface_temperature data point",
           "data_type": "int16",
           "dimensions": [
            "time",
            "lat",
            "lon"
           ],
           "fill_value": -32768,
           "long_name": "Total uncertainty in sea_surface_temperature",
           "scale_factor": 0.001,
           "size": 25920000,
           "units": "kelvin",
           "valid_max": 5000,
           "valid_min": 0
          },
          "dims": [
           "time",
           "lat",
           "lon"
          ],
          "dtype": "int16",
          "name": "sea_surface_temperature_total_uncertainty",
          "ndim": 3
         },
         {
          "attrs": {
           "add_offset": 0,
           "chunk_sizes": [
            1,
            90,
            180
           ],
           "comment": "Total uncertainty in each sea_surface_temperature_depth data point",
           "data_type": "int16",
           "dimensions": [
            "time",
            "lat",
            "lon"
           ],
           "fill_value": -32768,
           "long_name": "Total uncertainty in sea_surface_temperature_depth",
           "scale_factor": 0.001,
           "size": 25920000,
           "units": "kelvin",
           "valid_max": 5000,
           "valid_min": 0
          },
          "dims": [
           "time",
           "lat",
           "lon"
          ],
          "dtype": "int16",
          "name": "sea_surface_temperature_depth_total_uncertainty",
          "ndim": 3
         },
         {
          "attrs": {
           "add_offset": 0,
           "chunk_sizes": [
            1,
            90,
            180
           ],
           "comment": "Add to sea_surface_temperature, if SST at 20cm at observation time is required",
           "data_type": "int16",
           "dimensions": [
            "time",
            "lat",
            "lon"
           ],
           "fill_value": -32768,
           "long_name": "Adjustment to sea surface temperature at 0.2 m",
           "scale_factor": 0.01,
           "size": 25920000,
           "units": "kelvin",
           "valid_max": 1000,
           "valid_min": -1000
          },
          "dims": [
           "time",
           "lat",
           "lon"
          ],
          "dtype": "int16",
          "name": "depth_adjustment",
          "ndim": 3
         },
         {
          "attrs": {
           "add_offset": 0,
           "chunk_sizes": [
            1,
            90,
            180
           ],
           "comment": "Add to sea_surface_temperature, if alternative SST retrieval is required",
           "data_type": "int16",
           "dimensions": [
            "time",
            "lat",
            "lon"
           ],
           "fill_value": -32768,
           "long_name": "Adjustment to alternative sea surface temperature retrieval",
           "scale_factor": 0.01,
           "size": 25920000,
           "units": "kelvin",
           "valid_max": 1000,
           "valid_min": -1000
          },
          "dims": [
           "time",
           "lat",
           "lon"
          ],
          "dtype": "int16",
          "name": "adjustment_alt",
          "ndim": 3
         },
         {
          "attrs": {
           "chunk_sizes": [
            1,
            90,
            180
           ],
           "comment": "These flags are important to properly use the data",
           "data_type": "int16",
           "dimensions": [
            "time",
            "lat",
            "lon"
           ],
           "fill_value": -32768,
           "flag_masks": [
            1,
            2,
            4,
            8,
            16,
            32,
            64,
            128,
            256
           ],
           "flag_meanings": "microwave land ice lake river spare views channels day",
           "long_name": "L2P flags",
           "size": 25920000,
           "valid_max": 511,
           "valid_min": 0
          },
          "dims": [
           "time",
           "lat",
           "lon"
          ],
          "dtype": "int16",
          "name": "l2p_flags",
          "ndim": 3
         },
         {
          "attrs": {
           "_Unsigned": "false",
           "chunk_sizes": [
            1,
            90,
            180
           ],
           "comment": "These are overall quality indicators and are used for all GHRSST SSTs",
           "data_type": "uint8",
           "dimensions": [
            "time",
            "lat",
            "lon"
           ],
           "fill_value": 0,
           "flag_meanings": "no_data bad_data worst_quality low_quality acceptable_quality best_quality",
           "flag_values": [
            0,
            1,
            2,
            3,
            4,
            5
           ],
           "long_name": "quality level of SST pixel",
           "size": 25920000,
           "valid_max": 5,
           "valid_min": 0
          },
          "dims": [
           "time",
           "lat",
           "lon"
          ],
          "dtype": "uint8",
          "name": "quality_level",
          "ndim": 3
         },
         {
          "attrs": {
           "_Unsigned": "false",
           "add_offset": 12.7,
           "chunk_sizes": [
            1,
            90,
            180
           ],
           "comment": "Wind speeds sourced from ECMWF ERA Interim Reanalysis; wind speeds greater than 25.4 m/s are set to 25.4.",
           "data_type": "uint8",
           "dimensions": [
            "time",
            "lat",
            "lon"
           ],
           "fill_value": -128,
           "height": "10 m",
           "long_name": "10m wind speed",
           "references": "http://www.esa-sst-cci.org",
           "scale_factor": 0.1,
           "size": 25920000,
           "source": "ERA_INTERIM-ECMWF-WSP-v1.0",
           "standard_name": "wind_speed",
           "time_offset": 0,
           "units": "m s-1",
           "valid_max": 127,
           "valid_min": -127
          },
          "dims": [
           "time",
           "lat",
           "lon"
          ],
          "dtype": "uint8",
          "name": "wind_speed",
          "ndim": 3
         },
         {
          "attrs": {
           "_Unsigned": "false",
           "chunk_sizes": [
            1,
            90,
            180
           ],
           "comment": "1. single view, two channel 2. single view, three channel 3. dual view, two channel 4. dual view, three channel 5. single view, 11 and 3.7 two channel",
           "data_type": "uint8",
           "dimensions": [
            "time",
            "lat",
            "lon"
           ],
           "fill_value": -128,
           "flag_meanings": "single_view_two_channel single_view_three_channel dual_view_two_channel dual_view_three_channel single_view_11_and_3.7_two_channel",
           "flag_values": [
            1,
            2,
            3,
            4,
            5
           ],
           "long_name": "Type of retrieval used for the primary SST",
           "size": 25920000,
           "valid_max": 5,
           "valid_min": 1
          },
          "dims": [
           "time",
           "lat",
           "lon"
          ],
          "dtype": "uint8",
          "name": "sea_surface_temperature_retrieval_type",
          "ndim": 3
         },
         {
          "attrs": {
           "_Unsigned": "false",
           "chunk_sizes": [
            1,
            90,
            180
           ],
           "comment": "For ATSRs, adjustment gives D2 (most consistent through time series) when D3 is provided as best. For AVHRRs, adjustment provides N2 when N3 is best. Reason for providing an alternative: can then use N2 or D2 consistently for whole record i",
           "data_type": "uint8",
           "dimensions": [
            "time",
            "lat",
            "lon"
           ],
           "fill_value": -128,
           "flag_meanings": "single_view_two_channel single_view_three_channel dual_view_two_channel dual_view_three_channel single_view_11_and_3.7_two_channel",
           "flag_values": [
            1,
            2,
            3,
            4,
            5
           ],
           "long_name": "Type of retrieval used for the alternate SST retrieval",
           "size": 25920000,
           "valid_max": 5,
           "valid_min": 1
          },
          "dims": [
           "time",
           "lat",
           "lon"
          ],
          "dtype": "uint8",
          "name": "alt_sst_retrieval_type",
          "ndim": 3
         },
         {
          "attrs": {
           "add_offset": 0,
           "chunk_sizes": [
            1,
            90,
            180
           ],
           "comment": "Component of uncertainty that is uncorrelated between SSTs; can be combined with other uncertainty estimates to form a total uncertainty",
           "data_type": "int16",
           "dimensions": [
            "time",
            "lat",
            "lon"
           ],
           "fill_value": -32768,
           "long_name": "Uncertainty from errors likely to be uncorrelated between SSTs",
           "references": "http://www.esa-sst-cci.org",
           "scale_factor": 0.001,
           "size": 25920000,
           "units": "kelvin",
           "valid_max": 5000,
           "valid_min": 0
          },
          "dims": [
           "time",
           "lat",
           "lon"
          ],
          "dtype": "int16",
          "name": "uncertainty_random",
          "ndim": 3
         },
         {
          "attrs": {
           "add_offset": 0,
           "chunk_sizes": [
            1,
            90,
            180
           ],
           "comment": "Component of uncertainty that is correlated over synoptic scales; can be combined with other uncertainty estimates to form a total uncertainty",
           "correlation_length_scale": "100 km",
           "correlation_time_scale": "1 day",
           "data_type": "int16",
           "dimensions": [
            "time",
            "lat",
            "lon"
           ],
           "fill_value": -32768,
           "long_name": "Uncertainty from errors likely to be correlated over synoptic scales",
           "references": "http://www.esa-sst-cci.org",
           "scale_factor": 0.001,
           "size": 25920000,
           "units": "kelvin",
           "valid_max": 5000,
           "valid_min": 0
          },
          "dims": [
           "time",
           "lat",
           "lon"
          ],
          "dtype": "int16",
          "name": "uncertainty_correlated",
          "ndim": 3
         },
         {
          "attrs": {
           "add_offset": 0,
           "chunk_sizes": [
            1,
            90,
            180
           ],
           "comment": "Component of uncertainty that is correlated over large scales; can be combined with other uncertainty estimates to form a total uncertainty",
           "data_type": "int16",
           "dimensions": [
            "time",
            "lat",
            "lon"
           ],
           "fill_value": -32768,
           "long_name": "Uncertainty from errors likely to be correlated over large scales",
           "references": "http://www.esa-sst-cci.org",
           "scale_factor": 0.001,
           "size": 25920000,
           "units": "kelvin",
           "valid_max": 5000,
           "valid_min": 0
          },
          "dims": [
           "time",
           "lat",
           "lon"
          ],
          "dtype": "int16",
          "name": "uncertainty_systematic",
          "ndim": 3
         },
         {
          "attrs": {
           "add_offset": 0,
           "chunk_sizes": [
            1,
            90,
            180
           ],
           "comment": "Adjustment uncertainty; can be combined with other uncertainty estimates to form a total uncertainty",
           "correlation_length_scale": "100 km",
           "correlation_time_scale": "1 day",
           "data_type": "int16",
           "dimensions": [
            "time",
            "lat",
            "lon"
           ],
           "fill_value": -32768,
           "long_name": "Time and depth adjustment uncertainty",
           "references": "http://www.esa-sst-cci.org",
           "scale_factor": 0.001,
           "size": 25920000,
           "units": "kelvin",
           "valid_max": 5000,
           "valid_min": 0
          },
          "dims": [
           "time",
           "lat",
           "lon"
          ],
          "dtype": "int16",
          "name": "uncertainty_correlated_time_and_depth_adjustment",
          "ndim": 3
         },
         {
          "attrs": {
           "add_offset": 0,
           "chunk_sizes": [
            1,
            90,
            180
           ],
           "comment": "Component of uncertainty in alternative SST retrieval that is uncorrelated between SSTs; can be combined with other uncertainty estimates to form a total uncertainty",
           "data_type": "int16",
           "dimensions": [
            "time",
            "lat",
            "lon"
           ],
           "fill_value": -32768,
           "long_name": "Uncertainty in alternative SST retrieval from errors likely to be uncorrelated between SSTs",
           "references": "http://www.esa-sst-cci.org",
           "scale_factor": 0.001,
           "size": 25920000,
           "units": "kelvin",
           "valid_max": 5000,
           "valid_min": 0
          },
          "dims": [
           "time",
           "lat",
           "lon"
          ],
          "dtype": "int16",
          "name": "uncertainty_random_alt",
          "ndim": 3
         },
         {
          "attrs": {
           "add_offset": 0,
           "chunk_sizes": [
            1,
            90,
            180
           ],
           "comment": "Component of uncertainty in alternative SST retrieval that is correlated over synoptic scales; can be combined with other uncertainty estimates to form a total uncertainty",
           "correlation_length_scale": "100 km",
           "correlation_time_scale": "1 day",
           "data_type": "int16",
           "dimensions": [
            "time",
            "lat",
            "lon"
           ],
           "fill_value": -32768,
           "long_name": "Uncertainty in alternative SST retrieval from errors likely to be correlated over synoptic scales",
           "references": "http://www.esa-sst-cci.org",
           "scale_factor": 0.001,
           "size": 25920000,
           "units": "kelvin",
           "valid_max": 5000,
           "valid_min": 0
          },
          "dims": [
           "time",
           "lat",
           "lon"
          ],
          "dtype": "int16",
          "name": "uncertainty_correlated_alt",
          "ndim": 3
         },
         {
          "attrs": {
           "add_offset": 0,
           "chunk_sizes": [
            1,
            90,
            180
           ],
           "comment": "Component of uncertainty in alternative SST retrieval that is correlated over large scales; can be combined with other uncertainty estimates to form a total uncertainty",
           "data_type": "int16",
           "dimensions": [
            "time",
            "lat",
            "lon"
           ],
           "fill_value": -32768,
           "long_name": "Uncertainty in alternative SST retrieval from errors likely to be correlated over large scales",
           "references": "http://www.esa-sst-cci.org",
           "scale_factor": 0.001,
           "size": 25920000,
           "units": "kelvin",
           "valid_max": 5000,
           "valid_min": 0
          },
          "dims": [
           "time",
           "lat",
           "lon"
          ],
          "dtype": "int16",
          "name": "uncertainty_systematic_alt",
          "ndim": 3
         },
         {
          "attrs": {
           "add_offset": 0,
           "chunk_sizes": [
            1,
            90,
            180
           ],
           "comment": "Sensitivity of the retrieval to actual changes in sea surface temperature",
           "data_type": "int16",
           "dimensions": [
            "time",
            "lat",
            "lon"
           ],
           "fill_value": -32768,
           "long_name": "Sensitivity of the retrieval to actual changes in sea surface temperature",
           "scale_factor": 0.001,
           "size": 25920000,
           "units": "K/K",
           "valid_max": 1100,
           "valid_min": 0
          },
          "dims": [
           "time",
           "lat",
           "lon"
          ],
          "dtype": "int16",
          "name": "sst_sensitivity",
          "ndim": 3
         },
         {
          "attrs": {
           "add_offset": 0,
           "chunk_sizes": [
            1,
            90,
            180
           ],
           "comment": "If not applied, fill with zeros to indicate independence from in situ",
           "data_type": "int16",
           "dimensions": [
            "time",
            "lat",
            "lon"
           ],
           "fill_value": -32768,
           "long_name": "Adjustment, based on comparison to in situ data",
           "scale_factor": 0.01,
           "size": 25920000,
           "units": "kelvin",
           "valid_max": 1000,
           "valid_min": -1000
          },
          "dims": [
           "time",
           "lat",
           "lon"
          ],
          "dtype": "int16",
          "name": "empirical_adjustment",
          "ndim": 3
         }
        ],
        "dims": {
         "bnds": 2,
         "lat": 3600,
         "lon": 7200,
         "time": 1
        },
        "open_params_schema": {
         "additionalProperties": false,
         "properties": {
          "bbox": {
           "items": [
            {
             "maximum": 180,
             "minimum": -180,
             "type": "number"
            },
            {
             "maximum": 90,
             "minimum": -90,
             "type": "number"
            },
            {
             "maximum": 180,
             "minimum": -180,
             "type": "number"
            },
            {
             "maximum": 90,
             "minimum": -90,
             "type": "number"
            }
           ],
           "type": "array"
          },
          "crs": {
           "const": "WGS84",
           "type": "string"
          },
          "spatial_res": {
           "const": 0.05,
           "type": "number"
          },
          "time_period": {
           "const": "1D",
           "type": "string"
          },
          "time_range": {
           "items": [
            {
             "format": "date",
             "maxDate": "2016-12-31",
             "minDate": "1981-08-23",
             "type": "string"
            },
            {
             "format": "date",
             "maxDate": "2016-12-31",
             "minDate": "1981-08-23",
             "type": "string"
            }
           ],
           "type": "array"
          },
          "variable_names": {
           "items": {
            "enum": [
             "sea_surface_temperature",
             "sea_surface_temperature_depth",
             "sea_surface_temperature_depth_anomaly",
             "sst_dtime",
             "sst_depth_dtime",
             "sses_bias",
             "sses_standard_deviation",
             "sea_surface_temperature_total_uncertainty",
             "sea_surface_temperature_depth_total_uncertainty",
             "depth_adjustment",
             "adjustment_alt",
             "l2p_flags",
             "quality_level",
             "wind_speed",
             "sea_surface_temperature_retrieval_type",
             "alt_sst_retrieval_type",
             "uncertainty_random",
             "uncertainty_correlated",
             "uncertainty_systematic",
             "uncertainty_correlated_time_and_depth_adjustment",
             "uncertainty_random_alt",
             "uncertainty_correlated_alt",
             "uncertainty_systematic_alt",
             "sst_sensitivity",
             "empirical_adjustment"
            ],
            "type": "string"
           },
           "type": "array"
          }
         },
         "type": "object"
        },
        "spatial_res": 0.05,
        "time_period": "1D",
        "time_range": [
         "1981-08-23",
         "2016-12-31"
        ],
        "type_specifier": "dataset"
       },
       {
        "attrs": {
         "abstract": "This v2.1 SST_cci Advanced Very High Resolution Radiometer (AVHRR) Level 3 Collated (L3C) Climate Data Record (CDR) consists of stable, low-bias sea surface temperature (SST) data from the AVHRR series of satellite instruments.  It covers the period between 08/1981 and 12/2016.  This L3C product provides these SST data on a 0.05 regular latitude-longitude grid and collated to include all orbits for a day (separated into daytime and nighttime files).\n\nThe dataset has been produced as part of the European Space Agency (ESA) Climate Change Initiative Sea Surface Temperature project(ESA SST_cci). The data products from SST_cci accurately map the surface temperature of the global oceans over the period 1981 to 2016 using observations from many satellites. The data provide independently quantified SSTs to a quality suitable for climate research.\n\nThis CDR Version 2.1 product supercedes the CDR Version 2.0 product.  Data are made freely and openly available under a Creative Commons License by Attribution (CC By 4.0) https://creativecommons.org/licenses/by/4.0/ .\n\nWhen citing this dataset please also cite the associated data paper: Merchant, C.J., Embury, O., Bulgin, C.E., Block T., Corlett, G.K., Fiedler, E., Good, S.A., Mittaz, J., Rayner, N.A., Berry, D., Eastwood, S., Taylor, M., Tsushima, Y., Waterfall, A., Wilson, R., Donlon, C. Satellite-based time-series of sea-surface temperature since 1981 for climate applications, Scientific Data 6:223 (2019). http://doi.org/10.1038/s41597-019-0236-x",
         "bbox_maxx": "180.0",
         "bbox_maxy": "90.0",
         "bbox_minx": "-180.0",
         "bbox_miny": "-90.0",
         "cci_project": "SST",
         "creation_date": "2019-08-02T20:01:15",
         "data_type": "SSTskin",
         "drs_ids": [
          "esacci.SST.day.L3C.SSTskin.AVHRR-3.NOAA-15.AVHRR15_G.2-1.day",
          "esacci.SST.day.L3C.SSTskin.AVHRR-3.NOAA-15.AVHRR15_G.2-1.night",
          "esacci.SST.day.L3C.SSTskin.AVHRR-3.Metop-A.AVHRRMTA_G.2-1.day",
          "esacci.SST.day.L3C.SSTskin.AVHRR-3.Metop-A.AVHRRMTA_G.2-1.night",
          "esacci.SST.day.L3C.SSTskin.AVHRR-3.NOAA-19.AVHRR19_G.2-1.day",
          "esacci.SST.day.L3C.SSTskin.AVHRR-3.NOAA-19.AVHRR19_G.2-1.night",
          "esacci.SST.day.L3C.SSTskin.AVHRR-3.NOAA-17.AVHRR17_G.2-1.day",
          "esacci.SST.day.L3C.SSTskin.AVHRR-3.NOAA-17.AVHRR17_G.2-1.night",
          "esacci.SST.day.L3C.SSTskin.AVHRR-2.NOAA-12.AVHRR12_G.2-1.day",
          "esacci.SST.day.L3C.SSTskin.AVHRR-2.NOAA-12.AVHRR12_G.2-1.night",
          "esacci.SST.day.L3C.SSTskin.AVHRR-2.NOAA-11.AVHRR11_G.2-1.day",
          "esacci.SST.day.L3C.SSTskin.AVHRR-2.NOAA-11.AVHRR11_G.2-1.night",
          "esacci.SST.day.L3C.SSTskin.AVHRR-2.NOAA-14.AVHRR14_G.2-1.day",
          "esacci.SST.day.L3C.SSTskin.AVHRR-2.NOAA-14.AVHRR14_G.2-1.night",
          "esacci.SST.day.L3C.SSTskin.AVHRR-3.NOAA-18.AVHRR18_G.2-1.day",
          "esacci.SST.day.L3C.SSTskin.AVHRR-3.NOAA-18.AVHRR18_G.2-1.night",
          "esacci.SST.day.L3C.SSTskin.AVHRR-2.NOAA-9.AVHRR09_G.2-1.day",
          "esacci.SST.day.L3C.SSTskin.AVHRR-2.NOAA-9.AVHRR09_G.2-1.night",
          "esacci.SST.day.L3C.SSTskin.AVHRR-3.NOAA-16.AVHRR16_G.2-1.day",
          "esacci.SST.day.L3C.SSTskin.AVHRR-3.NOAA-16.AVHRR16_G.2-1.night",
          "esacci.SST.day.L3C.SSTskin.AVHRR-2.NOAA-7.AVHRR07_G.2-1.day",
          "esacci.SST.day.L3C.SSTskin.AVHRR-2.NOAA-7.AVHRR07_G.2-1.night"
         ],
         "ecv": "SST",
         "fid": "7db4459605da4665b6ab9a7102fb4875",
         "file_formats": [
          ".nc",
          ".txt"
         ],
         "institute": "ESACCI_SST",
         "licences": "Use of these data is covered by the following licence: https://artefacts.ceda.ac.uk/licences/specific_licences/esacci_sst_terms_and_conditions_v2.pdf . When using these data you must cite them correctly using the citation given on the CEDA Data Catalogue record.",
         "metadata_url": "https://catalogue.ceda.ac.uk/export/xml/7db4459605da4665b6ab9a7102fb4875.xml",
         "odd_url": "http://archive.opensearch.ceda.ac.uk/opensearch/description.xml?parentIdentifier=7db4459605da4665b6ab9a7102fb4875",
         "platform_id": "NOAA-9",
         "processing_level": "L3C",
         "product_string": "AVHRR09_G",
         "product_version": "2-1",
         "publication_date": "2019-08-02T20:01:15",
         "sensor_id": "AVHRR-2",
         "temporal_coverage_end": "2016-12-31T23:59:59",
         "temporal_coverage_start": "1981-08-23T23:00:00",
         "time_frequency": "day",
         "title": "ESA Sea Surface Temperature Climate Change Initiative (SST_cci): Advanced Very High Resolution Radiometer (AVHRR) Level 3 Collated (L3C) Climate Data Record, version 2.1",
         "uuid": "7db4459605da4665b6ab9a7102fb4875"
        },
        "bbox": [
         -180,
         -90,
         180,
         90
        ],
        "data_id": "esacci.SST.day.L3C.SSTskin.AVHRR-2.NOAA-9.AVHRR09_G.2-1.day",
        "data_vars": [
         {
          "attrs": {
           "add_offset": 273.15,
           "chunk_sizes": [
            1,
            90,
            180
           ],
           "comment": "Temperature of the skin of the ocean; total uncertainty = sqrt(uncertainty_systematic^2+uncertainty_correlated^2+uncertainty_random^2)",
           "data_type": "int16",
           "depth": "10 micrometres",
           "dimensions": [
            "time",
            "lat",
            "lon"
           ],
           "fill_value": -32768,
           "long_name": "sea surface skin temperature",
           "references": "http://www.esa-sst-cci.org",
           "scale_factor": 0.01,
           "size": 25920000,
           "source": "AVHRR07_G-ESACCI-L1C-v1",
           "standard_name": "sea_surface_skin_temperature",
           "units": "kelvin",
           "valid_max": 5000,
           "valid_min": -200
          },
          "dims": [
           "time",
           "lat",
           "lon"
          ],
          "dtype": "int16",
          "name": "sea_surface_temperature",
          "ndim": 3
         },
         {
          "attrs": {
           "add_offset": 273.15,
           "chunk_sizes": [
            1,
            90,
            180
           ],
           "comment": "Temperature of the ocean at 20 cm depth; total uncertainty = sqrt(uncertainty_systematic^2+uncertainty_correlated^2+uncertainty_random^2+uncertainty_correlated_time_and_depth_adjustment^2)",
           "data_type": "int16",
           "depth": "0.2 metre",
           "dimensions": [
            "time",
            "lat",
            "lon"
           ],
           "fill_value": -32768,
           "long_name": "sea surface temperature at 0.2 m",
           "references": "http://www.esa-sst-cci.org",
           "scale_factor": 0.01,
           "size": 25920000,
           "source": "AVHRR07_G-ESACCI-L1C-v1",
           "standard_name": "sea_water_temperature",
           "units": "kelvin",
           "valid_max": 5000,
           "valid_min": -200
          },
          "dims": [
           "time",
           "lat",
           "lon"
          ],
          "dtype": "int16",
          "name": "sea_surface_temperature_depth",
          "ndim": 3
         },
         {
          "attrs": {
           "add_offset": 0,
           "chunk_sizes": [
            1,
            90,
            180
           ],
           "comment": "Temperature of the ocean at 20 cm depth; total uncertainty = sqrt(uncertainty_systematic^2+uncertainty_correlated^2+uncertainty_random^2+uncertainty_correlated_time_and_depth_adjustment^2)",
           "data_type": "int16",
           "depth": "0.2 metre",
           "dimensions": [
            "time",
            "lat",
            "lon"
           ],
           "fill_value": -32768,
           "long_name": "sea surface temperature anomaly at 0.2 m",
           "references": "http://www.esa-sst-cci.org",
           "scale_factor": 0.01,
           "size": 25920000,
           "source": "AVHRR07_G-ESACCI-L1C-v1",
           "standard_name": "sea_water_temperature_anomaly",
           "units": "kelvin",
           "valid_max": 4000,
           "valid_min": -4000
          },
          "dims": [
           "time",
           "lat",
           "lon"
          ],
          "dtype": "int16",
          "name": "sea_surface_temperature_depth_anomaly",
          "ndim": 3
         },
         {
          "attrs": {
           "add_offset": 0,
           "chunk_sizes": [
            1,
            90,
            180
           ],
           "comment": "time plus sst_dtime gives seconds after 1981-01-01 00:00:00",
           "data_type": "int32",
           "dimensions": [
            "time",
            "lat",
            "lon"
           ],
           "fill_value": -2147483648,
           "long_name": "time difference from reference time",
           "scale_factor": 1,
           "size": 25920000,
           "units": "seconds",
           "valid_max": 43200,
           "valid_min": -43200
          },
          "dims": [
           "time",
           "lat",
           "lon"
          ],
          "dtype": "int32",
          "name": "sst_dtime",
          "ndim": 3
         },
         {
          "attrs": {
           "add_offset": 0,
           "chunk_sizes": [
            1,
            90,
            180
           ],
           "comment": "time plus sst_depth_dtime gives seconds after 1981-01-01 00:00:00",
           "data_type": "int32",
           "dimensions": [
            "time",
            "lat",
            "lon"
           ],
           "fill_value": -2147483648,
           "long_name": "time difference from reference time",
           "scale_factor": 1,
           "size": 25920000,
           "units": "seconds",
           "valid_max": 43200,
           "valid_min": -43200
          },
          "dims": [
           "time",
           "lat",
           "lon"
          ],
          "dtype": "int32",
          "name": "sst_depth_dtime",
          "ndim": 3
         },
         {
          "attrs": {
           "_Unsigned": "false",
           "add_offset": 0,
           "chunk_sizes": [
            1,
            90,
            180
           ],
           "comment": "Populated with zeroes",
           "data_type": "uint8",
           "dimensions": [
            "time",
            "lat",
            "lon"
           ],
           "fill_value": -128,
           "long_name": "SSES bias estimate",
           "scale_factor": 0.01,
           "size": 25920000,
           "units": "kelvin",
           "valid_max": 127,
           "valid_min": -127
          },
          "dims": [
           "time",
           "lat",
           "lon"
          ],
          "dtype": "uint8",
          "name": "sses_bias",
          "ndim": 3
         },
         {
          "attrs": {
           "_Unsigned": "false",
           "add_offset": 1.27,
           "chunk_sizes": [
            1,
            90,
            180
           ],
           "comment": "Uncertainty information is contained in the variables uncertainty_systematic, uncertainty_correlated, and uncertainty_random",
           "data_type": "uint8",
           "dimensions": [
            "time",
            "lat",
            "lon"
           ],
           "fill_value": -128,
           "long_name": "SSES standard deviation",
           "scale_factor": 0.01,
           "size": 25920000,
           "units": "kelvin",
           "valid_max": 127,
           "valid_min": -127
          },
          "dims": [
           "time",
           "lat",
           "lon"
          ],
          "dtype": "uint8",
          "name": "sses_standard_deviation",
          "ndim": 3
         },
         {
          "attrs": {
           "add_offset": 0,
           "chunk_sizes": [
            1,
            90,
            180
           ],
           "comment": "Total uncertainty in each sea_surface_temperature data point",
           "data_type": "int16",
           "dimensions": [
            "time",
            "lat",
            "lon"
           ],
           "fill_value": -32768,
           "long_name": "Total uncertainty in sea_surface_temperature",
           "scale_factor": 0.001,
           "size": 25920000,
           "units": "kelvin",
           "valid_max": 5000,
           "valid_min": 0
          },
          "dims": [
           "time",
           "lat",
           "lon"
          ],
          "dtype": "int16",
          "name": "sea_surface_temperature_total_uncertainty",
          "ndim": 3
         },
         {
          "attrs": {
           "add_offset": 0,
           "chunk_sizes": [
            1,
            90,
            180
           ],
           "comment": "Total uncertainty in each sea_surface_temperature_depth data point",
           "data_type": "int16",
           "dimensions": [
            "time",
            "lat",
            "lon"
           ],
           "fill_value": -32768,
           "long_name": "Total uncertainty in sea_surface_temperature_depth",
           "scale_factor": 0.001,
           "size": 25920000,
           "units": "kelvin",
           "valid_max": 5000,
           "valid_min": 0
          },
          "dims": [
           "time",
           "lat",
           "lon"
          ],
          "dtype": "int16",
          "name": "sea_surface_temperature_depth_total_uncertainty",
          "ndim": 3
         },
         {
          "attrs": {
           "add_offset": 0,
           "chunk_sizes": [
            1,
            90,
            180
           ],
           "comment": "Add to sea_surface_temperature, if SST at 20cm at observation time is required",
           "data_type": "int16",
           "dimensions": [
            "time",
            "lat",
            "lon"
           ],
           "fill_value": -32768,
           "long_name": "Adjustment to sea surface temperature at 0.2 m",
           "scale_factor": 0.01,
           "size": 25920000,
           "units": "kelvin",
           "valid_max": 1000,
           "valid_min": -1000
          },
          "dims": [
           "time",
           "lat",
           "lon"
          ],
          "dtype": "int16",
          "name": "depth_adjustment",
          "ndim": 3
         },
         {
          "attrs": {
           "add_offset": 0,
           "chunk_sizes": [
            1,
            90,
            180
           ],
           "comment": "Add to sea_surface_temperature, if alternative SST retrieval is required",
           "data_type": "int16",
           "dimensions": [
            "time",
            "lat",
            "lon"
           ],
           "fill_value": -32768,
           "long_name": "Adjustment to alternative sea surface temperature retrieval",
           "scale_factor": 0.01,
           "size": 25920000,
           "units": "kelvin",
           "valid_max": 1000,
           "valid_min": -1000
          },
          "dims": [
           "time",
           "lat",
           "lon"
          ],
          "dtype": "int16",
          "name": "adjustment_alt",
          "ndim": 3
         },
         {
          "attrs": {
           "chunk_sizes": [
            1,
            90,
            180
           ],
           "comment": "These flags are important to properly use the data",
           "data_type": "int16",
           "dimensions": [
            "time",
            "lat",
            "lon"
           ],
           "fill_value": -32768,
           "flag_masks": [
            1,
            2,
            4,
            8,
            16,
            32,
            64,
            128,
            256
           ],
           "flag_meanings": "microwave land ice lake river spare views channels day",
           "long_name": "L2P flags",
           "size": 25920000,
           "valid_max": 511,
           "valid_min": 0
          },
          "dims": [
           "time",
           "lat",
           "lon"
          ],
          "dtype": "int16",
          "name": "l2p_flags",
          "ndim": 3
         },
         {
          "attrs": {
           "_Unsigned": "false",
           "chunk_sizes": [
            1,
            90,
            180
           ],
           "comment": "These are overall quality indicators and are used for all GHRSST SSTs",
           "data_type": "uint8",
           "dimensions": [
            "time",
            "lat",
            "lon"
           ],
           "fill_value": 0,
           "flag_meanings": "no_data bad_data worst_quality low_quality acceptable_quality best_quality",
           "flag_values": [
            0,
            1,
            2,
            3,
            4,
            5
           ],
           "long_name": "quality level of SST pixel",
           "size": 25920000,
           "valid_max": 5,
           "valid_min": 0
          },
          "dims": [
           "time",
           "lat",
           "lon"
          ],
          "dtype": "uint8",
          "name": "quality_level",
          "ndim": 3
         },
         {
          "attrs": {
           "_Unsigned": "false",
           "add_offset": 12.7,
           "chunk_sizes": [
            1,
            90,
            180
           ],
           "comment": "Wind speeds sourced from ECMWF ERA Interim Reanalysis; wind speeds greater than 25.4 m/s are set to 25.4.",
           "data_type": "uint8",
           "dimensions": [
            "time",
            "lat",
            "lon"
           ],
           "fill_value": -128,
           "height": "10 m",
           "long_name": "10m wind speed",
           "references": "http://www.esa-sst-cci.org",
           "scale_factor": 0.1,
           "size": 25920000,
           "source": "ERA_INTERIM-ECMWF-WSP-v1.0",
           "standard_name": "wind_speed",
           "time_offset": 0,
           "units": "m s-1",
           "valid_max": 127,
           "valid_min": -127
          },
          "dims": [
           "time",
           "lat",
           "lon"
          ],
          "dtype": "uint8",
          "name": "wind_speed",
          "ndim": 3
         },
         {
          "attrs": {
           "_Unsigned": "false",
           "chunk_sizes": [
            1,
            90,
            180
           ],
           "comment": "1. single view, two channel 2. single view, three channel 3. dual view, two channel 4. dual view, three channel 5. single view, 11 and 3.7 two channel",
           "data_type": "uint8",
           "dimensions": [
            "time",
            "lat",
            "lon"
           ],
           "fill_value": -128,
           "flag_meanings": "single_view_two_channel single_view_three_channel dual_view_two_channel dual_view_three_channel single_view_11_and_3.7_two_channel",
           "flag_values": [
            1,
            2,
            3,
            4,
            5
           ],
           "long_name": "Type of retrieval used for the primary SST",
           "size": 25920000,
           "valid_max": 5,
           "valid_min": 1
          },
          "dims": [
           "time",
           "lat",
           "lon"
          ],
          "dtype": "uint8",
          "name": "sea_surface_temperature_retrieval_type",
          "ndim": 3
         },
         {
          "attrs": {
           "_Unsigned": "false",
           "chunk_sizes": [
            1,
            90,
            180
           ],
           "comment": "For ATSRs, adjustment gives D2 (most consistent through time series) when D3 is provided as best. For AVHRRs, adjustment provides N2 when N3 is best. Reason for providing an alternative: can then use N2 or D2 consistently for whole record i",
           "data_type": "uint8",
           "dimensions": [
            "time",
            "lat",
            "lon"
           ],
           "fill_value": -128,
           "flag_meanings": "single_view_two_channel single_view_three_channel dual_view_two_channel dual_view_three_channel single_view_11_and_3.7_two_channel",
           "flag_values": [
            1,
            2,
            3,
            4,
            5
           ],
           "long_name": "Type of retrieval used for the alternate SST retrieval",
           "size": 25920000,
           "valid_max": 5,
           "valid_min": 1
          },
          "dims": [
           "time",
           "lat",
           "lon"
          ],
          "dtype": "uint8",
          "name": "alt_sst_retrieval_type",
          "ndim": 3
         },
         {
          "attrs": {
           "add_offset": 0,
           "chunk_sizes": [
            1,
            90,
            180
           ],
           "comment": "Component of uncertainty that is uncorrelated between SSTs; can be combined with other uncertainty estimates to form a total uncertainty",
           "data_type": "int16",
           "dimensions": [
            "time",
            "lat",
            "lon"
           ],
           "fill_value": -32768,
           "long_name": "Uncertainty from errors likely to be uncorrelated between SSTs",
           "references": "http://www.esa-sst-cci.org",
           "scale_factor": 0.001,
           "size": 25920000,
           "units": "kelvin",
           "valid_max": 5000,
           "valid_min": 0
          },
          "dims": [
           "time",
           "lat",
           "lon"
          ],
          "dtype": "int16",
          "name": "uncertainty_random",
          "ndim": 3
         },
         {
          "attrs": {
           "add_offset": 0,
           "chunk_sizes": [
            1,
            90,
            180
           ],
           "comment": "Component of uncertainty that is correlated over synoptic scales; can be combined with other uncertainty estimates to form a total uncertainty",
           "correlation_length_scale": "100 km",
           "correlation_time_scale": "1 day",
           "data_type": "int16",
           "dimensions": [
            "time",
            "lat",
            "lon"
           ],
           "fill_value": -32768,
           "long_name": "Uncertainty from errors likely to be correlated over synoptic scales",
           "references": "http://www.esa-sst-cci.org",
           "scale_factor": 0.001,
           "size": 25920000,
           "units": "kelvin",
           "valid_max": 5000,
           "valid_min": 0
          },
          "dims": [
           "time",
           "lat",
           "lon"
          ],
          "dtype": "int16",
          "name": "uncertainty_correlated",
          "ndim": 3
         },
         {
          "attrs": {
           "add_offset": 0,
           "chunk_sizes": [
            1,
            90,
            180
           ],
           "comment": "Component of uncertainty that is correlated over large scales; can be combined with other uncertainty estimates to form a total uncertainty",
           "data_type": "int16",
           "dimensions": [
            "time",
            "lat",
            "lon"
           ],
           "fill_value": -32768,
           "long_name": "Uncertainty from errors likely to be correlated over large scales",
           "references": "http://www.esa-sst-cci.org",
           "scale_factor": 0.001,
           "size": 25920000,
           "units": "kelvin",
           "valid_max": 5000,
           "valid_min": 0
          },
          "dims": [
           "time",
           "lat",
           "lon"
          ],
          "dtype": "int16",
          "name": "uncertainty_systematic",
          "ndim": 3
         },
         {
          "attrs": {
           "add_offset": 0,
           "chunk_sizes": [
            1,
            90,
            180
           ],
           "comment": "Adjustment uncertainty; can be combined with other uncertainty estimates to form a total uncertainty",
           "correlation_length_scale": "100 km",
           "correlation_time_scale": "1 day",
           "data_type": "int16",
           "dimensions": [
            "time",
            "lat",
            "lon"
           ],
           "fill_value": -32768,
           "long_name": "Time and depth adjustment uncertainty",
           "references": "http://www.esa-sst-cci.org",
           "scale_factor": 0.001,
           "size": 25920000,
           "units": "kelvin",
           "valid_max": 5000,
           "valid_min": 0
          },
          "dims": [
           "time",
           "lat",
           "lon"
          ],
          "dtype": "int16",
          "name": "uncertainty_correlated_time_and_depth_adjustment",
          "ndim": 3
         },
         {
          "attrs": {
           "add_offset": 0,
           "chunk_sizes": [
            1,
            90,
            180
           ],
           "comment": "Component of uncertainty in alternative SST retrieval that is uncorrelated between SSTs; can be combined with other uncertainty estimates to form a total uncertainty",
           "data_type": "int16",
           "dimensions": [
            "time",
            "lat",
            "lon"
           ],
           "fill_value": -32768,
           "long_name": "Uncertainty in alternative SST retrieval from errors likely to be uncorrelated between SSTs",
           "references": "http://www.esa-sst-cci.org",
           "scale_factor": 0.001,
           "size": 25920000,
           "units": "kelvin",
           "valid_max": 5000,
           "valid_min": 0
          },
          "dims": [
           "time",
           "lat",
           "lon"
          ],
          "dtype": "int16",
          "name": "uncertainty_random_alt",
          "ndim": 3
         },
         {
          "attrs": {
           "add_offset": 0,
           "chunk_sizes": [
            1,
            90,
            180
           ],
           "comment": "Component of uncertainty in alternative SST retrieval that is correlated over synoptic scales; can be combined with other uncertainty estimates to form a total uncertainty",
           "correlation_length_scale": "100 km",
           "correlation_time_scale": "1 day",
           "data_type": "int16",
           "dimensions": [
            "time",
            "lat",
            "lon"
           ],
           "fill_value": -32768,
           "long_name": "Uncertainty in alternative SST retrieval from errors likely to be correlated over synoptic scales",
           "references": "http://www.esa-sst-cci.org",
           "scale_factor": 0.001,
           "size": 25920000,
           "units": "kelvin",
           "valid_max": 5000,
           "valid_min": 0
          },
          "dims": [
           "time",
           "lat",
           "lon"
          ],
          "dtype": "int16",
          "name": "uncertainty_correlated_alt",
          "ndim": 3
         },
         {
          "attrs": {
           "add_offset": 0,
           "chunk_sizes": [
            1,
            90,
            180
           ],
           "comment": "Component of uncertainty in alternative SST retrieval that is correlated over large scales; can be combined with other uncertainty estimates to form a total uncertainty",
           "data_type": "int16",
           "dimensions": [
            "time",
            "lat",
            "lon"
           ],
           "fill_value": -32768,
           "long_name": "Uncertainty in alternative SST retrieval from errors likely to be correlated over large scales",
           "references": "http://www.esa-sst-cci.org",
           "scale_factor": 0.001,
           "size": 25920000,
           "units": "kelvin",
           "valid_max": 5000,
           "valid_min": 0
          },
          "dims": [
           "time",
           "lat",
           "lon"
          ],
          "dtype": "int16",
          "name": "uncertainty_systematic_alt",
          "ndim": 3
         },
         {
          "attrs": {
           "add_offset": 0,
           "chunk_sizes": [
            1,
            90,
            180
           ],
           "comment": "Sensitivity of the retrieval to actual changes in sea surface temperature",
           "data_type": "int16",
           "dimensions": [
            "time",
            "lat",
            "lon"
           ],
           "fill_value": -32768,
           "long_name": "Sensitivity of the retrieval to actual changes in sea surface temperature",
           "scale_factor": 0.001,
           "size": 25920000,
           "units": "K/K",
           "valid_max": 1100,
           "valid_min": 0
          },
          "dims": [
           "time",
           "lat",
           "lon"
          ],
          "dtype": "int16",
          "name": "sst_sensitivity",
          "ndim": 3
         },
         {
          "attrs": {
           "add_offset": 0,
           "chunk_sizes": [
            1,
            90,
            180
           ],
           "comment": "If not applied, fill with zeros to indicate independence from in situ",
           "data_type": "int16",
           "dimensions": [
            "time",
            "lat",
            "lon"
           ],
           "fill_value": -32768,
           "long_name": "Adjustment, based on comparison to in situ data",
           "scale_factor": 0.01,
           "size": 25920000,
           "units": "kelvin",
           "valid_max": 1000,
           "valid_min": -1000
          },
          "dims": [
           "time",
           "lat",
           "lon"
          ],
          "dtype": "int16",
          "name": "empirical_adjustment",
          "ndim": 3
         }
        ],
        "dims": {
         "bnds": 2,
         "lat": 3600,
         "lon": 7200,
         "time": 1
        },
        "open_params_schema": {
         "additionalProperties": false,
         "properties": {
          "bbox": {
           "items": [
            {
             "maximum": 180,
             "minimum": -180,
             "type": "number"
            },
            {
             "maximum": 90,
             "minimum": -90,
             "type": "number"
            },
            {
             "maximum": 180,
             "minimum": -180,
             "type": "number"
            },
            {
             "maximum": 90,
             "minimum": -90,
             "type": "number"
            }
           ],
           "type": "array"
          },
          "crs": {
           "const": "WGS84",
           "type": "string"
          },
          "spatial_res": {
           "const": 0.05,
           "type": "number"
          },
          "time_period": {
           "const": "1D",
           "type": "string"
          },
          "time_range": {
           "items": [
            {
             "format": "date",
             "maxDate": "2016-12-31",
             "minDate": "1981-08-23",
             "type": "string"
            },
            {
             "format": "date",
             "maxDate": "2016-12-31",
             "minDate": "1981-08-23",
             "type": "string"
            }
           ],
           "type": "array"
          },
          "variable_names": {
           "items": {
            "enum": [
             "sea_surface_temperature",
             "sea_surface_temperature_depth",
             "sea_surface_temperature_depth_anomaly",
             "sst_dtime",
             "sst_depth_dtime",
             "sses_bias",
             "sses_standard_deviation",
             "sea_surface_temperature_total_uncertainty",
             "sea_surface_temperature_depth_total_uncertainty",
             "depth_adjustment",
             "adjustment_alt",
             "l2p_flags",
             "quality_level",
             "wind_speed",
             "sea_surface_temperature_retrieval_type",
             "alt_sst_retrieval_type",
             "uncertainty_random",
             "uncertainty_correlated",
             "uncertainty_systematic",
             "uncertainty_correlated_time_and_depth_adjustment",
             "uncertainty_random_alt",
             "uncertainty_correlated_alt",
             "uncertainty_systematic_alt",
             "sst_sensitivity",
             "empirical_adjustment"
            ],
            "type": "string"
           },
           "type": "array"
          }
         },
         "type": "object"
        },
        "spatial_res": 0.05,
        "time_period": "1D",
        "time_range": [
         "1981-08-23",
         "2016-12-31"
        ],
        "type_specifier": "dataset"
       },
       {
        "attrs": {
         "abstract": "This v2.1 SST_cci Advanced Very High Resolution Radiometer (AVHRR) Level 3 Collated (L3C) Climate Data Record (CDR) consists of stable, low-bias sea surface temperature (SST) data from the AVHRR series of satellite instruments.  It covers the period between 08/1981 and 12/2016.  This L3C product provides these SST data on a 0.05 regular latitude-longitude grid and collated to include all orbits for a day (separated into daytime and nighttime files).\n\nThe dataset has been produced as part of the European Space Agency (ESA) Climate Change Initiative Sea Surface Temperature project(ESA SST_cci). The data products from SST_cci accurately map the surface temperature of the global oceans over the period 1981 to 2016 using observations from many satellites. The data provide independently quantified SSTs to a quality suitable for climate research.\n\nThis CDR Version 2.1 product supercedes the CDR Version 2.0 product.  Data are made freely and openly available under a Creative Commons License by Attribution (CC By 4.0) https://creativecommons.org/licenses/by/4.0/ .\n\nWhen citing this dataset please also cite the associated data paper: Merchant, C.J., Embury, O., Bulgin, C.E., Block T., Corlett, G.K., Fiedler, E., Good, S.A., Mittaz, J., Rayner, N.A., Berry, D., Eastwood, S., Taylor, M., Tsushima, Y., Waterfall, A., Wilson, R., Donlon, C. Satellite-based time-series of sea-surface temperature since 1981 for climate applications, Scientific Data 6:223 (2019). http://doi.org/10.1038/s41597-019-0236-x",
         "bbox_maxx": "180.0",
         "bbox_maxy": "90.0",
         "bbox_minx": "-180.0",
         "bbox_miny": "-90.0",
         "cci_project": "SST",
         "creation_date": "2019-08-02T20:01:15",
         "data_type": "SSTskin",
         "drs_ids": [
          "esacci.SST.day.L3C.SSTskin.AVHRR-3.NOAA-15.AVHRR15_G.2-1.day",
          "esacci.SST.day.L3C.SSTskin.AVHRR-3.NOAA-15.AVHRR15_G.2-1.night",
          "esacci.SST.day.L3C.SSTskin.AVHRR-3.Metop-A.AVHRRMTA_G.2-1.day",
          "esacci.SST.day.L3C.SSTskin.AVHRR-3.Metop-A.AVHRRMTA_G.2-1.night",
          "esacci.SST.day.L3C.SSTskin.AVHRR-3.NOAA-19.AVHRR19_G.2-1.day",
          "esacci.SST.day.L3C.SSTskin.AVHRR-3.NOAA-19.AVHRR19_G.2-1.night",
          "esacci.SST.day.L3C.SSTskin.AVHRR-3.NOAA-17.AVHRR17_G.2-1.day",
          "esacci.SST.day.L3C.SSTskin.AVHRR-3.NOAA-17.AVHRR17_G.2-1.night",
          "esacci.SST.day.L3C.SSTskin.AVHRR-2.NOAA-12.AVHRR12_G.2-1.day",
          "esacci.SST.day.L3C.SSTskin.AVHRR-2.NOAA-12.AVHRR12_G.2-1.night",
          "esacci.SST.day.L3C.SSTskin.AVHRR-2.NOAA-11.AVHRR11_G.2-1.day",
          "esacci.SST.day.L3C.SSTskin.AVHRR-2.NOAA-11.AVHRR11_G.2-1.night",
          "esacci.SST.day.L3C.SSTskin.AVHRR-2.NOAA-14.AVHRR14_G.2-1.day",
          "esacci.SST.day.L3C.SSTskin.AVHRR-2.NOAA-14.AVHRR14_G.2-1.night",
          "esacci.SST.day.L3C.SSTskin.AVHRR-3.NOAA-18.AVHRR18_G.2-1.day",
          "esacci.SST.day.L3C.SSTskin.AVHRR-3.NOAA-18.AVHRR18_G.2-1.night",
          "esacci.SST.day.L3C.SSTskin.AVHRR-2.NOAA-9.AVHRR09_G.2-1.day",
          "esacci.SST.day.L3C.SSTskin.AVHRR-2.NOAA-9.AVHRR09_G.2-1.night",
          "esacci.SST.day.L3C.SSTskin.AVHRR-3.NOAA-16.AVHRR16_G.2-1.day",
          "esacci.SST.day.L3C.SSTskin.AVHRR-3.NOAA-16.AVHRR16_G.2-1.night",
          "esacci.SST.day.L3C.SSTskin.AVHRR-2.NOAA-7.AVHRR07_G.2-1.day",
          "esacci.SST.day.L3C.SSTskin.AVHRR-2.NOAA-7.AVHRR07_G.2-1.night"
         ],
         "ecv": "SST",
         "fid": "7db4459605da4665b6ab9a7102fb4875",
         "file_formats": [
          ".nc",
          ".txt"
         ],
         "institute": "ESACCI_SST",
         "licences": "Use of these data is covered by the following licence: https://artefacts.ceda.ac.uk/licences/specific_licences/esacci_sst_terms_and_conditions_v2.pdf . When using these data you must cite them correctly using the citation given on the CEDA Data Catalogue record.",
         "metadata_url": "https://catalogue.ceda.ac.uk/export/xml/7db4459605da4665b6ab9a7102fb4875.xml",
         "odd_url": "http://archive.opensearch.ceda.ac.uk/opensearch/description.xml?parentIdentifier=7db4459605da4665b6ab9a7102fb4875",
         "platform_id": "NOAA-9",
         "processing_level": "L3C",
         "product_string": "AVHRR09_G",
         "product_version": "2-1",
         "publication_date": "2019-08-02T20:01:15",
         "sensor_id": "AVHRR-2",
         "temporal_coverage_end": "2016-12-31T23:59:59",
         "temporal_coverage_start": "1981-08-23T23:00:00",
         "time_frequency": "day",
         "title": "ESA Sea Surface Temperature Climate Change Initiative (SST_cci): Advanced Very High Resolution Radiometer (AVHRR) Level 3 Collated (L3C) Climate Data Record, version 2.1",
         "uuid": "7db4459605da4665b6ab9a7102fb4875"
        },
        "bbox": [
         -180,
         -90,
         180,
         90
        ],
        "data_id": "esacci.SST.day.L3C.SSTskin.AVHRR-2.NOAA-9.AVHRR09_G.2-1.night",
        "data_vars": [
         {
          "attrs": {
           "add_offset": 273.15,
           "chunk_sizes": [
            1,
            90,
            180
           ],
           "comment": "Temperature of the skin of the ocean; total uncertainty = sqrt(uncertainty_systematic^2+uncertainty_correlated^2+uncertainty_random^2)",
           "data_type": "int16",
           "depth": "10 micrometres",
           "dimensions": [
            "time",
            "lat",
            "lon"
           ],
           "fill_value": -32768,
           "long_name": "sea surface skin temperature",
           "references": "http://www.esa-sst-cci.org",
           "scale_factor": 0.01,
           "size": 25920000,
           "source": "AVHRR07_G-ESACCI-L1C-v1",
           "standard_name": "sea_surface_skin_temperature",
           "units": "kelvin",
           "valid_max": 5000,
           "valid_min": -200
          },
          "dims": [
           "time",
           "lat",
           "lon"
          ],
          "dtype": "int16",
          "name": "sea_surface_temperature",
          "ndim": 3
         },
         {
          "attrs": {
           "add_offset": 273.15,
           "chunk_sizes": [
            1,
            90,
            180
           ],
           "comment": "Temperature of the ocean at 20 cm depth; total uncertainty = sqrt(uncertainty_systematic^2+uncertainty_correlated^2+uncertainty_random^2+uncertainty_correlated_time_and_depth_adjustment^2)",
           "data_type": "int16",
           "depth": "0.2 metre",
           "dimensions": [
            "time",
            "lat",
            "lon"
           ],
           "fill_value": -32768,
           "long_name": "sea surface temperature at 0.2 m",
           "references": "http://www.esa-sst-cci.org",
           "scale_factor": 0.01,
           "size": 25920000,
           "source": "AVHRR07_G-ESACCI-L1C-v1",
           "standard_name": "sea_water_temperature",
           "units": "kelvin",
           "valid_max": 5000,
           "valid_min": -200
          },
          "dims": [
           "time",
           "lat",
           "lon"
          ],
          "dtype": "int16",
          "name": "sea_surface_temperature_depth",
          "ndim": 3
         },
         {
          "attrs": {
           "add_offset": 0,
           "chunk_sizes": [
            1,
            90,
            180
           ],
           "comment": "Temperature of the ocean at 20 cm depth; total uncertainty = sqrt(uncertainty_systematic^2+uncertainty_correlated^2+uncertainty_random^2+uncertainty_correlated_time_and_depth_adjustment^2)",
           "data_type": "int16",
           "depth": "0.2 metre",
           "dimensions": [
            "time",
            "lat",
            "lon"
           ],
           "fill_value": -32768,
           "long_name": "sea surface temperature anomaly at 0.2 m",
           "references": "http://www.esa-sst-cci.org",
           "scale_factor": 0.01,
           "size": 25920000,
           "source": "AVHRR07_G-ESACCI-L1C-v1",
           "standard_name": "sea_water_temperature_anomaly",
           "units": "kelvin",
           "valid_max": 4000,
           "valid_min": -4000
          },
          "dims": [
           "time",
           "lat",
           "lon"
          ],
          "dtype": "int16",
          "name": "sea_surface_temperature_depth_anomaly",
          "ndim": 3
         },
         {
          "attrs": {
           "add_offset": 0,
           "chunk_sizes": [
            1,
            90,
            180
           ],
           "comment": "time plus sst_dtime gives seconds after 1981-01-01 00:00:00",
           "data_type": "int32",
           "dimensions": [
            "time",
            "lat",
            "lon"
           ],
           "fill_value": -2147483648,
           "long_name": "time difference from reference time",
           "scale_factor": 1,
           "size": 25920000,
           "units": "seconds",
           "valid_max": 43200,
           "valid_min": -43200
          },
          "dims": [
           "time",
           "lat",
           "lon"
          ],
          "dtype": "int32",
          "name": "sst_dtime",
          "ndim": 3
         },
         {
          "attrs": {
           "add_offset": 0,
           "chunk_sizes": [
            1,
            90,
            180
           ],
           "comment": "time plus sst_depth_dtime gives seconds after 1981-01-01 00:00:00",
           "data_type": "int32",
           "dimensions": [
            "time",
            "lat",
            "lon"
           ],
           "fill_value": -2147483648,
           "long_name": "time difference from reference time",
           "scale_factor": 1,
           "size": 25920000,
           "units": "seconds",
           "valid_max": 43200,
           "valid_min": -43200
          },
          "dims": [
           "time",
           "lat",
           "lon"
          ],
          "dtype": "int32",
          "name": "sst_depth_dtime",
          "ndim": 3
         },
         {
          "attrs": {
           "_Unsigned": "false",
           "add_offset": 0,
           "chunk_sizes": [
            1,
            90,
            180
           ],
           "comment": "Populated with zeroes",
           "data_type": "uint8",
           "dimensions": [
            "time",
            "lat",
            "lon"
           ],
           "fill_value": -128,
           "long_name": "SSES bias estimate",
           "scale_factor": 0.01,
           "size": 25920000,
           "units": "kelvin",
           "valid_max": 127,
           "valid_min": -127
          },
          "dims": [
           "time",
           "lat",
           "lon"
          ],
          "dtype": "uint8",
          "name": "sses_bias",
          "ndim": 3
         },
         {
          "attrs": {
           "_Unsigned": "false",
           "add_offset": 1.27,
           "chunk_sizes": [
            1,
            90,
            180
           ],
           "comment": "Uncertainty information is contained in the variables uncertainty_systematic, uncertainty_correlated, and uncertainty_random",
           "data_type": "uint8",
           "dimensions": [
            "time",
            "lat",
            "lon"
           ],
           "fill_value": -128,
           "long_name": "SSES standard deviation",
           "scale_factor": 0.01,
           "size": 25920000,
           "units": "kelvin",
           "valid_max": 127,
           "valid_min": -127
          },
          "dims": [
           "time",
           "lat",
           "lon"
          ],
          "dtype": "uint8",
          "name": "sses_standard_deviation",
          "ndim": 3
         },
         {
          "attrs": {
           "add_offset": 0,
           "chunk_sizes": [
            1,
            90,
            180
           ],
           "comment": "Total uncertainty in each sea_surface_temperature data point",
           "data_type": "int16",
           "dimensions": [
            "time",
            "lat",
            "lon"
           ],
           "fill_value": -32768,
           "long_name": "Total uncertainty in sea_surface_temperature",
           "scale_factor": 0.001,
           "size": 25920000,
           "units": "kelvin",
           "valid_max": 5000,
           "valid_min": 0
          },
          "dims": [
           "time",
           "lat",
           "lon"
          ],
          "dtype": "int16",
          "name": "sea_surface_temperature_total_uncertainty",
          "ndim": 3
         },
         {
          "attrs": {
           "add_offset": 0,
           "chunk_sizes": [
            1,
            90,
            180
           ],
           "comment": "Total uncertainty in each sea_surface_temperature_depth data point",
           "data_type": "int16",
           "dimensions": [
            "time",
            "lat",
            "lon"
           ],
           "fill_value": -32768,
           "long_name": "Total uncertainty in sea_surface_temperature_depth",
           "scale_factor": 0.001,
           "size": 25920000,
           "units": "kelvin",
           "valid_max": 5000,
           "valid_min": 0
          },
          "dims": [
           "time",
           "lat",
           "lon"
          ],
          "dtype": "int16",
          "name": "sea_surface_temperature_depth_total_uncertainty",
          "ndim": 3
         },
         {
          "attrs": {
           "add_offset": 0,
           "chunk_sizes": [
            1,
            90,
            180
           ],
           "comment": "Add to sea_surface_temperature, if SST at 20cm at observation time is required",
           "data_type": "int16",
           "dimensions": [
            "time",
            "lat",
            "lon"
           ],
           "fill_value": -32768,
           "long_name": "Adjustment to sea surface temperature at 0.2 m",
           "scale_factor": 0.01,
           "size": 25920000,
           "units": "kelvin",
           "valid_max": 1000,
           "valid_min": -1000
          },
          "dims": [
           "time",
           "lat",
           "lon"
          ],
          "dtype": "int16",
          "name": "depth_adjustment",
          "ndim": 3
         },
         {
          "attrs": {
           "add_offset": 0,
           "chunk_sizes": [
            1,
            90,
            180
           ],
           "comment": "Add to sea_surface_temperature, if alternative SST retrieval is required",
           "data_type": "int16",
           "dimensions": [
            "time",
            "lat",
            "lon"
           ],
           "fill_value": -32768,
           "long_name": "Adjustment to alternative sea surface temperature retrieval",
           "scale_factor": 0.01,
           "size": 25920000,
           "units": "kelvin",
           "valid_max": 1000,
           "valid_min": -1000
          },
          "dims": [
           "time",
           "lat",
           "lon"
          ],
          "dtype": "int16",
          "name": "adjustment_alt",
          "ndim": 3
         },
         {
          "attrs": {
           "chunk_sizes": [
            1,
            90,
            180
           ],
           "comment": "These flags are important to properly use the data",
           "data_type": "int16",
           "dimensions": [
            "time",
            "lat",
            "lon"
           ],
           "fill_value": -32768,
           "flag_masks": [
            1,
            2,
            4,
            8,
            16,
            32,
            64,
            128,
            256
           ],
           "flag_meanings": "microwave land ice lake river spare views channels day",
           "long_name": "L2P flags",
           "size": 25920000,
           "valid_max": 511,
           "valid_min": 0
          },
          "dims": [
           "time",
           "lat",
           "lon"
          ],
          "dtype": "int16",
          "name": "l2p_flags",
          "ndim": 3
         },
         {
          "attrs": {
           "_Unsigned": "false",
           "chunk_sizes": [
            1,
            90,
            180
           ],
           "comment": "These are overall quality indicators and are used for all GHRSST SSTs",
           "data_type": "uint8",
           "dimensions": [
            "time",
            "lat",
            "lon"
           ],
           "fill_value": 0,
           "flag_meanings": "no_data bad_data worst_quality low_quality acceptable_quality best_quality",
           "flag_values": [
            0,
            1,
            2,
            3,
            4,
            5
           ],
           "long_name": "quality level of SST pixel",
           "size": 25920000,
           "valid_max": 5,
           "valid_min": 0
          },
          "dims": [
           "time",
           "lat",
           "lon"
          ],
          "dtype": "uint8",
          "name": "quality_level",
          "ndim": 3
         },
         {
          "attrs": {
           "_Unsigned": "false",
           "add_offset": 12.7,
           "chunk_sizes": [
            1,
            90,
            180
           ],
           "comment": "Wind speeds sourced from ECMWF ERA Interim Reanalysis; wind speeds greater than 25.4 m/s are set to 25.4.",
           "data_type": "uint8",
           "dimensions": [
            "time",
            "lat",
            "lon"
           ],
           "fill_value": -128,
           "height": "10 m",
           "long_name": "10m wind speed",
           "references": "http://www.esa-sst-cci.org",
           "scale_factor": 0.1,
           "size": 25920000,
           "source": "ERA_INTERIM-ECMWF-WSP-v1.0",
           "standard_name": "wind_speed",
           "time_offset": 0,
           "units": "m s-1",
           "valid_max": 127,
           "valid_min": -127
          },
          "dims": [
           "time",
           "lat",
           "lon"
          ],
          "dtype": "uint8",
          "name": "wind_speed",
          "ndim": 3
         },
         {
          "attrs": {
           "_Unsigned": "false",
           "chunk_sizes": [
            1,
            90,
            180
           ],
           "comment": "1. single view, two channel 2. single view, three channel 3. dual view, two channel 4. dual view, three channel 5. single view, 11 and 3.7 two channel",
           "data_type": "uint8",
           "dimensions": [
            "time",
            "lat",
            "lon"
           ],
           "fill_value": -128,
           "flag_meanings": "single_view_two_channel single_view_three_channel dual_view_two_channel dual_view_three_channel single_view_11_and_3.7_two_channel",
           "flag_values": [
            1,
            2,
            3,
            4,
            5
           ],
           "long_name": "Type of retrieval used for the primary SST",
           "size": 25920000,
           "valid_max": 5,
           "valid_min": 1
          },
          "dims": [
           "time",
           "lat",
           "lon"
          ],
          "dtype": "uint8",
          "name": "sea_surface_temperature_retrieval_type",
          "ndim": 3
         },
         {
          "attrs": {
           "_Unsigned": "false",
           "chunk_sizes": [
            1,
            90,
            180
           ],
           "comment": "For ATSRs, adjustment gives D2 (most consistent through time series) when D3 is provided as best. For AVHRRs, adjustment provides N2 when N3 is best. Reason for providing an alternative: can then use N2 or D2 consistently for whole record i",
           "data_type": "uint8",
           "dimensions": [
            "time",
            "lat",
            "lon"
           ],
           "fill_value": -128,
           "flag_meanings": "single_view_two_channel single_view_three_channel dual_view_two_channel dual_view_three_channel single_view_11_and_3.7_two_channel",
           "flag_values": [
            1,
            2,
            3,
            4,
            5
           ],
           "long_name": "Type of retrieval used for the alternate SST retrieval",
           "size": 25920000,
           "valid_max": 5,
           "valid_min": 1
          },
          "dims": [
           "time",
           "lat",
           "lon"
          ],
          "dtype": "uint8",
          "name": "alt_sst_retrieval_type",
          "ndim": 3
         },
         {
          "attrs": {
           "add_offset": 0,
           "chunk_sizes": [
            1,
            90,
            180
           ],
           "comment": "Component of uncertainty that is uncorrelated between SSTs; can be combined with other uncertainty estimates to form a total uncertainty",
           "data_type": "int16",
           "dimensions": [
            "time",
            "lat",
            "lon"
           ],
           "fill_value": -32768,
           "long_name": "Uncertainty from errors likely to be uncorrelated between SSTs",
           "references": "http://www.esa-sst-cci.org",
           "scale_factor": 0.001,
           "size": 25920000,
           "units": "kelvin",
           "valid_max": 5000,
           "valid_min": 0
          },
          "dims": [
           "time",
           "lat",
           "lon"
          ],
          "dtype": "int16",
          "name": "uncertainty_random",
          "ndim": 3
         },
         {
          "attrs": {
           "add_offset": 0,
           "chunk_sizes": [
            1,
            90,
            180
           ],
           "comment": "Component of uncertainty that is correlated over synoptic scales; can be combined with other uncertainty estimates to form a total uncertainty",
           "correlation_length_scale": "100 km",
           "correlation_time_scale": "1 day",
           "data_type": "int16",
           "dimensions": [
            "time",
            "lat",
            "lon"
           ],
           "fill_value": -32768,
           "long_name": "Uncertainty from errors likely to be correlated over synoptic scales",
           "references": "http://www.esa-sst-cci.org",
           "scale_factor": 0.001,
           "size": 25920000,
           "units": "kelvin",
           "valid_max": 5000,
           "valid_min": 0
          },
          "dims": [
           "time",
           "lat",
           "lon"
          ],
          "dtype": "int16",
          "name": "uncertainty_correlated",
          "ndim": 3
         },
         {
          "attrs": {
           "add_offset": 0,
           "chunk_sizes": [
            1,
            90,
            180
           ],
           "comment": "Component of uncertainty that is correlated over large scales; can be combined with other uncertainty estimates to form a total uncertainty",
           "data_type": "int16",
           "dimensions": [
            "time",
            "lat",
            "lon"
           ],
           "fill_value": -32768,
           "long_name": "Uncertainty from errors likely to be correlated over large scales",
           "references": "http://www.esa-sst-cci.org",
           "scale_factor": 0.001,
           "size": 25920000,
           "units": "kelvin",
           "valid_max": 5000,
           "valid_min": 0
          },
          "dims": [
           "time",
           "lat",
           "lon"
          ],
          "dtype": "int16",
          "name": "uncertainty_systematic",
          "ndim": 3
         },
         {
          "attrs": {
           "add_offset": 0,
           "chunk_sizes": [
            1,
            90,
            180
           ],
           "comment": "Adjustment uncertainty; can be combined with other uncertainty estimates to form a total uncertainty",
           "correlation_length_scale": "100 km",
           "correlation_time_scale": "1 day",
           "data_type": "int16",
           "dimensions": [
            "time",
            "lat",
            "lon"
           ],
           "fill_value": -32768,
           "long_name": "Time and depth adjustment uncertainty",
           "references": "http://www.esa-sst-cci.org",
           "scale_factor": 0.001,
           "size": 25920000,
           "units": "kelvin",
           "valid_max": 5000,
           "valid_min": 0
          },
          "dims": [
           "time",
           "lat",
           "lon"
          ],
          "dtype": "int16",
          "name": "uncertainty_correlated_time_and_depth_adjustment",
          "ndim": 3
         },
         {
          "attrs": {
           "add_offset": 0,
           "chunk_sizes": [
            1,
            90,
            180
           ],
           "comment": "Component of uncertainty in alternative SST retrieval that is uncorrelated between SSTs; can be combined with other uncertainty estimates to form a total uncertainty",
           "data_type": "int16",
           "dimensions": [
            "time",
            "lat",
            "lon"
           ],
           "fill_value": -32768,
           "long_name": "Uncertainty in alternative SST retrieval from errors likely to be uncorrelated between SSTs",
           "references": "http://www.esa-sst-cci.org",
           "scale_factor": 0.001,
           "size": 25920000,
           "units": "kelvin",
           "valid_max": 5000,
           "valid_min": 0
          },
          "dims": [
           "time",
           "lat",
           "lon"
          ],
          "dtype": "int16",
          "name": "uncertainty_random_alt",
          "ndim": 3
         },
         {
          "attrs": {
           "add_offset": 0,
           "chunk_sizes": [
            1,
            90,
            180
           ],
           "comment": "Component of uncertainty in alternative SST retrieval that is correlated over synoptic scales; can be combined with other uncertainty estimates to form a total uncertainty",
           "correlation_length_scale": "100 km",
           "correlation_time_scale": "1 day",
           "data_type": "int16",
           "dimensions": [
            "time",
            "lat",
            "lon"
           ],
           "fill_value": -32768,
           "long_name": "Uncertainty in alternative SST retrieval from errors likely to be correlated over synoptic scales",
           "references": "http://www.esa-sst-cci.org",
           "scale_factor": 0.001,
           "size": 25920000,
           "units": "kelvin",
           "valid_max": 5000,
           "valid_min": 0
          },
          "dims": [
           "time",
           "lat",
           "lon"
          ],
          "dtype": "int16",
          "name": "uncertainty_correlated_alt",
          "ndim": 3
         },
         {
          "attrs": {
           "add_offset": 0,
           "chunk_sizes": [
            1,
            90,
            180
           ],
           "comment": "Component of uncertainty in alternative SST retrieval that is correlated over large scales; can be combined with other uncertainty estimates to form a total uncertainty",
           "data_type": "int16",
           "dimensions": [
            "time",
            "lat",
            "lon"
           ],
           "fill_value": -32768,
           "long_name": "Uncertainty in alternative SST retrieval from errors likely to be correlated over large scales",
           "references": "http://www.esa-sst-cci.org",
           "scale_factor": 0.001,
           "size": 25920000,
           "units": "kelvin",
           "valid_max": 5000,
           "valid_min": 0
          },
          "dims": [
           "time",
           "lat",
           "lon"
          ],
          "dtype": "int16",
          "name": "uncertainty_systematic_alt",
          "ndim": 3
         },
         {
          "attrs": {
           "add_offset": 0,
           "chunk_sizes": [
            1,
            90,
            180
           ],
           "comment": "Sensitivity of the retrieval to actual changes in sea surface temperature",
           "data_type": "int16",
           "dimensions": [
            "time",
            "lat",
            "lon"
           ],
           "fill_value": -32768,
           "long_name": "Sensitivity of the retrieval to actual changes in sea surface temperature",
           "scale_factor": 0.001,
           "size": 25920000,
           "units": "K/K",
           "valid_max": 1100,
           "valid_min": 0
          },
          "dims": [
           "time",
           "lat",
           "lon"
          ],
          "dtype": "int16",
          "name": "sst_sensitivity",
          "ndim": 3
         },
         {
          "attrs": {
           "add_offset": 0,
           "chunk_sizes": [
            1,
            90,
            180
           ],
           "comment": "If not applied, fill with zeros to indicate independence from in situ",
           "data_type": "int16",
           "dimensions": [
            "time",
            "lat",
            "lon"
           ],
           "fill_value": -32768,
           "long_name": "Adjustment, based on comparison to in situ data",
           "scale_factor": 0.01,
           "size": 25920000,
           "units": "kelvin",
           "valid_max": 1000,
           "valid_min": -1000
          },
          "dims": [
           "time",
           "lat",
           "lon"
          ],
          "dtype": "int16",
          "name": "empirical_adjustment",
          "ndim": 3
         }
        ],
        "dims": {
         "bnds": 2,
         "lat": 3600,
         "lon": 7200,
         "time": 1
        },
        "open_params_schema": {
         "additionalProperties": false,
         "properties": {
          "bbox": {
           "items": [
            {
             "maximum": 180,
             "minimum": -180,
             "type": "number"
            },
            {
             "maximum": 90,
             "minimum": -90,
             "type": "number"
            },
            {
             "maximum": 180,
             "minimum": -180,
             "type": "number"
            },
            {
             "maximum": 90,
             "minimum": -90,
             "type": "number"
            }
           ],
           "type": "array"
          },
          "crs": {
           "const": "WGS84",
           "type": "string"
          },
          "spatial_res": {
           "const": 0.05,
           "type": "number"
          },
          "time_period": {
           "const": "1D",
           "type": "string"
          },
          "time_range": {
           "items": [
            {
             "format": "date",
             "maxDate": "2016-12-31",
             "minDate": "1981-08-23",
             "type": "string"
            },
            {
             "format": "date",
             "maxDate": "2016-12-31",
             "minDate": "1981-08-23",
             "type": "string"
            }
           ],
           "type": "array"
          },
          "variable_names": {
           "items": {
            "enum": [
             "sea_surface_temperature",
             "sea_surface_temperature_depth",
             "sea_surface_temperature_depth_anomaly",
             "sst_dtime",
             "sst_depth_dtime",
             "sses_bias",
             "sses_standard_deviation",
             "sea_surface_temperature_total_uncertainty",
             "sea_surface_temperature_depth_total_uncertainty",
             "depth_adjustment",
             "adjustment_alt",
             "l2p_flags",
             "quality_level",
             "wind_speed",
             "sea_surface_temperature_retrieval_type",
             "alt_sst_retrieval_type",
             "uncertainty_random",
             "uncertainty_correlated",
             "uncertainty_systematic",
             "uncertainty_correlated_time_and_depth_adjustment",
             "uncertainty_random_alt",
             "uncertainty_correlated_alt",
             "uncertainty_systematic_alt",
             "sst_sensitivity",
             "empirical_adjustment"
            ],
            "type": "string"
           },
           "type": "array"
          }
         },
         "type": "object"
        },
        "spatial_res": 0.05,
        "time_period": "1D",
        "time_range": [
         "1981-08-23",
         "2016-12-31"
        ],
        "type_specifier": "dataset"
       },
       {
        "attrs": {
         "abstract": "This v2.1 SST_cci Advanced Very High Resolution Radiometer (AVHRR) Level 3 Collated (L3C) Climate Data Record (CDR) consists of stable, low-bias sea surface temperature (SST) data from the AVHRR series of satellite instruments.  It covers the period between 08/1981 and 12/2016.  This L3C product provides these SST data on a 0.05 regular latitude-longitude grid and collated to include all orbits for a day (separated into daytime and nighttime files).\n\nThe dataset has been produced as part of the European Space Agency (ESA) Climate Change Initiative Sea Surface Temperature project(ESA SST_cci). The data products from SST_cci accurately map the surface temperature of the global oceans over the period 1981 to 2016 using observations from many satellites. The data provide independently quantified SSTs to a quality suitable for climate research.\n\nThis CDR Version 2.1 product supercedes the CDR Version 2.0 product.  Data are made freely and openly available under a Creative Commons License by Attribution (CC By 4.0) https://creativecommons.org/licenses/by/4.0/ .\n\nWhen citing this dataset please also cite the associated data paper: Merchant, C.J., Embury, O., Bulgin, C.E., Block T., Corlett, G.K., Fiedler, E., Good, S.A., Mittaz, J., Rayner, N.A., Berry, D., Eastwood, S., Taylor, M., Tsushima, Y., Waterfall, A., Wilson, R., Donlon, C. Satellite-based time-series of sea-surface temperature since 1981 for climate applications, Scientific Data 6:223 (2019). http://doi.org/10.1038/s41597-019-0236-x",
         "bbox_maxx": "180.0",
         "bbox_maxy": "90.0",
         "bbox_minx": "-180.0",
         "bbox_miny": "-90.0",
         "cci_project": "SST",
         "creation_date": "2019-08-02T20:01:15",
         "data_type": "SSTskin",
         "drs_ids": [
          "esacci.SST.day.L3C.SSTskin.AVHRR-3.NOAA-15.AVHRR15_G.2-1.day",
          "esacci.SST.day.L3C.SSTskin.AVHRR-3.NOAA-15.AVHRR15_G.2-1.night",
          "esacci.SST.day.L3C.SSTskin.AVHRR-3.Metop-A.AVHRRMTA_G.2-1.day",
          "esacci.SST.day.L3C.SSTskin.AVHRR-3.Metop-A.AVHRRMTA_G.2-1.night",
          "esacci.SST.day.L3C.SSTskin.AVHRR-3.NOAA-19.AVHRR19_G.2-1.day",
          "esacci.SST.day.L3C.SSTskin.AVHRR-3.NOAA-19.AVHRR19_G.2-1.night",
          "esacci.SST.day.L3C.SSTskin.AVHRR-3.NOAA-17.AVHRR17_G.2-1.day",
          "esacci.SST.day.L3C.SSTskin.AVHRR-3.NOAA-17.AVHRR17_G.2-1.night",
          "esacci.SST.day.L3C.SSTskin.AVHRR-2.NOAA-12.AVHRR12_G.2-1.day",
          "esacci.SST.day.L3C.SSTskin.AVHRR-2.NOAA-12.AVHRR12_G.2-1.night",
          "esacci.SST.day.L3C.SSTskin.AVHRR-2.NOAA-11.AVHRR11_G.2-1.day",
          "esacci.SST.day.L3C.SSTskin.AVHRR-2.NOAA-11.AVHRR11_G.2-1.night",
          "esacci.SST.day.L3C.SSTskin.AVHRR-2.NOAA-14.AVHRR14_G.2-1.day",
          "esacci.SST.day.L3C.SSTskin.AVHRR-2.NOAA-14.AVHRR14_G.2-1.night",
          "esacci.SST.day.L3C.SSTskin.AVHRR-3.NOAA-18.AVHRR18_G.2-1.day",
          "esacci.SST.day.L3C.SSTskin.AVHRR-3.NOAA-18.AVHRR18_G.2-1.night",
          "esacci.SST.day.L3C.SSTskin.AVHRR-2.NOAA-9.AVHRR09_G.2-1.day",
          "esacci.SST.day.L3C.SSTskin.AVHRR-2.NOAA-9.AVHRR09_G.2-1.night",
          "esacci.SST.day.L3C.SSTskin.AVHRR-3.NOAA-16.AVHRR16_G.2-1.day",
          "esacci.SST.day.L3C.SSTskin.AVHRR-3.NOAA-16.AVHRR16_G.2-1.night",
          "esacci.SST.day.L3C.SSTskin.AVHRR-2.NOAA-7.AVHRR07_G.2-1.day",
          "esacci.SST.day.L3C.SSTskin.AVHRR-2.NOAA-7.AVHRR07_G.2-1.night"
         ],
         "ecv": "SST",
         "fid": "7db4459605da4665b6ab9a7102fb4875",
         "file_formats": [
          ".nc",
          ".txt"
         ],
         "institute": "ESACCI_SST",
         "licences": "Use of these data is covered by the following licence: https://artefacts.ceda.ac.uk/licences/specific_licences/esacci_sst_terms_and_conditions_v2.pdf . When using these data you must cite them correctly using the citation given on the CEDA Data Catalogue record.",
         "metadata_url": "https://catalogue.ceda.ac.uk/export/xml/7db4459605da4665b6ab9a7102fb4875.xml",
         "odd_url": "http://archive.opensearch.ceda.ac.uk/opensearch/description.xml?parentIdentifier=7db4459605da4665b6ab9a7102fb4875",
         "platform_id": "Metop-A",
         "processing_level": "L3C",
         "product_string": "AVHRRMTA_G",
         "product_version": "2-1",
         "publication_date": "2019-08-02T20:01:15",
         "sensor_id": "AVHRR-3",
         "temporal_coverage_end": "2016-12-31T23:59:59",
         "temporal_coverage_start": "1981-08-23T23:00:00",
         "time_frequency": "day",
         "title": "ESA Sea Surface Temperature Climate Change Initiative (SST_cci): Advanced Very High Resolution Radiometer (AVHRR) Level 3 Collated (L3C) Climate Data Record, version 2.1",
         "uuid": "7db4459605da4665b6ab9a7102fb4875"
        },
        "bbox": [
         -180,
         -90,
         180,
         90
        ],
        "data_id": "esacci.SST.day.L3C.SSTskin.AVHRR-3.Metop-A.AVHRRMTA_G.2-1.day",
        "data_vars": [
         {
          "attrs": {
           "add_offset": 273.15,
           "chunk_sizes": [
            1,
            90,
            180
           ],
           "comment": "Temperature of the skin of the ocean; total uncertainty = sqrt(uncertainty_systematic^2+uncertainty_correlated^2+uncertainty_random^2)",
           "data_type": "int16",
           "depth": "10 micrometres",
           "dimensions": [
            "time",
            "lat",
            "lon"
           ],
           "fill_value": -32768,
           "long_name": "sea surface skin temperature",
           "references": "http://www.esa-sst-cci.org",
           "scale_factor": 0.01,
           "size": 25920000,
           "source": "AVHRR07_G-ESACCI-L1C-v1",
           "standard_name": "sea_surface_skin_temperature",
           "units": "kelvin",
           "valid_max": 5000,
           "valid_min": -200
          },
          "dims": [
           "time",
           "lat",
           "lon"
          ],
          "dtype": "int16",
          "name": "sea_surface_temperature",
          "ndim": 3
         },
         {
          "attrs": {
           "add_offset": 273.15,
           "chunk_sizes": [
            1,
            90,
            180
           ],
           "comment": "Temperature of the ocean at 20 cm depth; total uncertainty = sqrt(uncertainty_systematic^2+uncertainty_correlated^2+uncertainty_random^2+uncertainty_correlated_time_and_depth_adjustment^2)",
           "data_type": "int16",
           "depth": "0.2 metre",
           "dimensions": [
            "time",
            "lat",
            "lon"
           ],
           "fill_value": -32768,
           "long_name": "sea surface temperature at 0.2 m",
           "references": "http://www.esa-sst-cci.org",
           "scale_factor": 0.01,
           "size": 25920000,
           "source": "AVHRR07_G-ESACCI-L1C-v1",
           "standard_name": "sea_water_temperature",
           "units": "kelvin",
           "valid_max": 5000,
           "valid_min": -200
          },
          "dims": [
           "time",
           "lat",
           "lon"
          ],
          "dtype": "int16",
          "name": "sea_surface_temperature_depth",
          "ndim": 3
         },
         {
          "attrs": {
           "add_offset": 0,
           "chunk_sizes": [
            1,
            90,
            180
           ],
           "comment": "Temperature of the ocean at 20 cm depth; total uncertainty = sqrt(uncertainty_systematic^2+uncertainty_correlated^2+uncertainty_random^2+uncertainty_correlated_time_and_depth_adjustment^2)",
           "data_type": "int16",
           "depth": "0.2 metre",
           "dimensions": [
            "time",
            "lat",
            "lon"
           ],
           "fill_value": -32768,
           "long_name": "sea surface temperature anomaly at 0.2 m",
           "references": "http://www.esa-sst-cci.org",
           "scale_factor": 0.01,
           "size": 25920000,
           "source": "AVHRR07_G-ESACCI-L1C-v1",
           "standard_name": "sea_water_temperature_anomaly",
           "units": "kelvin",
           "valid_max": 4000,
           "valid_min": -4000
          },
          "dims": [
           "time",
           "lat",
           "lon"
          ],
          "dtype": "int16",
          "name": "sea_surface_temperature_depth_anomaly",
          "ndim": 3
         },
         {
          "attrs": {
           "add_offset": 0,
           "chunk_sizes": [
            1,
            90,
            180
           ],
           "comment": "time plus sst_dtime gives seconds after 1981-01-01 00:00:00",
           "data_type": "int32",
           "dimensions": [
            "time",
            "lat",
            "lon"
           ],
           "fill_value": -2147483648,
           "long_name": "time difference from reference time",
           "scale_factor": 1,
           "size": 25920000,
           "units": "seconds",
           "valid_max": 43200,
           "valid_min": -43200
          },
          "dims": [
           "time",
           "lat",
           "lon"
          ],
          "dtype": "int32",
          "name": "sst_dtime",
          "ndim": 3
         },
         {
          "attrs": {
           "add_offset": 0,
           "chunk_sizes": [
            1,
            90,
            180
           ],
           "comment": "time plus sst_depth_dtime gives seconds after 1981-01-01 00:00:00",
           "data_type": "int32",
           "dimensions": [
            "time",
            "lat",
            "lon"
           ],
           "fill_value": -2147483648,
           "long_name": "time difference from reference time",
           "scale_factor": 1,
           "size": 25920000,
           "units": "seconds",
           "valid_max": 43200,
           "valid_min": -43200
          },
          "dims": [
           "time",
           "lat",
           "lon"
          ],
          "dtype": "int32",
          "name": "sst_depth_dtime",
          "ndim": 3
         },
         {
          "attrs": {
           "_Unsigned": "false",
           "add_offset": 0,
           "chunk_sizes": [
            1,
            90,
            180
           ],
           "comment": "Populated with zeroes",
           "data_type": "uint8",
           "dimensions": [
            "time",
            "lat",
            "lon"
           ],
           "fill_value": -128,
           "long_name": "SSES bias estimate",
           "scale_factor": 0.01,
           "size": 25920000,
           "units": "kelvin",
           "valid_max": 127,
           "valid_min": -127
          },
          "dims": [
           "time",
           "lat",
           "lon"
          ],
          "dtype": "uint8",
          "name": "sses_bias",
          "ndim": 3
         },
         {
          "attrs": {
           "_Unsigned": "false",
           "add_offset": 1.27,
           "chunk_sizes": [
            1,
            90,
            180
           ],
           "comment": "Uncertainty information is contained in the variables uncertainty_systematic, uncertainty_correlated, and uncertainty_random",
           "data_type": "uint8",
           "dimensions": [
            "time",
            "lat",
            "lon"
           ],
           "fill_value": -128,
           "long_name": "SSES standard deviation",
           "scale_factor": 0.01,
           "size": 25920000,
           "units": "kelvin",
           "valid_max": 127,
           "valid_min": -127
          },
          "dims": [
           "time",
           "lat",
           "lon"
          ],
          "dtype": "uint8",
          "name": "sses_standard_deviation",
          "ndim": 3
         },
         {
          "attrs": {
           "add_offset": 0,
           "chunk_sizes": [
            1,
            90,
            180
           ],
           "comment": "Total uncertainty in each sea_surface_temperature data point",
           "data_type": "int16",
           "dimensions": [
            "time",
            "lat",
            "lon"
           ],
           "fill_value": -32768,
           "long_name": "Total uncertainty in sea_surface_temperature",
           "scale_factor": 0.001,
           "size": 25920000,
           "units": "kelvin",
           "valid_max": 5000,
           "valid_min": 0
          },
          "dims": [
           "time",
           "lat",
           "lon"
          ],
          "dtype": "int16",
          "name": "sea_surface_temperature_total_uncertainty",
          "ndim": 3
         },
         {
          "attrs": {
           "add_offset": 0,
           "chunk_sizes": [
            1,
            90,
            180
           ],
           "comment": "Total uncertainty in each sea_surface_temperature_depth data point",
           "data_type": "int16",
           "dimensions": [
            "time",
            "lat",
            "lon"
           ],
           "fill_value": -32768,
           "long_name": "Total uncertainty in sea_surface_temperature_depth",
           "scale_factor": 0.001,
           "size": 25920000,
           "units": "kelvin",
           "valid_max": 5000,
           "valid_min": 0
          },
          "dims": [
           "time",
           "lat",
           "lon"
          ],
          "dtype": "int16",
          "name": "sea_surface_temperature_depth_total_uncertainty",
          "ndim": 3
         },
         {
          "attrs": {
           "add_offset": 0,
           "chunk_sizes": [
            1,
            90,
            180
           ],
           "comment": "Add to sea_surface_temperature, if SST at 20cm at observation time is required",
           "data_type": "int16",
           "dimensions": [
            "time",
            "lat",
            "lon"
           ],
           "fill_value": -32768,
           "long_name": "Adjustment to sea surface temperature at 0.2 m",
           "scale_factor": 0.01,
           "size": 25920000,
           "units": "kelvin",
           "valid_max": 1000,
           "valid_min": -1000
          },
          "dims": [
           "time",
           "lat",
           "lon"
          ],
          "dtype": "int16",
          "name": "depth_adjustment",
          "ndim": 3
         },
         {
          "attrs": {
           "add_offset": 0,
           "chunk_sizes": [
            1,
            90,
            180
           ],
           "comment": "Add to sea_surface_temperature, if alternative SST retrieval is required",
           "data_type": "int16",
           "dimensions": [
            "time",
            "lat",
            "lon"
           ],
           "fill_value": -32768,
           "long_name": "Adjustment to alternative sea surface temperature retrieval",
           "scale_factor": 0.01,
           "size": 25920000,
           "units": "kelvin",
           "valid_max": 1000,
           "valid_min": -1000
          },
          "dims": [
           "time",
           "lat",
           "lon"
          ],
          "dtype": "int16",
          "name": "adjustment_alt",
          "ndim": 3
         },
         {
          "attrs": {
           "chunk_sizes": [
            1,
            90,
            180
           ],
           "comment": "These flags are important to properly use the data",
           "data_type": "int16",
           "dimensions": [
            "time",
            "lat",
            "lon"
           ],
           "fill_value": -32768,
           "flag_masks": [
            1,
            2,
            4,
            8,
            16,
            32,
            64,
            128,
            256
           ],
           "flag_meanings": "microwave land ice lake river spare views channels day",
           "long_name": "L2P flags",
           "size": 25920000,
           "valid_max": 511,
           "valid_min": 0
          },
          "dims": [
           "time",
           "lat",
           "lon"
          ],
          "dtype": "int16",
          "name": "l2p_flags",
          "ndim": 3
         },
         {
          "attrs": {
           "_Unsigned": "false",
           "chunk_sizes": [
            1,
            90,
            180
           ],
           "comment": "These are overall quality indicators and are used for all GHRSST SSTs",
           "data_type": "uint8",
           "dimensions": [
            "time",
            "lat",
            "lon"
           ],
           "fill_value": 0,
           "flag_meanings": "no_data bad_data worst_quality low_quality acceptable_quality best_quality",
           "flag_values": [
            0,
            1,
            2,
            3,
            4,
            5
           ],
           "long_name": "quality level of SST pixel",
           "size": 25920000,
           "valid_max": 5,
           "valid_min": 0
          },
          "dims": [
           "time",
           "lat",
           "lon"
          ],
          "dtype": "uint8",
          "name": "quality_level",
          "ndim": 3
         },
         {
          "attrs": {
           "_Unsigned": "false",
           "add_offset": 12.7,
           "chunk_sizes": [
            1,
            90,
            180
           ],
           "comment": "Wind speeds sourced from ECMWF ERA Interim Reanalysis; wind speeds greater than 25.4 m/s are set to 25.4.",
           "data_type": "uint8",
           "dimensions": [
            "time",
            "lat",
            "lon"
           ],
           "fill_value": -128,
           "height": "10 m",
           "long_name": "10m wind speed",
           "references": "http://www.esa-sst-cci.org",
           "scale_factor": 0.1,
           "size": 25920000,
           "source": "ERA_INTERIM-ECMWF-WSP-v1.0",
           "standard_name": "wind_speed",
           "time_offset": 0,
           "units": "m s-1",
           "valid_max": 127,
           "valid_min": -127
          },
          "dims": [
           "time",
           "lat",
           "lon"
          ],
          "dtype": "uint8",
          "name": "wind_speed",
          "ndim": 3
         },
         {
          "attrs": {
           "_Unsigned": "false",
           "chunk_sizes": [
            1,
            90,
            180
           ],
           "comment": "1. single view, two channel 2. single view, three channel 3. dual view, two channel 4. dual view, three channel 5. single view, 11 and 3.7 two channel",
           "data_type": "uint8",
           "dimensions": [
            "time",
            "lat",
            "lon"
           ],
           "fill_value": -128,
           "flag_meanings": "single_view_two_channel single_view_three_channel dual_view_two_channel dual_view_three_channel single_view_11_and_3.7_two_channel",
           "flag_values": [
            1,
            2,
            3,
            4,
            5
           ],
           "long_name": "Type of retrieval used for the primary SST",
           "size": 25920000,
           "valid_max": 5,
           "valid_min": 1
          },
          "dims": [
           "time",
           "lat",
           "lon"
          ],
          "dtype": "uint8",
          "name": "sea_surface_temperature_retrieval_type",
          "ndim": 3
         },
         {
          "attrs": {
           "_Unsigned": "false",
           "chunk_sizes": [
            1,
            90,
            180
           ],
           "comment": "For ATSRs, adjustment gives D2 (most consistent through time series) when D3 is provided as best. For AVHRRs, adjustment provides N2 when N3 is best. Reason for providing an alternative: can then use N2 or D2 consistently for whole record i",
           "data_type": "uint8",
           "dimensions": [
            "time",
            "lat",
            "lon"
           ],
           "fill_value": -128,
           "flag_meanings": "single_view_two_channel single_view_three_channel dual_view_two_channel dual_view_three_channel single_view_11_and_3.7_two_channel",
           "flag_values": [
            1,
            2,
            3,
            4,
            5
           ],
           "long_name": "Type of retrieval used for the alternate SST retrieval",
           "size": 25920000,
           "valid_max": 5,
           "valid_min": 1
          },
          "dims": [
           "time",
           "lat",
           "lon"
          ],
          "dtype": "uint8",
          "name": "alt_sst_retrieval_type",
          "ndim": 3
         },
         {
          "attrs": {
           "add_offset": 0,
           "chunk_sizes": [
            1,
            90,
            180
           ],
           "comment": "Component of uncertainty that is uncorrelated between SSTs; can be combined with other uncertainty estimates to form a total uncertainty",
           "data_type": "int16",
           "dimensions": [
            "time",
            "lat",
            "lon"
           ],
           "fill_value": -32768,
           "long_name": "Uncertainty from errors likely to be uncorrelated between SSTs",
           "references": "http://www.esa-sst-cci.org",
           "scale_factor": 0.001,
           "size": 25920000,
           "units": "kelvin",
           "valid_max": 5000,
           "valid_min": 0
          },
          "dims": [
           "time",
           "lat",
           "lon"
          ],
          "dtype": "int16",
          "name": "uncertainty_random",
          "ndim": 3
         },
         {
          "attrs": {
           "add_offset": 0,
           "chunk_sizes": [
            1,
            90,
            180
           ],
           "comment": "Component of uncertainty that is correlated over synoptic scales; can be combined with other uncertainty estimates to form a total uncertainty",
           "correlation_length_scale": "100 km",
           "correlation_time_scale": "1 day",
           "data_type": "int16",
           "dimensions": [
            "time",
            "lat",
            "lon"
           ],
           "fill_value": -32768,
           "long_name": "Uncertainty from errors likely to be correlated over synoptic scales",
           "references": "http://www.esa-sst-cci.org",
           "scale_factor": 0.001,
           "size": 25920000,
           "units": "kelvin",
           "valid_max": 5000,
           "valid_min": 0
          },
          "dims": [
           "time",
           "lat",
           "lon"
          ],
          "dtype": "int16",
          "name": "uncertainty_correlated",
          "ndim": 3
         },
         {
          "attrs": {
           "add_offset": 0,
           "chunk_sizes": [
            1,
            90,
            180
           ],
           "comment": "Component of uncertainty that is correlated over large scales; can be combined with other uncertainty estimates to form a total uncertainty",
           "data_type": "int16",
           "dimensions": [
            "time",
            "lat",
            "lon"
           ],
           "fill_value": -32768,
           "long_name": "Uncertainty from errors likely to be correlated over large scales",
           "references": "http://www.esa-sst-cci.org",
           "scale_factor": 0.001,
           "size": 25920000,
           "units": "kelvin",
           "valid_max": 5000,
           "valid_min": 0
          },
          "dims": [
           "time",
           "lat",
           "lon"
          ],
          "dtype": "int16",
          "name": "uncertainty_systematic",
          "ndim": 3
         },
         {
          "attrs": {
           "add_offset": 0,
           "chunk_sizes": [
            1,
            90,
            180
           ],
           "comment": "Adjustment uncertainty; can be combined with other uncertainty estimates to form a total uncertainty",
           "correlation_length_scale": "100 km",
           "correlation_time_scale": "1 day",
           "data_type": "int16",
           "dimensions": [
            "time",
            "lat",
            "lon"
           ],
           "fill_value": -32768,
           "long_name": "Time and depth adjustment uncertainty",
           "references": "http://www.esa-sst-cci.org",
           "scale_factor": 0.001,
           "size": 25920000,
           "units": "kelvin",
           "valid_max": 5000,
           "valid_min": 0
          },
          "dims": [
           "time",
           "lat",
           "lon"
          ],
          "dtype": "int16",
          "name": "uncertainty_correlated_time_and_depth_adjustment",
          "ndim": 3
         },
         {
          "attrs": {
           "add_offset": 0,
           "chunk_sizes": [
            1,
            90,
            180
           ],
           "comment": "Component of uncertainty in alternative SST retrieval that is uncorrelated between SSTs; can be combined with other uncertainty estimates to form a total uncertainty",
           "data_type": "int16",
           "dimensions": [
            "time",
            "lat",
            "lon"
           ],
           "fill_value": -32768,
           "long_name": "Uncertainty in alternative SST retrieval from errors likely to be uncorrelated between SSTs",
           "references": "http://www.esa-sst-cci.org",
           "scale_factor": 0.001,
           "size": 25920000,
           "units": "kelvin",
           "valid_max": 5000,
           "valid_min": 0
          },
          "dims": [
           "time",
           "lat",
           "lon"
          ],
          "dtype": "int16",
          "name": "uncertainty_random_alt",
          "ndim": 3
         },
         {
          "attrs": {
           "add_offset": 0,
           "chunk_sizes": [
            1,
            90,
            180
           ],
           "comment": "Component of uncertainty in alternative SST retrieval that is correlated over synoptic scales; can be combined with other uncertainty estimates to form a total uncertainty",
           "correlation_length_scale": "100 km",
           "correlation_time_scale": "1 day",
           "data_type": "int16",
           "dimensions": [
            "time",
            "lat",
            "lon"
           ],
           "fill_value": -32768,
           "long_name": "Uncertainty in alternative SST retrieval from errors likely to be correlated over synoptic scales",
           "references": "http://www.esa-sst-cci.org",
           "scale_factor": 0.001,
           "size": 25920000,
           "units": "kelvin",
           "valid_max": 5000,
           "valid_min": 0
          },
          "dims": [
           "time",
           "lat",
           "lon"
          ],
          "dtype": "int16",
          "name": "uncertainty_correlated_alt",
          "ndim": 3
         },
         {
          "attrs": {
           "add_offset": 0,
           "chunk_sizes": [
            1,
            90,
            180
           ],
           "comment": "Component of uncertainty in alternative SST retrieval that is correlated over large scales; can be combined with other uncertainty estimates to form a total uncertainty",
           "data_type": "int16",
           "dimensions": [
            "time",
            "lat",
            "lon"
           ],
           "fill_value": -32768,
           "long_name": "Uncertainty in alternative SST retrieval from errors likely to be correlated over large scales",
           "references": "http://www.esa-sst-cci.org",
           "scale_factor": 0.001,
           "size": 25920000,
           "units": "kelvin",
           "valid_max": 5000,
           "valid_min": 0
          },
          "dims": [
           "time",
           "lat",
           "lon"
          ],
          "dtype": "int16",
          "name": "uncertainty_systematic_alt",
          "ndim": 3
         },
         {
          "attrs": {
           "add_offset": 0,
           "chunk_sizes": [
            1,
            90,
            180
           ],
           "comment": "Sensitivity of the retrieval to actual changes in sea surface temperature",
           "data_type": "int16",
           "dimensions": [
            "time",
            "lat",
            "lon"
           ],
           "fill_value": -32768,
           "long_name": "Sensitivity of the retrieval to actual changes in sea surface temperature",
           "scale_factor": 0.001,
           "size": 25920000,
           "units": "K/K",
           "valid_max": 1100,
           "valid_min": 0
          },
          "dims": [
           "time",
           "lat",
           "lon"
          ],
          "dtype": "int16",
          "name": "sst_sensitivity",
          "ndim": 3
         },
         {
          "attrs": {
           "add_offset": 0,
           "chunk_sizes": [
            1,
            90,
            180
           ],
           "comment": "If not applied, fill with zeros to indicate independence from in situ",
           "data_type": "int16",
           "dimensions": [
            "time",
            "lat",
            "lon"
           ],
           "fill_value": -32768,
           "long_name": "Adjustment, based on comparison to in situ data",
           "scale_factor": 0.01,
           "size": 25920000,
           "units": "kelvin",
           "valid_max": 1000,
           "valid_min": -1000
          },
          "dims": [
           "time",
           "lat",
           "lon"
          ],
          "dtype": "int16",
          "name": "empirical_adjustment",
          "ndim": 3
         }
        ],
        "dims": {
         "bnds": 2,
         "lat": 3600,
         "lon": 7200,
         "time": 1
        },
        "open_params_schema": {
         "additionalProperties": false,
         "properties": {
          "bbox": {
           "items": [
            {
             "maximum": 180,
             "minimum": -180,
             "type": "number"
            },
            {
             "maximum": 90,
             "minimum": -90,
             "type": "number"
            },
            {
             "maximum": 180,
             "minimum": -180,
             "type": "number"
            },
            {
             "maximum": 90,
             "minimum": -90,
             "type": "number"
            }
           ],
           "type": "array"
          },
          "crs": {
           "const": "WGS84",
           "type": "string"
          },
          "spatial_res": {
           "const": 0.05,
           "type": "number"
          },
          "time_period": {
           "const": "1D",
           "type": "string"
          },
          "time_range": {
           "items": [
            {
             "format": "date",
             "maxDate": "2016-12-31",
             "minDate": "1981-08-23",
             "type": "string"
            },
            {
             "format": "date",
             "maxDate": "2016-12-31",
             "minDate": "1981-08-23",
             "type": "string"
            }
           ],
           "type": "array"
          },
          "variable_names": {
           "items": {
            "enum": [
             "sea_surface_temperature",
             "sea_surface_temperature_depth",
             "sea_surface_temperature_depth_anomaly",
             "sst_dtime",
             "sst_depth_dtime",
             "sses_bias",
             "sses_standard_deviation",
             "sea_surface_temperature_total_uncertainty",
             "sea_surface_temperature_depth_total_uncertainty",
             "depth_adjustment",
             "adjustment_alt",
             "l2p_flags",
             "quality_level",
             "wind_speed",
             "sea_surface_temperature_retrieval_type",
             "alt_sst_retrieval_type",
             "uncertainty_random",
             "uncertainty_correlated",
             "uncertainty_systematic",
             "uncertainty_correlated_time_and_depth_adjustment",
             "uncertainty_random_alt",
             "uncertainty_correlated_alt",
             "uncertainty_systematic_alt",
             "sst_sensitivity",
             "empirical_adjustment"
            ],
            "type": "string"
           },
           "type": "array"
          }
         },
         "type": "object"
        },
        "spatial_res": 0.05,
        "time_period": "1D",
        "time_range": [
         "1981-08-23",
         "2016-12-31"
        ],
        "type_specifier": "dataset"
       },
       {
        "attrs": {
         "abstract": "This v2.1 SST_cci Advanced Very High Resolution Radiometer (AVHRR) Level 3 Collated (L3C) Climate Data Record (CDR) consists of stable, low-bias sea surface temperature (SST) data from the AVHRR series of satellite instruments.  It covers the period between 08/1981 and 12/2016.  This L3C product provides these SST data on a 0.05 regular latitude-longitude grid and collated to include all orbits for a day (separated into daytime and nighttime files).\n\nThe dataset has been produced as part of the European Space Agency (ESA) Climate Change Initiative Sea Surface Temperature project(ESA SST_cci). The data products from SST_cci accurately map the surface temperature of the global oceans over the period 1981 to 2016 using observations from many satellites. The data provide independently quantified SSTs to a quality suitable for climate research.\n\nThis CDR Version 2.1 product supercedes the CDR Version 2.0 product.  Data are made freely and openly available under a Creative Commons License by Attribution (CC By 4.0) https://creativecommons.org/licenses/by/4.0/ .\n\nWhen citing this dataset please also cite the associated data paper: Merchant, C.J., Embury, O., Bulgin, C.E., Block T., Corlett, G.K., Fiedler, E., Good, S.A., Mittaz, J., Rayner, N.A., Berry, D., Eastwood, S., Taylor, M., Tsushima, Y., Waterfall, A., Wilson, R., Donlon, C. Satellite-based time-series of sea-surface temperature since 1981 for climate applications, Scientific Data 6:223 (2019). http://doi.org/10.1038/s41597-019-0236-x",
         "bbox_maxx": "180.0",
         "bbox_maxy": "90.0",
         "bbox_minx": "-180.0",
         "bbox_miny": "-90.0",
         "cci_project": "SST",
         "creation_date": "2019-08-02T20:01:15",
         "data_type": "SSTskin",
         "drs_ids": [
          "esacci.SST.day.L3C.SSTskin.AVHRR-3.NOAA-15.AVHRR15_G.2-1.day",
          "esacci.SST.day.L3C.SSTskin.AVHRR-3.NOAA-15.AVHRR15_G.2-1.night",
          "esacci.SST.day.L3C.SSTskin.AVHRR-3.Metop-A.AVHRRMTA_G.2-1.day",
          "esacci.SST.day.L3C.SSTskin.AVHRR-3.Metop-A.AVHRRMTA_G.2-1.night",
          "esacci.SST.day.L3C.SSTskin.AVHRR-3.NOAA-19.AVHRR19_G.2-1.day",
          "esacci.SST.day.L3C.SSTskin.AVHRR-3.NOAA-19.AVHRR19_G.2-1.night",
          "esacci.SST.day.L3C.SSTskin.AVHRR-3.NOAA-17.AVHRR17_G.2-1.day",
          "esacci.SST.day.L3C.SSTskin.AVHRR-3.NOAA-17.AVHRR17_G.2-1.night",
          "esacci.SST.day.L3C.SSTskin.AVHRR-2.NOAA-12.AVHRR12_G.2-1.day",
          "esacci.SST.day.L3C.SSTskin.AVHRR-2.NOAA-12.AVHRR12_G.2-1.night",
          "esacci.SST.day.L3C.SSTskin.AVHRR-2.NOAA-11.AVHRR11_G.2-1.day",
          "esacci.SST.day.L3C.SSTskin.AVHRR-2.NOAA-11.AVHRR11_G.2-1.night",
          "esacci.SST.day.L3C.SSTskin.AVHRR-2.NOAA-14.AVHRR14_G.2-1.day",
          "esacci.SST.day.L3C.SSTskin.AVHRR-2.NOAA-14.AVHRR14_G.2-1.night",
          "esacci.SST.day.L3C.SSTskin.AVHRR-3.NOAA-18.AVHRR18_G.2-1.day",
          "esacci.SST.day.L3C.SSTskin.AVHRR-3.NOAA-18.AVHRR18_G.2-1.night",
          "esacci.SST.day.L3C.SSTskin.AVHRR-2.NOAA-9.AVHRR09_G.2-1.day",
          "esacci.SST.day.L3C.SSTskin.AVHRR-2.NOAA-9.AVHRR09_G.2-1.night",
          "esacci.SST.day.L3C.SSTskin.AVHRR-3.NOAA-16.AVHRR16_G.2-1.day",
          "esacci.SST.day.L3C.SSTskin.AVHRR-3.NOAA-16.AVHRR16_G.2-1.night",
          "esacci.SST.day.L3C.SSTskin.AVHRR-2.NOAA-7.AVHRR07_G.2-1.day",
          "esacci.SST.day.L3C.SSTskin.AVHRR-2.NOAA-7.AVHRR07_G.2-1.night"
         ],
         "ecv": "SST",
         "fid": "7db4459605da4665b6ab9a7102fb4875",
         "file_formats": [
          ".nc",
          ".txt"
         ],
         "institute": "ESACCI_SST",
         "licences": "Use of these data is covered by the following licence: https://artefacts.ceda.ac.uk/licences/specific_licences/esacci_sst_terms_and_conditions_v2.pdf . When using these data you must cite them correctly using the citation given on the CEDA Data Catalogue record.",
         "metadata_url": "https://catalogue.ceda.ac.uk/export/xml/7db4459605da4665b6ab9a7102fb4875.xml",
         "odd_url": "http://archive.opensearch.ceda.ac.uk/opensearch/description.xml?parentIdentifier=7db4459605da4665b6ab9a7102fb4875",
         "platform_id": "Metop-A",
         "processing_level": "L3C",
         "product_string": "AVHRRMTA_G",
         "product_version": "2-1",
         "publication_date": "2019-08-02T20:01:15",
         "sensor_id": "AVHRR-3",
         "temporal_coverage_end": "2016-12-31T23:59:59",
         "temporal_coverage_start": "1981-08-23T23:00:00",
         "time_frequency": "day",
         "title": "ESA Sea Surface Temperature Climate Change Initiative (SST_cci): Advanced Very High Resolution Radiometer (AVHRR) Level 3 Collated (L3C) Climate Data Record, version 2.1",
         "uuid": "7db4459605da4665b6ab9a7102fb4875"
        },
        "bbox": [
         -180,
         -90,
         180,
         90
        ],
        "data_id": "esacci.SST.day.L3C.SSTskin.AVHRR-3.Metop-A.AVHRRMTA_G.2-1.night",
        "data_vars": [
         {
          "attrs": {
           "add_offset": 273.15,
           "chunk_sizes": [
            1,
            90,
            180
           ],
           "comment": "Temperature of the skin of the ocean; total uncertainty = sqrt(uncertainty_systematic^2+uncertainty_correlated^2+uncertainty_random^2)",
           "data_type": "int16",
           "depth": "10 micrometres",
           "dimensions": [
            "time",
            "lat",
            "lon"
           ],
           "fill_value": -32768,
           "long_name": "sea surface skin temperature",
           "references": "http://www.esa-sst-cci.org",
           "scale_factor": 0.01,
           "size": 25920000,
           "source": "AVHRR07_G-ESACCI-L1C-v1",
           "standard_name": "sea_surface_skin_temperature",
           "units": "kelvin",
           "valid_max": 5000,
           "valid_min": -200
          },
          "dims": [
           "time",
           "lat",
           "lon"
          ],
          "dtype": "int16",
          "name": "sea_surface_temperature",
          "ndim": 3
         },
         {
          "attrs": {
           "add_offset": 273.15,
           "chunk_sizes": [
            1,
            90,
            180
           ],
           "comment": "Temperature of the ocean at 20 cm depth; total uncertainty = sqrt(uncertainty_systematic^2+uncertainty_correlated^2+uncertainty_random^2+uncertainty_correlated_time_and_depth_adjustment^2)",
           "data_type": "int16",
           "depth": "0.2 metre",
           "dimensions": [
            "time",
            "lat",
            "lon"
           ],
           "fill_value": -32768,
           "long_name": "sea surface temperature at 0.2 m",
           "references": "http://www.esa-sst-cci.org",
           "scale_factor": 0.01,
           "size": 25920000,
           "source": "AVHRR07_G-ESACCI-L1C-v1",
           "standard_name": "sea_water_temperature",
           "units": "kelvin",
           "valid_max": 5000,
           "valid_min": -200
          },
          "dims": [
           "time",
           "lat",
           "lon"
          ],
          "dtype": "int16",
          "name": "sea_surface_temperature_depth",
          "ndim": 3
         },
         {
          "attrs": {
           "add_offset": 0,
           "chunk_sizes": [
            1,
            90,
            180
           ],
           "comment": "Temperature of the ocean at 20 cm depth; total uncertainty = sqrt(uncertainty_systematic^2+uncertainty_correlated^2+uncertainty_random^2+uncertainty_correlated_time_and_depth_adjustment^2)",
           "data_type": "int16",
           "depth": "0.2 metre",
           "dimensions": [
            "time",
            "lat",
            "lon"
           ],
           "fill_value": -32768,
           "long_name": "sea surface temperature anomaly at 0.2 m",
           "references": "http://www.esa-sst-cci.org",
           "scale_factor": 0.01,
           "size": 25920000,
           "source": "AVHRR07_G-ESACCI-L1C-v1",
           "standard_name": "sea_water_temperature_anomaly",
           "units": "kelvin",
           "valid_max": 4000,
           "valid_min": -4000
          },
          "dims": [
           "time",
           "lat",
           "lon"
          ],
          "dtype": "int16",
          "name": "sea_surface_temperature_depth_anomaly",
          "ndim": 3
         },
         {
          "attrs": {
           "add_offset": 0,
           "chunk_sizes": [
            1,
            90,
            180
           ],
           "comment": "time plus sst_dtime gives seconds after 1981-01-01 00:00:00",
           "data_type": "int32",
           "dimensions": [
            "time",
            "lat",
            "lon"
           ],
           "fill_value": -2147483648,
           "long_name": "time difference from reference time",
           "scale_factor": 1,
           "size": 25920000,
           "units": "seconds",
           "valid_max": 43200,
           "valid_min": -43200
          },
          "dims": [
           "time",
           "lat",
           "lon"
          ],
          "dtype": "int32",
          "name": "sst_dtime",
          "ndim": 3
         },
         {
          "attrs": {
           "add_offset": 0,
           "chunk_sizes": [
            1,
            90,
            180
           ],
           "comment": "time plus sst_depth_dtime gives seconds after 1981-01-01 00:00:00",
           "data_type": "int32",
           "dimensions": [
            "time",
            "lat",
            "lon"
           ],
           "fill_value": -2147483648,
           "long_name": "time difference from reference time",
           "scale_factor": 1,
           "size": 25920000,
           "units": "seconds",
           "valid_max": 43200,
           "valid_min": -43200
          },
          "dims": [
           "time",
           "lat",
           "lon"
          ],
          "dtype": "int32",
          "name": "sst_depth_dtime",
          "ndim": 3
         },
         {
          "attrs": {
           "_Unsigned": "false",
           "add_offset": 0,
           "chunk_sizes": [
            1,
            90,
            180
           ],
           "comment": "Populated with zeroes",
           "data_type": "uint8",
           "dimensions": [
            "time",
            "lat",
            "lon"
           ],
           "fill_value": -128,
           "long_name": "SSES bias estimate",
           "scale_factor": 0.01,
           "size": 25920000,
           "units": "kelvin",
           "valid_max": 127,
           "valid_min": -127
          },
          "dims": [
           "time",
           "lat",
           "lon"
          ],
          "dtype": "uint8",
          "name": "sses_bias",
          "ndim": 3
         },
         {
          "attrs": {
           "_Unsigned": "false",
           "add_offset": 1.27,
           "chunk_sizes": [
            1,
            90,
            180
           ],
           "comment": "Uncertainty information is contained in the variables uncertainty_systematic, uncertainty_correlated, and uncertainty_random",
           "data_type": "uint8",
           "dimensions": [
            "time",
            "lat",
            "lon"
           ],
           "fill_value": -128,
           "long_name": "SSES standard deviation",
           "scale_factor": 0.01,
           "size": 25920000,
           "units": "kelvin",
           "valid_max": 127,
           "valid_min": -127
          },
          "dims": [
           "time",
           "lat",
           "lon"
          ],
          "dtype": "uint8",
          "name": "sses_standard_deviation",
          "ndim": 3
         },
         {
          "attrs": {
           "add_offset": 0,
           "chunk_sizes": [
            1,
            90,
            180
           ],
           "comment": "Total uncertainty in each sea_surface_temperature data point",
           "data_type": "int16",
           "dimensions": [
            "time",
            "lat",
            "lon"
           ],
           "fill_value": -32768,
           "long_name": "Total uncertainty in sea_surface_temperature",
           "scale_factor": 0.001,
           "size": 25920000,
           "units": "kelvin",
           "valid_max": 5000,
           "valid_min": 0
          },
          "dims": [
           "time",
           "lat",
           "lon"
          ],
          "dtype": "int16",
          "name": "sea_surface_temperature_total_uncertainty",
          "ndim": 3
         },
         {
          "attrs": {
           "add_offset": 0,
           "chunk_sizes": [
            1,
            90,
            180
           ],
           "comment": "Total uncertainty in each sea_surface_temperature_depth data point",
           "data_type": "int16",
           "dimensions": [
            "time",
            "lat",
            "lon"
           ],
           "fill_value": -32768,
           "long_name": "Total uncertainty in sea_surface_temperature_depth",
           "scale_factor": 0.001,
           "size": 25920000,
           "units": "kelvin",
           "valid_max": 5000,
           "valid_min": 0
          },
          "dims": [
           "time",
           "lat",
           "lon"
          ],
          "dtype": "int16",
          "name": "sea_surface_temperature_depth_total_uncertainty",
          "ndim": 3
         },
         {
          "attrs": {
           "add_offset": 0,
           "chunk_sizes": [
            1,
            90,
            180
           ],
           "comment": "Add to sea_surface_temperature, if SST at 20cm at observation time is required",
           "data_type": "int16",
           "dimensions": [
            "time",
            "lat",
            "lon"
           ],
           "fill_value": -32768,
           "long_name": "Adjustment to sea surface temperature at 0.2 m",
           "scale_factor": 0.01,
           "size": 25920000,
           "units": "kelvin",
           "valid_max": 1000,
           "valid_min": -1000
          },
          "dims": [
           "time",
           "lat",
           "lon"
          ],
          "dtype": "int16",
          "name": "depth_adjustment",
          "ndim": 3
         },
         {
          "attrs": {
           "add_offset": 0,
           "chunk_sizes": [
            1,
            90,
            180
           ],
           "comment": "Add to sea_surface_temperature, if alternative SST retrieval is required",
           "data_type": "int16",
           "dimensions": [
            "time",
            "lat",
            "lon"
           ],
           "fill_value": -32768,
           "long_name": "Adjustment to alternative sea surface temperature retrieval",
           "scale_factor": 0.01,
           "size": 25920000,
           "units": "kelvin",
           "valid_max": 1000,
           "valid_min": -1000
          },
          "dims": [
           "time",
           "lat",
           "lon"
          ],
          "dtype": "int16",
          "name": "adjustment_alt",
          "ndim": 3
         },
         {
          "attrs": {
           "chunk_sizes": [
            1,
            90,
            180
           ],
           "comment": "These flags are important to properly use the data",
           "data_type": "int16",
           "dimensions": [
            "time",
            "lat",
            "lon"
           ],
           "fill_value": -32768,
           "flag_masks": [
            1,
            2,
            4,
            8,
            16,
            32,
            64,
            128,
            256
           ],
           "flag_meanings": "microwave land ice lake river spare views channels day",
           "long_name": "L2P flags",
           "size": 25920000,
           "valid_max": 511,
           "valid_min": 0
          },
          "dims": [
           "time",
           "lat",
           "lon"
          ],
          "dtype": "int16",
          "name": "l2p_flags",
          "ndim": 3
         },
         {
          "attrs": {
           "_Unsigned": "false",
           "chunk_sizes": [
            1,
            90,
            180
           ],
           "comment": "These are overall quality indicators and are used for all GHRSST SSTs",
           "data_type": "uint8",
           "dimensions": [
            "time",
            "lat",
            "lon"
           ],
           "fill_value": 0,
           "flag_meanings": "no_data bad_data worst_quality low_quality acceptable_quality best_quality",
           "flag_values": [
            0,
            1,
            2,
            3,
            4,
            5
           ],
           "long_name": "quality level of SST pixel",
           "size": 25920000,
           "valid_max": 5,
           "valid_min": 0
          },
          "dims": [
           "time",
           "lat",
           "lon"
          ],
          "dtype": "uint8",
          "name": "quality_level",
          "ndim": 3
         },
         {
          "attrs": {
           "_Unsigned": "false",
           "add_offset": 12.7,
           "chunk_sizes": [
            1,
            90,
            180
           ],
           "comment": "Wind speeds sourced from ECMWF ERA Interim Reanalysis; wind speeds greater than 25.4 m/s are set to 25.4.",
           "data_type": "uint8",
           "dimensions": [
            "time",
            "lat",
            "lon"
           ],
           "fill_value": -128,
           "height": "10 m",
           "long_name": "10m wind speed",
           "references": "http://www.esa-sst-cci.org",
           "scale_factor": 0.1,
           "size": 25920000,
           "source": "ERA_INTERIM-ECMWF-WSP-v1.0",
           "standard_name": "wind_speed",
           "time_offset": 0,
           "units": "m s-1",
           "valid_max": 127,
           "valid_min": -127
          },
          "dims": [
           "time",
           "lat",
           "lon"
          ],
          "dtype": "uint8",
          "name": "wind_speed",
          "ndim": 3
         },
         {
          "attrs": {
           "_Unsigned": "false",
           "chunk_sizes": [
            1,
            90,
            180
           ],
           "comment": "1. single view, two channel 2. single view, three channel 3. dual view, two channel 4. dual view, three channel 5. single view, 11 and 3.7 two channel",
           "data_type": "uint8",
           "dimensions": [
            "time",
            "lat",
            "lon"
           ],
           "fill_value": -128,
           "flag_meanings": "single_view_two_channel single_view_three_channel dual_view_two_channel dual_view_three_channel single_view_11_and_3.7_two_channel",
           "flag_values": [
            1,
            2,
            3,
            4,
            5
           ],
           "long_name": "Type of retrieval used for the primary SST",
           "size": 25920000,
           "valid_max": 5,
           "valid_min": 1
          },
          "dims": [
           "time",
           "lat",
           "lon"
          ],
          "dtype": "uint8",
          "name": "sea_surface_temperature_retrieval_type",
          "ndim": 3
         },
         {
          "attrs": {
           "_Unsigned": "false",
           "chunk_sizes": [
            1,
            90,
            180
           ],
           "comment": "For ATSRs, adjustment gives D2 (most consistent through time series) when D3 is provided as best. For AVHRRs, adjustment provides N2 when N3 is best. Reason for providing an alternative: can then use N2 or D2 consistently for whole record i",
           "data_type": "uint8",
           "dimensions": [
            "time",
            "lat",
            "lon"
           ],
           "fill_value": -128,
           "flag_meanings": "single_view_two_channel single_view_three_channel dual_view_two_channel dual_view_three_channel single_view_11_and_3.7_two_channel",
           "flag_values": [
            1,
            2,
            3,
            4,
            5
           ],
           "long_name": "Type of retrieval used for the alternate SST retrieval",
           "size": 25920000,
           "valid_max": 5,
           "valid_min": 1
          },
          "dims": [
           "time",
           "lat",
           "lon"
          ],
          "dtype": "uint8",
          "name": "alt_sst_retrieval_type",
          "ndim": 3
         },
         {
          "attrs": {
           "add_offset": 0,
           "chunk_sizes": [
            1,
            90,
            180
           ],
           "comment": "Component of uncertainty that is uncorrelated between SSTs; can be combined with other uncertainty estimates to form a total uncertainty",
           "data_type": "int16",
           "dimensions": [
            "time",
            "lat",
            "lon"
           ],
           "fill_value": -32768,
           "long_name": "Uncertainty from errors likely to be uncorrelated between SSTs",
           "references": "http://www.esa-sst-cci.org",
           "scale_factor": 0.001,
           "size": 25920000,
           "units": "kelvin",
           "valid_max": 5000,
           "valid_min": 0
          },
          "dims": [
           "time",
           "lat",
           "lon"
          ],
          "dtype": "int16",
          "name": "uncertainty_random",
          "ndim": 3
         },
         {
          "attrs": {
           "add_offset": 0,
           "chunk_sizes": [
            1,
            90,
            180
           ],
           "comment": "Component of uncertainty that is correlated over synoptic scales; can be combined with other uncertainty estimates to form a total uncertainty",
           "correlation_length_scale": "100 km",
           "correlation_time_scale": "1 day",
           "data_type": "int16",
           "dimensions": [
            "time",
            "lat",
            "lon"
           ],
           "fill_value": -32768,
           "long_name": "Uncertainty from errors likely to be correlated over synoptic scales",
           "references": "http://www.esa-sst-cci.org",
           "scale_factor": 0.001,
           "size": 25920000,
           "units": "kelvin",
           "valid_max": 5000,
           "valid_min": 0
          },
          "dims": [
           "time",
           "lat",
           "lon"
          ],
          "dtype": "int16",
          "name": "uncertainty_correlated",
          "ndim": 3
         },
         {
          "attrs": {
           "add_offset": 0,
           "chunk_sizes": [
            1,
            90,
            180
           ],
           "comment": "Component of uncertainty that is correlated over large scales; can be combined with other uncertainty estimates to form a total uncertainty",
           "data_type": "int16",
           "dimensions": [
            "time",
            "lat",
            "lon"
           ],
           "fill_value": -32768,
           "long_name": "Uncertainty from errors likely to be correlated over large scales",
           "references": "http://www.esa-sst-cci.org",
           "scale_factor": 0.001,
           "size": 25920000,
           "units": "kelvin",
           "valid_max": 5000,
           "valid_min": 0
          },
          "dims": [
           "time",
           "lat",
           "lon"
          ],
          "dtype": "int16",
          "name": "uncertainty_systematic",
          "ndim": 3
         },
         {
          "attrs": {
           "add_offset": 0,
           "chunk_sizes": [
            1,
            90,
            180
           ],
           "comment": "Adjustment uncertainty; can be combined with other uncertainty estimates to form a total uncertainty",
           "correlation_length_scale": "100 km",
           "correlation_time_scale": "1 day",
           "data_type": "int16",
           "dimensions": [
            "time",
            "lat",
            "lon"
           ],
           "fill_value": -32768,
           "long_name": "Time and depth adjustment uncertainty",
           "references": "http://www.esa-sst-cci.org",
           "scale_factor": 0.001,
           "size": 25920000,
           "units": "kelvin",
           "valid_max": 5000,
           "valid_min": 0
          },
          "dims": [
           "time",
           "lat",
           "lon"
          ],
          "dtype": "int16",
          "name": "uncertainty_correlated_time_and_depth_adjustment",
          "ndim": 3
         },
         {
          "attrs": {
           "add_offset": 0,
           "chunk_sizes": [
            1,
            90,
            180
           ],
           "comment": "Component of uncertainty in alternative SST retrieval that is uncorrelated between SSTs; can be combined with other uncertainty estimates to form a total uncertainty",
           "data_type": "int16",
           "dimensions": [
            "time",
            "lat",
            "lon"
           ],
           "fill_value": -32768,
           "long_name": "Uncertainty in alternative SST retrieval from errors likely to be uncorrelated between SSTs",
           "references": "http://www.esa-sst-cci.org",
           "scale_factor": 0.001,
           "size": 25920000,
           "units": "kelvin",
           "valid_max": 5000,
           "valid_min": 0
          },
          "dims": [
           "time",
           "lat",
           "lon"
          ],
          "dtype": "int16",
          "name": "uncertainty_random_alt",
          "ndim": 3
         },
         {
          "attrs": {
           "add_offset": 0,
           "chunk_sizes": [
            1,
            90,
            180
           ],
           "comment": "Component of uncertainty in alternative SST retrieval that is correlated over synoptic scales; can be combined with other uncertainty estimates to form a total uncertainty",
           "correlation_length_scale": "100 km",
           "correlation_time_scale": "1 day",
           "data_type": "int16",
           "dimensions": [
            "time",
            "lat",
            "lon"
           ],
           "fill_value": -32768,
           "long_name": "Uncertainty in alternative SST retrieval from errors likely to be correlated over synoptic scales",
           "references": "http://www.esa-sst-cci.org",
           "scale_factor": 0.001,
           "size": 25920000,
           "units": "kelvin",
           "valid_max": 5000,
           "valid_min": 0
          },
          "dims": [
           "time",
           "lat",
           "lon"
          ],
          "dtype": "int16",
          "name": "uncertainty_correlated_alt",
          "ndim": 3
         },
         {
          "attrs": {
           "add_offset": 0,
           "chunk_sizes": [
            1,
            90,
            180
           ],
           "comment": "Component of uncertainty in alternative SST retrieval that is correlated over large scales; can be combined with other uncertainty estimates to form a total uncertainty",
           "data_type": "int16",
           "dimensions": [
            "time",
            "lat",
            "lon"
           ],
           "fill_value": -32768,
           "long_name": "Uncertainty in alternative SST retrieval from errors likely to be correlated over large scales",
           "references": "http://www.esa-sst-cci.org",
           "scale_factor": 0.001,
           "size": 25920000,
           "units": "kelvin",
           "valid_max": 5000,
           "valid_min": 0
          },
          "dims": [
           "time",
           "lat",
           "lon"
          ],
          "dtype": "int16",
          "name": "uncertainty_systematic_alt",
          "ndim": 3
         },
         {
          "attrs": {
           "add_offset": 0,
           "chunk_sizes": [
            1,
            90,
            180
           ],
           "comment": "Sensitivity of the retrieval to actual changes in sea surface temperature",
           "data_type": "int16",
           "dimensions": [
            "time",
            "lat",
            "lon"
           ],
           "fill_value": -32768,
           "long_name": "Sensitivity of the retrieval to actual changes in sea surface temperature",
           "scale_factor": 0.001,
           "size": 25920000,
           "units": "K/K",
           "valid_max": 1100,
           "valid_min": 0
          },
          "dims": [
           "time",
           "lat",
           "lon"
          ],
          "dtype": "int16",
          "name": "sst_sensitivity",
          "ndim": 3
         },
         {
          "attrs": {
           "add_offset": 0,
           "chunk_sizes": [
            1,
            90,
            180
           ],
           "comment": "If not applied, fill with zeros to indicate independence from in situ",
           "data_type": "int16",
           "dimensions": [
            "time",
            "lat",
            "lon"
           ],
           "fill_value": -32768,
           "long_name": "Adjustment, based on comparison to in situ data",
           "scale_factor": 0.01,
           "size": 25920000,
           "units": "kelvin",
           "valid_max": 1000,
           "valid_min": -1000
          },
          "dims": [
           "time",
           "lat",
           "lon"
          ],
          "dtype": "int16",
          "name": "empirical_adjustment",
          "ndim": 3
         }
        ],
        "dims": {
         "bnds": 2,
         "lat": 3600,
         "lon": 7200,
         "time": 1
        },
        "open_params_schema": {
         "additionalProperties": false,
         "properties": {
          "bbox": {
           "items": [
            {
             "maximum": 180,
             "minimum": -180,
             "type": "number"
            },
            {
             "maximum": 90,
             "minimum": -90,
             "type": "number"
            },
            {
             "maximum": 180,
             "minimum": -180,
             "type": "number"
            },
            {
             "maximum": 90,
             "minimum": -90,
             "type": "number"
            }
           ],
           "type": "array"
          },
          "crs": {
           "const": "WGS84",
           "type": "string"
          },
          "spatial_res": {
           "const": 0.05,
           "type": "number"
          },
          "time_period": {
           "const": "1D",
           "type": "string"
          },
          "time_range": {
           "items": [
            {
             "format": "date",
             "maxDate": "2016-12-31",
             "minDate": "1981-08-23",
             "type": "string"
            },
            {
             "format": "date",
             "maxDate": "2016-12-31",
             "minDate": "1981-08-23",
             "type": "string"
            }
           ],
           "type": "array"
          },
          "variable_names": {
           "items": {
            "enum": [
             "sea_surface_temperature",
             "sea_surface_temperature_depth",
             "sea_surface_temperature_depth_anomaly",
             "sst_dtime",
             "sst_depth_dtime",
             "sses_bias",
             "sses_standard_deviation",
             "sea_surface_temperature_total_uncertainty",
             "sea_surface_temperature_depth_total_uncertainty",
             "depth_adjustment",
             "adjustment_alt",
             "l2p_flags",
             "quality_level",
             "wind_speed",
             "sea_surface_temperature_retrieval_type",
             "alt_sst_retrieval_type",
             "uncertainty_random",
             "uncertainty_correlated",
             "uncertainty_systematic",
             "uncertainty_correlated_time_and_depth_adjustment",
             "uncertainty_random_alt",
             "uncertainty_correlated_alt",
             "uncertainty_systematic_alt",
             "sst_sensitivity",
             "empirical_adjustment"
            ],
            "type": "string"
           },
           "type": "array"
          }
         },
         "type": "object"
        },
        "spatial_res": 0.05,
        "time_period": "1D",
        "time_range": [
         "1981-08-23",
         "2016-12-31"
        ],
        "type_specifier": "dataset"
       },
       {
        "attrs": {
         "abstract": "This v2.1 SST_cci Advanced Very High Resolution Radiometer (AVHRR) Level 3 Collated (L3C) Climate Data Record (CDR) consists of stable, low-bias sea surface temperature (SST) data from the AVHRR series of satellite instruments.  It covers the period between 08/1981 and 12/2016.  This L3C product provides these SST data on a 0.05 regular latitude-longitude grid and collated to include all orbits for a day (separated into daytime and nighttime files).\n\nThe dataset has been produced as part of the European Space Agency (ESA) Climate Change Initiative Sea Surface Temperature project(ESA SST_cci). The data products from SST_cci accurately map the surface temperature of the global oceans over the period 1981 to 2016 using observations from many satellites. The data provide independently quantified SSTs to a quality suitable for climate research.\n\nThis CDR Version 2.1 product supercedes the CDR Version 2.0 product.  Data are made freely and openly available under a Creative Commons License by Attribution (CC By 4.0) https://creativecommons.org/licenses/by/4.0/ .\n\nWhen citing this dataset please also cite the associated data paper: Merchant, C.J., Embury, O., Bulgin, C.E., Block T., Corlett, G.K., Fiedler, E., Good, S.A., Mittaz, J., Rayner, N.A., Berry, D., Eastwood, S., Taylor, M., Tsushima, Y., Waterfall, A., Wilson, R., Donlon, C. Satellite-based time-series of sea-surface temperature since 1981 for climate applications, Scientific Data 6:223 (2019). http://doi.org/10.1038/s41597-019-0236-x",
         "bbox_maxx": "180.0",
         "bbox_maxy": "90.0",
         "bbox_minx": "-180.0",
         "bbox_miny": "-90.0",
         "cci_project": "SST",
         "creation_date": "2019-08-02T20:01:15",
         "data_type": "SSTskin",
         "drs_ids": [
          "esacci.SST.day.L3C.SSTskin.AVHRR-3.NOAA-15.AVHRR15_G.2-1.day",
          "esacci.SST.day.L3C.SSTskin.AVHRR-3.NOAA-15.AVHRR15_G.2-1.night",
          "esacci.SST.day.L3C.SSTskin.AVHRR-3.Metop-A.AVHRRMTA_G.2-1.day",
          "esacci.SST.day.L3C.SSTskin.AVHRR-3.Metop-A.AVHRRMTA_G.2-1.night",
          "esacci.SST.day.L3C.SSTskin.AVHRR-3.NOAA-19.AVHRR19_G.2-1.day",
          "esacci.SST.day.L3C.SSTskin.AVHRR-3.NOAA-19.AVHRR19_G.2-1.night",
          "esacci.SST.day.L3C.SSTskin.AVHRR-3.NOAA-17.AVHRR17_G.2-1.day",
          "esacci.SST.day.L3C.SSTskin.AVHRR-3.NOAA-17.AVHRR17_G.2-1.night",
          "esacci.SST.day.L3C.SSTskin.AVHRR-2.NOAA-12.AVHRR12_G.2-1.day",
          "esacci.SST.day.L3C.SSTskin.AVHRR-2.NOAA-12.AVHRR12_G.2-1.night",
          "esacci.SST.day.L3C.SSTskin.AVHRR-2.NOAA-11.AVHRR11_G.2-1.day",
          "esacci.SST.day.L3C.SSTskin.AVHRR-2.NOAA-11.AVHRR11_G.2-1.night",
          "esacci.SST.day.L3C.SSTskin.AVHRR-2.NOAA-14.AVHRR14_G.2-1.day",
          "esacci.SST.day.L3C.SSTskin.AVHRR-2.NOAA-14.AVHRR14_G.2-1.night",
          "esacci.SST.day.L3C.SSTskin.AVHRR-3.NOAA-18.AVHRR18_G.2-1.day",
          "esacci.SST.day.L3C.SSTskin.AVHRR-3.NOAA-18.AVHRR18_G.2-1.night",
          "esacci.SST.day.L3C.SSTskin.AVHRR-2.NOAA-9.AVHRR09_G.2-1.day",
          "esacci.SST.day.L3C.SSTskin.AVHRR-2.NOAA-9.AVHRR09_G.2-1.night",
          "esacci.SST.day.L3C.SSTskin.AVHRR-3.NOAA-16.AVHRR16_G.2-1.day",
          "esacci.SST.day.L3C.SSTskin.AVHRR-3.NOAA-16.AVHRR16_G.2-1.night",
          "esacci.SST.day.L3C.SSTskin.AVHRR-2.NOAA-7.AVHRR07_G.2-1.day",
          "esacci.SST.day.L3C.SSTskin.AVHRR-2.NOAA-7.AVHRR07_G.2-1.night"
         ],
         "ecv": "SST",
         "fid": "7db4459605da4665b6ab9a7102fb4875",
         "file_formats": [
          ".nc",
          ".txt"
         ],
         "institute": "ESACCI_SST",
         "licences": "Use of these data is covered by the following licence: https://artefacts.ceda.ac.uk/licences/specific_licences/esacci_sst_terms_and_conditions_v2.pdf . When using these data you must cite them correctly using the citation given on the CEDA Data Catalogue record.",
         "metadata_url": "https://catalogue.ceda.ac.uk/export/xml/7db4459605da4665b6ab9a7102fb4875.xml",
         "odd_url": "http://archive.opensearch.ceda.ac.uk/opensearch/description.xml?parentIdentifier=7db4459605da4665b6ab9a7102fb4875",
         "platform_id": "NOAA-15",
         "processing_level": "L3C",
         "product_string": "AVHRR15_G",
         "product_version": "2-1",
         "publication_date": "2019-08-02T20:01:15",
         "sensor_id": "AVHRR-3",
         "temporal_coverage_end": "2016-12-31T23:59:59",
         "temporal_coverage_start": "1981-08-23T23:00:00",
         "time_frequency": "day",
         "title": "ESA Sea Surface Temperature Climate Change Initiative (SST_cci): Advanced Very High Resolution Radiometer (AVHRR) Level 3 Collated (L3C) Climate Data Record, version 2.1",
         "uuid": "7db4459605da4665b6ab9a7102fb4875"
        },
        "bbox": [
         -180,
         -90,
         180,
         90
        ],
        "data_id": "esacci.SST.day.L3C.SSTskin.AVHRR-3.NOAA-15.AVHRR15_G.2-1.day",
        "data_vars": [
         {
          "attrs": {
           "add_offset": 273.15,
           "chunk_sizes": [
            1,
            90,
            180
           ],
           "comment": "Temperature of the skin of the ocean; total uncertainty = sqrt(uncertainty_systematic^2+uncertainty_correlated^2+uncertainty_random^2)",
           "data_type": "int16",
           "depth": "10 micrometres",
           "dimensions": [
            "time",
            "lat",
            "lon"
           ],
           "fill_value": -32768,
           "long_name": "sea surface skin temperature",
           "references": "http://www.esa-sst-cci.org",
           "scale_factor": 0.01,
           "size": 25920000,
           "source": "AVHRR07_G-ESACCI-L1C-v1",
           "standard_name": "sea_surface_skin_temperature",
           "units": "kelvin",
           "valid_max": 5000,
           "valid_min": -200
          },
          "dims": [
           "time",
           "lat",
           "lon"
          ],
          "dtype": "int16",
          "name": "sea_surface_temperature",
          "ndim": 3
         },
         {
          "attrs": {
           "add_offset": 273.15,
           "chunk_sizes": [
            1,
            90,
            180
           ],
           "comment": "Temperature of the ocean at 20 cm depth; total uncertainty = sqrt(uncertainty_systematic^2+uncertainty_correlated^2+uncertainty_random^2+uncertainty_correlated_time_and_depth_adjustment^2)",
           "data_type": "int16",
           "depth": "0.2 metre",
           "dimensions": [
            "time",
            "lat",
            "lon"
           ],
           "fill_value": -32768,
           "long_name": "sea surface temperature at 0.2 m",
           "references": "http://www.esa-sst-cci.org",
           "scale_factor": 0.01,
           "size": 25920000,
           "source": "AVHRR07_G-ESACCI-L1C-v1",
           "standard_name": "sea_water_temperature",
           "units": "kelvin",
           "valid_max": 5000,
           "valid_min": -200
          },
          "dims": [
           "time",
           "lat",
           "lon"
          ],
          "dtype": "int16",
          "name": "sea_surface_temperature_depth",
          "ndim": 3
         },
         {
          "attrs": {
           "add_offset": 0,
           "chunk_sizes": [
            1,
            90,
            180
           ],
           "comment": "Temperature of the ocean at 20 cm depth; total uncertainty = sqrt(uncertainty_systematic^2+uncertainty_correlated^2+uncertainty_random^2+uncertainty_correlated_time_and_depth_adjustment^2)",
           "data_type": "int16",
           "depth": "0.2 metre",
           "dimensions": [
            "time",
            "lat",
            "lon"
           ],
           "fill_value": -32768,
           "long_name": "sea surface temperature anomaly at 0.2 m",
           "references": "http://www.esa-sst-cci.org",
           "scale_factor": 0.01,
           "size": 25920000,
           "source": "AVHRR07_G-ESACCI-L1C-v1",
           "standard_name": "sea_water_temperature_anomaly",
           "units": "kelvin",
           "valid_max": 4000,
           "valid_min": -4000
          },
          "dims": [
           "time",
           "lat",
           "lon"
          ],
          "dtype": "int16",
          "name": "sea_surface_temperature_depth_anomaly",
          "ndim": 3
         },
         {
          "attrs": {
           "add_offset": 0,
           "chunk_sizes": [
            1,
            90,
            180
           ],
           "comment": "time plus sst_dtime gives seconds after 1981-01-01 00:00:00",
           "data_type": "int32",
           "dimensions": [
            "time",
            "lat",
            "lon"
           ],
           "fill_value": -2147483648,
           "long_name": "time difference from reference time",
           "scale_factor": 1,
           "size": 25920000,
           "units": "seconds",
           "valid_max": 43200,
           "valid_min": -43200
          },
          "dims": [
           "time",
           "lat",
           "lon"
          ],
          "dtype": "int32",
          "name": "sst_dtime",
          "ndim": 3
         },
         {
          "attrs": {
           "add_offset": 0,
           "chunk_sizes": [
            1,
            90,
            180
           ],
           "comment": "time plus sst_depth_dtime gives seconds after 1981-01-01 00:00:00",
           "data_type": "int32",
           "dimensions": [
            "time",
            "lat",
            "lon"
           ],
           "fill_value": -2147483648,
           "long_name": "time difference from reference time",
           "scale_factor": 1,
           "size": 25920000,
           "units": "seconds",
           "valid_max": 43200,
           "valid_min": -43200
          },
          "dims": [
           "time",
           "lat",
           "lon"
          ],
          "dtype": "int32",
          "name": "sst_depth_dtime",
          "ndim": 3
         },
         {
          "attrs": {
           "_Unsigned": "false",
           "add_offset": 0,
           "chunk_sizes": [
            1,
            90,
            180
           ],
           "comment": "Populated with zeroes",
           "data_type": "uint8",
           "dimensions": [
            "time",
            "lat",
            "lon"
           ],
           "fill_value": -128,
           "long_name": "SSES bias estimate",
           "scale_factor": 0.01,
           "size": 25920000,
           "units": "kelvin",
           "valid_max": 127,
           "valid_min": -127
          },
          "dims": [
           "time",
           "lat",
           "lon"
          ],
          "dtype": "uint8",
          "name": "sses_bias",
          "ndim": 3
         },
         {
          "attrs": {
           "_Unsigned": "false",
           "add_offset": 1.27,
           "chunk_sizes": [
            1,
            90,
            180
           ],
           "comment": "Uncertainty information is contained in the variables uncertainty_systematic, uncertainty_correlated, and uncertainty_random",
           "data_type": "uint8",
           "dimensions": [
            "time",
            "lat",
            "lon"
           ],
           "fill_value": -128,
           "long_name": "SSES standard deviation",
           "scale_factor": 0.01,
           "size": 25920000,
           "units": "kelvin",
           "valid_max": 127,
           "valid_min": -127
          },
          "dims": [
           "time",
           "lat",
           "lon"
          ],
          "dtype": "uint8",
          "name": "sses_standard_deviation",
          "ndim": 3
         },
         {
          "attrs": {
           "add_offset": 0,
           "chunk_sizes": [
            1,
            90,
            180
           ],
           "comment": "Total uncertainty in each sea_surface_temperature data point",
           "data_type": "int16",
           "dimensions": [
            "time",
            "lat",
            "lon"
           ],
           "fill_value": -32768,
           "long_name": "Total uncertainty in sea_surface_temperature",
           "scale_factor": 0.001,
           "size": 25920000,
           "units": "kelvin",
           "valid_max": 5000,
           "valid_min": 0
          },
          "dims": [
           "time",
           "lat",
           "lon"
          ],
          "dtype": "int16",
          "name": "sea_surface_temperature_total_uncertainty",
          "ndim": 3
         },
         {
          "attrs": {
           "add_offset": 0,
           "chunk_sizes": [
            1,
            90,
            180
           ],
           "comment": "Total uncertainty in each sea_surface_temperature_depth data point",
           "data_type": "int16",
           "dimensions": [
            "time",
            "lat",
            "lon"
           ],
           "fill_value": -32768,
           "long_name": "Total uncertainty in sea_surface_temperature_depth",
           "scale_factor": 0.001,
           "size": 25920000,
           "units": "kelvin",
           "valid_max": 5000,
           "valid_min": 0
          },
          "dims": [
           "time",
           "lat",
           "lon"
          ],
          "dtype": "int16",
          "name": "sea_surface_temperature_depth_total_uncertainty",
          "ndim": 3
         },
         {
          "attrs": {
           "add_offset": 0,
           "chunk_sizes": [
            1,
            90,
            180
           ],
           "comment": "Add to sea_surface_temperature, if SST at 20cm at observation time is required",
           "data_type": "int16",
           "dimensions": [
            "time",
            "lat",
            "lon"
           ],
           "fill_value": -32768,
           "long_name": "Adjustment to sea surface temperature at 0.2 m",
           "scale_factor": 0.01,
           "size": 25920000,
           "units": "kelvin",
           "valid_max": 1000,
           "valid_min": -1000
          },
          "dims": [
           "time",
           "lat",
           "lon"
          ],
          "dtype": "int16",
          "name": "depth_adjustment",
          "ndim": 3
         },
         {
          "attrs": {
           "add_offset": 0,
           "chunk_sizes": [
            1,
            90,
            180
           ],
           "comment": "Add to sea_surface_temperature, if alternative SST retrieval is required",
           "data_type": "int16",
           "dimensions": [
            "time",
            "lat",
            "lon"
           ],
           "fill_value": -32768,
           "long_name": "Adjustment to alternative sea surface temperature retrieval",
           "scale_factor": 0.01,
           "size": 25920000,
           "units": "kelvin",
           "valid_max": 1000,
           "valid_min": -1000
          },
          "dims": [
           "time",
           "lat",
           "lon"
          ],
          "dtype": "int16",
          "name": "adjustment_alt",
          "ndim": 3
         },
         {
          "attrs": {
           "chunk_sizes": [
            1,
            90,
            180
           ],
           "comment": "These flags are important to properly use the data",
           "data_type": "int16",
           "dimensions": [
            "time",
            "lat",
            "lon"
           ],
           "fill_value": -32768,
           "flag_masks": [
            1,
            2,
            4,
            8,
            16,
            32,
            64,
            128,
            256
           ],
           "flag_meanings": "microwave land ice lake river spare views channels day",
           "long_name": "L2P flags",
           "size": 25920000,
           "valid_max": 511,
           "valid_min": 0
          },
          "dims": [
           "time",
           "lat",
           "lon"
          ],
          "dtype": "int16",
          "name": "l2p_flags",
          "ndim": 3
         },
         {
          "attrs": {
           "_Unsigned": "false",
           "chunk_sizes": [
            1,
            90,
            180
           ],
           "comment": "These are overall quality indicators and are used for all GHRSST SSTs",
           "data_type": "uint8",
           "dimensions": [
            "time",
            "lat",
            "lon"
           ],
           "fill_value": 0,
           "flag_meanings": "no_data bad_data worst_quality low_quality acceptable_quality best_quality",
           "flag_values": [
            0,
            1,
            2,
            3,
            4,
            5
           ],
           "long_name": "quality level of SST pixel",
           "size": 25920000,
           "valid_max": 5,
           "valid_min": 0
          },
          "dims": [
           "time",
           "lat",
           "lon"
          ],
          "dtype": "uint8",
          "name": "quality_level",
          "ndim": 3
         },
         {
          "attrs": {
           "_Unsigned": "false",
           "add_offset": 12.7,
           "chunk_sizes": [
            1,
            90,
            180
           ],
           "comment": "Wind speeds sourced from ECMWF ERA Interim Reanalysis; wind speeds greater than 25.4 m/s are set to 25.4.",
           "data_type": "uint8",
           "dimensions": [
            "time",
            "lat",
            "lon"
           ],
           "fill_value": -128,
           "height": "10 m",
           "long_name": "10m wind speed",
           "references": "http://www.esa-sst-cci.org",
           "scale_factor": 0.1,
           "size": 25920000,
           "source": "ERA_INTERIM-ECMWF-WSP-v1.0",
           "standard_name": "wind_speed",
           "time_offset": 0,
           "units": "m s-1",
           "valid_max": 127,
           "valid_min": -127
          },
          "dims": [
           "time",
           "lat",
           "lon"
          ],
          "dtype": "uint8",
          "name": "wind_speed",
          "ndim": 3
         },
         {
          "attrs": {
           "_Unsigned": "false",
           "chunk_sizes": [
            1,
            90,
            180
           ],
           "comment": "1. single view, two channel 2. single view, three channel 3. dual view, two channel 4. dual view, three channel 5. single view, 11 and 3.7 two channel",
           "data_type": "uint8",
           "dimensions": [
            "time",
            "lat",
            "lon"
           ],
           "fill_value": -128,
           "flag_meanings": "single_view_two_channel single_view_three_channel dual_view_two_channel dual_view_three_channel single_view_11_and_3.7_two_channel",
           "flag_values": [
            1,
            2,
            3,
            4,
            5
           ],
           "long_name": "Type of retrieval used for the primary SST",
           "size": 25920000,
           "valid_max": 5,
           "valid_min": 1
          },
          "dims": [
           "time",
           "lat",
           "lon"
          ],
          "dtype": "uint8",
          "name": "sea_surface_temperature_retrieval_type",
          "ndim": 3
         },
         {
          "attrs": {
           "_Unsigned": "false",
           "chunk_sizes": [
            1,
            90,
            180
           ],
           "comment": "For ATSRs, adjustment gives D2 (most consistent through time series) when D3 is provided as best. For AVHRRs, adjustment provides N2 when N3 is best. Reason for providing an alternative: can then use N2 or D2 consistently for whole record i",
           "data_type": "uint8",
           "dimensions": [
            "time",
            "lat",
            "lon"
           ],
           "fill_value": -128,
           "flag_meanings": "single_view_two_channel single_view_three_channel dual_view_two_channel dual_view_three_channel single_view_11_and_3.7_two_channel",
           "flag_values": [
            1,
            2,
            3,
            4,
            5
           ],
           "long_name": "Type of retrieval used for the alternate SST retrieval",
           "size": 25920000,
           "valid_max": 5,
           "valid_min": 1
          },
          "dims": [
           "time",
           "lat",
           "lon"
          ],
          "dtype": "uint8",
          "name": "alt_sst_retrieval_type",
          "ndim": 3
         },
         {
          "attrs": {
           "add_offset": 0,
           "chunk_sizes": [
            1,
            90,
            180
           ],
           "comment": "Component of uncertainty that is uncorrelated between SSTs; can be combined with other uncertainty estimates to form a total uncertainty",
           "data_type": "int16",
           "dimensions": [
            "time",
            "lat",
            "lon"
           ],
           "fill_value": -32768,
           "long_name": "Uncertainty from errors likely to be uncorrelated between SSTs",
           "references": "http://www.esa-sst-cci.org",
           "scale_factor": 0.001,
           "size": 25920000,
           "units": "kelvin",
           "valid_max": 5000,
           "valid_min": 0
          },
          "dims": [
           "time",
           "lat",
           "lon"
          ],
          "dtype": "int16",
          "name": "uncertainty_random",
          "ndim": 3
         },
         {
          "attrs": {
           "add_offset": 0,
           "chunk_sizes": [
            1,
            90,
            180
           ],
           "comment": "Component of uncertainty that is correlated over synoptic scales; can be combined with other uncertainty estimates to form a total uncertainty",
           "correlation_length_scale": "100 km",
           "correlation_time_scale": "1 day",
           "data_type": "int16",
           "dimensions": [
            "time",
            "lat",
            "lon"
           ],
           "fill_value": -32768,
           "long_name": "Uncertainty from errors likely to be correlated over synoptic scales",
           "references": "http://www.esa-sst-cci.org",
           "scale_factor": 0.001,
           "size": 25920000,
           "units": "kelvin",
           "valid_max": 5000,
           "valid_min": 0
          },
          "dims": [
           "time",
           "lat",
           "lon"
          ],
          "dtype": "int16",
          "name": "uncertainty_correlated",
          "ndim": 3
         },
         {
          "attrs": {
           "add_offset": 0,
           "chunk_sizes": [
            1,
            90,
            180
           ],
           "comment": "Component of uncertainty that is correlated over large scales; can be combined with other uncertainty estimates to form a total uncertainty",
           "data_type": "int16",
           "dimensions": [
            "time",
            "lat",
            "lon"
           ],
           "fill_value": -32768,
           "long_name": "Uncertainty from errors likely to be correlated over large scales",
           "references": "http://www.esa-sst-cci.org",
           "scale_factor": 0.001,
           "size": 25920000,
           "units": "kelvin",
           "valid_max": 5000,
           "valid_min": 0
          },
          "dims": [
           "time",
           "lat",
           "lon"
          ],
          "dtype": "int16",
          "name": "uncertainty_systematic",
          "ndim": 3
         },
         {
          "attrs": {
           "add_offset": 0,
           "chunk_sizes": [
            1,
            90,
            180
           ],
           "comment": "Adjustment uncertainty; can be combined with other uncertainty estimates to form a total uncertainty",
           "correlation_length_scale": "100 km",
           "correlation_time_scale": "1 day",
           "data_type": "int16",
           "dimensions": [
            "time",
            "lat",
            "lon"
           ],
           "fill_value": -32768,
           "long_name": "Time and depth adjustment uncertainty",
           "references": "http://www.esa-sst-cci.org",
           "scale_factor": 0.001,
           "size": 25920000,
           "units": "kelvin",
           "valid_max": 5000,
           "valid_min": 0
          },
          "dims": [
           "time",
           "lat",
           "lon"
          ],
          "dtype": "int16",
          "name": "uncertainty_correlated_time_and_depth_adjustment",
          "ndim": 3
         },
         {
          "attrs": {
           "add_offset": 0,
           "chunk_sizes": [
            1,
            90,
            180
           ],
           "comment": "Component of uncertainty in alternative SST retrieval that is uncorrelated between SSTs; can be combined with other uncertainty estimates to form a total uncertainty",
           "data_type": "int16",
           "dimensions": [
            "time",
            "lat",
            "lon"
           ],
           "fill_value": -32768,
           "long_name": "Uncertainty in alternative SST retrieval from errors likely to be uncorrelated between SSTs",
           "references": "http://www.esa-sst-cci.org",
           "scale_factor": 0.001,
           "size": 25920000,
           "units": "kelvin",
           "valid_max": 5000,
           "valid_min": 0
          },
          "dims": [
           "time",
           "lat",
           "lon"
          ],
          "dtype": "int16",
          "name": "uncertainty_random_alt",
          "ndim": 3
         },
         {
          "attrs": {
           "add_offset": 0,
           "chunk_sizes": [
            1,
            90,
            180
           ],
           "comment": "Component of uncertainty in alternative SST retrieval that is correlated over synoptic scales; can be combined with other uncertainty estimates to form a total uncertainty",
           "correlation_length_scale": "100 km",
           "correlation_time_scale": "1 day",
           "data_type": "int16",
           "dimensions": [
            "time",
            "lat",
            "lon"
           ],
           "fill_value": -32768,
           "long_name": "Uncertainty in alternative SST retrieval from errors likely to be correlated over synoptic scales",
           "references": "http://www.esa-sst-cci.org",
           "scale_factor": 0.001,
           "size": 25920000,
           "units": "kelvin",
           "valid_max": 5000,
           "valid_min": 0
          },
          "dims": [
           "time",
           "lat",
           "lon"
          ],
          "dtype": "int16",
          "name": "uncertainty_correlated_alt",
          "ndim": 3
         },
         {
          "attrs": {
           "add_offset": 0,
           "chunk_sizes": [
            1,
            90,
            180
           ],
           "comment": "Component of uncertainty in alternative SST retrieval that is correlated over large scales; can be combined with other uncertainty estimates to form a total uncertainty",
           "data_type": "int16",
           "dimensions": [
            "time",
            "lat",
            "lon"
           ],
           "fill_value": -32768,
           "long_name": "Uncertainty in alternative SST retrieval from errors likely to be correlated over large scales",
           "references": "http://www.esa-sst-cci.org",
           "scale_factor": 0.001,
           "size": 25920000,
           "units": "kelvin",
           "valid_max": 5000,
           "valid_min": 0
          },
          "dims": [
           "time",
           "lat",
           "lon"
          ],
          "dtype": "int16",
          "name": "uncertainty_systematic_alt",
          "ndim": 3
         },
         {
          "attrs": {
           "add_offset": 0,
           "chunk_sizes": [
            1,
            90,
            180
           ],
           "comment": "Sensitivity of the retrieval to actual changes in sea surface temperature",
           "data_type": "int16",
           "dimensions": [
            "time",
            "lat",
            "lon"
           ],
           "fill_value": -32768,
           "long_name": "Sensitivity of the retrieval to actual changes in sea surface temperature",
           "scale_factor": 0.001,
           "size": 25920000,
           "units": "K/K",
           "valid_max": 1100,
           "valid_min": 0
          },
          "dims": [
           "time",
           "lat",
           "lon"
          ],
          "dtype": "int16",
          "name": "sst_sensitivity",
          "ndim": 3
         },
         {
          "attrs": {
           "add_offset": 0,
           "chunk_sizes": [
            1,
            90,
            180
           ],
           "comment": "If not applied, fill with zeros to indicate independence from in situ",
           "data_type": "int16",
           "dimensions": [
            "time",
            "lat",
            "lon"
           ],
           "fill_value": -32768,
           "long_name": "Adjustment, based on comparison to in situ data",
           "scale_factor": 0.01,
           "size": 25920000,
           "units": "kelvin",
           "valid_max": 1000,
           "valid_min": -1000
          },
          "dims": [
           "time",
           "lat",
           "lon"
          ],
          "dtype": "int16",
          "name": "empirical_adjustment",
          "ndim": 3
         }
        ],
        "dims": {
         "bnds": 2,
         "lat": 3600,
         "lon": 7200,
         "time": 1
        },
        "open_params_schema": {
         "additionalProperties": false,
         "properties": {
          "bbox": {
           "items": [
            {
             "maximum": 180,
             "minimum": -180,
             "type": "number"
            },
            {
             "maximum": 90,
             "minimum": -90,
             "type": "number"
            },
            {
             "maximum": 180,
             "minimum": -180,
             "type": "number"
            },
            {
             "maximum": 90,
             "minimum": -90,
             "type": "number"
            }
           ],
           "type": "array"
          },
          "crs": {
           "const": "WGS84",
           "type": "string"
          },
          "spatial_res": {
           "const": 0.05,
           "type": "number"
          },
          "time_period": {
           "const": "1D",
           "type": "string"
          },
          "time_range": {
           "items": [
            {
             "format": "date",
             "maxDate": "2016-12-31",
             "minDate": "1981-08-23",
             "type": "string"
            },
            {
             "format": "date",
             "maxDate": "2016-12-31",
             "minDate": "1981-08-23",
             "type": "string"
            }
           ],
           "type": "array"
          },
          "variable_names": {
           "items": {
            "enum": [
             "sea_surface_temperature",
             "sea_surface_temperature_depth",
             "sea_surface_temperature_depth_anomaly",
             "sst_dtime",
             "sst_depth_dtime",
             "sses_bias",
             "sses_standard_deviation",
             "sea_surface_temperature_total_uncertainty",
             "sea_surface_temperature_depth_total_uncertainty",
             "depth_adjustment",
             "adjustment_alt",
             "l2p_flags",
             "quality_level",
             "wind_speed",
             "sea_surface_temperature_retrieval_type",
             "alt_sst_retrieval_type",
             "uncertainty_random",
             "uncertainty_correlated",
             "uncertainty_systematic",
             "uncertainty_correlated_time_and_depth_adjustment",
             "uncertainty_random_alt",
             "uncertainty_correlated_alt",
             "uncertainty_systematic_alt",
             "sst_sensitivity",
             "empirical_adjustment"
            ],
            "type": "string"
           },
           "type": "array"
          }
         },
         "type": "object"
        },
        "spatial_res": 0.05,
        "time_period": "1D",
        "time_range": [
         "1981-08-23",
         "2016-12-31"
        ],
        "type_specifier": "dataset"
       },
       {
        "attrs": {
         "abstract": "This v2.1 SST_cci Advanced Very High Resolution Radiometer (AVHRR) Level 3 Collated (L3C) Climate Data Record (CDR) consists of stable, low-bias sea surface temperature (SST) data from the AVHRR series of satellite instruments.  It covers the period between 08/1981 and 12/2016.  This L3C product provides these SST data on a 0.05 regular latitude-longitude grid and collated to include all orbits for a day (separated into daytime and nighttime files).\n\nThe dataset has been produced as part of the European Space Agency (ESA) Climate Change Initiative Sea Surface Temperature project(ESA SST_cci). The data products from SST_cci accurately map the surface temperature of the global oceans over the period 1981 to 2016 using observations from many satellites. The data provide independently quantified SSTs to a quality suitable for climate research.\n\nThis CDR Version 2.1 product supercedes the CDR Version 2.0 product.  Data are made freely and openly available under a Creative Commons License by Attribution (CC By 4.0) https://creativecommons.org/licenses/by/4.0/ .\n\nWhen citing this dataset please also cite the associated data paper: Merchant, C.J., Embury, O., Bulgin, C.E., Block T., Corlett, G.K., Fiedler, E., Good, S.A., Mittaz, J., Rayner, N.A., Berry, D., Eastwood, S., Taylor, M., Tsushima, Y., Waterfall, A., Wilson, R., Donlon, C. Satellite-based time-series of sea-surface temperature since 1981 for climate applications, Scientific Data 6:223 (2019). http://doi.org/10.1038/s41597-019-0236-x",
         "bbox_maxx": "180.0",
         "bbox_maxy": "90.0",
         "bbox_minx": "-180.0",
         "bbox_miny": "-90.0",
         "cci_project": "SST",
         "creation_date": "2019-08-02T20:01:15",
         "data_type": "SSTskin",
         "drs_ids": [
          "esacci.SST.day.L3C.SSTskin.AVHRR-3.NOAA-15.AVHRR15_G.2-1.day",
          "esacci.SST.day.L3C.SSTskin.AVHRR-3.NOAA-15.AVHRR15_G.2-1.night",
          "esacci.SST.day.L3C.SSTskin.AVHRR-3.Metop-A.AVHRRMTA_G.2-1.day",
          "esacci.SST.day.L3C.SSTskin.AVHRR-3.Metop-A.AVHRRMTA_G.2-1.night",
          "esacci.SST.day.L3C.SSTskin.AVHRR-3.NOAA-19.AVHRR19_G.2-1.day",
          "esacci.SST.day.L3C.SSTskin.AVHRR-3.NOAA-19.AVHRR19_G.2-1.night",
          "esacci.SST.day.L3C.SSTskin.AVHRR-3.NOAA-17.AVHRR17_G.2-1.day",
          "esacci.SST.day.L3C.SSTskin.AVHRR-3.NOAA-17.AVHRR17_G.2-1.night",
          "esacci.SST.day.L3C.SSTskin.AVHRR-2.NOAA-12.AVHRR12_G.2-1.day",
          "esacci.SST.day.L3C.SSTskin.AVHRR-2.NOAA-12.AVHRR12_G.2-1.night",
          "esacci.SST.day.L3C.SSTskin.AVHRR-2.NOAA-11.AVHRR11_G.2-1.day",
          "esacci.SST.day.L3C.SSTskin.AVHRR-2.NOAA-11.AVHRR11_G.2-1.night",
          "esacci.SST.day.L3C.SSTskin.AVHRR-2.NOAA-14.AVHRR14_G.2-1.day",
          "esacci.SST.day.L3C.SSTskin.AVHRR-2.NOAA-14.AVHRR14_G.2-1.night",
          "esacci.SST.day.L3C.SSTskin.AVHRR-3.NOAA-18.AVHRR18_G.2-1.day",
          "esacci.SST.day.L3C.SSTskin.AVHRR-3.NOAA-18.AVHRR18_G.2-1.night",
          "esacci.SST.day.L3C.SSTskin.AVHRR-2.NOAA-9.AVHRR09_G.2-1.day",
          "esacci.SST.day.L3C.SSTskin.AVHRR-2.NOAA-9.AVHRR09_G.2-1.night",
          "esacci.SST.day.L3C.SSTskin.AVHRR-3.NOAA-16.AVHRR16_G.2-1.day",
          "esacci.SST.day.L3C.SSTskin.AVHRR-3.NOAA-16.AVHRR16_G.2-1.night",
          "esacci.SST.day.L3C.SSTskin.AVHRR-2.NOAA-7.AVHRR07_G.2-1.day",
          "esacci.SST.day.L3C.SSTskin.AVHRR-2.NOAA-7.AVHRR07_G.2-1.night"
         ],
         "ecv": "SST",
         "fid": "7db4459605da4665b6ab9a7102fb4875",
         "file_formats": [
          ".nc",
          ".txt"
         ],
         "institute": "ESACCI_SST",
         "licences": "Use of these data is covered by the following licence: https://artefacts.ceda.ac.uk/licences/specific_licences/esacci_sst_terms_and_conditions_v2.pdf . When using these data you must cite them correctly using the citation given on the CEDA Data Catalogue record.",
         "metadata_url": "https://catalogue.ceda.ac.uk/export/xml/7db4459605da4665b6ab9a7102fb4875.xml",
         "odd_url": "http://archive.opensearch.ceda.ac.uk/opensearch/description.xml?parentIdentifier=7db4459605da4665b6ab9a7102fb4875",
         "platform_id": "NOAA-15",
         "processing_level": "L3C",
         "product_string": "AVHRR15_G",
         "product_version": "2-1",
         "publication_date": "2019-08-02T20:01:15",
         "sensor_id": "AVHRR-3",
         "temporal_coverage_end": "2016-12-31T23:59:59",
         "temporal_coverage_start": "1981-08-23T23:00:00",
         "time_frequency": "day",
         "title": "ESA Sea Surface Temperature Climate Change Initiative (SST_cci): Advanced Very High Resolution Radiometer (AVHRR) Level 3 Collated (L3C) Climate Data Record, version 2.1",
         "uuid": "7db4459605da4665b6ab9a7102fb4875"
        },
        "bbox": [
         -180,
         -90,
         180,
         90
        ],
        "data_id": "esacci.SST.day.L3C.SSTskin.AVHRR-3.NOAA-15.AVHRR15_G.2-1.night",
        "data_vars": [
         {
          "attrs": {
           "add_offset": 273.15,
           "chunk_sizes": [
            1,
            90,
            180
           ],
           "comment": "Temperature of the skin of the ocean; total uncertainty = sqrt(uncertainty_systematic^2+uncertainty_correlated^2+uncertainty_random^2)",
           "data_type": "int16",
           "depth": "10 micrometres",
           "dimensions": [
            "time",
            "lat",
            "lon"
           ],
           "fill_value": -32768,
           "long_name": "sea surface skin temperature",
           "references": "http://www.esa-sst-cci.org",
           "scale_factor": 0.01,
           "size": 25920000,
           "source": "AVHRR07_G-ESACCI-L1C-v1",
           "standard_name": "sea_surface_skin_temperature",
           "units": "kelvin",
           "valid_max": 5000,
           "valid_min": -200
          },
          "dims": [
           "time",
           "lat",
           "lon"
          ],
          "dtype": "int16",
          "name": "sea_surface_temperature",
          "ndim": 3
         },
         {
          "attrs": {
           "add_offset": 273.15,
           "chunk_sizes": [
            1,
            90,
            180
           ],
           "comment": "Temperature of the ocean at 20 cm depth; total uncertainty = sqrt(uncertainty_systematic^2+uncertainty_correlated^2+uncertainty_random^2+uncertainty_correlated_time_and_depth_adjustment^2)",
           "data_type": "int16",
           "depth": "0.2 metre",
           "dimensions": [
            "time",
            "lat",
            "lon"
           ],
           "fill_value": -32768,
           "long_name": "sea surface temperature at 0.2 m",
           "references": "http://www.esa-sst-cci.org",
           "scale_factor": 0.01,
           "size": 25920000,
           "source": "AVHRR07_G-ESACCI-L1C-v1",
           "standard_name": "sea_water_temperature",
           "units": "kelvin",
           "valid_max": 5000,
           "valid_min": -200
          },
          "dims": [
           "time",
           "lat",
           "lon"
          ],
          "dtype": "int16",
          "name": "sea_surface_temperature_depth",
          "ndim": 3
         },
         {
          "attrs": {
           "add_offset": 0,
           "chunk_sizes": [
            1,
            90,
            180
           ],
           "comment": "Temperature of the ocean at 20 cm depth; total uncertainty = sqrt(uncertainty_systematic^2+uncertainty_correlated^2+uncertainty_random^2+uncertainty_correlated_time_and_depth_adjustment^2)",
           "data_type": "int16",
           "depth": "0.2 metre",
           "dimensions": [
            "time",
            "lat",
            "lon"
           ],
           "fill_value": -32768,
           "long_name": "sea surface temperature anomaly at 0.2 m",
           "references": "http://www.esa-sst-cci.org",
           "scale_factor": 0.01,
           "size": 25920000,
           "source": "AVHRR07_G-ESACCI-L1C-v1",
           "standard_name": "sea_water_temperature_anomaly",
           "units": "kelvin",
           "valid_max": 4000,
           "valid_min": -4000
          },
          "dims": [
           "time",
           "lat",
           "lon"
          ],
          "dtype": "int16",
          "name": "sea_surface_temperature_depth_anomaly",
          "ndim": 3
         },
         {
          "attrs": {
           "add_offset": 0,
           "chunk_sizes": [
            1,
            90,
            180
           ],
           "comment": "time plus sst_dtime gives seconds after 1981-01-01 00:00:00",
           "data_type": "int32",
           "dimensions": [
            "time",
            "lat",
            "lon"
           ],
           "fill_value": -2147483648,
           "long_name": "time difference from reference time",
           "scale_factor": 1,
           "size": 25920000,
           "units": "seconds",
           "valid_max": 43200,
           "valid_min": -43200
          },
          "dims": [
           "time",
           "lat",
           "lon"
          ],
          "dtype": "int32",
          "name": "sst_dtime",
          "ndim": 3
         },
         {
          "attrs": {
           "add_offset": 0,
           "chunk_sizes": [
            1,
            90,
            180
           ],
           "comment": "time plus sst_depth_dtime gives seconds after 1981-01-01 00:00:00",
           "data_type": "int32",
           "dimensions": [
            "time",
            "lat",
            "lon"
           ],
           "fill_value": -2147483648,
           "long_name": "time difference from reference time",
           "scale_factor": 1,
           "size": 25920000,
           "units": "seconds",
           "valid_max": 43200,
           "valid_min": -43200
          },
          "dims": [
           "time",
           "lat",
           "lon"
          ],
          "dtype": "int32",
          "name": "sst_depth_dtime",
          "ndim": 3
         },
         {
          "attrs": {
           "_Unsigned": "false",
           "add_offset": 0,
           "chunk_sizes": [
            1,
            90,
            180
           ],
           "comment": "Populated with zeroes",
           "data_type": "uint8",
           "dimensions": [
            "time",
            "lat",
            "lon"
           ],
           "fill_value": -128,
           "long_name": "SSES bias estimate",
           "scale_factor": 0.01,
           "size": 25920000,
           "units": "kelvin",
           "valid_max": 127,
           "valid_min": -127
          },
          "dims": [
           "time",
           "lat",
           "lon"
          ],
          "dtype": "uint8",
          "name": "sses_bias",
          "ndim": 3
         },
         {
          "attrs": {
           "_Unsigned": "false",
           "add_offset": 1.27,
           "chunk_sizes": [
            1,
            90,
            180
           ],
           "comment": "Uncertainty information is contained in the variables uncertainty_systematic, uncertainty_correlated, and uncertainty_random",
           "data_type": "uint8",
           "dimensions": [
            "time",
            "lat",
            "lon"
           ],
           "fill_value": -128,
           "long_name": "SSES standard deviation",
           "scale_factor": 0.01,
           "size": 25920000,
           "units": "kelvin",
           "valid_max": 127,
           "valid_min": -127
          },
          "dims": [
           "time",
           "lat",
           "lon"
          ],
          "dtype": "uint8",
          "name": "sses_standard_deviation",
          "ndim": 3
         },
         {
          "attrs": {
           "add_offset": 0,
           "chunk_sizes": [
            1,
            90,
            180
           ],
           "comment": "Total uncertainty in each sea_surface_temperature data point",
           "data_type": "int16",
           "dimensions": [
            "time",
            "lat",
            "lon"
           ],
           "fill_value": -32768,
           "long_name": "Total uncertainty in sea_surface_temperature",
           "scale_factor": 0.001,
           "size": 25920000,
           "units": "kelvin",
           "valid_max": 5000,
           "valid_min": 0
          },
          "dims": [
           "time",
           "lat",
           "lon"
          ],
          "dtype": "int16",
          "name": "sea_surface_temperature_total_uncertainty",
          "ndim": 3
         },
         {
          "attrs": {
           "add_offset": 0,
           "chunk_sizes": [
            1,
            90,
            180
           ],
           "comment": "Total uncertainty in each sea_surface_temperature_depth data point",
           "data_type": "int16",
           "dimensions": [
            "time",
            "lat",
            "lon"
           ],
           "fill_value": -32768,
           "long_name": "Total uncertainty in sea_surface_temperature_depth",
           "scale_factor": 0.001,
           "size": 25920000,
           "units": "kelvin",
           "valid_max": 5000,
           "valid_min": 0
          },
          "dims": [
           "time",
           "lat",
           "lon"
          ],
          "dtype": "int16",
          "name": "sea_surface_temperature_depth_total_uncertainty",
          "ndim": 3
         },
         {
          "attrs": {
           "add_offset": 0,
           "chunk_sizes": [
            1,
            90,
            180
           ],
           "comment": "Add to sea_surface_temperature, if SST at 20cm at observation time is required",
           "data_type": "int16",
           "dimensions": [
            "time",
            "lat",
            "lon"
           ],
           "fill_value": -32768,
           "long_name": "Adjustment to sea surface temperature at 0.2 m",
           "scale_factor": 0.01,
           "size": 25920000,
           "units": "kelvin",
           "valid_max": 1000,
           "valid_min": -1000
          },
          "dims": [
           "time",
           "lat",
           "lon"
          ],
          "dtype": "int16",
          "name": "depth_adjustment",
          "ndim": 3
         },
         {
          "attrs": {
           "add_offset": 0,
           "chunk_sizes": [
            1,
            90,
            180
           ],
           "comment": "Add to sea_surface_temperature, if alternative SST retrieval is required",
           "data_type": "int16",
           "dimensions": [
            "time",
            "lat",
            "lon"
           ],
           "fill_value": -32768,
           "long_name": "Adjustment to alternative sea surface temperature retrieval",
           "scale_factor": 0.01,
           "size": 25920000,
           "units": "kelvin",
           "valid_max": 1000,
           "valid_min": -1000
          },
          "dims": [
           "time",
           "lat",
           "lon"
          ],
          "dtype": "int16",
          "name": "adjustment_alt",
          "ndim": 3
         },
         {
          "attrs": {
           "chunk_sizes": [
            1,
            90,
            180
           ],
           "comment": "These flags are important to properly use the data",
           "data_type": "int16",
           "dimensions": [
            "time",
            "lat",
            "lon"
           ],
           "fill_value": -32768,
           "flag_masks": [
            1,
            2,
            4,
            8,
            16,
            32,
            64,
            128,
            256
           ],
           "flag_meanings": "microwave land ice lake river spare views channels day",
           "long_name": "L2P flags",
           "size": 25920000,
           "valid_max": 511,
           "valid_min": 0
          },
          "dims": [
           "time",
           "lat",
           "lon"
          ],
          "dtype": "int16",
          "name": "l2p_flags",
          "ndim": 3
         },
         {
          "attrs": {
           "_Unsigned": "false",
           "chunk_sizes": [
            1,
            90,
            180
           ],
           "comment": "These are overall quality indicators and are used for all GHRSST SSTs",
           "data_type": "uint8",
           "dimensions": [
            "time",
            "lat",
            "lon"
           ],
           "fill_value": 0,
           "flag_meanings": "no_data bad_data worst_quality low_quality acceptable_quality best_quality",
           "flag_values": [
            0,
            1,
            2,
            3,
            4,
            5
           ],
           "long_name": "quality level of SST pixel",
           "size": 25920000,
           "valid_max": 5,
           "valid_min": 0
          },
          "dims": [
           "time",
           "lat",
           "lon"
          ],
          "dtype": "uint8",
          "name": "quality_level",
          "ndim": 3
         },
         {
          "attrs": {
           "_Unsigned": "false",
           "add_offset": 12.7,
           "chunk_sizes": [
            1,
            90,
            180
           ],
           "comment": "Wind speeds sourced from ECMWF ERA Interim Reanalysis; wind speeds greater than 25.4 m/s are set to 25.4.",
           "data_type": "uint8",
           "dimensions": [
            "time",
            "lat",
            "lon"
           ],
           "fill_value": -128,
           "height": "10 m",
           "long_name": "10m wind speed",
           "references": "http://www.esa-sst-cci.org",
           "scale_factor": 0.1,
           "size": 25920000,
           "source": "ERA_INTERIM-ECMWF-WSP-v1.0",
           "standard_name": "wind_speed",
           "time_offset": 0,
           "units": "m s-1",
           "valid_max": 127,
           "valid_min": -127
          },
          "dims": [
           "time",
           "lat",
           "lon"
          ],
          "dtype": "uint8",
          "name": "wind_speed",
          "ndim": 3
         },
         {
          "attrs": {
           "_Unsigned": "false",
           "chunk_sizes": [
            1,
            90,
            180
           ],
           "comment": "1. single view, two channel 2. single view, three channel 3. dual view, two channel 4. dual view, three channel 5. single view, 11 and 3.7 two channel",
           "data_type": "uint8",
           "dimensions": [
            "time",
            "lat",
            "lon"
           ],
           "fill_value": -128,
           "flag_meanings": "single_view_two_channel single_view_three_channel dual_view_two_channel dual_view_three_channel single_view_11_and_3.7_two_channel",
           "flag_values": [
            1,
            2,
            3,
            4,
            5
           ],
           "long_name": "Type of retrieval used for the primary SST",
           "size": 25920000,
           "valid_max": 5,
           "valid_min": 1
          },
          "dims": [
           "time",
           "lat",
           "lon"
          ],
          "dtype": "uint8",
          "name": "sea_surface_temperature_retrieval_type",
          "ndim": 3
         },
         {
          "attrs": {
           "_Unsigned": "false",
           "chunk_sizes": [
            1,
            90,
            180
           ],
           "comment": "For ATSRs, adjustment gives D2 (most consistent through time series) when D3 is provided as best. For AVHRRs, adjustment provides N2 when N3 is best. Reason for providing an alternative: can then use N2 or D2 consistently for whole record i",
           "data_type": "uint8",
           "dimensions": [
            "time",
            "lat",
            "lon"
           ],
           "fill_value": -128,
           "flag_meanings": "single_view_two_channel single_view_three_channel dual_view_two_channel dual_view_three_channel single_view_11_and_3.7_two_channel",
           "flag_values": [
            1,
            2,
            3,
            4,
            5
           ],
           "long_name": "Type of retrieval used for the alternate SST retrieval",
           "size": 25920000,
           "valid_max": 5,
           "valid_min": 1
          },
          "dims": [
           "time",
           "lat",
           "lon"
          ],
          "dtype": "uint8",
          "name": "alt_sst_retrieval_type",
          "ndim": 3
         },
         {
          "attrs": {
           "add_offset": 0,
           "chunk_sizes": [
            1,
            90,
            180
           ],
           "comment": "Component of uncertainty that is uncorrelated between SSTs; can be combined with other uncertainty estimates to form a total uncertainty",
           "data_type": "int16",
           "dimensions": [
            "time",
            "lat",
            "lon"
           ],
           "fill_value": -32768,
           "long_name": "Uncertainty from errors likely to be uncorrelated between SSTs",
           "references": "http://www.esa-sst-cci.org",
           "scale_factor": 0.001,
           "size": 25920000,
           "units": "kelvin",
           "valid_max": 5000,
           "valid_min": 0
          },
          "dims": [
           "time",
           "lat",
           "lon"
          ],
          "dtype": "int16",
          "name": "uncertainty_random",
          "ndim": 3
         },
         {
          "attrs": {
           "add_offset": 0,
           "chunk_sizes": [
            1,
            90,
            180
           ],
           "comment": "Component of uncertainty that is correlated over synoptic scales; can be combined with other uncertainty estimates to form a total uncertainty",
           "correlation_length_scale": "100 km",
           "correlation_time_scale": "1 day",
           "data_type": "int16",
           "dimensions": [
            "time",
            "lat",
            "lon"
           ],
           "fill_value": -32768,
           "long_name": "Uncertainty from errors likely to be correlated over synoptic scales",
           "references": "http://www.esa-sst-cci.org",
           "scale_factor": 0.001,
           "size": 25920000,
           "units": "kelvin",
           "valid_max": 5000,
           "valid_min": 0
          },
          "dims": [
           "time",
           "lat",
           "lon"
          ],
          "dtype": "int16",
          "name": "uncertainty_correlated",
          "ndim": 3
         },
         {
          "attrs": {
           "add_offset": 0,
           "chunk_sizes": [
            1,
            90,
            180
           ],
           "comment": "Component of uncertainty that is correlated over large scales; can be combined with other uncertainty estimates to form a total uncertainty",
           "data_type": "int16",
           "dimensions": [
            "time",
            "lat",
            "lon"
           ],
           "fill_value": -32768,
           "long_name": "Uncertainty from errors likely to be correlated over large scales",
           "references": "http://www.esa-sst-cci.org",
           "scale_factor": 0.001,
           "size": 25920000,
           "units": "kelvin",
           "valid_max": 5000,
           "valid_min": 0
          },
          "dims": [
           "time",
           "lat",
           "lon"
          ],
          "dtype": "int16",
          "name": "uncertainty_systematic",
          "ndim": 3
         },
         {
          "attrs": {
           "add_offset": 0,
           "chunk_sizes": [
            1,
            90,
            180
           ],
           "comment": "Adjustment uncertainty; can be combined with other uncertainty estimates to form a total uncertainty",
           "correlation_length_scale": "100 km",
           "correlation_time_scale": "1 day",
           "data_type": "int16",
           "dimensions": [
            "time",
            "lat",
            "lon"
           ],
           "fill_value": -32768,
           "long_name": "Time and depth adjustment uncertainty",
           "references": "http://www.esa-sst-cci.org",
           "scale_factor": 0.001,
           "size": 25920000,
           "units": "kelvin",
           "valid_max": 5000,
           "valid_min": 0
          },
          "dims": [
           "time",
           "lat",
           "lon"
          ],
          "dtype": "int16",
          "name": "uncertainty_correlated_time_and_depth_adjustment",
          "ndim": 3
         },
         {
          "attrs": {
           "add_offset": 0,
           "chunk_sizes": [
            1,
            90,
            180
           ],
           "comment": "Component of uncertainty in alternative SST retrieval that is uncorrelated between SSTs; can be combined with other uncertainty estimates to form a total uncertainty",
           "data_type": "int16",
           "dimensions": [
            "time",
            "lat",
            "lon"
           ],
           "fill_value": -32768,
           "long_name": "Uncertainty in alternative SST retrieval from errors likely to be uncorrelated between SSTs",
           "references": "http://www.esa-sst-cci.org",
           "scale_factor": 0.001,
           "size": 25920000,
           "units": "kelvin",
           "valid_max": 5000,
           "valid_min": 0
          },
          "dims": [
           "time",
           "lat",
           "lon"
          ],
          "dtype": "int16",
          "name": "uncertainty_random_alt",
          "ndim": 3
         },
         {
          "attrs": {
           "add_offset": 0,
           "chunk_sizes": [
            1,
            90,
            180
           ],
           "comment": "Component of uncertainty in alternative SST retrieval that is correlated over synoptic scales; can be combined with other uncertainty estimates to form a total uncertainty",
           "correlation_length_scale": "100 km",
           "correlation_time_scale": "1 day",
           "data_type": "int16",
           "dimensions": [
            "time",
            "lat",
            "lon"
           ],
           "fill_value": -32768,
           "long_name": "Uncertainty in alternative SST retrieval from errors likely to be correlated over synoptic scales",
           "references": "http://www.esa-sst-cci.org",
           "scale_factor": 0.001,
           "size": 25920000,
           "units": "kelvin",
           "valid_max": 5000,
           "valid_min": 0
          },
          "dims": [
           "time",
           "lat",
           "lon"
          ],
          "dtype": "int16",
          "name": "uncertainty_correlated_alt",
          "ndim": 3
         },
         {
          "attrs": {
           "add_offset": 0,
           "chunk_sizes": [
            1,
            90,
            180
           ],
           "comment": "Component of uncertainty in alternative SST retrieval that is correlated over large scales; can be combined with other uncertainty estimates to form a total uncertainty",
           "data_type": "int16",
           "dimensions": [
            "time",
            "lat",
            "lon"
           ],
           "fill_value": -32768,
           "long_name": "Uncertainty in alternative SST retrieval from errors likely to be correlated over large scales",
           "references": "http://www.esa-sst-cci.org",
           "scale_factor": 0.001,
           "size": 25920000,
           "units": "kelvin",
           "valid_max": 5000,
           "valid_min": 0
          },
          "dims": [
           "time",
           "lat",
           "lon"
          ],
          "dtype": "int16",
          "name": "uncertainty_systematic_alt",
          "ndim": 3
         },
         {
          "attrs": {
           "add_offset": 0,
           "chunk_sizes": [
            1,
            90,
            180
           ],
           "comment": "Sensitivity of the retrieval to actual changes in sea surface temperature",
           "data_type": "int16",
           "dimensions": [
            "time",
            "lat",
            "lon"
           ],
           "fill_value": -32768,
           "long_name": "Sensitivity of the retrieval to actual changes in sea surface temperature",
           "scale_factor": 0.001,
           "size": 25920000,
           "units": "K/K",
           "valid_max": 1100,
           "valid_min": 0
          },
          "dims": [
           "time",
           "lat",
           "lon"
          ],
          "dtype": "int16",
          "name": "sst_sensitivity",
          "ndim": 3
         },
         {
          "attrs": {
           "add_offset": 0,
           "chunk_sizes": [
            1,
            90,
            180
           ],
           "comment": "If not applied, fill with zeros to indicate independence from in situ",
           "data_type": "int16",
           "dimensions": [
            "time",
            "lat",
            "lon"
           ],
           "fill_value": -32768,
           "long_name": "Adjustment, based on comparison to in situ data",
           "scale_factor": 0.01,
           "size": 25920000,
           "units": "kelvin",
           "valid_max": 1000,
           "valid_min": -1000
          },
          "dims": [
           "time",
           "lat",
           "lon"
          ],
          "dtype": "int16",
          "name": "empirical_adjustment",
          "ndim": 3
         }
        ],
        "dims": {
         "bnds": 2,
         "lat": 3600,
         "lon": 7200,
         "time": 1
        },
        "open_params_schema": {
         "additionalProperties": false,
         "properties": {
          "bbox": {
           "items": [
            {
             "maximum": 180,
             "minimum": -180,
             "type": "number"
            },
            {
             "maximum": 90,
             "minimum": -90,
             "type": "number"
            },
            {
             "maximum": 180,
             "minimum": -180,
             "type": "number"
            },
            {
             "maximum": 90,
             "minimum": -90,
             "type": "number"
            }
           ],
           "type": "array"
          },
          "crs": {
           "const": "WGS84",
           "type": "string"
          },
          "spatial_res": {
           "const": 0.05,
           "type": "number"
          },
          "time_period": {
           "const": "1D",
           "type": "string"
          },
          "time_range": {
           "items": [
            {
             "format": "date",
             "maxDate": "2016-12-31",
             "minDate": "1981-08-23",
             "type": "string"
            },
            {
             "format": "date",
             "maxDate": "2016-12-31",
             "minDate": "1981-08-23",
             "type": "string"
            }
           ],
           "type": "array"
          },
          "variable_names": {
           "items": {
            "enum": [
             "sea_surface_temperature",
             "sea_surface_temperature_depth",
             "sea_surface_temperature_depth_anomaly",
             "sst_dtime",
             "sst_depth_dtime",
             "sses_bias",
             "sses_standard_deviation",
             "sea_surface_temperature_total_uncertainty",
             "sea_surface_temperature_depth_total_uncertainty",
             "depth_adjustment",
             "adjustment_alt",
             "l2p_flags",
             "quality_level",
             "wind_speed",
             "sea_surface_temperature_retrieval_type",
             "alt_sst_retrieval_type",
             "uncertainty_random",
             "uncertainty_correlated",
             "uncertainty_systematic",
             "uncertainty_correlated_time_and_depth_adjustment",
             "uncertainty_random_alt",
             "uncertainty_correlated_alt",
             "uncertainty_systematic_alt",
             "sst_sensitivity",
             "empirical_adjustment"
            ],
            "type": "string"
           },
           "type": "array"
          }
         },
         "type": "object"
        },
        "spatial_res": 0.05,
        "time_period": "1D",
        "time_range": [
         "1981-08-23",
         "2016-12-31"
        ],
        "type_specifier": "dataset"
       },
       {
        "attrs": {
         "abstract": "This v2.1 SST_cci Advanced Very High Resolution Radiometer (AVHRR) Level 3 Collated (L3C) Climate Data Record (CDR) consists of stable, low-bias sea surface temperature (SST) data from the AVHRR series of satellite instruments.  It covers the period between 08/1981 and 12/2016.  This L3C product provides these SST data on a 0.05 regular latitude-longitude grid and collated to include all orbits for a day (separated into daytime and nighttime files).\n\nThe dataset has been produced as part of the European Space Agency (ESA) Climate Change Initiative Sea Surface Temperature project(ESA SST_cci). The data products from SST_cci accurately map the surface temperature of the global oceans over the period 1981 to 2016 using observations from many satellites. The data provide independently quantified SSTs to a quality suitable for climate research.\n\nThis CDR Version 2.1 product supercedes the CDR Version 2.0 product.  Data are made freely and openly available under a Creative Commons License by Attribution (CC By 4.0) https://creativecommons.org/licenses/by/4.0/ .\n\nWhen citing this dataset please also cite the associated data paper: Merchant, C.J., Embury, O., Bulgin, C.E., Block T., Corlett, G.K., Fiedler, E., Good, S.A., Mittaz, J., Rayner, N.A., Berry, D., Eastwood, S., Taylor, M., Tsushima, Y., Waterfall, A., Wilson, R., Donlon, C. Satellite-based time-series of sea-surface temperature since 1981 for climate applications, Scientific Data 6:223 (2019). http://doi.org/10.1038/s41597-019-0236-x",
         "bbox_maxx": "180.0",
         "bbox_maxy": "90.0",
         "bbox_minx": "-180.0",
         "bbox_miny": "-90.0",
         "cci_project": "SST",
         "creation_date": "2019-08-02T20:01:15",
         "data_type": "SSTskin",
         "drs_ids": [
          "esacci.SST.day.L3C.SSTskin.AVHRR-3.NOAA-15.AVHRR15_G.2-1.day",
          "esacci.SST.day.L3C.SSTskin.AVHRR-3.NOAA-15.AVHRR15_G.2-1.night",
          "esacci.SST.day.L3C.SSTskin.AVHRR-3.Metop-A.AVHRRMTA_G.2-1.day",
          "esacci.SST.day.L3C.SSTskin.AVHRR-3.Metop-A.AVHRRMTA_G.2-1.night",
          "esacci.SST.day.L3C.SSTskin.AVHRR-3.NOAA-19.AVHRR19_G.2-1.day",
          "esacci.SST.day.L3C.SSTskin.AVHRR-3.NOAA-19.AVHRR19_G.2-1.night",
          "esacci.SST.day.L3C.SSTskin.AVHRR-3.NOAA-17.AVHRR17_G.2-1.day",
          "esacci.SST.day.L3C.SSTskin.AVHRR-3.NOAA-17.AVHRR17_G.2-1.night",
          "esacci.SST.day.L3C.SSTskin.AVHRR-2.NOAA-12.AVHRR12_G.2-1.day",
          "esacci.SST.day.L3C.SSTskin.AVHRR-2.NOAA-12.AVHRR12_G.2-1.night",
          "esacci.SST.day.L3C.SSTskin.AVHRR-2.NOAA-11.AVHRR11_G.2-1.day",
          "esacci.SST.day.L3C.SSTskin.AVHRR-2.NOAA-11.AVHRR11_G.2-1.night",
          "esacci.SST.day.L3C.SSTskin.AVHRR-2.NOAA-14.AVHRR14_G.2-1.day",
          "esacci.SST.day.L3C.SSTskin.AVHRR-2.NOAA-14.AVHRR14_G.2-1.night",
          "esacci.SST.day.L3C.SSTskin.AVHRR-3.NOAA-18.AVHRR18_G.2-1.day",
          "esacci.SST.day.L3C.SSTskin.AVHRR-3.NOAA-18.AVHRR18_G.2-1.night",
          "esacci.SST.day.L3C.SSTskin.AVHRR-2.NOAA-9.AVHRR09_G.2-1.day",
          "esacci.SST.day.L3C.SSTskin.AVHRR-2.NOAA-9.AVHRR09_G.2-1.night",
          "esacci.SST.day.L3C.SSTskin.AVHRR-3.NOAA-16.AVHRR16_G.2-1.day",
          "esacci.SST.day.L3C.SSTskin.AVHRR-3.NOAA-16.AVHRR16_G.2-1.night",
          "esacci.SST.day.L3C.SSTskin.AVHRR-2.NOAA-7.AVHRR07_G.2-1.day",
          "esacci.SST.day.L3C.SSTskin.AVHRR-2.NOAA-7.AVHRR07_G.2-1.night"
         ],
         "ecv": "SST",
         "fid": "7db4459605da4665b6ab9a7102fb4875",
         "file_formats": [
          ".nc",
          ".txt"
         ],
         "institute": "ESACCI_SST",
         "licences": "Use of these data is covered by the following licence: https://artefacts.ceda.ac.uk/licences/specific_licences/esacci_sst_terms_and_conditions_v2.pdf . When using these data you must cite them correctly using the citation given on the CEDA Data Catalogue record.",
         "metadata_url": "https://catalogue.ceda.ac.uk/export/xml/7db4459605da4665b6ab9a7102fb4875.xml",
         "odd_url": "http://archive.opensearch.ceda.ac.uk/opensearch/description.xml?parentIdentifier=7db4459605da4665b6ab9a7102fb4875",
         "platform_id": "NOAA-16",
         "processing_level": "L3C",
         "product_string": "AVHRR16_G",
         "product_version": "2-1",
         "publication_date": "2019-08-02T20:01:15",
         "sensor_id": "AVHRR-3",
         "temporal_coverage_end": "2016-12-31T23:59:59",
         "temporal_coverage_start": "1981-08-23T23:00:00",
         "time_frequency": "day",
         "title": "ESA Sea Surface Temperature Climate Change Initiative (SST_cci): Advanced Very High Resolution Radiometer (AVHRR) Level 3 Collated (L3C) Climate Data Record, version 2.1",
         "uuid": "7db4459605da4665b6ab9a7102fb4875"
        },
        "bbox": [
         -180,
         -90,
         180,
         90
        ],
        "data_id": "esacci.SST.day.L3C.SSTskin.AVHRR-3.NOAA-16.AVHRR16_G.2-1.day",
        "data_vars": [
         {
          "attrs": {
           "add_offset": 273.15,
           "chunk_sizes": [
            1,
            90,
            180
           ],
           "comment": "Temperature of the skin of the ocean; total uncertainty = sqrt(uncertainty_systematic^2+uncertainty_correlated^2+uncertainty_random^2)",
           "data_type": "int16",
           "depth": "10 micrometres",
           "dimensions": [
            "time",
            "lat",
            "lon"
           ],
           "fill_value": -32768,
           "long_name": "sea surface skin temperature",
           "references": "http://www.esa-sst-cci.org",
           "scale_factor": 0.01,
           "size": 25920000,
           "source": "AVHRR07_G-ESACCI-L1C-v1",
           "standard_name": "sea_surface_skin_temperature",
           "units": "kelvin",
           "valid_max": 5000,
           "valid_min": -200
          },
          "dims": [
           "time",
           "lat",
           "lon"
          ],
          "dtype": "int16",
          "name": "sea_surface_temperature",
          "ndim": 3
         },
         {
          "attrs": {
           "add_offset": 273.15,
           "chunk_sizes": [
            1,
            90,
            180
           ],
           "comment": "Temperature of the ocean at 20 cm depth; total uncertainty = sqrt(uncertainty_systematic^2+uncertainty_correlated^2+uncertainty_random^2+uncertainty_correlated_time_and_depth_adjustment^2)",
           "data_type": "int16",
           "depth": "0.2 metre",
           "dimensions": [
            "time",
            "lat",
            "lon"
           ],
           "fill_value": -32768,
           "long_name": "sea surface temperature at 0.2 m",
           "references": "http://www.esa-sst-cci.org",
           "scale_factor": 0.01,
           "size": 25920000,
           "source": "AVHRR07_G-ESACCI-L1C-v1",
           "standard_name": "sea_water_temperature",
           "units": "kelvin",
           "valid_max": 5000,
           "valid_min": -200
          },
          "dims": [
           "time",
           "lat",
           "lon"
          ],
          "dtype": "int16",
          "name": "sea_surface_temperature_depth",
          "ndim": 3
         },
         {
          "attrs": {
           "add_offset": 0,
           "chunk_sizes": [
            1,
            90,
            180
           ],
           "comment": "Temperature of the ocean at 20 cm depth; total uncertainty = sqrt(uncertainty_systematic^2+uncertainty_correlated^2+uncertainty_random^2+uncertainty_correlated_time_and_depth_adjustment^2)",
           "data_type": "int16",
           "depth": "0.2 metre",
           "dimensions": [
            "time",
            "lat",
            "lon"
           ],
           "fill_value": -32768,
           "long_name": "sea surface temperature anomaly at 0.2 m",
           "references": "http://www.esa-sst-cci.org",
           "scale_factor": 0.01,
           "size": 25920000,
           "source": "AVHRR07_G-ESACCI-L1C-v1",
           "standard_name": "sea_water_temperature_anomaly",
           "units": "kelvin",
           "valid_max": 4000,
           "valid_min": -4000
          },
          "dims": [
           "time",
           "lat",
           "lon"
          ],
          "dtype": "int16",
          "name": "sea_surface_temperature_depth_anomaly",
          "ndim": 3
         },
         {
          "attrs": {
           "add_offset": 0,
           "chunk_sizes": [
            1,
            90,
            180
           ],
           "comment": "time plus sst_dtime gives seconds after 1981-01-01 00:00:00",
           "data_type": "int32",
           "dimensions": [
            "time",
            "lat",
            "lon"
           ],
           "fill_value": -2147483648,
           "long_name": "time difference from reference time",
           "scale_factor": 1,
           "size": 25920000,
           "units": "seconds",
           "valid_max": 43200,
           "valid_min": -43200
          },
          "dims": [
           "time",
           "lat",
           "lon"
          ],
          "dtype": "int32",
          "name": "sst_dtime",
          "ndim": 3
         },
         {
          "attrs": {
           "add_offset": 0,
           "chunk_sizes": [
            1,
            90,
            180
           ],
           "comment": "time plus sst_depth_dtime gives seconds after 1981-01-01 00:00:00",
           "data_type": "int32",
           "dimensions": [
            "time",
            "lat",
            "lon"
           ],
           "fill_value": -2147483648,
           "long_name": "time difference from reference time",
           "scale_factor": 1,
           "size": 25920000,
           "units": "seconds",
           "valid_max": 43200,
           "valid_min": -43200
          },
          "dims": [
           "time",
           "lat",
           "lon"
          ],
          "dtype": "int32",
          "name": "sst_depth_dtime",
          "ndim": 3
         },
         {
          "attrs": {
           "_Unsigned": "false",
           "add_offset": 0,
           "chunk_sizes": [
            1,
            90,
            180
           ],
           "comment": "Populated with zeroes",
           "data_type": "uint8",
           "dimensions": [
            "time",
            "lat",
            "lon"
           ],
           "fill_value": -128,
           "long_name": "SSES bias estimate",
           "scale_factor": 0.01,
           "size": 25920000,
           "units": "kelvin",
           "valid_max": 127,
           "valid_min": -127
          },
          "dims": [
           "time",
           "lat",
           "lon"
          ],
          "dtype": "uint8",
          "name": "sses_bias",
          "ndim": 3
         },
         {
          "attrs": {
           "_Unsigned": "false",
           "add_offset": 1.27,
           "chunk_sizes": [
            1,
            90,
            180
           ],
           "comment": "Uncertainty information is contained in the variables uncertainty_systematic, uncertainty_correlated, and uncertainty_random",
           "data_type": "uint8",
           "dimensions": [
            "time",
            "lat",
            "lon"
           ],
           "fill_value": -128,
           "long_name": "SSES standard deviation",
           "scale_factor": 0.01,
           "size": 25920000,
           "units": "kelvin",
           "valid_max": 127,
           "valid_min": -127
          },
          "dims": [
           "time",
           "lat",
           "lon"
          ],
          "dtype": "uint8",
          "name": "sses_standard_deviation",
          "ndim": 3
         },
         {
          "attrs": {
           "add_offset": 0,
           "chunk_sizes": [
            1,
            90,
            180
           ],
           "comment": "Total uncertainty in each sea_surface_temperature data point",
           "data_type": "int16",
           "dimensions": [
            "time",
            "lat",
            "lon"
           ],
           "fill_value": -32768,
           "long_name": "Total uncertainty in sea_surface_temperature",
           "scale_factor": 0.001,
           "size": 25920000,
           "units": "kelvin",
           "valid_max": 5000,
           "valid_min": 0
          },
          "dims": [
           "time",
           "lat",
           "lon"
          ],
          "dtype": "int16",
          "name": "sea_surface_temperature_total_uncertainty",
          "ndim": 3
         },
         {
          "attrs": {
           "add_offset": 0,
           "chunk_sizes": [
            1,
            90,
            180
           ],
           "comment": "Total uncertainty in each sea_surface_temperature_depth data point",
           "data_type": "int16",
           "dimensions": [
            "time",
            "lat",
            "lon"
           ],
           "fill_value": -32768,
           "long_name": "Total uncertainty in sea_surface_temperature_depth",
           "scale_factor": 0.001,
           "size": 25920000,
           "units": "kelvin",
           "valid_max": 5000,
           "valid_min": 0
          },
          "dims": [
           "time",
           "lat",
           "lon"
          ],
          "dtype": "int16",
          "name": "sea_surface_temperature_depth_total_uncertainty",
          "ndim": 3
         },
         {
          "attrs": {
           "add_offset": 0,
           "chunk_sizes": [
            1,
            90,
            180
           ],
           "comment": "Add to sea_surface_temperature, if SST at 20cm at observation time is required",
           "data_type": "int16",
           "dimensions": [
            "time",
            "lat",
            "lon"
           ],
           "fill_value": -32768,
           "long_name": "Adjustment to sea surface temperature at 0.2 m",
           "scale_factor": 0.01,
           "size": 25920000,
           "units": "kelvin",
           "valid_max": 1000,
           "valid_min": -1000
          },
          "dims": [
           "time",
           "lat",
           "lon"
          ],
          "dtype": "int16",
          "name": "depth_adjustment",
          "ndim": 3
         },
         {
          "attrs": {
           "add_offset": 0,
           "chunk_sizes": [
            1,
            90,
            180
           ],
           "comment": "Add to sea_surface_temperature, if alternative SST retrieval is required",
           "data_type": "int16",
           "dimensions": [
            "time",
            "lat",
            "lon"
           ],
           "fill_value": -32768,
           "long_name": "Adjustment to alternative sea surface temperature retrieval",
           "scale_factor": 0.01,
           "size": 25920000,
           "units": "kelvin",
           "valid_max": 1000,
           "valid_min": -1000
          },
          "dims": [
           "time",
           "lat",
           "lon"
          ],
          "dtype": "int16",
          "name": "adjustment_alt",
          "ndim": 3
         },
         {
          "attrs": {
           "chunk_sizes": [
            1,
            90,
            180
           ],
           "comment": "These flags are important to properly use the data",
           "data_type": "int16",
           "dimensions": [
            "time",
            "lat",
            "lon"
           ],
           "fill_value": -32768,
           "flag_masks": [
            1,
            2,
            4,
            8,
            16,
            32,
            64,
            128,
            256
           ],
           "flag_meanings": "microwave land ice lake river spare views channels day",
           "long_name": "L2P flags",
           "size": 25920000,
           "valid_max": 511,
           "valid_min": 0
          },
          "dims": [
           "time",
           "lat",
           "lon"
          ],
          "dtype": "int16",
          "name": "l2p_flags",
          "ndim": 3
         },
         {
          "attrs": {
           "_Unsigned": "false",
           "chunk_sizes": [
            1,
            90,
            180
           ],
           "comment": "These are overall quality indicators and are used for all GHRSST SSTs",
           "data_type": "uint8",
           "dimensions": [
            "time",
            "lat",
            "lon"
           ],
           "fill_value": 0,
           "flag_meanings": "no_data bad_data worst_quality low_quality acceptable_quality best_quality",
           "flag_values": [
            0,
            1,
            2,
            3,
            4,
            5
           ],
           "long_name": "quality level of SST pixel",
           "size": 25920000,
           "valid_max": 5,
           "valid_min": 0
          },
          "dims": [
           "time",
           "lat",
           "lon"
          ],
          "dtype": "uint8",
          "name": "quality_level",
          "ndim": 3
         },
         {
          "attrs": {
           "_Unsigned": "false",
           "add_offset": 12.7,
           "chunk_sizes": [
            1,
            90,
            180
           ],
           "comment": "Wind speeds sourced from ECMWF ERA Interim Reanalysis; wind speeds greater than 25.4 m/s are set to 25.4.",
           "data_type": "uint8",
           "dimensions": [
            "time",
            "lat",
            "lon"
           ],
           "fill_value": -128,
           "height": "10 m",
           "long_name": "10m wind speed",
           "references": "http://www.esa-sst-cci.org",
           "scale_factor": 0.1,
           "size": 25920000,
           "source": "ERA_INTERIM-ECMWF-WSP-v1.0",
           "standard_name": "wind_speed",
           "time_offset": 0,
           "units": "m s-1",
           "valid_max": 127,
           "valid_min": -127
          },
          "dims": [
           "time",
           "lat",
           "lon"
          ],
          "dtype": "uint8",
          "name": "wind_speed",
          "ndim": 3
         },
         {
          "attrs": {
           "_Unsigned": "false",
           "chunk_sizes": [
            1,
            90,
            180
           ],
           "comment": "1. single view, two channel 2. single view, three channel 3. dual view, two channel 4. dual view, three channel 5. single view, 11 and 3.7 two channel",
           "data_type": "uint8",
           "dimensions": [
            "time",
            "lat",
            "lon"
           ],
           "fill_value": -128,
           "flag_meanings": "single_view_two_channel single_view_three_channel dual_view_two_channel dual_view_three_channel single_view_11_and_3.7_two_channel",
           "flag_values": [
            1,
            2,
            3,
            4,
            5
           ],
           "long_name": "Type of retrieval used for the primary SST",
           "size": 25920000,
           "valid_max": 5,
           "valid_min": 1
          },
          "dims": [
           "time",
           "lat",
           "lon"
          ],
          "dtype": "uint8",
          "name": "sea_surface_temperature_retrieval_type",
          "ndim": 3
         },
         {
          "attrs": {
           "_Unsigned": "false",
           "chunk_sizes": [
            1,
            90,
            180
           ],
           "comment": "For ATSRs, adjustment gives D2 (most consistent through time series) when D3 is provided as best. For AVHRRs, adjustment provides N2 when N3 is best. Reason for providing an alternative: can then use N2 or D2 consistently for whole record i",
           "data_type": "uint8",
           "dimensions": [
            "time",
            "lat",
            "lon"
           ],
           "fill_value": -128,
           "flag_meanings": "single_view_two_channel single_view_three_channel dual_view_two_channel dual_view_three_channel single_view_11_and_3.7_two_channel",
           "flag_values": [
            1,
            2,
            3,
            4,
            5
           ],
           "long_name": "Type of retrieval used for the alternate SST retrieval",
           "size": 25920000,
           "valid_max": 5,
           "valid_min": 1
          },
          "dims": [
           "time",
           "lat",
           "lon"
          ],
          "dtype": "uint8",
          "name": "alt_sst_retrieval_type",
          "ndim": 3
         },
         {
          "attrs": {
           "add_offset": 0,
           "chunk_sizes": [
            1,
            90,
            180
           ],
           "comment": "Component of uncertainty that is uncorrelated between SSTs; can be combined with other uncertainty estimates to form a total uncertainty",
           "data_type": "int16",
           "dimensions": [
            "time",
            "lat",
            "lon"
           ],
           "fill_value": -32768,
           "long_name": "Uncertainty from errors likely to be uncorrelated between SSTs",
           "references": "http://www.esa-sst-cci.org",
           "scale_factor": 0.001,
           "size": 25920000,
           "units": "kelvin",
           "valid_max": 5000,
           "valid_min": 0
          },
          "dims": [
           "time",
           "lat",
           "lon"
          ],
          "dtype": "int16",
          "name": "uncertainty_random",
          "ndim": 3
         },
         {
          "attrs": {
           "add_offset": 0,
           "chunk_sizes": [
            1,
            90,
            180
           ],
           "comment": "Component of uncertainty that is correlated over synoptic scales; can be combined with other uncertainty estimates to form a total uncertainty",
           "correlation_length_scale": "100 km",
           "correlation_time_scale": "1 day",
           "data_type": "int16",
           "dimensions": [
            "time",
            "lat",
            "lon"
           ],
           "fill_value": -32768,
           "long_name": "Uncertainty from errors likely to be correlated over synoptic scales",
           "references": "http://www.esa-sst-cci.org",
           "scale_factor": 0.001,
           "size": 25920000,
           "units": "kelvin",
           "valid_max": 5000,
           "valid_min": 0
          },
          "dims": [
           "time",
           "lat",
           "lon"
          ],
          "dtype": "int16",
          "name": "uncertainty_correlated",
          "ndim": 3
         },
         {
          "attrs": {
           "add_offset": 0,
           "chunk_sizes": [
            1,
            90,
            180
           ],
           "comment": "Component of uncertainty that is correlated over large scales; can be combined with other uncertainty estimates to form a total uncertainty",
           "data_type": "int16",
           "dimensions": [
            "time",
            "lat",
            "lon"
           ],
           "fill_value": -32768,
           "long_name": "Uncertainty from errors likely to be correlated over large scales",
           "references": "http://www.esa-sst-cci.org",
           "scale_factor": 0.001,
           "size": 25920000,
           "units": "kelvin",
           "valid_max": 5000,
           "valid_min": 0
          },
          "dims": [
           "time",
           "lat",
           "lon"
          ],
          "dtype": "int16",
          "name": "uncertainty_systematic",
          "ndim": 3
         },
         {
          "attrs": {
           "add_offset": 0,
           "chunk_sizes": [
            1,
            90,
            180
           ],
           "comment": "Adjustment uncertainty; can be combined with other uncertainty estimates to form a total uncertainty",
           "correlation_length_scale": "100 km",
           "correlation_time_scale": "1 day",
           "data_type": "int16",
           "dimensions": [
            "time",
            "lat",
            "lon"
           ],
           "fill_value": -32768,
           "long_name": "Time and depth adjustment uncertainty",
           "references": "http://www.esa-sst-cci.org",
           "scale_factor": 0.001,
           "size": 25920000,
           "units": "kelvin",
           "valid_max": 5000,
           "valid_min": 0
          },
          "dims": [
           "time",
           "lat",
           "lon"
          ],
          "dtype": "int16",
          "name": "uncertainty_correlated_time_and_depth_adjustment",
          "ndim": 3
         },
         {
          "attrs": {
           "add_offset": 0,
           "chunk_sizes": [
            1,
            90,
            180
           ],
           "comment": "Component of uncertainty in alternative SST retrieval that is uncorrelated between SSTs; can be combined with other uncertainty estimates to form a total uncertainty",
           "data_type": "int16",
           "dimensions": [
            "time",
            "lat",
            "lon"
           ],
           "fill_value": -32768,
           "long_name": "Uncertainty in alternative SST retrieval from errors likely to be uncorrelated between SSTs",
           "references": "http://www.esa-sst-cci.org",
           "scale_factor": 0.001,
           "size": 25920000,
           "units": "kelvin",
           "valid_max": 5000,
           "valid_min": 0
          },
          "dims": [
           "time",
           "lat",
           "lon"
          ],
          "dtype": "int16",
          "name": "uncertainty_random_alt",
          "ndim": 3
         },
         {
          "attrs": {
           "add_offset": 0,
           "chunk_sizes": [
            1,
            90,
            180
           ],
           "comment": "Component of uncertainty in alternative SST retrieval that is correlated over synoptic scales; can be combined with other uncertainty estimates to form a total uncertainty",
           "correlation_length_scale": "100 km",
           "correlation_time_scale": "1 day",
           "data_type": "int16",
           "dimensions": [
            "time",
            "lat",
            "lon"
           ],
           "fill_value": -32768,
           "long_name": "Uncertainty in alternative SST retrieval from errors likely to be correlated over synoptic scales",
           "references": "http://www.esa-sst-cci.org",
           "scale_factor": 0.001,
           "size": 25920000,
           "units": "kelvin",
           "valid_max": 5000,
           "valid_min": 0
          },
          "dims": [
           "time",
           "lat",
           "lon"
          ],
          "dtype": "int16",
          "name": "uncertainty_correlated_alt",
          "ndim": 3
         },
         {
          "attrs": {
           "add_offset": 0,
           "chunk_sizes": [
            1,
            90,
            180
           ],
           "comment": "Component of uncertainty in alternative SST retrieval that is correlated over large scales; can be combined with other uncertainty estimates to form a total uncertainty",
           "data_type": "int16",
           "dimensions": [
            "time",
            "lat",
            "lon"
           ],
           "fill_value": -32768,
           "long_name": "Uncertainty in alternative SST retrieval from errors likely to be correlated over large scales",
           "references": "http://www.esa-sst-cci.org",
           "scale_factor": 0.001,
           "size": 25920000,
           "units": "kelvin",
           "valid_max": 5000,
           "valid_min": 0
          },
          "dims": [
           "time",
           "lat",
           "lon"
          ],
          "dtype": "int16",
          "name": "uncertainty_systematic_alt",
          "ndim": 3
         },
         {
          "attrs": {
           "add_offset": 0,
           "chunk_sizes": [
            1,
            90,
            180
           ],
           "comment": "Sensitivity of the retrieval to actual changes in sea surface temperature",
           "data_type": "int16",
           "dimensions": [
            "time",
            "lat",
            "lon"
           ],
           "fill_value": -32768,
           "long_name": "Sensitivity of the retrieval to actual changes in sea surface temperature",
           "scale_factor": 0.001,
           "size": 25920000,
           "units": "K/K",
           "valid_max": 1100,
           "valid_min": 0
          },
          "dims": [
           "time",
           "lat",
           "lon"
          ],
          "dtype": "int16",
          "name": "sst_sensitivity",
          "ndim": 3
         },
         {
          "attrs": {
           "add_offset": 0,
           "chunk_sizes": [
            1,
            90,
            180
           ],
           "comment": "If not applied, fill with zeros to indicate independence from in situ",
           "data_type": "int16",
           "dimensions": [
            "time",
            "lat",
            "lon"
           ],
           "fill_value": -32768,
           "long_name": "Adjustment, based on comparison to in situ data",
           "scale_factor": 0.01,
           "size": 25920000,
           "units": "kelvin",
           "valid_max": 1000,
           "valid_min": -1000
          },
          "dims": [
           "time",
           "lat",
           "lon"
          ],
          "dtype": "int16",
          "name": "empirical_adjustment",
          "ndim": 3
         }
        ],
        "dims": {
         "bnds": 2,
         "lat": 3600,
         "lon": 7200,
         "time": 1
        },
        "open_params_schema": {
         "additionalProperties": false,
         "properties": {
          "bbox": {
           "items": [
            {
             "maximum": 180,
             "minimum": -180,
             "type": "number"
            },
            {
             "maximum": 90,
             "minimum": -90,
             "type": "number"
            },
            {
             "maximum": 180,
             "minimum": -180,
             "type": "number"
            },
            {
             "maximum": 90,
             "minimum": -90,
             "type": "number"
            }
           ],
           "type": "array"
          },
          "crs": {
           "const": "WGS84",
           "type": "string"
          },
          "spatial_res": {
           "const": 0.05,
           "type": "number"
          },
          "time_period": {
           "const": "1D",
           "type": "string"
          },
          "time_range": {
           "items": [
            {
             "format": "date",
             "maxDate": "2016-12-31",
             "minDate": "1981-08-23",
             "type": "string"
            },
            {
             "format": "date",
             "maxDate": "2016-12-31",
             "minDate": "1981-08-23",
             "type": "string"
            }
           ],
           "type": "array"
          },
          "variable_names": {
           "items": {
            "enum": [
             "sea_surface_temperature",
             "sea_surface_temperature_depth",
             "sea_surface_temperature_depth_anomaly",
             "sst_dtime",
             "sst_depth_dtime",
             "sses_bias",
             "sses_standard_deviation",
             "sea_surface_temperature_total_uncertainty",
             "sea_surface_temperature_depth_total_uncertainty",
             "depth_adjustment",
             "adjustment_alt",
             "l2p_flags",
             "quality_level",
             "wind_speed",
             "sea_surface_temperature_retrieval_type",
             "alt_sst_retrieval_type",
             "uncertainty_random",
             "uncertainty_correlated",
             "uncertainty_systematic",
             "uncertainty_correlated_time_and_depth_adjustment",
             "uncertainty_random_alt",
             "uncertainty_correlated_alt",
             "uncertainty_systematic_alt",
             "sst_sensitivity",
             "empirical_adjustment"
            ],
            "type": "string"
           },
           "type": "array"
          }
         },
         "type": "object"
        },
        "spatial_res": 0.05,
        "time_period": "1D",
        "time_range": [
         "1981-08-23",
         "2016-12-31"
        ],
        "type_specifier": "dataset"
       },
       {
        "attrs": {
         "abstract": "This v2.1 SST_cci Advanced Very High Resolution Radiometer (AVHRR) Level 3 Collated (L3C) Climate Data Record (CDR) consists of stable, low-bias sea surface temperature (SST) data from the AVHRR series of satellite instruments.  It covers the period between 08/1981 and 12/2016.  This L3C product provides these SST data on a 0.05 regular latitude-longitude grid and collated to include all orbits for a day (separated into daytime and nighttime files).\n\nThe dataset has been produced as part of the European Space Agency (ESA) Climate Change Initiative Sea Surface Temperature project(ESA SST_cci). The data products from SST_cci accurately map the surface temperature of the global oceans over the period 1981 to 2016 using observations from many satellites. The data provide independently quantified SSTs to a quality suitable for climate research.\n\nThis CDR Version 2.1 product supercedes the CDR Version 2.0 product.  Data are made freely and openly available under a Creative Commons License by Attribution (CC By 4.0) https://creativecommons.org/licenses/by/4.0/ .\n\nWhen citing this dataset please also cite the associated data paper: Merchant, C.J., Embury, O., Bulgin, C.E., Block T., Corlett, G.K., Fiedler, E., Good, S.A., Mittaz, J., Rayner, N.A., Berry, D., Eastwood, S., Taylor, M., Tsushima, Y., Waterfall, A., Wilson, R., Donlon, C. Satellite-based time-series of sea-surface temperature since 1981 for climate applications, Scientific Data 6:223 (2019). http://doi.org/10.1038/s41597-019-0236-x",
         "bbox_maxx": "180.0",
         "bbox_maxy": "90.0",
         "bbox_minx": "-180.0",
         "bbox_miny": "-90.0",
         "cci_project": "SST",
         "creation_date": "2019-08-02T20:01:15",
         "data_type": "SSTskin",
         "drs_ids": [
          "esacci.SST.day.L3C.SSTskin.AVHRR-3.NOAA-15.AVHRR15_G.2-1.day",
          "esacci.SST.day.L3C.SSTskin.AVHRR-3.NOAA-15.AVHRR15_G.2-1.night",
          "esacci.SST.day.L3C.SSTskin.AVHRR-3.Metop-A.AVHRRMTA_G.2-1.day",
          "esacci.SST.day.L3C.SSTskin.AVHRR-3.Metop-A.AVHRRMTA_G.2-1.night",
          "esacci.SST.day.L3C.SSTskin.AVHRR-3.NOAA-19.AVHRR19_G.2-1.day",
          "esacci.SST.day.L3C.SSTskin.AVHRR-3.NOAA-19.AVHRR19_G.2-1.night",
          "esacci.SST.day.L3C.SSTskin.AVHRR-3.NOAA-17.AVHRR17_G.2-1.day",
          "esacci.SST.day.L3C.SSTskin.AVHRR-3.NOAA-17.AVHRR17_G.2-1.night",
          "esacci.SST.day.L3C.SSTskin.AVHRR-2.NOAA-12.AVHRR12_G.2-1.day",
          "esacci.SST.day.L3C.SSTskin.AVHRR-2.NOAA-12.AVHRR12_G.2-1.night",
          "esacci.SST.day.L3C.SSTskin.AVHRR-2.NOAA-11.AVHRR11_G.2-1.day",
          "esacci.SST.day.L3C.SSTskin.AVHRR-2.NOAA-11.AVHRR11_G.2-1.night",
          "esacci.SST.day.L3C.SSTskin.AVHRR-2.NOAA-14.AVHRR14_G.2-1.day",
          "esacci.SST.day.L3C.SSTskin.AVHRR-2.NOAA-14.AVHRR14_G.2-1.night",
          "esacci.SST.day.L3C.SSTskin.AVHRR-3.NOAA-18.AVHRR18_G.2-1.day",
          "esacci.SST.day.L3C.SSTskin.AVHRR-3.NOAA-18.AVHRR18_G.2-1.night",
          "esacci.SST.day.L3C.SSTskin.AVHRR-2.NOAA-9.AVHRR09_G.2-1.day",
          "esacci.SST.day.L3C.SSTskin.AVHRR-2.NOAA-9.AVHRR09_G.2-1.night",
          "esacci.SST.day.L3C.SSTskin.AVHRR-3.NOAA-16.AVHRR16_G.2-1.day",
          "esacci.SST.day.L3C.SSTskin.AVHRR-3.NOAA-16.AVHRR16_G.2-1.night",
          "esacci.SST.day.L3C.SSTskin.AVHRR-2.NOAA-7.AVHRR07_G.2-1.day",
          "esacci.SST.day.L3C.SSTskin.AVHRR-2.NOAA-7.AVHRR07_G.2-1.night"
         ],
         "ecv": "SST",
         "fid": "7db4459605da4665b6ab9a7102fb4875",
         "file_formats": [
          ".nc",
          ".txt"
         ],
         "institute": "ESACCI_SST",
         "licences": "Use of these data is covered by the following licence: https://artefacts.ceda.ac.uk/licences/specific_licences/esacci_sst_terms_and_conditions_v2.pdf . When using these data you must cite them correctly using the citation given on the CEDA Data Catalogue record.",
         "metadata_url": "https://catalogue.ceda.ac.uk/export/xml/7db4459605da4665b6ab9a7102fb4875.xml",
         "odd_url": "http://archive.opensearch.ceda.ac.uk/opensearch/description.xml?parentIdentifier=7db4459605da4665b6ab9a7102fb4875",
         "platform_id": "NOAA-16",
         "processing_level": "L3C",
         "product_string": "AVHRR16_G",
         "product_version": "2-1",
         "publication_date": "2019-08-02T20:01:15",
         "sensor_id": "AVHRR-3",
         "temporal_coverage_end": "2016-12-31T23:59:59",
         "temporal_coverage_start": "1981-08-23T23:00:00",
         "time_frequency": "day",
         "title": "ESA Sea Surface Temperature Climate Change Initiative (SST_cci): Advanced Very High Resolution Radiometer (AVHRR) Level 3 Collated (L3C) Climate Data Record, version 2.1",
         "uuid": "7db4459605da4665b6ab9a7102fb4875"
        },
        "bbox": [
         -180,
         -90,
         180,
         90
        ],
        "data_id": "esacci.SST.day.L3C.SSTskin.AVHRR-3.NOAA-16.AVHRR16_G.2-1.night",
        "data_vars": [
         {
          "attrs": {
           "add_offset": 273.15,
           "chunk_sizes": [
            1,
            90,
            180
           ],
           "comment": "Temperature of the skin of the ocean; total uncertainty = sqrt(uncertainty_systematic^2+uncertainty_correlated^2+uncertainty_random^2)",
           "data_type": "int16",
           "depth": "10 micrometres",
           "dimensions": [
            "time",
            "lat",
            "lon"
           ],
           "fill_value": -32768,
           "long_name": "sea surface skin temperature",
           "references": "http://www.esa-sst-cci.org",
           "scale_factor": 0.01,
           "size": 25920000,
           "source": "AVHRR07_G-ESACCI-L1C-v1",
           "standard_name": "sea_surface_skin_temperature",
           "units": "kelvin",
           "valid_max": 5000,
           "valid_min": -200
          },
          "dims": [
           "time",
           "lat",
           "lon"
          ],
          "dtype": "int16",
          "name": "sea_surface_temperature",
          "ndim": 3
         },
         {
          "attrs": {
           "add_offset": 273.15,
           "chunk_sizes": [
            1,
            90,
            180
           ],
           "comment": "Temperature of the ocean at 20 cm depth; total uncertainty = sqrt(uncertainty_systematic^2+uncertainty_correlated^2+uncertainty_random^2+uncertainty_correlated_time_and_depth_adjustment^2)",
           "data_type": "int16",
           "depth": "0.2 metre",
           "dimensions": [
            "time",
            "lat",
            "lon"
           ],
           "fill_value": -32768,
           "long_name": "sea surface temperature at 0.2 m",
           "references": "http://www.esa-sst-cci.org",
           "scale_factor": 0.01,
           "size": 25920000,
           "source": "AVHRR07_G-ESACCI-L1C-v1",
           "standard_name": "sea_water_temperature",
           "units": "kelvin",
           "valid_max": 5000,
           "valid_min": -200
          },
          "dims": [
           "time",
           "lat",
           "lon"
          ],
          "dtype": "int16",
          "name": "sea_surface_temperature_depth",
          "ndim": 3
         },
         {
          "attrs": {
           "add_offset": 0,
           "chunk_sizes": [
            1,
            90,
            180
           ],
           "comment": "Temperature of the ocean at 20 cm depth; total uncertainty = sqrt(uncertainty_systematic^2+uncertainty_correlated^2+uncertainty_random^2+uncertainty_correlated_time_and_depth_adjustment^2)",
           "data_type": "int16",
           "depth": "0.2 metre",
           "dimensions": [
            "time",
            "lat",
            "lon"
           ],
           "fill_value": -32768,
           "long_name": "sea surface temperature anomaly at 0.2 m",
           "references": "http://www.esa-sst-cci.org",
           "scale_factor": 0.01,
           "size": 25920000,
           "source": "AVHRR07_G-ESACCI-L1C-v1",
           "standard_name": "sea_water_temperature_anomaly",
           "units": "kelvin",
           "valid_max": 4000,
           "valid_min": -4000
          },
          "dims": [
           "time",
           "lat",
           "lon"
          ],
          "dtype": "int16",
          "name": "sea_surface_temperature_depth_anomaly",
          "ndim": 3
         },
         {
          "attrs": {
           "add_offset": 0,
           "chunk_sizes": [
            1,
            90,
            180
           ],
           "comment": "time plus sst_dtime gives seconds after 1981-01-01 00:00:00",
           "data_type": "int32",
           "dimensions": [
            "time",
            "lat",
            "lon"
           ],
           "fill_value": -2147483648,
           "long_name": "time difference from reference time",
           "scale_factor": 1,
           "size": 25920000,
           "units": "seconds",
           "valid_max": 43200,
           "valid_min": -43200
          },
          "dims": [
           "time",
           "lat",
           "lon"
          ],
          "dtype": "int32",
          "name": "sst_dtime",
          "ndim": 3
         },
         {
          "attrs": {
           "add_offset": 0,
           "chunk_sizes": [
            1,
            90,
            180
           ],
           "comment": "time plus sst_depth_dtime gives seconds after 1981-01-01 00:00:00",
           "data_type": "int32",
           "dimensions": [
            "time",
            "lat",
            "lon"
           ],
           "fill_value": -2147483648,
           "long_name": "time difference from reference time",
           "scale_factor": 1,
           "size": 25920000,
           "units": "seconds",
           "valid_max": 43200,
           "valid_min": -43200
          },
          "dims": [
           "time",
           "lat",
           "lon"
          ],
          "dtype": "int32",
          "name": "sst_depth_dtime",
          "ndim": 3
         },
         {
          "attrs": {
           "_Unsigned": "false",
           "add_offset": 0,
           "chunk_sizes": [
            1,
            90,
            180
           ],
           "comment": "Populated with zeroes",
           "data_type": "uint8",
           "dimensions": [
            "time",
            "lat",
            "lon"
           ],
           "fill_value": -128,
           "long_name": "SSES bias estimate",
           "scale_factor": 0.01,
           "size": 25920000,
           "units": "kelvin",
           "valid_max": 127,
           "valid_min": -127
          },
          "dims": [
           "time",
           "lat",
           "lon"
          ],
          "dtype": "uint8",
          "name": "sses_bias",
          "ndim": 3
         },
         {
          "attrs": {
           "_Unsigned": "false",
           "add_offset": 1.27,
           "chunk_sizes": [
            1,
            90,
            180
           ],
           "comment": "Uncertainty information is contained in the variables uncertainty_systematic, uncertainty_correlated, and uncertainty_random",
           "data_type": "uint8",
           "dimensions": [
            "time",
            "lat",
            "lon"
           ],
           "fill_value": -128,
           "long_name": "SSES standard deviation",
           "scale_factor": 0.01,
           "size": 25920000,
           "units": "kelvin",
           "valid_max": 127,
           "valid_min": -127
          },
          "dims": [
           "time",
           "lat",
           "lon"
          ],
          "dtype": "uint8",
          "name": "sses_standard_deviation",
          "ndim": 3
         },
         {
          "attrs": {
           "add_offset": 0,
           "chunk_sizes": [
            1,
            90,
            180
           ],
           "comment": "Total uncertainty in each sea_surface_temperature data point",
           "data_type": "int16",
           "dimensions": [
            "time",
            "lat",
            "lon"
           ],
           "fill_value": -32768,
           "long_name": "Total uncertainty in sea_surface_temperature",
           "scale_factor": 0.001,
           "size": 25920000,
           "units": "kelvin",
           "valid_max": 5000,
           "valid_min": 0
          },
          "dims": [
           "time",
           "lat",
           "lon"
          ],
          "dtype": "int16",
          "name": "sea_surface_temperature_total_uncertainty",
          "ndim": 3
         },
         {
          "attrs": {
           "add_offset": 0,
           "chunk_sizes": [
            1,
            90,
            180
           ],
           "comment": "Total uncertainty in each sea_surface_temperature_depth data point",
           "data_type": "int16",
           "dimensions": [
            "time",
            "lat",
            "lon"
           ],
           "fill_value": -32768,
           "long_name": "Total uncertainty in sea_surface_temperature_depth",
           "scale_factor": 0.001,
           "size": 25920000,
           "units": "kelvin",
           "valid_max": 5000,
           "valid_min": 0
          },
          "dims": [
           "time",
           "lat",
           "lon"
          ],
          "dtype": "int16",
          "name": "sea_surface_temperature_depth_total_uncertainty",
          "ndim": 3
         },
         {
          "attrs": {
           "add_offset": 0,
           "chunk_sizes": [
            1,
            90,
            180
           ],
           "comment": "Add to sea_surface_temperature, if SST at 20cm at observation time is required",
           "data_type": "int16",
           "dimensions": [
            "time",
            "lat",
            "lon"
           ],
           "fill_value": -32768,
           "long_name": "Adjustment to sea surface temperature at 0.2 m",
           "scale_factor": 0.01,
           "size": 25920000,
           "units": "kelvin",
           "valid_max": 1000,
           "valid_min": -1000
          },
          "dims": [
           "time",
           "lat",
           "lon"
          ],
          "dtype": "int16",
          "name": "depth_adjustment",
          "ndim": 3
         },
         {
          "attrs": {
           "add_offset": 0,
           "chunk_sizes": [
            1,
            90,
            180
           ],
           "comment": "Add to sea_surface_temperature, if alternative SST retrieval is required",
           "data_type": "int16",
           "dimensions": [
            "time",
            "lat",
            "lon"
           ],
           "fill_value": -32768,
           "long_name": "Adjustment to alternative sea surface temperature retrieval",
           "scale_factor": 0.01,
           "size": 25920000,
           "units": "kelvin",
           "valid_max": 1000,
           "valid_min": -1000
          },
          "dims": [
           "time",
           "lat",
           "lon"
          ],
          "dtype": "int16",
          "name": "adjustment_alt",
          "ndim": 3
         },
         {
          "attrs": {
           "chunk_sizes": [
            1,
            90,
            180
           ],
           "comment": "These flags are important to properly use the data",
           "data_type": "int16",
           "dimensions": [
            "time",
            "lat",
            "lon"
           ],
           "fill_value": -32768,
           "flag_masks": [
            1,
            2,
            4,
            8,
            16,
            32,
            64,
            128,
            256
           ],
           "flag_meanings": "microwave land ice lake river spare views channels day",
           "long_name": "L2P flags",
           "size": 25920000,
           "valid_max": 511,
           "valid_min": 0
          },
          "dims": [
           "time",
           "lat",
           "lon"
          ],
          "dtype": "int16",
          "name": "l2p_flags",
          "ndim": 3
         },
         {
          "attrs": {
           "_Unsigned": "false",
           "chunk_sizes": [
            1,
            90,
            180
           ],
           "comment": "These are overall quality indicators and are used for all GHRSST SSTs",
           "data_type": "uint8",
           "dimensions": [
            "time",
            "lat",
            "lon"
           ],
           "fill_value": 0,
           "flag_meanings": "no_data bad_data worst_quality low_quality acceptable_quality best_quality",
           "flag_values": [
            0,
            1,
            2,
            3,
            4,
            5
           ],
           "long_name": "quality level of SST pixel",
           "size": 25920000,
           "valid_max": 5,
           "valid_min": 0
          },
          "dims": [
           "time",
           "lat",
           "lon"
          ],
          "dtype": "uint8",
          "name": "quality_level",
          "ndim": 3
         },
         {
          "attrs": {
           "_Unsigned": "false",
           "add_offset": 12.7,
           "chunk_sizes": [
            1,
            90,
            180
           ],
           "comment": "Wind speeds sourced from ECMWF ERA Interim Reanalysis; wind speeds greater than 25.4 m/s are set to 25.4.",
           "data_type": "uint8",
           "dimensions": [
            "time",
            "lat",
            "lon"
           ],
           "fill_value": -128,
           "height": "10 m",
           "long_name": "10m wind speed",
           "references": "http://www.esa-sst-cci.org",
           "scale_factor": 0.1,
           "size": 25920000,
           "source": "ERA_INTERIM-ECMWF-WSP-v1.0",
           "standard_name": "wind_speed",
           "time_offset": 0,
           "units": "m s-1",
           "valid_max": 127,
           "valid_min": -127
          },
          "dims": [
           "time",
           "lat",
           "lon"
          ],
          "dtype": "uint8",
          "name": "wind_speed",
          "ndim": 3
         },
         {
          "attrs": {
           "_Unsigned": "false",
           "chunk_sizes": [
            1,
            90,
            180
           ],
           "comment": "1. single view, two channel 2. single view, three channel 3. dual view, two channel 4. dual view, three channel 5. single view, 11 and 3.7 two channel",
           "data_type": "uint8",
           "dimensions": [
            "time",
            "lat",
            "lon"
           ],
           "fill_value": -128,
           "flag_meanings": "single_view_two_channel single_view_three_channel dual_view_two_channel dual_view_three_channel single_view_11_and_3.7_two_channel",
           "flag_values": [
            1,
            2,
            3,
            4,
            5
           ],
           "long_name": "Type of retrieval used for the primary SST",
           "size": 25920000,
           "valid_max": 5,
           "valid_min": 1
          },
          "dims": [
           "time",
           "lat",
           "lon"
          ],
          "dtype": "uint8",
          "name": "sea_surface_temperature_retrieval_type",
          "ndim": 3
         },
         {
          "attrs": {
           "_Unsigned": "false",
           "chunk_sizes": [
            1,
            90,
            180
           ],
           "comment": "For ATSRs, adjustment gives D2 (most consistent through time series) when D3 is provided as best. For AVHRRs, adjustment provides N2 when N3 is best. Reason for providing an alternative: can then use N2 or D2 consistently for whole record i",
           "data_type": "uint8",
           "dimensions": [
            "time",
            "lat",
            "lon"
           ],
           "fill_value": -128,
           "flag_meanings": "single_view_two_channel single_view_three_channel dual_view_two_channel dual_view_three_channel single_view_11_and_3.7_two_channel",
           "flag_values": [
            1,
            2,
            3,
            4,
            5
           ],
           "long_name": "Type of retrieval used for the alternate SST retrieval",
           "size": 25920000,
           "valid_max": 5,
           "valid_min": 1
          },
          "dims": [
           "time",
           "lat",
           "lon"
          ],
          "dtype": "uint8",
          "name": "alt_sst_retrieval_type",
          "ndim": 3
         },
         {
          "attrs": {
           "add_offset": 0,
           "chunk_sizes": [
            1,
            90,
            180
           ],
           "comment": "Component of uncertainty that is uncorrelated between SSTs; can be combined with other uncertainty estimates to form a total uncertainty",
           "data_type": "int16",
           "dimensions": [
            "time",
            "lat",
            "lon"
           ],
           "fill_value": -32768,
           "long_name": "Uncertainty from errors likely to be uncorrelated between SSTs",
           "references": "http://www.esa-sst-cci.org",
           "scale_factor": 0.001,
           "size": 25920000,
           "units": "kelvin",
           "valid_max": 5000,
           "valid_min": 0
          },
          "dims": [
           "time",
           "lat",
           "lon"
          ],
          "dtype": "int16",
          "name": "uncertainty_random",
          "ndim": 3
         },
         {
          "attrs": {
           "add_offset": 0,
           "chunk_sizes": [
            1,
            90,
            180
           ],
           "comment": "Component of uncertainty that is correlated over synoptic scales; can be combined with other uncertainty estimates to form a total uncertainty",
           "correlation_length_scale": "100 km",
           "correlation_time_scale": "1 day",
           "data_type": "int16",
           "dimensions": [
            "time",
            "lat",
            "lon"
           ],
           "fill_value": -32768,
           "long_name": "Uncertainty from errors likely to be correlated over synoptic scales",
           "references": "http://www.esa-sst-cci.org",
           "scale_factor": 0.001,
           "size": 25920000,
           "units": "kelvin",
           "valid_max": 5000,
           "valid_min": 0
          },
          "dims": [
           "time",
           "lat",
           "lon"
          ],
          "dtype": "int16",
          "name": "uncertainty_correlated",
          "ndim": 3
         },
         {
          "attrs": {
           "add_offset": 0,
           "chunk_sizes": [
            1,
            90,
            180
           ],
           "comment": "Component of uncertainty that is correlated over large scales; can be combined with other uncertainty estimates to form a total uncertainty",
           "data_type": "int16",
           "dimensions": [
            "time",
            "lat",
            "lon"
           ],
           "fill_value": -32768,
           "long_name": "Uncertainty from errors likely to be correlated over large scales",
           "references": "http://www.esa-sst-cci.org",
           "scale_factor": 0.001,
           "size": 25920000,
           "units": "kelvin",
           "valid_max": 5000,
           "valid_min": 0
          },
          "dims": [
           "time",
           "lat",
           "lon"
          ],
          "dtype": "int16",
          "name": "uncertainty_systematic",
          "ndim": 3
         },
         {
          "attrs": {
           "add_offset": 0,
           "chunk_sizes": [
            1,
            90,
            180
           ],
           "comment": "Adjustment uncertainty; can be combined with other uncertainty estimates to form a total uncertainty",
           "correlation_length_scale": "100 km",
           "correlation_time_scale": "1 day",
           "data_type": "int16",
           "dimensions": [
            "time",
            "lat",
            "lon"
           ],
           "fill_value": -32768,
           "long_name": "Time and depth adjustment uncertainty",
           "references": "http://www.esa-sst-cci.org",
           "scale_factor": 0.001,
           "size": 25920000,
           "units": "kelvin",
           "valid_max": 5000,
           "valid_min": 0
          },
          "dims": [
           "time",
           "lat",
           "lon"
          ],
          "dtype": "int16",
          "name": "uncertainty_correlated_time_and_depth_adjustment",
          "ndim": 3
         },
         {
          "attrs": {
           "add_offset": 0,
           "chunk_sizes": [
            1,
            90,
            180
           ],
           "comment": "Component of uncertainty in alternative SST retrieval that is uncorrelated between SSTs; can be combined with other uncertainty estimates to form a total uncertainty",
           "data_type": "int16",
           "dimensions": [
            "time",
            "lat",
            "lon"
           ],
           "fill_value": -32768,
           "long_name": "Uncertainty in alternative SST retrieval from errors likely to be uncorrelated between SSTs",
           "references": "http://www.esa-sst-cci.org",
           "scale_factor": 0.001,
           "size": 25920000,
           "units": "kelvin",
           "valid_max": 5000,
           "valid_min": 0
          },
          "dims": [
           "time",
           "lat",
           "lon"
          ],
          "dtype": "int16",
          "name": "uncertainty_random_alt",
          "ndim": 3
         },
         {
          "attrs": {
           "add_offset": 0,
           "chunk_sizes": [
            1,
            90,
            180
           ],
           "comment": "Component of uncertainty in alternative SST retrieval that is correlated over synoptic scales; can be combined with other uncertainty estimates to form a total uncertainty",
           "correlation_length_scale": "100 km",
           "correlation_time_scale": "1 day",
           "data_type": "int16",
           "dimensions": [
            "time",
            "lat",
            "lon"
           ],
           "fill_value": -32768,
           "long_name": "Uncertainty in alternative SST retrieval from errors likely to be correlated over synoptic scales",
           "references": "http://www.esa-sst-cci.org",
           "scale_factor": 0.001,
           "size": 25920000,
           "units": "kelvin",
           "valid_max": 5000,
           "valid_min": 0
          },
          "dims": [
           "time",
           "lat",
           "lon"
          ],
          "dtype": "int16",
          "name": "uncertainty_correlated_alt",
          "ndim": 3
         },
         {
          "attrs": {
           "add_offset": 0,
           "chunk_sizes": [
            1,
            90,
            180
           ],
           "comment": "Component of uncertainty in alternative SST retrieval that is correlated over large scales; can be combined with other uncertainty estimates to form a total uncertainty",
           "data_type": "int16",
           "dimensions": [
            "time",
            "lat",
            "lon"
           ],
           "fill_value": -32768,
           "long_name": "Uncertainty in alternative SST retrieval from errors likely to be correlated over large scales",
           "references": "http://www.esa-sst-cci.org",
           "scale_factor": 0.001,
           "size": 25920000,
           "units": "kelvin",
           "valid_max": 5000,
           "valid_min": 0
          },
          "dims": [
           "time",
           "lat",
           "lon"
          ],
          "dtype": "int16",
          "name": "uncertainty_systematic_alt",
          "ndim": 3
         },
         {
          "attrs": {
           "add_offset": 0,
           "chunk_sizes": [
            1,
            90,
            180
           ],
           "comment": "Sensitivity of the retrieval to actual changes in sea surface temperature",
           "data_type": "int16",
           "dimensions": [
            "time",
            "lat",
            "lon"
           ],
           "fill_value": -32768,
           "long_name": "Sensitivity of the retrieval to actual changes in sea surface temperature",
           "scale_factor": 0.001,
           "size": 25920000,
           "units": "K/K",
           "valid_max": 1100,
           "valid_min": 0
          },
          "dims": [
           "time",
           "lat",
           "lon"
          ],
          "dtype": "int16",
          "name": "sst_sensitivity",
          "ndim": 3
         },
         {
          "attrs": {
           "add_offset": 0,
           "chunk_sizes": [
            1,
            90,
            180
           ],
           "comment": "If not applied, fill with zeros to indicate independence from in situ",
           "data_type": "int16",
           "dimensions": [
            "time",
            "lat",
            "lon"
           ],
           "fill_value": -32768,
           "long_name": "Adjustment, based on comparison to in situ data",
           "scale_factor": 0.01,
           "size": 25920000,
           "units": "kelvin",
           "valid_max": 1000,
           "valid_min": -1000
          },
          "dims": [
           "time",
           "lat",
           "lon"
          ],
          "dtype": "int16",
          "name": "empirical_adjustment",
          "ndim": 3
         }
        ],
        "dims": {
         "bnds": 2,
         "lat": 3600,
         "lon": 7200,
         "time": 1
        },
        "open_params_schema": {
         "additionalProperties": false,
         "properties": {
          "bbox": {
           "items": [
            {
             "maximum": 180,
             "minimum": -180,
             "type": "number"
            },
            {
             "maximum": 90,
             "minimum": -90,
             "type": "number"
            },
            {
             "maximum": 180,
             "minimum": -180,
             "type": "number"
            },
            {
             "maximum": 90,
             "minimum": -90,
             "type": "number"
            }
           ],
           "type": "array"
          },
          "crs": {
           "const": "WGS84",
           "type": "string"
          },
          "spatial_res": {
           "const": 0.05,
           "type": "number"
          },
          "time_period": {
           "const": "1D",
           "type": "string"
          },
          "time_range": {
           "items": [
            {
             "format": "date",
             "maxDate": "2016-12-31",
             "minDate": "1981-08-23",
             "type": "string"
            },
            {
             "format": "date",
             "maxDate": "2016-12-31",
             "minDate": "1981-08-23",
             "type": "string"
            }
           ],
           "type": "array"
          },
          "variable_names": {
           "items": {
            "enum": [
             "sea_surface_temperature",
             "sea_surface_temperature_depth",
             "sea_surface_temperature_depth_anomaly",
             "sst_dtime",
             "sst_depth_dtime",
             "sses_bias",
             "sses_standard_deviation",
             "sea_surface_temperature_total_uncertainty",
             "sea_surface_temperature_depth_total_uncertainty",
             "depth_adjustment",
             "adjustment_alt",
             "l2p_flags",
             "quality_level",
             "wind_speed",
             "sea_surface_temperature_retrieval_type",
             "alt_sst_retrieval_type",
             "uncertainty_random",
             "uncertainty_correlated",
             "uncertainty_systematic",
             "uncertainty_correlated_time_and_depth_adjustment",
             "uncertainty_random_alt",
             "uncertainty_correlated_alt",
             "uncertainty_systematic_alt",
             "sst_sensitivity",
             "empirical_adjustment"
            ],
            "type": "string"
           },
           "type": "array"
          }
         },
         "type": "object"
        },
        "spatial_res": 0.05,
        "time_period": "1D",
        "time_range": [
         "1981-08-23",
         "2016-12-31"
        ],
        "type_specifier": "dataset"
       },
       {
        "attrs": {
         "abstract": "This v2.1 SST_cci Advanced Very High Resolution Radiometer (AVHRR) Level 3 Collated (L3C) Climate Data Record (CDR) consists of stable, low-bias sea surface temperature (SST) data from the AVHRR series of satellite instruments.  It covers the period between 08/1981 and 12/2016.  This L3C product provides these SST data on a 0.05 regular latitude-longitude grid and collated to include all orbits for a day (separated into daytime and nighttime files).\n\nThe dataset has been produced as part of the European Space Agency (ESA) Climate Change Initiative Sea Surface Temperature project(ESA SST_cci). The data products from SST_cci accurately map the surface temperature of the global oceans over the period 1981 to 2016 using observations from many satellites. The data provide independently quantified SSTs to a quality suitable for climate research.\n\nThis CDR Version 2.1 product supercedes the CDR Version 2.0 product.  Data are made freely and openly available under a Creative Commons License by Attribution (CC By 4.0) https://creativecommons.org/licenses/by/4.0/ .\n\nWhen citing this dataset please also cite the associated data paper: Merchant, C.J., Embury, O., Bulgin, C.E., Block T., Corlett, G.K., Fiedler, E., Good, S.A., Mittaz, J., Rayner, N.A., Berry, D., Eastwood, S., Taylor, M., Tsushima, Y., Waterfall, A., Wilson, R., Donlon, C. Satellite-based time-series of sea-surface temperature since 1981 for climate applications, Scientific Data 6:223 (2019). http://doi.org/10.1038/s41597-019-0236-x",
         "bbox_maxx": "180.0",
         "bbox_maxy": "90.0",
         "bbox_minx": "-180.0",
         "bbox_miny": "-90.0",
         "cci_project": "SST",
         "creation_date": "2019-08-02T20:01:15",
         "data_type": "SSTskin",
         "drs_ids": [
          "esacci.SST.day.L3C.SSTskin.AVHRR-3.NOAA-15.AVHRR15_G.2-1.day",
          "esacci.SST.day.L3C.SSTskin.AVHRR-3.NOAA-15.AVHRR15_G.2-1.night",
          "esacci.SST.day.L3C.SSTskin.AVHRR-3.Metop-A.AVHRRMTA_G.2-1.day",
          "esacci.SST.day.L3C.SSTskin.AVHRR-3.Metop-A.AVHRRMTA_G.2-1.night",
          "esacci.SST.day.L3C.SSTskin.AVHRR-3.NOAA-19.AVHRR19_G.2-1.day",
          "esacci.SST.day.L3C.SSTskin.AVHRR-3.NOAA-19.AVHRR19_G.2-1.night",
          "esacci.SST.day.L3C.SSTskin.AVHRR-3.NOAA-17.AVHRR17_G.2-1.day",
          "esacci.SST.day.L3C.SSTskin.AVHRR-3.NOAA-17.AVHRR17_G.2-1.night",
          "esacci.SST.day.L3C.SSTskin.AVHRR-2.NOAA-12.AVHRR12_G.2-1.day",
          "esacci.SST.day.L3C.SSTskin.AVHRR-2.NOAA-12.AVHRR12_G.2-1.night",
          "esacci.SST.day.L3C.SSTskin.AVHRR-2.NOAA-11.AVHRR11_G.2-1.day",
          "esacci.SST.day.L3C.SSTskin.AVHRR-2.NOAA-11.AVHRR11_G.2-1.night",
          "esacci.SST.day.L3C.SSTskin.AVHRR-2.NOAA-14.AVHRR14_G.2-1.day",
          "esacci.SST.day.L3C.SSTskin.AVHRR-2.NOAA-14.AVHRR14_G.2-1.night",
          "esacci.SST.day.L3C.SSTskin.AVHRR-3.NOAA-18.AVHRR18_G.2-1.day",
          "esacci.SST.day.L3C.SSTskin.AVHRR-3.NOAA-18.AVHRR18_G.2-1.night",
          "esacci.SST.day.L3C.SSTskin.AVHRR-2.NOAA-9.AVHRR09_G.2-1.day",
          "esacci.SST.day.L3C.SSTskin.AVHRR-2.NOAA-9.AVHRR09_G.2-1.night",
          "esacci.SST.day.L3C.SSTskin.AVHRR-3.NOAA-16.AVHRR16_G.2-1.day",
          "esacci.SST.day.L3C.SSTskin.AVHRR-3.NOAA-16.AVHRR16_G.2-1.night",
          "esacci.SST.day.L3C.SSTskin.AVHRR-2.NOAA-7.AVHRR07_G.2-1.day",
          "esacci.SST.day.L3C.SSTskin.AVHRR-2.NOAA-7.AVHRR07_G.2-1.night"
         ],
         "ecv": "SST",
         "fid": "7db4459605da4665b6ab9a7102fb4875",
         "file_formats": [
          ".nc",
          ".txt"
         ],
         "institute": "ESACCI_SST",
         "licences": "Use of these data is covered by the following licence: https://artefacts.ceda.ac.uk/licences/specific_licences/esacci_sst_terms_and_conditions_v2.pdf . When using these data you must cite them correctly using the citation given on the CEDA Data Catalogue record.",
         "metadata_url": "https://catalogue.ceda.ac.uk/export/xml/7db4459605da4665b6ab9a7102fb4875.xml",
         "odd_url": "http://archive.opensearch.ceda.ac.uk/opensearch/description.xml?parentIdentifier=7db4459605da4665b6ab9a7102fb4875",
         "platform_id": "NOAA-17",
         "processing_level": "L3C",
         "product_string": "AVHRR17_G",
         "product_version": "2-1",
         "publication_date": "2019-08-02T20:01:15",
         "sensor_id": "AVHRR-3",
         "temporal_coverage_end": "2016-12-31T23:59:59",
         "temporal_coverage_start": "1981-08-23T23:00:00",
         "time_frequency": "day",
         "title": "ESA Sea Surface Temperature Climate Change Initiative (SST_cci): Advanced Very High Resolution Radiometer (AVHRR) Level 3 Collated (L3C) Climate Data Record, version 2.1",
         "uuid": "7db4459605da4665b6ab9a7102fb4875"
        },
        "bbox": [
         -180,
         -90,
         180,
         90
        ],
        "data_id": "esacci.SST.day.L3C.SSTskin.AVHRR-3.NOAA-17.AVHRR17_G.2-1.day",
        "data_vars": [
         {
          "attrs": {
           "add_offset": 273.15,
           "chunk_sizes": [
            1,
            90,
            180
           ],
           "comment": "Temperature of the skin of the ocean; total uncertainty = sqrt(uncertainty_systematic^2+uncertainty_correlated^2+uncertainty_random^2)",
           "data_type": "int16",
           "depth": "10 micrometres",
           "dimensions": [
            "time",
            "lat",
            "lon"
           ],
           "fill_value": -32768,
           "long_name": "sea surface skin temperature",
           "references": "http://www.esa-sst-cci.org",
           "scale_factor": 0.01,
           "size": 25920000,
           "source": "AVHRR07_G-ESACCI-L1C-v1",
           "standard_name": "sea_surface_skin_temperature",
           "units": "kelvin",
           "valid_max": 5000,
           "valid_min": -200
          },
          "dims": [
           "time",
           "lat",
           "lon"
          ],
          "dtype": "int16",
          "name": "sea_surface_temperature",
          "ndim": 3
         },
         {
          "attrs": {
           "add_offset": 273.15,
           "chunk_sizes": [
            1,
            90,
            180
           ],
           "comment": "Temperature of the ocean at 20 cm depth; total uncertainty = sqrt(uncertainty_systematic^2+uncertainty_correlated^2+uncertainty_random^2+uncertainty_correlated_time_and_depth_adjustment^2)",
           "data_type": "int16",
           "depth": "0.2 metre",
           "dimensions": [
            "time",
            "lat",
            "lon"
           ],
           "fill_value": -32768,
           "long_name": "sea surface temperature at 0.2 m",
           "references": "http://www.esa-sst-cci.org",
           "scale_factor": 0.01,
           "size": 25920000,
           "source": "AVHRR07_G-ESACCI-L1C-v1",
           "standard_name": "sea_water_temperature",
           "units": "kelvin",
           "valid_max": 5000,
           "valid_min": -200
          },
          "dims": [
           "time",
           "lat",
           "lon"
          ],
          "dtype": "int16",
          "name": "sea_surface_temperature_depth",
          "ndim": 3
         },
         {
          "attrs": {
           "add_offset": 0,
           "chunk_sizes": [
            1,
            90,
            180
           ],
           "comment": "Temperature of the ocean at 20 cm depth; total uncertainty = sqrt(uncertainty_systematic^2+uncertainty_correlated^2+uncertainty_random^2+uncertainty_correlated_time_and_depth_adjustment^2)",
           "data_type": "int16",
           "depth": "0.2 metre",
           "dimensions": [
            "time",
            "lat",
            "lon"
           ],
           "fill_value": -32768,
           "long_name": "sea surface temperature anomaly at 0.2 m",
           "references": "http://www.esa-sst-cci.org",
           "scale_factor": 0.01,
           "size": 25920000,
           "source": "AVHRR07_G-ESACCI-L1C-v1",
           "standard_name": "sea_water_temperature_anomaly",
           "units": "kelvin",
           "valid_max": 4000,
           "valid_min": -4000
          },
          "dims": [
           "time",
           "lat",
           "lon"
          ],
          "dtype": "int16",
          "name": "sea_surface_temperature_depth_anomaly",
          "ndim": 3
         },
         {
          "attrs": {
           "add_offset": 0,
           "chunk_sizes": [
            1,
            90,
            180
           ],
           "comment": "time plus sst_dtime gives seconds after 1981-01-01 00:00:00",
           "data_type": "int32",
           "dimensions": [
            "time",
            "lat",
            "lon"
           ],
           "fill_value": -2147483648,
           "long_name": "time difference from reference time",
           "scale_factor": 1,
           "size": 25920000,
           "units": "seconds",
           "valid_max": 43200,
           "valid_min": -43200
          },
          "dims": [
           "time",
           "lat",
           "lon"
          ],
          "dtype": "int32",
          "name": "sst_dtime",
          "ndim": 3
         },
         {
          "attrs": {
           "add_offset": 0,
           "chunk_sizes": [
            1,
            90,
            180
           ],
           "comment": "time plus sst_depth_dtime gives seconds after 1981-01-01 00:00:00",
           "data_type": "int32",
           "dimensions": [
            "time",
            "lat",
            "lon"
           ],
           "fill_value": -2147483648,
           "long_name": "time difference from reference time",
           "scale_factor": 1,
           "size": 25920000,
           "units": "seconds",
           "valid_max": 43200,
           "valid_min": -43200
          },
          "dims": [
           "time",
           "lat",
           "lon"
          ],
          "dtype": "int32",
          "name": "sst_depth_dtime",
          "ndim": 3
         },
         {
          "attrs": {
           "_Unsigned": "false",
           "add_offset": 0,
           "chunk_sizes": [
            1,
            90,
            180
           ],
           "comment": "Populated with zeroes",
           "data_type": "uint8",
           "dimensions": [
            "time",
            "lat",
            "lon"
           ],
           "fill_value": -128,
           "long_name": "SSES bias estimate",
           "scale_factor": 0.01,
           "size": 25920000,
           "units": "kelvin",
           "valid_max": 127,
           "valid_min": -127
          },
          "dims": [
           "time",
           "lat",
           "lon"
          ],
          "dtype": "uint8",
          "name": "sses_bias",
          "ndim": 3
         },
         {
          "attrs": {
           "_Unsigned": "false",
           "add_offset": 1.27,
           "chunk_sizes": [
            1,
            90,
            180
           ],
           "comment": "Uncertainty information is contained in the variables uncertainty_systematic, uncertainty_correlated, and uncertainty_random",
           "data_type": "uint8",
           "dimensions": [
            "time",
            "lat",
            "lon"
           ],
           "fill_value": -128,
           "long_name": "SSES standard deviation",
           "scale_factor": 0.01,
           "size": 25920000,
           "units": "kelvin",
           "valid_max": 127,
           "valid_min": -127
          },
          "dims": [
           "time",
           "lat",
           "lon"
          ],
          "dtype": "uint8",
          "name": "sses_standard_deviation",
          "ndim": 3
         },
         {
          "attrs": {
           "add_offset": 0,
           "chunk_sizes": [
            1,
            90,
            180
           ],
           "comment": "Total uncertainty in each sea_surface_temperature data point",
           "data_type": "int16",
           "dimensions": [
            "time",
            "lat",
            "lon"
           ],
           "fill_value": -32768,
           "long_name": "Total uncertainty in sea_surface_temperature",
           "scale_factor": 0.001,
           "size": 25920000,
           "units": "kelvin",
           "valid_max": 5000,
           "valid_min": 0
          },
          "dims": [
           "time",
           "lat",
           "lon"
          ],
          "dtype": "int16",
          "name": "sea_surface_temperature_total_uncertainty",
          "ndim": 3
         },
         {
          "attrs": {
           "add_offset": 0,
           "chunk_sizes": [
            1,
            90,
            180
           ],
           "comment": "Total uncertainty in each sea_surface_temperature_depth data point",
           "data_type": "int16",
           "dimensions": [
            "time",
            "lat",
            "lon"
           ],
           "fill_value": -32768,
           "long_name": "Total uncertainty in sea_surface_temperature_depth",
           "scale_factor": 0.001,
           "size": 25920000,
           "units": "kelvin",
           "valid_max": 5000,
           "valid_min": 0
          },
          "dims": [
           "time",
           "lat",
           "lon"
          ],
          "dtype": "int16",
          "name": "sea_surface_temperature_depth_total_uncertainty",
          "ndim": 3
         },
         {
          "attrs": {
           "add_offset": 0,
           "chunk_sizes": [
            1,
            90,
            180
           ],
           "comment": "Add to sea_surface_temperature, if SST at 20cm at observation time is required",
           "data_type": "int16",
           "dimensions": [
            "time",
            "lat",
            "lon"
           ],
           "fill_value": -32768,
           "long_name": "Adjustment to sea surface temperature at 0.2 m",
           "scale_factor": 0.01,
           "size": 25920000,
           "units": "kelvin",
           "valid_max": 1000,
           "valid_min": -1000
          },
          "dims": [
           "time",
           "lat",
           "lon"
          ],
          "dtype": "int16",
          "name": "depth_adjustment",
          "ndim": 3
         },
         {
          "attrs": {
           "add_offset": 0,
           "chunk_sizes": [
            1,
            90,
            180
           ],
           "comment": "Add to sea_surface_temperature, if alternative SST retrieval is required",
           "data_type": "int16",
           "dimensions": [
            "time",
            "lat",
            "lon"
           ],
           "fill_value": -32768,
           "long_name": "Adjustment to alternative sea surface temperature retrieval",
           "scale_factor": 0.01,
           "size": 25920000,
           "units": "kelvin",
           "valid_max": 1000,
           "valid_min": -1000
          },
          "dims": [
           "time",
           "lat",
           "lon"
          ],
          "dtype": "int16",
          "name": "adjustment_alt",
          "ndim": 3
         },
         {
          "attrs": {
           "chunk_sizes": [
            1,
            90,
            180
           ],
           "comment": "These flags are important to properly use the data",
           "data_type": "int16",
           "dimensions": [
            "time",
            "lat",
            "lon"
           ],
           "fill_value": -32768,
           "flag_masks": [
            1,
            2,
            4,
            8,
            16,
            32,
            64,
            128,
            256
           ],
           "flag_meanings": "microwave land ice lake river spare views channels day",
           "long_name": "L2P flags",
           "size": 25920000,
           "valid_max": 511,
           "valid_min": 0
          },
          "dims": [
           "time",
           "lat",
           "lon"
          ],
          "dtype": "int16",
          "name": "l2p_flags",
          "ndim": 3
         },
         {
          "attrs": {
           "_Unsigned": "false",
           "chunk_sizes": [
            1,
            90,
            180
           ],
           "comment": "These are overall quality indicators and are used for all GHRSST SSTs",
           "data_type": "uint8",
           "dimensions": [
            "time",
            "lat",
            "lon"
           ],
           "fill_value": 0,
           "flag_meanings": "no_data bad_data worst_quality low_quality acceptable_quality best_quality",
           "flag_values": [
            0,
            1,
            2,
            3,
            4,
            5
           ],
           "long_name": "quality level of SST pixel",
           "size": 25920000,
           "valid_max": 5,
           "valid_min": 0
          },
          "dims": [
           "time",
           "lat",
           "lon"
          ],
          "dtype": "uint8",
          "name": "quality_level",
          "ndim": 3
         },
         {
          "attrs": {
           "_Unsigned": "false",
           "add_offset": 12.7,
           "chunk_sizes": [
            1,
            90,
            180
           ],
           "comment": "Wind speeds sourced from ECMWF ERA Interim Reanalysis; wind speeds greater than 25.4 m/s are set to 25.4.",
           "data_type": "uint8",
           "dimensions": [
            "time",
            "lat",
            "lon"
           ],
           "fill_value": -128,
           "height": "10 m",
           "long_name": "10m wind speed",
           "references": "http://www.esa-sst-cci.org",
           "scale_factor": 0.1,
           "size": 25920000,
           "source": "ERA_INTERIM-ECMWF-WSP-v1.0",
           "standard_name": "wind_speed",
           "time_offset": 0,
           "units": "m s-1",
           "valid_max": 127,
           "valid_min": -127
          },
          "dims": [
           "time",
           "lat",
           "lon"
          ],
          "dtype": "uint8",
          "name": "wind_speed",
          "ndim": 3
         },
         {
          "attrs": {
           "_Unsigned": "false",
           "chunk_sizes": [
            1,
            90,
            180
           ],
           "comment": "1. single view, two channel 2. single view, three channel 3. dual view, two channel 4. dual view, three channel 5. single view, 11 and 3.7 two channel",
           "data_type": "uint8",
           "dimensions": [
            "time",
            "lat",
            "lon"
           ],
           "fill_value": -128,
           "flag_meanings": "single_view_two_channel single_view_three_channel dual_view_two_channel dual_view_three_channel single_view_11_and_3.7_two_channel",
           "flag_values": [
            1,
            2,
            3,
            4,
            5
           ],
           "long_name": "Type of retrieval used for the primary SST",
           "size": 25920000,
           "valid_max": 5,
           "valid_min": 1
          },
          "dims": [
           "time",
           "lat",
           "lon"
          ],
          "dtype": "uint8",
          "name": "sea_surface_temperature_retrieval_type",
          "ndim": 3
         },
         {
          "attrs": {
           "_Unsigned": "false",
           "chunk_sizes": [
            1,
            90,
            180
           ],
           "comment": "For ATSRs, adjustment gives D2 (most consistent through time series) when D3 is provided as best. For AVHRRs, adjustment provides N2 when N3 is best. Reason for providing an alternative: can then use N2 or D2 consistently for whole record i",
           "data_type": "uint8",
           "dimensions": [
            "time",
            "lat",
            "lon"
           ],
           "fill_value": -128,
           "flag_meanings": "single_view_two_channel single_view_three_channel dual_view_two_channel dual_view_three_channel single_view_11_and_3.7_two_channel",
           "flag_values": [
            1,
            2,
            3,
            4,
            5
           ],
           "long_name": "Type of retrieval used for the alternate SST retrieval",
           "size": 25920000,
           "valid_max": 5,
           "valid_min": 1
          },
          "dims": [
           "time",
           "lat",
           "lon"
          ],
          "dtype": "uint8",
          "name": "alt_sst_retrieval_type",
          "ndim": 3
         },
         {
          "attrs": {
           "add_offset": 0,
           "chunk_sizes": [
            1,
            90,
            180
           ],
           "comment": "Component of uncertainty that is uncorrelated between SSTs; can be combined with other uncertainty estimates to form a total uncertainty",
           "data_type": "int16",
           "dimensions": [
            "time",
            "lat",
            "lon"
           ],
           "fill_value": -32768,
           "long_name": "Uncertainty from errors likely to be uncorrelated between SSTs",
           "references": "http://www.esa-sst-cci.org",
           "scale_factor": 0.001,
           "size": 25920000,
           "units": "kelvin",
           "valid_max": 5000,
           "valid_min": 0
          },
          "dims": [
           "time",
           "lat",
           "lon"
          ],
          "dtype": "int16",
          "name": "uncertainty_random",
          "ndim": 3
         },
         {
          "attrs": {
           "add_offset": 0,
           "chunk_sizes": [
            1,
            90,
            180
           ],
           "comment": "Component of uncertainty that is correlated over synoptic scales; can be combined with other uncertainty estimates to form a total uncertainty",
           "correlation_length_scale": "100 km",
           "correlation_time_scale": "1 day",
           "data_type": "int16",
           "dimensions": [
            "time",
            "lat",
            "lon"
           ],
           "fill_value": -32768,
           "long_name": "Uncertainty from errors likely to be correlated over synoptic scales",
           "references": "http://www.esa-sst-cci.org",
           "scale_factor": 0.001,
           "size": 25920000,
           "units": "kelvin",
           "valid_max": 5000,
           "valid_min": 0
          },
          "dims": [
           "time",
           "lat",
           "lon"
          ],
          "dtype": "int16",
          "name": "uncertainty_correlated",
          "ndim": 3
         },
         {
          "attrs": {
           "add_offset": 0,
           "chunk_sizes": [
            1,
            90,
            180
           ],
           "comment": "Component of uncertainty that is correlated over large scales; can be combined with other uncertainty estimates to form a total uncertainty",
           "data_type": "int16",
           "dimensions": [
            "time",
            "lat",
            "lon"
           ],
           "fill_value": -32768,
           "long_name": "Uncertainty from errors likely to be correlated over large scales",
           "references": "http://www.esa-sst-cci.org",
           "scale_factor": 0.001,
           "size": 25920000,
           "units": "kelvin",
           "valid_max": 5000,
           "valid_min": 0
          },
          "dims": [
           "time",
           "lat",
           "lon"
          ],
          "dtype": "int16",
          "name": "uncertainty_systematic",
          "ndim": 3
         },
         {
          "attrs": {
           "add_offset": 0,
           "chunk_sizes": [
            1,
            90,
            180
           ],
           "comment": "Adjustment uncertainty; can be combined with other uncertainty estimates to form a total uncertainty",
           "correlation_length_scale": "100 km",
           "correlation_time_scale": "1 day",
           "data_type": "int16",
           "dimensions": [
            "time",
            "lat",
            "lon"
           ],
           "fill_value": -32768,
           "long_name": "Time and depth adjustment uncertainty",
           "references": "http://www.esa-sst-cci.org",
           "scale_factor": 0.001,
           "size": 25920000,
           "units": "kelvin",
           "valid_max": 5000,
           "valid_min": 0
          },
          "dims": [
           "time",
           "lat",
           "lon"
          ],
          "dtype": "int16",
          "name": "uncertainty_correlated_time_and_depth_adjustment",
          "ndim": 3
         },
         {
          "attrs": {
           "add_offset": 0,
           "chunk_sizes": [
            1,
            90,
            180
           ],
           "comment": "Component of uncertainty in alternative SST retrieval that is uncorrelated between SSTs; can be combined with other uncertainty estimates to form a total uncertainty",
           "data_type": "int16",
           "dimensions": [
            "time",
            "lat",
            "lon"
           ],
           "fill_value": -32768,
           "long_name": "Uncertainty in alternative SST retrieval from errors likely to be uncorrelated between SSTs",
           "references": "http://www.esa-sst-cci.org",
           "scale_factor": 0.001,
           "size": 25920000,
           "units": "kelvin",
           "valid_max": 5000,
           "valid_min": 0
          },
          "dims": [
           "time",
           "lat",
           "lon"
          ],
          "dtype": "int16",
          "name": "uncertainty_random_alt",
          "ndim": 3
         },
         {
          "attrs": {
           "add_offset": 0,
           "chunk_sizes": [
            1,
            90,
            180
           ],
           "comment": "Component of uncertainty in alternative SST retrieval that is correlated over synoptic scales; can be combined with other uncertainty estimates to form a total uncertainty",
           "correlation_length_scale": "100 km",
           "correlation_time_scale": "1 day",
           "data_type": "int16",
           "dimensions": [
            "time",
            "lat",
            "lon"
           ],
           "fill_value": -32768,
           "long_name": "Uncertainty in alternative SST retrieval from errors likely to be correlated over synoptic scales",
           "references": "http://www.esa-sst-cci.org",
           "scale_factor": 0.001,
           "size": 25920000,
           "units": "kelvin",
           "valid_max": 5000,
           "valid_min": 0
          },
          "dims": [
           "time",
           "lat",
           "lon"
          ],
          "dtype": "int16",
          "name": "uncertainty_correlated_alt",
          "ndim": 3
         },
         {
          "attrs": {
           "add_offset": 0,
           "chunk_sizes": [
            1,
            90,
            180
           ],
           "comment": "Component of uncertainty in alternative SST retrieval that is correlated over large scales; can be combined with other uncertainty estimates to form a total uncertainty",
           "data_type": "int16",
           "dimensions": [
            "time",
            "lat",
            "lon"
           ],
           "fill_value": -32768,
           "long_name": "Uncertainty in alternative SST retrieval from errors likely to be correlated over large scales",
           "references": "http://www.esa-sst-cci.org",
           "scale_factor": 0.001,
           "size": 25920000,
           "units": "kelvin",
           "valid_max": 5000,
           "valid_min": 0
          },
          "dims": [
           "time",
           "lat",
           "lon"
          ],
          "dtype": "int16",
          "name": "uncertainty_systematic_alt",
          "ndim": 3
         },
         {
          "attrs": {
           "add_offset": 0,
           "chunk_sizes": [
            1,
            90,
            180
           ],
           "comment": "Sensitivity of the retrieval to actual changes in sea surface temperature",
           "data_type": "int16",
           "dimensions": [
            "time",
            "lat",
            "lon"
           ],
           "fill_value": -32768,
           "long_name": "Sensitivity of the retrieval to actual changes in sea surface temperature",
           "scale_factor": 0.001,
           "size": 25920000,
           "units": "K/K",
           "valid_max": 1100,
           "valid_min": 0
          },
          "dims": [
           "time",
           "lat",
           "lon"
          ],
          "dtype": "int16",
          "name": "sst_sensitivity",
          "ndim": 3
         },
         {
          "attrs": {
           "add_offset": 0,
           "chunk_sizes": [
            1,
            90,
            180
           ],
           "comment": "If not applied, fill with zeros to indicate independence from in situ",
           "data_type": "int16",
           "dimensions": [
            "time",
            "lat",
            "lon"
           ],
           "fill_value": -32768,
           "long_name": "Adjustment, based on comparison to in situ data",
           "scale_factor": 0.01,
           "size": 25920000,
           "units": "kelvin",
           "valid_max": 1000,
           "valid_min": -1000
          },
          "dims": [
           "time",
           "lat",
           "lon"
          ],
          "dtype": "int16",
          "name": "empirical_adjustment",
          "ndim": 3
         }
        ],
        "dims": {
         "bnds": 2,
         "lat": 3600,
         "lon": 7200,
         "time": 1
        },
        "open_params_schema": {
         "additionalProperties": false,
         "properties": {
          "bbox": {
           "items": [
            {
             "maximum": 180,
             "minimum": -180,
             "type": "number"
            },
            {
             "maximum": 90,
             "minimum": -90,
             "type": "number"
            },
            {
             "maximum": 180,
             "minimum": -180,
             "type": "number"
            },
            {
             "maximum": 90,
             "minimum": -90,
             "type": "number"
            }
           ],
           "type": "array"
          },
          "crs": {
           "const": "WGS84",
           "type": "string"
          },
          "spatial_res": {
           "const": 0.05,
           "type": "number"
          },
          "time_period": {
           "const": "1D",
           "type": "string"
          },
          "time_range": {
           "items": [
            {
             "format": "date",
             "maxDate": "2016-12-31",
             "minDate": "1981-08-23",
             "type": "string"
            },
            {
             "format": "date",
             "maxDate": "2016-12-31",
             "minDate": "1981-08-23",
             "type": "string"
            }
           ],
           "type": "array"
          },
          "variable_names": {
           "items": {
            "enum": [
             "sea_surface_temperature",
             "sea_surface_temperature_depth",
             "sea_surface_temperature_depth_anomaly",
             "sst_dtime",
             "sst_depth_dtime",
             "sses_bias",
             "sses_standard_deviation",
             "sea_surface_temperature_total_uncertainty",
             "sea_surface_temperature_depth_total_uncertainty",
             "depth_adjustment",
             "adjustment_alt",
             "l2p_flags",
             "quality_level",
             "wind_speed",
             "sea_surface_temperature_retrieval_type",
             "alt_sst_retrieval_type",
             "uncertainty_random",
             "uncertainty_correlated",
             "uncertainty_systematic",
             "uncertainty_correlated_time_and_depth_adjustment",
             "uncertainty_random_alt",
             "uncertainty_correlated_alt",
             "uncertainty_systematic_alt",
             "sst_sensitivity",
             "empirical_adjustment"
            ],
            "type": "string"
           },
           "type": "array"
          }
         },
         "type": "object"
        },
        "spatial_res": 0.05,
        "time_period": "1D",
        "time_range": [
         "1981-08-23",
         "2016-12-31"
        ],
        "type_specifier": "dataset"
       },
       {
        "attrs": {
         "abstract": "This v2.1 SST_cci Advanced Very High Resolution Radiometer (AVHRR) Level 3 Collated (L3C) Climate Data Record (CDR) consists of stable, low-bias sea surface temperature (SST) data from the AVHRR series of satellite instruments.  It covers the period between 08/1981 and 12/2016.  This L3C product provides these SST data on a 0.05 regular latitude-longitude grid and collated to include all orbits for a day (separated into daytime and nighttime files).\n\nThe dataset has been produced as part of the European Space Agency (ESA) Climate Change Initiative Sea Surface Temperature project(ESA SST_cci). The data products from SST_cci accurately map the surface temperature of the global oceans over the period 1981 to 2016 using observations from many satellites. The data provide independently quantified SSTs to a quality suitable for climate research.\n\nThis CDR Version 2.1 product supercedes the CDR Version 2.0 product.  Data are made freely and openly available under a Creative Commons License by Attribution (CC By 4.0) https://creativecommons.org/licenses/by/4.0/ .\n\nWhen citing this dataset please also cite the associated data paper: Merchant, C.J., Embury, O., Bulgin, C.E., Block T., Corlett, G.K., Fiedler, E., Good, S.A., Mittaz, J., Rayner, N.A., Berry, D., Eastwood, S., Taylor, M., Tsushima, Y., Waterfall, A., Wilson, R., Donlon, C. Satellite-based time-series of sea-surface temperature since 1981 for climate applications, Scientific Data 6:223 (2019). http://doi.org/10.1038/s41597-019-0236-x",
         "bbox_maxx": "180.0",
         "bbox_maxy": "90.0",
         "bbox_minx": "-180.0",
         "bbox_miny": "-90.0",
         "cci_project": "SST",
         "creation_date": "2019-08-02T20:01:15",
         "data_type": "SSTskin",
         "drs_ids": [
          "esacci.SST.day.L3C.SSTskin.AVHRR-3.NOAA-15.AVHRR15_G.2-1.day",
          "esacci.SST.day.L3C.SSTskin.AVHRR-3.NOAA-15.AVHRR15_G.2-1.night",
          "esacci.SST.day.L3C.SSTskin.AVHRR-3.Metop-A.AVHRRMTA_G.2-1.day",
          "esacci.SST.day.L3C.SSTskin.AVHRR-3.Metop-A.AVHRRMTA_G.2-1.night",
          "esacci.SST.day.L3C.SSTskin.AVHRR-3.NOAA-19.AVHRR19_G.2-1.day",
          "esacci.SST.day.L3C.SSTskin.AVHRR-3.NOAA-19.AVHRR19_G.2-1.night",
          "esacci.SST.day.L3C.SSTskin.AVHRR-3.NOAA-17.AVHRR17_G.2-1.day",
          "esacci.SST.day.L3C.SSTskin.AVHRR-3.NOAA-17.AVHRR17_G.2-1.night",
          "esacci.SST.day.L3C.SSTskin.AVHRR-2.NOAA-12.AVHRR12_G.2-1.day",
          "esacci.SST.day.L3C.SSTskin.AVHRR-2.NOAA-12.AVHRR12_G.2-1.night",
          "esacci.SST.day.L3C.SSTskin.AVHRR-2.NOAA-11.AVHRR11_G.2-1.day",
          "esacci.SST.day.L3C.SSTskin.AVHRR-2.NOAA-11.AVHRR11_G.2-1.night",
          "esacci.SST.day.L3C.SSTskin.AVHRR-2.NOAA-14.AVHRR14_G.2-1.day",
          "esacci.SST.day.L3C.SSTskin.AVHRR-2.NOAA-14.AVHRR14_G.2-1.night",
          "esacci.SST.day.L3C.SSTskin.AVHRR-3.NOAA-18.AVHRR18_G.2-1.day",
          "esacci.SST.day.L3C.SSTskin.AVHRR-3.NOAA-18.AVHRR18_G.2-1.night",
          "esacci.SST.day.L3C.SSTskin.AVHRR-2.NOAA-9.AVHRR09_G.2-1.day",
          "esacci.SST.day.L3C.SSTskin.AVHRR-2.NOAA-9.AVHRR09_G.2-1.night",
          "esacci.SST.day.L3C.SSTskin.AVHRR-3.NOAA-16.AVHRR16_G.2-1.day",
          "esacci.SST.day.L3C.SSTskin.AVHRR-3.NOAA-16.AVHRR16_G.2-1.night",
          "esacci.SST.day.L3C.SSTskin.AVHRR-2.NOAA-7.AVHRR07_G.2-1.day",
          "esacci.SST.day.L3C.SSTskin.AVHRR-2.NOAA-7.AVHRR07_G.2-1.night"
         ],
         "ecv": "SST",
         "fid": "7db4459605da4665b6ab9a7102fb4875",
         "file_formats": [
          ".nc",
          ".txt"
         ],
         "institute": "ESACCI_SST",
         "licences": "Use of these data is covered by the following licence: https://artefacts.ceda.ac.uk/licences/specific_licences/esacci_sst_terms_and_conditions_v2.pdf . When using these data you must cite them correctly using the citation given on the CEDA Data Catalogue record.",
         "metadata_url": "https://catalogue.ceda.ac.uk/export/xml/7db4459605da4665b6ab9a7102fb4875.xml",
         "odd_url": "http://archive.opensearch.ceda.ac.uk/opensearch/description.xml?parentIdentifier=7db4459605da4665b6ab9a7102fb4875",
         "platform_id": "NOAA-17",
         "processing_level": "L3C",
         "product_string": "AVHRR17_G",
         "product_version": "2-1",
         "publication_date": "2019-08-02T20:01:15",
         "sensor_id": "AVHRR-3",
         "temporal_coverage_end": "2016-12-31T23:59:59",
         "temporal_coverage_start": "1981-08-23T23:00:00",
         "time_frequency": "day",
         "title": "ESA Sea Surface Temperature Climate Change Initiative (SST_cci): Advanced Very High Resolution Radiometer (AVHRR) Level 3 Collated (L3C) Climate Data Record, version 2.1",
         "uuid": "7db4459605da4665b6ab9a7102fb4875"
        },
        "bbox": [
         -180,
         -90,
         180,
         90
        ],
        "data_id": "esacci.SST.day.L3C.SSTskin.AVHRR-3.NOAA-17.AVHRR17_G.2-1.night",
        "data_vars": [
         {
          "attrs": {
           "add_offset": 273.15,
           "chunk_sizes": [
            1,
            90,
            180
           ],
           "comment": "Temperature of the skin of the ocean; total uncertainty = sqrt(uncertainty_systematic^2+uncertainty_correlated^2+uncertainty_random^2)",
           "data_type": "int16",
           "depth": "10 micrometres",
           "dimensions": [
            "time",
            "lat",
            "lon"
           ],
           "fill_value": -32768,
           "long_name": "sea surface skin temperature",
           "references": "http://www.esa-sst-cci.org",
           "scale_factor": 0.01,
           "size": 25920000,
           "source": "AVHRR07_G-ESACCI-L1C-v1",
           "standard_name": "sea_surface_skin_temperature",
           "units": "kelvin",
           "valid_max": 5000,
           "valid_min": -200
          },
          "dims": [
           "time",
           "lat",
           "lon"
          ],
          "dtype": "int16",
          "name": "sea_surface_temperature",
          "ndim": 3
         },
         {
          "attrs": {
           "add_offset": 273.15,
           "chunk_sizes": [
            1,
            90,
            180
           ],
           "comment": "Temperature of the ocean at 20 cm depth; total uncertainty = sqrt(uncertainty_systematic^2+uncertainty_correlated^2+uncertainty_random^2+uncertainty_correlated_time_and_depth_adjustment^2)",
           "data_type": "int16",
           "depth": "0.2 metre",
           "dimensions": [
            "time",
            "lat",
            "lon"
           ],
           "fill_value": -32768,
           "long_name": "sea surface temperature at 0.2 m",
           "references": "http://www.esa-sst-cci.org",
           "scale_factor": 0.01,
           "size": 25920000,
           "source": "AVHRR07_G-ESACCI-L1C-v1",
           "standard_name": "sea_water_temperature",
           "units": "kelvin",
           "valid_max": 5000,
           "valid_min": -200
          },
          "dims": [
           "time",
           "lat",
           "lon"
          ],
          "dtype": "int16",
          "name": "sea_surface_temperature_depth",
          "ndim": 3
         },
         {
          "attrs": {
           "add_offset": 0,
           "chunk_sizes": [
            1,
            90,
            180
           ],
           "comment": "Temperature of the ocean at 20 cm depth; total uncertainty = sqrt(uncertainty_systematic^2+uncertainty_correlated^2+uncertainty_random^2+uncertainty_correlated_time_and_depth_adjustment^2)",
           "data_type": "int16",
           "depth": "0.2 metre",
           "dimensions": [
            "time",
            "lat",
            "lon"
           ],
           "fill_value": -32768,
           "long_name": "sea surface temperature anomaly at 0.2 m",
           "references": "http://www.esa-sst-cci.org",
           "scale_factor": 0.01,
           "size": 25920000,
           "source": "AVHRR07_G-ESACCI-L1C-v1",
           "standard_name": "sea_water_temperature_anomaly",
           "units": "kelvin",
           "valid_max": 4000,
           "valid_min": -4000
          },
          "dims": [
           "time",
           "lat",
           "lon"
          ],
          "dtype": "int16",
          "name": "sea_surface_temperature_depth_anomaly",
          "ndim": 3
         },
         {
          "attrs": {
           "add_offset": 0,
           "chunk_sizes": [
            1,
            90,
            180
           ],
           "comment": "time plus sst_dtime gives seconds after 1981-01-01 00:00:00",
           "data_type": "int32",
           "dimensions": [
            "time",
            "lat",
            "lon"
           ],
           "fill_value": -2147483648,
           "long_name": "time difference from reference time",
           "scale_factor": 1,
           "size": 25920000,
           "units": "seconds",
           "valid_max": 43200,
           "valid_min": -43200
          },
          "dims": [
           "time",
           "lat",
           "lon"
          ],
          "dtype": "int32",
          "name": "sst_dtime",
          "ndim": 3
         },
         {
          "attrs": {
           "add_offset": 0,
           "chunk_sizes": [
            1,
            90,
            180
           ],
           "comment": "time plus sst_depth_dtime gives seconds after 1981-01-01 00:00:00",
           "data_type": "int32",
           "dimensions": [
            "time",
            "lat",
            "lon"
           ],
           "fill_value": -2147483648,
           "long_name": "time difference from reference time",
           "scale_factor": 1,
           "size": 25920000,
           "units": "seconds",
           "valid_max": 43200,
           "valid_min": -43200
          },
          "dims": [
           "time",
           "lat",
           "lon"
          ],
          "dtype": "int32",
          "name": "sst_depth_dtime",
          "ndim": 3
         },
         {
          "attrs": {
           "_Unsigned": "false",
           "add_offset": 0,
           "chunk_sizes": [
            1,
            90,
            180
           ],
           "comment": "Populated with zeroes",
           "data_type": "uint8",
           "dimensions": [
            "time",
            "lat",
            "lon"
           ],
           "fill_value": -128,
           "long_name": "SSES bias estimate",
           "scale_factor": 0.01,
           "size": 25920000,
           "units": "kelvin",
           "valid_max": 127,
           "valid_min": -127
          },
          "dims": [
           "time",
           "lat",
           "lon"
          ],
          "dtype": "uint8",
          "name": "sses_bias",
          "ndim": 3
         },
         {
          "attrs": {
           "_Unsigned": "false",
           "add_offset": 1.27,
           "chunk_sizes": [
            1,
            90,
            180
           ],
           "comment": "Uncertainty information is contained in the variables uncertainty_systematic, uncertainty_correlated, and uncertainty_random",
           "data_type": "uint8",
           "dimensions": [
            "time",
            "lat",
            "lon"
           ],
           "fill_value": -128,
           "long_name": "SSES standard deviation",
           "scale_factor": 0.01,
           "size": 25920000,
           "units": "kelvin",
           "valid_max": 127,
           "valid_min": -127
          },
          "dims": [
           "time",
           "lat",
           "lon"
          ],
          "dtype": "uint8",
          "name": "sses_standard_deviation",
          "ndim": 3
         },
         {
          "attrs": {
           "add_offset": 0,
           "chunk_sizes": [
            1,
            90,
            180
           ],
           "comment": "Total uncertainty in each sea_surface_temperature data point",
           "data_type": "int16",
           "dimensions": [
            "time",
            "lat",
            "lon"
           ],
           "fill_value": -32768,
           "long_name": "Total uncertainty in sea_surface_temperature",
           "scale_factor": 0.001,
           "size": 25920000,
           "units": "kelvin",
           "valid_max": 5000,
           "valid_min": 0
          },
          "dims": [
           "time",
           "lat",
           "lon"
          ],
          "dtype": "int16",
          "name": "sea_surface_temperature_total_uncertainty",
          "ndim": 3
         },
         {
          "attrs": {
           "add_offset": 0,
           "chunk_sizes": [
            1,
            90,
            180
           ],
           "comment": "Total uncertainty in each sea_surface_temperature_depth data point",
           "data_type": "int16",
           "dimensions": [
            "time",
            "lat",
            "lon"
           ],
           "fill_value": -32768,
           "long_name": "Total uncertainty in sea_surface_temperature_depth",
           "scale_factor": 0.001,
           "size": 25920000,
           "units": "kelvin",
           "valid_max": 5000,
           "valid_min": 0
          },
          "dims": [
           "time",
           "lat",
           "lon"
          ],
          "dtype": "int16",
          "name": "sea_surface_temperature_depth_total_uncertainty",
          "ndim": 3
         },
         {
          "attrs": {
           "add_offset": 0,
           "chunk_sizes": [
            1,
            90,
            180
           ],
           "comment": "Add to sea_surface_temperature, if SST at 20cm at observation time is required",
           "data_type": "int16",
           "dimensions": [
            "time",
            "lat",
            "lon"
           ],
           "fill_value": -32768,
           "long_name": "Adjustment to sea surface temperature at 0.2 m",
           "scale_factor": 0.01,
           "size": 25920000,
           "units": "kelvin",
           "valid_max": 1000,
           "valid_min": -1000
          },
          "dims": [
           "time",
           "lat",
           "lon"
          ],
          "dtype": "int16",
          "name": "depth_adjustment",
          "ndim": 3
         },
         {
          "attrs": {
           "add_offset": 0,
           "chunk_sizes": [
            1,
            90,
            180
           ],
           "comment": "Add to sea_surface_temperature, if alternative SST retrieval is required",
           "data_type": "int16",
           "dimensions": [
            "time",
            "lat",
            "lon"
           ],
           "fill_value": -32768,
           "long_name": "Adjustment to alternative sea surface temperature retrieval",
           "scale_factor": 0.01,
           "size": 25920000,
           "units": "kelvin",
           "valid_max": 1000,
           "valid_min": -1000
          },
          "dims": [
           "time",
           "lat",
           "lon"
          ],
          "dtype": "int16",
          "name": "adjustment_alt",
          "ndim": 3
         },
         {
          "attrs": {
           "chunk_sizes": [
            1,
            90,
            180
           ],
           "comment": "These flags are important to properly use the data",
           "data_type": "int16",
           "dimensions": [
            "time",
            "lat",
            "lon"
           ],
           "fill_value": -32768,
           "flag_masks": [
            1,
            2,
            4,
            8,
            16,
            32,
            64,
            128,
            256
           ],
           "flag_meanings": "microwave land ice lake river spare views channels day",
           "long_name": "L2P flags",
           "size": 25920000,
           "valid_max": 511,
           "valid_min": 0
          },
          "dims": [
           "time",
           "lat",
           "lon"
          ],
          "dtype": "int16",
          "name": "l2p_flags",
          "ndim": 3
         },
         {
          "attrs": {
           "_Unsigned": "false",
           "chunk_sizes": [
            1,
            90,
            180
           ],
           "comment": "These are overall quality indicators and are used for all GHRSST SSTs",
           "data_type": "uint8",
           "dimensions": [
            "time",
            "lat",
            "lon"
           ],
           "fill_value": 0,
           "flag_meanings": "no_data bad_data worst_quality low_quality acceptable_quality best_quality",
           "flag_values": [
            0,
            1,
            2,
            3,
            4,
            5
           ],
           "long_name": "quality level of SST pixel",
           "size": 25920000,
           "valid_max": 5,
           "valid_min": 0
          },
          "dims": [
           "time",
           "lat",
           "lon"
          ],
          "dtype": "uint8",
          "name": "quality_level",
          "ndim": 3
         },
         {
          "attrs": {
           "_Unsigned": "false",
           "add_offset": 12.7,
           "chunk_sizes": [
            1,
            90,
            180
           ],
           "comment": "Wind speeds sourced from ECMWF ERA Interim Reanalysis; wind speeds greater than 25.4 m/s are set to 25.4.",
           "data_type": "uint8",
           "dimensions": [
            "time",
            "lat",
            "lon"
           ],
           "fill_value": -128,
           "height": "10 m",
           "long_name": "10m wind speed",
           "references": "http://www.esa-sst-cci.org",
           "scale_factor": 0.1,
           "size": 25920000,
           "source": "ERA_INTERIM-ECMWF-WSP-v1.0",
           "standard_name": "wind_speed",
           "time_offset": 0,
           "units": "m s-1",
           "valid_max": 127,
           "valid_min": -127
          },
          "dims": [
           "time",
           "lat",
           "lon"
          ],
          "dtype": "uint8",
          "name": "wind_speed",
          "ndim": 3
         },
         {
          "attrs": {
           "_Unsigned": "false",
           "chunk_sizes": [
            1,
            90,
            180
           ],
           "comment": "1. single view, two channel 2. single view, three channel 3. dual view, two channel 4. dual view, three channel 5. single view, 11 and 3.7 two channel",
           "data_type": "uint8",
           "dimensions": [
            "time",
            "lat",
            "lon"
           ],
           "fill_value": -128,
           "flag_meanings": "single_view_two_channel single_view_three_channel dual_view_two_channel dual_view_three_channel single_view_11_and_3.7_two_channel",
           "flag_values": [
            1,
            2,
            3,
            4,
            5
           ],
           "long_name": "Type of retrieval used for the primary SST",
           "size": 25920000,
           "valid_max": 5,
           "valid_min": 1
          },
          "dims": [
           "time",
           "lat",
           "lon"
          ],
          "dtype": "uint8",
          "name": "sea_surface_temperature_retrieval_type",
          "ndim": 3
         },
         {
          "attrs": {
           "_Unsigned": "false",
           "chunk_sizes": [
            1,
            90,
            180
           ],
           "comment": "For ATSRs, adjustment gives D2 (most consistent through time series) when D3 is provided as best. For AVHRRs, adjustment provides N2 when N3 is best. Reason for providing an alternative: can then use N2 or D2 consistently for whole record i",
           "data_type": "uint8",
           "dimensions": [
            "time",
            "lat",
            "lon"
           ],
           "fill_value": -128,
           "flag_meanings": "single_view_two_channel single_view_three_channel dual_view_two_channel dual_view_three_channel single_view_11_and_3.7_two_channel",
           "flag_values": [
            1,
            2,
            3,
            4,
            5
           ],
           "long_name": "Type of retrieval used for the alternate SST retrieval",
           "size": 25920000,
           "valid_max": 5,
           "valid_min": 1
          },
          "dims": [
           "time",
           "lat",
           "lon"
          ],
          "dtype": "uint8",
          "name": "alt_sst_retrieval_type",
          "ndim": 3
         },
         {
          "attrs": {
           "add_offset": 0,
           "chunk_sizes": [
            1,
            90,
            180
           ],
           "comment": "Component of uncertainty that is uncorrelated between SSTs; can be combined with other uncertainty estimates to form a total uncertainty",
           "data_type": "int16",
           "dimensions": [
            "time",
            "lat",
            "lon"
           ],
           "fill_value": -32768,
           "long_name": "Uncertainty from errors likely to be uncorrelated between SSTs",
           "references": "http://www.esa-sst-cci.org",
           "scale_factor": 0.001,
           "size": 25920000,
           "units": "kelvin",
           "valid_max": 5000,
           "valid_min": 0
          },
          "dims": [
           "time",
           "lat",
           "lon"
          ],
          "dtype": "int16",
          "name": "uncertainty_random",
          "ndim": 3
         },
         {
          "attrs": {
           "add_offset": 0,
           "chunk_sizes": [
            1,
            90,
            180
           ],
           "comment": "Component of uncertainty that is correlated over synoptic scales; can be combined with other uncertainty estimates to form a total uncertainty",
           "correlation_length_scale": "100 km",
           "correlation_time_scale": "1 day",
           "data_type": "int16",
           "dimensions": [
            "time",
            "lat",
            "lon"
           ],
           "fill_value": -32768,
           "long_name": "Uncertainty from errors likely to be correlated over synoptic scales",
           "references": "http://www.esa-sst-cci.org",
           "scale_factor": 0.001,
           "size": 25920000,
           "units": "kelvin",
           "valid_max": 5000,
           "valid_min": 0
          },
          "dims": [
           "time",
           "lat",
           "lon"
          ],
          "dtype": "int16",
          "name": "uncertainty_correlated",
          "ndim": 3
         },
         {
          "attrs": {
           "add_offset": 0,
           "chunk_sizes": [
            1,
            90,
            180
           ],
           "comment": "Component of uncertainty that is correlated over large scales; can be combined with other uncertainty estimates to form a total uncertainty",
           "data_type": "int16",
           "dimensions": [
            "time",
            "lat",
            "lon"
           ],
           "fill_value": -32768,
           "long_name": "Uncertainty from errors likely to be correlated over large scales",
           "references": "http://www.esa-sst-cci.org",
           "scale_factor": 0.001,
           "size": 25920000,
           "units": "kelvin",
           "valid_max": 5000,
           "valid_min": 0
          },
          "dims": [
           "time",
           "lat",
           "lon"
          ],
          "dtype": "int16",
          "name": "uncertainty_systematic",
          "ndim": 3
         },
         {
          "attrs": {
           "add_offset": 0,
           "chunk_sizes": [
            1,
            90,
            180
           ],
           "comment": "Adjustment uncertainty; can be combined with other uncertainty estimates to form a total uncertainty",
           "correlation_length_scale": "100 km",
           "correlation_time_scale": "1 day",
           "data_type": "int16",
           "dimensions": [
            "time",
            "lat",
            "lon"
           ],
           "fill_value": -32768,
           "long_name": "Time and depth adjustment uncertainty",
           "references": "http://www.esa-sst-cci.org",
           "scale_factor": 0.001,
           "size": 25920000,
           "units": "kelvin",
           "valid_max": 5000,
           "valid_min": 0
          },
          "dims": [
           "time",
           "lat",
           "lon"
          ],
          "dtype": "int16",
          "name": "uncertainty_correlated_time_and_depth_adjustment",
          "ndim": 3
         },
         {
          "attrs": {
           "add_offset": 0,
           "chunk_sizes": [
            1,
            90,
            180
           ],
           "comment": "Component of uncertainty in alternative SST retrieval that is uncorrelated between SSTs; can be combined with other uncertainty estimates to form a total uncertainty",
           "data_type": "int16",
           "dimensions": [
            "time",
            "lat",
            "lon"
           ],
           "fill_value": -32768,
           "long_name": "Uncertainty in alternative SST retrieval from errors likely to be uncorrelated between SSTs",
           "references": "http://www.esa-sst-cci.org",
           "scale_factor": 0.001,
           "size": 25920000,
           "units": "kelvin",
           "valid_max": 5000,
           "valid_min": 0
          },
          "dims": [
           "time",
           "lat",
           "lon"
          ],
          "dtype": "int16",
          "name": "uncertainty_random_alt",
          "ndim": 3
         },
         {
          "attrs": {
           "add_offset": 0,
           "chunk_sizes": [
            1,
            90,
            180
           ],
           "comment": "Component of uncertainty in alternative SST retrieval that is correlated over synoptic scales; can be combined with other uncertainty estimates to form a total uncertainty",
           "correlation_length_scale": "100 km",
           "correlation_time_scale": "1 day",
           "data_type": "int16",
           "dimensions": [
            "time",
            "lat",
            "lon"
           ],
           "fill_value": -32768,
           "long_name": "Uncertainty in alternative SST retrieval from errors likely to be correlated over synoptic scales",
           "references": "http://www.esa-sst-cci.org",
           "scale_factor": 0.001,
           "size": 25920000,
           "units": "kelvin",
           "valid_max": 5000,
           "valid_min": 0
          },
          "dims": [
           "time",
           "lat",
           "lon"
          ],
          "dtype": "int16",
          "name": "uncertainty_correlated_alt",
          "ndim": 3
         },
         {
          "attrs": {
           "add_offset": 0,
           "chunk_sizes": [
            1,
            90,
            180
           ],
           "comment": "Component of uncertainty in alternative SST retrieval that is correlated over large scales; can be combined with other uncertainty estimates to form a total uncertainty",
           "data_type": "int16",
           "dimensions": [
            "time",
            "lat",
            "lon"
           ],
           "fill_value": -32768,
           "long_name": "Uncertainty in alternative SST retrieval from errors likely to be correlated over large scales",
           "references": "http://www.esa-sst-cci.org",
           "scale_factor": 0.001,
           "size": 25920000,
           "units": "kelvin",
           "valid_max": 5000,
           "valid_min": 0
          },
          "dims": [
           "time",
           "lat",
           "lon"
          ],
          "dtype": "int16",
          "name": "uncertainty_systematic_alt",
          "ndim": 3
         },
         {
          "attrs": {
           "add_offset": 0,
           "chunk_sizes": [
            1,
            90,
            180
           ],
           "comment": "Sensitivity of the retrieval to actual changes in sea surface temperature",
           "data_type": "int16",
           "dimensions": [
            "time",
            "lat",
            "lon"
           ],
           "fill_value": -32768,
           "long_name": "Sensitivity of the retrieval to actual changes in sea surface temperature",
           "scale_factor": 0.001,
           "size": 25920000,
           "units": "K/K",
           "valid_max": 1100,
           "valid_min": 0
          },
          "dims": [
           "time",
           "lat",
           "lon"
          ],
          "dtype": "int16",
          "name": "sst_sensitivity",
          "ndim": 3
         },
         {
          "attrs": {
           "add_offset": 0,
           "chunk_sizes": [
            1,
            90,
            180
           ],
           "comment": "If not applied, fill with zeros to indicate independence from in situ",
           "data_type": "int16",
           "dimensions": [
            "time",
            "lat",
            "lon"
           ],
           "fill_value": -32768,
           "long_name": "Adjustment, based on comparison to in situ data",
           "scale_factor": 0.01,
           "size": 25920000,
           "units": "kelvin",
           "valid_max": 1000,
           "valid_min": -1000
          },
          "dims": [
           "time",
           "lat",
           "lon"
          ],
          "dtype": "int16",
          "name": "empirical_adjustment",
          "ndim": 3
         }
        ],
        "dims": {
         "bnds": 2,
         "lat": 3600,
         "lon": 7200,
         "time": 1
        },
        "open_params_schema": {
         "additionalProperties": false,
         "properties": {
          "bbox": {
           "items": [
            {
             "maximum": 180,
             "minimum": -180,
             "type": "number"
            },
            {
             "maximum": 90,
             "minimum": -90,
             "type": "number"
            },
            {
             "maximum": 180,
             "minimum": -180,
             "type": "number"
            },
            {
             "maximum": 90,
             "minimum": -90,
             "type": "number"
            }
           ],
           "type": "array"
          },
          "crs": {
           "const": "WGS84",
           "type": "string"
          },
          "spatial_res": {
           "const": 0.05,
           "type": "number"
          },
          "time_period": {
           "const": "1D",
           "type": "string"
          },
          "time_range": {
           "items": [
            {
             "format": "date",
             "maxDate": "2016-12-31",
             "minDate": "1981-08-23",
             "type": "string"
            },
            {
             "format": "date",
             "maxDate": "2016-12-31",
             "minDate": "1981-08-23",
             "type": "string"
            }
           ],
           "type": "array"
          },
          "variable_names": {
           "items": {
            "enum": [
             "sea_surface_temperature",
             "sea_surface_temperature_depth",
             "sea_surface_temperature_depth_anomaly",
             "sst_dtime",
             "sst_depth_dtime",
             "sses_bias",
             "sses_standard_deviation",
             "sea_surface_temperature_total_uncertainty",
             "sea_surface_temperature_depth_total_uncertainty",
             "depth_adjustment",
             "adjustment_alt",
             "l2p_flags",
             "quality_level",
             "wind_speed",
             "sea_surface_temperature_retrieval_type",
             "alt_sst_retrieval_type",
             "uncertainty_random",
             "uncertainty_correlated",
             "uncertainty_systematic",
             "uncertainty_correlated_time_and_depth_adjustment",
             "uncertainty_random_alt",
             "uncertainty_correlated_alt",
             "uncertainty_systematic_alt",
             "sst_sensitivity",
             "empirical_adjustment"
            ],
            "type": "string"
           },
           "type": "array"
          }
         },
         "type": "object"
        },
        "spatial_res": 0.05,
        "time_period": "1D",
        "time_range": [
         "1981-08-23",
         "2016-12-31"
        ],
        "type_specifier": "dataset"
       },
       {
        "attrs": {
         "abstract": "This v2.1 SST_cci Advanced Very High Resolution Radiometer (AVHRR) Level 3 Collated (L3C) Climate Data Record (CDR) consists of stable, low-bias sea surface temperature (SST) data from the AVHRR series of satellite instruments.  It covers the period between 08/1981 and 12/2016.  This L3C product provides these SST data on a 0.05 regular latitude-longitude grid and collated to include all orbits for a day (separated into daytime and nighttime files).\n\nThe dataset has been produced as part of the European Space Agency (ESA) Climate Change Initiative Sea Surface Temperature project(ESA SST_cci). The data products from SST_cci accurately map the surface temperature of the global oceans over the period 1981 to 2016 using observations from many satellites. The data provide independently quantified SSTs to a quality suitable for climate research.\n\nThis CDR Version 2.1 product supercedes the CDR Version 2.0 product.  Data are made freely and openly available under a Creative Commons License by Attribution (CC By 4.0) https://creativecommons.org/licenses/by/4.0/ .\n\nWhen citing this dataset please also cite the associated data paper: Merchant, C.J., Embury, O., Bulgin, C.E., Block T., Corlett, G.K., Fiedler, E., Good, S.A., Mittaz, J., Rayner, N.A., Berry, D., Eastwood, S., Taylor, M., Tsushima, Y., Waterfall, A., Wilson, R., Donlon, C. Satellite-based time-series of sea-surface temperature since 1981 for climate applications, Scientific Data 6:223 (2019). http://doi.org/10.1038/s41597-019-0236-x",
         "bbox_maxx": "180.0",
         "bbox_maxy": "90.0",
         "bbox_minx": "-180.0",
         "bbox_miny": "-90.0",
         "cci_project": "SST",
         "creation_date": "2019-08-02T20:01:15",
         "data_type": "SSTskin",
         "drs_ids": [
          "esacci.SST.day.L3C.SSTskin.AVHRR-3.NOAA-15.AVHRR15_G.2-1.day",
          "esacci.SST.day.L3C.SSTskin.AVHRR-3.NOAA-15.AVHRR15_G.2-1.night",
          "esacci.SST.day.L3C.SSTskin.AVHRR-3.Metop-A.AVHRRMTA_G.2-1.day",
          "esacci.SST.day.L3C.SSTskin.AVHRR-3.Metop-A.AVHRRMTA_G.2-1.night",
          "esacci.SST.day.L3C.SSTskin.AVHRR-3.NOAA-19.AVHRR19_G.2-1.day",
          "esacci.SST.day.L3C.SSTskin.AVHRR-3.NOAA-19.AVHRR19_G.2-1.night",
          "esacci.SST.day.L3C.SSTskin.AVHRR-3.NOAA-17.AVHRR17_G.2-1.day",
          "esacci.SST.day.L3C.SSTskin.AVHRR-3.NOAA-17.AVHRR17_G.2-1.night",
          "esacci.SST.day.L3C.SSTskin.AVHRR-2.NOAA-12.AVHRR12_G.2-1.day",
          "esacci.SST.day.L3C.SSTskin.AVHRR-2.NOAA-12.AVHRR12_G.2-1.night",
          "esacci.SST.day.L3C.SSTskin.AVHRR-2.NOAA-11.AVHRR11_G.2-1.day",
          "esacci.SST.day.L3C.SSTskin.AVHRR-2.NOAA-11.AVHRR11_G.2-1.night",
          "esacci.SST.day.L3C.SSTskin.AVHRR-2.NOAA-14.AVHRR14_G.2-1.day",
          "esacci.SST.day.L3C.SSTskin.AVHRR-2.NOAA-14.AVHRR14_G.2-1.night",
          "esacci.SST.day.L3C.SSTskin.AVHRR-3.NOAA-18.AVHRR18_G.2-1.day",
          "esacci.SST.day.L3C.SSTskin.AVHRR-3.NOAA-18.AVHRR18_G.2-1.night",
          "esacci.SST.day.L3C.SSTskin.AVHRR-2.NOAA-9.AVHRR09_G.2-1.day",
          "esacci.SST.day.L3C.SSTskin.AVHRR-2.NOAA-9.AVHRR09_G.2-1.night",
          "esacci.SST.day.L3C.SSTskin.AVHRR-3.NOAA-16.AVHRR16_G.2-1.day",
          "esacci.SST.day.L3C.SSTskin.AVHRR-3.NOAA-16.AVHRR16_G.2-1.night",
          "esacci.SST.day.L3C.SSTskin.AVHRR-2.NOAA-7.AVHRR07_G.2-1.day",
          "esacci.SST.day.L3C.SSTskin.AVHRR-2.NOAA-7.AVHRR07_G.2-1.night"
         ],
         "ecv": "SST",
         "fid": "7db4459605da4665b6ab9a7102fb4875",
         "file_formats": [
          ".nc",
          ".txt"
         ],
         "institute": "ESACCI_SST",
         "licences": "Use of these data is covered by the following licence: https://artefacts.ceda.ac.uk/licences/specific_licences/esacci_sst_terms_and_conditions_v2.pdf . When using these data you must cite them correctly using the citation given on the CEDA Data Catalogue record.",
         "metadata_url": "https://catalogue.ceda.ac.uk/export/xml/7db4459605da4665b6ab9a7102fb4875.xml",
         "odd_url": "http://archive.opensearch.ceda.ac.uk/opensearch/description.xml?parentIdentifier=7db4459605da4665b6ab9a7102fb4875",
         "platform_id": "NOAA-18",
         "processing_level": "L3C",
         "product_string": "AVHRR18_G",
         "product_version": "2-1",
         "publication_date": "2019-08-02T20:01:15",
         "sensor_id": "AVHRR-3",
         "temporal_coverage_end": "2016-12-31T23:59:59",
         "temporal_coverage_start": "1981-08-23T23:00:00",
         "time_frequency": "day",
         "title": "ESA Sea Surface Temperature Climate Change Initiative (SST_cci): Advanced Very High Resolution Radiometer (AVHRR) Level 3 Collated (L3C) Climate Data Record, version 2.1",
         "uuid": "7db4459605da4665b6ab9a7102fb4875"
        },
        "bbox": [
         -180,
         -90,
         180,
         90
        ],
        "data_id": "esacci.SST.day.L3C.SSTskin.AVHRR-3.NOAA-18.AVHRR18_G.2-1.day",
        "data_vars": [
         {
          "attrs": {
           "add_offset": 273.15,
           "chunk_sizes": [
            1,
            90,
            180
           ],
           "comment": "Temperature of the skin of the ocean; total uncertainty = sqrt(uncertainty_systematic^2+uncertainty_correlated^2+uncertainty_random^2)",
           "data_type": "int16",
           "depth": "10 micrometres",
           "dimensions": [
            "time",
            "lat",
            "lon"
           ],
           "fill_value": -32768,
           "long_name": "sea surface skin temperature",
           "references": "http://www.esa-sst-cci.org",
           "scale_factor": 0.01,
           "size": 25920000,
           "source": "AVHRR07_G-ESACCI-L1C-v1",
           "standard_name": "sea_surface_skin_temperature",
           "units": "kelvin",
           "valid_max": 5000,
           "valid_min": -200
          },
          "dims": [
           "time",
           "lat",
           "lon"
          ],
          "dtype": "int16",
          "name": "sea_surface_temperature",
          "ndim": 3
         },
         {
          "attrs": {
           "add_offset": 273.15,
           "chunk_sizes": [
            1,
            90,
            180
           ],
           "comment": "Temperature of the ocean at 20 cm depth; total uncertainty = sqrt(uncertainty_systematic^2+uncertainty_correlated^2+uncertainty_random^2+uncertainty_correlated_time_and_depth_adjustment^2)",
           "data_type": "int16",
           "depth": "0.2 metre",
           "dimensions": [
            "time",
            "lat",
            "lon"
           ],
           "fill_value": -32768,
           "long_name": "sea surface temperature at 0.2 m",
           "references": "http://www.esa-sst-cci.org",
           "scale_factor": 0.01,
           "size": 25920000,
           "source": "AVHRR07_G-ESACCI-L1C-v1",
           "standard_name": "sea_water_temperature",
           "units": "kelvin",
           "valid_max": 5000,
           "valid_min": -200
          },
          "dims": [
           "time",
           "lat",
           "lon"
          ],
          "dtype": "int16",
          "name": "sea_surface_temperature_depth",
          "ndim": 3
         },
         {
          "attrs": {
           "add_offset": 0,
           "chunk_sizes": [
            1,
            90,
            180
           ],
           "comment": "Temperature of the ocean at 20 cm depth; total uncertainty = sqrt(uncertainty_systematic^2+uncertainty_correlated^2+uncertainty_random^2+uncertainty_correlated_time_and_depth_adjustment^2)",
           "data_type": "int16",
           "depth": "0.2 metre",
           "dimensions": [
            "time",
            "lat",
            "lon"
           ],
           "fill_value": -32768,
           "long_name": "sea surface temperature anomaly at 0.2 m",
           "references": "http://www.esa-sst-cci.org",
           "scale_factor": 0.01,
           "size": 25920000,
           "source": "AVHRR07_G-ESACCI-L1C-v1",
           "standard_name": "sea_water_temperature_anomaly",
           "units": "kelvin",
           "valid_max": 4000,
           "valid_min": -4000
          },
          "dims": [
           "time",
           "lat",
           "lon"
          ],
          "dtype": "int16",
          "name": "sea_surface_temperature_depth_anomaly",
          "ndim": 3
         },
         {
          "attrs": {
           "add_offset": 0,
           "chunk_sizes": [
            1,
            90,
            180
           ],
           "comment": "time plus sst_dtime gives seconds after 1981-01-01 00:00:00",
           "data_type": "int32",
           "dimensions": [
            "time",
            "lat",
            "lon"
           ],
           "fill_value": -2147483648,
           "long_name": "time difference from reference time",
           "scale_factor": 1,
           "size": 25920000,
           "units": "seconds",
           "valid_max": 43200,
           "valid_min": -43200
          },
          "dims": [
           "time",
           "lat",
           "lon"
          ],
          "dtype": "int32",
          "name": "sst_dtime",
          "ndim": 3
         },
         {
          "attrs": {
           "add_offset": 0,
           "chunk_sizes": [
            1,
            90,
            180
           ],
           "comment": "time plus sst_depth_dtime gives seconds after 1981-01-01 00:00:00",
           "data_type": "int32",
           "dimensions": [
            "time",
            "lat",
            "lon"
           ],
           "fill_value": -2147483648,
           "long_name": "time difference from reference time",
           "scale_factor": 1,
           "size": 25920000,
           "units": "seconds",
           "valid_max": 43200,
           "valid_min": -43200
          },
          "dims": [
           "time",
           "lat",
           "lon"
          ],
          "dtype": "int32",
          "name": "sst_depth_dtime",
          "ndim": 3
         },
         {
          "attrs": {
           "_Unsigned": "false",
           "add_offset": 0,
           "chunk_sizes": [
            1,
            90,
            180
           ],
           "comment": "Populated with zeroes",
           "data_type": "uint8",
           "dimensions": [
            "time",
            "lat",
            "lon"
           ],
           "fill_value": -128,
           "long_name": "SSES bias estimate",
           "scale_factor": 0.01,
           "size": 25920000,
           "units": "kelvin",
           "valid_max": 127,
           "valid_min": -127
          },
          "dims": [
           "time",
           "lat",
           "lon"
          ],
          "dtype": "uint8",
          "name": "sses_bias",
          "ndim": 3
         },
         {
          "attrs": {
           "_Unsigned": "false",
           "add_offset": 1.27,
           "chunk_sizes": [
            1,
            90,
            180
           ],
           "comment": "Uncertainty information is contained in the variables uncertainty_systematic, uncertainty_correlated, and uncertainty_random",
           "data_type": "uint8",
           "dimensions": [
            "time",
            "lat",
            "lon"
           ],
           "fill_value": -128,
           "long_name": "SSES standard deviation",
           "scale_factor": 0.01,
           "size": 25920000,
           "units": "kelvin",
           "valid_max": 127,
           "valid_min": -127
          },
          "dims": [
           "time",
           "lat",
           "lon"
          ],
          "dtype": "uint8",
          "name": "sses_standard_deviation",
          "ndim": 3
         },
         {
          "attrs": {
           "add_offset": 0,
           "chunk_sizes": [
            1,
            90,
            180
           ],
           "comment": "Total uncertainty in each sea_surface_temperature data point",
           "data_type": "int16",
           "dimensions": [
            "time",
            "lat",
            "lon"
           ],
           "fill_value": -32768,
           "long_name": "Total uncertainty in sea_surface_temperature",
           "scale_factor": 0.001,
           "size": 25920000,
           "units": "kelvin",
           "valid_max": 5000,
           "valid_min": 0
          },
          "dims": [
           "time",
           "lat",
           "lon"
          ],
          "dtype": "int16",
          "name": "sea_surface_temperature_total_uncertainty",
          "ndim": 3
         },
         {
          "attrs": {
           "add_offset": 0,
           "chunk_sizes": [
            1,
            90,
            180
           ],
           "comment": "Total uncertainty in each sea_surface_temperature_depth data point",
           "data_type": "int16",
           "dimensions": [
            "time",
            "lat",
            "lon"
           ],
           "fill_value": -32768,
           "long_name": "Total uncertainty in sea_surface_temperature_depth",
           "scale_factor": 0.001,
           "size": 25920000,
           "units": "kelvin",
           "valid_max": 5000,
           "valid_min": 0
          },
          "dims": [
           "time",
           "lat",
           "lon"
          ],
          "dtype": "int16",
          "name": "sea_surface_temperature_depth_total_uncertainty",
          "ndim": 3
         },
         {
          "attrs": {
           "add_offset": 0,
           "chunk_sizes": [
            1,
            90,
            180
           ],
           "comment": "Add to sea_surface_temperature, if SST at 20cm at observation time is required",
           "data_type": "int16",
           "dimensions": [
            "time",
            "lat",
            "lon"
           ],
           "fill_value": -32768,
           "long_name": "Adjustment to sea surface temperature at 0.2 m",
           "scale_factor": 0.01,
           "size": 25920000,
           "units": "kelvin",
           "valid_max": 1000,
           "valid_min": -1000
          },
          "dims": [
           "time",
           "lat",
           "lon"
          ],
          "dtype": "int16",
          "name": "depth_adjustment",
          "ndim": 3
         },
         {
          "attrs": {
           "add_offset": 0,
           "chunk_sizes": [
            1,
            90,
            180
           ],
           "comment": "Add to sea_surface_temperature, if alternative SST retrieval is required",
           "data_type": "int16",
           "dimensions": [
            "time",
            "lat",
            "lon"
           ],
           "fill_value": -32768,
           "long_name": "Adjustment to alternative sea surface temperature retrieval",
           "scale_factor": 0.01,
           "size": 25920000,
           "units": "kelvin",
           "valid_max": 1000,
           "valid_min": -1000
          },
          "dims": [
           "time",
           "lat",
           "lon"
          ],
          "dtype": "int16",
          "name": "adjustment_alt",
          "ndim": 3
         },
         {
          "attrs": {
           "chunk_sizes": [
            1,
            90,
            180
           ],
           "comment": "These flags are important to properly use the data",
           "data_type": "int16",
           "dimensions": [
            "time",
            "lat",
            "lon"
           ],
           "fill_value": -32768,
           "flag_masks": [
            1,
            2,
            4,
            8,
            16,
            32,
            64,
            128,
            256
           ],
           "flag_meanings": "microwave land ice lake river spare views channels day",
           "long_name": "L2P flags",
           "size": 25920000,
           "valid_max": 511,
           "valid_min": 0
          },
          "dims": [
           "time",
           "lat",
           "lon"
          ],
          "dtype": "int16",
          "name": "l2p_flags",
          "ndim": 3
         },
         {
          "attrs": {
           "_Unsigned": "false",
           "chunk_sizes": [
            1,
            90,
            180
           ],
           "comment": "These are overall quality indicators and are used for all GHRSST SSTs",
           "data_type": "uint8",
           "dimensions": [
            "time",
            "lat",
            "lon"
           ],
           "fill_value": 0,
           "flag_meanings": "no_data bad_data worst_quality low_quality acceptable_quality best_quality",
           "flag_values": [
            0,
            1,
            2,
            3,
            4,
            5
           ],
           "long_name": "quality level of SST pixel",
           "size": 25920000,
           "valid_max": 5,
           "valid_min": 0
          },
          "dims": [
           "time",
           "lat",
           "lon"
          ],
          "dtype": "uint8",
          "name": "quality_level",
          "ndim": 3
         },
         {
          "attrs": {
           "_Unsigned": "false",
           "add_offset": 12.7,
           "chunk_sizes": [
            1,
            90,
            180
           ],
           "comment": "Wind speeds sourced from ECMWF ERA Interim Reanalysis; wind speeds greater than 25.4 m/s are set to 25.4.",
           "data_type": "uint8",
           "dimensions": [
            "time",
            "lat",
            "lon"
           ],
           "fill_value": -128,
           "height": "10 m",
           "long_name": "10m wind speed",
           "references": "http://www.esa-sst-cci.org",
           "scale_factor": 0.1,
           "size": 25920000,
           "source": "ERA_INTERIM-ECMWF-WSP-v1.0",
           "standard_name": "wind_speed",
           "time_offset": 0,
           "units": "m s-1",
           "valid_max": 127,
           "valid_min": -127
          },
          "dims": [
           "time",
           "lat",
           "lon"
          ],
          "dtype": "uint8",
          "name": "wind_speed",
          "ndim": 3
         },
         {
          "attrs": {
           "_Unsigned": "false",
           "chunk_sizes": [
            1,
            90,
            180
           ],
           "comment": "1. single view, two channel 2. single view, three channel 3. dual view, two channel 4. dual view, three channel 5. single view, 11 and 3.7 two channel",
           "data_type": "uint8",
           "dimensions": [
            "time",
            "lat",
            "lon"
           ],
           "fill_value": -128,
           "flag_meanings": "single_view_two_channel single_view_three_channel dual_view_two_channel dual_view_three_channel single_view_11_and_3.7_two_channel",
           "flag_values": [
            1,
            2,
            3,
            4,
            5
           ],
           "long_name": "Type of retrieval used for the primary SST",
           "size": 25920000,
           "valid_max": 5,
           "valid_min": 1
          },
          "dims": [
           "time",
           "lat",
           "lon"
          ],
          "dtype": "uint8",
          "name": "sea_surface_temperature_retrieval_type",
          "ndim": 3
         },
         {
          "attrs": {
           "_Unsigned": "false",
           "chunk_sizes": [
            1,
            90,
            180
           ],
           "comment": "For ATSRs, adjustment gives D2 (most consistent through time series) when D3 is provided as best. For AVHRRs, adjustment provides N2 when N3 is best. Reason for providing an alternative: can then use N2 or D2 consistently for whole record i",
           "data_type": "uint8",
           "dimensions": [
            "time",
            "lat",
            "lon"
           ],
           "fill_value": -128,
           "flag_meanings": "single_view_two_channel single_view_three_channel dual_view_two_channel dual_view_three_channel single_view_11_and_3.7_two_channel",
           "flag_values": [
            1,
            2,
            3,
            4,
            5
           ],
           "long_name": "Type of retrieval used for the alternate SST retrieval",
           "size": 25920000,
           "valid_max": 5,
           "valid_min": 1
          },
          "dims": [
           "time",
           "lat",
           "lon"
          ],
          "dtype": "uint8",
          "name": "alt_sst_retrieval_type",
          "ndim": 3
         },
         {
          "attrs": {
           "add_offset": 0,
           "chunk_sizes": [
            1,
            90,
            180
           ],
           "comment": "Component of uncertainty that is uncorrelated between SSTs; can be combined with other uncertainty estimates to form a total uncertainty",
           "data_type": "int16",
           "dimensions": [
            "time",
            "lat",
            "lon"
           ],
           "fill_value": -32768,
           "long_name": "Uncertainty from errors likely to be uncorrelated between SSTs",
           "references": "http://www.esa-sst-cci.org",
           "scale_factor": 0.001,
           "size": 25920000,
           "units": "kelvin",
           "valid_max": 5000,
           "valid_min": 0
          },
          "dims": [
           "time",
           "lat",
           "lon"
          ],
          "dtype": "int16",
          "name": "uncertainty_random",
          "ndim": 3
         },
         {
          "attrs": {
           "add_offset": 0,
           "chunk_sizes": [
            1,
            90,
            180
           ],
           "comment": "Component of uncertainty that is correlated over synoptic scales; can be combined with other uncertainty estimates to form a total uncertainty",
           "correlation_length_scale": "100 km",
           "correlation_time_scale": "1 day",
           "data_type": "int16",
           "dimensions": [
            "time",
            "lat",
            "lon"
           ],
           "fill_value": -32768,
           "long_name": "Uncertainty from errors likely to be correlated over synoptic scales",
           "references": "http://www.esa-sst-cci.org",
           "scale_factor": 0.001,
           "size": 25920000,
           "units": "kelvin",
           "valid_max": 5000,
           "valid_min": 0
          },
          "dims": [
           "time",
           "lat",
           "lon"
          ],
          "dtype": "int16",
          "name": "uncertainty_correlated",
          "ndim": 3
         },
         {
          "attrs": {
           "add_offset": 0,
           "chunk_sizes": [
            1,
            90,
            180
           ],
           "comment": "Component of uncertainty that is correlated over large scales; can be combined with other uncertainty estimates to form a total uncertainty",
           "data_type": "int16",
           "dimensions": [
            "time",
            "lat",
            "lon"
           ],
           "fill_value": -32768,
           "long_name": "Uncertainty from errors likely to be correlated over large scales",
           "references": "http://www.esa-sst-cci.org",
           "scale_factor": 0.001,
           "size": 25920000,
           "units": "kelvin",
           "valid_max": 5000,
           "valid_min": 0
          },
          "dims": [
           "time",
           "lat",
           "lon"
          ],
          "dtype": "int16",
          "name": "uncertainty_systematic",
          "ndim": 3
         },
         {
          "attrs": {
           "add_offset": 0,
           "chunk_sizes": [
            1,
            90,
            180
           ],
           "comment": "Adjustment uncertainty; can be combined with other uncertainty estimates to form a total uncertainty",
           "correlation_length_scale": "100 km",
           "correlation_time_scale": "1 day",
           "data_type": "int16",
           "dimensions": [
            "time",
            "lat",
            "lon"
           ],
           "fill_value": -32768,
           "long_name": "Time and depth adjustment uncertainty",
           "references": "http://www.esa-sst-cci.org",
           "scale_factor": 0.001,
           "size": 25920000,
           "units": "kelvin",
           "valid_max": 5000,
           "valid_min": 0
          },
          "dims": [
           "time",
           "lat",
           "lon"
          ],
          "dtype": "int16",
          "name": "uncertainty_correlated_time_and_depth_adjustment",
          "ndim": 3
         },
         {
          "attrs": {
           "add_offset": 0,
           "chunk_sizes": [
            1,
            90,
            180
           ],
           "comment": "Component of uncertainty in alternative SST retrieval that is uncorrelated between SSTs; can be combined with other uncertainty estimates to form a total uncertainty",
           "data_type": "int16",
           "dimensions": [
            "time",
            "lat",
            "lon"
           ],
           "fill_value": -32768,
           "long_name": "Uncertainty in alternative SST retrieval from errors likely to be uncorrelated between SSTs",
           "references": "http://www.esa-sst-cci.org",
           "scale_factor": 0.001,
           "size": 25920000,
           "units": "kelvin",
           "valid_max": 5000,
           "valid_min": 0
          },
          "dims": [
           "time",
           "lat",
           "lon"
          ],
          "dtype": "int16",
          "name": "uncertainty_random_alt",
          "ndim": 3
         },
         {
          "attrs": {
           "add_offset": 0,
           "chunk_sizes": [
            1,
            90,
            180
           ],
           "comment": "Component of uncertainty in alternative SST retrieval that is correlated over synoptic scales; can be combined with other uncertainty estimates to form a total uncertainty",
           "correlation_length_scale": "100 km",
           "correlation_time_scale": "1 day",
           "data_type": "int16",
           "dimensions": [
            "time",
            "lat",
            "lon"
           ],
           "fill_value": -32768,
           "long_name": "Uncertainty in alternative SST retrieval from errors likely to be correlated over synoptic scales",
           "references": "http://www.esa-sst-cci.org",
           "scale_factor": 0.001,
           "size": 25920000,
           "units": "kelvin",
           "valid_max": 5000,
           "valid_min": 0
          },
          "dims": [
           "time",
           "lat",
           "lon"
          ],
          "dtype": "int16",
          "name": "uncertainty_correlated_alt",
          "ndim": 3
         },
         {
          "attrs": {
           "add_offset": 0,
           "chunk_sizes": [
            1,
            90,
            180
           ],
           "comment": "Component of uncertainty in alternative SST retrieval that is correlated over large scales; can be combined with other uncertainty estimates to form a total uncertainty",
           "data_type": "int16",
           "dimensions": [
            "time",
            "lat",
            "lon"
           ],
           "fill_value": -32768,
           "long_name": "Uncertainty in alternative SST retrieval from errors likely to be correlated over large scales",
           "references": "http://www.esa-sst-cci.org",
           "scale_factor": 0.001,
           "size": 25920000,
           "units": "kelvin",
           "valid_max": 5000,
           "valid_min": 0
          },
          "dims": [
           "time",
           "lat",
           "lon"
          ],
          "dtype": "int16",
          "name": "uncertainty_systematic_alt",
          "ndim": 3
         },
         {
          "attrs": {
           "add_offset": 0,
           "chunk_sizes": [
            1,
            90,
            180
           ],
           "comment": "Sensitivity of the retrieval to actual changes in sea surface temperature",
           "data_type": "int16",
           "dimensions": [
            "time",
            "lat",
            "lon"
           ],
           "fill_value": -32768,
           "long_name": "Sensitivity of the retrieval to actual changes in sea surface temperature",
           "scale_factor": 0.001,
           "size": 25920000,
           "units": "K/K",
           "valid_max": 1100,
           "valid_min": 0
          },
          "dims": [
           "time",
           "lat",
           "lon"
          ],
          "dtype": "int16",
          "name": "sst_sensitivity",
          "ndim": 3
         },
         {
          "attrs": {
           "add_offset": 0,
           "chunk_sizes": [
            1,
            90,
            180
           ],
           "comment": "If not applied, fill with zeros to indicate independence from in situ",
           "data_type": "int16",
           "dimensions": [
            "time",
            "lat",
            "lon"
           ],
           "fill_value": -32768,
           "long_name": "Adjustment, based on comparison to in situ data",
           "scale_factor": 0.01,
           "size": 25920000,
           "units": "kelvin",
           "valid_max": 1000,
           "valid_min": -1000
          },
          "dims": [
           "time",
           "lat",
           "lon"
          ],
          "dtype": "int16",
          "name": "empirical_adjustment",
          "ndim": 3
         }
        ],
        "dims": {
         "bnds": 2,
         "lat": 3600,
         "lon": 7200,
         "time": 1
        },
        "open_params_schema": {
         "additionalProperties": false,
         "properties": {
          "bbox": {
           "items": [
            {
             "maximum": 180,
             "minimum": -180,
             "type": "number"
            },
            {
             "maximum": 90,
             "minimum": -90,
             "type": "number"
            },
            {
             "maximum": 180,
             "minimum": -180,
             "type": "number"
            },
            {
             "maximum": 90,
             "minimum": -90,
             "type": "number"
            }
           ],
           "type": "array"
          },
          "crs": {
           "const": "WGS84",
           "type": "string"
          },
          "spatial_res": {
           "const": 0.05,
           "type": "number"
          },
          "time_period": {
           "const": "1D",
           "type": "string"
          },
          "time_range": {
           "items": [
            {
             "format": "date",
             "maxDate": "2016-12-31",
             "minDate": "1981-08-23",
             "type": "string"
            },
            {
             "format": "date",
             "maxDate": "2016-12-31",
             "minDate": "1981-08-23",
             "type": "string"
            }
           ],
           "type": "array"
          },
          "variable_names": {
           "items": {
            "enum": [
             "sea_surface_temperature",
             "sea_surface_temperature_depth",
             "sea_surface_temperature_depth_anomaly",
             "sst_dtime",
             "sst_depth_dtime",
             "sses_bias",
             "sses_standard_deviation",
             "sea_surface_temperature_total_uncertainty",
             "sea_surface_temperature_depth_total_uncertainty",
             "depth_adjustment",
             "adjustment_alt",
             "l2p_flags",
             "quality_level",
             "wind_speed",
             "sea_surface_temperature_retrieval_type",
             "alt_sst_retrieval_type",
             "uncertainty_random",
             "uncertainty_correlated",
             "uncertainty_systematic",
             "uncertainty_correlated_time_and_depth_adjustment",
             "uncertainty_random_alt",
             "uncertainty_correlated_alt",
             "uncertainty_systematic_alt",
             "sst_sensitivity",
             "empirical_adjustment"
            ],
            "type": "string"
           },
           "type": "array"
          }
         },
         "type": "object"
        },
        "spatial_res": 0.05,
        "time_period": "1D",
        "time_range": [
         "1981-08-23",
         "2016-12-31"
        ],
        "type_specifier": "dataset"
       },
       {
        "attrs": {
         "abstract": "This v2.1 SST_cci Advanced Very High Resolution Radiometer (AVHRR) Level 3 Collated (L3C) Climate Data Record (CDR) consists of stable, low-bias sea surface temperature (SST) data from the AVHRR series of satellite instruments.  It covers the period between 08/1981 and 12/2016.  This L3C product provides these SST data on a 0.05 regular latitude-longitude grid and collated to include all orbits for a day (separated into daytime and nighttime files).\n\nThe dataset has been produced as part of the European Space Agency (ESA) Climate Change Initiative Sea Surface Temperature project(ESA SST_cci). The data products from SST_cci accurately map the surface temperature of the global oceans over the period 1981 to 2016 using observations from many satellites. The data provide independently quantified SSTs to a quality suitable for climate research.\n\nThis CDR Version 2.1 product supercedes the CDR Version 2.0 product.  Data are made freely and openly available under a Creative Commons License by Attribution (CC By 4.0) https://creativecommons.org/licenses/by/4.0/ .\n\nWhen citing this dataset please also cite the associated data paper: Merchant, C.J., Embury, O., Bulgin, C.E., Block T., Corlett, G.K., Fiedler, E., Good, S.A., Mittaz, J., Rayner, N.A., Berry, D., Eastwood, S., Taylor, M., Tsushima, Y., Waterfall, A., Wilson, R., Donlon, C. Satellite-based time-series of sea-surface temperature since 1981 for climate applications, Scientific Data 6:223 (2019). http://doi.org/10.1038/s41597-019-0236-x",
         "bbox_maxx": "180.0",
         "bbox_maxy": "90.0",
         "bbox_minx": "-180.0",
         "bbox_miny": "-90.0",
         "cci_project": "SST",
         "creation_date": "2019-08-02T20:01:15",
         "data_type": "SSTskin",
         "drs_ids": [
          "esacci.SST.day.L3C.SSTskin.AVHRR-3.NOAA-15.AVHRR15_G.2-1.day",
          "esacci.SST.day.L3C.SSTskin.AVHRR-3.NOAA-15.AVHRR15_G.2-1.night",
          "esacci.SST.day.L3C.SSTskin.AVHRR-3.Metop-A.AVHRRMTA_G.2-1.day",
          "esacci.SST.day.L3C.SSTskin.AVHRR-3.Metop-A.AVHRRMTA_G.2-1.night",
          "esacci.SST.day.L3C.SSTskin.AVHRR-3.NOAA-19.AVHRR19_G.2-1.day",
          "esacci.SST.day.L3C.SSTskin.AVHRR-3.NOAA-19.AVHRR19_G.2-1.night",
          "esacci.SST.day.L3C.SSTskin.AVHRR-3.NOAA-17.AVHRR17_G.2-1.day",
          "esacci.SST.day.L3C.SSTskin.AVHRR-3.NOAA-17.AVHRR17_G.2-1.night",
          "esacci.SST.day.L3C.SSTskin.AVHRR-2.NOAA-12.AVHRR12_G.2-1.day",
          "esacci.SST.day.L3C.SSTskin.AVHRR-2.NOAA-12.AVHRR12_G.2-1.night",
          "esacci.SST.day.L3C.SSTskin.AVHRR-2.NOAA-11.AVHRR11_G.2-1.day",
          "esacci.SST.day.L3C.SSTskin.AVHRR-2.NOAA-11.AVHRR11_G.2-1.night",
          "esacci.SST.day.L3C.SSTskin.AVHRR-2.NOAA-14.AVHRR14_G.2-1.day",
          "esacci.SST.day.L3C.SSTskin.AVHRR-2.NOAA-14.AVHRR14_G.2-1.night",
          "esacci.SST.day.L3C.SSTskin.AVHRR-3.NOAA-18.AVHRR18_G.2-1.day",
          "esacci.SST.day.L3C.SSTskin.AVHRR-3.NOAA-18.AVHRR18_G.2-1.night",
          "esacci.SST.day.L3C.SSTskin.AVHRR-2.NOAA-9.AVHRR09_G.2-1.day",
          "esacci.SST.day.L3C.SSTskin.AVHRR-2.NOAA-9.AVHRR09_G.2-1.night",
          "esacci.SST.day.L3C.SSTskin.AVHRR-3.NOAA-16.AVHRR16_G.2-1.day",
          "esacci.SST.day.L3C.SSTskin.AVHRR-3.NOAA-16.AVHRR16_G.2-1.night",
          "esacci.SST.day.L3C.SSTskin.AVHRR-2.NOAA-7.AVHRR07_G.2-1.day",
          "esacci.SST.day.L3C.SSTskin.AVHRR-2.NOAA-7.AVHRR07_G.2-1.night"
         ],
         "ecv": "SST",
         "fid": "7db4459605da4665b6ab9a7102fb4875",
         "file_formats": [
          ".nc",
          ".txt"
         ],
         "institute": "ESACCI_SST",
         "licences": "Use of these data is covered by the following licence: https://artefacts.ceda.ac.uk/licences/specific_licences/esacci_sst_terms_and_conditions_v2.pdf . When using these data you must cite them correctly using the citation given on the CEDA Data Catalogue record.",
         "metadata_url": "https://catalogue.ceda.ac.uk/export/xml/7db4459605da4665b6ab9a7102fb4875.xml",
         "odd_url": "http://archive.opensearch.ceda.ac.uk/opensearch/description.xml?parentIdentifier=7db4459605da4665b6ab9a7102fb4875",
         "platform_id": "NOAA-18",
         "processing_level": "L3C",
         "product_string": "AVHRR18_G",
         "product_version": "2-1",
         "publication_date": "2019-08-02T20:01:15",
         "sensor_id": "AVHRR-3",
         "temporal_coverage_end": "2016-12-31T23:59:59",
         "temporal_coverage_start": "1981-08-23T23:00:00",
         "time_frequency": "day",
         "title": "ESA Sea Surface Temperature Climate Change Initiative (SST_cci): Advanced Very High Resolution Radiometer (AVHRR) Level 3 Collated (L3C) Climate Data Record, version 2.1",
         "uuid": "7db4459605da4665b6ab9a7102fb4875"
        },
        "bbox": [
         -180,
         -90,
         180,
         90
        ],
        "data_id": "esacci.SST.day.L3C.SSTskin.AVHRR-3.NOAA-18.AVHRR18_G.2-1.night",
        "data_vars": [
         {
          "attrs": {
           "add_offset": 273.15,
           "chunk_sizes": [
            1,
            90,
            180
           ],
           "comment": "Temperature of the skin of the ocean; total uncertainty = sqrt(uncertainty_systematic^2+uncertainty_correlated^2+uncertainty_random^2)",
           "data_type": "int16",
           "depth": "10 micrometres",
           "dimensions": [
            "time",
            "lat",
            "lon"
           ],
           "fill_value": -32768,
           "long_name": "sea surface skin temperature",
           "references": "http://www.esa-sst-cci.org",
           "scale_factor": 0.01,
           "size": 25920000,
           "source": "AVHRR07_G-ESACCI-L1C-v1",
           "standard_name": "sea_surface_skin_temperature",
           "units": "kelvin",
           "valid_max": 5000,
           "valid_min": -200
          },
          "dims": [
           "time",
           "lat",
           "lon"
          ],
          "dtype": "int16",
          "name": "sea_surface_temperature",
          "ndim": 3
         },
         {
          "attrs": {
           "add_offset": 273.15,
           "chunk_sizes": [
            1,
            90,
            180
           ],
           "comment": "Temperature of the ocean at 20 cm depth; total uncertainty = sqrt(uncertainty_systematic^2+uncertainty_correlated^2+uncertainty_random^2+uncertainty_correlated_time_and_depth_adjustment^2)",
           "data_type": "int16",
           "depth": "0.2 metre",
           "dimensions": [
            "time",
            "lat",
            "lon"
           ],
           "fill_value": -32768,
           "long_name": "sea surface temperature at 0.2 m",
           "references": "http://www.esa-sst-cci.org",
           "scale_factor": 0.01,
           "size": 25920000,
           "source": "AVHRR07_G-ESACCI-L1C-v1",
           "standard_name": "sea_water_temperature",
           "units": "kelvin",
           "valid_max": 5000,
           "valid_min": -200
          },
          "dims": [
           "time",
           "lat",
           "lon"
          ],
          "dtype": "int16",
          "name": "sea_surface_temperature_depth",
          "ndim": 3
         },
         {
          "attrs": {
           "add_offset": 0,
           "chunk_sizes": [
            1,
            90,
            180
           ],
           "comment": "Temperature of the ocean at 20 cm depth; total uncertainty = sqrt(uncertainty_systematic^2+uncertainty_correlated^2+uncertainty_random^2+uncertainty_correlated_time_and_depth_adjustment^2)",
           "data_type": "int16",
           "depth": "0.2 metre",
           "dimensions": [
            "time",
            "lat",
            "lon"
           ],
           "fill_value": -32768,
           "long_name": "sea surface temperature anomaly at 0.2 m",
           "references": "http://www.esa-sst-cci.org",
           "scale_factor": 0.01,
           "size": 25920000,
           "source": "AVHRR07_G-ESACCI-L1C-v1",
           "standard_name": "sea_water_temperature_anomaly",
           "units": "kelvin",
           "valid_max": 4000,
           "valid_min": -4000
          },
          "dims": [
           "time",
           "lat",
           "lon"
          ],
          "dtype": "int16",
          "name": "sea_surface_temperature_depth_anomaly",
          "ndim": 3
         },
         {
          "attrs": {
           "add_offset": 0,
           "chunk_sizes": [
            1,
            90,
            180
           ],
           "comment": "time plus sst_dtime gives seconds after 1981-01-01 00:00:00",
           "data_type": "int32",
           "dimensions": [
            "time",
            "lat",
            "lon"
           ],
           "fill_value": -2147483648,
           "long_name": "time difference from reference time",
           "scale_factor": 1,
           "size": 25920000,
           "units": "seconds",
           "valid_max": 43200,
           "valid_min": -43200
          },
          "dims": [
           "time",
           "lat",
           "lon"
          ],
          "dtype": "int32",
          "name": "sst_dtime",
          "ndim": 3
         },
         {
          "attrs": {
           "add_offset": 0,
           "chunk_sizes": [
            1,
            90,
            180
           ],
           "comment": "time plus sst_depth_dtime gives seconds after 1981-01-01 00:00:00",
           "data_type": "int32",
           "dimensions": [
            "time",
            "lat",
            "lon"
           ],
           "fill_value": -2147483648,
           "long_name": "time difference from reference time",
           "scale_factor": 1,
           "size": 25920000,
           "units": "seconds",
           "valid_max": 43200,
           "valid_min": -43200
          },
          "dims": [
           "time",
           "lat",
           "lon"
          ],
          "dtype": "int32",
          "name": "sst_depth_dtime",
          "ndim": 3
         },
         {
          "attrs": {
           "_Unsigned": "false",
           "add_offset": 0,
           "chunk_sizes": [
            1,
            90,
            180
           ],
           "comment": "Populated with zeroes",
           "data_type": "uint8",
           "dimensions": [
            "time",
            "lat",
            "lon"
           ],
           "fill_value": -128,
           "long_name": "SSES bias estimate",
           "scale_factor": 0.01,
           "size": 25920000,
           "units": "kelvin",
           "valid_max": 127,
           "valid_min": -127
          },
          "dims": [
           "time",
           "lat",
           "lon"
          ],
          "dtype": "uint8",
          "name": "sses_bias",
          "ndim": 3
         },
         {
          "attrs": {
           "_Unsigned": "false",
           "add_offset": 1.27,
           "chunk_sizes": [
            1,
            90,
            180
           ],
           "comment": "Uncertainty information is contained in the variables uncertainty_systematic, uncertainty_correlated, and uncertainty_random",
           "data_type": "uint8",
           "dimensions": [
            "time",
            "lat",
            "lon"
           ],
           "fill_value": -128,
           "long_name": "SSES standard deviation",
           "scale_factor": 0.01,
           "size": 25920000,
           "units": "kelvin",
           "valid_max": 127,
           "valid_min": -127
          },
          "dims": [
           "time",
           "lat",
           "lon"
          ],
          "dtype": "uint8",
          "name": "sses_standard_deviation",
          "ndim": 3
         },
         {
          "attrs": {
           "add_offset": 0,
           "chunk_sizes": [
            1,
            90,
            180
           ],
           "comment": "Total uncertainty in each sea_surface_temperature data point",
           "data_type": "int16",
           "dimensions": [
            "time",
            "lat",
            "lon"
           ],
           "fill_value": -32768,
           "long_name": "Total uncertainty in sea_surface_temperature",
           "scale_factor": 0.001,
           "size": 25920000,
           "units": "kelvin",
           "valid_max": 5000,
           "valid_min": 0
          },
          "dims": [
           "time",
           "lat",
           "lon"
          ],
          "dtype": "int16",
          "name": "sea_surface_temperature_total_uncertainty",
          "ndim": 3
         },
         {
          "attrs": {
           "add_offset": 0,
           "chunk_sizes": [
            1,
            90,
            180
           ],
           "comment": "Total uncertainty in each sea_surface_temperature_depth data point",
           "data_type": "int16",
           "dimensions": [
            "time",
            "lat",
            "lon"
           ],
           "fill_value": -32768,
           "long_name": "Total uncertainty in sea_surface_temperature_depth",
           "scale_factor": 0.001,
           "size": 25920000,
           "units": "kelvin",
           "valid_max": 5000,
           "valid_min": 0
          },
          "dims": [
           "time",
           "lat",
           "lon"
          ],
          "dtype": "int16",
          "name": "sea_surface_temperature_depth_total_uncertainty",
          "ndim": 3
         },
         {
          "attrs": {
           "add_offset": 0,
           "chunk_sizes": [
            1,
            90,
            180
           ],
           "comment": "Add to sea_surface_temperature, if SST at 20cm at observation time is required",
           "data_type": "int16",
           "dimensions": [
            "time",
            "lat",
            "lon"
           ],
           "fill_value": -32768,
           "long_name": "Adjustment to sea surface temperature at 0.2 m",
           "scale_factor": 0.01,
           "size": 25920000,
           "units": "kelvin",
           "valid_max": 1000,
           "valid_min": -1000
          },
          "dims": [
           "time",
           "lat",
           "lon"
          ],
          "dtype": "int16",
          "name": "depth_adjustment",
          "ndim": 3
         },
         {
          "attrs": {
           "add_offset": 0,
           "chunk_sizes": [
            1,
            90,
            180
           ],
           "comment": "Add to sea_surface_temperature, if alternative SST retrieval is required",
           "data_type": "int16",
           "dimensions": [
            "time",
            "lat",
            "lon"
           ],
           "fill_value": -32768,
           "long_name": "Adjustment to alternative sea surface temperature retrieval",
           "scale_factor": 0.01,
           "size": 25920000,
           "units": "kelvin",
           "valid_max": 1000,
           "valid_min": -1000
          },
          "dims": [
           "time",
           "lat",
           "lon"
          ],
          "dtype": "int16",
          "name": "adjustment_alt",
          "ndim": 3
         },
         {
          "attrs": {
           "chunk_sizes": [
            1,
            90,
            180
           ],
           "comment": "These flags are important to properly use the data",
           "data_type": "int16",
           "dimensions": [
            "time",
            "lat",
            "lon"
           ],
           "fill_value": -32768,
           "flag_masks": [
            1,
            2,
            4,
            8,
            16,
            32,
            64,
            128,
            256
           ],
           "flag_meanings": "microwave land ice lake river spare views channels day",
           "long_name": "L2P flags",
           "size": 25920000,
           "valid_max": 511,
           "valid_min": 0
          },
          "dims": [
           "time",
           "lat",
           "lon"
          ],
          "dtype": "int16",
          "name": "l2p_flags",
          "ndim": 3
         },
         {
          "attrs": {
           "_Unsigned": "false",
           "chunk_sizes": [
            1,
            90,
            180
           ],
           "comment": "These are overall quality indicators and are used for all GHRSST SSTs",
           "data_type": "uint8",
           "dimensions": [
            "time",
            "lat",
            "lon"
           ],
           "fill_value": 0,
           "flag_meanings": "no_data bad_data worst_quality low_quality acceptable_quality best_quality",
           "flag_values": [
            0,
            1,
            2,
            3,
            4,
            5
           ],
           "long_name": "quality level of SST pixel",
           "size": 25920000,
           "valid_max": 5,
           "valid_min": 0
          },
          "dims": [
           "time",
           "lat",
           "lon"
          ],
          "dtype": "uint8",
          "name": "quality_level",
          "ndim": 3
         },
         {
          "attrs": {
           "_Unsigned": "false",
           "add_offset": 12.7,
           "chunk_sizes": [
            1,
            90,
            180
           ],
           "comment": "Wind speeds sourced from ECMWF ERA Interim Reanalysis; wind speeds greater than 25.4 m/s are set to 25.4.",
           "data_type": "uint8",
           "dimensions": [
            "time",
            "lat",
            "lon"
           ],
           "fill_value": -128,
           "height": "10 m",
           "long_name": "10m wind speed",
           "references": "http://www.esa-sst-cci.org",
           "scale_factor": 0.1,
           "size": 25920000,
           "source": "ERA_INTERIM-ECMWF-WSP-v1.0",
           "standard_name": "wind_speed",
           "time_offset": 0,
           "units": "m s-1",
           "valid_max": 127,
           "valid_min": -127
          },
          "dims": [
           "time",
           "lat",
           "lon"
          ],
          "dtype": "uint8",
          "name": "wind_speed",
          "ndim": 3
         },
         {
          "attrs": {
           "_Unsigned": "false",
           "chunk_sizes": [
            1,
            90,
            180
           ],
           "comment": "1. single view, two channel 2. single view, three channel 3. dual view, two channel 4. dual view, three channel 5. single view, 11 and 3.7 two channel",
           "data_type": "uint8",
           "dimensions": [
            "time",
            "lat",
            "lon"
           ],
           "fill_value": -128,
           "flag_meanings": "single_view_two_channel single_view_three_channel dual_view_two_channel dual_view_three_channel single_view_11_and_3.7_two_channel",
           "flag_values": [
            1,
            2,
            3,
            4,
            5
           ],
           "long_name": "Type of retrieval used for the primary SST",
           "size": 25920000,
           "valid_max": 5,
           "valid_min": 1
          },
          "dims": [
           "time",
           "lat",
           "lon"
          ],
          "dtype": "uint8",
          "name": "sea_surface_temperature_retrieval_type",
          "ndim": 3
         },
         {
          "attrs": {
           "_Unsigned": "false",
           "chunk_sizes": [
            1,
            90,
            180
           ],
           "comment": "For ATSRs, adjustment gives D2 (most consistent through time series) when D3 is provided as best. For AVHRRs, adjustment provides N2 when N3 is best. Reason for providing an alternative: can then use N2 or D2 consistently for whole record i",
           "data_type": "uint8",
           "dimensions": [
            "time",
            "lat",
            "lon"
           ],
           "fill_value": -128,
           "flag_meanings": "single_view_two_channel single_view_three_channel dual_view_two_channel dual_view_three_channel single_view_11_and_3.7_two_channel",
           "flag_values": [
            1,
            2,
            3,
            4,
            5
           ],
           "long_name": "Type of retrieval used for the alternate SST retrieval",
           "size": 25920000,
           "valid_max": 5,
           "valid_min": 1
          },
          "dims": [
           "time",
           "lat",
           "lon"
          ],
          "dtype": "uint8",
          "name": "alt_sst_retrieval_type",
          "ndim": 3
         },
         {
          "attrs": {
           "add_offset": 0,
           "chunk_sizes": [
            1,
            90,
            180
           ],
           "comment": "Component of uncertainty that is uncorrelated between SSTs; can be combined with other uncertainty estimates to form a total uncertainty",
           "data_type": "int16",
           "dimensions": [
            "time",
            "lat",
            "lon"
           ],
           "fill_value": -32768,
           "long_name": "Uncertainty from errors likely to be uncorrelated between SSTs",
           "references": "http://www.esa-sst-cci.org",
           "scale_factor": 0.001,
           "size": 25920000,
           "units": "kelvin",
           "valid_max": 5000,
           "valid_min": 0
          },
          "dims": [
           "time",
           "lat",
           "lon"
          ],
          "dtype": "int16",
          "name": "uncertainty_random",
          "ndim": 3
         },
         {
          "attrs": {
           "add_offset": 0,
           "chunk_sizes": [
            1,
            90,
            180
           ],
           "comment": "Component of uncertainty that is correlated over synoptic scales; can be combined with other uncertainty estimates to form a total uncertainty",
           "correlation_length_scale": "100 km",
           "correlation_time_scale": "1 day",
           "data_type": "int16",
           "dimensions": [
            "time",
            "lat",
            "lon"
           ],
           "fill_value": -32768,
           "long_name": "Uncertainty from errors likely to be correlated over synoptic scales",
           "references": "http://www.esa-sst-cci.org",
           "scale_factor": 0.001,
           "size": 25920000,
           "units": "kelvin",
           "valid_max": 5000,
           "valid_min": 0
          },
          "dims": [
           "time",
           "lat",
           "lon"
          ],
          "dtype": "int16",
          "name": "uncertainty_correlated",
          "ndim": 3
         },
         {
          "attrs": {
           "add_offset": 0,
           "chunk_sizes": [
            1,
            90,
            180
           ],
           "comment": "Component of uncertainty that is correlated over large scales; can be combined with other uncertainty estimates to form a total uncertainty",
           "data_type": "int16",
           "dimensions": [
            "time",
            "lat",
            "lon"
           ],
           "fill_value": -32768,
           "long_name": "Uncertainty from errors likely to be correlated over large scales",
           "references": "http://www.esa-sst-cci.org",
           "scale_factor": 0.001,
           "size": 25920000,
           "units": "kelvin",
           "valid_max": 5000,
           "valid_min": 0
          },
          "dims": [
           "time",
           "lat",
           "lon"
          ],
          "dtype": "int16",
          "name": "uncertainty_systematic",
          "ndim": 3
         },
         {
          "attrs": {
           "add_offset": 0,
           "chunk_sizes": [
            1,
            90,
            180
           ],
           "comment": "Adjustment uncertainty; can be combined with other uncertainty estimates to form a total uncertainty",
           "correlation_length_scale": "100 km",
           "correlation_time_scale": "1 day",
           "data_type": "int16",
           "dimensions": [
            "time",
            "lat",
            "lon"
           ],
           "fill_value": -32768,
           "long_name": "Time and depth adjustment uncertainty",
           "references": "http://www.esa-sst-cci.org",
           "scale_factor": 0.001,
           "size": 25920000,
           "units": "kelvin",
           "valid_max": 5000,
           "valid_min": 0
          },
          "dims": [
           "time",
           "lat",
           "lon"
          ],
          "dtype": "int16",
          "name": "uncertainty_correlated_time_and_depth_adjustment",
          "ndim": 3
         },
         {
          "attrs": {
           "add_offset": 0,
           "chunk_sizes": [
            1,
            90,
            180
           ],
           "comment": "Component of uncertainty in alternative SST retrieval that is uncorrelated between SSTs; can be combined with other uncertainty estimates to form a total uncertainty",
           "data_type": "int16",
           "dimensions": [
            "time",
            "lat",
            "lon"
           ],
           "fill_value": -32768,
           "long_name": "Uncertainty in alternative SST retrieval from errors likely to be uncorrelated between SSTs",
           "references": "http://www.esa-sst-cci.org",
           "scale_factor": 0.001,
           "size": 25920000,
           "units": "kelvin",
           "valid_max": 5000,
           "valid_min": 0
          },
          "dims": [
           "time",
           "lat",
           "lon"
          ],
          "dtype": "int16",
          "name": "uncertainty_random_alt",
          "ndim": 3
         },
         {
          "attrs": {
           "add_offset": 0,
           "chunk_sizes": [
            1,
            90,
            180
           ],
           "comment": "Component of uncertainty in alternative SST retrieval that is correlated over synoptic scales; can be combined with other uncertainty estimates to form a total uncertainty",
           "correlation_length_scale": "100 km",
           "correlation_time_scale": "1 day",
           "data_type": "int16",
           "dimensions": [
            "time",
            "lat",
            "lon"
           ],
           "fill_value": -32768,
           "long_name": "Uncertainty in alternative SST retrieval from errors likely to be correlated over synoptic scales",
           "references": "http://www.esa-sst-cci.org",
           "scale_factor": 0.001,
           "size": 25920000,
           "units": "kelvin",
           "valid_max": 5000,
           "valid_min": 0
          },
          "dims": [
           "time",
           "lat",
           "lon"
          ],
          "dtype": "int16",
          "name": "uncertainty_correlated_alt",
          "ndim": 3
         },
         {
          "attrs": {
           "add_offset": 0,
           "chunk_sizes": [
            1,
            90,
            180
           ],
           "comment": "Component of uncertainty in alternative SST retrieval that is correlated over large scales; can be combined with other uncertainty estimates to form a total uncertainty",
           "data_type": "int16",
           "dimensions": [
            "time",
            "lat",
            "lon"
           ],
           "fill_value": -32768,
           "long_name": "Uncertainty in alternative SST retrieval from errors likely to be correlated over large scales",
           "references": "http://www.esa-sst-cci.org",
           "scale_factor": 0.001,
           "size": 25920000,
           "units": "kelvin",
           "valid_max": 5000,
           "valid_min": 0
          },
          "dims": [
           "time",
           "lat",
           "lon"
          ],
          "dtype": "int16",
          "name": "uncertainty_systematic_alt",
          "ndim": 3
         },
         {
          "attrs": {
           "add_offset": 0,
           "chunk_sizes": [
            1,
            90,
            180
           ],
           "comment": "Sensitivity of the retrieval to actual changes in sea surface temperature",
           "data_type": "int16",
           "dimensions": [
            "time",
            "lat",
            "lon"
           ],
           "fill_value": -32768,
           "long_name": "Sensitivity of the retrieval to actual changes in sea surface temperature",
           "scale_factor": 0.001,
           "size": 25920000,
           "units": "K/K",
           "valid_max": 1100,
           "valid_min": 0
          },
          "dims": [
           "time",
           "lat",
           "lon"
          ],
          "dtype": "int16",
          "name": "sst_sensitivity",
          "ndim": 3
         },
         {
          "attrs": {
           "add_offset": 0,
           "chunk_sizes": [
            1,
            90,
            180
           ],
           "comment": "If not applied, fill with zeros to indicate independence from in situ",
           "data_type": "int16",
           "dimensions": [
            "time",
            "lat",
            "lon"
           ],
           "fill_value": -32768,
           "long_name": "Adjustment, based on comparison to in situ data",
           "scale_factor": 0.01,
           "size": 25920000,
           "units": "kelvin",
           "valid_max": 1000,
           "valid_min": -1000
          },
          "dims": [
           "time",
           "lat",
           "lon"
          ],
          "dtype": "int16",
          "name": "empirical_adjustment",
          "ndim": 3
         }
        ],
        "dims": {
         "bnds": 2,
         "lat": 3600,
         "lon": 7200,
         "time": 1
        },
        "open_params_schema": {
         "additionalProperties": false,
         "properties": {
          "bbox": {
           "items": [
            {
             "maximum": 180,
             "minimum": -180,
             "type": "number"
            },
            {
             "maximum": 90,
             "minimum": -90,
             "type": "number"
            },
            {
             "maximum": 180,
             "minimum": -180,
             "type": "number"
            },
            {
             "maximum": 90,
             "minimum": -90,
             "type": "number"
            }
           ],
           "type": "array"
          },
          "crs": {
           "const": "WGS84",
           "type": "string"
          },
          "spatial_res": {
           "const": 0.05,
           "type": "number"
          },
          "time_period": {
           "const": "1D",
           "type": "string"
          },
          "time_range": {
           "items": [
            {
             "format": "date",
             "maxDate": "2016-12-31",
             "minDate": "1981-08-23",
             "type": "string"
            },
            {
             "format": "date",
             "maxDate": "2016-12-31",
             "minDate": "1981-08-23",
             "type": "string"
            }
           ],
           "type": "array"
          },
          "variable_names": {
           "items": {
            "enum": [
             "sea_surface_temperature",
             "sea_surface_temperature_depth",
             "sea_surface_temperature_depth_anomaly",
             "sst_dtime",
             "sst_depth_dtime",
             "sses_bias",
             "sses_standard_deviation",
             "sea_surface_temperature_total_uncertainty",
             "sea_surface_temperature_depth_total_uncertainty",
             "depth_adjustment",
             "adjustment_alt",
             "l2p_flags",
             "quality_level",
             "wind_speed",
             "sea_surface_temperature_retrieval_type",
             "alt_sst_retrieval_type",
             "uncertainty_random",
             "uncertainty_correlated",
             "uncertainty_systematic",
             "uncertainty_correlated_time_and_depth_adjustment",
             "uncertainty_random_alt",
             "uncertainty_correlated_alt",
             "uncertainty_systematic_alt",
             "sst_sensitivity",
             "empirical_adjustment"
            ],
            "type": "string"
           },
           "type": "array"
          }
         },
         "type": "object"
        },
        "spatial_res": 0.05,
        "time_period": "1D",
        "time_range": [
         "1981-08-23",
         "2016-12-31"
        ],
        "type_specifier": "dataset"
       },
       {
        "attrs": {
         "abstract": "This v2.1 SST_cci Advanced Very High Resolution Radiometer (AVHRR) Level 3 Collated (L3C) Climate Data Record (CDR) consists of stable, low-bias sea surface temperature (SST) data from the AVHRR series of satellite instruments.  It covers the period between 08/1981 and 12/2016.  This L3C product provides these SST data on a 0.05 regular latitude-longitude grid and collated to include all orbits for a day (separated into daytime and nighttime files).\n\nThe dataset has been produced as part of the European Space Agency (ESA) Climate Change Initiative Sea Surface Temperature project(ESA SST_cci). The data products from SST_cci accurately map the surface temperature of the global oceans over the period 1981 to 2016 using observations from many satellites. The data provide independently quantified SSTs to a quality suitable for climate research.\n\nThis CDR Version 2.1 product supercedes the CDR Version 2.0 product.  Data are made freely and openly available under a Creative Commons License by Attribution (CC By 4.0) https://creativecommons.org/licenses/by/4.0/ .\n\nWhen citing this dataset please also cite the associated data paper: Merchant, C.J., Embury, O., Bulgin, C.E., Block T., Corlett, G.K., Fiedler, E., Good, S.A., Mittaz, J., Rayner, N.A., Berry, D., Eastwood, S., Taylor, M., Tsushima, Y., Waterfall, A., Wilson, R., Donlon, C. Satellite-based time-series of sea-surface temperature since 1981 for climate applications, Scientific Data 6:223 (2019). http://doi.org/10.1038/s41597-019-0236-x",
         "bbox_maxx": "180.0",
         "bbox_maxy": "90.0",
         "bbox_minx": "-180.0",
         "bbox_miny": "-90.0",
         "cci_project": "SST",
         "creation_date": "2019-08-02T20:01:15",
         "data_type": "SSTskin",
         "drs_ids": [
          "esacci.SST.day.L3C.SSTskin.AVHRR-3.NOAA-15.AVHRR15_G.2-1.day",
          "esacci.SST.day.L3C.SSTskin.AVHRR-3.NOAA-15.AVHRR15_G.2-1.night",
          "esacci.SST.day.L3C.SSTskin.AVHRR-3.Metop-A.AVHRRMTA_G.2-1.day",
          "esacci.SST.day.L3C.SSTskin.AVHRR-3.Metop-A.AVHRRMTA_G.2-1.night",
          "esacci.SST.day.L3C.SSTskin.AVHRR-3.NOAA-19.AVHRR19_G.2-1.day",
          "esacci.SST.day.L3C.SSTskin.AVHRR-3.NOAA-19.AVHRR19_G.2-1.night",
          "esacci.SST.day.L3C.SSTskin.AVHRR-3.NOAA-17.AVHRR17_G.2-1.day",
          "esacci.SST.day.L3C.SSTskin.AVHRR-3.NOAA-17.AVHRR17_G.2-1.night",
          "esacci.SST.day.L3C.SSTskin.AVHRR-2.NOAA-12.AVHRR12_G.2-1.day",
          "esacci.SST.day.L3C.SSTskin.AVHRR-2.NOAA-12.AVHRR12_G.2-1.night",
          "esacci.SST.day.L3C.SSTskin.AVHRR-2.NOAA-11.AVHRR11_G.2-1.day",
          "esacci.SST.day.L3C.SSTskin.AVHRR-2.NOAA-11.AVHRR11_G.2-1.night",
          "esacci.SST.day.L3C.SSTskin.AVHRR-2.NOAA-14.AVHRR14_G.2-1.day",
          "esacci.SST.day.L3C.SSTskin.AVHRR-2.NOAA-14.AVHRR14_G.2-1.night",
          "esacci.SST.day.L3C.SSTskin.AVHRR-3.NOAA-18.AVHRR18_G.2-1.day",
          "esacci.SST.day.L3C.SSTskin.AVHRR-3.NOAA-18.AVHRR18_G.2-1.night",
          "esacci.SST.day.L3C.SSTskin.AVHRR-2.NOAA-9.AVHRR09_G.2-1.day",
          "esacci.SST.day.L3C.SSTskin.AVHRR-2.NOAA-9.AVHRR09_G.2-1.night",
          "esacci.SST.day.L3C.SSTskin.AVHRR-3.NOAA-16.AVHRR16_G.2-1.day",
          "esacci.SST.day.L3C.SSTskin.AVHRR-3.NOAA-16.AVHRR16_G.2-1.night",
          "esacci.SST.day.L3C.SSTskin.AVHRR-2.NOAA-7.AVHRR07_G.2-1.day",
          "esacci.SST.day.L3C.SSTskin.AVHRR-2.NOAA-7.AVHRR07_G.2-1.night"
         ],
         "ecv": "SST",
         "fid": "7db4459605da4665b6ab9a7102fb4875",
         "file_formats": [
          ".nc",
          ".txt"
         ],
         "institute": "ESACCI_SST",
         "licences": "Use of these data is covered by the following licence: https://artefacts.ceda.ac.uk/licences/specific_licences/esacci_sst_terms_and_conditions_v2.pdf . When using these data you must cite them correctly using the citation given on the CEDA Data Catalogue record.",
         "metadata_url": "https://catalogue.ceda.ac.uk/export/xml/7db4459605da4665b6ab9a7102fb4875.xml",
         "odd_url": "http://archive.opensearch.ceda.ac.uk/opensearch/description.xml?parentIdentifier=7db4459605da4665b6ab9a7102fb4875",
         "platform_id": "NOAA-19",
         "processing_level": "L3C",
         "product_string": "AVHRR19_G",
         "product_version": "2-1",
         "publication_date": "2019-08-02T20:01:15",
         "sensor_id": "AVHRR-3",
         "temporal_coverage_end": "2016-12-31T23:59:59",
         "temporal_coverage_start": "1981-08-23T23:00:00",
         "time_frequency": "day",
         "title": "ESA Sea Surface Temperature Climate Change Initiative (SST_cci): Advanced Very High Resolution Radiometer (AVHRR) Level 3 Collated (L3C) Climate Data Record, version 2.1",
         "uuid": "7db4459605da4665b6ab9a7102fb4875"
        },
        "bbox": [
         -180,
         -90,
         180,
         90
        ],
        "data_id": "esacci.SST.day.L3C.SSTskin.AVHRR-3.NOAA-19.AVHRR19_G.2-1.day",
        "data_vars": [
         {
          "attrs": {
           "add_offset": 273.15,
           "chunk_sizes": [
            1,
            90,
            180
           ],
           "comment": "Temperature of the skin of the ocean; total uncertainty = sqrt(uncertainty_systematic^2+uncertainty_correlated^2+uncertainty_random^2)",
           "data_type": "int16",
           "depth": "10 micrometres",
           "dimensions": [
            "time",
            "lat",
            "lon"
           ],
           "fill_value": -32768,
           "long_name": "sea surface skin temperature",
           "references": "http://www.esa-sst-cci.org",
           "scale_factor": 0.01,
           "size": 25920000,
           "source": "AVHRR07_G-ESACCI-L1C-v1",
           "standard_name": "sea_surface_skin_temperature",
           "units": "kelvin",
           "valid_max": 5000,
           "valid_min": -200
          },
          "dims": [
           "time",
           "lat",
           "lon"
          ],
          "dtype": "int16",
          "name": "sea_surface_temperature",
          "ndim": 3
         },
         {
          "attrs": {
           "add_offset": 273.15,
           "chunk_sizes": [
            1,
            90,
            180
           ],
           "comment": "Temperature of the ocean at 20 cm depth; total uncertainty = sqrt(uncertainty_systematic^2+uncertainty_correlated^2+uncertainty_random^2+uncertainty_correlated_time_and_depth_adjustment^2)",
           "data_type": "int16",
           "depth": "0.2 metre",
           "dimensions": [
            "time",
            "lat",
            "lon"
           ],
           "fill_value": -32768,
           "long_name": "sea surface temperature at 0.2 m",
           "references": "http://www.esa-sst-cci.org",
           "scale_factor": 0.01,
           "size": 25920000,
           "source": "AVHRR07_G-ESACCI-L1C-v1",
           "standard_name": "sea_water_temperature",
           "units": "kelvin",
           "valid_max": 5000,
           "valid_min": -200
          },
          "dims": [
           "time",
           "lat",
           "lon"
          ],
          "dtype": "int16",
          "name": "sea_surface_temperature_depth",
          "ndim": 3
         },
         {
          "attrs": {
           "add_offset": 0,
           "chunk_sizes": [
            1,
            90,
            180
           ],
           "comment": "Temperature of the ocean at 20 cm depth; total uncertainty = sqrt(uncertainty_systematic^2+uncertainty_correlated^2+uncertainty_random^2+uncertainty_correlated_time_and_depth_adjustment^2)",
           "data_type": "int16",
           "depth": "0.2 metre",
           "dimensions": [
            "time",
            "lat",
            "lon"
           ],
           "fill_value": -32768,
           "long_name": "sea surface temperature anomaly at 0.2 m",
           "references": "http://www.esa-sst-cci.org",
           "scale_factor": 0.01,
           "size": 25920000,
           "source": "AVHRR07_G-ESACCI-L1C-v1",
           "standard_name": "sea_water_temperature_anomaly",
           "units": "kelvin",
           "valid_max": 4000,
           "valid_min": -4000
          },
          "dims": [
           "time",
           "lat",
           "lon"
          ],
          "dtype": "int16",
          "name": "sea_surface_temperature_depth_anomaly",
          "ndim": 3
         },
         {
          "attrs": {
           "add_offset": 0,
           "chunk_sizes": [
            1,
            90,
            180
           ],
           "comment": "time plus sst_dtime gives seconds after 1981-01-01 00:00:00",
           "data_type": "int32",
           "dimensions": [
            "time",
            "lat",
            "lon"
           ],
           "fill_value": -2147483648,
           "long_name": "time difference from reference time",
           "scale_factor": 1,
           "size": 25920000,
           "units": "seconds",
           "valid_max": 43200,
           "valid_min": -43200
          },
          "dims": [
           "time",
           "lat",
           "lon"
          ],
          "dtype": "int32",
          "name": "sst_dtime",
          "ndim": 3
         },
         {
          "attrs": {
           "add_offset": 0,
           "chunk_sizes": [
            1,
            90,
            180
           ],
           "comment": "time plus sst_depth_dtime gives seconds after 1981-01-01 00:00:00",
           "data_type": "int32",
           "dimensions": [
            "time",
            "lat",
            "lon"
           ],
           "fill_value": -2147483648,
           "long_name": "time difference from reference time",
           "scale_factor": 1,
           "size": 25920000,
           "units": "seconds",
           "valid_max": 43200,
           "valid_min": -43200
          },
          "dims": [
           "time",
           "lat",
           "lon"
          ],
          "dtype": "int32",
          "name": "sst_depth_dtime",
          "ndim": 3
         },
         {
          "attrs": {
           "_Unsigned": "false",
           "add_offset": 0,
           "chunk_sizes": [
            1,
            90,
            180
           ],
           "comment": "Populated with zeroes",
           "data_type": "uint8",
           "dimensions": [
            "time",
            "lat",
            "lon"
           ],
           "fill_value": -128,
           "long_name": "SSES bias estimate",
           "scale_factor": 0.01,
           "size": 25920000,
           "units": "kelvin",
           "valid_max": 127,
           "valid_min": -127
          },
          "dims": [
           "time",
           "lat",
           "lon"
          ],
          "dtype": "uint8",
          "name": "sses_bias",
          "ndim": 3
         },
         {
          "attrs": {
           "_Unsigned": "false",
           "add_offset": 1.27,
           "chunk_sizes": [
            1,
            90,
            180
           ],
           "comment": "Uncertainty information is contained in the variables uncertainty_systematic, uncertainty_correlated, and uncertainty_random",
           "data_type": "uint8",
           "dimensions": [
            "time",
            "lat",
            "lon"
           ],
           "fill_value": -128,
           "long_name": "SSES standard deviation",
           "scale_factor": 0.01,
           "size": 25920000,
           "units": "kelvin",
           "valid_max": 127,
           "valid_min": -127
          },
          "dims": [
           "time",
           "lat",
           "lon"
          ],
          "dtype": "uint8",
          "name": "sses_standard_deviation",
          "ndim": 3
         },
         {
          "attrs": {
           "add_offset": 0,
           "chunk_sizes": [
            1,
            90,
            180
           ],
           "comment": "Total uncertainty in each sea_surface_temperature data point",
           "data_type": "int16",
           "dimensions": [
            "time",
            "lat",
            "lon"
           ],
           "fill_value": -32768,
           "long_name": "Total uncertainty in sea_surface_temperature",
           "scale_factor": 0.001,
           "size": 25920000,
           "units": "kelvin",
           "valid_max": 5000,
           "valid_min": 0
          },
          "dims": [
           "time",
           "lat",
           "lon"
          ],
          "dtype": "int16",
          "name": "sea_surface_temperature_total_uncertainty",
          "ndim": 3
         },
         {
          "attrs": {
           "add_offset": 0,
           "chunk_sizes": [
            1,
            90,
            180
           ],
           "comment": "Total uncertainty in each sea_surface_temperature_depth data point",
           "data_type": "int16",
           "dimensions": [
            "time",
            "lat",
            "lon"
           ],
           "fill_value": -32768,
           "long_name": "Total uncertainty in sea_surface_temperature_depth",
           "scale_factor": 0.001,
           "size": 25920000,
           "units": "kelvin",
           "valid_max": 5000,
           "valid_min": 0
          },
          "dims": [
           "time",
           "lat",
           "lon"
          ],
          "dtype": "int16",
          "name": "sea_surface_temperature_depth_total_uncertainty",
          "ndim": 3
         },
         {
          "attrs": {
           "add_offset": 0,
           "chunk_sizes": [
            1,
            90,
            180
           ],
           "comment": "Add to sea_surface_temperature, if SST at 20cm at observation time is required",
           "data_type": "int16",
           "dimensions": [
            "time",
            "lat",
            "lon"
           ],
           "fill_value": -32768,
           "long_name": "Adjustment to sea surface temperature at 0.2 m",
           "scale_factor": 0.01,
           "size": 25920000,
           "units": "kelvin",
           "valid_max": 1000,
           "valid_min": -1000
          },
          "dims": [
           "time",
           "lat",
           "lon"
          ],
          "dtype": "int16",
          "name": "depth_adjustment",
          "ndim": 3
         },
         {
          "attrs": {
           "add_offset": 0,
           "chunk_sizes": [
            1,
            90,
            180
           ],
           "comment": "Add to sea_surface_temperature, if alternative SST retrieval is required",
           "data_type": "int16",
           "dimensions": [
            "time",
            "lat",
            "lon"
           ],
           "fill_value": -32768,
           "long_name": "Adjustment to alternative sea surface temperature retrieval",
           "scale_factor": 0.01,
           "size": 25920000,
           "units": "kelvin",
           "valid_max": 1000,
           "valid_min": -1000
          },
          "dims": [
           "time",
           "lat",
           "lon"
          ],
          "dtype": "int16",
          "name": "adjustment_alt",
          "ndim": 3
         },
         {
          "attrs": {
           "chunk_sizes": [
            1,
            90,
            180
           ],
           "comment": "These flags are important to properly use the data",
           "data_type": "int16",
           "dimensions": [
            "time",
            "lat",
            "lon"
           ],
           "fill_value": -32768,
           "flag_masks": [
            1,
            2,
            4,
            8,
            16,
            32,
            64,
            128,
            256
           ],
           "flag_meanings": "microwave land ice lake river spare views channels day",
           "long_name": "L2P flags",
           "size": 25920000,
           "valid_max": 511,
           "valid_min": 0
          },
          "dims": [
           "time",
           "lat",
           "lon"
          ],
          "dtype": "int16",
          "name": "l2p_flags",
          "ndim": 3
         },
         {
          "attrs": {
           "_Unsigned": "false",
           "chunk_sizes": [
            1,
            90,
            180
           ],
           "comment": "These are overall quality indicators and are used for all GHRSST SSTs",
           "data_type": "uint8",
           "dimensions": [
            "time",
            "lat",
            "lon"
           ],
           "fill_value": 0,
           "flag_meanings": "no_data bad_data worst_quality low_quality acceptable_quality best_quality",
           "flag_values": [
            0,
            1,
            2,
            3,
            4,
            5
           ],
           "long_name": "quality level of SST pixel",
           "size": 25920000,
           "valid_max": 5,
           "valid_min": 0
          },
          "dims": [
           "time",
           "lat",
           "lon"
          ],
          "dtype": "uint8",
          "name": "quality_level",
          "ndim": 3
         },
         {
          "attrs": {
           "_Unsigned": "false",
           "add_offset": 12.7,
           "chunk_sizes": [
            1,
            90,
            180
           ],
           "comment": "Wind speeds sourced from ECMWF ERA Interim Reanalysis; wind speeds greater than 25.4 m/s are set to 25.4.",
           "data_type": "uint8",
           "dimensions": [
            "time",
            "lat",
            "lon"
           ],
           "fill_value": -128,
           "height": "10 m",
           "long_name": "10m wind speed",
           "references": "http://www.esa-sst-cci.org",
           "scale_factor": 0.1,
           "size": 25920000,
           "source": "ERA_INTERIM-ECMWF-WSP-v1.0",
           "standard_name": "wind_speed",
           "time_offset": 0,
           "units": "m s-1",
           "valid_max": 127,
           "valid_min": -127
          },
          "dims": [
           "time",
           "lat",
           "lon"
          ],
          "dtype": "uint8",
          "name": "wind_speed",
          "ndim": 3
         },
         {
          "attrs": {
           "_Unsigned": "false",
           "chunk_sizes": [
            1,
            90,
            180
           ],
           "comment": "1. single view, two channel 2. single view, three channel 3. dual view, two channel 4. dual view, three channel 5. single view, 11 and 3.7 two channel",
           "data_type": "uint8",
           "dimensions": [
            "time",
            "lat",
            "lon"
           ],
           "fill_value": -128,
           "flag_meanings": "single_view_two_channel single_view_three_channel dual_view_two_channel dual_view_three_channel single_view_11_and_3.7_two_channel",
           "flag_values": [
            1,
            2,
            3,
            4,
            5
           ],
           "long_name": "Type of retrieval used for the primary SST",
           "size": 25920000,
           "valid_max": 5,
           "valid_min": 1
          },
          "dims": [
           "time",
           "lat",
           "lon"
          ],
          "dtype": "uint8",
          "name": "sea_surface_temperature_retrieval_type",
          "ndim": 3
         },
         {
          "attrs": {
           "_Unsigned": "false",
           "chunk_sizes": [
            1,
            90,
            180
           ],
           "comment": "For ATSRs, adjustment gives D2 (most consistent through time series) when D3 is provided as best. For AVHRRs, adjustment provides N2 when N3 is best. Reason for providing an alternative: can then use N2 or D2 consistently for whole record i",
           "data_type": "uint8",
           "dimensions": [
            "time",
            "lat",
            "lon"
           ],
           "fill_value": -128,
           "flag_meanings": "single_view_two_channel single_view_three_channel dual_view_two_channel dual_view_three_channel single_view_11_and_3.7_two_channel",
           "flag_values": [
            1,
            2,
            3,
            4,
            5
           ],
           "long_name": "Type of retrieval used for the alternate SST retrieval",
           "size": 25920000,
           "valid_max": 5,
           "valid_min": 1
          },
          "dims": [
           "time",
           "lat",
           "lon"
          ],
          "dtype": "uint8",
          "name": "alt_sst_retrieval_type",
          "ndim": 3
         },
         {
          "attrs": {
           "add_offset": 0,
           "chunk_sizes": [
            1,
            90,
            180
           ],
           "comment": "Component of uncertainty that is uncorrelated between SSTs; can be combined with other uncertainty estimates to form a total uncertainty",
           "data_type": "int16",
           "dimensions": [
            "time",
            "lat",
            "lon"
           ],
           "fill_value": -32768,
           "long_name": "Uncertainty from errors likely to be uncorrelated between SSTs",
           "references": "http://www.esa-sst-cci.org",
           "scale_factor": 0.001,
           "size": 25920000,
           "units": "kelvin",
           "valid_max": 5000,
           "valid_min": 0
          },
          "dims": [
           "time",
           "lat",
           "lon"
          ],
          "dtype": "int16",
          "name": "uncertainty_random",
          "ndim": 3
         },
         {
          "attrs": {
           "add_offset": 0,
           "chunk_sizes": [
            1,
            90,
            180
           ],
           "comment": "Component of uncertainty that is correlated over synoptic scales; can be combined with other uncertainty estimates to form a total uncertainty",
           "correlation_length_scale": "100 km",
           "correlation_time_scale": "1 day",
           "data_type": "int16",
           "dimensions": [
            "time",
            "lat",
            "lon"
           ],
           "fill_value": -32768,
           "long_name": "Uncertainty from errors likely to be correlated over synoptic scales",
           "references": "http://www.esa-sst-cci.org",
           "scale_factor": 0.001,
           "size": 25920000,
           "units": "kelvin",
           "valid_max": 5000,
           "valid_min": 0
          },
          "dims": [
           "time",
           "lat",
           "lon"
          ],
          "dtype": "int16",
          "name": "uncertainty_correlated",
          "ndim": 3
         },
         {
          "attrs": {
           "add_offset": 0,
           "chunk_sizes": [
            1,
            90,
            180
           ],
           "comment": "Component of uncertainty that is correlated over large scales; can be combined with other uncertainty estimates to form a total uncertainty",
           "data_type": "int16",
           "dimensions": [
            "time",
            "lat",
            "lon"
           ],
           "fill_value": -32768,
           "long_name": "Uncertainty from errors likely to be correlated over large scales",
           "references": "http://www.esa-sst-cci.org",
           "scale_factor": 0.001,
           "size": 25920000,
           "units": "kelvin",
           "valid_max": 5000,
           "valid_min": 0
          },
          "dims": [
           "time",
           "lat",
           "lon"
          ],
          "dtype": "int16",
          "name": "uncertainty_systematic",
          "ndim": 3
         },
         {
          "attrs": {
           "add_offset": 0,
           "chunk_sizes": [
            1,
            90,
            180
           ],
           "comment": "Adjustment uncertainty; can be combined with other uncertainty estimates to form a total uncertainty",
           "correlation_length_scale": "100 km",
           "correlation_time_scale": "1 day",
           "data_type": "int16",
           "dimensions": [
            "time",
            "lat",
            "lon"
           ],
           "fill_value": -32768,
           "long_name": "Time and depth adjustment uncertainty",
           "references": "http://www.esa-sst-cci.org",
           "scale_factor": 0.001,
           "size": 25920000,
           "units": "kelvin",
           "valid_max": 5000,
           "valid_min": 0
          },
          "dims": [
           "time",
           "lat",
           "lon"
          ],
          "dtype": "int16",
          "name": "uncertainty_correlated_time_and_depth_adjustment",
          "ndim": 3
         },
         {
          "attrs": {
           "add_offset": 0,
           "chunk_sizes": [
            1,
            90,
            180
           ],
           "comment": "Component of uncertainty in alternative SST retrieval that is uncorrelated between SSTs; can be combined with other uncertainty estimates to form a total uncertainty",
           "data_type": "int16",
           "dimensions": [
            "time",
            "lat",
            "lon"
           ],
           "fill_value": -32768,
           "long_name": "Uncertainty in alternative SST retrieval from errors likely to be uncorrelated between SSTs",
           "references": "http://www.esa-sst-cci.org",
           "scale_factor": 0.001,
           "size": 25920000,
           "units": "kelvin",
           "valid_max": 5000,
           "valid_min": 0
          },
          "dims": [
           "time",
           "lat",
           "lon"
          ],
          "dtype": "int16",
          "name": "uncertainty_random_alt",
          "ndim": 3
         },
         {
          "attrs": {
           "add_offset": 0,
           "chunk_sizes": [
            1,
            90,
            180
           ],
           "comment": "Component of uncertainty in alternative SST retrieval that is correlated over synoptic scales; can be combined with other uncertainty estimates to form a total uncertainty",
           "correlation_length_scale": "100 km",
           "correlation_time_scale": "1 day",
           "data_type": "int16",
           "dimensions": [
            "time",
            "lat",
            "lon"
           ],
           "fill_value": -32768,
           "long_name": "Uncertainty in alternative SST retrieval from errors likely to be correlated over synoptic scales",
           "references": "http://www.esa-sst-cci.org",
           "scale_factor": 0.001,
           "size": 25920000,
           "units": "kelvin",
           "valid_max": 5000,
           "valid_min": 0
          },
          "dims": [
           "time",
           "lat",
           "lon"
          ],
          "dtype": "int16",
          "name": "uncertainty_correlated_alt",
          "ndim": 3
         },
         {
          "attrs": {
           "add_offset": 0,
           "chunk_sizes": [
            1,
            90,
            180
           ],
           "comment": "Component of uncertainty in alternative SST retrieval that is correlated over large scales; can be combined with other uncertainty estimates to form a total uncertainty",
           "data_type": "int16",
           "dimensions": [
            "time",
            "lat",
            "lon"
           ],
           "fill_value": -32768,
           "long_name": "Uncertainty in alternative SST retrieval from errors likely to be correlated over large scales",
           "references": "http://www.esa-sst-cci.org",
           "scale_factor": 0.001,
           "size": 25920000,
           "units": "kelvin",
           "valid_max": 5000,
           "valid_min": 0
          },
          "dims": [
           "time",
           "lat",
           "lon"
          ],
          "dtype": "int16",
          "name": "uncertainty_systematic_alt",
          "ndim": 3
         },
         {
          "attrs": {
           "add_offset": 0,
           "chunk_sizes": [
            1,
            90,
            180
           ],
           "comment": "Sensitivity of the retrieval to actual changes in sea surface temperature",
           "data_type": "int16",
           "dimensions": [
            "time",
            "lat",
            "lon"
           ],
           "fill_value": -32768,
           "long_name": "Sensitivity of the retrieval to actual changes in sea surface temperature",
           "scale_factor": 0.001,
           "size": 25920000,
           "units": "K/K",
           "valid_max": 1100,
           "valid_min": 0
          },
          "dims": [
           "time",
           "lat",
           "lon"
          ],
          "dtype": "int16",
          "name": "sst_sensitivity",
          "ndim": 3
         },
         {
          "attrs": {
           "add_offset": 0,
           "chunk_sizes": [
            1,
            90,
            180
           ],
           "comment": "If not applied, fill with zeros to indicate independence from in situ",
           "data_type": "int16",
           "dimensions": [
            "time",
            "lat",
            "lon"
           ],
           "fill_value": -32768,
           "long_name": "Adjustment, based on comparison to in situ data",
           "scale_factor": 0.01,
           "size": 25920000,
           "units": "kelvin",
           "valid_max": 1000,
           "valid_min": -1000
          },
          "dims": [
           "time",
           "lat",
           "lon"
          ],
          "dtype": "int16",
          "name": "empirical_adjustment",
          "ndim": 3
         }
        ],
        "dims": {
         "bnds": 2,
         "lat": 3600,
         "lon": 7200,
         "time": 1
        },
        "open_params_schema": {
         "additionalProperties": false,
         "properties": {
          "bbox": {
           "items": [
            {
             "maximum": 180,
             "minimum": -180,
             "type": "number"
            },
            {
             "maximum": 90,
             "minimum": -90,
             "type": "number"
            },
            {
             "maximum": 180,
             "minimum": -180,
             "type": "number"
            },
            {
             "maximum": 90,
             "minimum": -90,
             "type": "number"
            }
           ],
           "type": "array"
          },
          "crs": {
           "const": "WGS84",
           "type": "string"
          },
          "spatial_res": {
           "const": 0.05,
           "type": "number"
          },
          "time_period": {
           "const": "1D",
           "type": "string"
          },
          "time_range": {
           "items": [
            {
             "format": "date",
             "maxDate": "2016-12-31",
             "minDate": "1981-08-23",
             "type": "string"
            },
            {
             "format": "date",
             "maxDate": "2016-12-31",
             "minDate": "1981-08-23",
             "type": "string"
            }
           ],
           "type": "array"
          },
          "variable_names": {
           "items": {
            "enum": [
             "sea_surface_temperature",
             "sea_surface_temperature_depth",
             "sea_surface_temperature_depth_anomaly",
             "sst_dtime",
             "sst_depth_dtime",
             "sses_bias",
             "sses_standard_deviation",
             "sea_surface_temperature_total_uncertainty",
             "sea_surface_temperature_depth_total_uncertainty",
             "depth_adjustment",
             "adjustment_alt",
             "l2p_flags",
             "quality_level",
             "wind_speed",
             "sea_surface_temperature_retrieval_type",
             "alt_sst_retrieval_type",
             "uncertainty_random",
             "uncertainty_correlated",
             "uncertainty_systematic",
             "uncertainty_correlated_time_and_depth_adjustment",
             "uncertainty_random_alt",
             "uncertainty_correlated_alt",
             "uncertainty_systematic_alt",
             "sst_sensitivity",
             "empirical_adjustment"
            ],
            "type": "string"
           },
           "type": "array"
          }
         },
         "type": "object"
        },
        "spatial_res": 0.05,
        "time_period": "1D",
        "time_range": [
         "1981-08-23",
         "2016-12-31"
        ],
        "type_specifier": "dataset"
       },
       {
        "attrs": {
         "abstract": "This v2.1 SST_cci Advanced Very High Resolution Radiometer (AVHRR) Level 3 Collated (L3C) Climate Data Record (CDR) consists of stable, low-bias sea surface temperature (SST) data from the AVHRR series of satellite instruments.  It covers the period between 08/1981 and 12/2016.  This L3C product provides these SST data on a 0.05 regular latitude-longitude grid and collated to include all orbits for a day (separated into daytime and nighttime files).\n\nThe dataset has been produced as part of the European Space Agency (ESA) Climate Change Initiative Sea Surface Temperature project(ESA SST_cci). The data products from SST_cci accurately map the surface temperature of the global oceans over the period 1981 to 2016 using observations from many satellites. The data provide independently quantified SSTs to a quality suitable for climate research.\n\nThis CDR Version 2.1 product supercedes the CDR Version 2.0 product.  Data are made freely and openly available under a Creative Commons License by Attribution (CC By 4.0) https://creativecommons.org/licenses/by/4.0/ .\n\nWhen citing this dataset please also cite the associated data paper: Merchant, C.J., Embury, O., Bulgin, C.E., Block T., Corlett, G.K., Fiedler, E., Good, S.A., Mittaz, J., Rayner, N.A., Berry, D., Eastwood, S., Taylor, M., Tsushima, Y., Waterfall, A., Wilson, R., Donlon, C. Satellite-based time-series of sea-surface temperature since 1981 for climate applications, Scientific Data 6:223 (2019). http://doi.org/10.1038/s41597-019-0236-x",
         "bbox_maxx": "180.0",
         "bbox_maxy": "90.0",
         "bbox_minx": "-180.0",
         "bbox_miny": "-90.0",
         "cci_project": "SST",
         "creation_date": "2019-08-02T20:01:15",
         "data_type": "SSTskin",
         "drs_ids": [
          "esacci.SST.day.L3C.SSTskin.AVHRR-3.NOAA-15.AVHRR15_G.2-1.day",
          "esacci.SST.day.L3C.SSTskin.AVHRR-3.NOAA-15.AVHRR15_G.2-1.night",
          "esacci.SST.day.L3C.SSTskin.AVHRR-3.Metop-A.AVHRRMTA_G.2-1.day",
          "esacci.SST.day.L3C.SSTskin.AVHRR-3.Metop-A.AVHRRMTA_G.2-1.night",
          "esacci.SST.day.L3C.SSTskin.AVHRR-3.NOAA-19.AVHRR19_G.2-1.day",
          "esacci.SST.day.L3C.SSTskin.AVHRR-3.NOAA-19.AVHRR19_G.2-1.night",
          "esacci.SST.day.L3C.SSTskin.AVHRR-3.NOAA-17.AVHRR17_G.2-1.day",
          "esacci.SST.day.L3C.SSTskin.AVHRR-3.NOAA-17.AVHRR17_G.2-1.night",
          "esacci.SST.day.L3C.SSTskin.AVHRR-2.NOAA-12.AVHRR12_G.2-1.day",
          "esacci.SST.day.L3C.SSTskin.AVHRR-2.NOAA-12.AVHRR12_G.2-1.night",
          "esacci.SST.day.L3C.SSTskin.AVHRR-2.NOAA-11.AVHRR11_G.2-1.day",
          "esacci.SST.day.L3C.SSTskin.AVHRR-2.NOAA-11.AVHRR11_G.2-1.night",
          "esacci.SST.day.L3C.SSTskin.AVHRR-2.NOAA-14.AVHRR14_G.2-1.day",
          "esacci.SST.day.L3C.SSTskin.AVHRR-2.NOAA-14.AVHRR14_G.2-1.night",
          "esacci.SST.day.L3C.SSTskin.AVHRR-3.NOAA-18.AVHRR18_G.2-1.day",
          "esacci.SST.day.L3C.SSTskin.AVHRR-3.NOAA-18.AVHRR18_G.2-1.night",
          "esacci.SST.day.L3C.SSTskin.AVHRR-2.NOAA-9.AVHRR09_G.2-1.day",
          "esacci.SST.day.L3C.SSTskin.AVHRR-2.NOAA-9.AVHRR09_G.2-1.night",
          "esacci.SST.day.L3C.SSTskin.AVHRR-3.NOAA-16.AVHRR16_G.2-1.day",
          "esacci.SST.day.L3C.SSTskin.AVHRR-3.NOAA-16.AVHRR16_G.2-1.night",
          "esacci.SST.day.L3C.SSTskin.AVHRR-2.NOAA-7.AVHRR07_G.2-1.day",
          "esacci.SST.day.L3C.SSTskin.AVHRR-2.NOAA-7.AVHRR07_G.2-1.night"
         ],
         "ecv": "SST",
         "fid": "7db4459605da4665b6ab9a7102fb4875",
         "file_formats": [
          ".nc",
          ".txt"
         ],
         "institute": "ESACCI_SST",
         "licences": "Use of these data is covered by the following licence: https://artefacts.ceda.ac.uk/licences/specific_licences/esacci_sst_terms_and_conditions_v2.pdf . When using these data you must cite them correctly using the citation given on the CEDA Data Catalogue record.",
         "metadata_url": "https://catalogue.ceda.ac.uk/export/xml/7db4459605da4665b6ab9a7102fb4875.xml",
         "odd_url": "http://archive.opensearch.ceda.ac.uk/opensearch/description.xml?parentIdentifier=7db4459605da4665b6ab9a7102fb4875",
         "platform_id": "NOAA-19",
         "processing_level": "L3C",
         "product_string": "AVHRR19_G",
         "product_version": "2-1",
         "publication_date": "2019-08-02T20:01:15",
         "sensor_id": "AVHRR-3",
         "temporal_coverage_end": "2016-12-31T23:59:59",
         "temporal_coverage_start": "1981-08-23T23:00:00",
         "time_frequency": "day",
         "title": "ESA Sea Surface Temperature Climate Change Initiative (SST_cci): Advanced Very High Resolution Radiometer (AVHRR) Level 3 Collated (L3C) Climate Data Record, version 2.1",
         "uuid": "7db4459605da4665b6ab9a7102fb4875"
        },
        "bbox": [
         -180,
         -90,
         180,
         90
        ],
        "data_id": "esacci.SST.day.L3C.SSTskin.AVHRR-3.NOAA-19.AVHRR19_G.2-1.night",
        "data_vars": [
         {
          "attrs": {
           "add_offset": 273.15,
           "chunk_sizes": [
            1,
            90,
            180
           ],
           "comment": "Temperature of the skin of the ocean; total uncertainty = sqrt(uncertainty_systematic^2+uncertainty_correlated^2+uncertainty_random^2)",
           "data_type": "int16",
           "depth": "10 micrometres",
           "dimensions": [
            "time",
            "lat",
            "lon"
           ],
           "fill_value": -32768,
           "long_name": "sea surface skin temperature",
           "references": "http://www.esa-sst-cci.org",
           "scale_factor": 0.01,
           "size": 25920000,
           "source": "AVHRR07_G-ESACCI-L1C-v1",
           "standard_name": "sea_surface_skin_temperature",
           "units": "kelvin",
           "valid_max": 5000,
           "valid_min": -200
          },
          "dims": [
           "time",
           "lat",
           "lon"
          ],
          "dtype": "int16",
          "name": "sea_surface_temperature",
          "ndim": 3
         },
         {
          "attrs": {
           "add_offset": 273.15,
           "chunk_sizes": [
            1,
            90,
            180
           ],
           "comment": "Temperature of the ocean at 20 cm depth; total uncertainty = sqrt(uncertainty_systematic^2+uncertainty_correlated^2+uncertainty_random^2+uncertainty_correlated_time_and_depth_adjustment^2)",
           "data_type": "int16",
           "depth": "0.2 metre",
           "dimensions": [
            "time",
            "lat",
            "lon"
           ],
           "fill_value": -32768,
           "long_name": "sea surface temperature at 0.2 m",
           "references": "http://www.esa-sst-cci.org",
           "scale_factor": 0.01,
           "size": 25920000,
           "source": "AVHRR07_G-ESACCI-L1C-v1",
           "standard_name": "sea_water_temperature",
           "units": "kelvin",
           "valid_max": 5000,
           "valid_min": -200
          },
          "dims": [
           "time",
           "lat",
           "lon"
          ],
          "dtype": "int16",
          "name": "sea_surface_temperature_depth",
          "ndim": 3
         },
         {
          "attrs": {
           "add_offset": 0,
           "chunk_sizes": [
            1,
            90,
            180
           ],
           "comment": "Temperature of the ocean at 20 cm depth; total uncertainty = sqrt(uncertainty_systematic^2+uncertainty_correlated^2+uncertainty_random^2+uncertainty_correlated_time_and_depth_adjustment^2)",
           "data_type": "int16",
           "depth": "0.2 metre",
           "dimensions": [
            "time",
            "lat",
            "lon"
           ],
           "fill_value": -32768,
           "long_name": "sea surface temperature anomaly at 0.2 m",
           "references": "http://www.esa-sst-cci.org",
           "scale_factor": 0.01,
           "size": 25920000,
           "source": "AVHRR07_G-ESACCI-L1C-v1",
           "standard_name": "sea_water_temperature_anomaly",
           "units": "kelvin",
           "valid_max": 4000,
           "valid_min": -4000
          },
          "dims": [
           "time",
           "lat",
           "lon"
          ],
          "dtype": "int16",
          "name": "sea_surface_temperature_depth_anomaly",
          "ndim": 3
         },
         {
          "attrs": {
           "add_offset": 0,
           "chunk_sizes": [
            1,
            90,
            180
           ],
           "comment": "time plus sst_dtime gives seconds after 1981-01-01 00:00:00",
           "data_type": "int32",
           "dimensions": [
            "time",
            "lat",
            "lon"
           ],
           "fill_value": -2147483648,
           "long_name": "time difference from reference time",
           "scale_factor": 1,
           "size": 25920000,
           "units": "seconds",
           "valid_max": 43200,
           "valid_min": -43200
          },
          "dims": [
           "time",
           "lat",
           "lon"
          ],
          "dtype": "int32",
          "name": "sst_dtime",
          "ndim": 3
         },
         {
          "attrs": {
           "add_offset": 0,
           "chunk_sizes": [
            1,
            90,
            180
           ],
           "comment": "time plus sst_depth_dtime gives seconds after 1981-01-01 00:00:00",
           "data_type": "int32",
           "dimensions": [
            "time",
            "lat",
            "lon"
           ],
           "fill_value": -2147483648,
           "long_name": "time difference from reference time",
           "scale_factor": 1,
           "size": 25920000,
           "units": "seconds",
           "valid_max": 43200,
           "valid_min": -43200
          },
          "dims": [
           "time",
           "lat",
           "lon"
          ],
          "dtype": "int32",
          "name": "sst_depth_dtime",
          "ndim": 3
         },
         {
          "attrs": {
           "_Unsigned": "false",
           "add_offset": 0,
           "chunk_sizes": [
            1,
            90,
            180
           ],
           "comment": "Populated with zeroes",
           "data_type": "uint8",
           "dimensions": [
            "time",
            "lat",
            "lon"
           ],
           "fill_value": -128,
           "long_name": "SSES bias estimate",
           "scale_factor": 0.01,
           "size": 25920000,
           "units": "kelvin",
           "valid_max": 127,
           "valid_min": -127
          },
          "dims": [
           "time",
           "lat",
           "lon"
          ],
          "dtype": "uint8",
          "name": "sses_bias",
          "ndim": 3
         },
         {
          "attrs": {
           "_Unsigned": "false",
           "add_offset": 1.27,
           "chunk_sizes": [
            1,
            90,
            180
           ],
           "comment": "Uncertainty information is contained in the variables uncertainty_systematic, uncertainty_correlated, and uncertainty_random",
           "data_type": "uint8",
           "dimensions": [
            "time",
            "lat",
            "lon"
           ],
           "fill_value": -128,
           "long_name": "SSES standard deviation",
           "scale_factor": 0.01,
           "size": 25920000,
           "units": "kelvin",
           "valid_max": 127,
           "valid_min": -127
          },
          "dims": [
           "time",
           "lat",
           "lon"
          ],
          "dtype": "uint8",
          "name": "sses_standard_deviation",
          "ndim": 3
         },
         {
          "attrs": {
           "add_offset": 0,
           "chunk_sizes": [
            1,
            90,
            180
           ],
           "comment": "Total uncertainty in each sea_surface_temperature data point",
           "data_type": "int16",
           "dimensions": [
            "time",
            "lat",
            "lon"
           ],
           "fill_value": -32768,
           "long_name": "Total uncertainty in sea_surface_temperature",
           "scale_factor": 0.001,
           "size": 25920000,
           "units": "kelvin",
           "valid_max": 5000,
           "valid_min": 0
          },
          "dims": [
           "time",
           "lat",
           "lon"
          ],
          "dtype": "int16",
          "name": "sea_surface_temperature_total_uncertainty",
          "ndim": 3
         },
         {
          "attrs": {
           "add_offset": 0,
           "chunk_sizes": [
            1,
            90,
            180
           ],
           "comment": "Total uncertainty in each sea_surface_temperature_depth data point",
           "data_type": "int16",
           "dimensions": [
            "time",
            "lat",
            "lon"
           ],
           "fill_value": -32768,
           "long_name": "Total uncertainty in sea_surface_temperature_depth",
           "scale_factor": 0.001,
           "size": 25920000,
           "units": "kelvin",
           "valid_max": 5000,
           "valid_min": 0
          },
          "dims": [
           "time",
           "lat",
           "lon"
          ],
          "dtype": "int16",
          "name": "sea_surface_temperature_depth_total_uncertainty",
          "ndim": 3
         },
         {
          "attrs": {
           "add_offset": 0,
           "chunk_sizes": [
            1,
            90,
            180
           ],
           "comment": "Add to sea_surface_temperature, if SST at 20cm at observation time is required",
           "data_type": "int16",
           "dimensions": [
            "time",
            "lat",
            "lon"
           ],
           "fill_value": -32768,
           "long_name": "Adjustment to sea surface temperature at 0.2 m",
           "scale_factor": 0.01,
           "size": 25920000,
           "units": "kelvin",
           "valid_max": 1000,
           "valid_min": -1000
          },
          "dims": [
           "time",
           "lat",
           "lon"
          ],
          "dtype": "int16",
          "name": "depth_adjustment",
          "ndim": 3
         },
         {
          "attrs": {
           "add_offset": 0,
           "chunk_sizes": [
            1,
            90,
            180
           ],
           "comment": "Add to sea_surface_temperature, if alternative SST retrieval is required",
           "data_type": "int16",
           "dimensions": [
            "time",
            "lat",
            "lon"
           ],
           "fill_value": -32768,
           "long_name": "Adjustment to alternative sea surface temperature retrieval",
           "scale_factor": 0.01,
           "size": 25920000,
           "units": "kelvin",
           "valid_max": 1000,
           "valid_min": -1000
          },
          "dims": [
           "time",
           "lat",
           "lon"
          ],
          "dtype": "int16",
          "name": "adjustment_alt",
          "ndim": 3
         },
         {
          "attrs": {
           "chunk_sizes": [
            1,
            90,
            180
           ],
           "comment": "These flags are important to properly use the data",
           "data_type": "int16",
           "dimensions": [
            "time",
            "lat",
            "lon"
           ],
           "fill_value": -32768,
           "flag_masks": [
            1,
            2,
            4,
            8,
            16,
            32,
            64,
            128,
            256
           ],
           "flag_meanings": "microwave land ice lake river spare views channels day",
           "long_name": "L2P flags",
           "size": 25920000,
           "valid_max": 511,
           "valid_min": 0
          },
          "dims": [
           "time",
           "lat",
           "lon"
          ],
          "dtype": "int16",
          "name": "l2p_flags",
          "ndim": 3
         },
         {
          "attrs": {
           "_Unsigned": "false",
           "chunk_sizes": [
            1,
            90,
            180
           ],
           "comment": "These are overall quality indicators and are used for all GHRSST SSTs",
           "data_type": "uint8",
           "dimensions": [
            "time",
            "lat",
            "lon"
           ],
           "fill_value": 0,
           "flag_meanings": "no_data bad_data worst_quality low_quality acceptable_quality best_quality",
           "flag_values": [
            0,
            1,
            2,
            3,
            4,
            5
           ],
           "long_name": "quality level of SST pixel",
           "size": 25920000,
           "valid_max": 5,
           "valid_min": 0
          },
          "dims": [
           "time",
           "lat",
           "lon"
          ],
          "dtype": "uint8",
          "name": "quality_level",
          "ndim": 3
         },
         {
          "attrs": {
           "_Unsigned": "false",
           "add_offset": 12.7,
           "chunk_sizes": [
            1,
            90,
            180
           ],
           "comment": "Wind speeds sourced from ECMWF ERA Interim Reanalysis; wind speeds greater than 25.4 m/s are set to 25.4.",
           "data_type": "uint8",
           "dimensions": [
            "time",
            "lat",
            "lon"
           ],
           "fill_value": -128,
           "height": "10 m",
           "long_name": "10m wind speed",
           "references": "http://www.esa-sst-cci.org",
           "scale_factor": 0.1,
           "size": 25920000,
           "source": "ERA_INTERIM-ECMWF-WSP-v1.0",
           "standard_name": "wind_speed",
           "time_offset": 0,
           "units": "m s-1",
           "valid_max": 127,
           "valid_min": -127
          },
          "dims": [
           "time",
           "lat",
           "lon"
          ],
          "dtype": "uint8",
          "name": "wind_speed",
          "ndim": 3
         },
         {
          "attrs": {
           "_Unsigned": "false",
           "chunk_sizes": [
            1,
            90,
            180
           ],
           "comment": "1. single view, two channel 2. single view, three channel 3. dual view, two channel 4. dual view, three channel 5. single view, 11 and 3.7 two channel",
           "data_type": "uint8",
           "dimensions": [
            "time",
            "lat",
            "lon"
           ],
           "fill_value": -128,
           "flag_meanings": "single_view_two_channel single_view_three_channel dual_view_two_channel dual_view_three_channel single_view_11_and_3.7_two_channel",
           "flag_values": [
            1,
            2,
            3,
            4,
            5
           ],
           "long_name": "Type of retrieval used for the primary SST",
           "size": 25920000,
           "valid_max": 5,
           "valid_min": 1
          },
          "dims": [
           "time",
           "lat",
           "lon"
          ],
          "dtype": "uint8",
          "name": "sea_surface_temperature_retrieval_type",
          "ndim": 3
         },
         {
          "attrs": {
           "_Unsigned": "false",
           "chunk_sizes": [
            1,
            90,
            180
           ],
           "comment": "For ATSRs, adjustment gives D2 (most consistent through time series) when D3 is provided as best. For AVHRRs, adjustment provides N2 when N3 is best. Reason for providing an alternative: can then use N2 or D2 consistently for whole record i",
           "data_type": "uint8",
           "dimensions": [
            "time",
            "lat",
            "lon"
           ],
           "fill_value": -128,
           "flag_meanings": "single_view_two_channel single_view_three_channel dual_view_two_channel dual_view_three_channel single_view_11_and_3.7_two_channel",
           "flag_values": [
            1,
            2,
            3,
            4,
            5
           ],
           "long_name": "Type of retrieval used for the alternate SST retrieval",
           "size": 25920000,
           "valid_max": 5,
           "valid_min": 1
          },
          "dims": [
           "time",
           "lat",
           "lon"
          ],
          "dtype": "uint8",
          "name": "alt_sst_retrieval_type",
          "ndim": 3
         },
         {
          "attrs": {
           "add_offset": 0,
           "chunk_sizes": [
            1,
            90,
            180
           ],
           "comment": "Component of uncertainty that is uncorrelated between SSTs; can be combined with other uncertainty estimates to form a total uncertainty",
           "data_type": "int16",
           "dimensions": [
            "time",
            "lat",
            "lon"
           ],
           "fill_value": -32768,
           "long_name": "Uncertainty from errors likely to be uncorrelated between SSTs",
           "references": "http://www.esa-sst-cci.org",
           "scale_factor": 0.001,
           "size": 25920000,
           "units": "kelvin",
           "valid_max": 5000,
           "valid_min": 0
          },
          "dims": [
           "time",
           "lat",
           "lon"
          ],
          "dtype": "int16",
          "name": "uncertainty_random",
          "ndim": 3
         },
         {
          "attrs": {
           "add_offset": 0,
           "chunk_sizes": [
            1,
            90,
            180
           ],
           "comment": "Component of uncertainty that is correlated over synoptic scales; can be combined with other uncertainty estimates to form a total uncertainty",
           "correlation_length_scale": "100 km",
           "correlation_time_scale": "1 day",
           "data_type": "int16",
           "dimensions": [
            "time",
            "lat",
            "lon"
           ],
           "fill_value": -32768,
           "long_name": "Uncertainty from errors likely to be correlated over synoptic scales",
           "references": "http://www.esa-sst-cci.org",
           "scale_factor": 0.001,
           "size": 25920000,
           "units": "kelvin",
           "valid_max": 5000,
           "valid_min": 0
          },
          "dims": [
           "time",
           "lat",
           "lon"
          ],
          "dtype": "int16",
          "name": "uncertainty_correlated",
          "ndim": 3
         },
         {
          "attrs": {
           "add_offset": 0,
           "chunk_sizes": [
            1,
            90,
            180
           ],
           "comment": "Component of uncertainty that is correlated over large scales; can be combined with other uncertainty estimates to form a total uncertainty",
           "data_type": "int16",
           "dimensions": [
            "time",
            "lat",
            "lon"
           ],
           "fill_value": -32768,
           "long_name": "Uncertainty from errors likely to be correlated over large scales",
           "references": "http://www.esa-sst-cci.org",
           "scale_factor": 0.001,
           "size": 25920000,
           "units": "kelvin",
           "valid_max": 5000,
           "valid_min": 0
          },
          "dims": [
           "time",
           "lat",
           "lon"
          ],
          "dtype": "int16",
          "name": "uncertainty_systematic",
          "ndim": 3
         },
         {
          "attrs": {
           "add_offset": 0,
           "chunk_sizes": [
            1,
            90,
            180
           ],
           "comment": "Adjustment uncertainty; can be combined with other uncertainty estimates to form a total uncertainty",
           "correlation_length_scale": "100 km",
           "correlation_time_scale": "1 day",
           "data_type": "int16",
           "dimensions": [
            "time",
            "lat",
            "lon"
           ],
           "fill_value": -32768,
           "long_name": "Time and depth adjustment uncertainty",
           "references": "http://www.esa-sst-cci.org",
           "scale_factor": 0.001,
           "size": 25920000,
           "units": "kelvin",
           "valid_max": 5000,
           "valid_min": 0
          },
          "dims": [
           "time",
           "lat",
           "lon"
          ],
          "dtype": "int16",
          "name": "uncertainty_correlated_time_and_depth_adjustment",
          "ndim": 3
         },
         {
          "attrs": {
           "add_offset": 0,
           "chunk_sizes": [
            1,
            90,
            180
           ],
           "comment": "Component of uncertainty in alternative SST retrieval that is uncorrelated between SSTs; can be combined with other uncertainty estimates to form a total uncertainty",
           "data_type": "int16",
           "dimensions": [
            "time",
            "lat",
            "lon"
           ],
           "fill_value": -32768,
           "long_name": "Uncertainty in alternative SST retrieval from errors likely to be uncorrelated between SSTs",
           "references": "http://www.esa-sst-cci.org",
           "scale_factor": 0.001,
           "size": 25920000,
           "units": "kelvin",
           "valid_max": 5000,
           "valid_min": 0
          },
          "dims": [
           "time",
           "lat",
           "lon"
          ],
          "dtype": "int16",
          "name": "uncertainty_random_alt",
          "ndim": 3
         },
         {
          "attrs": {
           "add_offset": 0,
           "chunk_sizes": [
            1,
            90,
            180
           ],
           "comment": "Component of uncertainty in alternative SST retrieval that is correlated over synoptic scales; can be combined with other uncertainty estimates to form a total uncertainty",
           "correlation_length_scale": "100 km",
           "correlation_time_scale": "1 day",
           "data_type": "int16",
           "dimensions": [
            "time",
            "lat",
            "lon"
           ],
           "fill_value": -32768,
           "long_name": "Uncertainty in alternative SST retrieval from errors likely to be correlated over synoptic scales",
           "references": "http://www.esa-sst-cci.org",
           "scale_factor": 0.001,
           "size": 25920000,
           "units": "kelvin",
           "valid_max": 5000,
           "valid_min": 0
          },
          "dims": [
           "time",
           "lat",
           "lon"
          ],
          "dtype": "int16",
          "name": "uncertainty_correlated_alt",
          "ndim": 3
         },
         {
          "attrs": {
           "add_offset": 0,
           "chunk_sizes": [
            1,
            90,
            180
           ],
           "comment": "Component of uncertainty in alternative SST retrieval that is correlated over large scales; can be combined with other uncertainty estimates to form a total uncertainty",
           "data_type": "int16",
           "dimensions": [
            "time",
            "lat",
            "lon"
           ],
           "fill_value": -32768,
           "long_name": "Uncertainty in alternative SST retrieval from errors likely to be correlated over large scales",
           "references": "http://www.esa-sst-cci.org",
           "scale_factor": 0.001,
           "size": 25920000,
           "units": "kelvin",
           "valid_max": 5000,
           "valid_min": 0
          },
          "dims": [
           "time",
           "lat",
           "lon"
          ],
          "dtype": "int16",
          "name": "uncertainty_systematic_alt",
          "ndim": 3
         },
         {
          "attrs": {
           "add_offset": 0,
           "chunk_sizes": [
            1,
            90,
            180
           ],
           "comment": "Sensitivity of the retrieval to actual changes in sea surface temperature",
           "data_type": "int16",
           "dimensions": [
            "time",
            "lat",
            "lon"
           ],
           "fill_value": -32768,
           "long_name": "Sensitivity of the retrieval to actual changes in sea surface temperature",
           "scale_factor": 0.001,
           "size": 25920000,
           "units": "K/K",
           "valid_max": 1100,
           "valid_min": 0
          },
          "dims": [
           "time",
           "lat",
           "lon"
          ],
          "dtype": "int16",
          "name": "sst_sensitivity",
          "ndim": 3
         },
         {
          "attrs": {
           "add_offset": 0,
           "chunk_sizes": [
            1,
            90,
            180
           ],
           "comment": "If not applied, fill with zeros to indicate independence from in situ",
           "data_type": "int16",
           "dimensions": [
            "time",
            "lat",
            "lon"
           ],
           "fill_value": -32768,
           "long_name": "Adjustment, based on comparison to in situ data",
           "scale_factor": 0.01,
           "size": 25920000,
           "units": "kelvin",
           "valid_max": 1000,
           "valid_min": -1000
          },
          "dims": [
           "time",
           "lat",
           "lon"
          ],
          "dtype": "int16",
          "name": "empirical_adjustment",
          "ndim": 3
         }
        ],
        "dims": {
         "bnds": 2,
         "lat": 3600,
         "lon": 7200,
         "time": 1
        },
        "open_params_schema": {
         "additionalProperties": false,
         "properties": {
          "bbox": {
           "items": [
            {
             "maximum": 180,
             "minimum": -180,
             "type": "number"
            },
            {
             "maximum": 90,
             "minimum": -90,
             "type": "number"
            },
            {
             "maximum": 180,
             "minimum": -180,
             "type": "number"
            },
            {
             "maximum": 90,
             "minimum": -90,
             "type": "number"
            }
           ],
           "type": "array"
          },
          "crs": {
           "const": "WGS84",
           "type": "string"
          },
          "spatial_res": {
           "const": 0.05,
           "type": "number"
          },
          "time_period": {
           "const": "1D",
           "type": "string"
          },
          "time_range": {
           "items": [
            {
             "format": "date",
             "maxDate": "2016-12-31",
             "minDate": "1981-08-23",
             "type": "string"
            },
            {
             "format": "date",
             "maxDate": "2016-12-31",
             "minDate": "1981-08-23",
             "type": "string"
            }
           ],
           "type": "array"
          },
          "variable_names": {
           "items": {
            "enum": [
             "sea_surface_temperature",
             "sea_surface_temperature_depth",
             "sea_surface_temperature_depth_anomaly",
             "sst_dtime",
             "sst_depth_dtime",
             "sses_bias",
             "sses_standard_deviation",
             "sea_surface_temperature_total_uncertainty",
             "sea_surface_temperature_depth_total_uncertainty",
             "depth_adjustment",
             "adjustment_alt",
             "l2p_flags",
             "quality_level",
             "wind_speed",
             "sea_surface_temperature_retrieval_type",
             "alt_sst_retrieval_type",
             "uncertainty_random",
             "uncertainty_correlated",
             "uncertainty_systematic",
             "uncertainty_correlated_time_and_depth_adjustment",
             "uncertainty_random_alt",
             "uncertainty_correlated_alt",
             "uncertainty_systematic_alt",
             "sst_sensitivity",
             "empirical_adjustment"
            ],
            "type": "string"
           },
           "type": "array"
          }
         },
         "type": "object"
        },
        "spatial_res": 0.05,
        "time_period": "1D",
        "time_range": [
         "1981-08-23",
         "2016-12-31"
        ],
        "type_specifier": "dataset"
       },
       {
        "attrs": {
         "abstract": "The ESA Sea Surface Temperature Climate Change Initiative (ESA SST CCI) dataset accurately maps the surface temperature of the global oceans over the period 1991 to 2010, using observations from many satellites. The data provides an independently quantified SST to a quality suitable for climate research.\n\nThe ESA SST CCI Analysis Long Term Product consists of daily, spatially complete fields of sea surface temperature (SST), obtained by combining the orbit data from the AVHRR and ATSR ESA SST CCI Long Term Products, using optimal interpolation to provide SSTs where there were no measurements.  These data cover the period between 09/1991 and 12/2010.\n\nThe Version 1.1  data is an update of the Version 1.0 dataset.\n\nVersion 1.0 of this dataset is cited in: Merchant, C. J., Embury, O., Roberts-Jones, J., Fiedler, E., Bulgin, C. E., Corlett, G. K., Good, S., McLaren, A., Rayner, N., Morak-Bozzo, S. and Donlon, C. (2014), Sea surface temperature datasets for climate applications from Phase 1 of the European Space Agency Climate Change Initiative (SST CCI). Geoscience Data Journal. doi: 10.1002/gdj3.20",
         "bbox_maxx": "180.0",
         "bbox_maxy": "90.0",
         "bbox_minx": "-180.0",
         "bbox_miny": "-90.0",
         "cci_project": "SST",
         "creation_date": "2015-12-23T14:53:08",
         "data_type": "SSTdepth",
         "drs_id": "esacci.SST.day.L4.SSTdepth.multi-sensor.multi-platform.OSTIA.1-1.r1",
         "ecv": "SST",
         "fid": "c65ce27928f34ebd92224c451c2a8bed",
         "file_formats": [
          ".nc",
          ".txt"
         ],
         "institute": "ESACCI_SST",
         "licences": "Use of these data is covered by the following licence: http://licences.ceda.ac.uk/image/data_access_condition/esacci_sst_terms_and_conditions.pdf . When using these data you must cite them correctly using the citation given on the CEDA Data Catalogue record.",
         "metadata_url": "https://catalogue.ceda.ac.uk/export/xml/c65ce27928f34ebd92224c451c2a8bed.xml",
         "odd_url": "http://archive.opensearch.ceda.ac.uk/opensearch/description.xml?parentIdentifier=c65ce27928f34ebd92224c451c2a8bed",
         "platform_id": "multi-platform",
         "processing_level": "L4",
         "product_string": "OSTIA",
         "product_version": "1-1",
         "publication_date": "2015-12-23T14:53:08",
         "sensor_id": "multi-sensor",
         "temporal_coverage_end": "2010-12-31T00:00:00",
         "temporal_coverage_start": "1991-08-31T23:00:00",
         "time_frequency": "day",
         "title": "ESA Sea Surface Temperature Climate Change Initiative (ESA SST CCI): Analysis long term product version 1.1",
         "uuid": "c65ce27928f34ebd92224c451c2a8bed"
        },
        "bbox": [
         -180,
         -90,
         180,
         90
        ],
        "data_id": "esacci.SST.day.L4.SSTdepth.multi-sensor.multi-platform.OSTIA.1-1.r1",
        "data_vars": [
         {
          "attrs": {
           "add_offset": 273.15,
           "chunk_sizes": [
            1,
            900,
            1800
           ],
           "comment": "SST analysis produced for ESA SST CCI project using the OSTIA system in reanalysis mode.",
           "data_type": "int16",
           "depth": "20 cm",
           "dimensions": [
            "time",
            "lat",
            "lon"
           ],
           "fill_value": -32768,
           "long_name": "analysed sea surface temperature",
           "scale_factor": 0.01,
           "size": 25920000,
           "source": "ATSR<1,2>-ESACCI-L3U-v1.0, AATSR-ESACCI-L3U-v1.0, AVHRR<12,14,15,16,17,18>_G-ESACCI-L2P-v1.0, AVHRRMTA-ESACCI-L2P-v1.0",
           "standard_name": "sea_water_temperature",
           "units": "kelvin",
           "valid_max": 4500,
           "valid_min": -300
          },
          "dims": [
           "time",
           "lat",
           "lon"
          ],
          "dtype": "int16",
          "name": "analysed_sst",
          "ndim": 3
         },
         {
          "attrs": {
           "add_offset": 0,
           "chunk_sizes": [
            1,
            900,
            1800
           ],
           "comment": "SST analysis standard error produced for ESA SST CCI project using the OSTIA system in reanalysis mode.",
           "data_type": "int16",
           "dimensions": [
            "time",
            "lat",
            "lon"
           ],
           "fill_value": -32768,
           "long_name": "estimated error standard deviation of analysed_sst",
           "scale_factor": 0.01,
           "size": 25920000,
           "standard_name": "sea_water_temperature standard_error",
           "units": "kelvin",
           "valid_max": 32767,
           "valid_min": 0
          },
          "dims": [
           "time",
           "lat",
           "lon"
          ],
          "dtype": "int16",
          "name": "analysis_error",
          "ndim": 3
         },
         {
          "attrs": {
           "_Unsigned": "false",
           "add_offset": 0,
           "chunk_sizes": [
            1,
            1200,
            2400
           ],
           "comment": "Sea ice fraction field regridded from EUMETSAT OSI-SAF product.",
           "data_type": "uint8",
           "dimensions": [
            "time",
            "lat",
            "lon"
           ],
           "fill_value": -128,
           "long_name": "sea ice area fraction",
           "scale_factor": 0.01,
           "size": 25920000,
           "source": "EUMETSAT_OSI-SAF-ICE-v1.1, EUMETSAT_OSI-SAF-ICE-v2.2",
           "standard_name": "sea_ice_area_fraction",
           "units": "1",
           "valid_max": 100,
           "valid_min": 0
          },
          "dims": [
           "time",
           "lat",
           "lon"
          ],
          "dtype": "uint8",
          "name": "sea_ice_fraction",
          "ndim": 3
         },
         {
          "attrs": {
           "_Unsigned": "false",
           "add_offset": 0,
           "chunk_sizes": [
            1,
            1200,
            2400
           ],
           "comment": "Estimated error standard deviation of sea ice fraction",
           "data_type": "uint8",
           "dimensions": [
            "time",
            "lat",
            "lon"
           ],
           "fill_value": -128,
           "long_name": "sea ice area fraction error estimate",
           "scale_factor": 0.01,
           "size": 25920000,
           "source": "EUMETSAT_OSI-SAF-ICE-v1.1",
           "standard_name": "sea_ice_area_fraction standard_error",
           "units": "1",
           "valid_max": 100,
           "valid_min": 0
          },
          "dims": [
           "time",
           "lat",
           "lon"
          ],
          "dtype": "uint8",
          "name": "sea_ice_fraction_error",
          "ndim": 3
         },
         {
          "attrs": {
           "_Unsigned": "false",
           "chunk_sizes": [
            1,
            1200,
            2400
           ],
           "comment": "b0: 1=grid cell is open sea water, b1: 1=grid cell is land, b2: 1=grid cell is lake surface, b3: 1=grid cell is sea ice, b4-b7: reserved for future grid mask data",
           "data_type": "uint8",
           "dimensions": [
            "time",
            "lat",
            "lon"
           ],
           "fill_value": -128,
           "flag_masks": [
            1,
            2,
            4,
            8,
            16
           ],
           "flag_meanings": "water land optional_lake_surface sea_ice optional_river_surface",
           "long_name": "sea/land/lake/ice field composite mask",
           "size": 25920000,
           "source": "NAVOCEANO_landmask_v1.0, EUMETSAT_OSI-SAF_icemask, ARCLake_lakemask",
           "valid_max": 31,
           "valid_min": 1
          },
          "dims": [
           "time",
           "lat",
           "lon"
          ],
          "dtype": "uint8",
          "name": "mask",
          "ndim": 3
         }
        ],
        "dims": {
         "bnds": 2,
         "lat": 3600,
         "lon": 7200,
         "time": 1
        },
        "open_params_schema": {
         "additionalProperties": false,
         "properties": {
          "bbox": {
           "items": [
            {
             "maximum": 180,
             "minimum": -180,
             "type": "number"
            },
            {
             "maximum": 90,
             "minimum": -90,
             "type": "number"
            },
            {
             "maximum": 180,
             "minimum": -180,
             "type": "number"
            },
            {
             "maximum": 90,
             "minimum": -90,
             "type": "number"
            }
           ],
           "type": "array"
          },
          "crs": {
           "const": "WGS84",
           "type": "string"
          },
          "spatial_res": {
           "const": 0.05,
           "type": "number"
          },
          "time_period": {
           "const": "1D",
           "type": "string"
          },
          "time_range": {
           "items": [
            {
             "format": "date",
             "maxDate": "2010-12-31",
             "minDate": "1991-08-31",
             "type": "string"
            },
            {
             "format": "date",
             "maxDate": "2010-12-31",
             "minDate": "1991-08-31",
             "type": "string"
            }
           ],
           "type": "array"
          },
          "variable_names": {
           "items": {
            "enum": [
             "analysed_sst",
             "analysis_error",
             "sea_ice_fraction",
             "sea_ice_fraction_error",
             "mask"
            ],
            "type": "string"
           },
           "type": "array"
          }
         },
         "type": "object"
        },
        "spatial_res": 0.05,
        "time_period": "1D",
        "time_range": [
         "1991-08-31",
         "2010-12-31"
        ],
        "type_specifier": "dataset"
       },
       {
        "attrs": {
         "abstract": "This v2.1 SST_cci Level 4 Analysis Climate Data Record (CDR) provides a globally-complete daily analysis of sea surface temperature (SST) on a 0.05 degree regular latitude - longitude grid.   It combines data from both the Advanced Very High Resolution Radiometer (AVHRR ) and Along Track Scanning Radiometer (ATSR) SST_cci Climate Data Records, using a data assimilation method to provide SSTs where there were no measurements.  These data cover the period between 09/1981 and 12/2016.\n\nThe dataset has been produced as part of the European Space Agency (ESA) Climate Change Initiative Sea Surface Temperature project(ESA SST_cci). The data products from SST_cci accurately map the surface temperature of the global oceans over the period 1981 to 2016 using observations from many satellites. The data provide independently quantified SSTs to a quality suitable for climate research.\n\nThe CDR Version 2.1 product supercedes the CDR Version 2.0 product.    Data are made freely and openly available under a Creative Commons License by Attribution (CC By 4.0) https://creativecommons.org/licenses/by/4.0/\n\nWhen citing this dataset please also cite the associated data paper: Merchant, C.J., Embury, O., Bulgin, C.E., Block T., Corlett, G.K., Fiedler, E., Good, S.A., Mittaz, J., Rayner, N.A., Berry, D., Eastwood, S., Taylor, M., Tsushima, Y., Waterfall, A., Wilson, R., Donlon, C. Satellite-based time-series of sea-surface temperature since 1981 for climate applications, Scientific Data 6:223 (2019). http://doi.org/10.1038/s41597-019-0236-x",
         "bbox_maxx": "180.0",
         "bbox_maxy": "90.0",
         "bbox_minx": "-180.0",
         "bbox_miny": "-90.0",
         "cci_project": "SST",
         "creation_date": "2019-08-02T19:53:02",
         "data_type": "SSTdepth",
         "drs_ids": [
          "esacci.SST.day.L4.SSTdepth.multi-sensor.multi-platform.OSTIA.2-1.anomaly",
          "esacci.SST.day.L4.SSTdepth.multi-sensor.multi-platform.OSTIA.2-1.sst"
         ],
         "ecv": "SST",
         "fid": "62c0f97b1eac4e0197a674870afe1ee6",
         "file_formats": [
          ".nc",
          ".txt"
         ],
         "institute": "ESACCI_SST",
         "licences": "Use of these data is covered by the following licence: https://artefacts.ceda.ac.uk/licences/specific_licences/esacci_sst_terms_and_conditions_v2.pdf . When using these data you must cite them correctly using the citation given on the CEDA Data Catalogue record.",
         "metadata_url": "https://catalogue.ceda.ac.uk/export/xml/62c0f97b1eac4e0197a674870afe1ee6.xml",
         "odd_url": "http://archive.opensearch.ceda.ac.uk/opensearch/description.xml?parentIdentifier=62c0f97b1eac4e0197a674870afe1ee6",
         "platform_id": "multi-platform",
         "processing_level": "L4",
         "product_string": "OSTIA",
         "product_version": "2-1",
         "publication_date": "2019-08-02T19:53:02",
         "sensor_id": "multi-sensor",
         "temporal_coverage_end": "2016-12-31T23:59:59",
         "temporal_coverage_start": "1981-08-31T23:00:00",
         "time_frequency": "day",
         "title": "ESA Sea Surface Temperature Climate Change Initiative (SST_cci): Level 4 Analysis Climate Data Record, version 2.1",
         "uuid": "62c0f97b1eac4e0197a674870afe1ee6"
        },
        "bbox": [
         -180,
         -90,
         180,
         90
        ],
        "data_id": "esacci.SST.day.L4.SSTdepth.multi-sensor.multi-platform.OSTIA.2-1.anomaly",
        "data_vars": [
         {
          "attrs": {
           "add_offset": 273.15,
           "chunk_sizes": [
            1,
            1200,
            2400
           ],
           "data_type": "int16",
           "depth": "20 cm",
           "dimensions": [
            "time",
            "lat",
            "lon"
           ],
           "fill_value": -32768,
           "long_name": "analysed sea surface temperature",
           "scale_factor": 0.01,
           "size": 25920000,
           "source": "ATSR<1,2>-ESACCI-L3U-v2.0, AATSR-ESACCI-L3U-v2.0, AVHRR<07,09,11,12,14,15,16,17,18,19>_G-ESACCI-L3U-v2.0, AVHRRMTA_G-ESACCI-L3U-v2.0",
           "standard_name": "sea_water_temperature",
           "units": "kelvin",
           "valid_max": 4500,
           "valid_min": -300
          },
          "dims": [
           "time",
           "lat",
           "lon"
          ],
          "dtype": "int16",
          "name": "analysed_sst",
          "ndim": 3
         },
         {
          "attrs": {
           "_Unsigned": "false",
           "chunk_sizes": [
            1,
            1800,
            3600
           ],
           "comment": "b0: 1=grid cell is open sea water b1: 1=grid cell is land b2: 1=grid cell is lake surface b3: 1=grid cell is sea ice b4-b7: reserved for future grid mask data",
           "data_type": "uint8",
           "dimensions": [
            "time",
            "lat",
            "lon"
           ],
           "fill_value": -128,
           "flag_masks": [
            1,
            2,
            4,
            8,
            16
           ],
           "flag_meanings": "water land optional_lake_surface sea_ice optional_river_surface",
           "long_name": "sea/land/lake/ice field composite mask",
           "size": 25920000,
           "source": "NAVOCEANO_landmask_v1.0 EUMETSAT_OSI-SAF_icemask ARCLake_lakemask",
           "valid_max": 31,
           "valid_min": 1
          },
          "dims": [
           "time",
           "lat",
           "lon"
          ],
          "dtype": "uint8",
          "name": "mask",
          "ndim": 3
         },
         {
          "attrs": {
           "_Unsigned": "false",
           "add_offset": 0,
           "chunk_sizes": [
            1,
            1800,
            3600
           ],
           "comment": " Sea ice area fraction",
           "data_type": "uint8",
           "dimensions": [
            "time",
            "lat",
            "lon"
           ],
           "fill_value": -128,
           "long_name": "sea ice area fraction",
           "scale_factor": 0.01,
           "size": 25920000,
           "source": "EUMETSAT_OSI-SAF-ICE-OSI-450-v2.0, EUMETSAT_OSI-SAF-ICE-OSI-430-v1.2",
           "standard_name": "sea_ice_area_fraction",
           "units": "1",
           "valid_max": 100,
           "valid_min": 0
          },
          "dims": [
           "time",
           "lat",
           "lon"
          ],
          "dtype": "uint8",
          "name": "sea_ice_fraction",
          "ndim": 3
         },
         {
          "attrs": {
           "add_offset": 0,
           "chunk_sizes": [
            1,
            1200,
            2400
           ],
           "data_type": "int16",
           "dimensions": [
            "time",
            "lat",
            "lon"
           ],
           "fill_value": -32768,
           "long_name": "estimated error standard deviation of analysed_sst",
           "scale_factor": 0.01,
           "size": 25920000,
           "standard_name": "sea_water_temperature standard_error",
           "units": "kelvin",
           "valid_max": 32767,
           "valid_min": 0
          },
          "dims": [
           "time",
           "lat",
           "lon"
          ],
          "dtype": "int16",
          "name": "analysed_sst_uncertainty",
          "ndim": 3
         }
        ],
        "dims": {
         "bnds": 2,
         "lat": 3600,
         "lon": 7200,
         "time": 1
        },
        "open_params_schema": {
         "additionalProperties": false,
         "properties": {
          "bbox": {
           "items": [
            {
             "maximum": 180,
             "minimum": -180,
             "type": "number"
            },
            {
             "maximum": 90,
             "minimum": -90,
             "type": "number"
            },
            {
             "maximum": 180,
             "minimum": -180,
             "type": "number"
            },
            {
             "maximum": 90,
             "minimum": -90,
             "type": "number"
            }
           ],
           "type": "array"
          },
          "crs": {
           "const": "WGS84",
           "type": "string"
          },
          "spatial_res": {
           "const": 0.05,
           "type": "number"
          },
          "time_period": {
           "const": "1D",
           "type": "string"
          },
          "time_range": {
           "items": [
            {
             "format": "date",
             "maxDate": "2016-12-31",
             "minDate": "1981-08-31",
             "type": "string"
            },
            {
             "format": "date",
             "maxDate": "2016-12-31",
             "minDate": "1981-08-31",
             "type": "string"
            }
           ],
           "type": "array"
          },
          "variable_names": {
           "items": {
            "enum": [
             "analysed_sst",
             "mask",
             "sea_ice_fraction",
             "analysed_sst_uncertainty"
            ],
            "type": "string"
           },
           "type": "array"
          }
         },
         "type": "object"
        },
        "spatial_res": 0.05,
        "time_period": "1D",
        "time_range": [
         "1981-08-31",
         "2016-12-31"
        ],
        "type_specifier": "dataset"
       },
       {
        "attrs": {
         "abstract": "This v2.1 SST_cci Level 4 Analysis Climate Data Record (CDR) provides a globally-complete daily analysis of sea surface temperature (SST) on a 0.05 degree regular latitude - longitude grid.   It combines data from both the Advanced Very High Resolution Radiometer (AVHRR ) and Along Track Scanning Radiometer (ATSR) SST_cci Climate Data Records, using a data assimilation method to provide SSTs where there were no measurements.  These data cover the period between 09/1981 and 12/2016.\n\nThe dataset has been produced as part of the European Space Agency (ESA) Climate Change Initiative Sea Surface Temperature project(ESA SST_cci). The data products from SST_cci accurately map the surface temperature of the global oceans over the period 1981 to 2016 using observations from many satellites. The data provide independently quantified SSTs to a quality suitable for climate research.\n\nThe CDR Version 2.1 product supercedes the CDR Version 2.0 product.    Data are made freely and openly available under a Creative Commons License by Attribution (CC By 4.0) https://creativecommons.org/licenses/by/4.0/\n\nWhen citing this dataset please also cite the associated data paper: Merchant, C.J., Embury, O., Bulgin, C.E., Block T., Corlett, G.K., Fiedler, E., Good, S.A., Mittaz, J., Rayner, N.A., Berry, D., Eastwood, S., Taylor, M., Tsushima, Y., Waterfall, A., Wilson, R., Donlon, C. Satellite-based time-series of sea-surface temperature since 1981 for climate applications, Scientific Data 6:223 (2019). http://doi.org/10.1038/s41597-019-0236-x",
         "bbox_maxx": "180.0",
         "bbox_maxy": "90.0",
         "bbox_minx": "-180.0",
         "bbox_miny": "-90.0",
         "cci_project": "SST",
         "creation_date": "2019-08-02T19:53:02",
         "data_type": "SSTdepth",
         "drs_ids": [
          "esacci.SST.day.L4.SSTdepth.multi-sensor.multi-platform.OSTIA.2-1.anomaly",
          "esacci.SST.day.L4.SSTdepth.multi-sensor.multi-platform.OSTIA.2-1.sst"
         ],
         "ecv": "SST",
         "fid": "62c0f97b1eac4e0197a674870afe1ee6",
         "file_formats": [
          ".nc",
          ".txt"
         ],
         "institute": "ESACCI_SST",
         "licences": "Use of these data is covered by the following licence: https://artefacts.ceda.ac.uk/licences/specific_licences/esacci_sst_terms_and_conditions_v2.pdf . When using these data you must cite them correctly using the citation given on the CEDA Data Catalogue record.",
         "metadata_url": "https://catalogue.ceda.ac.uk/export/xml/62c0f97b1eac4e0197a674870afe1ee6.xml",
         "odd_url": "http://archive.opensearch.ceda.ac.uk/opensearch/description.xml?parentIdentifier=62c0f97b1eac4e0197a674870afe1ee6",
         "platform_id": "multi-platform",
         "processing_level": "L4",
         "product_string": "OSTIA",
         "product_version": "2-1",
         "publication_date": "2019-08-02T19:53:02",
         "sensor_id": "multi-sensor",
         "temporal_coverage_end": "2016-12-31T23:59:59",
         "temporal_coverage_start": "1981-08-31T23:00:00",
         "time_frequency": "day",
         "title": "ESA Sea Surface Temperature Climate Change Initiative (SST_cci): Level 4 Analysis Climate Data Record, version 2.1",
         "uuid": "62c0f97b1eac4e0197a674870afe1ee6"
        },
        "bbox": [
         -180,
         -90,
         180,
         90
        ],
        "data_id": "esacci.SST.day.L4.SSTdepth.multi-sensor.multi-platform.OSTIA.2-1.sst",
        "data_vars": [
         {
          "attrs": {
           "add_offset": 273.15,
           "chunk_sizes": [
            1,
            1200,
            2400
           ],
           "data_type": "int16",
           "depth": "20 cm",
           "dimensions": [
            "time",
            "lat",
            "lon"
           ],
           "fill_value": -32768,
           "long_name": "analysed sea surface temperature",
           "scale_factor": 0.01,
           "size": 25920000,
           "source": "ATSR<1,2>-ESACCI-L3U-v2.0, AATSR-ESACCI-L3U-v2.0, AVHRR<07,09,11,12,14,15,16,17,18,19>_G-ESACCI-L3U-v2.0, AVHRRMTA_G-ESACCI-L3U-v2.0",
           "standard_name": "sea_water_temperature",
           "units": "kelvin",
           "valid_max": 4500,
           "valid_min": -300
          },
          "dims": [
           "time",
           "lat",
           "lon"
          ],
          "dtype": "int16",
          "name": "analysed_sst",
          "ndim": 3
         },
         {
          "attrs": {
           "_Unsigned": "false",
           "chunk_sizes": [
            1,
            1800,
            3600
           ],
           "comment": "b0: 1=grid cell is open sea water b1: 1=grid cell is land b2: 1=grid cell is lake surface b3: 1=grid cell is sea ice b4-b7: reserved for future grid mask data",
           "data_type": "uint8",
           "dimensions": [
            "time",
            "lat",
            "lon"
           ],
           "fill_value": -128,
           "flag_masks": [
            1,
            2,
            4,
            8,
            16
           ],
           "flag_meanings": "water land optional_lake_surface sea_ice optional_river_surface",
           "long_name": "sea/land/lake/ice field composite mask",
           "size": 25920000,
           "source": "NAVOCEANO_landmask_v1.0 EUMETSAT_OSI-SAF_icemask ARCLake_lakemask",
           "valid_max": 31,
           "valid_min": 1
          },
          "dims": [
           "time",
           "lat",
           "lon"
          ],
          "dtype": "uint8",
          "name": "mask",
          "ndim": 3
         },
         {
          "attrs": {
           "_Unsigned": "false",
           "add_offset": 0,
           "chunk_sizes": [
            1,
            1800,
            3600
           ],
           "comment": " Sea ice area fraction",
           "data_type": "uint8",
           "dimensions": [
            "time",
            "lat",
            "lon"
           ],
           "fill_value": -128,
           "long_name": "sea ice area fraction",
           "scale_factor": 0.01,
           "size": 25920000,
           "source": "EUMETSAT_OSI-SAF-ICE-OSI-450-v2.0, EUMETSAT_OSI-SAF-ICE-OSI-430-v1.2",
           "standard_name": "sea_ice_area_fraction",
           "units": "1",
           "valid_max": 100,
           "valid_min": 0
          },
          "dims": [
           "time",
           "lat",
           "lon"
          ],
          "dtype": "uint8",
          "name": "sea_ice_fraction",
          "ndim": 3
         },
         {
          "attrs": {
           "add_offset": 0,
           "chunk_sizes": [
            1,
            1200,
            2400
           ],
           "data_type": "int16",
           "dimensions": [
            "time",
            "lat",
            "lon"
           ],
           "fill_value": -32768,
           "long_name": "estimated error standard deviation of analysed_sst",
           "scale_factor": 0.01,
           "size": 25920000,
           "standard_name": "sea_water_temperature standard_error",
           "units": "kelvin",
           "valid_max": 32767,
           "valid_min": 0
          },
          "dims": [
           "time",
           "lat",
           "lon"
          ],
          "dtype": "int16",
          "name": "analysed_sst_uncertainty",
          "ndim": 3
         }
        ],
        "dims": {
         "bnds": 2,
         "lat": 3600,
         "lon": 7200,
         "time": 1
        },
        "open_params_schema": {
         "additionalProperties": false,
         "properties": {
          "bbox": {
           "items": [
            {
             "maximum": 180,
             "minimum": -180,
             "type": "number"
            },
            {
             "maximum": 90,
             "minimum": -90,
             "type": "number"
            },
            {
             "maximum": 180,
             "minimum": -180,
             "type": "number"
            },
            {
             "maximum": 90,
             "minimum": -90,
             "type": "number"
            }
           ],
           "type": "array"
          },
          "crs": {
           "const": "WGS84",
           "type": "string"
          },
          "spatial_res": {
           "const": 0.05,
           "type": "number"
          },
          "time_period": {
           "const": "1D",
           "type": "string"
          },
          "time_range": {
           "items": [
            {
             "format": "date",
             "maxDate": "2016-12-31",
             "minDate": "1981-08-31",
             "type": "string"
            },
            {
             "format": "date",
             "maxDate": "2016-12-31",
             "minDate": "1981-08-31",
             "type": "string"
            }
           ],
           "type": "array"
          },
          "variable_names": {
           "items": {
            "enum": [
             "analysed_sst",
             "mask",
             "sea_ice_fraction",
             "analysed_sst_uncertainty"
            ],
            "type": "string"
           },
           "type": "array"
          }
         },
         "type": "object"
        },
        "spatial_res": 0.05,
        "time_period": "1D",
        "time_range": [
         "1981-08-31",
         "2016-12-31"
        ],
        "type_specifier": "dataset"
       },
       {
        "attrs": {
         "abstract": "The European Space Agency (ESA) Climate Change Initiative Sea Surface Temperature project (ESA SST_cci) has accurately determined the surface temperature of the global oceans over the period 1981 to 2016 using observations from many satellites. The data provide independently quantified sea surface temperatures (SSTs) to a quality suitable for climate research. This GHRSST (Group for High Resolution Sea Surface Temperature) Multi-Product Ensemble (GMPE) dataset was produced by the ESA SST_cci project to facilitate comparison of its own spatially complete analyses with other level 4 SST analysis products. It provides the median and standard deviation of the ensemble of input analyses, differences between the individual analyses and the median, and gradients in the input data and the median. The outputs are provided on a 0.25˚ regular latitude-longitude grid. The product extends from 1 September 1981 to 31 December 2016.\n\nThe product was generated using the following inputs: ESA SST_cci Analysis version 2.0; ESA SST_cci Analysis version 1.1; E.U. Copernicus Marine Environment Monitoring Service (CMEMS) SST information (the Operational Sea Surface Temperature and Sea Ice Analysis (OSTIA) Reprocessing); National Centers for Environmental Information (NCEI) Advanced Very High Resolution Radiometer (AVHRR) Optimal Interpolation (OI) Global Blended SST Analysis; Canada Meteorological Center (CMC) 0.2-degree Global Foundation SST Analysis; Hadley Centre Sea Ice and Sea Surface Temperature (HadISST) Analysis version 2.2.0.0 (10 realisations); Japan Meteorological Agency (JMA) Merged satellite and in-situ Data Global Daily SST (MGDSST) Analysis. Full details of the data used to generate this product are provided in the associated documentation.",
         "bbox_maxx": "180.0",
         "bbox_maxy": "90.0",
         "bbox_minx": "-180.0",
         "bbox_miny": "-90.0",
         "cci_project": "SST",
         "creation_date": "2020-06-04T08:27:43",
         "data_type": "SSTskin",
         "drs_id": "esacci.SST.day.L4.SSTskin.Unspecified.Unspecified.GMPE.2-0.r1",
         "ecv": "SST",
         "fid": "a963d9415bb74247830f8704f825aa90",
         "file_formats": [
          ".nc",
          ".txt"
         ],
         "institute": "Met Office Hadley Centre",
         "licences": "Use of these data is covered by the following licence: http://licences.ceda.ac.uk/image/data_access_condition/esacci_sst_terms_and_conditions.pdf . When using these data you must cite them correctly using the citation given on the CEDA Data Catalogue record.",
         "metadata_url": "https://catalogue.ceda.ac.uk/export/xml/a963d9415bb74247830f8704f825aa90.xml",
         "odd_url": "http://archive.opensearch.ceda.ac.uk/opensearch/description.xml?parentIdentifier=a963d9415bb74247830f8704f825aa90",
         "platform_id": "Unspecified",
         "processing_level": "L4",
         "product_string": "GMPE",
         "product_version": "2-0",
         "publication_date": "2020-06-04T08:27:43",
         "sensor_id": "Unspecified",
         "temporal_coverage_end": "2016-12-31T23:59:59",
         "temporal_coverage_start": "1981-09-01T00:00:00",
         "time_frequency": "day",
         "title": "ESA Sea Surface Temperature Climate Change Initiative (SST_cci): GHRSST Multi-Product ensemble (GMPE), v2.0",
         "uuid": "a963d9415bb74247830f8704f825aa90"
        },
        "bbox": [
         -180,
         -90,
         180,
         90
        ],
        "data_id": "esacci.SST.day.L4.SSTskin.Unspecified.Unspecified.GMPE.2-0.r1",
        "data_vars": [
         {
          "attrs": {
           "add_offset": 273.15,
           "chunk_sizes": [
            1,
            720,
            1440
           ],
           "data_type": "int16",
           "dimensions": [
            "time",
            "lat",
            "lon"
           ],
           "fill_value": -32768,
           "long_name": "median SST from GMPE",
           "scale_factor": 0.01,
           "size": 1036800,
           "source": "SST CCI V2, SST CCI V1.1, MyOcean, AVHRR_OI, CMC, HadISST.2.2.0.0_r0, HadISST.2.2.0.0_r1, HadISST.2.2.0.0_r2, HadISST.2.2.0.0_r3, HadISST.2.2.0.0_r4, HadISST.2.2.0.0_r5, HadISST.2.2.0.0_r6, HadISST.2.2.0.0_r7, HadISST.2.2.0.0_r8, HadISST.2.2.0.0_r9, MGDSST",
           "standard_name": "sea_surface_foundation_temperature",
           "units": "kelvin",
           "valid_max": 4500,
           "valid_min": -300
          },
          "dims": [
           "time",
           "lat",
           "lon"
          ],
          "dtype": "int16",
          "name": "analysed_sst",
          "ndim": 3
         },
         {
          "attrs": {
           "add_offset": 0,
           "chunk_sizes": [
            1,
            720,
            1440
           ],
           "comment": "",
           "data_type": "int16",
           "dimensions": [
            "time",
            "lat",
            "lon"
           ],
           "fill_value": -32768,
           "long_name": "Standard deviation of input analyses",
           "scale_factor": 0.01,
           "size": 1036800,
           "source": "SST CCI V2, SST CCI V1.1, MyOcean, AVHRR_OI, CMC, HadISST.2.2.0.0_r0, HadISST.2.2.0.0_r1, HadISST.2.2.0.0_r2, HadISST.2.2.0.0_r3, HadISST.2.2.0.0_r4, HadISST.2.2.0.0_r5, HadISST.2.2.0.0_r6, HadISST.2.2.0.0_r7, HadISST.2.2.0.0_r8, HadISST.2.2.0.0_r9, MGDSST",
           "units": "kelvin",
           "valid_max": 32000,
           "valid_min": -32000
          },
          "dims": [
           "time",
           "lat",
           "lon"
          ],
          "dtype": "int16",
          "name": "standard_deviation",
          "ndim": 3
         },
         {
          "attrs": {
           "_Unsigned": "false",
           "add_offset": 0,
           "chunk_sizes": [
            1,
            720,
            1440
           ],
           "comment": "",
           "data_type": "uint8",
           "dimensions": [
            "time",
            "lat",
            "lon"
           ],
           "fill_value": -128,
           "long_name": "Number of contributing analyses",
           "scale_factor": 1,
           "size": 1036800,
           "source": "SST CCI V2, SST CCI V1.1, MyOcean, AVHRR_OI, CMC, HadISST.2.2.0.0_r0, HadISST.2.2.0.0_r1, HadISST.2.2.0.0_r2, HadISST.2.2.0.0_r3, HadISST.2.2.0.0_r4, HadISST.2.2.0.0_r5, HadISST.2.2.0.0_r6, HadISST.2.2.0.0_r7, HadISST.2.2.0.0_r8, HadISST.2.2.0.0_r9, MGDSST",
           "units": "",
           "valid_max": 127,
           "valid_min": -127
          },
          "dims": [
           "time",
           "lat",
           "lon"
          ],
          "dtype": "uint8",
          "name": "analysis_number",
          "ndim": 3
         },
         {
          "attrs": {
           "add_offset": 0,
           "chunk_sizes": [
            1,
            720,
            1440
           ],
           "comment": "",
           "data_type": "int16",
           "dimensions": [
            "time",
            "lat",
            "lon"
           ],
           "fill_value": -32768,
           "long_name": "Index of analysis which is the ensemble median",
           "scale_factor": 1,
           "size": 1036800,
           "source": "SST CCI V2, SST CCI V1.1, MyOcean, AVHRR_OI, CMC, HadISST.2.2.0.0_r0, HadISST.2.2.0.0_r1, HadISST.2.2.0.0_r2, HadISST.2.2.0.0_r3, HadISST.2.2.0.0_r4, HadISST.2.2.0.0_r5, HadISST.2.2.0.0_r6, HadISST.2.2.0.0_r7, HadISST.2.2.0.0_r8, HadISST.2.2.0.0_r9, MGDSST",
           "units": "",
           "valid_max": 3000,
           "valid_min": -3000
          },
          "dims": [
           "time",
           "lat",
           "lon"
          ],
          "dtype": "int16",
          "name": "median_type",
          "ndim": 3
         },
         {
          "attrs": {
           "add_offset": 0,
           "chunk_sizes": [
            1,
            8,
            360,
            720
           ],
           "comment": "",
           "data_type": "int16",
           "dimensions": [
            "time",
            "fields",
            "lat",
            "lon"
           ],
           "fill_value": -32768,
           "long_name": "Anomaly of input analyses from the ensemble median",
           "scale_factor": 0.01,
           "size": 16588800,
           "source": "SST CCI V2, SST CCI V1.1, MyOcean, AVHRR_OI, CMC, HadISST.2.2.0.0_r0, HadISST.2.2.0.0_r1, HadISST.2.2.0.0_r2, HadISST.2.2.0.0_r3, HadISST.2.2.0.0_r4, HadISST.2.2.0.0_r5, HadISST.2.2.0.0_r6, HadISST.2.2.0.0_r7, HadISST.2.2.0.0_r8, HadISST.2.2.0.0_r9, MGDSST",
           "units": "kelvin",
           "valid_max": 3000,
           "valid_min": -3000
          },
          "dims": [
           "time",
           "fields",
           "lat",
           "lon"
          ],
          "dtype": "int16",
          "name": "anomaly_fields",
          "ndim": 4
         },
         {
          "attrs": {
           "add_offset": 0,
           "chunk_sizes": [
            1,
            9,
            360,
            720
           ],
           "comment": "",
           "data_type": "int16",
           "dimensions": [
            "time",
            "fieldsp1",
            "lat",
            "lon"
           ],
           "fill_value": -32768,
           "long_name": "Horizontal SST gradients of input analyses",
           "scale_factor": 1e-05,
           "size": 17625600,
           "source": "SST CCI V2, SST CCI V1.1, MyOcean, AVHRR_OI, CMC, HadISST.2.2.0.0_r0, HadISST.2.2.0.0_r1, HadISST.2.2.0.0_r2, HadISST.2.2.0.0_r3, HadISST.2.2.0.0_r4, HadISST.2.2.0.0_r5, HadISST.2.2.0.0_r6, HadISST.2.2.0.0_r7, HadISST.2.2.0.0_r8, HadISST.2.2.0.0_r9, MGDSST, GMPE median",
           "units": "kelvin m-1",
           "valid_max": 3000,
           "valid_min": -3000
          },
          "dims": [
           "time",
           "fieldsp1",
           "lat",
           "lon"
          ],
          "dtype": "int16",
          "name": "gradient_fields",
          "ndim": 4
         }
        ],
        "dims": {
         "field_name_length": 50,
         "fields": 16,
         "fieldsp1": 17,
         "lat": 720,
         "lon": 1440,
         "time": 1
        },
        "open_params_schema": {
         "additionalProperties": false,
         "properties": {
          "bbox": {
           "items": [
            {
             "maximum": 180,
             "minimum": -180,
             "type": "number"
            },
            {
             "maximum": 90,
             "minimum": -90,
             "type": "number"
            },
            {
             "maximum": 180,
             "minimum": -180,
             "type": "number"
            },
            {
             "maximum": 90,
             "minimum": -90,
             "type": "number"
            }
           ],
           "type": "array"
          },
          "crs": {
           "const": "WGS84",
           "type": "string"
          },
          "spatial_res": {
           "const": 0.25,
           "type": "number"
          },
          "time_period": {
           "const": "1D",
           "type": "string"
          },
          "time_range": {
           "items": [
            {
             "format": "date",
             "maxDate": "2016-12-31",
             "minDate": "1981-09-01",
             "type": "string"
            },
            {
             "format": "date",
             "maxDate": "2016-12-31",
             "minDate": "1981-09-01",
             "type": "string"
            }
           ],
           "type": "array"
          },
          "variable_names": {
           "items": {
            "enum": [
             "analysed_sst",
             "standard_deviation",
             "analysis_number",
             "median_type",
             "anomaly_fields",
             "gradient_fields"
            ],
            "type": "string"
           },
           "type": "array"
          }
         },
         "type": "object"
        },
        "spatial_res": 0.25,
        "time_period": "1D",
        "time_range": [
         "1981-09-01",
         "2016-12-31"
        ],
        "type_specifier": "dataset"
       }
      ],
      "text/plain": [
       "<IPython.core.display.JSON object>"
      ]
     },
     "execution_count": 9,
     "metadata": {
      "application/json": {
       "expanded": false,
       "root": "root"
      }
     },
     "output_type": "execute_result"
    }
   ],
   "source": [
    "iterator = store.search_data(ecv='SST', frequency='day')\n",
    "JSON([item.to_dict() for item in iterator])"
   ]
  },
  {
   "cell_type": "markdown",
   "metadata": {},
   "source": [
    "Which parameters must be passsed or are available to open the dataset? "
   ]
  },
  {
   "cell_type": "code",
   "execution_count": 10,
   "metadata": {},
   "outputs": [
    {
     "data": {
      "application/json": {
       "additionalProperties": false,
       "properties": {
        "bbox": {
         "items": [
          {
           "maximum": 180,
           "minimum": -180,
           "type": "number"
          },
          {
           "maximum": 90,
           "minimum": -90,
           "type": "number"
          },
          {
           "maximum": 180,
           "minimum": -180,
           "type": "number"
          },
          {
           "maximum": 90,
           "minimum": -90,
           "type": "number"
          }
         ],
         "type": "array"
        },
        "crs": {
         "const": "WGS84",
         "type": "string"
        },
        "spatial_res": {
         "const": 0.05,
         "type": "number"
        },
        "time_period": {
         "const": "1D",
         "type": "string"
        },
        "time_range": {
         "items": [
          {
           "format": "date",
           "maxDate": "2010-12-31",
           "minDate": "1991-08-31",
           "type": "string"
          },
          {
           "format": "date",
           "maxDate": "2010-12-31",
           "minDate": "1991-08-31",
           "type": "string"
          }
         ],
         "type": "array"
        },
        "variable_names": {
         "items": {
          "enum": [
           "analysed_sst",
           "analysis_error",
           "sea_ice_fraction",
           "sea_ice_fraction_error",
           "mask"
          ],
          "type": "string"
         },
         "type": "array"
        }
       },
       "type": "object"
      },
      "text/plain": [
       "<xcube.util.jsonschema.JsonObjectSchema at 0x7f016b48f1d0>"
      ]
     },
     "execution_count": 10,
     "metadata": {},
     "output_type": "execute_result"
    }
   ],
   "source": [
    "store.get_open_data_params_schema('esacci.SST.day.L4.SSTdepth.multi-sensor.multi-platform.OSTIA.1-1.r1')"
   ]
  },
  {
   "cell_type": "markdown",
   "metadata": {},
   "source": [
    "There are no required parameters, so we can decide what parameters we would like to provide them to open a dataset:"
   ]
  },
  {
   "cell_type": "code",
   "execution_count": 11,
   "metadata": {},
   "outputs": [
    {
     "ename": "KeyError",
     "evalue": "'variables'",
     "output_type": "error",
     "traceback": [
      "\u001b[0;31m---------------------------------------------------------------------------\u001b[0m",
      "\u001b[0;31mKeyError\u001b[0m                                  Traceback (most recent call last)",
      "\u001b[0;32m<ipython-input-11-58427c0de19f>\u001b[0m in \u001b[0;36m<module>\u001b[0;34m\u001b[0m\n\u001b[1;32m      1\u001b[0m dataset = store.open_data('esacci.SST.day.L4.SSTdepth.multi-sensor.multi-platform.OSTIA.1-1.r1', \n\u001b[1;32m      2\u001b[0m                           \u001b[0mvariable_names\u001b[0m\u001b[0;34m=\u001b[0m\u001b[0;34m[\u001b[0m\u001b[0;34m'analysed_sst'\u001b[0m\u001b[0;34m]\u001b[0m\u001b[0;34m,\u001b[0m\u001b[0;34m\u001b[0m\u001b[0;34m\u001b[0m\u001b[0m\n\u001b[0;32m----> 3\u001b[0;31m                           time_range=['2008-07-01','2008-07-10'])\n\u001b[0m\u001b[1;32m      4\u001b[0m \u001b[0;34m\u001b[0m\u001b[0m\n\u001b[1;32m      5\u001b[0m \u001b[0mdataset\u001b[0m\u001b[0;34m\u001b[0m\u001b[0;34m\u001b[0m\u001b[0m\n",
      "\u001b[0;32m~/Desktop/projects/xcube-cci/xcube_cci/dataaccess.py\u001b[0m in \u001b[0;36mopen_data\u001b[0;34m(self, data_id, opener_id, **open_params)\u001b[0m\n\u001b[1;32m    486\u001b[0m \u001b[0;34m\u001b[0m\u001b[0m\n\u001b[1;32m    487\u001b[0m     \u001b[0;32mdef\u001b[0m \u001b[0mopen_data\u001b[0m\u001b[0;34m(\u001b[0m\u001b[0mself\u001b[0m\u001b[0;34m,\u001b[0m \u001b[0mdata_id\u001b[0m\u001b[0;34m:\u001b[0m \u001b[0mstr\u001b[0m\u001b[0;34m,\u001b[0m \u001b[0mopener_id\u001b[0m\u001b[0;34m:\u001b[0m \u001b[0mstr\u001b[0m \u001b[0;34m=\u001b[0m \u001b[0;32mNone\u001b[0m\u001b[0;34m,\u001b[0m \u001b[0;34m**\u001b[0m\u001b[0mopen_params\u001b[0m\u001b[0;34m)\u001b[0m \u001b[0;34m->\u001b[0m \u001b[0mxr\u001b[0m\u001b[0;34m.\u001b[0m\u001b[0mDataset\u001b[0m\u001b[0;34m:\u001b[0m\u001b[0;34m\u001b[0m\u001b[0;34m\u001b[0m\u001b[0m\n\u001b[0;32m--> 488\u001b[0;31m         \u001b[0;32mreturn\u001b[0m \u001b[0mself\u001b[0m\u001b[0;34m.\u001b[0m\u001b[0m_get_opener\u001b[0m\u001b[0;34m(\u001b[0m\u001b[0mopener_id\u001b[0m\u001b[0;34m=\u001b[0m\u001b[0mopener_id\u001b[0m\u001b[0;34m)\u001b[0m\u001b[0;34m.\u001b[0m\u001b[0mopen_data\u001b[0m\u001b[0;34m(\u001b[0m\u001b[0mdata_id\u001b[0m\u001b[0;34m,\u001b[0m \u001b[0;34m**\u001b[0m\u001b[0mopen_params\u001b[0m\u001b[0;34m)\u001b[0m\u001b[0;34m\u001b[0m\u001b[0;34m\u001b[0m\u001b[0m\n\u001b[0m\u001b[1;32m    489\u001b[0m \u001b[0;34m\u001b[0m\u001b[0m\n\u001b[1;32m    490\u001b[0m     \u001b[0;31m#############################################################################\u001b[0m\u001b[0;34m\u001b[0m\u001b[0;34m\u001b[0m\u001b[0;34m\u001b[0m\u001b[0m\n",
      "\u001b[0;32m~/Desktop/projects/xcube-cci/xcube_cci/dataaccess.py\u001b[0m in \u001b[0;36mopen_data\u001b[0;34m(self, data_id, **open_params)\u001b[0m\n\u001b[1;32m    217\u001b[0m         ))\n\u001b[1;32m    218\u001b[0m         \u001b[0mmax_cache_size\u001b[0m\u001b[0;34m:\u001b[0m \u001b[0mint\u001b[0m \u001b[0;34m=\u001b[0m \u001b[0;36m2\u001b[0m \u001b[0;34m**\u001b[0m \u001b[0;36m30\u001b[0m\u001b[0;34m\u001b[0m\u001b[0;34m\u001b[0m\u001b[0m\n\u001b[0;32m--> 219\u001b[0;31m         \u001b[0mchunk_store\u001b[0m \u001b[0;34m=\u001b[0m \u001b[0mCciChunkStore\u001b[0m\u001b[0;34m(\u001b[0m\u001b[0mself\u001b[0m\u001b[0;34m.\u001b[0m\u001b[0m_cci_odp\u001b[0m\u001b[0;34m,\u001b[0m \u001b[0mdata_id\u001b[0m\u001b[0;34m,\u001b[0m \u001b[0mcube_kwargs\u001b[0m\u001b[0;34m)\u001b[0m\u001b[0;34m\u001b[0m\u001b[0;34m\u001b[0m\u001b[0m\n\u001b[0m\u001b[1;32m    220\u001b[0m         \u001b[0;32mif\u001b[0m \u001b[0mmax_cache_size\u001b[0m\u001b[0;34m:\u001b[0m\u001b[0;34m\u001b[0m\u001b[0;34m\u001b[0m\u001b[0m\n\u001b[1;32m    221\u001b[0m             \u001b[0mchunk_store\u001b[0m \u001b[0;34m=\u001b[0m \u001b[0mzarr\u001b[0m\u001b[0;34m.\u001b[0m\u001b[0mLRUStoreCache\u001b[0m\u001b[0;34m(\u001b[0m\u001b[0mchunk_store\u001b[0m\u001b[0;34m,\u001b[0m \u001b[0mmax_cache_size\u001b[0m\u001b[0;34m)\u001b[0m\u001b[0;34m\u001b[0m\u001b[0;34m\u001b[0m\u001b[0m\n",
      "\u001b[0;32m~/Desktop/projects/xcube-cci/xcube_cci/chunkstore.py\u001b[0m in \u001b[0;36m__init__\u001b[0;34m(self, cci_odp, dataset_id, cube_params, observer, trace_store_calls)\u001b[0m\n\u001b[1;32m    538\u001b[0m                          \u001b[0mcube_params\u001b[0m\u001b[0;34m,\u001b[0m\u001b[0;34m\u001b[0m\u001b[0;34m\u001b[0m\u001b[0m\n\u001b[1;32m    539\u001b[0m                          \u001b[0mobserver\u001b[0m\u001b[0;34m=\u001b[0m\u001b[0mobserver\u001b[0m\u001b[0;34m,\u001b[0m\u001b[0;34m\u001b[0m\u001b[0;34m\u001b[0m\u001b[0m\n\u001b[0;32m--> 540\u001b[0;31m                          trace_store_calls=trace_store_calls)\n\u001b[0m\u001b[1;32m    541\u001b[0m \u001b[0;34m\u001b[0m\u001b[0m\n\u001b[1;32m    542\u001b[0m     \u001b[0;32mdef\u001b[0m \u001b[0m_extract_time_range_as_datetime\u001b[0m\u001b[0;34m(\u001b[0m\u001b[0mself\u001b[0m\u001b[0;34m,\u001b[0m \u001b[0mtime_range\u001b[0m\u001b[0;34m:\u001b[0m \u001b[0mUnion\u001b[0m\u001b[0;34m[\u001b[0m\u001b[0mTuple\u001b[0m\u001b[0;34m,\u001b[0m \u001b[0mList\u001b[0m\u001b[0;34m]\u001b[0m\u001b[0;34m)\u001b[0m \u001b[0;34m->\u001b[0m \u001b[0;34m(\u001b[0m\u001b[0mdatetime\u001b[0m\u001b[0;34m,\u001b[0m \u001b[0mdatetime\u001b[0m\u001b[0;34m,\u001b[0m \u001b[0mstr\u001b[0m\u001b[0;34m,\u001b[0m \u001b[0mstr\u001b[0m\u001b[0;34m)\u001b[0m\u001b[0;34m:\u001b[0m\u001b[0;34m\u001b[0m\u001b[0;34m\u001b[0m\u001b[0m\n",
      "\u001b[0;32m~/Desktop/projects/xcube-cci/xcube_cci/chunkstore.py\u001b[0m in \u001b[0;36m__init__\u001b[0;34m(self, data_id, cube_params, observer, trace_store_calls)\u001b[0m\n\u001b[1;32m     67\u001b[0m         \u001b[0;32mif\u001b[0m \u001b[0;32mnot\u001b[0m \u001b[0mcube_params\u001b[0m\u001b[0;34m:\u001b[0m\u001b[0;34m\u001b[0m\u001b[0;34m\u001b[0m\u001b[0m\n\u001b[1;32m     68\u001b[0m             \u001b[0mcube_params\u001b[0m \u001b[0;34m=\u001b[0m \u001b[0;34m{\u001b[0m\u001b[0;34m}\u001b[0m\u001b[0;34m\u001b[0m\u001b[0;34m\u001b[0m\u001b[0m\n\u001b[0;32m---> 69\u001b[0;31m         \u001b[0mself\u001b[0m\u001b[0;34m.\u001b[0m\u001b[0m_variable_names\u001b[0m \u001b[0;34m=\u001b[0m \u001b[0mcube_params\u001b[0m\u001b[0;34m.\u001b[0m\u001b[0mget\u001b[0m\u001b[0;34m(\u001b[0m\u001b[0;34m'variable_names'\u001b[0m\u001b[0;34m,\u001b[0m \u001b[0mself\u001b[0m\u001b[0;34m.\u001b[0m\u001b[0mget_all_variable_names\u001b[0m\u001b[0;34m(\u001b[0m\u001b[0;34m)\u001b[0m\u001b[0;34m)\u001b[0m\u001b[0;34m\u001b[0m\u001b[0;34m\u001b[0m\u001b[0m\n\u001b[0m\u001b[1;32m     70\u001b[0m         \u001b[0mself\u001b[0m\u001b[0;34m.\u001b[0m\u001b[0m_observers\u001b[0m \u001b[0;34m=\u001b[0m \u001b[0;34m[\u001b[0m\u001b[0mobserver\u001b[0m\u001b[0;34m]\u001b[0m \u001b[0;32mif\u001b[0m \u001b[0mobserver\u001b[0m \u001b[0;32mis\u001b[0m \u001b[0;32mnot\u001b[0m \u001b[0;32mNone\u001b[0m \u001b[0;32melse\u001b[0m \u001b[0;34m[\u001b[0m\u001b[0;34m]\u001b[0m\u001b[0;34m\u001b[0m\u001b[0;34m\u001b[0m\u001b[0m\n\u001b[1;32m     71\u001b[0m         \u001b[0mself\u001b[0m\u001b[0;34m.\u001b[0m\u001b[0m_trace_store_calls\u001b[0m \u001b[0;34m=\u001b[0m \u001b[0mtrace_store_calls\u001b[0m\u001b[0;34m\u001b[0m\u001b[0;34m\u001b[0m\u001b[0m\n",
      "\u001b[0;32m~/Desktop/projects/xcube-cci/xcube_cci/chunkstore.py\u001b[0m in \u001b[0;36mget_all_variable_names\u001b[0;34m(self)\u001b[0m\n\u001b[1;32m    611\u001b[0m \u001b[0;34m\u001b[0m\u001b[0m\n\u001b[1;32m    612\u001b[0m     \u001b[0;32mdef\u001b[0m \u001b[0mget_all_variable_names\u001b[0m\u001b[0;34m(\u001b[0m\u001b[0mself\u001b[0m\u001b[0;34m)\u001b[0m \u001b[0;34m->\u001b[0m \u001b[0mList\u001b[0m\u001b[0;34m[\u001b[0m\u001b[0mstr\u001b[0m\u001b[0;34m]\u001b[0m\u001b[0;34m:\u001b[0m\u001b[0;34m\u001b[0m\u001b[0;34m\u001b[0m\u001b[0m\n\u001b[0;32m--> 613\u001b[0;31m         \u001b[0;32mreturn\u001b[0m \u001b[0;34m[\u001b[0m\u001b[0mvariable\u001b[0m\u001b[0;34m[\u001b[0m\u001b[0;34m'name'\u001b[0m\u001b[0;34m]\u001b[0m \u001b[0;32mfor\u001b[0m \u001b[0mvariable\u001b[0m \u001b[0;32min\u001b[0m \u001b[0mself\u001b[0m\u001b[0;34m.\u001b[0m\u001b[0m_metadata\u001b[0m\u001b[0;34m[\u001b[0m\u001b[0;34m'variables'\u001b[0m\u001b[0;34m]\u001b[0m\u001b[0;34m]\u001b[0m\u001b[0;34m\u001b[0m\u001b[0;34m\u001b[0m\u001b[0m\n\u001b[0m\u001b[1;32m    614\u001b[0m \u001b[0;34m\u001b[0m\u001b[0m\n\u001b[1;32m    615\u001b[0m     \u001b[0;32mdef\u001b[0m \u001b[0mget_dimension_data\u001b[0m\u001b[0;34m(\u001b[0m\u001b[0mself\u001b[0m\u001b[0;34m,\u001b[0m \u001b[0mdataset_id\u001b[0m\u001b[0;34m:\u001b[0m \u001b[0mstr\u001b[0m\u001b[0;34m)\u001b[0m\u001b[0;34m:\u001b[0m\u001b[0;34m\u001b[0m\u001b[0;34m\u001b[0m\u001b[0m\n",
      "\u001b[0;31mKeyError\u001b[0m: 'variables'"
     ]
    }
   ],
   "source": [
    "dataset = store.open_data('esacci.SST.day.L4.SSTdepth.multi-sensor.multi-platform.OSTIA.1-1.r1', \n",
    "                          variable_names=['analysed_sst'],\n",
    "                          time_range=['2008-07-01','2008-07-10'])\n",
    "\n",
    "dataset"
   ]
  },
  {
   "cell_type": "markdown",
   "metadata": {},
   "source": [
    "Plot one time stamp of the dataset for a analysed_sst in order to take a brief look at the dataset:  "
   ]
  },
  {
   "cell_type": "code",
   "execution_count": null,
   "metadata": {},
   "outputs": [],
   "source": [
    "dataset.analysed_sst.isel(time=1).plot.imshow(cmap='plasma')"
   ]
  },
  {
   "cell_type": "code",
   "execution_count": null,
   "metadata": {},
   "outputs": [],
   "source": []
  }
 ],
 "metadata": {
  "kernelspec": {
   "display_name": "Python 3",
   "language": "python",
   "name": "python3"
  },
  "language_info": {
   "codemirror_mode": {
    "name": "ipython",
    "version": 3
   },
   "file_extension": ".py",
   "mimetype": "text/x-python",
   "name": "python",
   "nbconvert_exporter": "python",
   "pygments_lexer": "ipython3",
   "version": "3.7.6"
  }
 },
 "nbformat": 4,
 "nbformat_minor": 4
}

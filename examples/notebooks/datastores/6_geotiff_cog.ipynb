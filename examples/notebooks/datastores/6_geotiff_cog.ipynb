{
 "cells": [
  {
   "cell_type": "markdown",
   "id": "04bd9600-f5c8-48e6-93e5-8b9a68752d4c",
   "metadata": {},
   "source": [
    "## xcube Data Store Framework - GeoTIFF and Cloud Optimized GeoTIFF (COG)"
   ]
  },
  {
   "cell_type": "markdown",
   "id": "9a5e6c78-4aaa-4239-ac59-234884e12a9a",
   "metadata": {},
   "source": [
    "*Please checkout the general introduction to xcube data stores in the Jupyter Notebook [Getting Started](./1_getting_started.ipynb) before jumping into this notebook :)* \n",
    "\n",
    "This notebook explains how to open multi-resolution datasets (image pyramids) from a COG file using the `file` or `s3` data stores."
   ]
  },
  {
   "cell_type": "code",
   "execution_count": null,
   "id": "ff2e1ff8-bc35-400f-958b-f890ea0af1c2",
   "metadata": {},
   "outputs": [],
   "source": [
    "from xcube.core.new import new_cube\n",
    "from xcube.core.store import find_data_store_extensions\n",
    "from xcube.core.store import get_data_store_params_schema\n",
    "from xcube.core.store import new_data_store\n",
    "from xcube.core.store import new_data_writer"
   ]
  },
  {
   "cell_type": "markdown",
   "id": "2c459062-533d-401d-86bb-c25de9206ab5",
   "metadata": {},
   "source": [
    "### Getting prepared"
   ]
  },
  {
   "cell_type": "markdown",
   "id": "26e8732d-664b-49a9-ad55-a790d74d1e0a",
   "metadata": {},
   "source": [
    "Get a data store instance. We use the local filesystem here (\"file\"), you can also AWS S3 (\"s3\") if you have a writable bucket (= root)."
   ]
  },
  {
   "cell_type": "code",
   "execution_count": null,
   "id": "431d15c1-8589-4293-874c-c18c53256d03",
   "metadata": {},
   "outputs": [],
   "source": [
    "data_store = new_data_store(\"file\", root=\"../../../examples/serve/demo\")  # Could also use \"s3\""
   ]
  },
  {
   "cell_type": "markdown",
   "id": "cb488844-1d82-4ea3-b408-c54acac944c4",
   "metadata": {},
   "source": [
    "Get available data openers and writers. \n",
    "Data opener and writer identifiers use the format `{data_type}:{format_name}:{storage_type}`."
   ]
  },
  {
   "cell_type": "code",
   "execution_count": null,
   "id": "dbf3ee4e-de86-4c7f-9d78-296ef35d0643",
   "metadata": {},
   "outputs": [],
   "source": [
    "data_store.get_data_opener_ids()"
   ]
  },
  {
   "cell_type": "code",
   "execution_count": null,
   "id": "d153eae8-7fd6-4195-8618-8dd1ec168f9c",
   "metadata": {},
   "outputs": [],
   "source": [
    "list(data_store.get_data_ids())"
   ]
  },
  {
   "cell_type": "markdown",
   "id": "c1f38c2f-51d4-48f9-bd59-90c58e40cd27",
   "metadata": {},
   "source": [
    "### Open COG"
   ]
  },
  {
   "cell_type": "code",
   "execution_count": null,
   "id": "1846baf5-0fb0-4b7e-b293-0d3463ae75ff",
   "metadata": {},
   "outputs": [],
   "source": [
    "ml_dataset = data_store.get_open(\"cog-example.tif\")"
   ]
  },
  {
   "cell_type": "code",
   "execution_count": null,
   "id": "0f581a04-0694-47a4-b8a2-e610f6b6417a",
   "metadata": {},
   "outputs": [],
   "source": [
    "ml_dataset.num_levels"
   ]
  },
  {
   "cell_type": "markdown",
   "id": "8c61e325-0e0c-4047-b449-965f506694af",
   "metadata": {},
   "source": [
    "Inspect the new multi-level dataset. Check spatial chunking or `tile_size`:"
   ]
  },
  {
   "cell_type": "code",
   "execution_count": null,
   "id": "09c19884-171a-40bd-a355-6f6ece9fd061",
   "metadata": {},
   "outputs": [],
   "source": [
    "ml_dataset.grid_mapping"
   ]
  },
  {
   "cell_type": "code",
   "execution_count": null,
   "id": "bb28b674-26cc-4674-9fca-ef3ace25ec60",
   "metadata": {},
   "outputs": [],
   "source": [
    "for level in range(ml_dataset.num_levels):\n",
    "    dataset_i = ml_dataset.get_dataset(level)\n",
    "    display(dataset_i)"
   ]
  }
 ],
 "metadata": {
  "kernelspec": {
   "display_name": "Python 3 (ipykernel)",
   "language": "python",
   "name": "python3"
  },
  "language_info": {
   "codemirror_mode": {
    "name": "ipython",
    "version": 3
   },
   "file_extension": ".py",
   "mimetype": "text/x-python",
   "name": "python",
   "nbconvert_exporter": "python",
   "pygments_lexer": "ipython3",
   "version": "3.9.12"
  }
 },
 "nbformat": 4,
 "nbformat_minor": 5
}

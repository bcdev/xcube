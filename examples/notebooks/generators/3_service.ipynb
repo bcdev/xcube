{
 "cells": [
  {
   "cell_type": "markdown",
   "id": "outer-religion",
   "metadata": {},
   "source": [
    "## xcube Data Cube Generator Service\n",
    "\n",
    "This notebook provides a walk-through demonstrating how to use the _data cube generator service_.\n",
    "\n",
    "An introduction to the xcube data cube generators can be found in the [Getting Started](./1_getting_started.ipynb) Notebook.\n",
    "The data cube generator service demonstrated here is a Python client for the [xcube Generator service API](https://stage.xcube-gen.brockmann-consult.de/api/v2/ui/).\n",
    "\n",
    "Service processing units and credentials can be obtained by purchasing the API Service **xcube Generator** from the [EuroDataCube Marketplace](https://www.eurodatacube.com/marketplace).\n",
    "\n",
    "The Python client is represented by the class `CubeGeneratorService`. Instances of this are created by passing it a \n",
    "`CubeGeneratorRequest` and a `ServiceConfig` instance. Here are imports for the named classes:"
   ]
  },
  {
   "cell_type": "code",
   "execution_count": null,
   "id": "civilian-pierre",
   "metadata": {},
   "outputs": [],
   "source": [
    "from xcube.core.gen2 import CubeGeneratorRequest\n",
    "from xcube.core.gen2.service import CubeGeneratorService\n",
    "from xcube.core.gen2.service import ServiceConfig"
   ]
  },
  {
   "cell_type": "markdown",
   "id": "spoken-denver",
   "metadata": {},
   "source": [
    "We first need to provide `client_id` and `client_secret` to authorize for using the service. \n",
    "An `endpoint_url` is optional and defaults to the standard endpoint for the EuroDataCube cube generation service."
   ]
  },
  {
   "cell_type": "code",
   "execution_count": null,
   "id": "broad-metro",
   "metadata": {},
   "outputs": [],
   "source": [
    "service_config_json = {\n",
    "    \"client_id\": \"...\",\n",
    "    \"client_secret\": \"...\"\n",
    "}"
   ]
  },
  {
   "cell_type": "markdown",
   "id": "conventional-housing",
   "metadata": {},
   "source": [
    "However, it is much saver to ingest service configuration from a JSON or YAML file (the file path used must be adjusted):"
   ]
  },
  {
   "cell_type": "code",
   "execution_count": null,
   "id": "second-disclaimer",
   "metadata": {},
   "outputs": [],
   "source": [
    "import yaml\n",
    "with open('../../../edc-service.yml') as fp:\n",
    "    service_config_json = yaml.safe_load(fp)"
   ]
  },
  {
   "cell_type": "markdown",
   "id": "emotional-southeast",
   "metadata": {},
   "source": [
    "Validate and convert `service_config_json` to a service configuration object:"
   ]
  },
  {
   "cell_type": "code",
   "execution_count": null,
   "id": "racial-clark",
   "metadata": {},
   "outputs": [],
   "source": [
    "service_config = ServiceConfig.from_dict(service_config_json)"
   ]
  },
  {
   "cell_type": "markdown",
   "id": "noticed-tennis",
   "metadata": {},
   "source": [
    "Now we define the _cube generator request_. \n",
    "The following example is supposed to read an `S2L2A` dataset from the Sentinel Hub data store (`input_config`), \n",
    "using numerous target cube parameters(`cube_config`), and\n",
    "writes the target cube to a well-known scratch bucket in AWS S3 (`output_config`).\n",
    "\n",
    "This is how a _cube generator request_ looks as a (JSON) dictionary:"
   ]
  },
  {
   "cell_type": "code",
   "execution_count": null,
   "id": "trained-homeless",
   "metadata": {},
   "outputs": [],
   "source": [
    "request_json = {\n",
    "  \"input_config\": {\n",
    "    \"store_id\": \"@sentinelhub_eu\",\n",
    "    \"data_id\": \"S2L2A\"\n",
    "  },\n",
    "  \"cube_config\": {\n",
    "    \"variable_names\": [\"B04\", \"B05\"],\n",
    "    \"bbox\": [7, 53, 9, 55],\n",
    "    \"spatial_res\": 0.001,\n",
    "    \"tile_size\": [1024, 1024],\n",
    "    \"crs\": \"WGS84\",\n",
    "    \"time_range\": [\"2019-08-05\", \"2019-08-10\"],\n",
    "    \"time_period\": \"1D\"\n",
    "  },\n",
    "  \"output_config\": {\n",
    "    \"store_id\": \"@eurodatacube_scratch\",\n",
    "    \"data_id\": \"S2L2A_B04_B05_7_53_9_55.zarr\",\n",
    "    \"replace\": True\n",
    "  }\n",
    "}"
   ]
  },
  {
   "cell_type": "markdown",
   "id": "assured-decade",
   "metadata": {},
   "source": [
    "Validate and convert `request_json` to a request object:"
   ]
  },
  {
   "cell_type": "code",
   "execution_count": null,
   "id": "adult-mystery",
   "metadata": {},
   "outputs": [],
   "source": [
    "request = CubeGeneratorRequest.from_dict(request_json)\n",
    "request"
   ]
  },
  {
   "cell_type": "markdown",
   "id": "running-vertical",
   "metadata": {},
   "source": [
    "Instantiate the generator object:"
   ]
  },
  {
   "cell_type": "code",
   "execution_count": null,
   "id": "streaming-oxygen",
   "metadata": {},
   "outputs": [],
   "source": [
    "gen = CubeGeneratorService(request, service_config, verbosity=1)"
   ]
  },
  {
   "cell_type": "markdown",
   "id": "lightweight-angola",
   "metadata": {},
   "source": [
    "Get some information about the cube that would be generated by `gen` (this may take several seconds to complete):"
   ]
  },
  {
   "cell_type": "code",
   "execution_count": null,
   "id": "happy-executive",
   "metadata": {},
   "outputs": [],
   "source": [
    "cube_info = gen.get_cube_info()\n",
    "cube_info"
   ]
  },
  {
   "cell_type": "markdown",
   "id": "elegant-moisture",
   "metadata": {},
   "source": [
    "Now perform the actual cube generation (this may take up to a minute):"
   ]
  },
  {
   "cell_type": "code",
   "execution_count": null,
   "id": "coated-chaos",
   "metadata": {},
   "outputs": [],
   "source": [
    "cube_id = gen.generate_cube()\n",
    "cube_id"
   ]
  },
  {
   "cell_type": "markdown",
   "id": "chicken-tamil",
   "metadata": {},
   "source": [
    "Let's open the generated cube. Cubes generated into the store \"@eurodatacube_scratch\" \n",
    "can be accessed via URL template \"https://s3.eu-central-1.amazonaws.com/eurodatacube-scratch/{cube_id}\":"
   ]
  },
  {
   "cell_type": "code",
   "execution_count": null,
   "id": "anticipated-washer",
   "metadata": {},
   "outputs": [],
   "source": [
    "from xcube.core.dsio import open_cube\n",
    "cube = open_cube(f'https://s3.eu-central-1.amazonaws.com/eurodatacube-scratch/{cube_id}')\n",
    "cube"
   ]
  },
  {
   "cell_type": "code",
   "execution_count": null,
   "id": "technological-austin",
   "metadata": {},
   "outputs": [],
   "source": []
  },
  {
   "cell_type": "markdown",
   "id": "southeast-prior",
   "metadata": {},
   "source": [
    "_This is a work in progress. More material will follow in an upcoming xcube release._"
   ]
  },
  {
   "cell_type": "code",
   "execution_count": null,
   "id": "legislative-halifax",
   "metadata": {},
   "outputs": [],
   "source": []
  }
 ],
 "metadata": {
  "kernelspec": {
   "display_name": "Python 3",
   "language": "python",
   "name": "python3"
  },
  "language_info": {
   "codemirror_mode": {
    "name": "ipython",
    "version": 3
   },
   "file_extension": ".py",
   "mimetype": "text/x-python",
   "name": "python",
   "nbconvert_exporter": "python",
   "pygments_lexer": "ipython3",
   "version": "3.8.8"
  }
 },
 "nbformat": 4,
 "nbformat_minor": 5
}

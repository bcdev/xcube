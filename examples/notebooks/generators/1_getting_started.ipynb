{
 "cells": [
  {
   "cell_type": "markdown",
   "id": "secret-array",
   "metadata": {},
   "source": [
    "## Getting Started with xcube Data Cube Generators"
   ]
  },
  {
   "cell_type": "markdown",
   "id": "twelve-litigation",
   "metadata": {},
   "source": [
    "This notebook provides an overview of the available *xcube data cube generators*.\n",
    "\n",
    "The *xcube data cube generators* provide a uniform way \n",
    "\n",
    "* to read datasets from various sources using the _xcube data store framework_;\n",
    "* to combine the sources into a single data cube;\n",
    "* to write the data cube to a dedicated target, again using the _xcube data store framework_.\n",
    "\n",
    "Currently, xcube provides two generators, one for local execution and another one for utilisation \n",
    "of a dedicated generator service API. Here are the dedicated Notebooks:\n",
    "\n",
    "* [Local Cube Generator](./2_local.ipynb)\n",
    "* [Cube Generator Service](./3_service.ipynb)\n",
    "\n",
    "The xcube data store framework also has a some [dedicated notebooks](../datastores/1_getting_started.ipynb)."
   ]
  },
  {
   "cell_type": "markdown",
   "id": "empty-response",
   "metadata": {},
   "source": [
    "The class `LocalCubeGenerator` provides a local cube generator:"
   ]
  },
  {
   "cell_type": "code",
   "execution_count": 1,
   "id": "separate-defendant",
   "metadata": {},
   "outputs": [],
   "source": [
    "from xcube.core.gen2 import LocalCubeGenerator"
   ]
  },
  {
   "cell_type": "markdown",
   "id": "accessible-zoning",
   "metadata": {},
   "source": [
    "The class `RemoteCubeGenerator` is a client for a cube generator service:"
   ]
  },
  {
   "cell_type": "code",
   "execution_count": 2,
   "id": "moderate-large",
   "metadata": {},
   "outputs": [],
   "source": [
    "from xcube.core.gen2.service import RemoteCubeGenerator"
   ]
  },
  {
   "cell_type": "markdown",
   "id": "regional-prospect",
   "metadata": {},
   "source": [
    "Both classes, when instantiated with a _cube generator request_, provide two methods:\n",
    "\n",
    "* `get_cube_info()` provides some information about the cube that would be generated. It doe not generate the cube.\n",
    "* `generate_cube()` generates the cube and returns a reference to the newly created cube."
   ]
  },
  {
   "cell_type": "code",
   "execution_count": null,
   "id": "decimal-transformation",
   "metadata": {},
   "outputs": [],
   "source": []
  },
  {
   "cell_type": "markdown",
   "id": "hollow-oregon",
   "metadata": {},
   "source": [
    "_This is a work in progress. More material will follow in an upcoming xcube release._"
   ]
  },
  {
   "cell_type": "code",
   "execution_count": null,
   "id": "banner-olive",
   "metadata": {},
   "outputs": [],
   "source": []
  }
 ],
 "metadata": {
  "kernelspec": {
   "display_name": "Python 3",
   "language": "python",
   "name": "python3"
  },
  "language_info": {
   "codemirror_mode": {
    "name": "ipython",
    "version": 3
   },
   "file_extension": ".py",
   "mimetype": "text/x-python",
   "name": "python",
   "nbconvert_exporter": "python",
   "pygments_lexer": "ipython3",
   "version": "3.8.8"
  }
 },
 "nbformat": 4,
 "nbformat_minor": 5
}

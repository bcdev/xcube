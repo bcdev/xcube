{
 "cells": [
  {
   "attachments": {},
   "cell_type": "markdown",
   "metadata": {},
   "source": [
    "### Below is an example code on how to directly access code from an Azure Blob Storage"
   ]
  },
  {
   "cell_type": "code",
   "execution_count": 1,
   "metadata": {},
   "outputs": [],
   "source": [
    "from xcube.core.store import new_data_store"
   ]
  },
  {
   "attachments": {},
   "cell_type": "markdown",
   "metadata": {},
   "source": [
    "### Use 'abfs' aas protocol for azure blob Gen2 storage\n",
    "\n",
    "#### for the data storeage params you use account_name with account_key or just the connection_string"
   ]
  },
  {
   "cell_type": "code",
   "execution_count": null,
   "metadata": {},
   "outputs": [],
   "source": [
    "cubes = 'cube-container'\n",
    "data_store_params = {'anon':True, 'account_name':\"azureblob\", 'account_key':'dskf/dslfkj......'} "
   ]
  },
  {
   "cell_type": "code",
   "execution_count": null,
   "metadata": {},
   "outputs": [],
   "source": [
    "wq_store = new_data_store(\"abfs\", root=cubes, storage_options=data_store_params)\n",
    "\n",
    "[f for f in wq_store.get_data_ids()]"
   ]
  }
 ],
 "metadata": {
  "kernelspec": {
   "display_name": "xcube-env",
   "language": "python",
   "name": "python3"
  },
  "language_info": {
   "codemirror_mode": {
    "name": "ipython",
    "version": 3
   },
   "file_extension": ".py",
   "mimetype": "text/x-python",
   "name": "python",
   "nbconvert_exporter": "python",
   "pygments_lexer": "ipython3",
   "version": "3.10.8"
  },
  "orig_nbformat": 4,
  "vscode": {
   "interpreter": {
    "hash": "5194e70165f8a5b51e88b99305133d940d3f757bd208fc066b8e51a320c410dc"
   }
  }
 },
 "nbformat": 4,
 "nbformat_minor": 2
}
